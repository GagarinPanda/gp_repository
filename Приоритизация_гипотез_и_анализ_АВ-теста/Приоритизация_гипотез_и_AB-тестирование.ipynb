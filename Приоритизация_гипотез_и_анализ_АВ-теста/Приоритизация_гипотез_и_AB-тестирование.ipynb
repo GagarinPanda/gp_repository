{
 "cells": [
  {
   "cell_type": "markdown",
   "metadata": {},
   "source": [
    "# Приоритизация гипотез и анализ результатов А/В-теста"
   ]
  },
  {
   "cell_type": "markdown",
   "metadata": {},
   "source": [
    "## Описание проекта"
   ]
  },
  {
   "cell_type": "markdown",
   "metadata": {},
   "source": [
    "### Цель исследования"
   ]
  },
  {
   "cell_type": "markdown",
   "metadata": {},
   "source": [
    "Приотизировать гипотезы для увеличения выручки интернет-магазина с применением фреймворков ICE и RICE, запустить и проанализировать результаты А/В-теста."
   ]
  },
  {
   "cell_type": "markdown",
   "metadata": {},
   "source": [
    "### Описание данных"
   ]
  },
  {
   "cell_type": "markdown",
   "metadata": {},
   "source": [
    "**Файл с перечнем гипотез с оценками по параметрам RICE:**\n",
    "\n",
    "`Hypothesis` — краткое описание гипотезы;\n",
    "\n",
    "`Reach` — охват пользователей по 10-балльной шкале;\n",
    "\n",
    "`Impact` — влияние на пользователей по 10-балльной шкале;\n",
    "\n",
    "`Confidence` — уверенность в гипотезе по 10-балльной шкале;\n",
    "\n",
    "`Efforts` — затраты ресурсов на проверку гипотезы по 10-балльной шкале.\n",
    "\n",
    "**Сведения о заказах в интернет магазине:**\n",
    "\n",
    "`transactionId` — идентификатор заказа;\n",
    "\n",
    "`visitorId` — идентификатор пользователя, совершившего заказ;\n",
    "\n",
    "`date` — дата, когда был совершён заказ;\n",
    "\n",
    "`revenue` — выручка заказа;\n",
    "\n",
    "`group` — группа A/B-теста, в которую попал заказ.\n",
    "\n",
    "**Данные по А/В-тесту:**\n",
    "\n",
    "`date` — дата;\n",
    "\n",
    "`group` — группа A/B-теста;\n",
    "\n",
    "`visitors` — количество пользователей в указанную дату в указанной группе A/B-теста."
   ]
  },
  {
   "cell_type": "markdown",
   "metadata": {},
   "source": [
    "### Ход исследования"
   ]
  },
  {
   "cell_type": "markdown",
   "metadata": {},
   "source": [
    "1. Приоритизация гипотез с применением фреймворков ICE и RICE.\n",
    "\n",
    "2. Выполнение анализа результатов A/B-теста:                 \n",
    "- построить графики кумулятивной выручки, кумулятивного среднего чека и кумулятивной конверсии по группам, относительного изменения кумулятивного среднего чека и кумулятивной конверсии группы B к группе А;\n",
    "- выбрать границы для определения аномальных пользователей и аномальных заказов путём построения точечных графиков и рассчёта 95-ого и 99-ого перцентилей;\n",
    "- посчитать статистическую значимость различий в конверсии и среднем чеке между группами по \"сырым\" и \"очищенным данным\";\n",
    "- принять обоснованное решение по результатам теста."
   ]
  },
  {
   "cell_type": "markdown",
   "metadata": {},
   "source": [
    "## Приоритизация гипотез"
   ]
  },
  {
   "cell_type": "code",
   "execution_count": 1,
   "metadata": {},
   "outputs": [
    {
     "name": "stderr",
     "output_type": "stream",
     "text": [
      "/tmp/ipykernel_63/2675629291.py:6: FutureWarning: Passing a negative integer is deprecated in version 1.0 and will not be supported in future version. Instead, use None to not limit the column width.\n",
      "  pd.set_option('display.max_colwidth', -1)\n"
     ]
    }
   ],
   "source": [
    "import pandas as pd\n",
    "import matplotlib.pyplot as plt\n",
    "import datetime as dt\n",
    "import numpy as np\n",
    "from scipy import stats as st\n",
    "pd.set_option('display.max_colwidth', -1)\n",
    "import warnings\n",
    "\n",
    "warnings.filterwarnings(\"ignore\")"
   ]
  },
  {
   "cell_type": "code",
   "execution_count": 2,
   "metadata": {},
   "outputs": [],
   "source": [
    "hypothesis = pd.read_csv('/datasets/hypothesis.csv')\n",
    "orders = pd.read_csv('/datasets/orders.csv')\n",
    "visitors = pd.read_csv('/datasets/visitors.csv')"
   ]
  },
  {
   "cell_type": "code",
   "execution_count": 3,
   "metadata": {},
   "outputs": [
    {
     "data": {
      "text/html": [
       "<div>\n",
       "<style scoped>\n",
       "    .dataframe tbody tr th:only-of-type {\n",
       "        vertical-align: middle;\n",
       "    }\n",
       "\n",
       "    .dataframe tbody tr th {\n",
       "        vertical-align: top;\n",
       "    }\n",
       "\n",
       "    .dataframe thead th {\n",
       "        text-align: right;\n",
       "    }\n",
       "</style>\n",
       "<table border=\"1\" class=\"dataframe\">\n",
       "  <thead>\n",
       "    <tr style=\"text-align: right;\">\n",
       "      <th></th>\n",
       "      <th>Hypothesis</th>\n",
       "      <th>Reach</th>\n",
       "      <th>Impact</th>\n",
       "      <th>Confidence</th>\n",
       "      <th>Efforts</th>\n",
       "    </tr>\n",
       "  </thead>\n",
       "  <tbody>\n",
       "    <tr>\n",
       "      <th>0</th>\n",
       "      <td>Добавить два новых канала привлечения трафика, что позволит привлекать на 30% больше пользователей</td>\n",
       "      <td>3</td>\n",
       "      <td>10</td>\n",
       "      <td>8</td>\n",
       "      <td>6</td>\n",
       "    </tr>\n",
       "    <tr>\n",
       "      <th>1</th>\n",
       "      <td>Запустить собственную службу доставки, что сократит срок доставки заказов</td>\n",
       "      <td>2</td>\n",
       "      <td>5</td>\n",
       "      <td>4</td>\n",
       "      <td>10</td>\n",
       "    </tr>\n",
       "    <tr>\n",
       "      <th>2</th>\n",
       "      <td>Добавить блоки рекомендаций товаров на сайт интернет магазина, чтобы повысить конверсию и средний чек заказа</td>\n",
       "      <td>8</td>\n",
       "      <td>3</td>\n",
       "      <td>7</td>\n",
       "      <td>3</td>\n",
       "    </tr>\n",
       "    <tr>\n",
       "      <th>3</th>\n",
       "      <td>Изменить структура категорий, что увеличит конверсию, т.к. пользователи быстрее найдут нужный товар</td>\n",
       "      <td>8</td>\n",
       "      <td>3</td>\n",
       "      <td>3</td>\n",
       "      <td>8</td>\n",
       "    </tr>\n",
       "    <tr>\n",
       "      <th>4</th>\n",
       "      <td>Изменить цвет фона главной страницы, чтобы увеличить вовлеченность пользователей</td>\n",
       "      <td>3</td>\n",
       "      <td>1</td>\n",
       "      <td>1</td>\n",
       "      <td>1</td>\n",
       "    </tr>\n",
       "    <tr>\n",
       "      <th>5</th>\n",
       "      <td>Добавить страницу отзывов клиентов о магазине, что позволит увеличить количество заказов</td>\n",
       "      <td>3</td>\n",
       "      <td>2</td>\n",
       "      <td>2</td>\n",
       "      <td>3</td>\n",
       "    </tr>\n",
       "    <tr>\n",
       "      <th>6</th>\n",
       "      <td>Показать на главной странице баннеры с актуальными акциями и распродажами, чтобы увеличить конверсию</td>\n",
       "      <td>5</td>\n",
       "      <td>3</td>\n",
       "      <td>8</td>\n",
       "      <td>3</td>\n",
       "    </tr>\n",
       "    <tr>\n",
       "      <th>7</th>\n",
       "      <td>Добавить форму подписки на все основные страницы, чтобы собрать базу клиентов для email-рассылок</td>\n",
       "      <td>10</td>\n",
       "      <td>7</td>\n",
       "      <td>8</td>\n",
       "      <td>5</td>\n",
       "    </tr>\n",
       "    <tr>\n",
       "      <th>8</th>\n",
       "      <td>Запустить акцию, дающую скидку на товар в день рождения</td>\n",
       "      <td>1</td>\n",
       "      <td>9</td>\n",
       "      <td>9</td>\n",
       "      <td>5</td>\n",
       "    </tr>\n",
       "  </tbody>\n",
       "</table>\n",
       "</div>"
      ],
      "text/plain": [
       "                                                                                                     Hypothesis  \\\n",
       "0  Добавить два новых канала привлечения трафика, что позволит привлекать на 30% больше пользователей             \n",
       "1  Запустить собственную службу доставки, что сократит срок доставки заказов                                      \n",
       "2  Добавить блоки рекомендаций товаров на сайт интернет магазина, чтобы повысить конверсию и средний чек заказа   \n",
       "3  Изменить структура категорий, что увеличит конверсию, т.к. пользователи быстрее найдут нужный товар            \n",
       "4  Изменить цвет фона главной страницы, чтобы увеличить вовлеченность пользователей                               \n",
       "5  Добавить страницу отзывов клиентов о магазине, что позволит увеличить количество заказов                       \n",
       "6  Показать на главной странице баннеры с актуальными акциями и распродажами, чтобы увеличить конверсию           \n",
       "7  Добавить форму подписки на все основные страницы, чтобы собрать базу клиентов для email-рассылок               \n",
       "8  Запустить акцию, дающую скидку на товар в день рождения                                                        \n",
       "\n",
       "   Reach  Impact  Confidence  Efforts  \n",
       "0  3      10      8           6        \n",
       "1  2      5       4           10       \n",
       "2  8      3       7           3        \n",
       "3  8      3       3           8        \n",
       "4  3      1       1           1        \n",
       "5  3      2       2           3        \n",
       "6  5      3       8           3        \n",
       "7  10     7       8           5        \n",
       "8  1      9       9           5        "
      ]
     },
     "execution_count": 3,
     "metadata": {},
     "output_type": "execute_result"
    }
   ],
   "source": [
    "hypothesis"
   ]
  },
  {
   "cell_type": "markdown",
   "metadata": {},
   "source": [
    "В датасете представленно 9 гипотез с оценками по параметрам для приоритизации с использованием фреймворков ICE и RICE.\n",
    "Названия столбцов выглядят как-то не по-питоновски, исправим это."
   ]
  },
  {
   "cell_type": "code",
   "execution_count": 4,
   "metadata": {},
   "outputs": [],
   "source": [
    "hypothesis.columns = hypothesis.columns.str.lower()"
   ]
  },
  {
   "cell_type": "markdown",
   "metadata": {},
   "source": [
    "### Приоритизация фреймворком ICE"
   ]
  },
  {
   "cell_type": "code",
   "execution_count": 5,
   "metadata": {},
   "outputs": [],
   "source": [
    "hypothesis['ice'] = (hypothesis['impact'] * hypothesis['confidence'] / hypothesis['efforts']).round(1)"
   ]
  },
  {
   "cell_type": "code",
   "execution_count": 6,
   "metadata": {},
   "outputs": [
    {
     "data": {
      "text/html": [
       "<div>\n",
       "<style scoped>\n",
       "    .dataframe tbody tr th:only-of-type {\n",
       "        vertical-align: middle;\n",
       "    }\n",
       "\n",
       "    .dataframe tbody tr th {\n",
       "        vertical-align: top;\n",
       "    }\n",
       "\n",
       "    .dataframe thead th {\n",
       "        text-align: right;\n",
       "    }\n",
       "</style>\n",
       "<table border=\"1\" class=\"dataframe\">\n",
       "  <thead>\n",
       "    <tr style=\"text-align: right;\">\n",
       "      <th></th>\n",
       "      <th>hypothesis</th>\n",
       "      <th>reach</th>\n",
       "      <th>impact</th>\n",
       "      <th>confidence</th>\n",
       "      <th>efforts</th>\n",
       "      <th>ice</th>\n",
       "    </tr>\n",
       "  </thead>\n",
       "  <tbody>\n",
       "    <tr>\n",
       "      <th>8</th>\n",
       "      <td>Запустить акцию, дающую скидку на товар в день рождения</td>\n",
       "      <td>1</td>\n",
       "      <td>9</td>\n",
       "      <td>9</td>\n",
       "      <td>5</td>\n",
       "      <td>16.2</td>\n",
       "    </tr>\n",
       "    <tr>\n",
       "      <th>0</th>\n",
       "      <td>Добавить два новых канала привлечения трафика, что позволит привлекать на 30% больше пользователей</td>\n",
       "      <td>3</td>\n",
       "      <td>10</td>\n",
       "      <td>8</td>\n",
       "      <td>6</td>\n",
       "      <td>13.3</td>\n",
       "    </tr>\n",
       "    <tr>\n",
       "      <th>7</th>\n",
       "      <td>Добавить форму подписки на все основные страницы, чтобы собрать базу клиентов для email-рассылок</td>\n",
       "      <td>10</td>\n",
       "      <td>7</td>\n",
       "      <td>8</td>\n",
       "      <td>5</td>\n",
       "      <td>11.2</td>\n",
       "    </tr>\n",
       "    <tr>\n",
       "      <th>6</th>\n",
       "      <td>Показать на главной странице баннеры с актуальными акциями и распродажами, чтобы увеличить конверсию</td>\n",
       "      <td>5</td>\n",
       "      <td>3</td>\n",
       "      <td>8</td>\n",
       "      <td>3</td>\n",
       "      <td>8.0</td>\n",
       "    </tr>\n",
       "    <tr>\n",
       "      <th>2</th>\n",
       "      <td>Добавить блоки рекомендаций товаров на сайт интернет магазина, чтобы повысить конверсию и средний чек заказа</td>\n",
       "      <td>8</td>\n",
       "      <td>3</td>\n",
       "      <td>7</td>\n",
       "      <td>3</td>\n",
       "      <td>7.0</td>\n",
       "    </tr>\n",
       "    <tr>\n",
       "      <th>1</th>\n",
       "      <td>Запустить собственную службу доставки, что сократит срок доставки заказов</td>\n",
       "      <td>2</td>\n",
       "      <td>5</td>\n",
       "      <td>4</td>\n",
       "      <td>10</td>\n",
       "      <td>2.0</td>\n",
       "    </tr>\n",
       "    <tr>\n",
       "      <th>5</th>\n",
       "      <td>Добавить страницу отзывов клиентов о магазине, что позволит увеличить количество заказов</td>\n",
       "      <td>3</td>\n",
       "      <td>2</td>\n",
       "      <td>2</td>\n",
       "      <td>3</td>\n",
       "      <td>1.3</td>\n",
       "    </tr>\n",
       "    <tr>\n",
       "      <th>3</th>\n",
       "      <td>Изменить структура категорий, что увеличит конверсию, т.к. пользователи быстрее найдут нужный товар</td>\n",
       "      <td>8</td>\n",
       "      <td>3</td>\n",
       "      <td>3</td>\n",
       "      <td>8</td>\n",
       "      <td>1.1</td>\n",
       "    </tr>\n",
       "    <tr>\n",
       "      <th>4</th>\n",
       "      <td>Изменить цвет фона главной страницы, чтобы увеличить вовлеченность пользователей</td>\n",
       "      <td>3</td>\n",
       "      <td>1</td>\n",
       "      <td>1</td>\n",
       "      <td>1</td>\n",
       "      <td>1.0</td>\n",
       "    </tr>\n",
       "  </tbody>\n",
       "</table>\n",
       "</div>"
      ],
      "text/plain": [
       "                                                                                                     hypothesis  \\\n",
       "8  Запустить акцию, дающую скидку на товар в день рождения                                                        \n",
       "0  Добавить два новых канала привлечения трафика, что позволит привлекать на 30% больше пользователей             \n",
       "7  Добавить форму подписки на все основные страницы, чтобы собрать базу клиентов для email-рассылок               \n",
       "6  Показать на главной странице баннеры с актуальными акциями и распродажами, чтобы увеличить конверсию           \n",
       "2  Добавить блоки рекомендаций товаров на сайт интернет магазина, чтобы повысить конверсию и средний чек заказа   \n",
       "1  Запустить собственную службу доставки, что сократит срок доставки заказов                                      \n",
       "5  Добавить страницу отзывов клиентов о магазине, что позволит увеличить количество заказов                       \n",
       "3  Изменить структура категорий, что увеличит конверсию, т.к. пользователи быстрее найдут нужный товар            \n",
       "4  Изменить цвет фона главной страницы, чтобы увеличить вовлеченность пользователей                               \n",
       "\n",
       "   reach  impact  confidence  efforts   ice  \n",
       "8  1      9       9           5        16.2  \n",
       "0  3      10      8           6        13.3  \n",
       "7  10     7       8           5        11.2  \n",
       "6  5      3       8           3        8.0   \n",
       "2  8      3       7           3        7.0   \n",
       "1  2      5       4           10       2.0   \n",
       "5  3      2       2           3        1.3   \n",
       "3  8      3       3           8        1.1   \n",
       "4  3      1       1           1        1.0   "
      ]
     },
     "execution_count": 6,
     "metadata": {},
     "output_type": "execute_result"
    }
   ],
   "source": [
    "hypothesis.sort_values(by='ice', ascending=False) #гипотезы отсортированные по снижению приоритетности (ICE)"
   ]
  },
  {
   "cell_type": "markdown",
   "metadata": {},
   "source": [
    "При оценке приоритетности гипотез с применением фреймворка ICE, наиболее приоритетной оказась 8-я гипотеза - \"Запустить акцию, дающую скидку на товар в день рождения\"."
   ]
  },
  {
   "cell_type": "markdown",
   "metadata": {},
   "source": [
    "### Приоритизация фреймворком RICE"
   ]
  },
  {
   "cell_type": "code",
   "execution_count": 7,
   "metadata": {},
   "outputs": [],
   "source": [
    "hypothesis['rice'] = (hypothesis['reach'] * hypothesis['impact'] * hypothesis['confidence'] / hypothesis['efforts']).round(1)"
   ]
  },
  {
   "cell_type": "code",
   "execution_count": 8,
   "metadata": {},
   "outputs": [
    {
     "data": {
      "text/html": [
       "<div>\n",
       "<style scoped>\n",
       "    .dataframe tbody tr th:only-of-type {\n",
       "        vertical-align: middle;\n",
       "    }\n",
       "\n",
       "    .dataframe tbody tr th {\n",
       "        vertical-align: top;\n",
       "    }\n",
       "\n",
       "    .dataframe thead th {\n",
       "        text-align: right;\n",
       "    }\n",
       "</style>\n",
       "<table border=\"1\" class=\"dataframe\">\n",
       "  <thead>\n",
       "    <tr style=\"text-align: right;\">\n",
       "      <th></th>\n",
       "      <th>hypothesis</th>\n",
       "      <th>reach</th>\n",
       "      <th>impact</th>\n",
       "      <th>confidence</th>\n",
       "      <th>efforts</th>\n",
       "      <th>ice</th>\n",
       "      <th>rice</th>\n",
       "    </tr>\n",
       "  </thead>\n",
       "  <tbody>\n",
       "    <tr>\n",
       "      <th>7</th>\n",
       "      <td>Добавить форму подписки на все основные страницы, чтобы собрать базу клиентов для email-рассылок</td>\n",
       "      <td>10</td>\n",
       "      <td>7</td>\n",
       "      <td>8</td>\n",
       "      <td>5</td>\n",
       "      <td>11.2</td>\n",
       "      <td>112.0</td>\n",
       "    </tr>\n",
       "    <tr>\n",
       "      <th>2</th>\n",
       "      <td>Добавить блоки рекомендаций товаров на сайт интернет магазина, чтобы повысить конверсию и средний чек заказа</td>\n",
       "      <td>8</td>\n",
       "      <td>3</td>\n",
       "      <td>7</td>\n",
       "      <td>3</td>\n",
       "      <td>7.0</td>\n",
       "      <td>56.0</td>\n",
       "    </tr>\n",
       "    <tr>\n",
       "      <th>0</th>\n",
       "      <td>Добавить два новых канала привлечения трафика, что позволит привлекать на 30% больше пользователей</td>\n",
       "      <td>3</td>\n",
       "      <td>10</td>\n",
       "      <td>8</td>\n",
       "      <td>6</td>\n",
       "      <td>13.3</td>\n",
       "      <td>40.0</td>\n",
       "    </tr>\n",
       "    <tr>\n",
       "      <th>6</th>\n",
       "      <td>Показать на главной странице баннеры с актуальными акциями и распродажами, чтобы увеличить конверсию</td>\n",
       "      <td>5</td>\n",
       "      <td>3</td>\n",
       "      <td>8</td>\n",
       "      <td>3</td>\n",
       "      <td>8.0</td>\n",
       "      <td>40.0</td>\n",
       "    </tr>\n",
       "    <tr>\n",
       "      <th>8</th>\n",
       "      <td>Запустить акцию, дающую скидку на товар в день рождения</td>\n",
       "      <td>1</td>\n",
       "      <td>9</td>\n",
       "      <td>9</td>\n",
       "      <td>5</td>\n",
       "      <td>16.2</td>\n",
       "      <td>16.2</td>\n",
       "    </tr>\n",
       "    <tr>\n",
       "      <th>3</th>\n",
       "      <td>Изменить структура категорий, что увеличит конверсию, т.к. пользователи быстрее найдут нужный товар</td>\n",
       "      <td>8</td>\n",
       "      <td>3</td>\n",
       "      <td>3</td>\n",
       "      <td>8</td>\n",
       "      <td>1.1</td>\n",
       "      <td>9.0</td>\n",
       "    </tr>\n",
       "    <tr>\n",
       "      <th>1</th>\n",
       "      <td>Запустить собственную службу доставки, что сократит срок доставки заказов</td>\n",
       "      <td>2</td>\n",
       "      <td>5</td>\n",
       "      <td>4</td>\n",
       "      <td>10</td>\n",
       "      <td>2.0</td>\n",
       "      <td>4.0</td>\n",
       "    </tr>\n",
       "    <tr>\n",
       "      <th>5</th>\n",
       "      <td>Добавить страницу отзывов клиентов о магазине, что позволит увеличить количество заказов</td>\n",
       "      <td>3</td>\n",
       "      <td>2</td>\n",
       "      <td>2</td>\n",
       "      <td>3</td>\n",
       "      <td>1.3</td>\n",
       "      <td>4.0</td>\n",
       "    </tr>\n",
       "    <tr>\n",
       "      <th>4</th>\n",
       "      <td>Изменить цвет фона главной страницы, чтобы увеличить вовлеченность пользователей</td>\n",
       "      <td>3</td>\n",
       "      <td>1</td>\n",
       "      <td>1</td>\n",
       "      <td>1</td>\n",
       "      <td>1.0</td>\n",
       "      <td>3.0</td>\n",
       "    </tr>\n",
       "  </tbody>\n",
       "</table>\n",
       "</div>"
      ],
      "text/plain": [
       "                                                                                                     hypothesis  \\\n",
       "7  Добавить форму подписки на все основные страницы, чтобы собрать базу клиентов для email-рассылок               \n",
       "2  Добавить блоки рекомендаций товаров на сайт интернет магазина, чтобы повысить конверсию и средний чек заказа   \n",
       "0  Добавить два новых канала привлечения трафика, что позволит привлекать на 30% больше пользователей             \n",
       "6  Показать на главной странице баннеры с актуальными акциями и распродажами, чтобы увеличить конверсию           \n",
       "8  Запустить акцию, дающую скидку на товар в день рождения                                                        \n",
       "3  Изменить структура категорий, что увеличит конверсию, т.к. пользователи быстрее найдут нужный товар            \n",
       "1  Запустить собственную службу доставки, что сократит срок доставки заказов                                      \n",
       "5  Добавить страницу отзывов клиентов о магазине, что позволит увеличить количество заказов                       \n",
       "4  Изменить цвет фона главной страницы, чтобы увеличить вовлеченность пользователей                               \n",
       "\n",
       "   reach  impact  confidence  efforts   ice   rice  \n",
       "7  10     7       8           5        11.2  112.0  \n",
       "2  8      3       7           3        7.0   56.0   \n",
       "0  3      10      8           6        13.3  40.0   \n",
       "6  5      3       8           3        8.0   40.0   \n",
       "8  1      9       9           5        16.2  16.2   \n",
       "3  8      3       3           8        1.1   9.0    \n",
       "1  2      5       4           10       2.0   4.0    \n",
       "5  3      2       2           3        1.3   4.0    \n",
       "4  3      1       1           1        1.0   3.0    "
      ]
     },
     "execution_count": 8,
     "metadata": {},
     "output_type": "execute_result"
    }
   ],
   "source": [
    "hypothesis.sort_values(by='rice', ascending=False)"
   ]
  },
  {
   "cell_type": "markdown",
   "metadata": {},
   "source": [
    "По результатам приоритизация с изпользованием фреймворка RICE, самой приоритетной (с существенным отрывом от ближайшего преследователя) стала гипотеза номер 7 - \"Добавить форму подписки на все основные страницы, чтобы собрать базу клиентов для email-рассылок\". Её показатели влияния и надежности ниже чем у 8-й гипотезы, однако 7-я гипотеза обладает самым высоким показателем охвата, что и делает её самой приоритетной при оценке фреймворком RICE."
   ]
  },
  {
   "cell_type": "markdown",
   "metadata": {},
   "source": [
    "### Промежуточный вывод"
   ]
  },
  {
   "cell_type": "markdown",
   "metadata": {},
   "source": [
    "Мы провели приоритизацию гипотез фреймворками ICE и RICE:\n",
    "- по результатам приоритизации фреймворком ICE наиболее приоритетной стала 8-я гипотеза;\n",
    "- по результатам приоритизации фреймворком RICE наиболее приоритетной стала 7-я гипотеза, что связано с высоким показателем охвата у данной гипотезы."
   ]
  },
  {
   "cell_type": "markdown",
   "metadata": {},
   "source": [
    "## Анализ А/В-теста"
   ]
  },
  {
   "cell_type": "markdown",
   "metadata": {},
   "source": [
    "Вначале проверим всё-ли впорядке с данными. Для этого создадим небольшую функцию."
   ]
  },
  {
   "cell_type": "code",
   "execution_count": 9,
   "metadata": {},
   "outputs": [],
   "source": [
    "def information(df):\n",
    "    display(df.dtypes)\n",
    "    print('\\033[1m' + 'Первые 2 строки:' + '\\033[0m')\n",
    "    display(df.head(2))\n",
    "    print('\\033[1m' + 'Количество дубликатов:' + '\\033[0m', df.duplicated().sum())\n",
    "    print('\\033[1m' + 'Количество пропусков:' + '\\033[0m')  \n",
    "    print(df.isna().sum())\n",
    "    print('\\033[1m' + 'Доля пропусков:' + '\\033[0m')\n",
    "    print(df.isna().sum() / len(df.index))"
   ]
  },
  {
   "cell_type": "code",
   "execution_count": 10,
   "metadata": {},
   "outputs": [
    {
     "data": {
      "text/plain": [
       "transactionId    int64 \n",
       "visitorId        int64 \n",
       "date             object\n",
       "revenue          int64 \n",
       "group            object\n",
       "dtype: object"
      ]
     },
     "metadata": {},
     "output_type": "display_data"
    },
    {
     "name": "stdout",
     "output_type": "stream",
     "text": [
      "\u001b[1mПервые 2 строки:\u001b[0m\n"
     ]
    },
    {
     "data": {
      "text/html": [
       "<div>\n",
       "<style scoped>\n",
       "    .dataframe tbody tr th:only-of-type {\n",
       "        vertical-align: middle;\n",
       "    }\n",
       "\n",
       "    .dataframe tbody tr th {\n",
       "        vertical-align: top;\n",
       "    }\n",
       "\n",
       "    .dataframe thead th {\n",
       "        text-align: right;\n",
       "    }\n",
       "</style>\n",
       "<table border=\"1\" class=\"dataframe\">\n",
       "  <thead>\n",
       "    <tr style=\"text-align: right;\">\n",
       "      <th></th>\n",
       "      <th>transactionId</th>\n",
       "      <th>visitorId</th>\n",
       "      <th>date</th>\n",
       "      <th>revenue</th>\n",
       "      <th>group</th>\n",
       "    </tr>\n",
       "  </thead>\n",
       "  <tbody>\n",
       "    <tr>\n",
       "      <th>0</th>\n",
       "      <td>3667963787</td>\n",
       "      <td>3312258926</td>\n",
       "      <td>2019-08-15</td>\n",
       "      <td>1650</td>\n",
       "      <td>B</td>\n",
       "    </tr>\n",
       "    <tr>\n",
       "      <th>1</th>\n",
       "      <td>2804400009</td>\n",
       "      <td>3642806036</td>\n",
       "      <td>2019-08-15</td>\n",
       "      <td>730</td>\n",
       "      <td>B</td>\n",
       "    </tr>\n",
       "  </tbody>\n",
       "</table>\n",
       "</div>"
      ],
      "text/plain": [
       "   transactionId   visitorId        date  revenue group\n",
       "0  3667963787     3312258926  2019-08-15  1650     B   \n",
       "1  2804400009     3642806036  2019-08-15  730      B   "
      ]
     },
     "metadata": {},
     "output_type": "display_data"
    },
    {
     "name": "stdout",
     "output_type": "stream",
     "text": [
      "\u001b[1mКоличество дубликатов:\u001b[0m 0\n",
      "\u001b[1mКоличество пропусков:\u001b[0m\n",
      "transactionId    0\n",
      "visitorId        0\n",
      "date             0\n",
      "revenue          0\n",
      "group            0\n",
      "dtype: int64\n",
      "\u001b[1mДоля пропусков:\u001b[0m\n",
      "transactionId    0.0\n",
      "visitorId        0.0\n",
      "date             0.0\n",
      "revenue          0.0\n",
      "group            0.0\n",
      "dtype: float64\n"
     ]
    }
   ],
   "source": [
    "information(orders)"
   ]
  },
  {
   "cell_type": "code",
   "execution_count": 11,
   "metadata": {},
   "outputs": [
    {
     "data": {
      "text/plain": [
       "date        object\n",
       "group       object\n",
       "visitors    int64 \n",
       "dtype: object"
      ]
     },
     "metadata": {},
     "output_type": "display_data"
    },
    {
     "name": "stdout",
     "output_type": "stream",
     "text": [
      "\u001b[1mПервые 2 строки:\u001b[0m\n"
     ]
    },
    {
     "data": {
      "text/html": [
       "<div>\n",
       "<style scoped>\n",
       "    .dataframe tbody tr th:only-of-type {\n",
       "        vertical-align: middle;\n",
       "    }\n",
       "\n",
       "    .dataframe tbody tr th {\n",
       "        vertical-align: top;\n",
       "    }\n",
       "\n",
       "    .dataframe thead th {\n",
       "        text-align: right;\n",
       "    }\n",
       "</style>\n",
       "<table border=\"1\" class=\"dataframe\">\n",
       "  <thead>\n",
       "    <tr style=\"text-align: right;\">\n",
       "      <th></th>\n",
       "      <th>date</th>\n",
       "      <th>group</th>\n",
       "      <th>visitors</th>\n",
       "    </tr>\n",
       "  </thead>\n",
       "  <tbody>\n",
       "    <tr>\n",
       "      <th>0</th>\n",
       "      <td>2019-08-01</td>\n",
       "      <td>A</td>\n",
       "      <td>719</td>\n",
       "    </tr>\n",
       "    <tr>\n",
       "      <th>1</th>\n",
       "      <td>2019-08-02</td>\n",
       "      <td>A</td>\n",
       "      <td>619</td>\n",
       "    </tr>\n",
       "  </tbody>\n",
       "</table>\n",
       "</div>"
      ],
      "text/plain": [
       "         date group  visitors\n",
       "0  2019-08-01  A     719     \n",
       "1  2019-08-02  A     619     "
      ]
     },
     "metadata": {},
     "output_type": "display_data"
    },
    {
     "name": "stdout",
     "output_type": "stream",
     "text": [
      "\u001b[1mКоличество дубликатов:\u001b[0m 0\n",
      "\u001b[1mКоличество пропусков:\u001b[0m\n",
      "date        0\n",
      "group       0\n",
      "visitors    0\n",
      "dtype: int64\n",
      "\u001b[1mДоля пропусков:\u001b[0m\n",
      "date        0.0\n",
      "group       0.0\n",
      "visitors    0.0\n",
      "dtype: float64\n"
     ]
    }
   ],
   "source": [
    "information(visitors)"
   ]
  },
  {
   "cell_type": "markdown",
   "metadata": {},
   "source": [
    "С данными всё хорошо, только в датафрейме orders название двух столбцов не соответствует принятому в Python стилю, и формат в столбце с датой следует поменять на datetime."
   ]
  },
  {
   "cell_type": "code",
   "execution_count": 12,
   "metadata": {},
   "outputs": [],
   "source": [
    "orders = orders.rename(columns={'transactionId' : 'transaction_id', 'visitorId' : 'visitor_id'}) #смена названий столбцов"
   ]
  },
  {
   "cell_type": "code",
   "execution_count": 13,
   "metadata": {},
   "outputs": [],
   "source": [
    "orders['date'] = orders['date'].map(lambda x: dt.datetime.strptime(x, '%Y-%m-%d'))\n",
    "visitors['date'] = visitors['date'].map(lambda x: dt.datetime.strptime(x, '%Y-%m-%d')) #замена формата на datetime"
   ]
  },
  {
   "cell_type": "code",
   "execution_count": 14,
   "metadata": {},
   "outputs": [
    {
     "name": "stdout",
     "output_type": "stream",
     "text": [
      "Группы в А/В-тесте: ['B' 'A']\n",
      "Дата начала  теста: 2019-08-01\n",
      "Дата окончания теста: 2019-08-31\n",
      "Количество пользователей в группе A: 503\n",
      "Количество пользователей в группе В: 586\n",
      "Количество совпадающих пользователей: 58\n"
     ]
    }
   ],
   "source": [
    "print('Группы в А/В-тесте:', orders['group'].unique())\n",
    "print('Дата начала  теста:', orders['date'].dt.date.min())\n",
    "print('Дата окончания теста:', orders['date'].dt.date.max())\n",
    "print('Количество пользователей в группе A:', len(orders.query('group == \"A\"').groupby('visitor_id')))\n",
    "print('Количество пользователей в группе В:', len(orders.query('group == \"B\"').groupby('visitor_id')))\n",
    "print('Количество совпадающих пользователей:', len(orders.groupby('visitor_id').agg({'group': 'nunique'}\n",
    "                                                                                   ).reset_index().query('group > 1')))"
   ]
  },
  {
   "cell_type": "markdown",
   "metadata": {},
   "source": [
    "### Кумулятивная выручка по группам"
   ]
  },
  {
   "cell_type": "code",
   "execution_count": 16,
   "metadata": {},
   "outputs": [],
   "source": [
    "dates_groups = orders[['date', 'group']].drop_duplicates() #создание массива пар уникальных значений \"дата-группа\""
   ]
  },
  {
   "cell_type": "code",
   "execution_count": 17,
   "metadata": {},
   "outputs": [],
   "source": [
    "orders_aggregated = dates_groups.apply(\n",
    "    lambda x: orders[np.logical_and(orders['date'] <= x['date'], orders['group'] == x['group'])].agg(\n",
    "        {'date' : 'max', 'group' : 'max', 'transaction_id' : 'nunique', 'visitor_id' : 'nunique', 'revenue' : 'sum'}), \n",
    "    axis=1).sort_values(by=['date','group']) #получение агрегированных кумулятивных данных о заказах по дням"
   ]
  },
  {
   "cell_type": "code",
   "execution_count": 18,
   "metadata": {},
   "outputs": [],
   "source": [
    "visitors_aggregated = dates_groups.apply(\n",
    "    lambda x: visitors[np.logical_and(visitors['date'] <= x['date'], visitors['group'] == x['group'])].agg(\n",
    "        {'date' : 'max', 'group' : 'max', 'visitors' : 'sum'}), axis=1).sort_values(\n",
    "    by=['date','group']) #получение агрегированных кумулятивных данных о посетителях по дням "
   ]
  },
  {
   "cell_type": "code",
   "execution_count": 19,
   "metadata": {},
   "outputs": [],
   "source": [
    "cumulative_data = orders_aggregated.merge(\n",
    "    visitors_aggregated, left_on=['date', 'group'], right_on=['date', 'group']) #объединение таблиц с агрегированными данными\n",
    "cumulative_data.columns = ['date', 'group', 'orders', 'buyers', 'revenue', 'visitors'] \n",
    "#переименование столбцов в полученной таблице"
   ]
  },
  {
   "cell_type": "code",
   "execution_count": 20,
   "metadata": {},
   "outputs": [
    {
     "data": {
      "text/html": [
       "<div>\n",
       "<style scoped>\n",
       "    .dataframe tbody tr th:only-of-type {\n",
       "        vertical-align: middle;\n",
       "    }\n",
       "\n",
       "    .dataframe tbody tr th {\n",
       "        vertical-align: top;\n",
       "    }\n",
       "\n",
       "    .dataframe thead th {\n",
       "        text-align: right;\n",
       "    }\n",
       "</style>\n",
       "<table border=\"1\" class=\"dataframe\">\n",
       "  <thead>\n",
       "    <tr style=\"text-align: right;\">\n",
       "      <th></th>\n",
       "      <th>date</th>\n",
       "      <th>group</th>\n",
       "      <th>orders</th>\n",
       "      <th>buyers</th>\n",
       "      <th>revenue</th>\n",
       "      <th>visitors</th>\n",
       "    </tr>\n",
       "  </thead>\n",
       "  <tbody>\n",
       "    <tr>\n",
       "      <th>0</th>\n",
       "      <td>2019-08-01</td>\n",
       "      <td>A</td>\n",
       "      <td>24</td>\n",
       "      <td>20</td>\n",
       "      <td>148579</td>\n",
       "      <td>719</td>\n",
       "    </tr>\n",
       "    <tr>\n",
       "      <th>1</th>\n",
       "      <td>2019-08-01</td>\n",
       "      <td>B</td>\n",
       "      <td>21</td>\n",
       "      <td>20</td>\n",
       "      <td>101217</td>\n",
       "      <td>713</td>\n",
       "    </tr>\n",
       "    <tr>\n",
       "      <th>2</th>\n",
       "      <td>2019-08-02</td>\n",
       "      <td>A</td>\n",
       "      <td>44</td>\n",
       "      <td>38</td>\n",
       "      <td>242401</td>\n",
       "      <td>1338</td>\n",
       "    </tr>\n",
       "    <tr>\n",
       "      <th>3</th>\n",
       "      <td>2019-08-02</td>\n",
       "      <td>B</td>\n",
       "      <td>45</td>\n",
       "      <td>43</td>\n",
       "      <td>266748</td>\n",
       "      <td>1294</td>\n",
       "    </tr>\n",
       "    <tr>\n",
       "      <th>4</th>\n",
       "      <td>2019-08-03</td>\n",
       "      <td>A</td>\n",
       "      <td>68</td>\n",
       "      <td>62</td>\n",
       "      <td>354874</td>\n",
       "      <td>1845</td>\n",
       "    </tr>\n",
       "  </tbody>\n",
       "</table>\n",
       "</div>"
      ],
      "text/plain": [
       "        date group  orders  buyers  revenue  visitors\n",
       "0 2019-08-01  A     24      20      148579   719     \n",
       "1 2019-08-01  B     21      20      101217   713     \n",
       "2 2019-08-02  A     44      38      242401   1338    \n",
       "3 2019-08-02  B     45      43      266748   1294    \n",
       "4 2019-08-03  A     68      62      354874   1845    "
      ]
     },
     "execution_count": 20,
     "metadata": {},
     "output_type": "execute_result"
    }
   ],
   "source": [
    "cumulative_data.head()"
   ]
  },
  {
   "cell_type": "code",
   "execution_count": 21,
   "metadata": {},
   "outputs": [],
   "source": [
    "cumulative_revenue_A = cumulative_data[cumulative_data['group']=='A'][['date','revenue', 'orders']]\n",
    "cumulative_revenue_B = cumulative_data[cumulative_data['group']=='B'][['date','revenue', 'orders']]\n",
    "#получение таблиц с кумулятивным количеством заказов и кумулятивной выручкой в группах А и В"
   ]
  },
  {
   "cell_type": "code",
   "execution_count": 22,
   "metadata": {},
   "outputs": [
    {
     "data": {
      "image/png": "[encoded data removed]",
      "text/plain": [
       "<Figure size 1440x504 with 1 Axes>"
      ]
     },
     "metadata": {
      "needs_background": "light"
     },
     "output_type": "display_data"
    }
   ],
   "source": [
    "#построение графиков кумулятивной выручки по группам\n",
    "plt.figure(figsize=(20, 7))\n",
    "plt.title('Динамика кумулятивной выручки по дням в группах А и В')\n",
    "plt.xlabel('Дата')\n",
    "plt.ylabel('Кумулятивная выручка, $')\n",
    "plt.plot(cumulative_revenue_A['date'], cumulative_revenue_A['revenue'], label='A')\n",
    "plt.plot(cumulative_revenue_B['date'], cumulative_revenue_B['revenue'], label='B')\n",
    "plt.legend()\n",
    "plt.show()"
   ]
  },
  {
   "cell_type": "markdown",
   "metadata": {},
   "source": [
    "Из графиков, отражающих динамику кумулятивной выручки в группах А и В видно, что кумулятивная выручка в обоих группах растёт в течение всего периода наблюдения. Средняя кумулятивная выручка в группе В выше, чем в группе А и с течением времени эта разница нарастает. На графике кумулятивной выручки в группе В выделяется резкий рост показателя после 17.08.2019, что может свидетельствовать об аномальном увеличении количества заказов, или о появлении аномально дорогих заказов."
   ]
  },
  {
   "cell_type": "markdown",
   "metadata": {},
   "source": [
    "### Кумулятивный средний чек по группам"
   ]
  },
  {
   "cell_type": "code",
   "execution_count": 23,
   "metadata": {},
   "outputs": [
    {
     "data": {
      "image/png": "[encoded data removed]",
      "text/plain": [
       "<Figure size 1440x504 with 1 Axes>"
      ]
     },
     "metadata": {
      "needs_background": "light"
     },
     "output_type": "display_data"
    }
   ],
   "source": [
    "#построение графиков кумулятивного среднего чека по группам\n",
    "plt.figure(figsize=(20, 7))\n",
    "plt.title('Динамика кумулятивного среднего чека по дням в группах А и В')\n",
    "plt.xlabel('Дата')\n",
    "plt.ylabel('Кумулятивный средний чек, $')\n",
    "plt.plot(cumulative_revenue_A['date'], cumulative_revenue_A['revenue'] / cumulative_revenue_A['orders'], label='A')\n",
    "plt.plot(cumulative_revenue_B['date'], cumulative_revenue_B['revenue'] / cumulative_revenue_B['orders'], label='B')\n",
    "plt.legend()\n",
    "plt.show()"
   ]
  },
  {
   "cell_type": "markdown",
   "metadata": {},
   "source": [
    "Средний чек в группе B выше, чем в группе А практически на протяжении всего периода наблюдения (за исключением первого дня и 13.08.2019). Средний чек относительно стабилизируется в группе А после 13.08.2019, в группе В наблюдается, аналогичный кумулятивной выручке, резкий рост среднего чека после 17.08.2019, что должно быть связано с появлением аномально крупных заказов."
   ]
  },
  {
   "cell_type": "markdown",
   "metadata": {},
   "source": [
    "### Относительное изменение кумулятивного среднего чека группы B к группе А"
   ]
  },
  {
   "cell_type": "code",
   "execution_count": 24,
   "metadata": {},
   "outputs": [],
   "source": [
    "#объединение датафреймов с кумулятивными данными по группам\n",
    "merged_cumulative_revenue = cumulative_revenue_A.merge(\n",
    "    cumulative_revenue_B, left_on='date', right_on='date', how='left', suffixes=['A', 'B']) "
   ]
  },
  {
   "cell_type": "code",
   "execution_count": 25,
   "metadata": {},
   "outputs": [
    {
     "data": {
      "image/png": "[encoded data removed]",
      "text/plain": [
       "<Figure size 1440x504 with 1 Axes>"
      ]
     },
     "metadata": {
      "needs_background": "light"
     },
     "output_type": "display_data"
    }
   ],
   "source": [
    "#построение графика относительного различия кумулятивного среднего чека группы B к А\n",
    "plt.figure(figsize=(20, 7))\n",
    "plt.title('Относительное изменение кумулятивного среднего чека группы B к группе А')\n",
    "plt.xlabel('Дата')\n",
    "plt.ylabel('Относительное изменение среднего чека')\n",
    "plt.plot(merged_cumulative_revenue['date'], (merged_cumulative_revenue['revenueB']/merged_cumulative_revenue['ordersB'])/(\n",
    "    merged_cumulative_revenue['revenueA']/merged_cumulative_revenue['ordersA'])-1)\n",
    "plt.axhline(y=0, color='black', linestyle='--')\n",
    "plt.show()"
   ]
  },
  {
   "cell_type": "markdown",
   "metadata": {},
   "source": [
    "Как было сказано ранее на протяжении практически всего периода наблюдения средний чек в группе В выше, чем в группе А. Отмечается два периода резкого роста среднего чека в группе В относительно группы А, в первой и второй половине исследования - там точно есть аномальные заказы!"
   ]
  },
  {
   "cell_type": "markdown",
   "metadata": {},
   "source": [
    "### Кумулятивная конверсия по группам"
   ]
  },
  {
   "cell_type": "code",
   "execution_count": 26,
   "metadata": {},
   "outputs": [],
   "source": [
    "cumulative_data['conversion'] = cumulative_data['orders'] / cumulative_data['visitors'] #рассчет кумулятивной конверсии\n",
    "cumulative_data_A = cumulative_data.query('group == \"A\"') #срез по группе А\n",
    "cumulative_data_B = cumulative_data.query('group == \"B\"') #срез по группе B"
   ]
  },
  {
   "cell_type": "code",
   "execution_count": 27,
   "metadata": {
    "scrolled": true
   },
   "outputs": [
    {
     "data": {
      "image/png": "[encoded data removed]",
      "text/plain": [
       "<Figure size 1440x504 with 1 Axes>"
      ]
     },
     "metadata": {
      "needs_background": "light"
     },
     "output_type": "display_data"
    }
   ],
   "source": [
    "#построение графиков кумулятивной конверсии по группам\n",
    "plt.figure(figsize=(20, 7))\n",
    "plt.title('Динамика кумулятивной конверсии по дням в группах А и В')\n",
    "plt.xlabel('Дата')\n",
    "plt.ylabel('Кумулятивная конверсия, %')\n",
    "plt.plot(cumulative_data_A['date'], cumulative_data_A['conversion'], label='A')\n",
    "plt.plot(cumulative_data_B['date'], cumulative_data_B['conversion'], label='B')\n",
    "plt.legend()\n",
    "plt.show()"
   ]
  },
  {
   "cell_type": "markdown",
   "metadata": {},
   "source": [
    "Показатели кумулятивной конверсии в начале наблюдения сильно колебались, после 9.08.2019 они относительно стабилизировались. Показатель кумулятивной конверсии в группе B зафиксировался на более высоком уровне, нежели показатель в группе А. "
   ]
  },
  {
   "cell_type": "markdown",
   "metadata": {},
   "source": [
    "### Относительное изменение кумулятивной конверсии группы B к группе A"
   ]
  },
  {
   "cell_type": "code",
   "execution_count": 28,
   "metadata": {},
   "outputs": [],
   "source": [
    "#объединение датафреймов с кумулятивными данными по группам\n",
    "merged_cumulative_conversions = cumulative_data_A[['date','conversion']].merge(\n",
    "    cumulative_data_B[['date','conversion']], left_on='date', right_on='date', how='left', suffixes=['A', 'B'])"
   ]
  },
  {
   "cell_type": "code",
   "execution_count": 29,
   "metadata": {},
   "outputs": [
    {
     "data": {
      "image/png": "[encoded data removed]",
      "text/plain": [
       "<Figure size 1440x504 with 1 Axes>"
      ]
     },
     "metadata": {
      "needs_background": "light"
     },
     "output_type": "display_data"
    }
   ],
   "source": [
    "#построение графика относительного различия кумулятивной конверсии группы B к А\n",
    "plt.figure(figsize=(20, 7))\n",
    "plt.title('Относительное изменение кумулятивной конверсии группы B к группе А')\n",
    "plt.xlabel('Дата')\n",
    "plt.ylabel('Относительное изменение кумулятивной конверсии')\n",
    "plt.plot(merged_cumulative_conversions['date'], \n",
    "         merged_cumulative_conversions['conversionB'] / merged_cumulative_conversions['conversionA'] -1)\n",
    "plt.axhline(y=0, color='black', linestyle='--')\n",
    "plt.show()"
   ]
  },
  {
   "cell_type": "markdown",
   "metadata": {},
   "source": [
    "Кумулятивная конверсия в группе В относительно группы А стабильно выше начиная с 6-7 августа. В конце периода наблюдения происходит некоторое снижение данного показателя и его стабилизация."
   ]
  },
  {
   "cell_type": "markdown",
   "metadata": {},
   "source": [
    "### Точечный график количество заказов, по пользователям"
   ]
  },
  {
   "cell_type": "code",
   "execution_count": 30,
   "metadata": {},
   "outputs": [
    {
     "data": {
      "image/png": "[encoded data removed]",
      "text/plain": [
       "<Figure size 1440x504 with 1 Axes>"
      ]
     },
     "metadata": {
      "needs_background": "light"
     },
     "output_type": "display_data"
    }
   ],
   "source": [
    "orders_by_users = orders.groupby('visitor_id', as_index=False).agg(\n",
    "    {'transaction_id' : 'nunique'}) #группирровка заказов по пользователям\n",
    "x_values = pd.Series(range(0, len(orders_by_users))) #значения для оси x\n",
    "plt.figure(figsize=(20, 7))\n",
    "plt.title('Количество заказов по пользователям')\n",
    "plt.ylabel('Количество заказов, ед.')\n",
    "plt.scatter(x_values, orders_by_users['transaction_id'])\n",
    "plt.show()"
   ]
  },
  {
   "cell_type": "markdown",
   "metadata": {},
   "source": [
    "Абсолютное большинство пользователей сделало 1-2 заказа, редкий пользователь сделал 3-4 заказа за раз, больше 4 почти никто - это явные аномалии. Но для окончательного выбора границы, по которой следует отделить аномальные заказы, лучше дополнительно воспользоваться 95-ым и 99-ым перцентилями."
   ]
  },
  {
   "cell_type": "markdown",
   "metadata": {},
   "source": [
    "### Выбор границы для определения аномальных пользователей"
   ]
  },
  {
   "cell_type": "code",
   "execution_count": 31,
   "metadata": {},
   "outputs": [
    {
     "data": {
      "text/plain": [
       "array([2., 4.])"
      ]
     },
     "execution_count": 31,
     "metadata": {},
     "output_type": "execute_result"
    }
   ],
   "source": [
    "np.percentile(orders_by_users['transaction_id'], [95, 99])"
   ]
  },
  {
   "cell_type": "markdown",
   "metadata": {},
   "source": [
    "Не более 5% пользователей сделали более 2-х заказов и не более 1% более 4-х. В качестве границы для определения аномальных пользователей возьмем 2 заказа, т.е. отсеивать будем всех пользователей кто сделал более 2-х заказов."
   ]
  },
  {
   "cell_type": "markdown",
   "metadata": {},
   "source": [
    "### Точечный график стоимости заказов"
   ]
  },
  {
   "cell_type": "code",
   "execution_count": 32,
   "metadata": {},
   "outputs": [
    {
     "data": {
      "image/png": "[encoded data removed]",
      "text/plain": [
       "<Figure size 1440x504 with 1 Axes>"
      ]
     },
     "metadata": {
      "needs_background": "light"
     },
     "output_type": "display_data"
    }
   ],
   "source": [
    "x_values = pd.Series(range(0, len(orders['revenue']))) #значения для оси x\n",
    "plt.figure(figsize=(20, 7))\n",
    "plt.ylim(0, 125000)\n",
    "plt.title('Стоимость заказов')\n",
    "plt.ylabel('Стоимость заказа, $')\n",
    "plt.scatter(x_values, orders['revenue'])\n",
    "plt.show()"
   ]
  },
  {
   "cell_type": "markdown",
   "metadata": {},
   "source": [
    "Судя по графику стоимость большей части заказов не превышает 20000. Для определения границы аномальных заказов воспользуемся 95-ым и 99-ым перцентилем."
   ]
  },
  {
   "cell_type": "markdown",
   "metadata": {},
   "source": [
    "### Выбор границы для определения аномальных заказов"
   ]
  },
  {
   "cell_type": "code",
   "execution_count": 33,
   "metadata": {},
   "outputs": [
    {
     "data": {
      "text/plain": [
       "array([28000. , 58233.2])"
      ]
     },
     "execution_count": 33,
     "metadata": {},
     "output_type": "execute_result"
    }
   ],
   "source": [
    "np.percentile(orders['revenue'], [95, 99])"
   ]
  },
  {
   "cell_type": "markdown",
   "metadata": {},
   "source": [
    "Не более 5% заказов стоили более 28000, и 1% заказов имел стоимость выше 58000. В качестве границы определяющей аномальные по стоимости заказы возьмём 28000."
   ]
  },
  {
   "cell_type": "markdown",
   "metadata": {},
   "source": [
    "### Оценка статистической значимости различий в конверсии между группами по \"сырым данным\""
   ]
  },
  {
   "cell_type": "markdown",
   "metadata": {},
   "source": [
    "Для оценки статистической значимости различий показателей в сравниваемых группах здесь и далее будем пользоваться непараметрическим тестом Уилкоксона-Манна-Уитни (U-критерий Манна-Уитни). Нулевая гипотеза будет гласить, что различий в средних значениях сравниваемых параметрах в разных группах нет, соответственно альтернативная гипотеза утверждает обратное - различия есть. Критический уровень статистической значимости примем за 5%."
   ]
  },
  {
   "cell_type": "markdown",
   "metadata": {},
   "source": [
    "Если я правильно понял, речь идёт о сравнении средней конверсии в группах, т.е. показатель кумулятивной конверсии, который мы находили ранее не подойдёт (хотя возможно я ошибаюсь)."
   ]
  },
  {
   "cell_type": "code",
   "execution_count": 34,
   "metadata": {},
   "outputs": [],
   "source": [
    "conversion_per_day = orders.groupby(['date', 'group']).agg({'transaction_id' : 'nunique'}).merge(\n",
    "    visitors, on=['date', 'group'], how='left') #объединение датафреймов с информацией о заказах и посещениях сайта"
   ]
  },
  {
   "cell_type": "code",
   "execution_count": 35,
   "metadata": {},
   "outputs": [],
   "source": [
    "#расчет ежедневной конверсии\n",
    "conversion_per_day['conversion'] = conversion_per_day['transaction_id'] / conversion_per_day['visitors'] "
   ]
  },
  {
   "cell_type": "code",
   "execution_count": 36,
   "metadata": {},
   "outputs": [],
   "source": [
    "conversion_per_day_A = conversion_per_day.query('group == \"A\"') #получение среза данных по группе А"
   ]
  },
  {
   "cell_type": "code",
   "execution_count": 37,
   "metadata": {},
   "outputs": [],
   "source": [
    "conversion_per_day_B = conversion_per_day.query('group == \"B\"') #получение среза данных по группе B"
   ]
  },
  {
   "cell_type": "code",
   "execution_count": 38,
   "metadata": {},
   "outputs": [
    {
     "name": "stdout",
     "output_type": "stream",
     "text": [
      "Средняя конверсия в группе А: 0.031\n",
      "Средняя конверсия в группе B: 0.035\n",
      "Относительный прирост конверсии в группе В: 0.150\n",
      "p-value: 0.086\n",
      "Нельзя отвергнуть нулевую гипотезу, разница показателей статистически незначима!\n"
     ]
    }
   ],
   "source": [
    "alpha = .05 #критический уровень статистической значимости\n",
    "p_value = st.mannwhitneyu(conversion_per_day_A['conversion'], conversion_per_day_B['conversion'])[1] #U-критерий Манна-Уитни\n",
    "print('Средняя конверсия в группе А:', '{0:.3f}'.format(conversion_per_day_A['conversion'].mean()))\n",
    "print('Средняя конверсия в группе B:', '{0:.3f}'.format(conversion_per_day_B['conversion'].mean()))\n",
    "print('Относительный прирост конверсии в группе В:', \n",
    "      '{0:.3f}'.format(conversion_per_day_B['conversion'].mean() / conversion_per_day_A['conversion'].mean() - 1))\n",
    "print('p-value:', '{0:.3f}'.format(p_value))\n",
    "\n",
    "if p_value > alpha:\n",
    "    print('Нельзя отвергнуть нулевую гипотезу, разница показателей статистически незначима!')\n",
    "else:\n",
    "    print('Нулевая гипотеза отвергнута, разница показателей статистически значима!')"
   ]
  },
  {
   "cell_type": "markdown",
   "metadata": {},
   "source": [
    "Относительный прирост конверсии значительный, но по результатам теста Уилкоксона-Манна-Уитни, разница между показателями средней конверсии в группах А и В статистической значимости не имеет."
   ]
  },
  {
   "cell_type": "code",
   "execution_count": 39,
   "metadata": {},
   "outputs": [
    {
     "data": {
      "text/html": [
       "<div>\n",
       "<style scoped>\n",
       "    .dataframe tbody tr th:only-of-type {\n",
       "        vertical-align: middle;\n",
       "    }\n",
       "\n",
       "    .dataframe tbody tr th {\n",
       "        vertical-align: top;\n",
       "    }\n",
       "\n",
       "    .dataframe thead th {\n",
       "        text-align: right;\n",
       "    }\n",
       "</style>\n",
       "<table border=\"1\" class=\"dataframe\">\n",
       "  <thead>\n",
       "    <tr style=\"text-align: right;\">\n",
       "      <th></th>\n",
       "      <th>date</th>\n",
       "      <th>orders_per_date_A</th>\n",
       "      <th>revenue_per_date_A</th>\n",
       "      <th>orders_per_date_B</th>\n",
       "      <th>revenue_per_date_B</th>\n",
       "      <th>orders_A_cummulative</th>\n",
       "      <th>revenue_cummulative_A</th>\n",
       "      <th>orders_B_cummulative</th>\n",
       "      <th>revenue_cummulative_B</th>\n",
       "      <th>visitors_per_date_A</th>\n",
       "      <th>visitors_per_date_B</th>\n",
       "      <th>visitors_A_сummulative</th>\n",
       "      <th>visitors_B_сummulative</th>\n",
       "    </tr>\n",
       "  </thead>\n",
       "  <tbody>\n",
       "    <tr>\n",
       "      <th>0</th>\n",
       "      <td>2019-08-01</td>\n",
       "      <td>24</td>\n",
       "      <td>148579</td>\n",
       "      <td>21</td>\n",
       "      <td>101217</td>\n",
       "      <td>24</td>\n",
       "      <td>148579</td>\n",
       "      <td>21</td>\n",
       "      <td>101217</td>\n",
       "      <td>719</td>\n",
       "      <td>713</td>\n",
       "      <td>719</td>\n",
       "      <td>713</td>\n",
       "    </tr>\n",
       "    <tr>\n",
       "      <th>1</th>\n",
       "      <td>2019-08-02</td>\n",
       "      <td>20</td>\n",
       "      <td>93822</td>\n",
       "      <td>24</td>\n",
       "      <td>165531</td>\n",
       "      <td>44</td>\n",
       "      <td>242401</td>\n",
       "      <td>45</td>\n",
       "      <td>266748</td>\n",
       "      <td>619</td>\n",
       "      <td>581</td>\n",
       "      <td>1338</td>\n",
       "      <td>1294</td>\n",
       "    </tr>\n",
       "    <tr>\n",
       "      <th>2</th>\n",
       "      <td>2019-08-03</td>\n",
       "      <td>24</td>\n",
       "      <td>112473</td>\n",
       "      <td>16</td>\n",
       "      <td>114248</td>\n",
       "      <td>68</td>\n",
       "      <td>354874</td>\n",
       "      <td>61</td>\n",
       "      <td>380996</td>\n",
       "      <td>507</td>\n",
       "      <td>509</td>\n",
       "      <td>1845</td>\n",
       "      <td>1803</td>\n",
       "    </tr>\n",
       "    <tr>\n",
       "      <th>3</th>\n",
       "      <td>2019-08-04</td>\n",
       "      <td>16</td>\n",
       "      <td>70825</td>\n",
       "      <td>17</td>\n",
       "      <td>108571</td>\n",
       "      <td>84</td>\n",
       "      <td>425699</td>\n",
       "      <td>78</td>\n",
       "      <td>489567</td>\n",
       "      <td>717</td>\n",
       "      <td>770</td>\n",
       "      <td>2562</td>\n",
       "      <td>2573</td>\n",
       "    </tr>\n",
       "    <tr>\n",
       "      <th>4</th>\n",
       "      <td>2019-08-05</td>\n",
       "      <td>25</td>\n",
       "      <td>124218</td>\n",
       "      <td>23</td>\n",
       "      <td>92428</td>\n",
       "      <td>109</td>\n",
       "      <td>549917</td>\n",
       "      <td>101</td>\n",
       "      <td>581995</td>\n",
       "      <td>756</td>\n",
       "      <td>707</td>\n",
       "      <td>3318</td>\n",
       "      <td>3280</td>\n",
       "    </tr>\n",
       "  </tbody>\n",
       "</table>\n",
       "</div>"
      ],
      "text/plain": [
       "        date  orders_per_date_A  revenue_per_date_A  orders_per_date_B  \\\n",
       "0 2019-08-01  24                 148579              21                  \n",
       "1 2019-08-02  20                 93822               24                  \n",
       "2 2019-08-03  24                 112473              16                  \n",
       "3 2019-08-04  16                 70825               17                  \n",
       "4 2019-08-05  25                 124218              23                  \n",
       "\n",
       "   revenue_per_date_B  orders_A_cummulative  revenue_cummulative_A  \\\n",
       "0  101217              24                    148579                  \n",
       "1  165531              44                    242401                  \n",
       "2  114248              68                    354874                  \n",
       "3  108571              84                    425699                  \n",
       "4  92428               109                   549917                  \n",
       "\n",
       "   orders_B_cummulative  revenue_cummulative_B  visitors_per_date_A  \\\n",
       "0  21                    101217                 719                   \n",
       "1  45                    266748                 619                   \n",
       "2  61                    380996                 507                   \n",
       "3  78                    489567                 717                   \n",
       "4  101                   581995                 756                   \n",
       "\n",
       "   visitors_per_date_B  visitors_A_сummulative  visitors_B_сummulative  \n",
       "0  713                  719                     713                     \n",
       "1  581                  1338                    1294                    \n",
       "2  509                  1845                    1803                    \n",
       "3  770                  2562                    2573                    \n",
       "4  707                  3318                    3280                    "
      ]
     },
     "execution_count": 39,
     "metadata": {},
     "output_type": "execute_result"
    }
   ],
   "source": [
    "#получение таблицы с количеством посещений в день в группе А\n",
    "visitors_A_daily = visitors[visitors['group'] == 'A'][['date', 'visitors']]\n",
    "visitors_A_daily.columns = ['date', 'visitors_per_date_A']\n",
    "\n",
    "#получение таблицы с кумулятивным количеством посещений по дням в группе А\n",
    "visitors_A_сummulative = visitors_A_daily.apply(lambda x: visitors_A_daily[visitors_A_daily['date'] <= x['date']].agg(\n",
    "        {'date': 'max', 'visitors_per_date_A': 'sum'}),axis=1)\n",
    "visitors_A_сummulative.columns = ['date', 'visitors_A_сummulative']\n",
    "\n",
    "#тоже самое для группы В\n",
    "visitors_B_daily = visitors[visitors['group'] == 'B'][['date', 'visitors']]\n",
    "visitors_B_daily.columns = ['date', 'visitors_per_date_B']\n",
    "visitors_B_сummulative = visitors_B_daily.apply(lambda x: visitors_B_daily[visitors_B_daily['date'] <= x['date']].agg(\n",
    "        {'date': 'max', 'visitors_per_date_B': 'sum'}),axis=1)\n",
    "visitors_B_сummulative.columns = ['date', 'visitors_B_сummulative']\n",
    "\n",
    "#получение таблицы с ежедневным количеством заказов и выручкой для группы А\n",
    "orders_A_daily = orders[orders['group'] == 'A'][['date', 'transaction_id', 'visitor_id', 'revenue']].groupby(\n",
    "    'date', as_index=False).agg({'transaction_id': pd.Series.nunique, 'revenue': 'sum'})\n",
    "orders_A_daily.columns = ['date', 'orders_per_date_A', 'revenue_per_date_A']\n",
    "\n",
    "#получение кумулятивного количества заказов и выручки\n",
    "orders_A_cummulative = orders_A_daily.apply(lambda x: orders_A_daily[orders_A_daily['date'] <= x['date']].agg(\n",
    "        {'date': 'max', 'orders_per_date_A': 'sum', 'revenue_per_date_A': 'sum'}), axis=1).sort_values(by=['date'])\n",
    "orders_A_cummulative.columns = ['date', 'orders_A_cummulative', 'revenue_cummulative_A']\n",
    "\n",
    "#тоже самое для группы В\n",
    "orders_B_daily = orders[orders['group'] == 'B'][['date', 'transaction_id', 'visitor_id', 'revenue']].groupby(\n",
    "    'date', as_index=False).agg({'transaction_id': pd.Series.nunique, 'revenue': 'sum'})\n",
    "orders_B_daily.columns = ['date', 'orders_per_date_B', 'revenue_per_date_B']\n",
    "\n",
    "orders_B_cummulative = orders_B_daily.apply(lambda x: orders_B_daily[orders_B_daily['date'] <= x['date']].agg(\n",
    "        {'date': 'max', 'orders_per_date_B': 'sum', 'revenue_per_date_B': 'sum'}), axis=1).sort_values(by=['date'])\n",
    "orders_B_cummulative.columns = ['date', 'orders_B_cummulative', 'revenue_cummulative_B']\n",
    "\n",
    "#объединение, полученных таблиц\n",
    "data = orders_A_daily.merge(orders_B_daily, left_on='date', right_on='date', how='left').merge(\n",
    "    orders_A_cummulative, left_on='date', right_on='date', how='left').merge(\n",
    "    orders_B_cummulative, left_on='date', right_on='date', how='left').merge(\n",
    "    visitors_A_daily, left_on='date', right_on='date', how='left').merge(\n",
    "    visitors_B_daily, left_on='date', right_on='date', how='left').merge(\n",
    "    visitors_A_сummulative, left_on='date', right_on='date', how='left').merge(\n",
    "    visitors_B_сummulative, left_on='date', right_on='date', how='left')\n",
    "\n",
    "data.head()\n"
   ]
  },
  {
   "cell_type": "code",
   "execution_count": 40,
   "metadata": {},
   "outputs": [],
   "source": [
    "#создание таблиц с количеством заказов для пользователей, которые сделали хотя бы один заказ\n",
    "orders_by_users_A = orders[orders['group'] == 'A'].groupby('visitor_id', as_index=False).agg(\n",
    "    {'transaction_id': pd.Series.nunique})\n",
    "orders_by_users_A.columns = ['user_id', 'orders']\n",
    "\n",
    "orders_by_users_B = orders[orders['group'] == 'B'].groupby('visitor_id', as_index=False).agg(\n",
    "    {'transaction_id': pd.Series.nunique})\n",
    "\n",
    "orders_by_users_B.columns = ['user_id', 'orders'] "
   ]
  },
  {
   "cell_type": "code",
   "execution_count": 41,
   "metadata": {},
   "outputs": [],
   "source": [
    "#создание таблиц в которым пользователям соответствует количество заказов, в т.ч. 0 для не сделавших заказ\n",
    "sample_A = pd.concat([orders_by_users_A['orders'], pd.Series(0, index=np.arange(\n",
    "    data['visitors_per_date_A'].sum() - len(orders_by_users_A['orders'])), name='orders')], axis=0)\n",
    "\n",
    "sample_B = pd.concat([orders_by_users_B['orders'], pd.Series(0, index=np.arange(\n",
    "    data['visitors_per_date_B'].sum() - len(orders_by_users_B['orders'])), name='orders')], axis=0)"
   ]
  },
  {
   "cell_type": "code",
   "execution_count": 42,
   "metadata": {},
   "outputs": [
    {
     "name": "stdout",
     "output_type": "stream",
     "text": [
      "Средняя конверсия в группе А: 0.030\n",
      "Средняя конверсия в группе B: 0.034\n",
      "Относительный прирост конверсии в группе В: 0.138\n",
      "p-value: 0.017\n",
      "Нулевая гипотеза отвергнута, разница показателей статистически значима!\n"
     ]
    }
   ],
   "source": [
    "alpha = .05 #критический уровень статистической значимости\n",
    "p_value = st.mannwhitneyu(sample_A, sample_B)[1] #U-критерий Манна-Уитни\n",
    "print('Средняя конверсия в группе А:', '{0:.3f}'.format(sample_A.mean()))\n",
    "print('Средняя конверсия в группе B:', '{0:.3f}'.format( sample_B.mean()))\n",
    "print('Относительный прирост конверсии в группе В:', \n",
    "      '{0:.3f}'.format(sample_B.mean() / sample_A.mean() - 1))\n",
    "print('p-value:', '{0:.3f}'.format(p_value))\n",
    "\n",
    "if p_value > alpha:\n",
    "    print('Нельзя отвергнуть нулевую гипотезу, разница показателей статистически незначима!')\n",
    "else:\n",
    "    print('Нулевая гипотеза отвергнута, разница показателей статистически значима!')"
   ]
  },
  {
   "cell_type": "markdown",
   "metadata": {},
   "source": [
    "Разница в показателях при оценке по \"сырым данным\" оказалась статистически значимой. В группе В конверсия выше."
   ]
  },
  {
   "cell_type": "markdown",
   "metadata": {},
   "source": [
    "### Оценка статистической значимости различий в среднем чеке между группами по \"сырым данным\""
   ]
  },
  {
   "cell_type": "code",
   "execution_count": 43,
   "metadata": {},
   "outputs": [
    {
     "name": "stdout",
     "output_type": "stream",
     "text": [
      "Средний чек в группе А: 7333.58\n",
      "Средний чек в группе B: 9230.88\n",
      "Относительный прирост среднего чека в группе В: 0.259\n",
      "p-value: 0.729\n",
      "Нельзя отвергнуть нулевую гипотезу, разница показателей статистически незначима!\n"
     ]
    }
   ],
   "source": [
    "alpha = .05 #критический уровень статистической значимости\n",
    "p_value = st.mannwhitneyu(\n",
    "    orders.query('group == \"A\"')['revenue'], orders.query('group == \"B\"')['revenue'])[1] #U-критерий Манна-Уитни\n",
    "print('Средний чек в группе А:', '{0:.2f}'.format(orders.query('group == \"A\"')['revenue'].mean()))\n",
    "print('Средний чек в группе B:', '{0:.2f}'.format(orders.query('group == \"B\"')['revenue'].mean()))\n",
    "print('Относительный прирост среднего чека в группе В:', '{0:.3f}'.format(\n",
    "    orders.query('group == \"B\"')['revenue'].mean() / orders.query('group == \"A\"')['revenue'].mean() - 1))\n",
    "print('p-value:', '{0:.3f}'.format(p_value))\n",
    "\n",
    "if p_value > alpha:\n",
    "    print('Нельзя отвергнуть нулевую гипотезу, разница показателей статистически незначима!')\n",
    "else:\n",
    "    print('Нулевая гипотеза отвергнута, разница показателей статистически значима!')"
   ]
  },
  {
   "cell_type": "markdown",
   "metadata": {},
   "source": [
    "Мы наблюдаем высокий относительный прирост среднего чека, но статистической значимости разницы в средних чеках также не выявлено."
   ]
  },
  {
   "cell_type": "markdown",
   "metadata": {},
   "source": [
    "### Оценка статистической значимости различий в конверсии между группами по \"очищенным данным\""
   ]
  },
  {
   "cell_type": "markdown",
   "metadata": {},
   "source": [
    "Оценим значимость статистических различий в средней конверсии и среднем чеке в группах А и В в соответсвии с приведённым выше алгоритмом, но используя \"очищенные\" от аномалий данные."
   ]
  },
  {
   "cell_type": "code",
   "execution_count": 50,
   "metadata": {},
   "outputs": [],
   "source": [
    "#получение таблицы с аномальными пользователями\n",
    "users_with_many_orders = pd.concat([orders_by_users_A[orders_by_users_A['orders'] > 2]['user_id'], \n",
    "                                    orders_by_users_B[orders_by_users_B['orders'] > 2]['user_id']], axis=0)\n",
    "users_with_expensive_orders = orders[orders['revenue'] > 28000]['transaction_id']\n",
    "abnormal_users = pd.concat([users_with_many_orders, users_with_expensive_orders], axis=0).drop_duplicates().sort_values()"
   ]
  },
  {
   "cell_type": "code",
   "execution_count": 51,
   "metadata": {},
   "outputs": [],
   "source": [
    "#фильтрация\n",
    "sample_A_filtered = pd.concat([orders_by_users_A[np.logical_not(orders_by_users_A['user_id'].isin(\n",
    "    abnormal_users))]['orders'], pd.Series(0, index=np.arange(data['visitors_per_date_A'].sum() - len(\n",
    "    orders_by_users_A['orders'])), name='orders')], axis=0)\n",
    "\n",
    "sample_B_filtered = pd.concat([orders_by_users_B[np.logical_not(orders_by_users_B['user_id'].isin(\n",
    "    abnormal_users))]['orders'], pd.Series(0, index=np.arange(data['visitors_per_date_B'].sum() - len(\n",
    "    orders_by_users_B['orders'])), name='orders')], axis=0) "
   ]
  },
  {
   "cell_type": "code",
   "execution_count": 52,
   "metadata": {},
   "outputs": [
    {
     "name": "stdout",
     "output_type": "stream",
     "text": [
      "Средняя конверсия в группе А: 0.027\n",
      "Средняя конверсия в группе B: 0.031\n",
      "Относительный прирост конверсии в группе В: 0.170\n",
      "p-value: 0.012\n",
      "Нулевая гипотеза отвергнута, разница показателей статистически значима!\n"
     ]
    }
   ],
   "source": [
    "alpha = .05 #критический уровень статистической значимости\n",
    "p_value = st.mannwhitneyu(sample_A_filtered, sample_B_filtered)[1] #U-критерий Манна-Уитни\n",
    "print('Средняя конверсия в группе А:', '{0:.3f}'.format(sample_A_filtered.mean()))\n",
    "print('Средняя конверсия в группе B:', '{0:.3f}'.format(sample_B_filtered.mean()))\n",
    "print('Относительный прирост конверсии в группе В:', \n",
    "      '{0:.3f}'.format(sample_B_filtered.mean() / sample_A_filtered.mean() - 1))\n",
    "print('p-value:', '{0:.3f}'.format(p_value))\n",
    "\n",
    "if p_value > alpha:\n",
    "    print('Нельзя отвергнуть нулевую гипотезу, разница показателей статистически незначима!')\n",
    "else:\n",
    "    print('Нулевая гипотеза отвергнута, разница показателей статистически значима!')"
   ]
  },
  {
   "cell_type": "markdown",
   "metadata": {},
   "source": [
    "При оценке статистической значимости различий средней конверсии по \"очищенным\" данным, относительный прирост средней конверсии ещё выше, чем по \"сырым\" данным, и при этом разница между показателями статистически значима. Т.е. средняя конверсии в группе B действительно выше."
   ]
  },
  {
   "cell_type": "markdown",
   "metadata": {},
   "source": [
    "### Оценка статистической значимости различий в среднем чеке между группами по \"очищенным данным\""
   ]
  },
  {
   "cell_type": "code",
   "execution_count": 53,
   "metadata": {},
   "outputs": [
    {
     "name": "stdout",
     "output_type": "stream",
     "text": [
      "Средний чек в группе А: 7483.45\n",
      "Средний чек в группе B: 9235.59\n",
      "Относительный прирост среднего чека в группе В: 0.234\n",
      "p-value: 0.661\n",
      "Нельзя отвергнуть нулевую гипотезу, разница показателей статистически незначима!\n"
     ]
    }
   ],
   "source": [
    "alpha = .05 #критический уровень статистической значимости\n",
    "p_value = st.mannwhitneyu(orders[np.logical_and(orders['group'] == 'A', np.logical_not(\n",
    "    orders['visitor_id'].isin(abnormal_users)))]['revenue'], orders[\n",
    "    np.logical_and(orders['group'] == 'B', np.logical_not(orders['visitor_id'].isin(abnormal_users)))]['revenue'])[1] #U-критерий Манна-Уитни\n",
    "print('Средний чек в группе А:', '{0:.2f}'.format(orders[np.logical_and(orders['group'] == 'A', np.logical_not(\n",
    "    orders['visitor_id'].isin(abnormal_users)))]['revenue'].mean()))\n",
    "print('Средний чек в группе B:', '{0:.2f}'.format(orders[np.logical_and(orders['group'] == 'B', np.logical_not(\n",
    "    orders['visitor_id'].isin(abnormal_users)))]['revenue'].mean()))\n",
    "print('Относительный прирост среднего чека в группе В:', '{0:.3f}'.format(orders[np.logical_and(\n",
    "    orders['group'] == 'B', np.logical_not(orders['visitor_id'].isin(\n",
    "        abnormal_users)))]['revenue'].mean() / orders[np.logical_and(orders['group'] == 'A', np.logical_not(\n",
    "    orders['visitor_id'].isin(abnormal_users)))]['revenue'].mean() - 1))\n",
    "print('p-value:', '{0:.3f}'.format(p_value))\n",
    "\n",
    "if p_value > alpha:\n",
    "    print('Нельзя отвергнуть нулевую гипотезу, разница показателей статистически незначима!')\n",
    "else:\n",
    "    print('Нулевая гипотеза отвергнута, разница показателей статистически значима!')"
   ]
  },
  {
   "cell_type": "markdown",
   "metadata": {},
   "source": [
    "При сравнении средних чеков по отфильтрованным данным статиcтической значимости разницы показателей нет."
   ]
  },
  {
   "cell_type": "markdown",
   "metadata": {},
   "source": [
    "### Принятие решения по результатам теста"
   ]
  },
  {
   "cell_type": "markdown",
   "metadata": {},
   "source": [
    "Для принятия решения по результатам теста визуализируем относительное изменение кумулятивной конверсии и среднего чека с учетом отфильтрованных данных."
   ]
  },
  {
   "cell_type": "code",
   "execution_count": 54,
   "metadata": {},
   "outputs": [],
   "source": [
    "orders_filtered = orders[~(orders['visitor_id'].isin(abnormal_users))]\n",
    "orders_aggregated_filtered = dates_groups.apply(\n",
    "    lambda x: orders_filtered[np.logical_and(orders['date'] <= x['date'], orders['group'] == x['group'])].agg(\n",
    "        {'date' : 'max', 'group' : 'max', 'transaction_id' : 'nunique', 'visitor_id' : 'nunique', 'revenue' : 'sum'}), \n",
    "    axis=1).sort_values(by=['date','group']) #получение агрегированных кумулятивных данных о заказах по дням"
   ]
  },
  {
   "cell_type": "code",
   "execution_count": 55,
   "metadata": {},
   "outputs": [],
   "source": [
    "cumulative_data_filtered = orders_aggregated_filtered.merge(\n",
    "    visitors_aggregated, left_on=['date', 'group'], right_on=['date', 'group']) #объединение таблиц с агрегированными данными\n",
    "cumulative_data_filtered.columns = ['date', 'group', 'orders', 'buyers', 'revenue', 'visitors'] \n",
    "#переименование столбцов в полученной таблице"
   ]
  },
  {
   "cell_type": "code",
   "execution_count": 56,
   "metadata": {},
   "outputs": [],
   "source": [
    "cumulative_revenue_A_filtered = cumulative_data_filtered[cumulative_data_filtered['group']=='A'][['date','revenue', 'orders']]\n",
    "cumulative_revenue_B_filtered = cumulative_data_filtered[cumulative_data_filtered['group']=='B'][['date','revenue', 'orders']]\n",
    "#получение таблиц с кумулятивным количеством заказов и кумулятивной выручкой в группах А и В"
   ]
  },
  {
   "cell_type": "code",
   "execution_count": 57,
   "metadata": {},
   "outputs": [],
   "source": [
    "#объединение датафреймов с кумулятивными данными по группам\n",
    "merged_cumulative_revenue_filtered = cumulative_revenue_A_filtered.merge(\n",
    "    cumulative_revenue_B_filtered, left_on='date', right_on='date', how='left', suffixes=['A', 'B'])"
   ]
  },
  {
   "cell_type": "code",
   "execution_count": 58,
   "metadata": {},
   "outputs": [
    {
     "data": {
      "image/png": "[encoded data removed]",
      "text/plain": [
       "<Figure size 1440x504 with 1 Axes>"
      ]
     },
     "metadata": {
      "needs_background": "light"
     },
     "output_type": "display_data"
    }
   ],
   "source": [
    "#построение графика относительного различия кумулятивного среднего чека группы B к А\n",
    "plt.figure(figsize=(20, 7))\n",
    "plt.title('Относительное изменение кумулятивного среднего чека группы B к группе А (очищенные данные)')\n",
    "plt.xlabel('Дата')\n",
    "plt.ylabel('Относительное изменение среднего чека')\n",
    "plt.plot(merged_cumulative_revenue_filtered['date'], (\n",
    "    merged_cumulative_revenue_filtered['revenueB']/merged_cumulative_revenue_filtered['ordersB'])/(\n",
    "    merged_cumulative_revenue_filtered['revenueA']/merged_cumulative_revenue_filtered['ordersA'])-1)\n",
    "plt.axhline(y=0, color='black', linestyle='--')\n",
    "plt.show()"
   ]
  },
  {
   "cell_type": "markdown",
   "metadata": {},
   "source": [
    "По \"очищенным\" данным видно что кумулятивный средний чек в группе В в среднем выше, но к настоящему моменту стабилизировался и даже показывает некоторое снижение, учитывая что статистической разницы в среднем чеке нет, то вряд ли она уже появиться. "
   ]
  },
  {
   "cell_type": "code",
   "execution_count": 59,
   "metadata": {},
   "outputs": [],
   "source": [
    "cumulative_data_filtered['conversion'] = cumulative_data_filtered['orders'] / cumulative_data_filtered['visitors'] #рассчет кумулятивной конверсии\n",
    "cumulative_data_filtered_A = cumulative_data_filtered.query('group == \"A\"') #срез по группе А\n",
    "cumulative_data_filtered_B = cumulative_data_filtered.query('group == \"B\"') #срез по группе B"
   ]
  },
  {
   "cell_type": "code",
   "execution_count": 60,
   "metadata": {},
   "outputs": [],
   "source": [
    "#объединение датафреймов с кумулятивными данными по группам\n",
    "merged_cumulative_conversions_filtered = cumulative_data_filtered_A[['date','conversion']].merge(\n",
    "    cumulative_data_filtered_B[['date','conversion']], left_on='date', right_on='date', how='left', suffixes=['A', 'B'])"
   ]
  },
  {
   "cell_type": "code",
   "execution_count": 61,
   "metadata": {},
   "outputs": [
    {
     "data": {
      "image/png": "[encoded data removed]",
      "text/plain": [
       "<Figure size 1440x504 with 1 Axes>"
      ]
     },
     "metadata": {
      "needs_background": "light"
     },
     "output_type": "display_data"
    }
   ],
   "source": [
    "#построение графика относительного различия кумулятивной конверсии группы B к А\n",
    "plt.figure(figsize=(20, 7))\n",
    "plt.title('Относительное изменение кумулятивной конверсии группы B к группе А (очищенные данные)')\n",
    "plt.xlabel('Дата')\n",
    "plt.ylabel('Относительное изменение кумулятивной конверсии')\n",
    "plt.plot(merged_cumulative_conversions_filtered['date'], \n",
    "         merged_cumulative_conversions_filtered['conversionB'] / merged_cumulative_conversions_filtered['conversionA'] -1)\n",
    "plt.axhline(y=0, color='black', linestyle='--')\n",
    "plt.show()"
   ]
  },
  {
   "cell_type": "markdown",
   "metadata": {},
   "source": [
    "Показатель кумулятивной конверсии в группе В, как и в случае с использованием \"сырых\" данных, существенно превысил конверсию в группе А ещё в начале исследования."
   ]
  },
  {
   "cell_type": "markdown",
   "metadata": {},
   "source": [
    "Учитывая, результаты теста Уилкоксона-Манна-Уитни на \"очищенных\" данных, значения средней и кумулятивной конверсии, можно сделать вывод, что проверяемое нами вмешательство приводит к довольно быстрому увеличению конверсии, и не приводит к увеличению среднего чека. Можно остановить исследование и сделать вывод, что тестируемое вмешательство приведёт к увеличению прибыли, т.к. при том же среднем чеке вырастет конверсия."
   ]
  },
  {
   "cell_type": "markdown",
   "metadata": {},
   "source": [
    "## Общий вывод"
   ]
  },
  {
   "cell_type": "markdown",
   "metadata": {},
   "source": [
    "В ходе выполненного проекта, были проведены:\n",
    "1. Приоритизация выдвинутых гипотез с использованием фреймворков ICE и RICE:\n",
    "- при использовании фреймворка ICE самой приоритетной выступила гипотеза №8;\n",
    "- при использовании фреймворка RICE наиболее приоритетная гипотеза - гипотеза №7;\n",
    "- указанные различия связаны со значительно более высоким показателем охвата у гипотезы №7.\n",
    "2. Анализ А/В-теста:\n",
    "- кумулятивная выручка растёт в обоих группах на протяжении всего теста, и в среднем выше в группе В, однако имеются резкие колебания кумулятивной выручки, что указывает на наличие аномалий;\n",
    "- кумулятивный средний чек в среднем выше в группе В, но в его динамике отмечены аналогичные резкие колебания, также свидетельствующие о наличии аномалий;\n",
    "- кумулятивная конверсия в группе В быстро обгоняет аналогичный показатель в группе А, наблюдается относительная стабилизация показателе в каждой группе;\n",
    "- с использованием точечных графиков и 95-ого, 99-ого перцентилей определены границы для отсечения аномальных пользователей: пользователи совершившие более 2-х заказов и заказы стоимостью более 28000;\n",
    "- при оценке статистической значимости в показателях средней конверсии и среднего чека по группам на \"сырых\" данных с использованием U-критерия Манна-Уитни, получено отсутствие статистически значимой разницы в различиях по обоим показателям;\n",
    "- при аналогичной оценке на \"очищенных\" от аномалий данных, выявлена статистически значимая разница в показателе средней конверсии (в группе В средняя конверсия достоверно выше, относительный прирост - 0,184), и не выявлено статистически значимых различий в показателях среднего чека;\n",
    "- принято решение остановить тест с фиксацией следующего результата: тестируемое вмешательство приводит к росту конверсии, но не приводит к увеличению среднего чека."
   ]
  }
 ],
 "metadata": {
  "ExecuteTimeLog": [
   {
    "duration": 445,
    "start_time": "2022-05-05T19:51:07.510Z"
   },
   {
    "duration": 65,
    "start_time": "2022-05-05T19:52:17.658Z"
   },
   {
    "duration": 25,
    "start_time": "2022-05-05T19:52:27.329Z"
   },
   {
    "duration": 8,
    "start_time": "2022-05-05T19:52:36.344Z"
   },
   {
    "duration": 23,
    "start_time": "2022-05-05T19:52:42.048Z"
   },
   {
    "duration": 418,
    "start_time": "2022-05-06T19:12:16.641Z"
   },
   {
    "duration": 16,
    "start_time": "2022-05-06T19:12:17.062Z"
   },
   {
    "duration": 22,
    "start_time": "2022-05-06T19:12:17.085Z"
   },
   {
    "duration": 63,
    "start_time": "2022-05-06T19:14:03.615Z"
   },
   {
    "duration": 4,
    "start_time": "2022-05-06T19:14:43.629Z"
   },
   {
    "duration": 8,
    "start_time": "2022-05-06T19:14:57.422Z"
   },
   {
    "duration": 4,
    "start_time": "2022-05-06T19:15:07.881Z"
   },
   {
    "duration": 4,
    "start_time": "2022-05-06T19:15:09.711Z"
   },
   {
    "duration": 8,
    "start_time": "2022-05-06T19:15:21.969Z"
   },
   {
    "duration": 406,
    "start_time": "2022-05-06T19:15:30.384Z"
   },
   {
    "duration": 11,
    "start_time": "2022-05-06T19:15:30.792Z"
   },
   {
    "duration": 21,
    "start_time": "2022-05-06T19:15:30.805Z"
   },
   {
    "duration": 5,
    "start_time": "2022-05-06T19:15:30.829Z"
   },
   {
    "duration": 19,
    "start_time": "2022-05-06T19:15:30.835Z"
   },
   {
    "duration": 1944,
    "start_time": "2022-05-06T19:19:02.144Z"
   },
   {
    "duration": 5,
    "start_time": "2022-05-06T19:19:50.149Z"
   },
   {
    "duration": 10,
    "start_time": "2022-05-06T19:36:54.427Z"
   },
   {
    "duration": 4,
    "start_time": "2022-05-06T19:37:15.494Z"
   },
   {
    "duration": 11,
    "start_time": "2022-05-06T19:37:16.348Z"
   },
   {
    "duration": 5,
    "start_time": "2022-05-06T19:40:09.351Z"
   },
   {
    "duration": 4,
    "start_time": "2022-05-06T19:42:51.010Z"
   },
   {
    "duration": 11,
    "start_time": "2022-05-06T19:42:54.101Z"
   },
   {
    "duration": 11,
    "start_time": "2022-05-06T19:42:54.635Z"
   },
   {
    "duration": 17,
    "start_time": "2022-05-06T19:43:01.655Z"
   },
   {
    "duration": 1663,
    "start_time": "2022-05-06T19:43:15.308Z"
   },
   {
    "duration": 0,
    "start_time": "2022-05-06T19:43:16.974Z"
   },
   {
    "duration": 439,
    "start_time": "2022-05-06T19:43:29.665Z"
   },
   {
    "duration": 11,
    "start_time": "2022-05-06T19:43:30.107Z"
   },
   {
    "duration": 16,
    "start_time": "2022-05-06T19:43:30.120Z"
   },
   {
    "duration": 6,
    "start_time": "2022-05-06T19:43:30.138Z"
   },
   {
    "duration": 11,
    "start_time": "2022-05-06T19:43:30.146Z"
   },
   {
    "duration": 27,
    "start_time": "2022-05-06T19:43:30.158Z"
   },
   {
    "duration": 5,
    "start_time": "2022-05-06T19:43:30.187Z"
   },
   {
    "duration": 119,
    "start_time": "2022-05-06T19:46:30.651Z"
   },
   {
    "duration": 7,
    "start_time": "2022-05-06T19:46:53.480Z"
   },
   {
    "duration": 12,
    "start_time": "2022-05-06T19:47:17.049Z"
   },
   {
    "duration": 33,
    "start_time": "2022-05-06T19:59:09.718Z"
   },
   {
    "duration": 34,
    "start_time": "2022-05-06T19:59:29.332Z"
   },
   {
    "duration": 12,
    "start_time": "2022-05-06T19:59:41.361Z"
   },
   {
    "duration": 13,
    "start_time": "2022-05-06T20:00:00.471Z"
   },
   {
    "duration": 6,
    "start_time": "2022-05-06T20:04:36.674Z"
   },
   {
    "duration": 16,
    "start_time": "2022-05-06T20:04:53.208Z"
   },
   {
    "duration": 4,
    "start_time": "2022-05-06T20:05:02.621Z"
   },
   {
    "duration": 23,
    "start_time": "2022-05-06T20:05:03.661Z"
   },
   {
    "duration": 5,
    "start_time": "2022-05-06T20:06:05.313Z"
   },
   {
    "duration": 17,
    "start_time": "2022-05-06T20:06:05.908Z"
   },
   {
    "duration": 16,
    "start_time": "2022-05-06T20:06:40.396Z"
   },
   {
    "duration": 5,
    "start_time": "2022-05-06T20:10:05.673Z"
   },
   {
    "duration": 17,
    "start_time": "2022-05-06T20:10:10.868Z"
   },
   {
    "duration": 428,
    "start_time": "2022-05-08T07:22:36.639Z"
   },
   {
    "duration": 59,
    "start_time": "2022-05-08T07:22:37.069Z"
   },
   {
    "duration": 16,
    "start_time": "2022-05-08T07:22:37.129Z"
   },
   {
    "duration": 3,
    "start_time": "2022-05-08T07:22:37.147Z"
   },
   {
    "duration": 9,
    "start_time": "2022-05-08T07:22:37.152Z"
   },
   {
    "duration": 13,
    "start_time": "2022-05-08T07:22:37.162Z"
   },
   {
    "duration": 7,
    "start_time": "2022-05-08T07:22:37.176Z"
   },
   {
    "duration": 15,
    "start_time": "2022-05-08T07:22:37.184Z"
   },
   {
    "duration": 5,
    "start_time": "2022-05-08T07:22:37.233Z"
   },
   {
    "duration": 21,
    "start_time": "2022-05-08T07:22:37.240Z"
   },
   {
    "duration": 17,
    "start_time": "2022-05-08T07:22:37.262Z"
   },
   {
    "duration": 4,
    "start_time": "2022-05-08T07:22:37.280Z"
   },
   {
    "duration": 481,
    "start_time": "2022-05-08T07:26:27.385Z"
   },
   {
    "duration": 4,
    "start_time": "2022-05-08T07:34:35.695Z"
   },
   {
    "duration": 1240,
    "start_time": "2022-05-08T07:36:16.850Z"
   },
   {
    "duration": 4,
    "start_time": "2022-05-08T07:37:05.565Z"
   },
   {
    "duration": 14,
    "start_time": "2022-05-08T07:37:13.774Z"
   },
   {
    "duration": 7,
    "start_time": "2022-05-08T07:41:18.390Z"
   },
   {
    "duration": 6,
    "start_time": "2022-05-08T07:43:24.371Z"
   },
   {
    "duration": 22,
    "start_time": "2022-05-08T07:47:59.852Z"
   },
   {
    "duration": 3,
    "start_time": "2022-05-08T07:49:04.861Z"
   },
   {
    "duration": 31,
    "start_time": "2022-05-08T07:49:10.621Z"
   },
   {
    "duration": 25,
    "start_time": "2022-05-08T07:49:32.612Z"
   },
   {
    "duration": 182,
    "start_time": "2022-05-08T07:50:56.103Z"
   },
   {
    "duration": 139,
    "start_time": "2022-05-08T08:11:48.233Z"
   },
   {
    "duration": 8,
    "start_time": "2022-05-08T08:15:23.021Z"
   },
   {
    "duration": 8,
    "start_time": "2022-05-08T08:15:45.054Z"
   },
   {
    "duration": 14,
    "start_time": "2022-05-08T08:16:06.454Z"
   },
   {
    "duration": 12,
    "start_time": "2022-05-08T08:16:29.005Z"
   },
   {
    "duration": 5,
    "start_time": "2022-05-08T08:18:37.214Z"
   },
   {
    "duration": 261,
    "start_time": "2022-05-08T08:27:43.265Z"
   },
   {
    "duration": 195,
    "start_time": "2022-05-08T08:28:20.665Z"
   },
   {
    "duration": 7,
    "start_time": "2022-05-08T08:28:25.372Z"
   },
   {
    "duration": 281,
    "start_time": "2022-05-08T08:28:27.505Z"
   },
   {
    "duration": 208,
    "start_time": "2022-05-08T08:29:40.162Z"
   },
   {
    "duration": 212,
    "start_time": "2022-05-08T08:30:17.137Z"
   },
   {
    "duration": 272,
    "start_time": "2022-05-08T08:30:37.683Z"
   },
   {
    "duration": 274,
    "start_time": "2022-05-08T08:31:10.331Z"
   },
   {
    "duration": 296,
    "start_time": "2022-05-08T08:31:38.102Z"
   },
   {
    "duration": 248,
    "start_time": "2022-05-08T08:33:26.771Z"
   },
   {
    "duration": 260,
    "start_time": "2022-05-08T08:33:46.042Z"
   },
   {
    "duration": 241,
    "start_time": "2022-05-08T08:46:39.868Z"
   },
   {
    "duration": 180,
    "start_time": "2022-05-08T09:57:26.684Z"
   },
   {
    "duration": 184,
    "start_time": "2022-05-08T09:57:49.463Z"
   },
   {
    "duration": 7,
    "start_time": "2022-05-08T09:58:16.432Z"
   },
   {
    "duration": 324,
    "start_time": "2022-05-08T09:58:17.974Z"
   },
   {
    "duration": 388,
    "start_time": "2022-05-08T09:58:45.957Z"
   },
   {
    "duration": 8,
    "start_time": "2022-05-08T12:03:05.642Z"
   },
   {
    "duration": 300,
    "start_time": "2022-05-08T12:03:06.334Z"
   },
   {
    "duration": 303,
    "start_time": "2022-05-08T12:05:05.854Z"
   },
   {
    "duration": 282,
    "start_time": "2022-05-08T12:06:07.635Z"
   },
   {
    "duration": 5,
    "start_time": "2022-05-08T12:06:29.354Z"
   },
   {
    "duration": 378,
    "start_time": "2022-05-08T12:06:44.693Z"
   },
   {
    "duration": 272,
    "start_time": "2022-05-08T12:07:26.754Z"
   },
   {
    "duration": 273,
    "start_time": "2022-05-08T12:08:52.654Z"
   },
   {
    "duration": 304,
    "start_time": "2022-05-08T12:13:16.453Z"
   },
   {
    "duration": 287,
    "start_time": "2022-05-08T12:15:49.192Z"
   },
   {
    "duration": 340,
    "start_time": "2022-05-08T12:17:48.254Z"
   },
   {
    "duration": 303,
    "start_time": "2022-05-08T12:19:49.080Z"
   },
   {
    "duration": 310,
    "start_time": "2022-05-08T12:20:21.479Z"
   },
   {
    "duration": 274,
    "start_time": "2022-05-08T12:20:32.953Z"
   },
   {
    "duration": 288,
    "start_time": "2022-05-08T12:20:51.552Z"
   },
   {
    "duration": 9,
    "start_time": "2022-05-08T12:27:40.330Z"
   },
   {
    "duration": 216,
    "start_time": "2022-05-08T12:31:49.131Z"
   },
   {
    "duration": 435,
    "start_time": "2022-05-08T12:32:12.932Z"
   },
   {
    "duration": 27,
    "start_time": "2022-05-08T13:27:24.437Z"
   },
   {
    "duration": 215,
    "start_time": "2022-05-08T13:27:41.797Z"
   },
   {
    "duration": 202,
    "start_time": "2022-05-08T13:28:25.110Z"
   },
   {
    "duration": 302,
    "start_time": "2022-05-08T13:32:32.370Z"
   },
   {
    "duration": 1250,
    "start_time": "2022-05-08T19:03:59.838Z"
   },
   {
    "duration": 2326,
    "start_time": "2022-05-08T19:04:01.091Z"
   },
   {
    "duration": 18,
    "start_time": "2022-05-08T19:04:03.419Z"
   },
   {
    "duration": 4,
    "start_time": "2022-05-08T19:04:03.439Z"
   },
   {
    "duration": 10,
    "start_time": "2022-05-08T19:04:03.446Z"
   },
   {
    "duration": 17,
    "start_time": "2022-05-08T19:04:03.458Z"
   },
   {
    "duration": 12,
    "start_time": "2022-05-08T19:04:03.476Z"
   },
   {
    "duration": 47,
    "start_time": "2022-05-08T19:04:03.490Z"
   },
   {
    "duration": 6,
    "start_time": "2022-05-08T19:04:03.540Z"
   },
   {
    "duration": 27,
    "start_time": "2022-05-08T19:04:03.548Z"
   },
   {
    "duration": 50,
    "start_time": "2022-05-08T19:04:03.577Z"
   },
   {
    "duration": 4,
    "start_time": "2022-05-08T19:04:03.630Z"
   },
   {
    "duration": 19,
    "start_time": "2022-05-08T19:04:03.636Z"
   },
   {
    "duration": 8,
    "start_time": "2022-05-08T19:04:03.658Z"
   },
   {
    "duration": 204,
    "start_time": "2022-05-08T19:04:03.668Z"
   },
   {
    "duration": 129,
    "start_time": "2022-05-08T19:04:03.874Z"
   },
   {
    "duration": 7,
    "start_time": "2022-05-08T19:04:04.005Z"
   },
   {
    "duration": 9,
    "start_time": "2022-05-08T19:04:04.022Z"
   },
   {
    "duration": 8,
    "start_time": "2022-05-08T19:04:04.033Z"
   },
   {
    "duration": 343,
    "start_time": "2022-05-08T19:04:04.043Z"
   },
   {
    "duration": 244,
    "start_time": "2022-05-08T19:04:04.387Z"
   },
   {
    "duration": 8,
    "start_time": "2022-05-08T19:04:04.632Z"
   },
   {
    "duration": 418,
    "start_time": "2022-05-08T19:04:04.641Z"
   },
   {
    "duration": 8,
    "start_time": "2022-05-08T19:04:05.061Z"
   },
   {
    "duration": 336,
    "start_time": "2022-05-08T19:04:05.071Z"
   },
   {
    "duration": 8,
    "start_time": "2022-05-08T19:04:05.409Z"
   },
   {
    "duration": 338,
    "start_time": "2022-05-08T19:04:05.418Z"
   },
   {
    "duration": 165,
    "start_time": "2022-05-08T19:04:05.757Z"
   },
   {
    "duration": 4,
    "start_time": "2022-05-08T19:06:08.569Z"
   },
   {
    "duration": 173,
    "start_time": "2022-05-08T19:18:12.149Z"
   },
   {
    "duration": 170,
    "start_time": "2022-05-08T19:21:44.336Z"
   },
   {
    "duration": 168,
    "start_time": "2022-05-08T19:22:06.129Z"
   },
   {
    "duration": 234,
    "start_time": "2022-05-08T19:22:25.548Z"
   },
   {
    "duration": 168,
    "start_time": "2022-05-08T19:22:39.589Z"
   },
   {
    "duration": 163,
    "start_time": "2022-05-08T19:22:50.048Z"
   },
   {
    "duration": 173,
    "start_time": "2022-05-08T19:23:33.937Z"
   },
   {
    "duration": 162,
    "start_time": "2022-05-08T19:23:45.670Z"
   },
   {
    "duration": 168,
    "start_time": "2022-05-08T19:24:05.669Z"
   },
   {
    "duration": 220,
    "start_time": "2022-05-08T19:27:00.630Z"
   },
   {
    "duration": 167,
    "start_time": "2022-05-08T19:27:33.017Z"
   },
   {
    "duration": 154,
    "start_time": "2022-05-08T19:27:45.786Z"
   },
   {
    "duration": 165,
    "start_time": "2022-05-08T19:28:43.150Z"
   },
   {
    "duration": 177,
    "start_time": "2022-05-08T19:29:01.076Z"
   },
   {
    "duration": 221,
    "start_time": "2022-05-08T19:29:09.901Z"
   },
   {
    "duration": 266,
    "start_time": "2022-05-08T19:30:06.709Z"
   },
   {
    "duration": 168,
    "start_time": "2022-05-08T19:30:35.909Z"
   },
   {
    "duration": 5,
    "start_time": "2022-05-08T19:41:06.218Z"
   },
   {
    "duration": 5,
    "start_time": "2022-05-08T19:41:43.337Z"
   },
   {
    "duration": 19,
    "start_time": "2022-05-08T20:08:12.560Z"
   },
   {
    "duration": 454,
    "start_time": "2022-05-08T20:08:20.985Z"
   },
   {
    "duration": 34,
    "start_time": "2022-05-08T20:23:58.738Z"
   },
   {
    "duration": 6,
    "start_time": "2022-05-08T20:24:53.199Z"
   },
   {
    "duration": 8,
    "start_time": "2022-05-08T20:25:05.698Z"
   },
   {
    "duration": 9,
    "start_time": "2022-05-08T20:25:23.785Z"
   },
   {
    "duration": 143,
    "start_time": "2022-05-08T20:35:19.188Z"
   },
   {
    "duration": 10,
    "start_time": "2022-05-08T20:46:54.818Z"
   },
   {
    "duration": 14,
    "start_time": "2022-05-08T20:47:05.265Z"
   },
   {
    "duration": 10,
    "start_time": "2022-05-08T20:47:35.184Z"
   },
   {
    "duration": 14,
    "start_time": "2022-05-08T20:47:51.430Z"
   },
   {
    "duration": 29,
    "start_time": "2022-05-08T20:48:26.858Z"
   },
   {
    "duration": 11,
    "start_time": "2022-05-08T20:48:32.960Z"
   },
   {
    "duration": 3167,
    "start_time": "2022-05-08T20:51:58.001Z"
   },
   {
    "duration": 13,
    "start_time": "2022-05-08T20:52:19.239Z"
   },
   {
    "duration": 14,
    "start_time": "2022-05-08T20:57:46.471Z"
   },
   {
    "duration": 12,
    "start_time": "2022-05-08T20:58:02.551Z"
   },
   {
    "duration": 11,
    "start_time": "2022-05-08T21:06:10.200Z"
   },
   {
    "duration": 9,
    "start_time": "2022-05-08T21:07:06.918Z"
   },
   {
    "duration": 8,
    "start_time": "2022-05-08T21:07:25.079Z"
   },
   {
    "duration": 12,
    "start_time": "2022-05-08T21:07:28.662Z"
   },
   {
    "duration": 12,
    "start_time": "2022-05-08T21:07:53.431Z"
   },
   {
    "duration": 3,
    "start_time": "2022-05-08T21:11:48.617Z"
   },
   {
    "duration": 6,
    "start_time": "2022-05-08T21:11:59.828Z"
   },
   {
    "duration": 7,
    "start_time": "2022-05-08T21:13:29.359Z"
   },
   {
    "duration": 5,
    "start_time": "2022-05-08T21:13:33.576Z"
   },
   {
    "duration": 7,
    "start_time": "2022-05-08T21:13:57.029Z"
   },
   {
    "duration": 6,
    "start_time": "2022-05-08T21:14:32.958Z"
   },
   {
    "duration": 13,
    "start_time": "2022-05-08T21:15:21.102Z"
   },
   {
    "duration": 14,
    "start_time": "2022-05-08T21:17:07.819Z"
   },
   {
    "duration": 13,
    "start_time": "2022-05-08T21:17:24.943Z"
   },
   {
    "duration": 15,
    "start_time": "2022-05-08T21:18:01.142Z"
   },
   {
    "duration": 193,
    "start_time": "2022-05-08T21:18:38.638Z"
   },
   {
    "duration": 14,
    "start_time": "2022-05-08T21:18:48.638Z"
   },
   {
    "duration": 22,
    "start_time": "2022-05-08T21:19:50.716Z"
   },
   {
    "duration": 22,
    "start_time": "2022-05-08T21:20:45.958Z"
   },
   {
    "duration": 16,
    "start_time": "2022-05-08T21:22:32.502Z"
   },
   {
    "duration": 21,
    "start_time": "2022-05-08T21:22:42.742Z"
   },
   {
    "duration": 21,
    "start_time": "2022-05-08T21:23:41.345Z"
   },
   {
    "duration": 35,
    "start_time": "2022-05-08T21:24:20.679Z"
   },
   {
    "duration": 40,
    "start_time": "2022-05-08T21:24:51.159Z"
   },
   {
    "duration": 38,
    "start_time": "2022-05-08T21:25:29.272Z"
   },
   {
    "duration": 37,
    "start_time": "2022-05-08T21:26:38.669Z"
   },
   {
    "duration": 18,
    "start_time": "2022-05-08T21:27:29.503Z"
   },
   {
    "duration": 13,
    "start_time": "2022-05-08T21:27:58.679Z"
   },
   {
    "duration": 19,
    "start_time": "2022-05-08T21:29:02.589Z"
   },
   {
    "duration": 9,
    "start_time": "2022-05-08T21:30:20.599Z"
   },
   {
    "duration": 13,
    "start_time": "2022-05-08T21:30:27.023Z"
   },
   {
    "duration": 4,
    "start_time": "2022-05-08T21:31:25.497Z"
   },
   {
    "duration": 18,
    "start_time": "2022-05-08T21:31:31.065Z"
   },
   {
    "duration": 3215,
    "start_time": "2022-05-08T21:32:29.943Z"
   },
   {
    "duration": 9,
    "start_time": "2022-05-08T21:32:34.719Z"
   },
   {
    "duration": 4,
    "start_time": "2022-05-08T21:32:35.029Z"
   },
   {
    "duration": 22,
    "start_time": "2022-05-08T21:32:36.079Z"
   },
   {
    "duration": 8,
    "start_time": "2022-05-08T21:33:44.910Z"
   },
   {
    "duration": 4,
    "start_time": "2022-05-08T21:33:45.399Z"
   },
   {
    "duration": 15,
    "start_time": "2022-05-08T21:33:45.903Z"
   },
   {
    "duration": 11,
    "start_time": "2022-05-08T21:37:53.016Z"
   },
   {
    "duration": 4,
    "start_time": "2022-05-08T21:37:56.279Z"
   },
   {
    "duration": 15,
    "start_time": "2022-05-08T21:37:57.903Z"
   },
   {
    "duration": 11,
    "start_time": "2022-05-08T21:41:25.399Z"
   },
   {
    "duration": 4,
    "start_time": "2022-05-08T21:41:26.828Z"
   },
   {
    "duration": 13,
    "start_time": "2022-05-08T21:41:27.639Z"
   },
   {
    "duration": 6,
    "start_time": "2022-05-08T21:42:48.438Z"
   },
   {
    "duration": 11,
    "start_time": "2022-05-08T21:42:54.263Z"
   },
   {
    "duration": 8,
    "start_time": "2022-05-08T21:43:20.239Z"
   },
   {
    "duration": 16,
    "start_time": "2022-05-08T21:43:25.799Z"
   },
   {
    "duration": 53,
    "start_time": "2022-05-08T21:44:28.759Z"
   },
   {
    "duration": 5,
    "start_time": "2022-05-08T21:45:05.357Z"
   },
   {
    "duration": 43,
    "start_time": "2022-05-09T08:49:53.558Z"
   },
   {
    "duration": 1242,
    "start_time": "2022-05-09T08:50:11.717Z"
   },
   {
    "duration": 33,
    "start_time": "2022-05-09T08:50:12.962Z"
   },
   {
    "duration": 11,
    "start_time": "2022-05-09T08:50:12.997Z"
   },
   {
    "duration": 4,
    "start_time": "2022-05-09T08:50:13.010Z"
   },
   {
    "duration": 13,
    "start_time": "2022-05-09T08:50:13.016Z"
   },
   {
    "duration": 46,
    "start_time": "2022-05-09T08:50:13.031Z"
   },
   {
    "duration": 13,
    "start_time": "2022-05-09T08:50:13.079Z"
   },
   {
    "duration": 19,
    "start_time": "2022-05-09T08:50:13.093Z"
   },
   {
    "duration": 12,
    "start_time": "2022-05-09T08:50:13.113Z"
   },
   {
    "duration": 40,
    "start_time": "2022-05-09T08:50:13.127Z"
   },
   {
    "duration": 12,
    "start_time": "2022-05-09T08:50:13.168Z"
   },
   {
    "duration": 4,
    "start_time": "2022-05-09T08:50:13.181Z"
   },
   {
    "duration": 31,
    "start_time": "2022-05-09T08:50:13.187Z"
   },
   {
    "duration": 13,
    "start_time": "2022-05-09T08:50:13.221Z"
   },
   {
    "duration": 160,
    "start_time": "2022-05-09T08:50:13.235Z"
   },
   {
    "duration": 110,
    "start_time": "2022-05-09T08:50:13.396Z"
   },
   {
    "duration": 20,
    "start_time": "2022-05-09T08:50:13.507Z"
   },
   {
    "duration": 28,
    "start_time": "2022-05-09T08:50:13.528Z"
   },
   {
    "duration": 11,
    "start_time": "2022-05-09T08:50:13.558Z"
   },
   {
    "duration": 277,
    "start_time": "2022-05-09T08:50:13.570Z"
   },
   {
    "duration": 217,
    "start_time": "2022-05-09T08:50:13.849Z"
   },
   {
    "duration": 6,
    "start_time": "2022-05-09T08:50:14.067Z"
   },
   {
    "duration": 408,
    "start_time": "2022-05-09T08:50:14.074Z"
   },
   {
    "duration": 8,
    "start_time": "2022-05-09T08:50:14.483Z"
   },
   {
    "duration": 258,
    "start_time": "2022-05-09T08:50:14.493Z"
   },
   {
    "duration": 10,
    "start_time": "2022-05-09T08:50:14.752Z"
   },
   {
    "duration": 295,
    "start_time": "2022-05-09T08:50:14.763Z"
   },
   {
    "duration": 153,
    "start_time": "2022-05-09T08:50:15.059Z"
   },
   {
    "duration": 11,
    "start_time": "2022-05-09T08:50:15.213Z"
   },
   {
    "duration": 165,
    "start_time": "2022-05-09T08:50:15.226Z"
   },
   {
    "duration": 4,
    "start_time": "2022-05-09T08:50:15.393Z"
   },
   {
    "duration": 29,
    "start_time": "2022-05-09T08:50:15.399Z"
   },
   {
    "duration": 6,
    "start_time": "2022-05-09T08:50:15.429Z"
   },
   {
    "duration": 16,
    "start_time": "2022-05-09T08:50:15.436Z"
   },
   {
    "duration": 25,
    "start_time": "2022-05-09T08:50:15.453Z"
   },
   {
    "duration": 12,
    "start_time": "2022-05-09T08:50:15.479Z"
   },
   {
    "duration": 4,
    "start_time": "2022-05-09T08:50:27.839Z"
   },
   {
    "duration": 5,
    "start_time": "2022-05-09T08:54:31.963Z"
   },
   {
    "duration": 7,
    "start_time": "2022-05-09T08:55:08.651Z"
   },
   {
    "duration": 6,
    "start_time": "2022-05-09T08:55:59.203Z"
   },
   {
    "duration": 6,
    "start_time": "2022-05-09T08:56:26.299Z"
   },
   {
    "duration": 7,
    "start_time": "2022-05-09T09:02:51.499Z"
   },
   {
    "duration": 6,
    "start_time": "2022-05-09T09:03:04.405Z"
   },
   {
    "duration": 7,
    "start_time": "2022-05-09T09:12:52.700Z"
   },
   {
    "duration": 8,
    "start_time": "2022-05-09T09:18:39.761Z"
   },
   {
    "duration": 7,
    "start_time": "2022-05-09T09:18:52.036Z"
   },
   {
    "duration": 9,
    "start_time": "2022-05-09T09:40:06.443Z"
   },
   {
    "duration": 8,
    "start_time": "2022-05-09T09:55:22.181Z"
   },
   {
    "duration": 10,
    "start_time": "2022-05-09T09:56:30.029Z"
   },
   {
    "duration": 5,
    "start_time": "2022-05-09T09:57:04.058Z"
   },
   {
    "duration": 5,
    "start_time": "2022-05-09T09:58:25.791Z"
   },
   {
    "duration": 179,
    "start_time": "2022-05-09T09:58:49.940Z"
   },
   {
    "duration": 17,
    "start_time": "2022-05-09T09:59:07.485Z"
   },
   {
    "duration": 2042,
    "start_time": "2022-05-09T10:01:05.547Z"
   },
   {
    "duration": 1998,
    "start_time": "2022-05-09T10:01:15.902Z"
   },
   {
    "duration": 4,
    "start_time": "2022-05-09T10:01:44.515Z"
   },
   {
    "duration": 4,
    "start_time": "2022-05-09T10:03:27.009Z"
   },
   {
    "duration": 5,
    "start_time": "2022-05-09T10:05:57.709Z"
   },
   {
    "duration": 13,
    "start_time": "2022-05-09T10:06:20.917Z"
   },
   {
    "duration": 13,
    "start_time": "2022-05-09T10:06:42.417Z"
   },
   {
    "duration": 12,
    "start_time": "2022-05-09T10:07:35.858Z"
   },
   {
    "duration": 14,
    "start_time": "2022-05-09T10:07:43.478Z"
   },
   {
    "duration": 4,
    "start_time": "2022-05-09T10:09:20.759Z"
   },
   {
    "duration": 7,
    "start_time": "2022-05-09T10:11:37.268Z"
   },
   {
    "duration": 5,
    "start_time": "2022-05-09T10:11:54.219Z"
   },
   {
    "duration": 7,
    "start_time": "2022-05-09T10:13:01.473Z"
   },
   {
    "duration": 9,
    "start_time": "2022-05-09T10:29:54.773Z"
   },
   {
    "duration": 8,
    "start_time": "2022-05-09T10:32:47.428Z"
   },
   {
    "duration": 10,
    "start_time": "2022-05-09T10:33:35.250Z"
   },
   {
    "duration": 9,
    "start_time": "2022-05-09T10:34:49.536Z"
   },
   {
    "duration": 18,
    "start_time": "2022-05-09T10:39:31.656Z"
   },
   {
    "duration": 28,
    "start_time": "2022-05-09T10:40:02.217Z"
   },
   {
    "duration": 23,
    "start_time": "2022-05-09T11:25:25.563Z"
   },
   {
    "duration": 21,
    "start_time": "2022-05-09T12:12:51.776Z"
   },
   {
    "duration": 5,
    "start_time": "2022-05-09T12:18:08.495Z"
   },
   {
    "duration": 5,
    "start_time": "2022-05-09T12:18:09.094Z"
   },
   {
    "duration": 10,
    "start_time": "2022-05-09T12:18:36.065Z"
   },
   {
    "duration": 178,
    "start_time": "2022-05-09T12:20:00.859Z"
   },
   {
    "duration": 153,
    "start_time": "2022-05-09T12:20:11.064Z"
   },
   {
    "duration": 7,
    "start_time": "2022-05-09T12:20:33.389Z"
   },
   {
    "duration": 8,
    "start_time": "2022-05-09T12:23:03.935Z"
   },
   {
    "duration": 6,
    "start_time": "2022-05-09T12:25:01.729Z"
   },
   {
    "duration": 6,
    "start_time": "2022-05-09T12:25:07.309Z"
   },
   {
    "duration": 8,
    "start_time": "2022-05-09T12:25:09.429Z"
   },
   {
    "duration": 14,
    "start_time": "2022-05-09T12:26:08.117Z"
   },
   {
    "duration": 6,
    "start_time": "2022-05-09T12:26:51.308Z"
   },
   {
    "duration": 7,
    "start_time": "2022-05-09T12:26:51.910Z"
   },
   {
    "duration": 6,
    "start_time": "2022-05-09T12:27:52.630Z"
   },
   {
    "duration": 332,
    "start_time": "2022-05-09T12:29:37.423Z"
   },
   {
    "duration": 8,
    "start_time": "2022-05-09T12:34:41.217Z"
   },
   {
    "duration": 8,
    "start_time": "2022-05-09T12:36:15.109Z"
   },
   {
    "duration": 422,
    "start_time": "2022-05-09T12:39:42.454Z"
   },
   {
    "duration": 27,
    "start_time": "2022-05-09T13:20:39.606Z"
   },
   {
    "duration": 1095,
    "start_time": "2022-05-09T13:30:28.062Z"
   },
   {
    "duration": 38,
    "start_time": "2022-05-09T13:30:29.159Z"
   },
   {
    "duration": 13,
    "start_time": "2022-05-09T13:30:29.198Z"
   },
   {
    "duration": 3,
    "start_time": "2022-05-09T13:30:29.213Z"
   },
   {
    "duration": 7,
    "start_time": "2022-05-09T13:30:29.219Z"
   },
   {
    "duration": 11,
    "start_time": "2022-05-09T13:30:29.228Z"
   },
   {
    "duration": 6,
    "start_time": "2022-05-09T13:30:29.241Z"
   },
   {
    "duration": 12,
    "start_time": "2022-05-09T13:30:29.248Z"
   },
   {
    "duration": 4,
    "start_time": "2022-05-09T13:30:29.262Z"
   },
   {
    "duration": 23,
    "start_time": "2022-05-09T13:30:29.268Z"
   },
   {
    "duration": 45,
    "start_time": "2022-05-09T13:30:29.292Z"
   },
   {
    "duration": 4,
    "start_time": "2022-05-09T13:30:29.339Z"
   },
   {
    "duration": 16,
    "start_time": "2022-05-09T13:30:29.344Z"
   },
   {
    "duration": 9,
    "start_time": "2022-05-09T13:30:29.364Z"
   },
   {
    "duration": 188,
    "start_time": "2022-05-09T13:30:29.374Z"
   },
   {
    "duration": 122,
    "start_time": "2022-05-09T13:30:29.564Z"
   },
   {
    "duration": 7,
    "start_time": "2022-05-09T13:30:29.687Z"
   },
   {
    "duration": 11,
    "start_time": "2022-05-09T13:30:29.696Z"
   },
   {
    "duration": 21,
    "start_time": "2022-05-09T13:30:29.709Z"
   },
   {
    "duration": 296,
    "start_time": "2022-05-09T13:30:29.732Z"
   },
   {
    "duration": 220,
    "start_time": "2022-05-09T13:30:30.030Z"
   },
   {
    "duration": 7,
    "start_time": "2022-05-09T13:30:30.252Z"
   },
   {
    "duration": 329,
    "start_time": "2022-05-09T13:30:30.261Z"
   },
   {
    "duration": 9,
    "start_time": "2022-05-09T13:30:30.592Z"
   },
   {
    "duration": 253,
    "start_time": "2022-05-09T13:30:30.603Z"
   },
   {
    "duration": 8,
    "start_time": "2022-05-09T13:30:30.858Z"
   },
   {
    "duration": 346,
    "start_time": "2022-05-09T13:30:30.868Z"
   },
   {
    "duration": 162,
    "start_time": "2022-05-09T13:30:31.223Z"
   },
   {
    "duration": 5,
    "start_time": "2022-05-09T13:30:31.387Z"
   },
   {
    "duration": 185,
    "start_time": "2022-05-09T13:30:31.394Z"
   },
   {
    "duration": 5,
    "start_time": "2022-05-09T13:30:31.580Z"
   },
   {
    "duration": 12,
    "start_time": "2022-05-09T13:30:31.587Z"
   },
   {
    "duration": 11,
    "start_time": "2022-05-09T13:30:31.601Z"
   },
   {
    "duration": 6,
    "start_time": "2022-05-09T13:30:31.624Z"
   },
   {
    "duration": 15,
    "start_time": "2022-05-09T13:30:31.632Z"
   },
   {
    "duration": 11,
    "start_time": "2022-05-09T13:30:31.649Z"
   },
   {
    "duration": 25,
    "start_time": "2022-05-09T13:30:31.661Z"
   },
   {
    "duration": 5,
    "start_time": "2022-05-09T13:30:31.687Z"
   },
   {
    "duration": 16,
    "start_time": "2022-05-09T13:30:31.693Z"
   },
   {
    "duration": 19,
    "start_time": "2022-05-09T13:30:31.711Z"
   },
   {
    "duration": 4,
    "start_time": "2022-05-09T13:30:31.735Z"
   },
   {
    "duration": 9,
    "start_time": "2022-05-09T13:30:31.741Z"
   },
   {
    "duration": 11,
    "start_time": "2022-05-09T13:30:31.752Z"
   },
   {
    "duration": 9,
    "start_time": "2022-05-09T13:30:31.764Z"
   },
   {
    "duration": 20,
    "start_time": "2022-05-09T13:30:31.775Z"
   },
   {
    "duration": 114,
    "start_time": "2022-05-09T13:30:31.797Z"
   },
   {
    "duration": 0,
    "start_time": "2022-05-09T13:30:31.914Z"
   },
   {
    "duration": 0,
    "start_time": "2022-05-09T13:30:31.915Z"
   },
   {
    "duration": 0,
    "start_time": "2022-05-09T13:30:31.917Z"
   },
   {
    "duration": 0,
    "start_time": "2022-05-09T13:30:31.924Z"
   },
   {
    "duration": 0,
    "start_time": "2022-05-09T13:30:31.925Z"
   },
   {
    "duration": 0,
    "start_time": "2022-05-09T13:30:31.927Z"
   },
   {
    "duration": 0,
    "start_time": "2022-05-09T13:30:31.928Z"
   },
   {
    "duration": 0,
    "start_time": "2022-05-09T13:30:31.930Z"
   },
   {
    "duration": 974,
    "start_time": "2022-05-11T07:08:12.587Z"
   },
   {
    "duration": 32,
    "start_time": "2022-05-11T07:08:13.563Z"
   },
   {
    "duration": 9,
    "start_time": "2022-05-11T07:08:13.597Z"
   },
   {
    "duration": 3,
    "start_time": "2022-05-11T07:08:13.608Z"
   },
   {
    "duration": 6,
    "start_time": "2022-05-11T07:08:13.612Z"
   },
   {
    "duration": 9,
    "start_time": "2022-05-11T07:08:13.619Z"
   },
   {
    "duration": 4,
    "start_time": "2022-05-11T07:08:13.629Z"
   },
   {
    "duration": 14,
    "start_time": "2022-05-11T07:08:13.635Z"
   },
   {
    "duration": 7,
    "start_time": "2022-05-11T07:08:13.650Z"
   },
   {
    "duration": 17,
    "start_time": "2022-05-11T07:08:13.659Z"
   },
   {
    "duration": 11,
    "start_time": "2022-05-11T07:08:13.677Z"
   },
   {
    "duration": 3,
    "start_time": "2022-05-11T07:08:13.690Z"
   },
   {
    "duration": 13,
    "start_time": "2022-05-11T07:08:13.694Z"
   },
   {
    "duration": 7,
    "start_time": "2022-05-11T07:08:13.708Z"
   },
   {
    "duration": 170,
    "start_time": "2022-05-11T07:08:13.716Z"
   },
   {
    "duration": 114,
    "start_time": "2022-05-11T07:08:13.887Z"
   },
   {
    "duration": 6,
    "start_time": "2022-05-11T07:08:14.002Z"
   },
   {
    "duration": 10,
    "start_time": "2022-05-11T07:08:14.009Z"
   },
   {
    "duration": 7,
    "start_time": "2022-05-11T07:08:14.021Z"
   },
   {
    "duration": 274,
    "start_time": "2022-05-11T07:08:14.029Z"
   },
   {
    "duration": 212,
    "start_time": "2022-05-11T07:08:14.305Z"
   },
   {
    "duration": 6,
    "start_time": "2022-05-11T07:08:14.518Z"
   },
   {
    "duration": 336,
    "start_time": "2022-05-11T07:08:14.526Z"
   },
   {
    "duration": 8,
    "start_time": "2022-05-11T07:08:14.863Z"
   },
   {
    "duration": 231,
    "start_time": "2022-05-11T07:08:14.873Z"
   },
   {
    "duration": 7,
    "start_time": "2022-05-11T07:08:15.105Z"
   },
   {
    "duration": 301,
    "start_time": "2022-05-11T07:08:15.114Z"
   },
   {
    "duration": 143,
    "start_time": "2022-05-11T07:08:15.419Z"
   },
   {
    "duration": 5,
    "start_time": "2022-05-11T07:08:15.564Z"
   },
   {
    "duration": 170,
    "start_time": "2022-05-11T07:08:15.571Z"
   },
   {
    "duration": 4,
    "start_time": "2022-05-11T07:08:15.747Z"
   },
   {
    "duration": 12,
    "start_time": "2022-05-11T07:08:15.753Z"
   },
   {
    "duration": 4,
    "start_time": "2022-05-11T07:08:15.766Z"
   },
   {
    "duration": 5,
    "start_time": "2022-05-11T07:08:15.772Z"
   },
   {
    "duration": 8,
    "start_time": "2022-05-11T07:08:15.779Z"
   },
   {
    "duration": 9,
    "start_time": "2022-05-11T07:08:15.789Z"
   },
   {
    "duration": 50,
    "start_time": "2022-05-11T07:08:15.799Z"
   },
   {
    "duration": 4,
    "start_time": "2022-05-11T07:08:15.851Z"
   },
   {
    "duration": 7,
    "start_time": "2022-05-11T07:08:15.857Z"
   },
   {
    "duration": 12,
    "start_time": "2022-05-11T07:08:15.866Z"
   },
   {
    "duration": 7,
    "start_time": "2022-05-11T07:08:15.879Z"
   },
   {
    "duration": 7,
    "start_time": "2022-05-11T07:08:15.887Z"
   },
   {
    "duration": 8,
    "start_time": "2022-05-11T07:08:15.895Z"
   },
   {
    "duration": 9,
    "start_time": "2022-05-11T07:08:15.905Z"
   },
   {
    "duration": 39,
    "start_time": "2022-05-11T07:08:15.915Z"
   },
   {
    "duration": 82,
    "start_time": "2022-05-11T07:08:15.955Z"
   },
   {
    "duration": 0,
    "start_time": "2022-05-11T07:08:16.039Z"
   },
   {
    "duration": 0,
    "start_time": "2022-05-11T07:08:16.048Z"
   },
   {
    "duration": 0,
    "start_time": "2022-05-11T07:08:16.049Z"
   },
   {
    "duration": 0,
    "start_time": "2022-05-11T07:08:16.051Z"
   },
   {
    "duration": 0,
    "start_time": "2022-05-11T07:08:16.052Z"
   },
   {
    "duration": 0,
    "start_time": "2022-05-11T07:08:16.053Z"
   },
   {
    "duration": 0,
    "start_time": "2022-05-11T07:08:16.054Z"
   },
   {
    "duration": 0,
    "start_time": "2022-05-11T07:08:16.056Z"
   },
   {
    "duration": 156,
    "start_time": "2022-05-11T07:17:19.028Z"
   },
   {
    "duration": 6,
    "start_time": "2022-05-11T07:17:19.186Z"
   },
   {
    "duration": 9,
    "start_time": "2022-05-11T07:17:19.193Z"
   },
   {
    "duration": 8,
    "start_time": "2022-05-11T07:17:19.204Z"
   },
   {
    "duration": 305,
    "start_time": "2022-05-11T07:17:19.214Z"
   },
   {
    "duration": 7,
    "start_time": "2022-05-11T07:17:19.521Z"
   },
   {
    "duration": 19,
    "start_time": "2022-05-11T07:17:19.530Z"
   },
   {
    "duration": 313,
    "start_time": "2022-05-11T07:17:19.550Z"
   },
   {
    "duration": 1802,
    "start_time": "2022-05-11T18:14:33.100Z"
   },
   {
    "duration": 85,
    "start_time": "2022-05-11T18:14:34.905Z"
   },
   {
    "duration": 26,
    "start_time": "2022-05-11T18:14:34.993Z"
   },
   {
    "duration": 6,
    "start_time": "2022-05-11T18:14:35.024Z"
   },
   {
    "duration": 10,
    "start_time": "2022-05-11T18:14:35.033Z"
   },
   {
    "duration": 17,
    "start_time": "2022-05-11T18:14:35.046Z"
   },
   {
    "duration": 7,
    "start_time": "2022-05-11T18:14:35.066Z"
   },
   {
    "duration": 48,
    "start_time": "2022-05-11T18:14:35.076Z"
   },
   {
    "duration": 6,
    "start_time": "2022-05-11T18:14:35.127Z"
   },
   {
    "duration": 32,
    "start_time": "2022-05-11T18:14:35.137Z"
   },
   {
    "duration": 61,
    "start_time": "2022-05-11T18:14:35.171Z"
   },
   {
    "duration": 6,
    "start_time": "2022-05-11T18:14:35.234Z"
   },
   {
    "duration": 25,
    "start_time": "2022-05-11T18:14:35.242Z"
   },
   {
    "duration": 11,
    "start_time": "2022-05-11T18:14:35.270Z"
   },
   {
    "duration": 306,
    "start_time": "2022-05-11T18:14:35.284Z"
   },
   {
    "duration": 210,
    "start_time": "2022-05-11T18:14:35.592Z"
   },
   {
    "duration": 20,
    "start_time": "2022-05-11T18:14:35.805Z"
   },
   {
    "duration": 16,
    "start_time": "2022-05-11T18:14:35.827Z"
   },
   {
    "duration": 11,
    "start_time": "2022-05-11T18:14:35.846Z"
   },
   {
    "duration": 672,
    "start_time": "2022-05-11T18:14:35.859Z"
   },
   {
    "duration": 419,
    "start_time": "2022-05-11T18:14:36.534Z"
   },
   {
    "duration": 9,
    "start_time": "2022-05-11T18:14:36.955Z"
   },
   {
    "duration": 588,
    "start_time": "2022-05-11T18:14:36.966Z"
   },
   {
    "duration": 12,
    "start_time": "2022-05-11T18:14:37.556Z"
   },
   {
    "duration": 470,
    "start_time": "2022-05-11T18:14:37.571Z"
   },
   {
    "duration": 12,
    "start_time": "2022-05-11T18:14:38.044Z"
   },
   {
    "duration": 487,
    "start_time": "2022-05-11T18:14:38.058Z"
   },
   {
    "duration": 288,
    "start_time": "2022-05-11T18:14:38.550Z"
   },
   {
    "duration": 7,
    "start_time": "2022-05-11T18:14:38.840Z"
   },
   {
    "duration": 333,
    "start_time": "2022-05-11T18:14:38.849Z"
   },
   {
    "duration": 7,
    "start_time": "2022-05-11T18:14:39.185Z"
   },
   {
    "duration": 41,
    "start_time": "2022-05-11T18:14:39.194Z"
   },
   {
    "duration": 10,
    "start_time": "2022-05-11T18:14:39.237Z"
   },
   {
    "duration": 13,
    "start_time": "2022-05-11T18:14:39.249Z"
   },
   {
    "duration": 15,
    "start_time": "2022-05-11T18:14:39.265Z"
   },
   {
    "duration": 18,
    "start_time": "2022-05-11T18:14:39.282Z"
   },
   {
    "duration": 46,
    "start_time": "2022-05-11T18:14:39.302Z"
   },
   {
    "duration": 7,
    "start_time": "2022-05-11T18:14:39.351Z"
   },
   {
    "duration": 13,
    "start_time": "2022-05-11T18:14:39.360Z"
   },
   {
    "duration": 18,
    "start_time": "2022-05-11T18:14:39.376Z"
   },
   {
    "duration": 28,
    "start_time": "2022-05-11T18:14:39.397Z"
   },
   {
    "duration": 19,
    "start_time": "2022-05-11T18:14:39.428Z"
   },
   {
    "duration": 17,
    "start_time": "2022-05-11T18:14:39.450Z"
   },
   {
    "duration": 15,
    "start_time": "2022-05-11T18:14:39.469Z"
   },
   {
    "duration": 48,
    "start_time": "2022-05-11T18:14:39.486Z"
   },
   {
    "duration": 312,
    "start_time": "2022-05-11T18:14:39.536Z"
   },
   {
    "duration": 11,
    "start_time": "2022-05-11T18:14:39.850Z"
   },
   {
    "duration": 44,
    "start_time": "2022-05-11T18:14:39.863Z"
   },
   {
    "duration": 23,
    "start_time": "2022-05-11T18:14:39.909Z"
   },
   {
    "duration": 526,
    "start_time": "2022-05-11T18:14:39.935Z"
   },
   {
    "duration": 12,
    "start_time": "2022-05-11T18:14:40.463Z"
   },
   {
    "duration": 21,
    "start_time": "2022-05-11T18:14:40.477Z"
   },
   {
    "duration": 525,
    "start_time": "2022-05-11T18:14:40.500Z"
   },
   {
    "duration": 5,
    "start_time": "2022-05-11T18:15:09.805Z"
   },
   {
    "duration": 5,
    "start_time": "2022-05-11T18:15:20.467Z"
   },
   {
    "duration": 1982,
    "start_time": "2022-05-11T18:18:58.977Z"
   },
   {
    "duration": 10,
    "start_time": "2022-05-11T18:19:12.399Z"
   },
   {
    "duration": 48,
    "start_time": "2022-05-11T18:26:13.662Z"
   },
   {
    "duration": 25,
    "start_time": "2022-05-11T18:26:39.486Z"
   },
   {
    "duration": 28,
    "start_time": "2022-05-11T18:26:47.790Z"
   },
   {
    "duration": 28,
    "start_time": "2022-05-11T18:27:30.080Z"
   },
   {
    "duration": 20,
    "start_time": "2022-05-11T18:28:03.788Z"
   },
   {
    "duration": 151,
    "start_time": "2022-05-11T18:28:38.891Z"
   },
   {
    "duration": 25,
    "start_time": "2022-05-11T18:29:07.446Z"
   },
   {
    "duration": 31,
    "start_time": "2022-05-11T18:29:26.776Z"
   },
   {
    "duration": 105,
    "start_time": "2022-05-11T18:33:48.576Z"
   },
   {
    "duration": 75,
    "start_time": "2022-05-11T18:34:21.872Z"
   },
   {
    "duration": 82,
    "start_time": "2022-05-11T18:34:39.011Z"
   },
   {
    "duration": 75,
    "start_time": "2022-05-11T18:35:19.380Z"
   },
   {
    "duration": 127,
    "start_time": "2022-05-11T18:38:13.131Z"
   },
   {
    "duration": 56,
    "start_time": "2022-05-11T18:46:24.857Z"
   },
   {
    "duration": 108,
    "start_time": "2022-05-11T18:47:03.436Z"
   },
   {
    "duration": 143,
    "start_time": "2022-05-11T18:49:16.179Z"
   },
   {
    "duration": 216,
    "start_time": "2022-05-11T19:15:54.784Z"
   },
   {
    "duration": 406,
    "start_time": "2022-05-11T19:17:52.801Z"
   },
   {
    "duration": 390,
    "start_time": "2022-05-11T19:18:05.842Z"
   },
   {
    "duration": 405,
    "start_time": "2022-05-11T19:18:11.510Z"
   },
   {
    "duration": 325,
    "start_time": "2022-05-11T19:22:37.038Z"
   },
   {
    "duration": 31,
    "start_time": "2022-05-11T19:27:03.524Z"
   },
   {
    "duration": 10,
    "start_time": "2022-05-11T19:27:33.226Z"
   },
   {
    "duration": 40,
    "start_time": "2022-05-11T19:31:29.477Z"
   },
   {
    "duration": 1877,
    "start_time": "2022-05-11T19:31:41.489Z"
   },
   {
    "duration": 0,
    "start_time": "2022-05-11T19:31:43.369Z"
   },
   {
    "duration": 8,
    "start_time": "2022-05-11T19:31:54.751Z"
   },
   {
    "duration": 186,
    "start_time": "2022-05-11T19:31:55.721Z"
   },
   {
    "duration": 1576,
    "start_time": "2022-05-11T19:49:55.320Z"
   },
   {
    "duration": 1833,
    "start_time": "2022-05-11T19:53:19.427Z"
   },
   {
    "duration": 2907,
    "start_time": "2022-05-11T19:54:44.512Z"
   },
   {
    "duration": 1869,
    "start_time": "2022-05-11T19:59:52.053Z"
   },
   {
    "duration": 100,
    "start_time": "2022-05-11T20:00:42.456Z"
   },
   {
    "duration": 266,
    "start_time": "2022-05-11T20:00:54.833Z"
   },
   {
    "duration": 1859,
    "start_time": "2022-05-11T20:01:03.831Z"
   },
   {
    "duration": 12,
    "start_time": "2022-05-11T20:02:39.680Z"
   },
   {
    "duration": 12,
    "start_time": "2022-05-11T20:03:09.847Z"
   },
   {
    "duration": 8,
    "start_time": "2022-05-11T20:03:38.488Z"
   },
   {
    "duration": 2053,
    "start_time": "2022-05-11T20:03:46.189Z"
   },
   {
    "duration": 9,
    "start_time": "2022-05-11T20:04:07.892Z"
   },
   {
    "duration": 12,
    "start_time": "2022-05-11T20:04:43.838Z"
   },
   {
    "duration": 8,
    "start_time": "2022-05-11T20:05:01.717Z"
   },
   {
    "duration": 11,
    "start_time": "2022-05-11T20:06:06.492Z"
   },
   {
    "duration": 12,
    "start_time": "2022-05-11T20:12:43.883Z"
   },
   {
    "duration": 53,
    "start_time": "2022-05-11T20:14:16.470Z"
   },
   {
    "duration": 26,
    "start_time": "2022-05-11T20:23:27.022Z"
   },
   {
    "duration": 1728,
    "start_time": "2022-05-11T20:27:33.962Z"
   },
   {
    "duration": 33,
    "start_time": "2022-05-11T20:29:42.320Z"
   },
   {
    "duration": 294,
    "start_time": "2022-05-11T20:32:42.826Z"
   },
   {
    "duration": 11,
    "start_time": "2022-05-11T20:32:47.564Z"
   },
   {
    "duration": 10,
    "start_time": "2022-05-11T20:32:48.550Z"
   },
   {
    "duration": 9,
    "start_time": "2022-05-11T20:32:49.365Z"
   },
   {
    "duration": 542,
    "start_time": "2022-05-11T20:33:15.886Z"
   },
   {
    "duration": 12,
    "start_time": "2022-05-11T20:35:43.191Z"
   },
   {
    "duration": 13,
    "start_time": "2022-05-11T20:35:47.505Z"
   },
   {
    "duration": 626,
    "start_time": "2022-05-11T20:35:48.199Z"
   },
   {
    "duration": 1201,
    "start_time": "2022-05-12T16:27:48.783Z"
   },
   {
    "duration": 148,
    "start_time": "2022-05-12T16:27:49.986Z"
   },
   {
    "duration": 13,
    "start_time": "2022-05-12T16:27:50.136Z"
   },
   {
    "duration": 5,
    "start_time": "2022-05-12T16:27:50.151Z"
   },
   {
    "duration": 11,
    "start_time": "2022-05-12T16:27:50.159Z"
   },
   {
    "duration": 11,
    "start_time": "2022-05-12T16:27:50.172Z"
   },
   {
    "duration": 8,
    "start_time": "2022-05-12T16:27:50.185Z"
   },
   {
    "duration": 30,
    "start_time": "2022-05-12T16:27:50.195Z"
   },
   {
    "duration": 4,
    "start_time": "2022-05-12T16:27:50.227Z"
   },
   {
    "duration": 37,
    "start_time": "2022-05-12T16:27:50.233Z"
   },
   {
    "duration": 17,
    "start_time": "2022-05-12T16:27:50.272Z"
   },
   {
    "duration": 5,
    "start_time": "2022-05-12T16:27:50.290Z"
   },
   {
    "duration": 15,
    "start_time": "2022-05-12T16:27:50.322Z"
   },
   {
    "duration": 57,
    "start_time": "2022-05-12T16:27:50.341Z"
   },
   {
    "duration": 25,
    "start_time": "2022-05-12T16:27:50.400Z"
   },
   {
    "duration": 187,
    "start_time": "2022-05-12T16:27:50.427Z"
   },
   {
    "duration": 141,
    "start_time": "2022-05-12T16:27:50.615Z"
   },
   {
    "duration": 17,
    "start_time": "2022-05-12T16:27:50.758Z"
   },
   {
    "duration": 10,
    "start_time": "2022-05-12T16:27:50.777Z"
   },
   {
    "duration": 20,
    "start_time": "2022-05-12T16:27:50.788Z"
   },
   {
    "duration": 333,
    "start_time": "2022-05-12T16:27:50.810Z"
   },
   {
    "duration": 270,
    "start_time": "2022-05-12T16:27:51.145Z"
   },
   {
    "duration": 7,
    "start_time": "2022-05-12T16:27:51.422Z"
   },
   {
    "duration": 448,
    "start_time": "2022-05-12T16:27:51.432Z"
   },
   {
    "duration": 11,
    "start_time": "2022-05-12T16:27:51.883Z"
   },
   {
    "duration": 385,
    "start_time": "2022-05-12T16:27:51.897Z"
   },
   {
    "duration": 8,
    "start_time": "2022-05-12T16:27:52.284Z"
   },
   {
    "duration": 377,
    "start_time": "2022-05-12T16:27:52.294Z"
   },
   {
    "duration": 174,
    "start_time": "2022-05-12T16:27:52.674Z"
   },
   {
    "duration": 6,
    "start_time": "2022-05-12T16:27:52.850Z"
   },
   {
    "duration": 251,
    "start_time": "2022-05-12T16:27:52.857Z"
   },
   {
    "duration": 16,
    "start_time": "2022-05-12T16:27:53.110Z"
   },
   {
    "duration": 13,
    "start_time": "2022-05-12T16:27:53.128Z"
   },
   {
    "duration": 4,
    "start_time": "2022-05-12T16:27:53.142Z"
   },
   {
    "duration": 10,
    "start_time": "2022-05-12T16:27:53.148Z"
   },
   {
    "duration": 17,
    "start_time": "2022-05-12T16:27:53.160Z"
   },
   {
    "duration": 14,
    "start_time": "2022-05-12T16:27:53.178Z"
   },
   {
    "duration": 245,
    "start_time": "2022-05-12T16:27:53.194Z"
   },
   {
    "duration": 156,
    "start_time": "2022-05-12T16:27:53.441Z"
   },
   {
    "duration": 25,
    "start_time": "2022-05-12T16:27:53.598Z"
   },
   {
    "duration": 27,
    "start_time": "2022-05-12T16:27:53.627Z"
   },
   {
    "duration": 21,
    "start_time": "2022-05-12T16:27:53.656Z"
   },
   {
    "duration": 3,
    "start_time": "2022-05-12T16:27:53.679Z"
   },
   {
    "duration": 6,
    "start_time": "2022-05-12T16:27:53.683Z"
   },
   {
    "duration": 33,
    "start_time": "2022-05-12T16:27:53.690Z"
   },
   {
    "duration": 4,
    "start_time": "2022-05-12T16:27:53.725Z"
   },
   {
    "duration": 9,
    "start_time": "2022-05-12T16:27:53.731Z"
   },
   {
    "duration": 7,
    "start_time": "2022-05-12T16:27:53.742Z"
   },
   {
    "duration": 11,
    "start_time": "2022-05-12T16:27:53.751Z"
   },
   {
    "duration": 12,
    "start_time": "2022-05-12T16:27:53.764Z"
   },
   {
    "duration": 48,
    "start_time": "2022-05-12T16:27:53.778Z"
   },
   {
    "duration": 30,
    "start_time": "2022-05-12T16:27:53.828Z"
   },
   {
    "duration": 600,
    "start_time": "2022-05-12T16:27:53.860Z"
   },
   {
    "duration": 64,
    "start_time": "2022-05-12T16:27:54.463Z"
   },
   {
    "duration": 10,
    "start_time": "2022-05-12T16:27:54.529Z"
   },
   {
    "duration": 14,
    "start_time": "2022-05-12T16:27:54.541Z"
   },
   {
    "duration": 789,
    "start_time": "2022-05-12T16:27:54.558Z"
   },
   {
    "duration": 12,
    "start_time": "2022-05-12T16:27:55.348Z"
   },
   {
    "duration": 66,
    "start_time": "2022-05-12T16:27:55.361Z"
   },
   {
    "duration": 497,
    "start_time": "2022-05-12T16:27:55.428Z"
   },
   {
    "duration": 14,
    "start_time": "2022-05-12T16:28:09.517Z"
   },
   {
    "duration": 13,
    "start_time": "2022-05-12T16:30:05.157Z"
   },
   {
    "duration": 17,
    "start_time": "2022-05-12T16:30:37.930Z"
   },
   {
    "duration": 10,
    "start_time": "2022-05-12T16:30:49.999Z"
   },
   {
    "duration": 12,
    "start_time": "2022-05-12T16:32:18.738Z"
   },
   {
    "duration": 12,
    "start_time": "2022-05-12T16:35:36.396Z"
   },
   {
    "duration": 6,
    "start_time": "2022-05-12T16:41:03.547Z"
   },
   {
    "duration": 1837,
    "start_time": "2022-05-12T19:43:25.444Z"
   },
   {
    "duration": 78,
    "start_time": "2022-05-12T19:43:27.284Z"
   },
   {
    "duration": 18,
    "start_time": "2022-05-12T19:43:27.364Z"
   },
   {
    "duration": 4,
    "start_time": "2022-05-12T19:43:27.385Z"
   },
   {
    "duration": 25,
    "start_time": "2022-05-12T19:43:27.391Z"
   },
   {
    "duration": 18,
    "start_time": "2022-05-12T19:43:27.418Z"
   },
   {
    "duration": 7,
    "start_time": "2022-05-12T19:43:27.439Z"
   },
   {
    "duration": 18,
    "start_time": "2022-05-12T19:43:27.448Z"
   },
   {
    "duration": 30,
    "start_time": "2022-05-12T19:43:27.469Z"
   },
   {
    "duration": 31,
    "start_time": "2022-05-12T19:43:27.507Z"
   },
   {
    "duration": 21,
    "start_time": "2022-05-12T19:43:27.540Z"
   },
   {
    "duration": 6,
    "start_time": "2022-05-12T19:43:27.595Z"
   },
   {
    "duration": 27,
    "start_time": "2022-05-12T19:43:27.602Z"
   },
   {
    "duration": 107,
    "start_time": "2022-05-12T19:43:27.631Z"
   },
   {
    "duration": 16,
    "start_time": "2022-05-12T19:43:27.741Z"
   },
   {
    "duration": 7,
    "start_time": "2022-05-12T19:43:27.759Z"
   },
   {
    "duration": 303,
    "start_time": "2022-05-12T19:43:27.768Z"
   },
   {
    "duration": 244,
    "start_time": "2022-05-12T19:43:28.073Z"
   },
   {
    "duration": 11,
    "start_time": "2022-05-12T19:43:28.320Z"
   },
   {
    "duration": 21,
    "start_time": "2022-05-12T19:43:28.333Z"
   },
   {
    "duration": 10,
    "start_time": "2022-05-12T19:43:28.356Z"
   },
   {
    "duration": 581,
    "start_time": "2022-05-12T19:43:28.369Z"
   },
   {
    "duration": 452,
    "start_time": "2022-05-12T19:43:28.953Z"
   },
   {
    "duration": 12,
    "start_time": "2022-05-12T19:43:29.407Z"
   },
   {
    "duration": 613,
    "start_time": "2022-05-12T19:43:29.421Z"
   },
   {
    "duration": 12,
    "start_time": "2022-05-12T19:43:30.036Z"
   },
   {
    "duration": 475,
    "start_time": "2022-05-12T19:43:30.051Z"
   },
   {
    "duration": 12,
    "start_time": "2022-05-12T19:43:30.532Z"
   },
   {
    "duration": 558,
    "start_time": "2022-05-12T19:43:30.546Z"
   },
   {
    "duration": 303,
    "start_time": "2022-05-12T19:43:31.108Z"
   },
   {
    "duration": 7,
    "start_time": "2022-05-12T19:43:31.414Z"
   },
   {
    "duration": 420,
    "start_time": "2022-05-12T19:43:31.424Z"
   },
   {
    "duration": 6,
    "start_time": "2022-05-12T19:43:31.846Z"
   },
   {
    "duration": 42,
    "start_time": "2022-05-12T19:43:31.854Z"
   },
   {
    "duration": 7,
    "start_time": "2022-05-12T19:43:31.899Z"
   },
   {
    "duration": 16,
    "start_time": "2022-05-12T19:43:31.908Z"
   },
   {
    "duration": 15,
    "start_time": "2022-05-12T19:43:31.926Z"
   },
   {
    "duration": 12,
    "start_time": "2022-05-12T19:43:31.943Z"
   },
   {
    "duration": 397,
    "start_time": "2022-05-12T19:43:31.958Z"
   },
   {
    "duration": 277,
    "start_time": "2022-05-12T19:43:32.357Z"
   },
   {
    "duration": 8,
    "start_time": "2022-05-12T19:43:32.637Z"
   },
   {
    "duration": 60,
    "start_time": "2022-05-12T19:43:32.648Z"
   },
   {
    "duration": 33,
    "start_time": "2022-05-12T19:43:32.710Z"
   },
   {
    "duration": 3,
    "start_time": "2022-05-12T19:43:32.746Z"
   },
   {
    "duration": 11,
    "start_time": "2022-05-12T19:43:32.751Z"
   },
   {
    "duration": 4,
    "start_time": "2022-05-12T19:43:32.767Z"
   },
   {
    "duration": 16,
    "start_time": "2022-05-12T19:43:32.797Z"
   },
   {
    "duration": 6,
    "start_time": "2022-05-12T19:43:32.815Z"
   },
   {
    "duration": 9,
    "start_time": "2022-05-12T19:43:32.823Z"
   },
   {
    "duration": 18,
    "start_time": "2022-05-12T19:43:32.835Z"
   },
   {
    "duration": 15,
    "start_time": "2022-05-12T19:43:32.856Z"
   },
   {
    "duration": 50,
    "start_time": "2022-05-12T19:43:32.873Z"
   },
   {
    "duration": 27,
    "start_time": "2022-05-12T19:43:32.925Z"
   },
   {
    "duration": 312,
    "start_time": "2022-05-12T19:43:32.954Z"
   },
   {
    "duration": 9,
    "start_time": "2022-05-12T19:43:33.268Z"
   },
   {
    "duration": 26,
    "start_time": "2022-05-12T19:43:33.279Z"
   },
   {
    "duration": 10,
    "start_time": "2022-05-12T19:43:33.307Z"
   },
   {
    "duration": 470,
    "start_time": "2022-05-12T19:43:33.319Z"
   },
   {
    "duration": 17,
    "start_time": "2022-05-12T19:43:33.792Z"
   },
   {
    "duration": 14,
    "start_time": "2022-05-12T19:43:33.812Z"
   },
   {
    "duration": 592,
    "start_time": "2022-05-12T19:43:33.828Z"
   },
   {
    "duration": 1239,
    "start_time": "2022-08-08T13:47:44.338Z"
   },
   {
    "duration": 231,
    "start_time": "2022-08-08T13:47:45.579Z"
   },
   {
    "duration": 12,
    "start_time": "2022-08-08T13:47:45.811Z"
   },
   {
    "duration": 4,
    "start_time": "2022-08-08T13:47:45.825Z"
   },
   {
    "duration": 8,
    "start_time": "2022-08-08T13:47:45.830Z"
   },
   {
    "duration": 11,
    "start_time": "2022-08-08T13:47:45.840Z"
   },
   {
    "duration": 34,
    "start_time": "2022-08-08T13:47:45.852Z"
   },
   {
    "duration": 14,
    "start_time": "2022-08-08T13:47:45.887Z"
   },
   {
    "duration": 7,
    "start_time": "2022-08-08T13:47:45.903Z"
   },
   {
    "duration": 17,
    "start_time": "2022-08-08T13:47:45.912Z"
   },
   {
    "duration": 13,
    "start_time": "2022-08-08T13:47:45.930Z"
   },
   {
    "duration": 4,
    "start_time": "2022-08-08T13:47:45.944Z"
   },
   {
    "duration": 18,
    "start_time": "2022-08-08T13:47:45.949Z"
   },
   {
    "duration": 34,
    "start_time": "2022-08-08T13:47:45.969Z"
   },
   {
    "duration": 9,
    "start_time": "2022-08-08T13:47:46.006Z"
   },
   {
    "duration": 6,
    "start_time": "2022-08-08T13:47:46.017Z"
   },
   {
    "duration": 192,
    "start_time": "2022-08-08T13:47:46.024Z"
   },
   {
    "duration": 109,
    "start_time": "2022-08-08T13:47:46.218Z"
   },
   {
    "duration": 5,
    "start_time": "2022-08-08T13:47:46.329Z"
   },
   {
    "duration": 25,
    "start_time": "2022-08-08T13:47:46.336Z"
   },
   {
    "duration": 11,
    "start_time": "2022-08-08T13:47:46.363Z"
   },
   {
    "duration": 297,
    "start_time": "2022-08-08T13:47:46.380Z"
   },
   {
    "duration": 240,
    "start_time": "2022-08-08T13:47:46.680Z"
   },
   {
    "duration": 5,
    "start_time": "2022-08-08T13:47:46.922Z"
   },
   {
    "duration": 369,
    "start_time": "2022-08-08T13:47:46.928Z"
   },
   {
    "duration": 10,
    "start_time": "2022-08-08T13:47:47.300Z"
   },
   {
    "duration": 301,
    "start_time": "2022-08-08T13:47:47.312Z"
   },
   {
    "duration": 9,
    "start_time": "2022-08-08T13:47:47.618Z"
   },
   {
    "duration": 321,
    "start_time": "2022-08-08T13:47:47.629Z"
   },
   {
    "duration": 152,
    "start_time": "2022-08-08T13:47:47.961Z"
   },
   {
    "duration": 4,
    "start_time": "2022-08-08T13:47:48.115Z"
   },
   {
    "duration": 177,
    "start_time": "2022-08-08T13:47:48.120Z"
   },
   {
    "duration": 5,
    "start_time": "2022-08-08T13:47:48.300Z"
   },
   {
    "duration": 11,
    "start_time": "2022-08-08T13:47:48.306Z"
   },
   {
    "duration": 3,
    "start_time": "2022-08-08T13:47:48.318Z"
   },
   {
    "duration": 8,
    "start_time": "2022-08-08T13:47:48.322Z"
   },
   {
    "duration": 28,
    "start_time": "2022-08-08T13:47:48.332Z"
   },
   {
    "duration": 14,
    "start_time": "2022-08-08T13:47:48.362Z"
   },
   {
    "duration": 222,
    "start_time": "2022-08-08T13:47:48.378Z"
   },
   {
    "duration": 143,
    "start_time": "2022-08-08T13:47:48.601Z"
   },
   {
    "duration": 23,
    "start_time": "2022-08-08T13:47:48.746Z"
   },
   {
    "duration": 26,
    "start_time": "2022-08-08T13:47:48.777Z"
   },
   {
    "duration": 18,
    "start_time": "2022-08-08T13:47:48.805Z"
   },
   {
    "duration": 1,
    "start_time": "2022-08-08T13:47:48.825Z"
   },
   {
    "duration": 7,
    "start_time": "2022-08-08T13:47:48.828Z"
   },
   {
    "duration": 5,
    "start_time": "2022-08-08T13:47:48.836Z"
   },
   {
    "duration": 5,
    "start_time": "2022-08-08T13:47:48.842Z"
   },
   {
    "duration": 5,
    "start_time": "2022-08-08T13:47:48.849Z"
   },
   {
    "duration": 21,
    "start_time": "2022-08-08T13:47:48.855Z"
   },
   {
    "duration": 10,
    "start_time": "2022-08-08T13:47:48.878Z"
   },
   {
    "duration": 15,
    "start_time": "2022-08-08T13:47:48.889Z"
   },
   {
    "duration": 26,
    "start_time": "2022-08-08T13:47:48.906Z"
   },
   {
    "duration": 17,
    "start_time": "2022-08-08T13:47:48.934Z"
   },
   {
    "duration": 183,
    "start_time": "2022-08-08T13:47:48.953Z"
   },
   {
    "duration": 5,
    "start_time": "2022-08-08T13:47:49.138Z"
   },
   {
    "duration": 14,
    "start_time": "2022-08-08T13:47:49.145Z"
   },
   {
    "duration": 10,
    "start_time": "2022-08-08T13:47:49.161Z"
   },
   {
    "duration": 373,
    "start_time": "2022-08-08T13:47:49.173Z"
   },
   {
    "duration": 23,
    "start_time": "2022-08-08T13:47:49.548Z"
   },
   {
    "duration": 13,
    "start_time": "2022-08-08T13:47:49.573Z"
   },
   {
    "duration": 340,
    "start_time": "2022-08-08T13:47:49.589Z"
   }
  ],
  "kernelspec": {
   "display_name": "Python 3 (ipykernel)",
   "language": "python",
   "name": "python3"
  },
  "language_info": {
   "codemirror_mode": {
    "name": "ipython",
    "version": 3
   },
   "file_extension": ".py",
   "mimetype": "text/x-python",
   "name": "python",
   "nbconvert_exporter": "python",
   "pygments_lexer": "ipython3",
   "version": "3.9.7"
  },
  "toc": {
   "base_numbering": 1,
   "nav_menu": {},
   "number_sections": true,
   "sideBar": true,
   "skip_h1_title": true,
   "title_cell": "Table of Contents",
   "title_sidebar": "Contents",
   "toc_cell": false,
   "toc_position": {
    "height": "545.6px",
    "left": "799px",
    "top": "109.525px",
    "width": "226.2px"
   },
   "toc_section_display": true,
   "toc_window_display": true
  }
 },
 "nbformat": 4,
 "nbformat_minor": 2
}
