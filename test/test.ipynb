{
 "cells": [
  {
   "cell_type": "markdown",
   "id": "4b193a2c",
   "metadata": {},
   "source": [
    "# Диагностические функции для подсчета клиентов в группах A/B-теста"
   ]
  },
  {
   "cell_type": "code",
   "execution_count": 1,
   "id": "2c809472",
   "metadata": {},
   "outputs": [],
   "source": [
    "import pandas as pd"
   ]
  },
  {
   "cell_type": "markdown",
   "id": "e3cb4c16",
   "metadata": {},
   "source": [
    "## Диагностическая функция для подсчета клиентов в группах A/В-теста при сквозной нумерации id начиная с 0 "
   ]
  },
  {
   "cell_type": "code",
   "execution_count": 2,
   "id": "b5fe1f96",
   "metadata": {},
   "outputs": [],
   "source": [
    "def distribution_0(n_customers):\n",
    "    AB_groups = [] #создание списка в который будут сохранятся результаты суммирования чисел в каждом id\n",
    "    for i in list(range(0, n_customers)):        \n",
    "        AB_groups.append(sum(map(int, list(str(i))))) #суммрирование чисел в каждом id и сохранение результата в список\n",
    "        pd.Series(AB_groups)                          #конвертация списка в объект Series\n",
    "    return pd.Series(AB_groups).value_counts() #возвращение количества каждого уникального значение в полученном Series"
   ]
  },
  {
   "cell_type": "code",
   "execution_count": 3,
   "id": "88adf71a",
   "metadata": {},
   "outputs": [
    {
     "data": {
      "text/plain": [
       "1     2\n",
       "2     2\n",
       "3     2\n",
       "4     2\n",
       "5     2\n",
       "6     2\n",
       "7     2\n",
       "8     2\n",
       "9     2\n",
       "0     1\n",
       "10    1\n",
       "dtype: int64"
      ]
     },
     "execution_count": 3,
     "metadata": {},
     "output_type": "execute_result"
    }
   ],
   "source": [
    "n_customers = 20\n",
    "distribution_0(n_customers) #проверка работоспособности"
   ]
  },
  {
   "cell_type": "markdown",
   "id": "e19f2c8b",
   "metadata": {},
   "source": [
    "## Диагностическая функция для подсчета клиентов в группах A/В-теста при сквозной нумерации id начиная с произвольного числа "
   ]
  },
  {
   "cell_type": "code",
   "execution_count": 4,
   "id": "2bf1238d",
   "metadata": {},
   "outputs": [],
   "source": [
    "def distribution_id(n_first_id, n_customers):\n",
    "    AB_groups = [] #создание списка в который будут сохранятся результаты суммирования чисел в каждом id\n",
    "    for i in list(range(n_first_id, n_customers + 1)): # +1 чтобы последний id также попал в диапазон        \n",
    "        AB_groups.append(sum(map(int, list(str(i))))) #суммрирование чисел в каждом id и сохранение результата в список\n",
    "        pd.Series(AB_groups)                          #конвертация списка в объект Series\n",
    "    return pd.Series(AB_groups).value_counts() #возвращение количества каждого уникального значение в полученном Series"
   ]
  },
  {
   "cell_type": "code",
   "execution_count": 5,
   "id": "d3010c20",
   "metadata": {},
   "outputs": [
    {
     "data": {
      "text/plain": [
       "3     3\n",
       "2     2\n",
       "4     2\n",
       "5     2\n",
       "6     2\n",
       "7     2\n",
       "8     2\n",
       "9     2\n",
       "10    2\n",
       "1     1\n",
       "11    1\n",
       "dtype: int64"
      ]
     },
     "execution_count": 5,
     "metadata": {},
     "output_type": "execute_result"
    }
   ],
   "source": [
    "n_first_id = 10\n",
    "n_customers = 30\n",
    "distribution_id(n_first_id, n_customers) #проверка работоспособности"
   ]
  }
 ],
 "metadata": {
  "kernelspec": {
   "display_name": "Python 3 (ipykernel)",
   "language": "python",
   "name": "python3"
  },
  "language_info": {
   "codemirror_mode": {
    "name": "ipython",
    "version": 3
   },
   "file_extension": ".py",
   "mimetype": "text/x-python",
   "name": "python",
   "nbconvert_exporter": "python",
   "pygments_lexer": "ipython3",
   "version": "3.9.7"
  },
  "toc": {
   "base_numbering": 1,
   "nav_menu": {},
   "number_sections": true,
   "sideBar": true,
   "skip_h1_title": true,
   "title_cell": "Table of Contents",
   "title_sidebar": "Contents",
   "toc_cell": false,
   "toc_position": {},
   "toc_section_display": true,
   "toc_window_display": true
  }
 },
 "nbformat": 4,
 "nbformat_minor": 5
}
