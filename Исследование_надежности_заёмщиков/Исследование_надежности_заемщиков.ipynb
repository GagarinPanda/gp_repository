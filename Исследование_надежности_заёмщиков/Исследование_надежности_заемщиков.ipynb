{
 "cells": [
  {
   "cell_type": "markdown",
   "metadata": {},
   "source": [
    "# Исследование надёжности заёмщиков\n",
    "\n",
    "Заказчик — кредитный отдел банка. Нужно разобраться, влияет ли семейное положение и количество детей клиента на факт погашения кредита в срок. Входные данные от банка — статистика о платёжеспособности клиентов.\n",
    "\n",
    "Результаты исследования будут учтены при построении модели **кредитного скоринга** — специальной системы, которая оценивает способность потенциального заёмщика вернуть кредит банку."
   ]
  },
  {
   "cell_type": "markdown",
   "metadata": {},
   "source": [
    "## Описание проекта"
   ]
  },
  {
   "cell_type": "markdown",
   "metadata": {},
   "source": [
    "### Цель исследования"
   ]
  },
  {
   "cell_type": "markdown",
   "metadata": {},
   "source": [
    "Оценка влияния семейного положения и количества детей у клиента на факт погашения кредита в срок, для дальнейшего использования, полученных данных, при построении модели кредитного скоринга."
   ]
  },
  {
   "cell_type": "markdown",
   "metadata": {},
   "source": [
    "### Источник данных"
   ]
  },
  {
   "cell_type": "markdown",
   "metadata": {},
   "source": [
    "Статистика о платёжеспособности клиентов полученная от банка.\n",
    "\n",
    "**Описание данных:**\n",
    "\n",
    "`children` - количество детей в семье;\n",
    "\n",
    "`days_employed` - общий трудовой стаж в днях;\n",
    "\n",
    "`dob_years` - возраст клиента в годах;\n",
    "\n",
    "`education` - уровень образования клиента;\n",
    "\n",
    "`education_id` - идентификатор уровня образования;\n",
    "\n",
    "`family_status` - семейное положение;\n",
    "\n",
    "`family_status_id` - идентификатор семейного положения;\n",
    "\n",
    "`gender` - пол клиента;\n",
    "\n",
    "`income_type` - тип занятости;\n",
    "\n",
    "`debt` - имел ли задолженность по возврату кредитов;\n",
    "\n",
    "`total_income` - ежемесячный доход;\n",
    "\n",
    "`purpose` - цель получения кредита."
   ]
  },
  {
   "cell_type": "markdown",
   "metadata": {},
   "source": [
    "### Ход выполнения"
   ]
  },
  {
   "cell_type": "markdown",
   "metadata": {},
   "source": [
    "1. Получение общей информации о данных.\n",
    "2. Предобработка данных:\n",
    "- обработка пропусков;\n",
    "- обработка аномальных значений;\n",
    "- замена типов данных;\n",
    "- удаление дубликатов;\n",
    "- лемматизация столбца с целями кредита;\n",
    "- категоризация данных.\n",
    "3. Ответ на поставленные вопросы:\n",
    "- Есть ли зависимость между количеством детей и возвратом кредита в срок?\n",
    "- Есть ли зависимость между семейным положением и возвратом кредита в срок?\n",
    "- Есть ли зависимость между уровнем дохода и возвратом кредита в срок?\n",
    "- Как разные цели кредита влияют на его возврат в срок?"
   ]
  },
  {
   "cell_type": "markdown",
   "metadata": {},
   "source": [
    "## Получение общей информации о данных"
   ]
  },
  {
   "cell_type": "code",
   "execution_count": 1,
   "metadata": {},
   "outputs": [
    {
     "name": "stdout",
     "output_type": "stream",
     "text": [
      "<class 'pandas.core.frame.DataFrame'>\n",
      "RangeIndex: 21525 entries, 0 to 21524\n",
      "Data columns (total 12 columns):\n",
      " #   Column            Non-Null Count  Dtype  \n",
      "---  ------            --------------  -----  \n",
      " 0   children          21525 non-null  int64  \n",
      " 1   days_employed     19351 non-null  float64\n",
      " 2   dob_years         21525 non-null  int64  \n",
      " 3   education         21525 non-null  object \n",
      " 4   education_id      21525 non-null  int64  \n",
      " 5   family_status     21525 non-null  object \n",
      " 6   family_status_id  21525 non-null  int64  \n",
      " 7   gender            21525 non-null  object \n",
      " 8   income_type       21525 non-null  object \n",
      " 9   debt              21525 non-null  int64  \n",
      " 10  total_income      19351 non-null  float64\n",
      " 11  purpose           21525 non-null  object \n",
      "dtypes: float64(2), int64(5), object(5)\n",
      "memory usage: 2.0+ MB\n"
     ]
    }
   ],
   "source": [
    "import pandas as pd\n",
    "import matplotlib.pyplot as plt\n",
    "import seaborn as sns\n",
    "from collections import Counter\n",
    "from pymystem3 import Mystem #получение лемматизатора для слов на русском языке\n",
    "m = Mystem()\n",
    "\n",
    "df = pd.read_csv('/datasets/data.csv')\n",
    "df.info() #получение общей информации о датафрейме"
   ]
  },
  {
   "cell_type": "markdown",
   "metadata": {},
   "source": [
    "**ОБЩИЕ СВЕДЕНИЯ О ДАННЫХ**\n",
    "- Датафрейм включает в себя 12 столбцов и содержит 21525 записей.\n",
    "- Названия столбцов записаны корректно и отражают суть, содержащихся в них данных.\n",
    "- В датафрейме одинаковое количество пропущенных значений в столбцах 'days_employed' и 'total_income'."
   ]
  },
  {
   "cell_type": "code",
   "execution_count": 2,
   "metadata": {},
   "outputs": [
    {
     "data": {
      "text/html": [
       "<div>\n",
       "<style scoped>\n",
       "    .dataframe tbody tr th:only-of-type {\n",
       "        vertical-align: middle;\n",
       "    }\n",
       "\n",
       "    .dataframe tbody tr th {\n",
       "        vertical-align: top;\n",
       "    }\n",
       "\n",
       "    .dataframe thead th {\n",
       "        text-align: right;\n",
       "    }\n",
       "</style>\n",
       "<table border=\"1\" class=\"dataframe\">\n",
       "  <thead>\n",
       "    <tr style=\"text-align: right;\">\n",
       "      <th></th>\n",
       "      <th>children</th>\n",
       "      <th>days_employed</th>\n",
       "      <th>dob_years</th>\n",
       "      <th>education</th>\n",
       "      <th>education_id</th>\n",
       "      <th>family_status</th>\n",
       "      <th>family_status_id</th>\n",
       "      <th>gender</th>\n",
       "      <th>income_type</th>\n",
       "      <th>debt</th>\n",
       "      <th>total_income</th>\n",
       "      <th>purpose</th>\n",
       "    </tr>\n",
       "  </thead>\n",
       "  <tbody>\n",
       "    <tr>\n",
       "      <th>0</th>\n",
       "      <td>1</td>\n",
       "      <td>-8437.673028</td>\n",
       "      <td>42</td>\n",
       "      <td>высшее</td>\n",
       "      <td>0</td>\n",
       "      <td>женат / замужем</td>\n",
       "      <td>0</td>\n",
       "      <td>F</td>\n",
       "      <td>сотрудник</td>\n",
       "      <td>0</td>\n",
       "      <td>253875.639453</td>\n",
       "      <td>покупка жилья</td>\n",
       "    </tr>\n",
       "    <tr>\n",
       "      <th>1</th>\n",
       "      <td>1</td>\n",
       "      <td>-4024.803754</td>\n",
       "      <td>36</td>\n",
       "      <td>среднее</td>\n",
       "      <td>1</td>\n",
       "      <td>женат / замужем</td>\n",
       "      <td>0</td>\n",
       "      <td>F</td>\n",
       "      <td>сотрудник</td>\n",
       "      <td>0</td>\n",
       "      <td>112080.014102</td>\n",
       "      <td>приобретение автомобиля</td>\n",
       "    </tr>\n",
       "    <tr>\n",
       "      <th>2</th>\n",
       "      <td>0</td>\n",
       "      <td>-5623.422610</td>\n",
       "      <td>33</td>\n",
       "      <td>Среднее</td>\n",
       "      <td>1</td>\n",
       "      <td>женат / замужем</td>\n",
       "      <td>0</td>\n",
       "      <td>M</td>\n",
       "      <td>сотрудник</td>\n",
       "      <td>0</td>\n",
       "      <td>145885.952297</td>\n",
       "      <td>покупка жилья</td>\n",
       "    </tr>\n",
       "    <tr>\n",
       "      <th>3</th>\n",
       "      <td>3</td>\n",
       "      <td>-4124.747207</td>\n",
       "      <td>32</td>\n",
       "      <td>среднее</td>\n",
       "      <td>1</td>\n",
       "      <td>женат / замужем</td>\n",
       "      <td>0</td>\n",
       "      <td>M</td>\n",
       "      <td>сотрудник</td>\n",
       "      <td>0</td>\n",
       "      <td>267628.550329</td>\n",
       "      <td>дополнительное образование</td>\n",
       "    </tr>\n",
       "    <tr>\n",
       "      <th>4</th>\n",
       "      <td>0</td>\n",
       "      <td>340266.072047</td>\n",
       "      <td>53</td>\n",
       "      <td>среднее</td>\n",
       "      <td>1</td>\n",
       "      <td>гражданский брак</td>\n",
       "      <td>1</td>\n",
       "      <td>F</td>\n",
       "      <td>пенсионер</td>\n",
       "      <td>0</td>\n",
       "      <td>158616.077870</td>\n",
       "      <td>сыграть свадьбу</td>\n",
       "    </tr>\n",
       "    <tr>\n",
       "      <th>5</th>\n",
       "      <td>0</td>\n",
       "      <td>-926.185831</td>\n",
       "      <td>27</td>\n",
       "      <td>высшее</td>\n",
       "      <td>0</td>\n",
       "      <td>гражданский брак</td>\n",
       "      <td>1</td>\n",
       "      <td>M</td>\n",
       "      <td>компаньон</td>\n",
       "      <td>0</td>\n",
       "      <td>255763.565419</td>\n",
       "      <td>покупка жилья</td>\n",
       "    </tr>\n",
       "    <tr>\n",
       "      <th>6</th>\n",
       "      <td>0</td>\n",
       "      <td>-2879.202052</td>\n",
       "      <td>43</td>\n",
       "      <td>высшее</td>\n",
       "      <td>0</td>\n",
       "      <td>женат / замужем</td>\n",
       "      <td>0</td>\n",
       "      <td>F</td>\n",
       "      <td>компаньон</td>\n",
       "      <td>0</td>\n",
       "      <td>240525.971920</td>\n",
       "      <td>операции с жильем</td>\n",
       "    </tr>\n",
       "    <tr>\n",
       "      <th>7</th>\n",
       "      <td>0</td>\n",
       "      <td>-152.779569</td>\n",
       "      <td>50</td>\n",
       "      <td>СРЕДНЕЕ</td>\n",
       "      <td>1</td>\n",
       "      <td>женат / замужем</td>\n",
       "      <td>0</td>\n",
       "      <td>M</td>\n",
       "      <td>сотрудник</td>\n",
       "      <td>0</td>\n",
       "      <td>135823.934197</td>\n",
       "      <td>образование</td>\n",
       "    </tr>\n",
       "    <tr>\n",
       "      <th>8</th>\n",
       "      <td>2</td>\n",
       "      <td>-6929.865299</td>\n",
       "      <td>35</td>\n",
       "      <td>ВЫСШЕЕ</td>\n",
       "      <td>0</td>\n",
       "      <td>гражданский брак</td>\n",
       "      <td>1</td>\n",
       "      <td>F</td>\n",
       "      <td>сотрудник</td>\n",
       "      <td>0</td>\n",
       "      <td>95856.832424</td>\n",
       "      <td>на проведение свадьбы</td>\n",
       "    </tr>\n",
       "    <tr>\n",
       "      <th>9</th>\n",
       "      <td>0</td>\n",
       "      <td>-2188.756445</td>\n",
       "      <td>41</td>\n",
       "      <td>среднее</td>\n",
       "      <td>1</td>\n",
       "      <td>женат / замужем</td>\n",
       "      <td>0</td>\n",
       "      <td>M</td>\n",
       "      <td>сотрудник</td>\n",
       "      <td>0</td>\n",
       "      <td>144425.938277</td>\n",
       "      <td>покупка жилья для семьи</td>\n",
       "    </tr>\n",
       "  </tbody>\n",
       "</table>\n",
       "</div>"
      ],
      "text/plain": [
       "   children  days_employed  dob_years education  education_id  \\\n",
       "0         1   -8437.673028         42    высшее             0   \n",
       "1         1   -4024.803754         36   среднее             1   \n",
       "2         0   -5623.422610         33   Среднее             1   \n",
       "3         3   -4124.747207         32   среднее             1   \n",
       "4         0  340266.072047         53   среднее             1   \n",
       "5         0    -926.185831         27    высшее             0   \n",
       "6         0   -2879.202052         43    высшее             0   \n",
       "7         0    -152.779569         50   СРЕДНЕЕ             1   \n",
       "8         2   -6929.865299         35    ВЫСШЕЕ             0   \n",
       "9         0   -2188.756445         41   среднее             1   \n",
       "\n",
       "      family_status  family_status_id gender income_type  debt   total_income  \\\n",
       "0   женат / замужем                 0      F   сотрудник     0  253875.639453   \n",
       "1   женат / замужем                 0      F   сотрудник     0  112080.014102   \n",
       "2   женат / замужем                 0      M   сотрудник     0  145885.952297   \n",
       "3   женат / замужем                 0      M   сотрудник     0  267628.550329   \n",
       "4  гражданский брак                 1      F   пенсионер     0  158616.077870   \n",
       "5  гражданский брак                 1      M   компаньон     0  255763.565419   \n",
       "6   женат / замужем                 0      F   компаньон     0  240525.971920   \n",
       "7   женат / замужем                 0      M   сотрудник     0  135823.934197   \n",
       "8  гражданский брак                 1      F   сотрудник     0   95856.832424   \n",
       "9   женат / замужем                 0      M   сотрудник     0  144425.938277   \n",
       "\n",
       "                      purpose  \n",
       "0               покупка жилья  \n",
       "1     приобретение автомобиля  \n",
       "2               покупка жилья  \n",
       "3  дополнительное образование  \n",
       "4             сыграть свадьбу  \n",
       "5               покупка жилья  \n",
       "6           операции с жильем  \n",
       "7                 образование  \n",
       "8       на проведение свадьбы  \n",
       "9     покупка жилья для семьи  "
      ]
     },
     "execution_count": 2,
     "metadata": {},
     "output_type": "execute_result"
    }
   ],
   "source": [
    "df.head(10) #вывод первых десяти строчек датафрейма"
   ]
  },
  {
   "cell_type": "markdown",
   "metadata": {},
   "source": [
    "**ПРОБЛЕМЫ С ДАННЫМИ**\n",
    "\n",
    "\n",
    " Из 10 первых строчек датафрейма видно:\n",
    "\n",
    "- отрицательные значения и слишком большие значения в столбце 'days_employed';\n",
    "- в столбце 'education' одинаковые значения записаны буквами в разных регистрах; <a id='problem'></a>\n",
    "- в столбцах 'days_employed' и 'total_income', значения содержат большое количество знаков после запятой."
   ]
  },
  {
   "cell_type": "markdown",
   "metadata": {},
   "source": [
    "**Вывод**\n",
    "\n",
    "\n",
    "В каждой строке представленного датафрейма записаны данные о заемщиках, которые включают в себя количество детей, дляительность трудового стажа в днях, возраст, уровень образования, семейный статус, пол, тип занятости и ежемесячный доход. Также данные содержат информацию о цели кредита и наличии задолженности по возврату кредита.\n",
    "\n",
    "Представленных данных достаточно для ответа на вопросы заказчика, но в данных есть пропуски и другие проблемы требующие  предобработки.\n",
    "\n"
   ]
  },
  {
   "cell_type": "markdown",
   "metadata": {},
   "source": [
    "<div style=\"border:solid Green 2px; padding: 10px\"> \n",
    "<font style=\"color:Green; font-size:100%\";> ✔️ Комментарий ревьюера:</font> Файл прочитан верно. Использованы методы info() и head() для осмотра датафрейма и оценки пропусков и проведена дополнительная оценка значений в некоторых столбцах. Отлично, что все это отражено в выводах.\n",
    "\n",
    "</div>"
   ]
  },
  {
   "cell_type": "markdown",
   "metadata": {},
   "source": [
    "## Предобработка данных"
   ]
  },
  {
   "cell_type": "markdown",
   "metadata": {},
   "source": [
    "### Обработка пропусков"
   ]
  },
  {
   "cell_type": "markdown",
   "metadata": {},
   "source": [
    "При изучении общей информации о датафрейме было выяснено, что одинаковое количество пропущенных значений встречается в двух столбцах - 'days_employed' и 'total_income'.\n"
   ]
  },
  {
   "cell_type": "code",
   "execution_count": 3,
   "metadata": {
    "scrolled": false
   },
   "outputs": [
    {
     "data": {
      "text/html": [
       "<div>\n",
       "<style scoped>\n",
       "    .dataframe tbody tr th:only-of-type {\n",
       "        vertical-align: middle;\n",
       "    }\n",
       "\n",
       "    .dataframe tbody tr th {\n",
       "        vertical-align: top;\n",
       "    }\n",
       "\n",
       "    .dataframe thead th {\n",
       "        text-align: right;\n",
       "    }\n",
       "</style>\n",
       "<table border=\"1\" class=\"dataframe\">\n",
       "  <thead>\n",
       "    <tr style=\"text-align: right;\">\n",
       "      <th></th>\n",
       "      <th>children</th>\n",
       "      <th>days_employed</th>\n",
       "      <th>dob_years</th>\n",
       "      <th>education</th>\n",
       "      <th>education_id</th>\n",
       "      <th>family_status</th>\n",
       "      <th>family_status_id</th>\n",
       "      <th>gender</th>\n",
       "      <th>income_type</th>\n",
       "      <th>debt</th>\n",
       "      <th>total_income</th>\n",
       "      <th>purpose</th>\n",
       "    </tr>\n",
       "  </thead>\n",
       "  <tbody>\n",
       "    <tr>\n",
       "      <th>12</th>\n",
       "      <td>0</td>\n",
       "      <td>NaN</td>\n",
       "      <td>65</td>\n",
       "      <td>среднее</td>\n",
       "      <td>1</td>\n",
       "      <td>гражданский брак</td>\n",
       "      <td>1</td>\n",
       "      <td>M</td>\n",
       "      <td>пенсионер</td>\n",
       "      <td>0</td>\n",
       "      <td>NaN</td>\n",
       "      <td>сыграть свадьбу</td>\n",
       "    </tr>\n",
       "    <tr>\n",
       "      <th>26</th>\n",
       "      <td>0</td>\n",
       "      <td>NaN</td>\n",
       "      <td>41</td>\n",
       "      <td>среднее</td>\n",
       "      <td>1</td>\n",
       "      <td>женат / замужем</td>\n",
       "      <td>0</td>\n",
       "      <td>M</td>\n",
       "      <td>госслужащий</td>\n",
       "      <td>0</td>\n",
       "      <td>NaN</td>\n",
       "      <td>образование</td>\n",
       "    </tr>\n",
       "    <tr>\n",
       "      <th>29</th>\n",
       "      <td>0</td>\n",
       "      <td>NaN</td>\n",
       "      <td>63</td>\n",
       "      <td>среднее</td>\n",
       "      <td>1</td>\n",
       "      <td>Не женат / не замужем</td>\n",
       "      <td>4</td>\n",
       "      <td>F</td>\n",
       "      <td>пенсионер</td>\n",
       "      <td>0</td>\n",
       "      <td>NaN</td>\n",
       "      <td>строительство жилой недвижимости</td>\n",
       "    </tr>\n",
       "    <tr>\n",
       "      <th>41</th>\n",
       "      <td>0</td>\n",
       "      <td>NaN</td>\n",
       "      <td>50</td>\n",
       "      <td>среднее</td>\n",
       "      <td>1</td>\n",
       "      <td>женат / замужем</td>\n",
       "      <td>0</td>\n",
       "      <td>F</td>\n",
       "      <td>госслужащий</td>\n",
       "      <td>0</td>\n",
       "      <td>NaN</td>\n",
       "      <td>сделка с подержанным автомобилем</td>\n",
       "    </tr>\n",
       "    <tr>\n",
       "      <th>55</th>\n",
       "      <td>0</td>\n",
       "      <td>NaN</td>\n",
       "      <td>54</td>\n",
       "      <td>среднее</td>\n",
       "      <td>1</td>\n",
       "      <td>гражданский брак</td>\n",
       "      <td>1</td>\n",
       "      <td>F</td>\n",
       "      <td>пенсионер</td>\n",
       "      <td>1</td>\n",
       "      <td>NaN</td>\n",
       "      <td>сыграть свадьбу</td>\n",
       "    </tr>\n",
       "    <tr>\n",
       "      <th>...</th>\n",
       "      <td>...</td>\n",
       "      <td>...</td>\n",
       "      <td>...</td>\n",
       "      <td>...</td>\n",
       "      <td>...</td>\n",
       "      <td>...</td>\n",
       "      <td>...</td>\n",
       "      <td>...</td>\n",
       "      <td>...</td>\n",
       "      <td>...</td>\n",
       "      <td>...</td>\n",
       "      <td>...</td>\n",
       "    </tr>\n",
       "    <tr>\n",
       "      <th>21489</th>\n",
       "      <td>2</td>\n",
       "      <td>NaN</td>\n",
       "      <td>47</td>\n",
       "      <td>Среднее</td>\n",
       "      <td>1</td>\n",
       "      <td>женат / замужем</td>\n",
       "      <td>0</td>\n",
       "      <td>M</td>\n",
       "      <td>компаньон</td>\n",
       "      <td>0</td>\n",
       "      <td>NaN</td>\n",
       "      <td>сделка с автомобилем</td>\n",
       "    </tr>\n",
       "    <tr>\n",
       "      <th>21495</th>\n",
       "      <td>1</td>\n",
       "      <td>NaN</td>\n",
       "      <td>50</td>\n",
       "      <td>среднее</td>\n",
       "      <td>1</td>\n",
       "      <td>гражданский брак</td>\n",
       "      <td>1</td>\n",
       "      <td>F</td>\n",
       "      <td>сотрудник</td>\n",
       "      <td>0</td>\n",
       "      <td>NaN</td>\n",
       "      <td>свадьба</td>\n",
       "    </tr>\n",
       "    <tr>\n",
       "      <th>21497</th>\n",
       "      <td>0</td>\n",
       "      <td>NaN</td>\n",
       "      <td>48</td>\n",
       "      <td>ВЫСШЕЕ</td>\n",
       "      <td>0</td>\n",
       "      <td>женат / замужем</td>\n",
       "      <td>0</td>\n",
       "      <td>F</td>\n",
       "      <td>компаньон</td>\n",
       "      <td>0</td>\n",
       "      <td>NaN</td>\n",
       "      <td>строительство недвижимости</td>\n",
       "    </tr>\n",
       "    <tr>\n",
       "      <th>21502</th>\n",
       "      <td>1</td>\n",
       "      <td>NaN</td>\n",
       "      <td>42</td>\n",
       "      <td>среднее</td>\n",
       "      <td>1</td>\n",
       "      <td>женат / замужем</td>\n",
       "      <td>0</td>\n",
       "      <td>F</td>\n",
       "      <td>сотрудник</td>\n",
       "      <td>0</td>\n",
       "      <td>NaN</td>\n",
       "      <td>строительство жилой недвижимости</td>\n",
       "    </tr>\n",
       "    <tr>\n",
       "      <th>21510</th>\n",
       "      <td>2</td>\n",
       "      <td>NaN</td>\n",
       "      <td>28</td>\n",
       "      <td>среднее</td>\n",
       "      <td>1</td>\n",
       "      <td>женат / замужем</td>\n",
       "      <td>0</td>\n",
       "      <td>F</td>\n",
       "      <td>сотрудник</td>\n",
       "      <td>0</td>\n",
       "      <td>NaN</td>\n",
       "      <td>приобретение автомобиля</td>\n",
       "    </tr>\n",
       "  </tbody>\n",
       "</table>\n",
       "<p>2174 rows × 12 columns</p>\n",
       "</div>"
      ],
      "text/plain": [
       "       children  days_employed  dob_years education  education_id  \\\n",
       "12            0            NaN         65   среднее             1   \n",
       "26            0            NaN         41   среднее             1   \n",
       "29            0            NaN         63   среднее             1   \n",
       "41            0            NaN         50   среднее             1   \n",
       "55            0            NaN         54   среднее             1   \n",
       "...         ...            ...        ...       ...           ...   \n",
       "21489         2            NaN         47   Среднее             1   \n",
       "21495         1            NaN         50   среднее             1   \n",
       "21497         0            NaN         48    ВЫСШЕЕ             0   \n",
       "21502         1            NaN         42   среднее             1   \n",
       "21510         2            NaN         28   среднее             1   \n",
       "\n",
       "               family_status  family_status_id gender  income_type  debt  \\\n",
       "12          гражданский брак                 1      M    пенсионер     0   \n",
       "26           женат / замужем                 0      M  госслужащий     0   \n",
       "29     Не женат / не замужем                 4      F    пенсионер     0   \n",
       "41           женат / замужем                 0      F  госслужащий     0   \n",
       "55          гражданский брак                 1      F    пенсионер     1   \n",
       "...                      ...               ...    ...          ...   ...   \n",
       "21489        женат / замужем                 0      M    компаньон     0   \n",
       "21495       гражданский брак                 1      F    сотрудник     0   \n",
       "21497        женат / замужем                 0      F    компаньон     0   \n",
       "21502        женат / замужем                 0      F    сотрудник     0   \n",
       "21510        женат / замужем                 0      F    сотрудник     0   \n",
       "\n",
       "       total_income                           purpose  \n",
       "12              NaN                   сыграть свадьбу  \n",
       "26              NaN                       образование  \n",
       "29              NaN  строительство жилой недвижимости  \n",
       "41              NaN  сделка с подержанным автомобилем  \n",
       "55              NaN                   сыграть свадьбу  \n",
       "...             ...                               ...  \n",
       "21489           NaN              сделка с автомобилем  \n",
       "21495           NaN                           свадьба  \n",
       "21497           NaN        строительство недвижимости  \n",
       "21502           NaN  строительство жилой недвижимости  \n",
       "21510           NaN           приобретение автомобиля  \n",
       "\n",
       "[2174 rows x 12 columns]"
      ]
     },
     "execution_count": 3,
     "metadata": {},
     "output_type": "execute_result"
    }
   ],
   "source": [
    "df[df['total_income'].isna()] #вывод строк датафрейма с пропущенными значениями"
   ]
  },
  {
   "cell_type": "markdown",
   "metadata": {},
   "source": [
    "Мы убедились в том, что в одних и тех же строках пропущены значения в столбцах 'days_employed' и 'total_income'."
   ]
  },
  {
   "cell_type": "code",
   "execution_count": 4,
   "metadata": {},
   "outputs": [
    {
     "data": {
      "text/plain": [
       "2174"
      ]
     },
     "execution_count": 4,
     "metadata": {},
     "output_type": "execute_result"
    }
   ],
   "source": [
    "df[df['total_income'].isna()]['days_employed'].isna().sum()"
   ]
  },
  {
   "cell_type": "markdown",
   "metadata": {},
   "source": [
    "Для дальнейшего анализа нам не понадобятся данные из столбца 'days_employed', следовательно данный столбец может быть удалён."
   ]
  },
  {
   "cell_type": "code",
   "execution_count": 5,
   "metadata": {},
   "outputs": [
    {
     "data": {
      "text/html": [
       "<div>\n",
       "<style scoped>\n",
       "    .dataframe tbody tr th:only-of-type {\n",
       "        vertical-align: middle;\n",
       "    }\n",
       "\n",
       "    .dataframe tbody tr th {\n",
       "        vertical-align: top;\n",
       "    }\n",
       "\n",
       "    .dataframe thead th {\n",
       "        text-align: right;\n",
       "    }\n",
       "</style>\n",
       "<table border=\"1\" class=\"dataframe\">\n",
       "  <thead>\n",
       "    <tr style=\"text-align: right;\">\n",
       "      <th></th>\n",
       "      <th>children</th>\n",
       "      <th>dob_years</th>\n",
       "      <th>education</th>\n",
       "      <th>education_id</th>\n",
       "      <th>family_status</th>\n",
       "      <th>family_status_id</th>\n",
       "      <th>gender</th>\n",
       "      <th>income_type</th>\n",
       "      <th>debt</th>\n",
       "      <th>total_income</th>\n",
       "      <th>purpose</th>\n",
       "    </tr>\n",
       "  </thead>\n",
       "  <tbody>\n",
       "    <tr>\n",
       "      <th>0</th>\n",
       "      <td>1</td>\n",
       "      <td>42</td>\n",
       "      <td>высшее</td>\n",
       "      <td>0</td>\n",
       "      <td>женат / замужем</td>\n",
       "      <td>0</td>\n",
       "      <td>F</td>\n",
       "      <td>сотрудник</td>\n",
       "      <td>0</td>\n",
       "      <td>253875.639453</td>\n",
       "      <td>покупка жилья</td>\n",
       "    </tr>\n",
       "    <tr>\n",
       "      <th>1</th>\n",
       "      <td>1</td>\n",
       "      <td>36</td>\n",
       "      <td>среднее</td>\n",
       "      <td>1</td>\n",
       "      <td>женат / замужем</td>\n",
       "      <td>0</td>\n",
       "      <td>F</td>\n",
       "      <td>сотрудник</td>\n",
       "      <td>0</td>\n",
       "      <td>112080.014102</td>\n",
       "      <td>приобретение автомобиля</td>\n",
       "    </tr>\n",
       "    <tr>\n",
       "      <th>2</th>\n",
       "      <td>0</td>\n",
       "      <td>33</td>\n",
       "      <td>Среднее</td>\n",
       "      <td>1</td>\n",
       "      <td>женат / замужем</td>\n",
       "      <td>0</td>\n",
       "      <td>M</td>\n",
       "      <td>сотрудник</td>\n",
       "      <td>0</td>\n",
       "      <td>145885.952297</td>\n",
       "      <td>покупка жилья</td>\n",
       "    </tr>\n",
       "    <tr>\n",
       "      <th>3</th>\n",
       "      <td>3</td>\n",
       "      <td>32</td>\n",
       "      <td>среднее</td>\n",
       "      <td>1</td>\n",
       "      <td>женат / замужем</td>\n",
       "      <td>0</td>\n",
       "      <td>M</td>\n",
       "      <td>сотрудник</td>\n",
       "      <td>0</td>\n",
       "      <td>267628.550329</td>\n",
       "      <td>дополнительное образование</td>\n",
       "    </tr>\n",
       "    <tr>\n",
       "      <th>4</th>\n",
       "      <td>0</td>\n",
       "      <td>53</td>\n",
       "      <td>среднее</td>\n",
       "      <td>1</td>\n",
       "      <td>гражданский брак</td>\n",
       "      <td>1</td>\n",
       "      <td>F</td>\n",
       "      <td>пенсионер</td>\n",
       "      <td>0</td>\n",
       "      <td>158616.077870</td>\n",
       "      <td>сыграть свадьбу</td>\n",
       "    </tr>\n",
       "  </tbody>\n",
       "</table>\n",
       "</div>"
      ],
      "text/plain": [
       "   children  dob_years education  education_id     family_status  \\\n",
       "0         1         42    высшее             0   женат / замужем   \n",
       "1         1         36   среднее             1   женат / замужем   \n",
       "2         0         33   Среднее             1   женат / замужем   \n",
       "3         3         32   среднее             1   женат / замужем   \n",
       "4         0         53   среднее             1  гражданский брак   \n",
       "\n",
       "   family_status_id gender income_type  debt   total_income  \\\n",
       "0                 0      F   сотрудник     0  253875.639453   \n",
       "1                 0      F   сотрудник     0  112080.014102   \n",
       "2                 0      M   сотрудник     0  145885.952297   \n",
       "3                 0      M   сотрудник     0  267628.550329   \n",
       "4                 1      F   пенсионер     0  158616.077870   \n",
       "\n",
       "                      purpose  \n",
       "0               покупка жилья  \n",
       "1     приобретение автомобиля  \n",
       "2               покупка жилья  \n",
       "3  дополнительное образование  \n",
       "4             сыграть свадьбу  "
      ]
     },
     "execution_count": 5,
     "metadata": {},
     "output_type": "execute_result"
    }
   ],
   "source": [
    "df_changed = df.drop(['days_employed'], axis=1)\n",
    "df_changed.head()"
   ]
  },
  {
   "cell_type": "markdown",
   "metadata": {},
   "source": [
    "Обработку пропусков в столбце 'total_income' начнем с изучения значений в столбце."
   ]
  },
  {
   "cell_type": "code",
   "execution_count": 7,
   "metadata": {},
   "outputs": [
    {
     "data": {
      "text/plain": [
       "count      19351.000\n",
       "mean      167422.302\n",
       "std       102971.566\n",
       "min        20667.264\n",
       "25%       103053.153\n",
       "50%       145017.938\n",
       "75%       203435.068\n",
       "max      2265604.029\n",
       "Name: total_income, dtype: object"
      ]
     },
     "execution_count": 7,
     "metadata": {},
     "output_type": "execute_result"
    }
   ],
   "source": [
    "df['total_income'].describe().apply(\"{0:.3f}\".format)"
   ]
  },
  {
   "cell_type": "markdown",
   "metadata": {},
   "source": [
    "В столбце наблюдается большой разброс значений, поэтому в качестве значения для замены пропусков правильней использовать медиану. Однако, нужно учесть что уровень дохода может разниться в зависимости от типа занятости.\n",
    "\n",
    "Найдем медианы ежемесячного дохода в группах с различным уровнем занятости."
   ]
  },
  {
   "cell_type": "code",
   "execution_count": 8,
   "metadata": {},
   "outputs": [
    {
     "data": {
      "text/plain": [
       "income_type\n",
       "предприниматель    499163.144947\n",
       "компаньон          172357.950966\n",
       "госслужащий        150447.935283\n",
       "сотрудник          142594.396847\n",
       "безработный        131339.751676\n",
       "пенсионер          118514.486412\n",
       "студент             98201.625314\n",
       "в декрете           53829.130729\n",
       "Name: total_income, dtype: float64"
      ]
     },
     "execution_count": 8,
     "metadata": {},
     "output_type": "execute_result"
    }
   ],
   "source": [
    "total_income_medians = df_changed.groupby('income_type')['total_income'].median().sort_values(ascending=False)\n",
    "total_income_medians"
   ]
  },
  {
   "cell_type": "markdown",
   "metadata": {},
   "source": [
    "Медиана ежемесячного дохода различается в зависимости от типа занятости (самая высокая у предпринимателей, самая низкая у тех кто в декрете). \n",
    "\n",
    "Заменим пропуски на медианы ежемесячного дохода для каждого типа занятости."
   ]
  },
  {
   "cell_type": "code",
   "execution_count": 10,
   "metadata": {},
   "outputs": [
    {
     "name": "stdout",
     "output_type": "stream",
     "text": [
      "<class 'pandas.core.frame.DataFrame'>\n",
      "RangeIndex: 21525 entries, 0 to 21524\n",
      "Data columns (total 11 columns):\n",
      " #   Column            Non-Null Count  Dtype  \n",
      "---  ------            --------------  -----  \n",
      " 0   children          21525 non-null  int64  \n",
      " 1   dob_years         21525 non-null  int64  \n",
      " 2   education         21525 non-null  object \n",
      " 3   education_id      21525 non-null  int64  \n",
      " 4   family_status     21525 non-null  object \n",
      " 5   family_status_id  21525 non-null  int64  \n",
      " 6   gender            21525 non-null  object \n",
      " 7   income_type       21525 non-null  object \n",
      " 8   debt              21525 non-null  int64  \n",
      " 9   total_income      21525 non-null  float64\n",
      " 10  purpose           21525 non-null  object \n",
      "dtypes: float64(1), int64(5), object(5)\n",
      "memory usage: 1.8+ MB\n"
     ]
    }
   ],
   "source": [
    "for income_type in df_changed['income_type'].unique():\n",
    "    df_changed.loc[df_changed['income_type'] == income_type, \n",
    "                   'total_income'] = df_changed.loc[df_changed['income_type'] == income_type, \n",
    "                                                    'total_income'].fillna(total_income_medians[income_type])\n",
    "df_changed.info()"
   ]
  },
  {
   "cell_type": "markdown",
   "metadata": {},
   "source": [
    "**Вывод**"
   ]
  },
  {
   "cell_type": "markdown",
   "metadata": {},
   "source": [
    "В процессе замены пропущенных значений мы определили, что пропущенные значения находятся в одних и тех же строках в столбцах 'days_employed' и 'total_income'.\n",
    " \n",
    "Возможно, значения в этих столбцах связаны между собой, например, если при вводе данных о заемщике по какой-то причине не были введены данные о трудовом стаже (\"человеческий фактор\"), автоматически проставлялся пропуск в столбце с данными о ежемесячном доходе (\"кто не работает, тот не ест\").\n",
    "\n",
    "Информация о трудовом стаже не нужна для ответа на поставленные вопросы, поэтому столбец 'days_employed' был удален из датафрейма, тем самым немного уменьшили объем памяти занимаемой датафреймом.\n",
    "\n",
    "Пропущенные значения в столбце 'total_income' было решено заменить медианой ежемесячного дохода, т.к. значения в данном столбце изменяются в весьма широком диапазоне, и выскакивающие значения могут искажать среднюю величину. Учитывая, что медианы ежемесячного дохода различаются в зависимости от типа занятости, пропущенные значения были заменены медианами для каждой группы по типу занятости."
   ]
  },
  {
   "cell_type": "markdown",
   "metadata": {},
   "source": [
    "### Замена типа данных"
   ]
  },
  {
   "cell_type": "code",
   "execution_count": 11,
   "metadata": {},
   "outputs": [
    {
     "name": "stdout",
     "output_type": "stream",
     "text": [
      "<class 'pandas.core.frame.DataFrame'>\n",
      "RangeIndex: 21525 entries, 0 to 21524\n",
      "Data columns (total 11 columns):\n",
      " #   Column            Non-Null Count  Dtype \n",
      "---  ------            --------------  ----- \n",
      " 0   children          21525 non-null  int64 \n",
      " 1   dob_years         21525 non-null  int64 \n",
      " 2   education         21525 non-null  object\n",
      " 3   education_id      21525 non-null  int64 \n",
      " 4   family_status     21525 non-null  object\n",
      " 5   family_status_id  21525 non-null  int64 \n",
      " 6   gender            21525 non-null  object\n",
      " 7   income_type       21525 non-null  object\n",
      " 8   debt              21525 non-null  int64 \n",
      " 9   total_income      21525 non-null  int64 \n",
      " 10  purpose           21525 non-null  object\n",
      "dtypes: int64(6), object(5)\n",
      "memory usage: 1.8+ MB\n"
     ]
    }
   ],
   "source": [
    "df_changed['total_income'] = df_changed['total_income'].astype(int) #замена вещественного типа данных на целочисленный \n",
    "df_changed.info()"
   ]
  },
  {
   "cell_type": "markdown",
   "metadata": {},
   "source": [
    "**Вывод**"
   ]
  },
  {
   "cell_type": "markdown",
   "metadata": {},
   "source": [
    "Столбец 'total_income' содержал в себе вещественные числа с большим количеством знаков после точки, что могло создать проблемы при дальнейшей работе с данными.\n",
    "\n",
    "Замена вещественного типа данных на целочисленный была произведена с помощью функции astype(), т.к. она позволяет произвести замену в одну строку."
   ]
  },
  {
   "cell_type": "markdown",
   "metadata": {},
   "source": [
    "### Обработка дубликатов"
   ]
  },
  {
   "cell_type": "code",
   "execution_count": 12,
   "metadata": {},
   "outputs": [
    {
     "data": {
      "text/plain": [
       "54"
      ]
     },
     "execution_count": 12,
     "metadata": {},
     "output_type": "execute_result"
    }
   ],
   "source": [
    "df_changed.duplicated().sum() #находим количество дубликатов в датафрейме"
   ]
  },
  {
   "cell_type": "markdown",
   "metadata": {},
   "source": [
    "В датафрейме 54 дубликата, но это только явные дубликаты, т.е. строки в которых значения полностью совпадают во всех столбцах.\n",
    "\n",
    "Но уже при получении общей информации о данных мы выяснили, что в столбце 'education' одни и теже значения [записаны буквами разного регистра](#problem), а значит Pyton определяет их как разные значения.\n",
    "\n",
    "Чтобы превести все значения в столбце 'education' к одному регистру используем метод str.lower()."
   ]
  },
  {
   "cell_type": "code",
   "execution_count": 13,
   "metadata": {},
   "outputs": [
    {
     "data": {
      "text/plain": [
       "71"
      ]
     },
     "execution_count": 13,
     "metadata": {},
     "output_type": "execute_result"
    }
   ],
   "source": [
    "df_changed['education'] = df_changed['education'].str.lower()\n",
    "df_changed.duplicated().sum()"
   ]
  },
  {
   "cell_type": "markdown",
   "metadata": {},
   "source": [
    "После выполненной операции количество дубликатов увеличилось до 71, теперь удалим их используя метод drop_duplicates()."
   ]
  },
  {
   "cell_type": "code",
   "execution_count": 14,
   "metadata": {},
   "outputs": [
    {
     "data": {
      "text/plain": [
       "0"
      ]
     },
     "execution_count": 14,
     "metadata": {},
     "output_type": "execute_result"
    }
   ],
   "source": [
    "df_changed = df_changed.drop_duplicates().reset_index(drop=True)\n",
    "df_changed.duplicated().sum()"
   ]
  },
  {
   "cell_type": "markdown",
   "metadata": {},
   "source": [
    "Кстати, стоит посмотреть количество дубликатов в исходном датафрейме. Возможно, если оставить столбец 'days_employed', дубликатов будет меньше"
   ]
  },
  {
   "cell_type": "code",
   "execution_count": 15,
   "metadata": {},
   "outputs": [
    {
     "data": {
      "text/plain": [
       "54"
      ]
     },
     "execution_count": 15,
     "metadata": {},
     "output_type": "execute_result"
    }
   ],
   "source": [
    "df.duplicated().sum()"
   ]
  },
  {
   "cell_type": "markdown",
   "metadata": {},
   "source": [
    "Количество дубликатов такое же, а значит столбец 'days_employed' не добавит нам уникальных значений.\n",
    "\n",
    "Проверим нет ли проблем со столбцами 'family_status', 'gender' и 'purpose'. "
   ]
  },
  {
   "cell_type": "code",
   "execution_count": 16,
   "metadata": {},
   "outputs": [
    {
     "data": {
      "text/plain": [
       "женат / замужем          12339\n",
       "гражданский брак          4151\n",
       "Не женат / не замужем     2810\n",
       "в разводе                 1195\n",
       "вдовец / вдова             959\n",
       "Name: family_status, dtype: int64"
      ]
     },
     "execution_count": 16,
     "metadata": {},
     "output_type": "execute_result"
    }
   ],
   "source": [
    "df_changed['family_status'].value_counts()"
   ]
  },
  {
   "cell_type": "markdown",
   "metadata": {},
   "source": [
    "Здесь все в порядке."
   ]
  },
  {
   "cell_type": "code",
   "execution_count": 17,
   "metadata": {},
   "outputs": [
    {
     "data": {
      "text/plain": [
       "F      14174\n",
       "M       7279\n",
       "XNA        1\n",
       "Name: gender, dtype: int64"
      ]
     },
     "execution_count": 17,
     "metadata": {},
     "output_type": "execute_result"
    }
   ],
   "source": [
    "df_changed['gender'].value_counts()"
   ]
  },
  {
   "cell_type": "markdown",
   "metadata": {},
   "source": [
    "Здесь тоже все в порядке."
   ]
  },
  {
   "cell_type": "markdown",
   "metadata": {},
   "source": [
    "Возможны несколько вариантов:\n",
    "- это банальная ошибка при формировании записи;\n",
    "- мы живем в эпоху, когда система гендерной идентичности перестала быть бинарной, а значит это может быть действительно какой-то третий пол (хотя в банковских записях, да ещё и в нашей стране, это едва ли возможно);\n",
    "- возможно клиент менял пол и на момент обращения его половая принадлежность юридически имела некий переходный статус;\n",
    "- в банк обратился гражданин иностраного государства, а у них в паспорте графа пол отсутствует и т.д.\n",
    "    \n",
    "В любом случае половая принадлежность - не та информация, которая необходима нам для ответа на поставленные вопросы, поэтому считаю, что запись можно не трогать, ну или в крайнем случае удалить. </div>"
   ]
  },
  {
   "cell_type": "code",
   "execution_count": 18,
   "metadata": {},
   "outputs": [
    {
     "data": {
      "text/plain": [
       "свадьба                                   791\n",
       "на проведение свадьбы                     768\n",
       "сыграть свадьбу                           765\n",
       "операции с недвижимостью                  675\n",
       "покупка коммерческой недвижимости         661\n",
       "операции с жильем                         652\n",
       "покупка жилья для сдачи                   651\n",
       "операции с коммерческой недвижимостью     650\n",
       "покупка жилья                             646\n",
       "жилье                                     646\n",
       "покупка жилья для семьи                   638\n",
       "строительство собственной недвижимости    635\n",
       "недвижимость                              633\n",
       "операции со своей недвижимостью           627\n",
       "строительство жилой недвижимости          624\n",
       "покупка недвижимости                      621\n",
       "покупка своего жилья                      620\n",
       "строительство недвижимости                619\n",
       "ремонт жилью                              607\n",
       "покупка жилой недвижимости                606\n",
       "на покупку своего автомобиля              505\n",
       "заняться высшим образованием              496\n",
       "автомобиль                                494\n",
       "сделка с подержанным автомобилем          486\n",
       "свой автомобиль                           478\n",
       "автомобили                                478\n",
       "на покупку подержанного автомобиля        478\n",
       "на покупку автомобиля                     471\n",
       "приобретение автомобиля                   461\n",
       "дополнительное образование                460\n",
       "сделка с автомобилем                      455\n",
       "высшее образование                        452\n",
       "образование                               447\n",
       "получение дополнительного образования     446\n",
       "получение образования                     442\n",
       "профильное образование                    436\n",
       "получение высшего образования             426\n",
       "заняться образованием                     408\n",
       "Name: purpose, dtype: int64"
      ]
     },
     "execution_count": 18,
     "metadata": {},
     "output_type": "execute_result"
    }
   ],
   "source": [
    "df_changed['purpose'].value_counts()"
   ]
  },
  {
   "cell_type": "markdown",
   "metadata": {},
   "source": [
    "Здесь проблема иного характера: одинаковые по смыслу значения, записаны по разному. С этим поможет разобраться лемматизация."
   ]
  },
  {
   "cell_type": "markdown",
   "metadata": {},
   "source": [
    "**Вывод**"
   ]
  },
  {
   "cell_type": "markdown",
   "metadata": {},
   "source": [
    "В датафрейме был обнаружен 71 дубликат.\n",
    "\n",
    "Для поиска дубликатов мы сначали применили метод str.lower() к столбцу 'education', т.к. ещё на этапе знакомства с данными обнаружили в нем одинаковые значения записанные буквами в разных регистрах. Далее удалили дубликаты, применив метод drop_duplicates(), и сбросили индексы без сохранения старых методом reset_index().\n",
    "\n",
    "Альтернативное решение (не уверен в его правильности): удалить столбец 'education', т.к. у нас есть столбец 'education_id'(предварительно сохранить расшифровку числовой кодировки в словаре), далее применить к датафрейму метод drop_duplicates().\n",
    "\n",
    "**Возможные причины появления дубликатов:**\n",
    "- повторный ввод данных об одном и том же заемщике (особенно если программа для сбора данных не защищена от этого, т.е. при попытке сохранения данных о заеме, который уже есть в базе, не выскакивает предупреждение);\n",
    "- запись одних и тех же данных разными способами, как в случае со столбцом 'education';\n",
    "- дублирование в результате ошибки при выгрузке данных;\n",
    "- в датафрейме теоретически могут встретится несколько записей о заемщиках, которые действительно обладают полностью идентичными данными. "
   ]
  },
  {
   "cell_type": "markdown",
   "metadata": {},
   "source": [
    "### Лемматизация"
   ]
  },
  {
   "cell_type": "code",
   "execution_count": 19,
   "metadata": {
    "scrolled": false
   },
   "outputs": [
    {
     "data": {
      "text/plain": [
       "Counter({'покупка': 5897,\n",
       "         ' ': 33570,\n",
       "         'жилье': 4460,\n",
       "         '\\n': 21454,\n",
       "         'приобретение': 461,\n",
       "         'автомобиль': 4306,\n",
       "         'дополнительный': 906,\n",
       "         'образование': 4013,\n",
       "         'сыграть': 765,\n",
       "         'свадьба': 2324,\n",
       "         'операция': 2604,\n",
       "         'с': 2918,\n",
       "         'на': 2222,\n",
       "         'проведение': 768,\n",
       "         'для': 1289,\n",
       "         'семья': 638,\n",
       "         'недвижимость': 6351,\n",
       "         'коммерческий': 1311,\n",
       "         'жилой': 1230,\n",
       "         'строительство': 1878,\n",
       "         'собственный': 635,\n",
       "         'подержать': 478,\n",
       "         'свой': 2230,\n",
       "         'со': 627,\n",
       "         'заниматься': 904,\n",
       "         'сделка': 941,\n",
       "         'подержанный': 486,\n",
       "         'получение': 1314,\n",
       "         'высокий': 1374,\n",
       "         'профильный': 436,\n",
       "         'сдача': 651,\n",
       "         'ремонт': 607})"
      ]
     },
     "execution_count": 19,
     "metadata": {},
     "output_type": "execute_result"
    }
   ],
   "source": [
    "df_changed['lemmas'] = df_changed['purpose'].apply(m.lemmatize) #примение функции lemmatize() к каждому значению в столбце 'purpose', \n",
    "                                                #с применением метода apply()\n",
    "#Результатам работы коды будет объект Series, который мы сохранили в переменную lemmas\n",
    "df_changed['lemmas'].value_counts() #подсчет уникальных значений в полученном Series\n",
    "lem = df_changed['lemmas'].sum()\n",
    "Counter(lem) #подсчет количества полученных лемм"
   ]
  },
  {
   "cell_type": "markdown",
   "metadata": {},
   "source": [
    "**Вывод**"
   ]
  },
  {
   "cell_type": "markdown",
   "metadata": {},
   "source": [
    "Мы выполнили лемматизацию значений в столбце 'purpose', что в дальнейшем поможет категоризировать данные по этому признаку. \n",
    "\n",
    "Даже при беглом осмотре результатов лемматизации видно, что основными целями кредита являются различные операции с недвижимостью, включая ремонт жилья, приобретение автомобиля, получение образования и свадьба."
   ]
  },
  {
   "cell_type": "markdown",
   "metadata": {},
   "source": [
    "### Категоризация данных"
   ]
  },
  {
   "cell_type": "markdown",
   "metadata": {},
   "source": [
    "Чтобы дать ответы на все поставленные вопросы необходимо необходимо категоризировать данные по следкющим параметрам:\n",
    "- количеству детей;\n",
    "- семейному положению;\n",
    "- уровню дохода;\n",
    "- целям кредита."
   ]
  },
  {
   "cell_type": "markdown",
   "metadata": {},
   "source": [
    "Категоризацию данных по количеству детей начнем с изчучения значений в соответствующем столбце"
   ]
  },
  {
   "cell_type": "code",
   "execution_count": 20,
   "metadata": {},
   "outputs": [
    {
     "data": {
      "text/plain": [
       " 0     14091\n",
       " 1      4808\n",
       " 2      2052\n",
       " 3       330\n",
       " 20       76\n",
       "-1        47\n",
       " 4        41\n",
       " 5         9\n",
       "Name: children, dtype: int64"
      ]
     },
     "execution_count": 20,
     "metadata": {},
     "output_type": "execute_result"
    }
   ],
   "source": [
    "df_changed['children'].value_counts()"
   ]
  },
  {
   "cell_type": "markdown",
   "metadata": {},
   "source": [
    "Среди данных в столбце есть два явно аномаольных значения - -1 и 20. Несмотря на то что в отдельных семьях может быть 20 и более детей, в данном датафрейме их количество явно аномально (76). Можно предположить, что эти аномалии связаны с ошибкой при вводе данных, таких значений относительно мало, поэтому можно от них избавиться.  "
   ]
  },
  {
   "cell_type": "code",
   "execution_count": 21,
   "metadata": {},
   "outputs": [
    {
     "data": {
      "text/plain": [
       "0    14091\n",
       "1     4808\n",
       "2     2052\n",
       "3      330\n",
       "4       41\n",
       "5        9\n",
       "Name: children, dtype: int64"
      ]
     },
     "execution_count": 21,
     "metadata": {},
     "output_type": "execute_result"
    }
   ],
   "source": [
    "df_changed = df_changed.query('children != -1 and children != 20') #получение среза датафрейма по заданным условиям\n",
    "df_changed['children'].value_counts() #проверка"
   ]
  },
  {
   "cell_type": "markdown",
   "metadata": {},
   "source": [
    "На территории России многодетными считаются семьи в которых воспитываются 3 и более детей. Исходя из этого выделим три категории заемщиков:\n",
    "- без детей\n",
    "- 1-2 ребенка\n",
    "- многодетные"
   ]
  },
  {
   "cell_type": "code",
   "execution_count": 23,
   "metadata": {},
   "outputs": [
    {
     "data": {
      "text/plain": [
       "без детей      14091\n",
       "1-2 ребенка     6860\n",
       "многодетные      380\n",
       "Name: children_group, dtype: int64"
      ]
     },
     "execution_count": 23,
     "metadata": {},
     "output_type": "execute_result"
    }
   ],
   "source": [
    "def children_group (row): #функция дял категоризации по количеству детей\n",
    "    children = row['children']\n",
    "    if children == 0:\n",
    "        return 'без детей'\n",
    "    if 0 < children < 3:\n",
    "        return '1-2 ребенка'\n",
    "    return 'многодетные'\n",
    "\n",
    "df_changed['children_group'] = df_changed.apply(children_group, axis=1) #применение функции к каждой строке и сохранение\n",
    "#результатов её работы в новый столбец\n",
    "df_changed[['children', 'children_group']].head() #проверка\n",
    "df_changed['children_group'].value_counts()"
   ]
  },
  {
   "cell_type": "markdown",
   "metadata": {},
   "source": [
    "Далее категоризируем данные по семейному положению."
   ]
  },
  {
   "cell_type": "code",
   "execution_count": 24,
   "metadata": {},
   "outputs": [
    {
     "name": "stdout",
     "output_type": "stream",
     "text": [
      "женат / замужем          12261\n",
      "гражданский брак          4134\n",
      "Не женат / не замужем     2796\n",
      "в разводе                 1189\n",
      "вдовец / вдова             951\n",
      "Name: family_status, dtype: int64\n"
     ]
    },
    {
     "data": {
      "text/plain": [
       "0    12261\n",
       "1     4134\n",
       "4     2796\n",
       "3     1189\n",
       "2      951\n",
       "Name: family_status_id, dtype: int64"
      ]
     },
     "execution_count": 24,
     "metadata": {},
     "output_type": "execute_result"
    }
   ],
   "source": [
    "print(df_changed['family_status'].value_counts()) #количество уникальных значений в столбцу 'family_status'\n",
    "df_changed['family_status_id'].value_counts() #количество уникальных значений в столбце 'family_status_id', теперь мы занем какой\n",
    "#id соответвствует каждому статусу\n"
   ]
  },
  {
   "cell_type": "markdown",
   "metadata": {},
   "source": [
    "Всех заемщиков по семейному статусу можно разделить на две группы:\n",
    "- на момент взятия кредита состоят в официальном или гражданском браке (обозначим как 'состоит в браке')\n",
    "- на момент взятия кредита не стостоят в официальном или гражданском браке (обозначим как 'не состоит в браке')\n",
    "\n",
    "Однако, считаю что для ответа на поставленный вопрос (Есть ли зависимость между семейным положением и возвратом кредита в срок?)  целесообразно, так же провести анализ по каждому семейному статусу, т.к. указанные изначально в датафрейме семейные статусы могут влиять на финансовое состояние заемщика. Например:\n",
    "- заемщики из группы 'женат/замужем' ведут совместное хозяйство с супругой/супругом и официально имеют перед друг другом определенные финансовые обязательства;\n",
    "- заемщики живущие в гражданском браке, также ведут совместное хозяйство с партнером, но при этом, как правило, не обременены какими-то финансовыми обязательствами перед друг другом;\n",
    "- заемщики находящиеся в разводе имеют дополнительное финансовое обременение в виде алиментов;\n",
    "- заемщики со статусом 'вдова/вдовец' единолично содержат детей и т.д."
   ]
  },
  {
   "cell_type": "code",
   "execution_count": 25,
   "metadata": {},
   "outputs": [
    {
     "data": {
      "text/html": [
       "<div>\n",
       "<style scoped>\n",
       "    .dataframe tbody tr th:only-of-type {\n",
       "        vertical-align: middle;\n",
       "    }\n",
       "\n",
       "    .dataframe tbody tr th {\n",
       "        vertical-align: top;\n",
       "    }\n",
       "\n",
       "    .dataframe thead th {\n",
       "        text-align: right;\n",
       "    }\n",
       "</style>\n",
       "<table border=\"1\" class=\"dataframe\">\n",
       "  <thead>\n",
       "    <tr style=\"text-align: right;\">\n",
       "      <th></th>\n",
       "      <th>family_status</th>\n",
       "      <th>family_status_group</th>\n",
       "    </tr>\n",
       "  </thead>\n",
       "  <tbody>\n",
       "    <tr>\n",
       "      <th>0</th>\n",
       "      <td>женат / замужем</td>\n",
       "      <td>состоит в браке</td>\n",
       "    </tr>\n",
       "    <tr>\n",
       "      <th>1</th>\n",
       "      <td>женат / замужем</td>\n",
       "      <td>состоит в браке</td>\n",
       "    </tr>\n",
       "    <tr>\n",
       "      <th>2</th>\n",
       "      <td>женат / замужем</td>\n",
       "      <td>состоит в браке</td>\n",
       "    </tr>\n",
       "    <tr>\n",
       "      <th>3</th>\n",
       "      <td>женат / замужем</td>\n",
       "      <td>состоит в браке</td>\n",
       "    </tr>\n",
       "    <tr>\n",
       "      <th>4</th>\n",
       "      <td>гражданский брак</td>\n",
       "      <td>состоит в браке</td>\n",
       "    </tr>\n",
       "  </tbody>\n",
       "</table>\n",
       "</div>"
      ],
      "text/plain": [
       "      family_status family_status_group\n",
       "0   женат / замужем     состоит в браке\n",
       "1   женат / замужем     состоит в браке\n",
       "2   женат / замужем     состоит в браке\n",
       "3   женат / замужем     состоит в браке\n",
       "4  гражданский брак     состоит в браке"
      ]
     },
     "execution_count": 25,
     "metadata": {},
     "output_type": "execute_result"
    }
   ],
   "source": [
    "def family_status_group(row): #функция для категоризации по семейному статусу\n",
    "    family_status_id = row['family_status_id']\n",
    "    if 0 <= family_status_id < 2:\n",
    "        return 'состоит в браке'\n",
    "    return 'не состоит в браке'\n",
    "\n",
    "df_changed['family_status_group'] = df_changed.apply(family_status_group, axis=1)#применение функции к каждой строке и сохранение\n",
    "#результатов её работы в новый столбец\n",
    "df_changed[['family_status', 'family_status_group']].head() #проверка"
   ]
  },
  {
   "cell_type": "markdown",
   "metadata": {},
   "source": [
    "Для ориентира при категоризации заемщиков по уровню дохода спользуем медиану данного показателя. Разделим заемщиков на 4 группы:\n",
    "- с ежемесячным доход 1/2 медианы и ниже (низкий доход)\n",
    "- с ежемесячным доходом от более, чем 1/2 медианы до медианы (средний доход)\n",
    "- с ежемясячным доходом от более, чем 1 медианы до 2 медиан (высокий доход)\n",
    "- с ежемесячным доходом более 2 медиан (сверхвысокий доход)"
   ]
  },
  {
   "cell_type": "code",
   "execution_count": 26,
   "metadata": {},
   "outputs": [
    {
     "data": {
      "text/html": [
       "<div>\n",
       "<style scoped>\n",
       "    .dataframe tbody tr th:only-of-type {\n",
       "        vertical-align: middle;\n",
       "    }\n",
       "\n",
       "    .dataframe tbody tr th {\n",
       "        vertical-align: top;\n",
       "    }\n",
       "\n",
       "    .dataframe thead th {\n",
       "        text-align: right;\n",
       "    }\n",
       "</style>\n",
       "<table border=\"1\" class=\"dataframe\">\n",
       "  <thead>\n",
       "    <tr style=\"text-align: right;\">\n",
       "      <th></th>\n",
       "      <th>total_income</th>\n",
       "      <th>total_income_group</th>\n",
       "    </tr>\n",
       "  </thead>\n",
       "  <tbody>\n",
       "    <tr>\n",
       "      <th>0</th>\n",
       "      <td>253875</td>\n",
       "      <td>высокий доход</td>\n",
       "    </tr>\n",
       "    <tr>\n",
       "      <th>1</th>\n",
       "      <td>112080</td>\n",
       "      <td>средний доход</td>\n",
       "    </tr>\n",
       "    <tr>\n",
       "      <th>2</th>\n",
       "      <td>145885</td>\n",
       "      <td>высокий доход</td>\n",
       "    </tr>\n",
       "    <tr>\n",
       "      <th>3</th>\n",
       "      <td>267628</td>\n",
       "      <td>высокий доход</td>\n",
       "    </tr>\n",
       "    <tr>\n",
       "      <th>4</th>\n",
       "      <td>158616</td>\n",
       "      <td>высокий доход</td>\n",
       "    </tr>\n",
       "  </tbody>\n",
       "</table>\n",
       "</div>"
      ],
      "text/plain": [
       "   total_income total_income_group\n",
       "0        253875      высокий доход\n",
       "1        112080      средний доход\n",
       "2        145885      высокий доход\n",
       "3        267628      высокий доход\n",
       "4        158616      высокий доход"
      ]
     },
     "metadata": {},
     "output_type": "display_data"
    },
    {
     "data": {
      "text/plain": [
       "средний доход         9214\n",
       "высокий доход         8802\n",
       "сверхвысокий доход    1746\n",
       "низкий доход          1569\n",
       "Name: total_income_group, dtype: int64"
      ]
     },
     "execution_count": 26,
     "metadata": {},
     "output_type": "execute_result"
    }
   ],
   "source": [
    "def total_income_group(row): #функция для категоризации по уровню дохода\n",
    "    income = row['total_income']\n",
    "    income_median = df_changed['total_income'].median()\n",
    "    if income <= income_median / 2:\n",
    "        return 'низкий доход'\n",
    "    elif income_median / 2 < income <= income_median:\n",
    "        return 'средний доход'\n",
    "    elif income_median < income <= income_median * 2:\n",
    "        return 'высокий доход'\n",
    "    else:\n",
    "        return 'сверхвысокий доход'\n",
    "\n",
    "df_changed['total_income_group'] = df_changed.apply(total_income_group, axis=1) #применение функции к каждой строке и сохранение\n",
    "#результатов её работы в новый столбец\n",
    "display(df_changed[['total_income', 'total_income_group']].head()) #проверка\n",
    "df_changed['total_income_group'].value_counts()"
   ]
  },
  {
   "cell_type": "markdown",
   "metadata": {},
   "source": [
    "После лемматизации мы выделели 4 цели кредита по котором будет проводится категоризация:\n",
    "- операции с недвижимостью\n",
    "- приобретение автомобиля\n",
    "- образование\n",
    "- свадьба"
   ]
  },
  {
   "cell_type": "code",
   "execution_count": 27,
   "metadata": {},
   "outputs": [
    {
     "data": {
      "text/html": [
       "<div>\n",
       "<style scoped>\n",
       "    .dataframe tbody tr th:only-of-type {\n",
       "        vertical-align: middle;\n",
       "    }\n",
       "\n",
       "    .dataframe tbody tr th {\n",
       "        vertical-align: top;\n",
       "    }\n",
       "\n",
       "    .dataframe thead th {\n",
       "        text-align: right;\n",
       "    }\n",
       "</style>\n",
       "<table border=\"1\" class=\"dataframe\">\n",
       "  <thead>\n",
       "    <tr style=\"text-align: right;\">\n",
       "      <th></th>\n",
       "      <th>lemmas</th>\n",
       "      <th>purpose_group</th>\n",
       "    </tr>\n",
       "  </thead>\n",
       "  <tbody>\n",
       "    <tr>\n",
       "      <th>0</th>\n",
       "      <td>[покупка,  , жилье, \\n]</td>\n",
       "      <td>недвижимость</td>\n",
       "    </tr>\n",
       "    <tr>\n",
       "      <th>1</th>\n",
       "      <td>[приобретение,  , автомобиль, \\n]</td>\n",
       "      <td>автомобиль</td>\n",
       "    </tr>\n",
       "    <tr>\n",
       "      <th>2</th>\n",
       "      <td>[покупка,  , жилье, \\n]</td>\n",
       "      <td>недвижимость</td>\n",
       "    </tr>\n",
       "    <tr>\n",
       "      <th>3</th>\n",
       "      <td>[дополнительный,  , образование, \\n]</td>\n",
       "      <td>образование</td>\n",
       "    </tr>\n",
       "    <tr>\n",
       "      <th>4</th>\n",
       "      <td>[сыграть,  , свадьба, \\n]</td>\n",
       "      <td>свадьба</td>\n",
       "    </tr>\n",
       "    <tr>\n",
       "      <th>5</th>\n",
       "      <td>[покупка,  , жилье, \\n]</td>\n",
       "      <td>недвижимость</td>\n",
       "    </tr>\n",
       "    <tr>\n",
       "      <th>6</th>\n",
       "      <td>[операция,  , с,  , жилье, \\n]</td>\n",
       "      <td>недвижимость</td>\n",
       "    </tr>\n",
       "    <tr>\n",
       "      <th>7</th>\n",
       "      <td>[образование, \\n]</td>\n",
       "      <td>образование</td>\n",
       "    </tr>\n",
       "    <tr>\n",
       "      <th>8</th>\n",
       "      <td>[на,  , проведение,  , свадьба, \\n]</td>\n",
       "      <td>свадьба</td>\n",
       "    </tr>\n",
       "    <tr>\n",
       "      <th>9</th>\n",
       "      <td>[покупка,  , жилье,  , для,  , семья, \\n]</td>\n",
       "      <td>недвижимость</td>\n",
       "    </tr>\n",
       "  </tbody>\n",
       "</table>\n",
       "</div>"
      ],
      "text/plain": [
       "                                      lemmas purpose_group\n",
       "0                    [покупка,  , жилье, \\n]  недвижимость\n",
       "1          [приобретение,  , автомобиль, \\n]    автомобиль\n",
       "2                    [покупка,  , жилье, \\n]  недвижимость\n",
       "3       [дополнительный,  , образование, \\n]   образование\n",
       "4                  [сыграть,  , свадьба, \\n]       свадьба\n",
       "5                    [покупка,  , жилье, \\n]  недвижимость\n",
       "6             [операция,  , с,  , жилье, \\n]  недвижимость\n",
       "7                          [образование, \\n]   образование\n",
       "8        [на,  , проведение,  , свадьба, \\n]       свадьба\n",
       "9  [покупка,  , жилье,  , для,  , семья, \\n]  недвижимость"
      ]
     },
     "metadata": {},
     "output_type": "display_data"
    },
    {
     "data": {
      "text/plain": [
       "недвижимость    10751\n",
       "автомобиль       4279\n",
       "образование      3988\n",
       "свадьба          2313\n",
       "Name: purpose_group, dtype: int64"
      ]
     },
     "execution_count": 27,
     "metadata": {},
     "output_type": "execute_result"
    }
   ],
   "source": [
    "def purpose_group(row): #функция для категоризации по целям кредита\n",
    "    lemmas = row['lemmas']\n",
    "    if 'недвижимость' in lemmas or 'жилье' in lemmas:\n",
    "        return 'недвижимость'\n",
    "    elif 'автомобиль' in lemmas:\n",
    "        return 'автомобиль'\n",
    "    elif 'образование' in lemmas:\n",
    "        return 'образование'\n",
    "    elif 'свадьба' in lemmas:\n",
    "        return 'свадьба'\n",
    "    else:\n",
    "        return 'ошибка'\n",
    "\n",
    "df_changed['purpose_group'] = df_changed.apply(purpose_group, axis=1) #применение функции к каждой строке и сохранение\n",
    "#результатов её работы в новый столбец\n",
    "display(df_changed[['lemmas', 'purpose_group']].head(10)) #проверка\n",
    "df_changed['purpose_group'].value_counts()"
   ]
  },
  {
   "cell_type": "code",
   "execution_count": 28,
   "metadata": {},
   "outputs": [
    {
     "data": {
      "text/html": [
       "<div>\n",
       "<style scoped>\n",
       "    .dataframe tbody tr th:only-of-type {\n",
       "        vertical-align: middle;\n",
       "    }\n",
       "\n",
       "    .dataframe tbody tr th {\n",
       "        vertical-align: top;\n",
       "    }\n",
       "\n",
       "    .dataframe thead th {\n",
       "        text-align: right;\n",
       "    }\n",
       "</style>\n",
       "<table border=\"1\" class=\"dataframe\">\n",
       "  <thead>\n",
       "    <tr style=\"text-align: right;\">\n",
       "      <th></th>\n",
       "      <th>family_status</th>\n",
       "      <th>debt</th>\n",
       "      <th>children_group</th>\n",
       "      <th>family_status_group</th>\n",
       "      <th>total_income_group</th>\n",
       "      <th>purpose_group</th>\n",
       "    </tr>\n",
       "  </thead>\n",
       "  <tbody>\n",
       "    <tr>\n",
       "      <th>0</th>\n",
       "      <td>женат / замужем</td>\n",
       "      <td>0</td>\n",
       "      <td>1-2 ребенка</td>\n",
       "      <td>состоит в браке</td>\n",
       "      <td>высокий доход</td>\n",
       "      <td>недвижимость</td>\n",
       "    </tr>\n",
       "    <tr>\n",
       "      <th>1</th>\n",
       "      <td>женат / замужем</td>\n",
       "      <td>0</td>\n",
       "      <td>1-2 ребенка</td>\n",
       "      <td>состоит в браке</td>\n",
       "      <td>средний доход</td>\n",
       "      <td>автомобиль</td>\n",
       "    </tr>\n",
       "    <tr>\n",
       "      <th>2</th>\n",
       "      <td>женат / замужем</td>\n",
       "      <td>0</td>\n",
       "      <td>без детей</td>\n",
       "      <td>состоит в браке</td>\n",
       "      <td>высокий доход</td>\n",
       "      <td>недвижимость</td>\n",
       "    </tr>\n",
       "    <tr>\n",
       "      <th>3</th>\n",
       "      <td>женат / замужем</td>\n",
       "      <td>0</td>\n",
       "      <td>многодетные</td>\n",
       "      <td>состоит в браке</td>\n",
       "      <td>высокий доход</td>\n",
       "      <td>образование</td>\n",
       "    </tr>\n",
       "    <tr>\n",
       "      <th>4</th>\n",
       "      <td>гражданский брак</td>\n",
       "      <td>0</td>\n",
       "      <td>без детей</td>\n",
       "      <td>состоит в браке</td>\n",
       "      <td>высокий доход</td>\n",
       "      <td>свадьба</td>\n",
       "    </tr>\n",
       "  </tbody>\n",
       "</table>\n",
       "</div>"
      ],
      "text/plain": [
       "      family_status  debt children_group family_status_group  \\\n",
       "0   женат / замужем     0    1-2 ребенка     состоит в браке   \n",
       "1   женат / замужем     0    1-2 ребенка     состоит в браке   \n",
       "2   женат / замужем     0      без детей     состоит в браке   \n",
       "3   женат / замужем     0    многодетные     состоит в браке   \n",
       "4  гражданский брак     0      без детей     состоит в браке   \n",
       "\n",
       "  total_income_group purpose_group  \n",
       "0      высокий доход  недвижимость  \n",
       "1      средний доход    автомобиль  \n",
       "2      высокий доход  недвижимость  \n",
       "3      высокий доход   образование  \n",
       "4      высокий доход       свадьба  "
      ]
     },
     "execution_count": 28,
     "metadata": {},
     "output_type": "execute_result"
    }
   ],
   "source": [
    "df_for_answers = df_changed.drop(['children', 'dob_years', 'education', 'education_id', 'family_status_id', 'gender', \n",
    "                                  'income_type', 'total_income', 'lemmas', 'purpose'], axis=1) #облегчим датафрейм, удалив \n",
    "                                                                                            #данные которые нам не понадобятся\n",
    "df_for_answers.head()"
   ]
  },
  {
   "cell_type": "markdown",
   "metadata": {},
   "source": [
    "**Вывод**"
   ]
  },
  {
   "cell_type": "markdown",
   "metadata": {},
   "source": [
    "Данные категоризированы по тем параметрам, которые понадобятся нам для поиска ответов на вопросы исследования (количество детей, семейный статус, уровень дохода и цели кредита).\n",
    "\n",
    "Категоризация проводилась путем написания функции для строки, которая в дальнейшем применялась к каждой строке датафрейма методом apply(). Результат работы функции сохранялся в новый столбец датафрейма."
   ]
  },
  {
   "cell_type": "markdown",
   "metadata": {},
   "source": [
    "## Ответы на поставленные вопросы"
   ]
  },
  {
   "cell_type": "markdown",
   "metadata": {},
   "source": [
    "### Есть ли зависимость между наличием детей и возвратом кредита в срок?"
   ]
  },
  {
   "cell_type": "code",
   "execution_count": 29,
   "metadata": {},
   "outputs": [
    {
     "data": {
      "text/html": [
       "<div>\n",
       "<style scoped>\n",
       "    .dataframe tbody tr th:only-of-type {\n",
       "        vertical-align: middle;\n",
       "    }\n",
       "\n",
       "    .dataframe tbody tr th {\n",
       "        vertical-align: top;\n",
       "    }\n",
       "\n",
       "    .dataframe thead th {\n",
       "        text-align: right;\n",
       "    }\n",
       "</style>\n",
       "<table border=\"1\" class=\"dataframe\">\n",
       "  <thead>\n",
       "    <tr style=\"text-align: right;\">\n",
       "      <th></th>\n",
       "      <th>debt_ratio_%</th>\n",
       "    </tr>\n",
       "    <tr>\n",
       "      <th>children_group</th>\n",
       "      <th></th>\n",
       "    </tr>\n",
       "  </thead>\n",
       "  <tbody>\n",
       "    <tr>\n",
       "      <th>1-2 ребенка</th>\n",
       "      <td>9.3</td>\n",
       "    </tr>\n",
       "    <tr>\n",
       "      <th>многодетные</th>\n",
       "      <td>8.2</td>\n",
       "    </tr>\n",
       "    <tr>\n",
       "      <th>без детей</th>\n",
       "      <td>7.5</td>\n",
       "    </tr>\n",
       "  </tbody>\n",
       "</table>\n",
       "</div>"
      ],
      "text/plain": [
       "                debt_ratio_%\n",
       "children_group              \n",
       "1-2 ребенка              9.3\n",
       "многодетные              8.2\n",
       "без детей                7.5"
      ]
     },
     "metadata": {},
     "output_type": "display_data"
    },
    {
     "data": {
      "image/png": "[encoded data removed]",
      "text/plain": [
       "<Figure size 432x288 with 1 Axes>"
      ]
     },
     "metadata": {
      "needs_background": "light"
     },
     "output_type": "display_data"
    }
   ],
   "source": [
    "def answer(df_):\n",
    "    df_['debt_ratio_%'] = (df_['debt'] * 100).round(1)\n",
    "    df_ = df_.drop(['debt'], axis=1).sort_values(by='debt_ratio_%', ascending=False)\n",
    "    return df_\n",
    "\n",
    "df_children = df_for_answers.pivot_table(index='children_group', values='debt') #формирование сводной таблицы\n",
    "df_children = answer(df_children)\n",
    "display(df_children)\n",
    "\n",
    "childrens_group = ['1-2 ребенка', 'многодетные', 'без детей'] \n",
    "sns.barplot(x=childrens_group, y=df_children['debt_ratio_%']) #дополнительная визуализация результатов столбцовой гистограммой\n",
    "plt.show()\n"
   ]
  },
  {
   "cell_type": "markdown",
   "metadata": {},
   "source": [
    "**Вывод**"
   ]
  },
  {
   "cell_type": "markdown",
   "metadata": {},
   "source": [
    "Самая высокая доля задолжников по возврату кредита среди заемщиков, имеющих 1-2 ребенка, более чем на процент этот показатель ниже в группе многодетных заемщиков и самый низкий риск невозврата кредита в срок среди заемщиков не имеющих детей. Это может быть связано  с тем, что наличие детей накладывает дополнительное финансовое обременение.\n",
    "\n",
    "Отвечая на вопрос, можно сказать, что отсутствие детей ассоциировано с наиболее низким риском невозврата кредита в срок, по сравнению с наличием детей у заемщика. Однако, многодетные заемщики просрачивают возврат кредита реже, чем имеющие 1-2 детей."
   ]
  },
  {
   "cell_type": "markdown",
   "metadata": {},
   "source": [
    "### Есть ли зависимость между семейным положением и возвратом кредита в срок?"
   ]
  },
  {
   "cell_type": "code",
   "execution_count": 30,
   "metadata": {},
   "outputs": [
    {
     "data": {
      "text/html": [
       "<div>\n",
       "<style scoped>\n",
       "    .dataframe tbody tr th:only-of-type {\n",
       "        vertical-align: middle;\n",
       "    }\n",
       "\n",
       "    .dataframe tbody tr th {\n",
       "        vertical-align: top;\n",
       "    }\n",
       "\n",
       "    .dataframe thead th {\n",
       "        text-align: right;\n",
       "    }\n",
       "</style>\n",
       "<table border=\"1\" class=\"dataframe\">\n",
       "  <thead>\n",
       "    <tr style=\"text-align: right;\">\n",
       "      <th></th>\n",
       "      <th>debt_ratio_%</th>\n",
       "    </tr>\n",
       "    <tr>\n",
       "      <th>family_status_group</th>\n",
       "      <th></th>\n",
       "    </tr>\n",
       "  </thead>\n",
       "  <tbody>\n",
       "    <tr>\n",
       "      <th>не состоит в браке</th>\n",
       "      <td>8.5</td>\n",
       "    </tr>\n",
       "    <tr>\n",
       "      <th>состоит в браке</th>\n",
       "      <td>8.0</td>\n",
       "    </tr>\n",
       "  </tbody>\n",
       "</table>\n",
       "</div>"
      ],
      "text/plain": [
       "                     debt_ratio_%\n",
       "family_status_group              \n",
       "не состоит в браке            8.5\n",
       "состоит в браке               8.0"
      ]
     },
     "metadata": {},
     "output_type": "display_data"
    },
    {
     "data": {
      "image/png": "[encoded data removed]",
      "text/plain": [
       "<Figure size 432x288 with 1 Axes>"
      ]
     },
     "metadata": {
      "needs_background": "light"
     },
     "output_type": "display_data"
    }
   ],
   "source": [
    "df_family_status_group = df_for_answers.pivot_table(index='family_status_group', values='debt')\n",
    "df_family_status_group = answer(df_family_status_group)\n",
    "display(df_family_status_group)\n",
    "family_status_group = ['не состоит в браке', 'состоит в браке']\n",
    "sns.barplot(x=family_status_group, y=df_family_status_group['debt_ratio_%'])\n",
    "plt.show()\n"
   ]
  },
  {
   "cell_type": "markdown",
   "metadata": {},
   "source": [
    "Как говорилось ранее, учитывая возможные финансовые особенности, связанные с различным семейным статусом, представляется целесообразным оценка доли должников по каждому из типов семейного статуса, представленных в датафрейме изначально."
   ]
  },
  {
   "cell_type": "code",
   "execution_count": 31,
   "metadata": {},
   "outputs": [
    {
     "data": {
      "text/html": [
       "<div>\n",
       "<style scoped>\n",
       "    .dataframe tbody tr th:only-of-type {\n",
       "        vertical-align: middle;\n",
       "    }\n",
       "\n",
       "    .dataframe tbody tr th {\n",
       "        vertical-align: top;\n",
       "    }\n",
       "\n",
       "    .dataframe thead th {\n",
       "        text-align: right;\n",
       "    }\n",
       "</style>\n",
       "<table border=\"1\" class=\"dataframe\">\n",
       "  <thead>\n",
       "    <tr style=\"text-align: right;\">\n",
       "      <th></th>\n",
       "      <th>debt_ratio_%</th>\n",
       "    </tr>\n",
       "    <tr>\n",
       "      <th>family_status</th>\n",
       "      <th></th>\n",
       "    </tr>\n",
       "  </thead>\n",
       "  <tbody>\n",
       "    <tr>\n",
       "      <th>Не женат / не замужем</th>\n",
       "      <td>9.8</td>\n",
       "    </tr>\n",
       "    <tr>\n",
       "      <th>гражданский брак</th>\n",
       "      <td>9.3</td>\n",
       "    </tr>\n",
       "    <tr>\n",
       "      <th>женат / замужем</th>\n",
       "      <td>7.6</td>\n",
       "    </tr>\n",
       "    <tr>\n",
       "      <th>в разводе</th>\n",
       "      <td>7.1</td>\n",
       "    </tr>\n",
       "    <tr>\n",
       "      <th>вдовец / вдова</th>\n",
       "      <td>6.6</td>\n",
       "    </tr>\n",
       "  </tbody>\n",
       "</table>\n",
       "</div>"
      ],
      "text/plain": [
       "                       debt_ratio_%\n",
       "family_status                      \n",
       "Не женат / не замужем           9.8\n",
       "гражданский брак                9.3\n",
       "женат / замужем                 7.6\n",
       "в разводе                       7.1\n",
       "вдовец / вдова                  6.6"
      ]
     },
     "metadata": {},
     "output_type": "display_data"
    },
    {
     "data": {
      "image/png": "[encoded data removed]",
      "text/plain": [
       "<Figure size 432x288 with 1 Axes>"
      ]
     },
     "metadata": {
      "needs_background": "light"
     },
     "output_type": "display_data"
    }
   ],
   "source": [
    "df_family_status = df_for_answers.pivot_table(index='family_status', values='debt')\n",
    "df_family_status = answer(df_family_status)\n",
    "display(df_family_status)\n",
    "\n",
    "family_status_group1 = ['не женат/не замужем', 'гражданский брак', 'женат/замужем', 'в разводе', 'вдовец/вдова']\n",
    "sns.barplot(x=df_family_status['debt_ratio_%'], y=family_status_group1)\n",
    "plt.show()"
   ]
  },
  {
   "cell_type": "markdown",
   "metadata": {},
   "source": [
    "**Вывод**"
   ]
  },
  {
   "cell_type": "markdown",
   "metadata": {},
   "source": [
    "Риск невозврата кредита в срок несколько выше (0,5%) среди заемщиков, которые на момент взятия кредита не состоят в браке.\n",
    "\n",
    "При анализе доли должников в группах по семейному статусу, которые были изначально выделены в датафрейме выявлено, что наибольшей риск просрочки платежей по кредиту наблюдается среди не женатых/ не замужних заемщиков, а также среди заемщиков,  состоящих в гражданском браке. Ниже доля должников среди заемщиков, сотоящих в официальном браке, или находящихся в разводе. Самый низкий риск просрочки платежей в группе овдовевших."
   ]
  },
  {
   "cell_type": "markdown",
   "metadata": {},
   "source": [
    "### Есть ли зависимость между уровнем дохода и возвратом кредита в срок?"
   ]
  },
  {
   "cell_type": "code",
   "execution_count": 32,
   "metadata": {},
   "outputs": [
    {
     "data": {
      "text/html": [
       "<div>\n",
       "<style scoped>\n",
       "    .dataframe tbody tr th:only-of-type {\n",
       "        vertical-align: middle;\n",
       "    }\n",
       "\n",
       "    .dataframe tbody tr th {\n",
       "        vertical-align: top;\n",
       "    }\n",
       "\n",
       "    .dataframe thead th {\n",
       "        text-align: right;\n",
       "    }\n",
       "</style>\n",
       "<table border=\"1\" class=\"dataframe\">\n",
       "  <thead>\n",
       "    <tr style=\"text-align: right;\">\n",
       "      <th></th>\n",
       "      <th>debt_ratio_%</th>\n",
       "    </tr>\n",
       "    <tr>\n",
       "      <th>total_income_group</th>\n",
       "      <th></th>\n",
       "    </tr>\n",
       "  </thead>\n",
       "  <tbody>\n",
       "    <tr>\n",
       "      <th>средний доход</th>\n",
       "      <td>8.7</td>\n",
       "    </tr>\n",
       "    <tr>\n",
       "      <th>высокий доход</th>\n",
       "      <td>8.0</td>\n",
       "    </tr>\n",
       "    <tr>\n",
       "      <th>сверхвысокий доход</th>\n",
       "      <td>7.1</td>\n",
       "    </tr>\n",
       "    <tr>\n",
       "      <th>низкий доход</th>\n",
       "      <td>6.9</td>\n",
       "    </tr>\n",
       "  </tbody>\n",
       "</table>\n",
       "</div>"
      ],
      "text/plain": [
       "                    debt_ratio_%\n",
       "total_income_group              \n",
       "средний доход                8.7\n",
       "высокий доход                8.0\n",
       "сверхвысокий доход           7.1\n",
       "низкий доход                 6.9"
      ]
     },
     "metadata": {},
     "output_type": "display_data"
    },
    {
     "data": {
      "image/png": "[encoded data removed]",
      "text/plain": [
       "<Figure size 432x288 with 1 Axes>"
      ]
     },
     "metadata": {
      "needs_background": "light"
     },
     "output_type": "display_data"
    }
   ],
   "source": [
    "df_income = df_for_answers.pivot_table(index='total_income_group', values='debt')\n",
    "df_income = answer(df_income)\n",
    "display(df_income)\n",
    "\n",
    "income_group = ['средний доход', 'высокий доход', 'сверхвысокий доход', 'низкий доход']\n",
    "sns.barplot(x=df_income['debt_ratio_%'], y=income_group)\n",
    "plt.show()"
   ]
  },
  {
   "cell_type": "markdown",
   "metadata": {},
   "source": [
    "**Вывод**"
   ]
  },
  {
   "cell_type": "markdown",
   "metadata": {},
   "source": [
    "Возврат кредита срок зависит от уровня дохода. Однако, зависимость эта весьма отличается от ожидаемой интуитивно (сложнее всего выплачивать кредит заемщикам с низким доходом, а проще, соответственно, с высоким). Так наибольшая доля должников выявлена среди заемщиков со средним доходом, а наименьшая среди заемщиков с низким доходом. Это может быть связано, например, с суммой кредитов: возможно люди с низкими доходами берут более мелкие кредиты и тщательнее просчитывают возможность его вернуть, а лица с более высокими доходами кредитуются с большими суммами и расчитывая на свой доход принимают на себя более высокие финансовые риски.  "
   ]
  },
  {
   "cell_type": "markdown",
   "metadata": {},
   "source": [
    "### Как разные цели кредита влияют на его возврат в срок?"
   ]
  },
  {
   "cell_type": "code",
   "execution_count": 33,
   "metadata": {},
   "outputs": [
    {
     "data": {
      "text/html": [
       "<div>\n",
       "<style scoped>\n",
       "    .dataframe tbody tr th:only-of-type {\n",
       "        vertical-align: middle;\n",
       "    }\n",
       "\n",
       "    .dataframe tbody tr th {\n",
       "        vertical-align: top;\n",
       "    }\n",
       "\n",
       "    .dataframe thead th {\n",
       "        text-align: right;\n",
       "    }\n",
       "</style>\n",
       "<table border=\"1\" class=\"dataframe\">\n",
       "  <thead>\n",
       "    <tr style=\"text-align: right;\">\n",
       "      <th></th>\n",
       "      <th>debt_ratio_%</th>\n",
       "    </tr>\n",
       "    <tr>\n",
       "      <th>purpose_group</th>\n",
       "      <th></th>\n",
       "    </tr>\n",
       "  </thead>\n",
       "  <tbody>\n",
       "    <tr>\n",
       "      <th>автомобиль</th>\n",
       "      <td>9.3</td>\n",
       "    </tr>\n",
       "    <tr>\n",
       "      <th>образование</th>\n",
       "      <td>9.3</td>\n",
       "    </tr>\n",
       "    <tr>\n",
       "      <th>свадьба</th>\n",
       "      <td>7.9</td>\n",
       "    </tr>\n",
       "    <tr>\n",
       "      <th>недвижимость</th>\n",
       "      <td>7.3</td>\n",
       "    </tr>\n",
       "  </tbody>\n",
       "</table>\n",
       "</div>"
      ],
      "text/plain": [
       "               debt_ratio_%\n",
       "purpose_group              \n",
       "автомобиль              9.3\n",
       "образование             9.3\n",
       "свадьба                 7.9\n",
       "недвижимость            7.3"
      ]
     },
     "metadata": {},
     "output_type": "display_data"
    },
    {
     "data": {
      "image/png": "[encoded data removed]",
      "text/plain": [
       "<Figure size 432x288 with 1 Axes>"
      ]
     },
     "metadata": {
      "needs_background": "light"
     },
     "output_type": "display_data"
    }
   ],
   "source": [
    "df_purpose = df_for_answers.pivot_table(index='purpose_group', values='debt')\n",
    "df_purpose = answer(df_purpose)\n",
    "display(df_purpose)\n",
    "\n",
    "purpose_group = ['автомобиль', 'образование', 'свадьба', 'недвижимость']\n",
    "sns.barplot(x=df_purpose['debt_ratio_%'], y=purpose_group)\n",
    "plt.show()"
   ]
  },
  {
   "cell_type": "markdown",
   "metadata": {},
   "source": [
    "**Вывод**"
   ]
  },
  {
   "cell_type": "markdown",
   "metadata": {},
   "source": [
    "Наименее рискованными в плане просрочки платежей являются кредиты на недвижимость, выше риски у кредитов на свадьбу, и наиболее высокие доли должников среди тех кто берет кредиты на образование и на покупку автомобиля. "
   ]
  },
  {
   "cell_type": "markdown",
   "metadata": {},
   "source": [
    "## Общий вывод"
   ]
  },
  {
   "cell_type": "markdown",
   "metadata": {},
   "source": [
    "В исследовании показано, что доля должников среди заемщиков отличается в группах сформированных по количеству детей, семейному положению, уровню дохода и целям кредита. Отличия в доле должников в разных группах составляют не более 1-2%, но когда речь идет о большом количестве заемщиков и больших суммах кредитов за каждым таким процентом могут стоять внушительные суммы невыплаченных задолжностей, наверное (честно говоря не очень силен в банковском деле). Также следует учесть, что в исследовании не проводилась оценка статитстической значимости различий в группах, а значит разница в доли должников может быть и совершенно случайной, особенно это актуально для групп с относительно небольшим количеством наблюдений.\n",
    "\n",
    "Резюмируя исследование, портрет идеального заемщика - это бездетный/бездетная вдова/вдовец с низким доходом, кредит которому/которой нужен для покупки недвижимости.  "
   ]
  }
 ],
 "metadata": {
  "ExecuteTimeLog": [
   {
    "duration": 906,
    "start_time": "2022-01-22T15:54:59.611Z"
   },
   {
    "duration": 74,
    "start_time": "2022-01-22T15:55:11.496Z"
   },
   {
    "duration": 52,
    "start_time": "2022-01-22T15:56:21.420Z"
   },
   {
    "duration": 65,
    "start_time": "2022-01-22T15:58:38.724Z"
   },
   {
    "duration": 69,
    "start_time": "2022-01-22T16:05:20.548Z"
   },
   {
    "duration": 60,
    "start_time": "2022-01-22T16:10:40.655Z"
   },
   {
    "duration": 54,
    "start_time": "2022-01-22T16:11:06.043Z"
   },
   {
    "duration": 52,
    "start_time": "2022-01-22T16:12:18.558Z"
   },
   {
    "duration": 52,
    "start_time": "2022-01-22T16:14:41.532Z"
   },
   {
    "duration": 12,
    "start_time": "2022-01-22T16:15:53.201Z"
   },
   {
    "duration": 2,
    "start_time": "2022-01-22T16:23:14.821Z"
   },
   {
    "duration": 98,
    "start_time": "2022-01-22T16:23:45.716Z"
   },
   {
    "duration": 3,
    "start_time": "2022-01-22T16:24:17.696Z"
   },
   {
    "duration": 3,
    "start_time": "2022-01-22T16:24:23.364Z"
   },
   {
    "duration": 2,
    "start_time": "2022-01-22T16:24:37.237Z"
   },
   {
    "duration": 2,
    "start_time": "2022-01-22T16:24:39.453Z"
   },
   {
    "duration": 2,
    "start_time": "2022-01-22T16:24:44.610Z"
   },
   {
    "duration": 96,
    "start_time": "2022-01-22T16:25:15.237Z"
   },
   {
    "duration": 230,
    "start_time": "2022-01-22T16:25:20.386Z"
   },
   {
    "duration": 104,
    "start_time": "2022-01-23T16:30:08.688Z"
   },
   {
    "duration": 98,
    "start_time": "2022-01-23T16:30:16.927Z"
   },
   {
    "duration": 147,
    "start_time": "2022-01-23T16:30:22.497Z"
   },
   {
    "duration": 263,
    "start_time": "2022-01-23T16:31:20.960Z"
   },
   {
    "duration": 375,
    "start_time": "2022-01-23T16:31:22.283Z"
   },
   {
    "duration": 292,
    "start_time": "2022-01-23T16:32:37.887Z"
   },
   {
    "duration": 696,
    "start_time": "2022-01-23T16:32:45.554Z"
   },
   {
    "duration": 19,
    "start_time": "2022-01-23T16:32:51.509Z"
   },
   {
    "duration": 106,
    "start_time": "2022-01-23T16:46:35.991Z"
   },
   {
    "duration": 6,
    "start_time": "2022-01-23T16:52:15.918Z"
   },
   {
    "duration": 325,
    "start_time": "2022-01-23T17:01:53.583Z"
   },
   {
    "duration": 22,
    "start_time": "2022-01-23T17:02:19.634Z"
   },
   {
    "duration": 21,
    "start_time": "2022-01-23T17:03:26.970Z"
   },
   {
    "duration": 22,
    "start_time": "2022-01-23T17:13:30.299Z"
   },
   {
    "duration": 902,
    "start_time": "2022-01-23T17:15:12.012Z"
   },
   {
    "duration": 311,
    "start_time": "2022-01-23T17:16:00.286Z"
   },
   {
    "duration": 324,
    "start_time": "2022-01-23T17:16:27.941Z"
   },
   {
    "duration": 294,
    "start_time": "2022-01-23T17:17:21.401Z"
   },
   {
    "duration": 58,
    "start_time": "2022-01-23T17:18:32.672Z"
   },
   {
    "duration": 38,
    "start_time": "2022-01-23T17:19:27.162Z"
   },
   {
    "duration": 38,
    "start_time": "2022-01-23T17:19:31.669Z"
   },
   {
    "duration": 39,
    "start_time": "2022-01-23T17:19:42.646Z"
   },
   {
    "duration": 215,
    "start_time": "2022-01-24T17:57:27.339Z"
   },
   {
    "duration": 600,
    "start_time": "2022-01-24T17:57:52.450Z"
   },
   {
    "duration": 19,
    "start_time": "2022-01-24T17:57:53.052Z"
   },
   {
    "duration": 5,
    "start_time": "2022-01-24T17:57:53.073Z"
   },
   {
    "duration": 214,
    "start_time": "2022-01-24T17:57:53.080Z"
   },
   {
    "duration": 60,
    "start_time": "2022-01-24T17:58:17.987Z"
   },
   {
    "duration": 14,
    "start_time": "2022-01-24T17:58:18.049Z"
   },
   {
    "duration": 10,
    "start_time": "2022-01-24T17:58:18.065Z"
   },
   {
    "duration": 11,
    "start_time": "2022-01-24T17:58:22.374Z"
   },
   {
    "duration": 19,
    "start_time": "2022-01-24T18:01:09.882Z"
   },
   {
    "duration": 24,
    "start_time": "2022-01-24T18:01:35.701Z"
   },
   {
    "duration": 176,
    "start_time": "2022-01-24T18:29:34.707Z"
   },
   {
    "duration": 1170,
    "start_time": "2022-01-24T18:35:07.843Z"
   },
   {
    "duration": 57,
    "start_time": "2022-01-24T18:35:18.008Z"
   },
   {
    "duration": 1561,
    "start_time": "2022-01-24T18:35:18.067Z"
   },
   {
    "duration": 390,
    "start_time": "2022-01-24T18:35:21.280Z"
   },
   {
    "duration": 7,
    "start_time": "2022-01-24T18:36:02.356Z"
   },
   {
    "duration": 8,
    "start_time": "2022-01-24T18:36:25.604Z"
   },
   {
    "duration": 59,
    "start_time": "2022-01-24T18:44:39.684Z"
   },
   {
    "duration": 181,
    "start_time": "2022-01-24T18:44:50.449Z"
   },
   {
    "duration": 13,
    "start_time": "2022-01-24T18:45:03.193Z"
   },
   {
    "duration": 9,
    "start_time": "2022-01-24T18:45:42.311Z"
   },
   {
    "duration": 1231,
    "start_time": "2022-01-24T18:46:34.424Z"
   },
   {
    "duration": 1195,
    "start_time": "2022-01-24T18:47:03.848Z"
   },
   {
    "duration": -896,
    "start_time": "2022-01-24T18:49:01.119Z"
   },
   {
    "duration": -962,
    "start_time": "2022-01-24T18:49:14.533Z"
   },
   {
    "duration": 4305,
    "start_time": "2022-01-24T18:49:15.621Z"
   },
   {
    "duration": 4412,
    "start_time": "2022-01-24T18:49:26.657Z"
   },
   {
    "duration": 55,
    "start_time": "2022-01-24T18:49:59.414Z"
   },
   {
    "duration": 9,
    "start_time": "2022-01-24T18:51:08.765Z"
   },
   {
    "duration": 9,
    "start_time": "2022-01-24T18:52:08.063Z"
   },
   {
    "duration": 9,
    "start_time": "2022-01-24T18:55:13.717Z"
   },
   {
    "duration": 1180,
    "start_time": "2022-01-24T18:55:37.994Z"
   },
   {
    "duration": 105,
    "start_time": "2022-01-24T18:56:05.002Z"
   },
   {
    "duration": 1163,
    "start_time": "2022-01-24T18:56:33.483Z"
   },
   {
    "duration": 1271,
    "start_time": "2022-01-24T18:57:07.097Z"
   },
   {
    "duration": 217,
    "start_time": "2022-01-24T19:01:14.078Z"
   },
   {
    "duration": 8,
    "start_time": "2022-01-24T19:01:19.509Z"
   },
   {
    "duration": 18,
    "start_time": "2022-01-24T19:04:40.785Z"
   },
   {
    "duration": 10,
    "start_time": "2022-01-24T19:14:38.672Z"
   },
   {
    "duration": 17,
    "start_time": "2022-01-24T19:14:52.038Z"
   },
   {
    "duration": 63,
    "start_time": "2022-01-24T19:15:01.311Z"
   },
   {
    "duration": 15,
    "start_time": "2022-01-24T19:15:05.743Z"
   },
   {
    "duration": 5,
    "start_time": "2022-01-24T19:15:49.953Z"
   },
   {
    "duration": 6,
    "start_time": "2022-01-24T19:16:07.737Z"
   },
   {
    "duration": 5,
    "start_time": "2022-01-24T19:16:44.877Z"
   },
   {
    "duration": 8,
    "start_time": "2022-01-24T19:17:06.502Z"
   },
   {
    "duration": 8,
    "start_time": "2022-01-24T19:17:21.218Z"
   },
   {
    "duration": 23,
    "start_time": "2022-01-24T19:21:54.795Z"
   },
   {
    "duration": 9,
    "start_time": "2022-01-24T19:22:39.458Z"
   },
   {
    "duration": 9,
    "start_time": "2022-01-24T19:22:44.066Z"
   },
   {
    "duration": 10,
    "start_time": "2022-01-24T19:22:52.168Z"
   },
   {
    "duration": 8,
    "start_time": "2022-01-24T19:22:57.367Z"
   },
   {
    "duration": 173,
    "start_time": "2022-01-24T19:23:02.794Z"
   },
   {
    "duration": 59,
    "start_time": "2022-01-24T19:23:19.457Z"
   },
   {
    "duration": 59,
    "start_time": "2022-01-24T19:23:38.052Z"
   },
   {
    "duration": 10,
    "start_time": "2022-01-24T19:23:43.000Z"
   },
   {
    "duration": 183,
    "start_time": "2022-01-24T19:24:05.735Z"
   },
   {
    "duration": 5,
    "start_time": "2022-01-24T19:24:11.854Z"
   },
   {
    "duration": 7,
    "start_time": "2022-01-24T19:24:32.686Z"
   },
   {
    "duration": 9,
    "start_time": "2022-01-24T19:24:49.904Z"
   },
   {
    "duration": 58,
    "start_time": "2022-01-24T19:25:14.408Z"
   },
   {
    "duration": 12,
    "start_time": "2022-01-24T19:25:14.468Z"
   },
   {
    "duration": 8,
    "start_time": "2022-01-24T19:25:18.138Z"
   },
   {
    "duration": 8,
    "start_time": "2022-01-24T20:11:28.694Z"
   },
   {
    "duration": 11,
    "start_time": "2022-01-24T20:15:19.153Z"
   },
   {
    "duration": 13,
    "start_time": "2022-01-24T20:15:32.845Z"
   },
   {
    "duration": 172,
    "start_time": "2022-01-24T20:21:37.228Z"
   },
   {
    "duration": 184,
    "start_time": "2022-01-24T20:22:27.639Z"
   },
   {
    "duration": 66,
    "start_time": "2022-01-24T20:22:37.408Z"
   },
   {
    "duration": 2,
    "start_time": "2022-01-24T20:23:44.470Z"
   },
   {
    "duration": 230,
    "start_time": "2022-01-24T20:23:45.917Z"
   },
   {
    "duration": 5,
    "start_time": "2022-01-24T20:24:05.825Z"
   },
   {
    "duration": 178,
    "start_time": "2022-01-24T20:24:11.663Z"
   },
   {
    "duration": 6,
    "start_time": "2022-01-24T20:24:30.621Z"
   },
   {
    "duration": 8,
    "start_time": "2022-01-24T20:24:53.418Z"
   },
   {
    "duration": 9,
    "start_time": "2022-01-24T20:25:10.263Z"
   },
   {
    "duration": 11,
    "start_time": "2022-01-24T20:26:12.699Z"
   },
   {
    "duration": 12,
    "start_time": "2022-01-24T20:27:02.849Z"
   },
   {
    "duration": 11,
    "start_time": "2022-01-24T20:27:23.814Z"
   },
   {
    "duration": 70,
    "start_time": "2022-01-24T20:27:35.049Z"
   },
   {
    "duration": 9,
    "start_time": "2022-01-24T20:27:42.196Z"
   },
   {
    "duration": 6,
    "start_time": "2022-01-24T20:27:54.283Z"
   },
   {
    "duration": 55,
    "start_time": "2022-01-24T20:36:39.917Z"
   },
   {
    "duration": 14,
    "start_time": "2022-01-24T20:36:39.974Z"
   },
   {
    "duration": 3,
    "start_time": "2022-01-24T20:36:39.990Z"
   },
   {
    "duration": 6,
    "start_time": "2022-01-24T20:36:47.082Z"
   },
   {
    "duration": 8,
    "start_time": "2022-01-24T20:37:19.925Z"
   },
   {
    "duration": 181,
    "start_time": "2022-01-24T20:43:48.817Z"
   },
   {
    "duration": 216,
    "start_time": "2022-01-24T20:44:37.607Z"
   },
   {
    "duration": 176,
    "start_time": "2022-01-24T20:44:48.419Z"
   },
   {
    "duration": 9,
    "start_time": "2022-01-24T20:45:57.591Z"
   },
   {
    "duration": 176,
    "start_time": "2022-01-24T20:46:32.733Z"
   },
   {
    "duration": 8,
    "start_time": "2022-01-24T20:47:04.421Z"
   },
   {
    "duration": 8,
    "start_time": "2022-01-24T20:47:36.202Z"
   },
   {
    "duration": 8,
    "start_time": "2022-01-24T20:48:00.613Z"
   },
   {
    "duration": 6,
    "start_time": "2022-01-24T21:01:33.316Z"
   },
   {
    "duration": 9,
    "start_time": "2022-01-24T21:01:43.640Z"
   },
   {
    "duration": 179,
    "start_time": "2022-01-24T21:07:05.445Z"
   },
   {
    "duration": 9,
    "start_time": "2022-01-24T21:07:27.111Z"
   },
   {
    "duration": 192,
    "start_time": "2022-01-24T21:11:43.072Z"
   },
   {
    "duration": 9,
    "start_time": "2022-01-24T21:11:56.982Z"
   },
   {
    "duration": 8,
    "start_time": "2022-01-24T21:19:12.440Z"
   },
   {
    "duration": 8,
    "start_time": "2022-01-24T21:19:19.092Z"
   },
   {
    "duration": 9,
    "start_time": "2022-01-24T21:19:23.691Z"
   },
   {
    "duration": 57,
    "start_time": "2022-01-24T21:19:57.121Z"
   },
   {
    "duration": 58,
    "start_time": "2022-01-24T21:20:04.962Z"
   },
   {
    "duration": 56,
    "start_time": "2022-01-24T21:22:34.673Z"
   },
   {
    "duration": 55,
    "start_time": "2022-01-24T21:22:39.223Z"
   },
   {
    "duration": 64,
    "start_time": "2022-01-24T21:22:53.079Z"
   },
   {
    "duration": 62,
    "start_time": "2022-01-24T21:23:25.047Z"
   },
   {
    "duration": 58,
    "start_time": "2022-01-24T21:25:12.694Z"
   },
   {
    "duration": 62,
    "start_time": "2022-01-24T21:27:25.075Z"
   },
   {
    "duration": 4,
    "start_time": "2022-01-24T21:27:40.381Z"
   },
   {
    "duration": 301,
    "start_time": "2022-01-24T21:27:57.660Z"
   },
   {
    "duration": 66,
    "start_time": "2022-01-24T21:28:10.460Z"
   },
   {
    "duration": 63,
    "start_time": "2022-01-24T21:30:27.582Z"
   },
   {
    "duration": 63,
    "start_time": "2022-01-24T21:31:41.216Z"
   },
   {
    "duration": 57,
    "start_time": "2022-01-24T21:35:01.335Z"
   },
   {
    "duration": 4,
    "start_time": "2022-01-24T21:35:42.008Z"
   },
   {
    "duration": 3,
    "start_time": "2022-01-24T21:35:45.391Z"
   },
   {
    "duration": 306,
    "start_time": "2022-01-24T21:36:06.379Z"
   },
   {
    "duration": 8,
    "start_time": "2022-01-24T21:39:26.764Z"
   },
   {
    "duration": 9,
    "start_time": "2022-01-24T21:39:44.539Z"
   },
   {
    "duration": 59,
    "start_time": "2022-01-24T21:40:26.902Z"
   },
   {
    "duration": 56,
    "start_time": "2022-01-24T21:40:55.666Z"
   },
   {
    "duration": 8,
    "start_time": "2022-01-24T21:41:26.477Z"
   },
   {
    "duration": 9,
    "start_time": "2022-01-24T21:42:17.432Z"
   },
   {
    "duration": 17,
    "start_time": "2022-01-24T21:43:02.887Z"
   },
   {
    "duration": 13,
    "start_time": "2022-01-24T21:43:46.935Z"
   },
   {
    "duration": 23,
    "start_time": "2022-01-24T21:44:13.237Z"
   },
   {
    "duration": 26,
    "start_time": "2022-01-24T21:44:45.902Z"
   },
   {
    "duration": 31,
    "start_time": "2022-01-24T21:45:11.958Z"
   },
   {
    "duration": 33,
    "start_time": "2022-01-24T21:45:37.935Z"
   },
   {
    "duration": 34,
    "start_time": "2022-01-24T21:46:14.038Z"
   },
   {
    "duration": 885,
    "start_time": "2022-01-25T08:23:29.764Z"
   },
   {
    "duration": 32,
    "start_time": "2022-01-25T08:23:30.652Z"
   },
   {
    "duration": 3,
    "start_time": "2022-01-25T08:23:30.687Z"
   },
   {
    "duration": 46,
    "start_time": "2022-01-25T08:23:30.692Z"
   },
   {
    "duration": 14,
    "start_time": "2022-01-25T08:23:30.742Z"
   },
   {
    "duration": 76,
    "start_time": "2022-01-25T08:23:30.759Z"
   },
   {
    "duration": 61,
    "start_time": "2022-01-25T08:25:53.035Z"
   },
   {
    "duration": 75,
    "start_time": "2022-01-25T08:27:42.545Z"
   },
   {
    "duration": 14,
    "start_time": "2022-01-25T08:27:58.183Z"
   },
   {
    "duration": 12,
    "start_time": "2022-01-25T08:28:08.384Z"
   },
   {
    "duration": 10,
    "start_time": "2022-01-25T08:28:10.548Z"
   },
   {
    "duration": 33,
    "start_time": "2022-01-25T08:28:50.724Z"
   },
   {
    "duration": 17,
    "start_time": "2022-01-25T08:29:29.925Z"
   },
   {
    "duration": 71,
    "start_time": "2022-01-25T08:29:35.047Z"
   },
   {
    "duration": 23,
    "start_time": "2022-01-25T08:29:35.121Z"
   },
   {
    "duration": 43,
    "start_time": "2022-01-25T08:29:35.147Z"
   },
   {
    "duration": 11,
    "start_time": "2022-01-25T08:29:35.194Z"
   },
   {
    "duration": 40,
    "start_time": "2022-01-25T08:29:35.208Z"
   },
   {
    "duration": 13,
    "start_time": "2022-01-25T08:29:35.251Z"
   },
   {
    "duration": 34,
    "start_time": "2022-01-25T08:32:39.064Z"
   },
   {
    "duration": -2007,
    "start_time": "2022-01-25T08:33:19.702Z"
   },
   {
    "duration": 100,
    "start_time": "2022-01-25T08:34:03.555Z"
   },
   {
    "duration": 75,
    "start_time": "2022-01-25T08:34:09.613Z"
   },
   {
    "duration": 38,
    "start_time": "2022-01-25T08:34:16.904Z"
   },
   {
    "duration": 279,
    "start_time": "2022-01-25T08:45:50.543Z"
   },
   {
    "duration": 7,
    "start_time": "2022-01-25T08:46:04.650Z"
   },
   {
    "duration": 23,
    "start_time": "2022-01-25T08:46:24.095Z"
   },
   {
    "duration": 35,
    "start_time": "2022-01-25T08:46:47.449Z"
   },
   {
    "duration": 12,
    "start_time": "2022-01-25T08:47:16.175Z"
   },
   {
    "duration": 12,
    "start_time": "2022-01-25T08:47:38.655Z"
   },
   {
    "duration": 58,
    "start_time": "2022-01-25T08:47:57.714Z"
   },
   {
    "duration": 64,
    "start_time": "2022-01-25T08:48:05.104Z"
   },
   {
    "duration": 80,
    "start_time": "2022-01-25T08:48:12.135Z"
   },
   {
    "duration": 30,
    "start_time": "2022-01-25T08:48:12.218Z"
   },
   {
    "duration": 38,
    "start_time": "2022-01-25T08:48:12.252Z"
   },
   {
    "duration": 18,
    "start_time": "2022-01-25T08:48:12.293Z"
   },
   {
    "duration": 13,
    "start_time": "2022-01-25T08:48:12.333Z"
   },
   {
    "duration": 14,
    "start_time": "2022-01-25T08:48:12.349Z"
   },
   {
    "duration": 91,
    "start_time": "2022-01-25T08:48:12.365Z"
   },
   {
    "duration": 11,
    "start_time": "2022-01-25T08:48:41.613Z"
   },
   {
    "duration": 61,
    "start_time": "2022-01-25T08:50:04.814Z"
   },
   {
    "duration": 74,
    "start_time": "2022-01-25T08:50:15.563Z"
   },
   {
    "duration": 23,
    "start_time": "2022-01-25T08:50:15.642Z"
   },
   {
    "duration": 34,
    "start_time": "2022-01-25T08:50:15.669Z"
   },
   {
    "duration": 50,
    "start_time": "2022-01-25T08:50:15.706Z"
   },
   {
    "duration": 11,
    "start_time": "2022-01-25T08:50:15.758Z"
   },
   {
    "duration": 14,
    "start_time": "2022-01-25T08:50:15.772Z"
   },
   {
    "duration": 90,
    "start_time": "2022-01-25T08:50:15.789Z"
   },
   {
    "duration": 55,
    "start_time": "2022-01-25T08:50:30.984Z"
   },
   {
    "duration": 21,
    "start_time": "2022-01-25T09:05:37.989Z"
   },
   {
    "duration": 23,
    "start_time": "2022-01-25T09:05:45.818Z"
   },
   {
    "duration": 296,
    "start_time": "2022-01-25T09:48:01.637Z"
   },
   {
    "duration": 7,
    "start_time": "2022-01-25T09:52:12.073Z"
   },
   {
    "duration": 14,
    "start_time": "2022-01-25T09:52:43.839Z"
   },
   {
    "duration": 273,
    "start_time": "2022-01-25T09:53:26.638Z"
   },
   {
    "duration": 295,
    "start_time": "2022-01-25T09:56:29.628Z"
   },
   {
    "duration": 242,
    "start_time": "2022-01-25T09:57:24.089Z"
   },
   {
    "duration": 289,
    "start_time": "2022-01-25T09:57:44.788Z"
   },
   {
    "duration": 254,
    "start_time": "2022-01-25T09:57:57.362Z"
   },
   {
    "duration": 74,
    "start_time": "2022-01-25T10:02:32.460Z"
   },
   {
    "duration": 97,
    "start_time": "2022-01-25T10:02:55.870Z"
   },
   {
    "duration": 107,
    "start_time": "2022-01-25T11:04:41.628Z"
   },
   {
    "duration": 29,
    "start_time": "2022-01-25T11:04:41.739Z"
   },
   {
    "duration": 35,
    "start_time": "2022-01-25T11:04:41.771Z"
   },
   {
    "duration": 40,
    "start_time": "2022-01-25T11:04:41.810Z"
   },
   {
    "duration": 11,
    "start_time": "2022-01-25T11:04:41.853Z"
   },
   {
    "duration": 11,
    "start_time": "2022-01-25T11:04:41.867Z"
   },
   {
    "duration": 87,
    "start_time": "2022-01-25T11:04:41.880Z"
   },
   {
    "duration": 80,
    "start_time": "2022-01-25T11:04:41.970Z"
   },
   {
    "duration": 11,
    "start_time": "2022-01-25T11:05:30.328Z"
   },
   {
    "duration": 59,
    "start_time": "2022-01-25T11:05:48.197Z"
   },
   {
    "duration": 83,
    "start_time": "2022-01-25T11:06:29.522Z"
   },
   {
    "duration": 56,
    "start_time": "2022-01-25T11:06:50.912Z"
   },
   {
    "duration": 68,
    "start_time": "2022-01-25T11:07:02.683Z"
   },
   {
    "duration": 17,
    "start_time": "2022-01-25T11:07:02.754Z"
   },
   {
    "duration": 32,
    "start_time": "2022-01-25T11:07:02.774Z"
   },
   {
    "duration": 20,
    "start_time": "2022-01-25T11:07:04.933Z"
   },
   {
    "duration": 10,
    "start_time": "2022-01-25T11:07:08.290Z"
   },
   {
    "duration": 12,
    "start_time": "2022-01-25T11:07:09.360Z"
   },
   {
    "duration": 9,
    "start_time": "2022-01-25T11:07:35.852Z"
   },
   {
    "duration": 11,
    "start_time": "2022-01-25T11:07:43.172Z"
   },
   {
    "duration": 57,
    "start_time": "2022-01-25T11:07:48.573Z"
   },
   {
    "duration": 50,
    "start_time": "2022-01-25T11:08:03.593Z"
   },
   {
    "duration": 39,
    "start_time": "2022-01-25T11:08:15.702Z"
   },
   {
    "duration": 7,
    "start_time": "2022-01-25T11:08:42.073Z"
   },
   {
    "duration": 60,
    "start_time": "2022-01-25T11:08:54.931Z"
   },
   {
    "duration": 71,
    "start_time": "2022-01-25T11:09:04.621Z"
   },
   {
    "duration": 19,
    "start_time": "2022-01-25T11:09:04.695Z"
   },
   {
    "duration": 46,
    "start_time": "2022-01-25T11:09:04.716Z"
   },
   {
    "duration": 20,
    "start_time": "2022-01-25T11:09:04.764Z"
   },
   {
    "duration": 48,
    "start_time": "2022-01-25T11:09:04.786Z"
   },
   {
    "duration": 11,
    "start_time": "2022-01-25T11:09:04.837Z"
   },
   {
    "duration": 52,
    "start_time": "2022-01-25T11:09:04.851Z"
   },
   {
    "duration": 5,
    "start_time": "2022-01-25T11:10:15.841Z"
   },
   {
    "duration": 4,
    "start_time": "2022-01-25T11:10:21.604Z"
   },
   {
    "duration": 261,
    "start_time": "2022-01-25T11:10:42.222Z"
   },
   {
    "duration": 72,
    "start_time": "2022-01-25T11:11:08.773Z"
   },
   {
    "duration": 19,
    "start_time": "2022-01-25T11:11:08.848Z"
   },
   {
    "duration": 64,
    "start_time": "2022-01-25T11:11:08.870Z"
   },
   {
    "duration": 20,
    "start_time": "2022-01-25T11:11:08.937Z"
   },
   {
    "duration": 12,
    "start_time": "2022-01-25T11:11:08.959Z"
   },
   {
    "duration": 13,
    "start_time": "2022-01-25T11:11:08.974Z"
   },
   {
    "duration": 91,
    "start_time": "2022-01-25T11:11:08.990Z"
   },
   {
    "duration": 222,
    "start_time": "2022-01-25T11:11:09.083Z"
   },
   {
    "duration": 11,
    "start_time": "2022-01-25T11:12:17.712Z"
   },
   {
    "duration": 17,
    "start_time": "2022-01-25T11:12:44.441Z"
   },
   {
    "duration": 19,
    "start_time": "2022-01-25T11:14:20.602Z"
   },
   {
    "duration": 17,
    "start_time": "2022-01-25T11:14:32.522Z"
   },
   {
    "duration": 20,
    "start_time": "2022-01-25T11:28:47.398Z"
   },
   {
    "duration": 23,
    "start_time": "2022-01-25T11:28:55.026Z"
   },
   {
    "duration": 7,
    "start_time": "2022-01-25T11:30:37.120Z"
   },
   {
    "duration": 20,
    "start_time": "2022-01-25T11:31:43.067Z"
   },
   {
    "duration": 9,
    "start_time": "2022-01-25T11:33:04.160Z"
   },
   {
    "duration": 8,
    "start_time": "2022-01-25T11:33:27.799Z"
   },
   {
    "duration": 10,
    "start_time": "2022-01-25T11:34:29.930Z"
   },
   {
    "duration": 23,
    "start_time": "2022-01-25T11:35:42.470Z"
   },
   {
    "duration": 24,
    "start_time": "2022-01-25T11:35:48.322Z"
   },
   {
    "duration": 232,
    "start_time": "2022-01-25T11:36:23.761Z"
   },
   {
    "duration": 24,
    "start_time": "2022-01-25T11:36:29.870Z"
   },
   {
    "duration": 20,
    "start_time": "2022-01-25T11:38:31.391Z"
   },
   {
    "duration": 10,
    "start_time": "2022-01-25T11:41:45.551Z"
   },
   {
    "duration": 58,
    "start_time": "2022-01-25T11:54:35.410Z"
   },
   {
    "duration": 122,
    "start_time": "2022-01-25T11:59:48.232Z"
   },
   {
    "duration": 27,
    "start_time": "2022-01-25T11:59:54.697Z"
   },
   {
    "duration": 33,
    "start_time": "2022-01-25T12:00:01.273Z"
   },
   {
    "duration": 92,
    "start_time": "2022-01-25T12:00:13.486Z"
   },
   {
    "duration": 109,
    "start_time": "2022-01-25T12:39:26.764Z"
   },
   {
    "duration": 44,
    "start_time": "2022-01-25T12:39:31.156Z"
   },
   {
    "duration": 5783,
    "start_time": "2022-01-25T12:39:44.005Z"
   },
   {
    "duration": 20,
    "start_time": "2022-01-25T12:39:53.966Z"
   },
   {
    "duration": 223,
    "start_time": "2022-01-25T12:41:50.516Z"
   },
   {
    "duration": 29,
    "start_time": "2022-01-25T12:42:18.036Z"
   },
   {
    "duration": 71,
    "start_time": "2022-01-25T12:42:28.123Z"
   },
   {
    "duration": 37,
    "start_time": "2022-01-25T12:42:28.197Z"
   },
   {
    "duration": 33,
    "start_time": "2022-01-25T12:42:28.238Z"
   },
   {
    "duration": 19,
    "start_time": "2022-01-25T12:42:28.274Z"
   },
   {
    "duration": 42,
    "start_time": "2022-01-25T12:42:28.296Z"
   },
   {
    "duration": 13,
    "start_time": "2022-01-25T12:42:28.341Z"
   },
   {
    "duration": 49,
    "start_time": "2022-01-25T12:42:28.356Z"
   },
   {
    "duration": 18,
    "start_time": "2022-01-25T12:42:28.431Z"
   },
   {
    "duration": 23,
    "start_time": "2022-01-25T12:42:28.453Z"
   },
   {
    "duration": 244,
    "start_time": "2022-01-25T12:43:18.116Z"
   },
   {
    "duration": 7,
    "start_time": "2022-01-25T12:44:23.935Z"
   },
   {
    "duration": 47,
    "start_time": "2022-01-25T13:50:24.910Z"
   },
   {
    "duration": 6687,
    "start_time": "2022-01-25T14:04:48.457Z"
   },
   {
    "duration": 57,
    "start_time": "2022-01-25T14:04:56.806Z"
   },
   {
    "duration": 31,
    "start_time": "2022-01-25T14:05:18.030Z"
   },
   {
    "duration": 46,
    "start_time": "2022-01-25T14:05:33.546Z"
   },
   {
    "duration": 230,
    "start_time": "2022-01-25T14:19:59.895Z"
   },
   {
    "duration": 21,
    "start_time": "2022-01-25T14:20:07.702Z"
   },
   {
    "duration": 48,
    "start_time": "2022-01-25T14:26:25.230Z"
   },
   {
    "duration": 44,
    "start_time": "2022-01-25T14:26:49.278Z"
   },
   {
    "duration": 41,
    "start_time": "2022-01-25T14:27:10.926Z"
   },
   {
    "duration": 21,
    "start_time": "2022-01-25T14:27:16.118Z"
   },
   {
    "duration": 41,
    "start_time": "2022-01-25T14:27:16.658Z"
   },
   {
    "duration": 42,
    "start_time": "2022-01-25T14:27:37.877Z"
   },
   {
    "duration": 105,
    "start_time": "2022-01-25T14:27:45.499Z"
   },
   {
    "duration": 37,
    "start_time": "2022-01-25T14:27:45.608Z"
   },
   {
    "duration": 37,
    "start_time": "2022-01-25T14:27:45.650Z"
   },
   {
    "duration": 63,
    "start_time": "2022-01-25T14:27:45.691Z"
   },
   {
    "duration": 10,
    "start_time": "2022-01-25T14:27:45.757Z"
   },
   {
    "duration": 14,
    "start_time": "2022-01-25T14:27:45.769Z"
   },
   {
    "duration": 76,
    "start_time": "2022-01-25T14:27:45.785Z"
   },
   {
    "duration": 15,
    "start_time": "2022-01-25T14:27:45.864Z"
   },
   {
    "duration": 21,
    "start_time": "2022-01-25T14:27:45.882Z"
   },
   {
    "duration": 39,
    "start_time": "2022-01-25T14:27:48.878Z"
   },
   {
    "duration": 37,
    "start_time": "2022-01-25T14:29:26.958Z"
   },
   {
    "duration": 42,
    "start_time": "2022-01-25T14:35:52.294Z"
   },
   {
    "duration": 29,
    "start_time": "2022-01-25T14:36:28.633Z"
   },
   {
    "duration": 19,
    "start_time": "2022-01-25T14:36:35.946Z"
   },
   {
    "duration": 236,
    "start_time": "2022-01-25T14:37:12.164Z"
   },
   {
    "duration": 64,
    "start_time": "2022-01-25T14:37:41.422Z"
   },
   {
    "duration": 79,
    "start_time": "2022-01-25T14:46:07.804Z"
   },
   {
    "duration": 17,
    "start_time": "2022-01-25T14:46:07.887Z"
   },
   {
    "duration": 56,
    "start_time": "2022-01-25T14:46:07.907Z"
   },
   {
    "duration": 20,
    "start_time": "2022-01-25T14:46:07.966Z"
   },
   {
    "duration": 36,
    "start_time": "2022-01-25T14:46:07.988Z"
   },
   {
    "duration": 28,
    "start_time": "2022-01-25T14:46:08.027Z"
   },
   {
    "duration": 58,
    "start_time": "2022-01-25T14:46:08.066Z"
   },
   {
    "duration": 24,
    "start_time": "2022-01-25T14:46:08.127Z"
   },
   {
    "duration": 29,
    "start_time": "2022-01-25T14:46:08.154Z"
   },
   {
    "duration": 52,
    "start_time": "2022-01-25T14:46:08.186Z"
   },
   {
    "duration": 37,
    "start_time": "2022-01-25T14:46:08.242Z"
   },
   {
    "duration": 656,
    "start_time": "2022-01-25T18:43:59.128Z"
   },
   {
    "duration": 19,
    "start_time": "2022-01-25T18:43:59.787Z"
   },
   {
    "duration": 23,
    "start_time": "2022-01-25T18:43:59.808Z"
   },
   {
    "duration": 14,
    "start_time": "2022-01-25T18:43:59.833Z"
   },
   {
    "duration": 12,
    "start_time": "2022-01-25T18:43:59.848Z"
   },
   {
    "duration": 9,
    "start_time": "2022-01-25T18:43:59.862Z"
   },
   {
    "duration": 35,
    "start_time": "2022-01-25T18:43:59.896Z"
   },
   {
    "duration": 12,
    "start_time": "2022-01-25T18:43:59.932Z"
   },
   {
    "duration": 30,
    "start_time": "2022-01-25T18:56:18.795Z"
   },
   {
    "duration": 37,
    "start_time": "2022-01-25T18:59:50.474Z"
   },
   {
    "duration": 30,
    "start_time": "2022-01-25T18:59:55.760Z"
   },
   {
    "duration": 19,
    "start_time": "2022-01-25T19:00:09.432Z"
   },
   {
    "duration": 8,
    "start_time": "2022-01-25T19:03:35.455Z"
   },
   {
    "duration": 11,
    "start_time": "2022-01-25T19:04:10.327Z"
   },
   {
    "duration": 8,
    "start_time": "2022-01-25T19:04:46.611Z"
   },
   {
    "duration": 8,
    "start_time": "2022-01-25T19:10:22.889Z"
   },
   {
    "duration": 8,
    "start_time": "2022-01-25T19:13:18.975Z"
   },
   {
    "duration": 8,
    "start_time": "2022-01-25T19:13:22.999Z"
   },
   {
    "duration": 8,
    "start_time": "2022-01-25T19:13:44.691Z"
   },
   {
    "duration": 62,
    "start_time": "2022-01-25T19:14:16.617Z"
   },
   {
    "duration": 8,
    "start_time": "2022-01-25T19:14:27.422Z"
   },
   {
    "duration": 7,
    "start_time": "2022-01-25T19:25:17.325Z"
   },
   {
    "duration": 29,
    "start_time": "2022-01-25T19:25:54.722Z"
   },
   {
    "duration": 31,
    "start_time": "2022-01-25T19:26:08.226Z"
   },
   {
    "duration": 26,
    "start_time": "2022-01-25T19:26:21.496Z"
   },
   {
    "duration": 40,
    "start_time": "2022-01-25T19:26:22.327Z"
   },
   {
    "duration": 7,
    "start_time": "2022-01-25T19:26:22.758Z"
   },
   {
    "duration": 7,
    "start_time": "2022-01-25T19:26:23.819Z"
   },
   {
    "duration": 8,
    "start_time": "2022-01-25T19:26:24.915Z"
   },
   {
    "duration": 849,
    "start_time": "2022-01-26T18:24:38.166Z"
   },
   {
    "duration": 31,
    "start_time": "2022-01-26T18:24:39.018Z"
   },
   {
    "duration": 49,
    "start_time": "2022-01-26T18:24:39.052Z"
   },
   {
    "duration": 19,
    "start_time": "2022-01-26T18:24:39.103Z"
   },
   {
    "duration": 12,
    "start_time": "2022-01-26T18:24:39.124Z"
   },
   {
    "duration": 12,
    "start_time": "2022-01-26T18:24:39.170Z"
   },
   {
    "duration": 52,
    "start_time": "2022-01-26T18:24:39.185Z"
   },
   {
    "duration": 42,
    "start_time": "2022-01-26T18:24:39.240Z"
   },
   {
    "duration": 22,
    "start_time": "2022-01-26T18:24:39.285Z"
   },
   {
    "duration": 70,
    "start_time": "2022-01-26T18:24:39.310Z"
   },
   {
    "duration": 45,
    "start_time": "2022-01-26T18:24:39.384Z"
   },
   {
    "duration": 11,
    "start_time": "2022-01-26T18:24:39.432Z"
   },
   {
    "duration": 13,
    "start_time": "2022-01-26T18:24:39.471Z"
   },
   {
    "duration": 13,
    "start_time": "2022-01-26T18:24:39.487Z"
   },
   {
    "duration": 25,
    "start_time": "2022-01-26T18:27:51.634Z"
   },
   {
    "duration": 457,
    "start_time": "2022-01-26T18:40:33.684Z"
   },
   {
    "duration": 363,
    "start_time": "2022-01-26T18:42:08.994Z"
   },
   {
    "duration": 333,
    "start_time": "2022-01-26T18:42:16.258Z"
   },
   {
    "duration": 927,
    "start_time": "2022-01-26T18:46:02.531Z"
   },
   {
    "duration": 292,
    "start_time": "2022-01-26T18:46:20.711Z"
   },
   {
    "duration": 5,
    "start_time": "2022-01-26T18:49:26.397Z"
   },
   {
    "duration": 3652,
    "start_time": "2022-01-26T18:51:05.970Z"
   },
   {
    "duration": -715,
    "start_time": "2022-01-26T18:56:43.997Z"
   },
   {
    "duration": 75,
    "start_time": "2022-01-26T18:56:47.808Z"
   },
   {
    "duration": 20,
    "start_time": "2022-01-26T18:56:47.886Z"
   },
   {
    "duration": 66,
    "start_time": "2022-01-26T18:56:47.910Z"
   },
   {
    "duration": 20,
    "start_time": "2022-01-26T18:56:47.980Z"
   },
   {
    "duration": 10,
    "start_time": "2022-01-26T18:56:48.003Z"
   },
   {
    "duration": 13,
    "start_time": "2022-01-26T18:56:48.015Z"
   },
   {
    "duration": 52,
    "start_time": "2022-01-26T18:56:48.070Z"
   },
   {
    "duration": 16,
    "start_time": "2022-01-26T18:56:48.126Z"
   },
   {
    "duration": 41,
    "start_time": "2022-01-26T18:56:48.145Z"
   },
   {
    "duration": 36,
    "start_time": "2022-01-26T18:56:48.189Z"
   },
   {
    "duration": 74,
    "start_time": "2022-01-26T18:56:48.227Z"
   },
   {
    "duration": 24,
    "start_time": "2022-01-26T18:56:48.304Z"
   },
   {
    "duration": 11,
    "start_time": "2022-01-26T18:56:48.330Z"
   },
   {
    "duration": 11,
    "start_time": "2022-01-26T18:56:48.370Z"
   },
   {
    "duration": 14,
    "start_time": "2022-01-26T18:56:48.384Z"
   },
   {
    "duration": 3631,
    "start_time": "2022-01-26T18:56:51.164Z"
   },
   {
    "duration": 1878,
    "start_time": "2022-01-26T19:00:16.603Z"
   },
   {
    "duration": 261,
    "start_time": "2022-01-26T19:00:41.066Z"
   },
   {
    "duration": 965,
    "start_time": "2022-01-26T19:00:58.340Z"
   },
   {
    "duration": 298,
    "start_time": "2022-01-26T19:01:38.608Z"
   },
   {
    "duration": 92,
    "start_time": "2022-01-26T19:02:01.140Z"
   },
   {
    "duration": 270,
    "start_time": "2022-01-26T19:02:08.095Z"
   },
   {
    "duration": 953,
    "start_time": "2022-01-26T19:02:17.688Z"
   },
   {
    "duration": 985,
    "start_time": "2022-01-26T19:04:08.821Z"
   },
   {
    "duration": 34,
    "start_time": "2022-01-26T19:04:25.877Z"
   },
   {
    "duration": 4,
    "start_time": "2022-01-26T19:07:10.378Z"
   },
   {
    "duration": 9,
    "start_time": "2022-01-26T19:07:18.487Z"
   },
   {
    "duration": 283,
    "start_time": "2022-01-26T19:07:50.008Z"
   },
   {
    "duration": 294,
    "start_time": "2022-01-26T19:22:10.400Z"
   },
   {
    "duration": 325,
    "start_time": "2022-01-26T19:22:41.112Z"
   },
   {
    "duration": 321,
    "start_time": "2022-01-26T19:23:01.428Z"
   },
   {
    "duration": 301,
    "start_time": "2022-01-26T19:23:13.966Z"
   },
   {
    "duration": 1157,
    "start_time": "2022-01-26T19:23:31.096Z"
   },
   {
    "duration": 5249,
    "start_time": "2022-01-26T19:23:48.450Z"
   },
   {
    "duration": 5784,
    "start_time": "2022-01-26T19:23:57.011Z"
   },
   {
    "duration": 5483,
    "start_time": "2022-01-26T19:24:10.141Z"
   },
   {
    "duration": 4,
    "start_time": "2022-01-26T19:25:56.124Z"
   },
   {
    "duration": 276,
    "start_time": "2022-01-26T19:26:12.811Z"
   },
   {
    "duration": 5119,
    "start_time": "2022-01-26T19:31:36.288Z"
   },
   {
    "duration": 5324,
    "start_time": "2022-01-26T19:31:48.355Z"
   },
   {
    "duration": 287,
    "start_time": "2022-01-26T19:32:17.859Z"
   },
   {
    "duration": 5102,
    "start_time": "2022-01-26T19:32:47.445Z"
   },
   {
    "duration": 5081,
    "start_time": "2022-01-26T19:33:37.738Z"
   },
   {
    "duration": 1437,
    "start_time": "2022-01-26T20:34:18.625Z"
   },
   {
    "duration": 1036,
    "start_time": "2022-01-26T20:34:25.947Z"
   },
   {
    "duration": 4970,
    "start_time": "2022-01-26T20:34:31.276Z"
   },
   {
    "duration": 86,
    "start_time": "2022-01-26T20:50:07.802Z"
   },
   {
    "duration": 21,
    "start_time": "2022-01-26T20:50:07.891Z"
   },
   {
    "duration": 57,
    "start_time": "2022-01-26T20:50:07.917Z"
   },
   {
    "duration": 19,
    "start_time": "2022-01-26T20:50:07.976Z"
   },
   {
    "duration": 9,
    "start_time": "2022-01-26T20:50:07.998Z"
   },
   {
    "duration": 14,
    "start_time": "2022-01-26T20:50:08.010Z"
   },
   {
    "duration": 102,
    "start_time": "2022-01-26T20:50:08.026Z"
   },
   {
    "duration": 41,
    "start_time": "2022-01-26T20:50:08.131Z"
   },
   {
    "duration": 20,
    "start_time": "2022-01-26T20:50:08.176Z"
   },
   {
    "duration": 71,
    "start_time": "2022-01-26T20:50:08.199Z"
   },
   {
    "duration": 43,
    "start_time": "2022-01-26T20:50:08.273Z"
   },
   {
    "duration": 51,
    "start_time": "2022-01-26T20:50:08.319Z"
   },
   {
    "duration": 10,
    "start_time": "2022-01-26T20:50:08.372Z"
   },
   {
    "duration": 10,
    "start_time": "2022-01-26T20:50:08.384Z"
   },
   {
    "duration": 10,
    "start_time": "2022-01-26T20:50:08.397Z"
   },
   {
    "duration": 5739,
    "start_time": "2022-01-26T20:50:08.410Z"
   },
   {
    "duration": 929,
    "start_time": "2022-01-27T10:27:10.076Z"
   },
   {
    "duration": 31,
    "start_time": "2022-01-27T10:27:11.008Z"
   },
   {
    "duration": 53,
    "start_time": "2022-01-27T10:27:11.042Z"
   },
   {
    "duration": 22,
    "start_time": "2022-01-27T10:27:11.098Z"
   },
   {
    "duration": 44,
    "start_time": "2022-01-27T10:27:11.123Z"
   },
   {
    "duration": 12,
    "start_time": "2022-01-27T10:27:11.169Z"
   },
   {
    "duration": 76,
    "start_time": "2022-01-27T10:27:11.183Z"
   },
   {
    "duration": 17,
    "start_time": "2022-01-27T10:27:11.262Z"
   },
   {
    "duration": 21,
    "start_time": "2022-01-27T10:27:11.283Z"
   },
   {
    "duration": 69,
    "start_time": "2022-01-27T10:27:11.307Z"
   },
   {
    "duration": 42,
    "start_time": "2022-01-27T10:27:11.379Z"
   },
   {
    "duration": 44,
    "start_time": "2022-01-27T10:27:11.423Z"
   },
   {
    "duration": 10,
    "start_time": "2022-01-27T10:27:11.469Z"
   },
   {
    "duration": 13,
    "start_time": "2022-01-27T10:27:11.481Z"
   },
   {
    "duration": 20,
    "start_time": "2022-01-27T10:27:11.496Z"
   },
   {
    "duration": 5408,
    "start_time": "2022-01-27T10:27:11.519Z"
   },
   {
    "duration": 519,
    "start_time": "2022-01-27T10:41:19.561Z"
   },
   {
    "duration": 9,
    "start_time": "2022-01-27T10:41:33.276Z"
   },
   {
    "duration": 34,
    "start_time": "2022-01-27T10:47:37.417Z"
   },
   {
    "duration": 37,
    "start_time": "2022-01-27T10:48:56.572Z"
   },
   {
    "duration": 21,
    "start_time": "2022-01-27T10:51:21.473Z"
   },
   {
    "duration": 72,
    "start_time": "2022-01-27T10:51:53.524Z"
   },
   {
    "duration": 20,
    "start_time": "2022-01-27T10:51:53.600Z"
   },
   {
    "duration": 58,
    "start_time": "2022-01-27T10:51:53.623Z"
   },
   {
    "duration": 20,
    "start_time": "2022-01-27T10:51:53.684Z"
   },
   {
    "duration": 15,
    "start_time": "2022-01-27T10:51:53.706Z"
   },
   {
    "duration": 45,
    "start_time": "2022-01-27T10:51:53.724Z"
   },
   {
    "duration": 95,
    "start_time": "2022-01-27T10:51:53.772Z"
   },
   {
    "duration": 22,
    "start_time": "2022-01-27T10:51:53.870Z"
   },
   {
    "duration": 27,
    "start_time": "2022-01-27T10:51:53.896Z"
   },
   {
    "duration": 65,
    "start_time": "2022-01-27T10:51:53.926Z"
   },
   {
    "duration": 67,
    "start_time": "2022-01-27T10:51:53.994Z"
   },
   {
    "duration": 22,
    "start_time": "2022-01-27T10:51:54.064Z"
   },
   {
    "duration": 9,
    "start_time": "2022-01-27T10:51:54.089Z"
   },
   {
    "duration": 12,
    "start_time": "2022-01-27T10:51:54.101Z"
   },
   {
    "duration": 49,
    "start_time": "2022-01-27T10:51:54.116Z"
   },
   {
    "duration": 5593,
    "start_time": "2022-01-27T10:51:54.168Z"
   },
   {
    "duration": 8,
    "start_time": "2022-01-27T10:51:59.764Z"
   },
   {
    "duration": 40,
    "start_time": "2022-01-27T10:51:59.774Z"
   },
   {
    "duration": 37,
    "start_time": "2022-01-27T10:52:33.150Z"
   },
   {
    "duration": 20,
    "start_time": "2022-01-27T10:52:35.198Z"
   },
   {
    "duration": 48,
    "start_time": "2022-01-27T10:53:24.661Z"
   },
   {
    "duration": 19,
    "start_time": "2022-01-27T10:54:11.455Z"
   },
   {
    "duration": 56,
    "start_time": "2022-01-27T10:54:12.991Z"
   },
   {
    "duration": 76,
    "start_time": "2022-01-27T10:54:23.847Z"
   },
   {
    "duration": 19,
    "start_time": "2022-01-27T10:54:23.926Z"
   },
   {
    "duration": 49,
    "start_time": "2022-01-27T10:54:23.948Z"
   },
   {
    "duration": 22,
    "start_time": "2022-01-27T10:54:24.000Z"
   },
   {
    "duration": 43,
    "start_time": "2022-01-27T10:54:24.024Z"
   },
   {
    "duration": 11,
    "start_time": "2022-01-27T10:54:24.070Z"
   },
   {
    "duration": 79,
    "start_time": "2022-01-27T10:54:24.084Z"
   },
   {
    "duration": 17,
    "start_time": "2022-01-27T10:54:24.166Z"
   },
   {
    "duration": 28,
    "start_time": "2022-01-27T10:54:31.526Z"
   },
   {
    "duration": 48,
    "start_time": "2022-01-27T10:54:33.164Z"
   },
   {
    "duration": 44,
    "start_time": "2022-01-27T10:54:34.735Z"
   },
   {
    "duration": 22,
    "start_time": "2022-01-27T10:54:35.928Z"
   },
   {
    "duration": 10,
    "start_time": "2022-01-27T10:54:37.260Z"
   },
   {
    "duration": 9,
    "start_time": "2022-01-27T10:54:38.489Z"
   },
   {
    "duration": 11,
    "start_time": "2022-01-27T10:54:39.615Z"
   },
   {
    "duration": 5506,
    "start_time": "2022-01-27T10:54:44.427Z"
   },
   {
    "duration": 8,
    "start_time": "2022-01-27T10:54:57.023Z"
   },
   {
    "duration": 54,
    "start_time": "2022-01-27T10:55:00.095Z"
   },
   {
    "duration": 19,
    "start_time": "2022-01-27T10:55:03.986Z"
   },
   {
    "duration": 81,
    "start_time": "2022-01-27T10:58:16.807Z"
   },
   {
    "duration": 128,
    "start_time": "2022-01-27T10:59:19.885Z"
   },
   {
    "duration": 38,
    "start_time": "2022-01-27T11:00:53.890Z"
   },
   {
    "duration": 78,
    "start_time": "2022-01-27T11:01:01.162Z"
   },
   {
    "duration": 5018,
    "start_time": "2022-01-27T11:01:20.106Z"
   },
   {
    "duration": 2855,
    "start_time": "2022-01-27T11:01:25.944Z"
   },
   {
    "duration": -1892,
    "start_time": "2022-01-27T11:01:30.694Z"
   },
   {
    "duration": 363,
    "start_time": "2022-01-27T11:07:22.916Z"
   },
   {
    "duration": 10,
    "start_time": "2022-01-27T11:07:50.872Z"
   },
   {
    "duration": 54,
    "start_time": "2022-01-27T11:08:02.653Z"
   },
   {
    "duration": 99,
    "start_time": "2022-01-27T11:08:10.431Z"
   },
   {
    "duration": 29,
    "start_time": "2022-01-27T11:08:10.533Z"
   },
   {
    "duration": 33,
    "start_time": "2022-01-27T11:08:10.565Z"
   },
   {
    "duration": 18,
    "start_time": "2022-01-27T11:08:10.601Z"
   },
   {
    "duration": 47,
    "start_time": "2022-01-27T11:08:10.621Z"
   },
   {
    "duration": 12,
    "start_time": "2022-01-27T11:08:10.670Z"
   },
   {
    "duration": 86,
    "start_time": "2022-01-27T11:08:10.684Z"
   },
   {
    "duration": 17,
    "start_time": "2022-01-27T11:08:10.773Z"
   },
   {
    "duration": 20,
    "start_time": "2022-01-27T11:08:10.793Z"
   },
   {
    "duration": 76,
    "start_time": "2022-01-27T11:08:10.816Z"
   },
   {
    "duration": 45,
    "start_time": "2022-01-27T11:08:10.894Z"
   },
   {
    "duration": 23,
    "start_time": "2022-01-27T11:08:10.959Z"
   },
   {
    "duration": 12,
    "start_time": "2022-01-27T11:08:10.986Z"
   },
   {
    "duration": 10,
    "start_time": "2022-01-27T11:08:11.001Z"
   },
   {
    "duration": 52,
    "start_time": "2022-01-27T11:08:11.013Z"
   },
   {
    "duration": 5392,
    "start_time": "2022-01-27T11:08:11.068Z"
   },
   {
    "duration": 9,
    "start_time": "2022-01-27T11:08:16.464Z"
   },
   {
    "duration": 12,
    "start_time": "2022-01-27T11:08:21.453Z"
   },
   {
    "duration": 62,
    "start_time": "2022-01-27T11:08:29.603Z"
   },
   {
    "duration": 14,
    "start_time": "2022-01-27T11:13:22.943Z"
   },
   {
    "duration": 43,
    "start_time": "2022-01-27T11:13:25.206Z"
   },
   {
    "duration": 21,
    "start_time": "2022-01-27T11:13:33.270Z"
   },
   {
    "duration": 20,
    "start_time": "2022-01-27T11:26:04.198Z"
   },
   {
    "duration": 4,
    "start_time": "2022-01-27T11:39:44.049Z"
   },
   {
    "duration": 4,
    "start_time": "2022-01-27T11:41:44.769Z"
   },
   {
    "duration": 394,
    "start_time": "2022-01-27T11:43:45.404Z"
   },
   {
    "duration": 409,
    "start_time": "2022-01-27T11:44:05.426Z"
   },
   {
    "duration": 700,
    "start_time": "2022-01-27T11:49:59.277Z"
   },
   {
    "duration": 409,
    "start_time": "2022-01-27T11:51:26.175Z"
   },
   {
    "duration": 12,
    "start_time": "2022-01-27T12:09:42.893Z"
   },
   {
    "duration": 9,
    "start_time": "2022-01-27T12:10:44.725Z"
   },
   {
    "duration": 14,
    "start_time": "2022-01-27T12:11:15.857Z"
   },
   {
    "duration": 4,
    "start_time": "2022-01-27T12:40:40.844Z"
   },
   {
    "duration": 4,
    "start_time": "2022-01-27T12:40:57.061Z"
   },
   {
    "duration": 387,
    "start_time": "2022-01-27T12:42:35.997Z"
   },
   {
    "duration": 414,
    "start_time": "2022-01-27T12:42:53.901Z"
   },
   {
    "duration": 410,
    "start_time": "2022-01-27T12:43:10.189Z"
   },
   {
    "duration": 980,
    "start_time": "2022-01-27T12:43:27.418Z"
   },
   {
    "duration": 422,
    "start_time": "2022-01-27T12:43:49.669Z"
   },
   {
    "duration": 766,
    "start_time": "2022-01-27T12:44:05.459Z"
   },
   {
    "duration": 414,
    "start_time": "2022-01-27T12:44:12.465Z"
   },
   {
    "duration": 405,
    "start_time": "2022-01-27T12:45:21.761Z"
   },
   {
    "duration": 11,
    "start_time": "2022-01-27T13:00:07.394Z"
   },
   {
    "duration": 124,
    "start_time": "2022-01-27T16:46:37.292Z"
   },
   {
    "duration": 115,
    "start_time": "2022-01-27T16:56:03.790Z"
   },
   {
    "duration": -125,
    "start_time": "2022-01-27T16:56:35.247Z"
   },
   {
    "duration": -137,
    "start_time": "2022-01-27T16:56:35.260Z"
   },
   {
    "duration": -141,
    "start_time": "2022-01-27T16:56:35.266Z"
   },
   {
    "duration": -144,
    "start_time": "2022-01-27T16:56:35.270Z"
   },
   {
    "duration": -148,
    "start_time": "2022-01-27T16:56:35.276Z"
   },
   {
    "duration": -151,
    "start_time": "2022-01-27T16:56:35.280Z"
   },
   {
    "duration": -154,
    "start_time": "2022-01-27T16:56:35.285Z"
   },
   {
    "duration": -158,
    "start_time": "2022-01-27T16:56:35.290Z"
   },
   {
    "duration": -160,
    "start_time": "2022-01-27T16:56:35.294Z"
   },
   {
    "duration": -164,
    "start_time": "2022-01-27T16:56:35.299Z"
   },
   {
    "duration": -166,
    "start_time": "2022-01-27T16:56:35.303Z"
   },
   {
    "duration": -169,
    "start_time": "2022-01-27T16:56:35.307Z"
   },
   {
    "duration": -171,
    "start_time": "2022-01-27T16:56:35.311Z"
   },
   {
    "duration": -173,
    "start_time": "2022-01-27T16:56:35.314Z"
   },
   {
    "duration": -371,
    "start_time": "2022-01-27T16:56:35.514Z"
   },
   {
    "duration": -375,
    "start_time": "2022-01-27T16:56:35.519Z"
   },
   {
    "duration": -377,
    "start_time": "2022-01-27T16:56:35.523Z"
   },
   {
    "duration": -381,
    "start_time": "2022-01-27T16:56:35.528Z"
   },
   {
    "duration": -384,
    "start_time": "2022-01-27T16:56:35.533Z"
   },
   {
    "duration": -388,
    "start_time": "2022-01-27T16:56:35.538Z"
   },
   {
    "duration": 10192,
    "start_time": "2022-01-27T16:56:37.665Z"
   },
   {
    "duration": 9625,
    "start_time": "2022-01-27T16:57:41.438Z"
   },
   {
    "duration": 391,
    "start_time": "2022-01-27T16:58:05.954Z"
   },
   {
    "duration": 621,
    "start_time": "2022-01-27T16:58:27.868Z"
   },
   {
    "duration": 13,
    "start_time": "2022-01-27T16:58:32.922Z"
   },
   {
    "duration": 121,
    "start_time": "2022-01-27T16:59:18.632Z"
   },
   {
    "duration": 393,
    "start_time": "2022-01-27T16:59:25.481Z"
   },
   {
    "duration": 3,
    "start_time": "2022-01-27T17:03:23.716Z"
   },
   {
    "duration": 129,
    "start_time": "2022-01-27T17:14:46.727Z"
   },
   {
    "duration": 125,
    "start_time": "2022-01-27T17:15:45.557Z"
   },
   {
    "duration": 5,
    "start_time": "2022-01-27T17:16:27.391Z"
   },
   {
    "duration": 391,
    "start_time": "2022-01-27T17:16:53.059Z"
   },
   {
    "duration": 652,
    "start_time": "2022-01-27T17:18:22.218Z"
   },
   {
    "duration": 416,
    "start_time": "2022-01-27T17:20:22.454Z"
   },
   {
    "duration": 415,
    "start_time": "2022-01-27T17:20:30.420Z"
   },
   {
    "duration": 440,
    "start_time": "2022-01-27T17:21:11.359Z"
   },
   {
    "duration": 407,
    "start_time": "2022-01-27T17:21:28.512Z"
   },
   {
    "duration": 427,
    "start_time": "2022-01-27T17:22:09.699Z"
   },
   {
    "duration": 411,
    "start_time": "2022-01-27T17:22:29.604Z"
   },
   {
    "duration": 627,
    "start_time": "2022-01-27T17:22:59.522Z"
   },
   {
    "duration": 644,
    "start_time": "2022-01-27T17:27:02.259Z"
   },
   {
    "duration": 17367,
    "start_time": "2022-01-27T17:27:46.849Z"
   },
   {
    "duration": 17132,
    "start_time": "2022-01-27T17:29:07.558Z"
   },
   {
    "duration": 18071,
    "start_time": "2022-01-27T17:30:19.015Z"
   },
   {
    "duration": 77,
    "start_time": "2022-01-27T17:34:40.381Z"
   },
   {
    "duration": 22,
    "start_time": "2022-01-27T17:34:40.461Z"
   },
   {
    "duration": 35,
    "start_time": "2022-01-27T17:34:40.487Z"
   },
   {
    "duration": 50,
    "start_time": "2022-01-27T17:34:40.526Z"
   },
   {
    "duration": 11,
    "start_time": "2022-01-27T17:34:40.579Z"
   },
   {
    "duration": 11,
    "start_time": "2022-01-27T17:34:40.593Z"
   },
   {
    "duration": 100,
    "start_time": "2022-01-27T17:34:40.607Z"
   },
   {
    "duration": 17,
    "start_time": "2022-01-27T17:34:40.711Z"
   },
   {
    "duration": 42,
    "start_time": "2022-01-27T17:34:40.731Z"
   },
   {
    "duration": 35,
    "start_time": "2022-01-27T17:34:40.776Z"
   },
   {
    "duration": 70,
    "start_time": "2022-01-27T17:34:40.814Z"
   },
   {
    "duration": 21,
    "start_time": "2022-01-27T17:34:40.886Z"
   },
   {
    "duration": 10,
    "start_time": "2022-01-27T17:34:40.909Z"
   },
   {
    "duration": 38,
    "start_time": "2022-01-27T17:34:40.922Z"
   },
   {
    "duration": 10,
    "start_time": "2022-01-27T17:34:40.962Z"
   },
   {
    "duration": 4747,
    "start_time": "2022-01-27T17:34:40.975Z"
   },
   {
    "duration": 7,
    "start_time": "2022-01-27T17:34:45.725Z"
   },
   {
    "duration": 32,
    "start_time": "2022-01-27T17:34:45.734Z"
   },
   {
    "duration": 22,
    "start_time": "2022-01-27T17:34:45.769Z"
   },
   {
    "duration": 412,
    "start_time": "2022-01-27T17:34:45.794Z"
   },
   {
    "duration": 12,
    "start_time": "2022-01-27T17:34:46.209Z"
   },
   {
    "duration": 418,
    "start_time": "2022-01-27T17:34:46.223Z"
   },
   {
    "duration": 18399,
    "start_time": "2022-01-27T17:34:46.645Z"
   },
   {
    "duration": 5,
    "start_time": "2022-01-27T18:33:21.074Z"
   },
   {
    "duration": 607,
    "start_time": "2022-01-27T18:42:16.785Z"
   },
   {
    "duration": 606,
    "start_time": "2022-01-27T18:42:24.621Z"
   },
   {
    "duration": 401,
    "start_time": "2022-01-27T18:43:04.536Z"
   },
   {
    "duration": 393,
    "start_time": "2022-01-27T18:43:50.890Z"
   },
   {
    "duration": 590,
    "start_time": "2022-01-27T18:44:41.875Z"
   },
   {
    "duration": 590,
    "start_time": "2022-01-27T18:45:51.461Z"
   },
   {
    "duration": 620,
    "start_time": "2022-01-27T18:46:17.209Z"
   },
   {
    "duration": 571,
    "start_time": "2022-01-27T18:47:43.862Z"
   },
   {
    "duration": 529,
    "start_time": "2022-01-27T18:47:51.589Z"
   },
   {
    "duration": 542,
    "start_time": "2022-01-27T18:48:17.545Z"
   },
   {
    "duration": 86,
    "start_time": "2022-01-27T18:48:28.140Z"
   },
   {
    "duration": 56,
    "start_time": "2022-01-27T18:48:28.229Z"
   },
   {
    "duration": 36,
    "start_time": "2022-01-27T18:48:28.289Z"
   },
   {
    "duration": 50,
    "start_time": "2022-01-27T18:48:28.327Z"
   },
   {
    "duration": 10,
    "start_time": "2022-01-27T18:48:28.380Z"
   },
   {
    "duration": 11,
    "start_time": "2022-01-27T18:48:28.392Z"
   },
   {
    "duration": 96,
    "start_time": "2022-01-27T18:48:28.405Z"
   },
   {
    "duration": 18,
    "start_time": "2022-01-27T18:48:28.505Z"
   },
   {
    "duration": 52,
    "start_time": "2022-01-27T18:48:28.527Z"
   },
   {
    "duration": 38,
    "start_time": "2022-01-27T18:48:28.582Z"
   },
   {
    "duration": 80,
    "start_time": "2022-01-27T18:48:28.622Z"
   },
   {
    "duration": 23,
    "start_time": "2022-01-27T18:48:28.704Z"
   },
   {
    "duration": 29,
    "start_time": "2022-01-27T18:48:28.730Z"
   },
   {
    "duration": 14,
    "start_time": "2022-01-27T18:48:28.762Z"
   },
   {
    "duration": 13,
    "start_time": "2022-01-27T18:48:28.779Z"
   },
   {
    "duration": 5435,
    "start_time": "2022-01-27T18:48:28.795Z"
   },
   {
    "duration": 7,
    "start_time": "2022-01-27T18:48:34.232Z"
   },
   {
    "duration": 27,
    "start_time": "2022-01-27T18:48:34.242Z"
   },
   {
    "duration": 24,
    "start_time": "2022-01-27T18:48:34.273Z"
   },
   {
    "duration": 446,
    "start_time": "2022-01-27T18:48:34.299Z"
   },
   {
    "duration": 26,
    "start_time": "2022-01-27T18:48:34.749Z"
   },
   {
    "duration": 445,
    "start_time": "2022-01-27T18:48:34.777Z"
   },
   {
    "duration": 19269,
    "start_time": "2022-01-27T18:48:35.227Z"
   },
   {
    "duration": 560,
    "start_time": "2022-01-27T18:49:12.129Z"
   },
   {
    "duration": 550,
    "start_time": "2022-01-27T18:49:49.890Z"
   },
   {
    "duration": 531,
    "start_time": "2022-01-27T18:51:39.007Z"
   },
   {
    "duration": 571,
    "start_time": "2022-01-27T18:51:55.450Z"
   },
   {
    "duration": 77,
    "start_time": "2022-01-27T18:53:08.778Z"
   },
   {
    "duration": 25,
    "start_time": "2022-01-27T18:53:08.857Z"
   },
   {
    "duration": 34,
    "start_time": "2022-01-27T18:53:08.885Z"
   },
   {
    "duration": 53,
    "start_time": "2022-01-27T18:53:08.922Z"
   },
   {
    "duration": 12,
    "start_time": "2022-01-27T18:53:08.978Z"
   },
   {
    "duration": 12,
    "start_time": "2022-01-27T18:53:08.992Z"
   },
   {
    "duration": 94,
    "start_time": "2022-01-27T18:53:09.006Z"
   },
   {
    "duration": 17,
    "start_time": "2022-01-27T18:53:09.104Z"
   },
   {
    "duration": 53,
    "start_time": "2022-01-27T18:53:09.125Z"
   },
   {
    "duration": 35,
    "start_time": "2022-01-27T18:53:09.181Z"
   },
   {
    "duration": 68,
    "start_time": "2022-01-27T18:53:09.219Z"
   },
   {
    "duration": 23,
    "start_time": "2022-01-27T18:53:09.290Z"
   },
   {
    "duration": 10,
    "start_time": "2022-01-27T18:53:09.316Z"
   },
   {
    "duration": 37,
    "start_time": "2022-01-27T18:53:09.328Z"
   },
   {
    "duration": 15,
    "start_time": "2022-01-27T18:53:09.368Z"
   },
   {
    "duration": 5231,
    "start_time": "2022-01-27T18:53:09.386Z"
   },
   {
    "duration": 8,
    "start_time": "2022-01-27T18:53:14.619Z"
   },
   {
    "duration": 31,
    "start_time": "2022-01-27T18:53:14.629Z"
   },
   {
    "duration": 26,
    "start_time": "2022-01-27T18:53:14.663Z"
   },
   {
    "duration": 423,
    "start_time": "2022-01-27T18:53:14.692Z"
   },
   {
    "duration": 13,
    "start_time": "2022-01-27T18:53:15.117Z"
   },
   {
    "duration": 471,
    "start_time": "2022-01-27T18:53:15.134Z"
   },
   {
    "duration": 18338,
    "start_time": "2022-01-27T18:53:15.609Z"
   },
   {
    "duration": 625,
    "start_time": "2022-01-27T18:53:40.265Z"
   },
   {
    "duration": 139,
    "start_time": "2022-01-27T18:57:13.396Z"
   },
   {
    "duration": 24,
    "start_time": "2022-01-27T18:57:25.828Z"
   },
   {
    "duration": 696,
    "start_time": "2022-01-27T19:00:15.677Z"
   },
   {
    "duration": 566,
    "start_time": "2022-01-27T19:00:28.573Z"
   },
   {
    "duration": 520,
    "start_time": "2022-01-27T19:06:12.134Z"
   },
   {
    "duration": 10407,
    "start_time": "2022-01-27T19:06:37.711Z"
   },
   {
    "duration": 625,
    "start_time": "2022-01-27T19:07:06.280Z"
   },
   {
    "duration": 84,
    "start_time": "2022-01-27T19:07:42.308Z"
   },
   {
    "duration": 19,
    "start_time": "2022-01-27T19:07:42.395Z"
   },
   {
    "duration": 68,
    "start_time": "2022-01-27T19:07:42.417Z"
   },
   {
    "duration": 20,
    "start_time": "2022-01-27T19:07:42.488Z"
   },
   {
    "duration": 12,
    "start_time": "2022-01-27T19:07:42.511Z"
   },
   {
    "duration": 17,
    "start_time": "2022-01-27T19:07:42.560Z"
   },
   {
    "duration": 53,
    "start_time": "2022-01-27T19:07:42.580Z"
   },
   {
    "duration": 20,
    "start_time": "2022-01-27T19:07:42.662Z"
   },
   {
    "duration": 24,
    "start_time": "2022-01-27T19:07:42.686Z"
   },
   {
    "duration": 68,
    "start_time": "2022-01-27T19:07:42.712Z"
   },
   {
    "duration": 42,
    "start_time": "2022-01-27T19:07:42.782Z"
   },
   {
    "duration": 57,
    "start_time": "2022-01-27T19:07:42.828Z"
   },
   {
    "duration": 13,
    "start_time": "2022-01-27T19:07:42.888Z"
   },
   {
    "duration": 28,
    "start_time": "2022-01-27T19:07:42.911Z"
   },
   {
    "duration": 28,
    "start_time": "2022-01-27T19:07:42.941Z"
   },
   {
    "duration": 5398,
    "start_time": "2022-01-27T19:07:42.972Z"
   },
   {
    "duration": 9,
    "start_time": "2022-01-27T19:07:48.373Z"
   },
   {
    "duration": 12,
    "start_time": "2022-01-27T19:07:48.384Z"
   },
   {
    "duration": 28,
    "start_time": "2022-01-27T19:07:48.398Z"
   },
   {
    "duration": 461,
    "start_time": "2022-01-27T19:07:48.428Z"
   },
   {
    "duration": 16,
    "start_time": "2022-01-27T19:07:48.891Z"
   },
   {
    "duration": 425,
    "start_time": "2022-01-27T19:07:48.910Z"
   },
   {
    "duration": 18625,
    "start_time": "2022-01-27T19:07:49.341Z"
   },
   {
    "duration": 625,
    "start_time": "2022-01-27T19:08:07.969Z"
   },
   {
    "duration": 615,
    "start_time": "2022-01-27T19:09:09.647Z"
   },
   {
    "duration": 4944,
    "start_time": "2022-01-27T19:09:23.198Z"
   },
   {
    "duration": 582,
    "start_time": "2022-01-27T19:09:41.245Z"
   },
   {
    "duration": 594,
    "start_time": "2022-01-27T19:10:11.304Z"
   },
   {
    "duration": 562,
    "start_time": "2022-01-27T19:10:39.431Z"
   },
   {
    "duration": 560,
    "start_time": "2022-01-27T19:11:54.010Z"
   },
   {
    "duration": 553,
    "start_time": "2022-01-27T19:12:04.428Z"
   },
   {
    "duration": 504,
    "start_time": "2022-01-27T19:17:08.309Z"
   },
   {
    "duration": 83,
    "start_time": "2022-01-27T19:25:15.040Z"
   },
   {
    "duration": 44,
    "start_time": "2022-01-27T19:25:15.126Z"
   },
   {
    "duration": 35,
    "start_time": "2022-01-27T19:25:15.173Z"
   },
   {
    "duration": 48,
    "start_time": "2022-01-27T19:25:15.211Z"
   },
   {
    "duration": 9,
    "start_time": "2022-01-27T19:25:15.262Z"
   },
   {
    "duration": 11,
    "start_time": "2022-01-27T19:25:15.274Z"
   },
   {
    "duration": 82,
    "start_time": "2022-01-27T19:25:15.288Z"
   },
   {
    "duration": 16,
    "start_time": "2022-01-27T19:25:15.374Z"
   },
   {
    "duration": 21,
    "start_time": "2022-01-27T19:25:15.393Z"
   },
   {
    "duration": 65,
    "start_time": "2022-01-27T19:25:15.416Z"
   },
   {
    "duration": 41,
    "start_time": "2022-01-27T19:25:15.483Z"
   },
   {
    "duration": 44,
    "start_time": "2022-01-27T19:25:15.527Z"
   },
   {
    "duration": 10,
    "start_time": "2022-01-27T19:25:15.574Z"
   },
   {
    "duration": 10,
    "start_time": "2022-01-27T19:25:15.586Z"
   },
   {
    "duration": 10,
    "start_time": "2022-01-27T19:25:15.599Z"
   },
   {
    "duration": 4991,
    "start_time": "2022-01-27T19:25:15.611Z"
   },
   {
    "duration": 8,
    "start_time": "2022-01-27T19:25:20.604Z"
   },
   {
    "duration": 15,
    "start_time": "2022-01-27T19:25:20.615Z"
   },
   {
    "duration": 42,
    "start_time": "2022-01-27T19:25:20.633Z"
   },
   {
    "duration": 416,
    "start_time": "2022-01-27T19:25:20.678Z"
   },
   {
    "duration": 13,
    "start_time": "2022-01-27T19:25:21.097Z"
   },
   {
    "duration": 456,
    "start_time": "2022-01-27T19:25:21.112Z"
   },
   {
    "duration": 17697,
    "start_time": "2022-01-27T19:25:21.572Z"
   },
   {
    "duration": 522,
    "start_time": "2022-01-27T19:25:42.007Z"
   },
   {
    "duration": 936,
    "start_time": "2022-01-28T06:37:21.911Z"
   },
   {
    "duration": 30,
    "start_time": "2022-01-28T06:37:22.849Z"
   },
   {
    "duration": 35,
    "start_time": "2022-01-28T06:37:22.883Z"
   },
   {
    "duration": 43,
    "start_time": "2022-01-28T06:37:22.921Z"
   },
   {
    "duration": 10,
    "start_time": "2022-01-28T06:37:22.967Z"
   },
   {
    "duration": 12,
    "start_time": "2022-01-28T06:37:22.979Z"
   },
   {
    "duration": 89,
    "start_time": "2022-01-28T06:37:22.993Z"
   },
   {
    "duration": 18,
    "start_time": "2022-01-28T06:37:23.086Z"
   },
   {
    "duration": 19,
    "start_time": "2022-01-28T06:37:23.108Z"
   },
   {
    "duration": 39,
    "start_time": "2022-01-28T06:37:23.158Z"
   },
   {
    "duration": 62,
    "start_time": "2022-01-28T06:37:23.200Z"
   },
   {
    "duration": 22,
    "start_time": "2022-01-28T06:37:23.264Z"
   },
   {
    "duration": 11,
    "start_time": "2022-01-28T06:37:23.288Z"
   },
   {
    "duration": 10,
    "start_time": "2022-01-28T06:37:23.302Z"
   },
   {
    "duration": 50,
    "start_time": "2022-01-28T06:37:23.314Z"
   },
   {
    "duration": 5142,
    "start_time": "2022-01-28T06:37:23.366Z"
   },
   {
    "duration": 8,
    "start_time": "2022-01-28T06:37:28.510Z"
   },
   {
    "duration": 11,
    "start_time": "2022-01-28T06:37:28.520Z"
   },
   {
    "duration": 47,
    "start_time": "2022-01-28T06:37:28.533Z"
   },
   {
    "duration": 442,
    "start_time": "2022-01-28T06:37:28.583Z"
   },
   {
    "duration": 12,
    "start_time": "2022-01-28T06:37:29.027Z"
   },
   {
    "duration": 420,
    "start_time": "2022-01-28T06:37:29.060Z"
   },
   {
    "duration": 18143,
    "start_time": "2022-01-28T06:37:29.482Z"
   },
   {
    "duration": 568,
    "start_time": "2022-01-28T06:37:47.627Z"
   },
   {
    "duration": 319,
    "start_time": "2022-01-28T17:09:28.575Z"
   },
   {
    "duration": 732,
    "start_time": "2022-01-28T17:09:35.603Z"
   },
   {
    "duration": 22,
    "start_time": "2022-01-28T17:09:36.337Z"
   },
   {
    "duration": 21,
    "start_time": "2022-01-28T17:09:36.361Z"
   },
   {
    "duration": 14,
    "start_time": "2022-01-28T17:09:36.398Z"
   },
   {
    "duration": 8,
    "start_time": "2022-01-28T17:09:36.413Z"
   },
   {
    "duration": 9,
    "start_time": "2022-01-28T17:09:36.423Z"
   },
   {
    "duration": 68,
    "start_time": "2022-01-28T17:09:36.434Z"
   },
   {
    "duration": 14,
    "start_time": "2022-01-28T17:09:36.504Z"
   },
   {
    "duration": 14,
    "start_time": "2022-01-28T17:09:36.522Z"
   },
   {
    "duration": 76,
    "start_time": "2022-01-28T17:09:36.538Z"
   },
   {
    "duration": 36,
    "start_time": "2022-01-28T17:09:36.617Z"
   },
   {
    "duration": 15,
    "start_time": "2022-01-28T17:09:36.654Z"
   },
   {
    "duration": 34,
    "start_time": "2022-01-28T17:09:36.671Z"
   },
   {
    "duration": 9,
    "start_time": "2022-01-28T17:09:36.707Z"
   },
   {
    "duration": 11,
    "start_time": "2022-01-28T17:09:36.718Z"
   },
   {
    "duration": 3643,
    "start_time": "2022-01-28T17:09:36.730Z"
   },
   {
    "duration": 6,
    "start_time": "2022-01-28T17:09:40.375Z"
   },
   {
    "duration": 21,
    "start_time": "2022-01-28T17:09:40.383Z"
   },
   {
    "duration": 15,
    "start_time": "2022-01-28T17:09:40.406Z"
   },
   {
    "duration": 261,
    "start_time": "2022-01-28T17:09:40.423Z"
   },
   {
    "duration": 17,
    "start_time": "2022-01-28T17:09:40.686Z"
   },
   {
    "duration": 258,
    "start_time": "2022-01-28T17:09:40.704Z"
   },
   {
    "duration": 13386,
    "start_time": "2022-01-28T17:09:40.964Z"
   },
   {
    "duration": 337,
    "start_time": "2022-01-28T17:09:54.352Z"
   },
   {
    "duration": 320,
    "start_time": "2022-01-28T17:18:56.650Z"
   },
   {
    "duration": 5,
    "start_time": "2022-01-28T17:37:23.643Z"
   },
   {
    "duration": 15,
    "start_time": "2022-01-28T17:37:43.842Z"
   },
   {
    "duration": 10,
    "start_time": "2022-01-28T17:38:17.657Z"
   },
   {
    "duration": 13,
    "start_time": "2022-01-28T17:39:26.958Z"
   },
   {
    "duration": 17,
    "start_time": "2022-01-28T17:46:25.284Z"
   },
   {
    "duration": 18,
    "start_time": "2022-01-28T17:46:27.670Z"
   },
   {
    "duration": 20,
    "start_time": "2022-01-28T17:46:48.697Z"
   },
   {
    "duration": 68,
    "start_time": "2022-01-28T17:51:50.550Z"
   },
   {
    "duration": 14,
    "start_time": "2022-01-28T17:51:50.620Z"
   },
   {
    "duration": 27,
    "start_time": "2022-01-28T17:51:50.636Z"
   },
   {
    "duration": 47,
    "start_time": "2022-01-28T17:51:50.665Z"
   },
   {
    "duration": 14,
    "start_time": "2022-01-28T17:51:50.714Z"
   },
   {
    "duration": 8,
    "start_time": "2022-01-28T17:51:50.730Z"
   },
   {
    "duration": 59,
    "start_time": "2022-01-28T17:51:50.740Z"
   },
   {
    "duration": 16,
    "start_time": "2022-01-28T17:51:50.802Z"
   },
   {
    "duration": 23,
    "start_time": "2022-01-28T17:51:50.820Z"
   },
   {
    "duration": 62,
    "start_time": "2022-01-28T17:51:50.845Z"
   },
   {
    "duration": 29,
    "start_time": "2022-01-28T17:51:50.909Z"
   },
   {
    "duration": 15,
    "start_time": "2022-01-28T17:51:50.940Z"
   },
   {
    "duration": 7,
    "start_time": "2022-01-28T17:51:50.957Z"
   },
   {
    "duration": 40,
    "start_time": "2022-01-28T17:51:50.966Z"
   },
   {
    "duration": 12,
    "start_time": "2022-01-28T17:51:51.008Z"
   },
   {
    "duration": 3367,
    "start_time": "2022-01-28T17:51:51.022Z"
   },
   {
    "duration": 11,
    "start_time": "2022-01-28T17:51:54.391Z"
   },
   {
    "duration": 9,
    "start_time": "2022-01-28T17:51:54.403Z"
   },
   {
    "duration": 16,
    "start_time": "2022-01-28T17:51:54.414Z"
   },
   {
    "duration": 268,
    "start_time": "2022-01-28T17:51:54.431Z"
   },
   {
    "duration": 9,
    "start_time": "2022-01-28T17:51:54.701Z"
   },
   {
    "duration": 249,
    "start_time": "2022-01-28T17:51:54.711Z"
   },
   {
    "duration": 12803,
    "start_time": "2022-01-28T17:51:54.963Z"
   },
   {
    "duration": 314,
    "start_time": "2022-01-28T17:52:07.768Z"
   },
   {
    "duration": 17,
    "start_time": "2022-01-28T17:52:08.083Z"
   },
   {
    "duration": 25,
    "start_time": "2022-01-28T17:52:08.101Z"
   },
   {
    "duration": 280,
    "start_time": "2022-01-28T17:52:35.785Z"
   },
   {
    "duration": 7147,
    "start_time": "2022-01-28T18:01:43.468Z"
   },
   {
    "duration": 285,
    "start_time": "2022-01-28T18:02:20.921Z"
   },
   {
    "duration": 12,
    "start_time": "2022-01-28T18:03:17.766Z"
   },
   {
    "duration": 277,
    "start_time": "2022-01-28T18:09:53.873Z"
   },
   {
    "duration": 278,
    "start_time": "2022-01-28T18:10:12.570Z"
   },
   {
    "duration": 11,
    "start_time": "2022-01-28T18:10:24.200Z"
   },
   {
    "duration": 14,
    "start_time": "2022-01-28T18:11:01.201Z"
   },
   {
    "duration": 14,
    "start_time": "2022-01-28T18:12:59.131Z"
   },
   {
    "duration": 233,
    "start_time": "2022-01-28T18:18:02.923Z"
   },
   {
    "duration": 14,
    "start_time": "2022-01-28T18:18:40.862Z"
   },
   {
    "duration": 15,
    "start_time": "2022-01-28T18:20:09.101Z"
   },
   {
    "duration": 13,
    "start_time": "2022-01-28T18:20:39.861Z"
   },
   {
    "duration": 15,
    "start_time": "2022-01-28T18:21:14.871Z"
   },
   {
    "duration": 15,
    "start_time": "2022-01-28T18:21:56.855Z"
   },
   {
    "duration": 88,
    "start_time": "2022-01-28T18:23:10.053Z"
   },
   {
    "duration": 15,
    "start_time": "2022-01-28T18:23:22.908Z"
   },
   {
    "duration": 278,
    "start_time": "2022-01-28T18:37:29.465Z"
   },
   {
    "duration": 316,
    "start_time": "2022-01-28T18:37:46.543Z"
   },
   {
    "duration": 306,
    "start_time": "2022-01-28T18:41:02.086Z"
   },
   {
    "duration": 14,
    "start_time": "2022-01-28T18:43:47.548Z"
   },
   {
    "duration": 698,
    "start_time": "2022-01-28T18:44:41.665Z"
   },
   {
    "duration": 20,
    "start_time": "2022-01-28T18:45:05.850Z"
   },
   {
    "duration": 13,
    "start_time": "2022-01-28T18:46:17.864Z"
   },
   {
    "duration": 271,
    "start_time": "2022-01-28T18:48:13.222Z"
   },
   {
    "duration": 13,
    "start_time": "2022-01-28T18:48:42.431Z"
   },
   {
    "duration": 13,
    "start_time": "2022-01-28T18:48:48.912Z"
   },
   {
    "duration": 13,
    "start_time": "2022-01-28T18:50:08.556Z"
   },
   {
    "duration": 13,
    "start_time": "2022-01-28T18:50:11.722Z"
   },
   {
    "duration": 16,
    "start_time": "2022-01-28T18:50:20.571Z"
   },
   {
    "duration": 17,
    "start_time": "2022-01-28T18:50:39.295Z"
   },
   {
    "duration": 19,
    "start_time": "2022-01-28T18:53:31.253Z"
   },
   {
    "duration": 13,
    "start_time": "2022-01-28T19:00:17.575Z"
   },
   {
    "duration": 14,
    "start_time": "2022-01-28T19:00:35.855Z"
   },
   {
    "duration": 15,
    "start_time": "2022-01-28T19:00:46.618Z"
   },
   {
    "duration": 17,
    "start_time": "2022-01-28T19:01:16.693Z"
   },
   {
    "duration": 19,
    "start_time": "2022-01-28T19:03:31.470Z"
   },
   {
    "duration": 28,
    "start_time": "2022-01-28T19:03:50.131Z"
   },
   {
    "duration": 17,
    "start_time": "2022-01-28T19:10:49.261Z"
   },
   {
    "duration": 18,
    "start_time": "2022-01-28T19:28:53.690Z"
   },
   {
    "duration": 602,
    "start_time": "2022-01-28T19:29:30.404Z"
   },
   {
    "duration": 322,
    "start_time": "2022-01-28T19:37:05.521Z"
   },
   {
    "duration": 278,
    "start_time": "2022-01-28T19:37:18.557Z"
   },
   {
    "duration": 154,
    "start_time": "2022-01-28T19:37:27.567Z"
   },
   {
    "duration": -951,
    "start_time": "2022-01-28T19:38:45.405Z"
   },
   {
    "duration": 6623,
    "start_time": "2022-01-28T19:38:53.555Z"
   },
   {
    "duration": 7689,
    "start_time": "2022-01-28T19:39:46.997Z"
   },
   {
    "duration": -964,
    "start_time": "2022-01-28T19:39:55.651Z"
   },
   {
    "duration": 169,
    "start_time": "2022-01-28T19:41:38.109Z"
   },
   {
    "duration": 285,
    "start_time": "2022-01-28T19:42:27.856Z"
   },
   {
    "duration": 226,
    "start_time": "2022-01-28T19:42:55.485Z"
   },
   {
    "duration": 150,
    "start_time": "2022-01-28T19:43:12.723Z"
   },
   {
    "duration": 151,
    "start_time": "2022-01-28T19:43:48.243Z"
   },
   {
    "duration": 167,
    "start_time": "2022-01-28T20:34:14.483Z"
   },
   {
    "duration": 14,
    "start_time": "2022-01-28T20:34:43.891Z"
   },
   {
    "duration": 244,
    "start_time": "2022-01-28T20:38:12.670Z"
   },
   {
    "duration": 16,
    "start_time": "2022-01-28T20:38:28.352Z"
   },
   {
    "duration": 16,
    "start_time": "2022-01-28T20:38:33.272Z"
   },
   {
    "duration": 60,
    "start_time": "2022-01-28T20:38:38.677Z"
   },
   {
    "duration": 13,
    "start_time": "2022-01-28T20:38:38.739Z"
   },
   {
    "duration": 46,
    "start_time": "2022-01-28T20:38:38.754Z"
   },
   {
    "duration": 14,
    "start_time": "2022-01-28T20:38:38.802Z"
   },
   {
    "duration": 8,
    "start_time": "2022-01-28T20:38:38.817Z"
   },
   {
    "duration": 8,
    "start_time": "2022-01-28T20:38:38.826Z"
   },
   {
    "duration": 66,
    "start_time": "2022-01-28T20:38:38.836Z"
   },
   {
    "duration": 11,
    "start_time": "2022-01-28T20:38:38.905Z"
   },
   {
    "duration": 13,
    "start_time": "2022-01-28T20:38:38.919Z"
   },
   {
    "duration": 27,
    "start_time": "2022-01-28T20:38:38.934Z"
   },
   {
    "duration": 59,
    "start_time": "2022-01-28T20:38:38.963Z"
   },
   {
    "duration": 15,
    "start_time": "2022-01-28T20:38:39.024Z"
   },
   {
    "duration": 7,
    "start_time": "2022-01-28T20:38:39.041Z"
   },
   {
    "duration": 11,
    "start_time": "2022-01-28T20:38:39.049Z"
   },
   {
    "duration": 13,
    "start_time": "2022-01-28T20:38:39.061Z"
   },
   {
    "duration": 3534,
    "start_time": "2022-01-28T20:38:39.075Z"
   },
   {
    "duration": 6,
    "start_time": "2022-01-28T20:38:42.611Z"
   },
   {
    "duration": 19,
    "start_time": "2022-01-28T20:38:42.619Z"
   },
   {
    "duration": 34,
    "start_time": "2022-01-28T20:38:42.640Z"
   },
   {
    "duration": 245,
    "start_time": "2022-01-28T20:38:42.676Z"
   },
   {
    "duration": 9,
    "start_time": "2022-01-28T20:38:42.923Z"
   },
   {
    "duration": 262,
    "start_time": "2022-01-28T20:38:42.934Z"
   },
   {
    "duration": 13045,
    "start_time": "2022-01-28T20:38:43.199Z"
   },
   {
    "duration": 340,
    "start_time": "2022-01-28T20:38:56.245Z"
   },
   {
    "duration": 17,
    "start_time": "2022-01-28T20:38:56.587Z"
   },
   {
    "duration": 182,
    "start_time": "2022-01-28T20:38:56.605Z"
   },
   {
    "duration": 30,
    "start_time": "2022-01-28T20:38:56.789Z"
   },
   {
    "duration": 17,
    "start_time": "2022-01-28T20:38:56.821Z"
   },
   {
    "duration": 16,
    "start_time": "2022-01-28T20:38:56.840Z"
   },
   {
    "duration": 42,
    "start_time": "2022-01-28T20:38:56.858Z"
   },
   {
    "duration": 153,
    "start_time": "2022-01-28T20:40:33.083Z"
   },
   {
    "duration": 176,
    "start_time": "2022-01-28T20:41:22.999Z"
   },
   {
    "duration": 16,
    "start_time": "2022-01-28T20:42:15.837Z"
   },
   {
    "duration": 294,
    "start_time": "2022-01-28T20:44:13.088Z"
   },
   {
    "duration": 184,
    "start_time": "2022-01-28T20:44:25.509Z"
   },
   {
    "duration": 246,
    "start_time": "2022-01-28T20:45:57.181Z"
   },
   {
    "duration": 426,
    "start_time": "2022-01-28T20:51:06.788Z"
   },
   {
    "duration": 169,
    "start_time": "2022-01-28T20:52:39.239Z"
   },
   {
    "duration": 171,
    "start_time": "2022-01-28T20:52:47.788Z"
   },
   {
    "duration": 178,
    "start_time": "2022-01-28T20:53:35.257Z"
   },
   {
    "duration": 191,
    "start_time": "2022-01-28T20:54:03.891Z"
   },
   {
    "duration": 488,
    "start_time": "2022-01-28T20:55:50.081Z"
   },
   {
    "duration": 180,
    "start_time": "2022-01-28T20:56:03.417Z"
   },
   {
    "duration": 152,
    "start_time": "2022-01-28T20:58:56.612Z"
   },
   {
    "duration": 285,
    "start_time": "2022-01-28T20:59:02.302Z"
   },
   {
    "duration": 162,
    "start_time": "2022-01-28T20:59:27.538Z"
   },
   {
    "duration": 209,
    "start_time": "2022-01-28T20:59:35.172Z"
   },
   {
    "duration": 212,
    "start_time": "2022-01-28T21:00:50.959Z"
   },
   {
    "duration": 172,
    "start_time": "2022-01-28T21:02:25.966Z"
   },
   {
    "duration": 169,
    "start_time": "2022-01-28T21:02:59.279Z"
   },
   {
    "duration": 170,
    "start_time": "2022-01-28T21:04:05.950Z"
   },
   {
    "duration": 166,
    "start_time": "2022-01-28T21:07:07.162Z"
   },
   {
    "duration": 154,
    "start_time": "2022-01-28T21:07:42.438Z"
   },
   {
    "duration": 657,
    "start_time": "2022-01-29T12:55:29.592Z"
   },
   {
    "duration": 18,
    "start_time": "2022-01-29T12:55:30.251Z"
   },
   {
    "duration": 36,
    "start_time": "2022-01-29T12:55:30.271Z"
   },
   {
    "duration": 13,
    "start_time": "2022-01-29T12:55:30.309Z"
   },
   {
    "duration": 7,
    "start_time": "2022-01-29T12:55:30.323Z"
   },
   {
    "duration": 14,
    "start_time": "2022-01-29T12:55:30.331Z"
   },
   {
    "duration": 47,
    "start_time": "2022-01-29T12:55:30.347Z"
   },
   {
    "duration": 12,
    "start_time": "2022-01-29T12:55:30.396Z"
   },
   {
    "duration": 23,
    "start_time": "2022-01-29T12:55:30.411Z"
   },
   {
    "duration": 38,
    "start_time": "2022-01-29T12:55:30.437Z"
   },
   {
    "duration": 27,
    "start_time": "2022-01-29T12:55:30.476Z"
   },
   {
    "duration": 15,
    "start_time": "2022-01-29T12:55:30.505Z"
   },
   {
    "duration": 41,
    "start_time": "2022-01-29T12:55:30.521Z"
   },
   {
    "duration": 16,
    "start_time": "2022-01-29T12:55:30.564Z"
   },
   {
    "duration": 18,
    "start_time": "2022-01-29T12:55:30.582Z"
   },
   {
    "duration": 3577,
    "start_time": "2022-01-29T12:55:30.602Z"
   },
   {
    "duration": 5,
    "start_time": "2022-01-29T12:55:34.181Z"
   },
   {
    "duration": 12,
    "start_time": "2022-01-29T12:55:34.188Z"
   },
   {
    "duration": 16,
    "start_time": "2022-01-29T12:55:34.201Z"
   },
   {
    "duration": 276,
    "start_time": "2022-01-29T12:55:34.219Z"
   },
   {
    "duration": 9,
    "start_time": "2022-01-29T12:55:34.497Z"
   },
   {
    "duration": 249,
    "start_time": "2022-01-29T12:55:34.507Z"
   },
   {
    "duration": 12246,
    "start_time": "2022-01-29T12:55:34.761Z"
   },
   {
    "duration": 311,
    "start_time": "2022-01-29T12:55:47.009Z"
   },
   {
    "duration": 10,
    "start_time": "2022-01-29T12:55:47.322Z"
   },
   {
    "duration": 700,
    "start_time": "2022-01-29T12:55:47.334Z"
   },
   {
    "duration": 153,
    "start_time": "2022-01-29T12:55:48.037Z"
   },
   {
    "duration": 169,
    "start_time": "2022-01-29T12:55:48.191Z"
   },
   {
    "duration": 163,
    "start_time": "2022-01-29T12:55:48.362Z"
   },
   {
    "duration": 213,
    "start_time": "2022-01-29T12:55:48.526Z"
   },
   {
    "duration": 154,
    "start_time": "2022-01-29T13:52:11.885Z"
   },
   {
    "duration": 229,
    "start_time": "2022-01-29T13:52:16.664Z"
   },
   {
    "duration": 166,
    "start_time": "2022-01-29T13:56:47.654Z"
   },
   {
    "duration": 59,
    "start_time": "2022-01-29T16:28:58.326Z"
   },
   {
    "duration": 11,
    "start_time": "2022-01-29T16:28:58.387Z"
   },
   {
    "duration": 21,
    "start_time": "2022-01-29T16:28:58.400Z"
   },
   {
    "duration": 12,
    "start_time": "2022-01-29T16:28:58.423Z"
   },
   {
    "duration": 31,
    "start_time": "2022-01-29T16:28:58.436Z"
   },
   {
    "duration": 8,
    "start_time": "2022-01-29T16:28:58.468Z"
   },
   {
    "duration": 35,
    "start_time": "2022-01-29T16:28:58.478Z"
   },
   {
    "duration": 11,
    "start_time": "2022-01-29T16:28:58.514Z"
   },
   {
    "duration": 44,
    "start_time": "2022-01-29T16:28:58.527Z"
   },
   {
    "duration": 24,
    "start_time": "2022-01-29T16:28:58.572Z"
   },
   {
    "duration": 27,
    "start_time": "2022-01-29T16:28:58.597Z"
   },
   {
    "duration": 15,
    "start_time": "2022-01-29T16:28:59.812Z"
   },
   {
    "duration": 6,
    "start_time": "2022-01-29T16:28:59.829Z"
   },
   {
    "duration": 9,
    "start_time": "2022-01-29T16:29:00.188Z"
   },
   {
    "duration": 14,
    "start_time": "2022-01-29T16:29:00.199Z"
   },
   {
    "duration": 3714,
    "start_time": "2022-01-29T16:29:00.215Z"
   },
   {
    "duration": 5,
    "start_time": "2022-01-29T16:29:03.931Z"
   },
   {
    "duration": 23,
    "start_time": "2022-01-29T16:29:03.938Z"
   },
   {
    "duration": 14,
    "start_time": "2022-01-29T16:29:03.963Z"
   },
   {
    "duration": 245,
    "start_time": "2022-01-29T16:29:03.979Z"
   },
   {
    "duration": 10,
    "start_time": "2022-01-29T16:29:04.226Z"
   },
   {
    "duration": 260,
    "start_time": "2022-01-29T16:29:04.239Z"
   },
   {
    "duration": 12661,
    "start_time": "2022-01-29T16:29:04.501Z"
   },
   {
    "duration": 313,
    "start_time": "2022-01-29T16:29:17.163Z"
   },
   {
    "duration": 11,
    "start_time": "2022-01-29T16:29:17.477Z"
   },
   {
    "duration": 161,
    "start_time": "2022-01-29T16:29:17.489Z"
   },
   {
    "duration": 153,
    "start_time": "2022-01-29T16:29:17.651Z"
   },
   {
    "duration": 174,
    "start_time": "2022-01-29T16:29:17.806Z"
   },
   {
    "duration": 160,
    "start_time": "2022-01-29T16:29:17.982Z"
   },
   {
    "duration": 246,
    "start_time": "2022-01-29T16:29:18.144Z"
   },
   {
    "duration": 137,
    "start_time": "2022-01-29T16:33:59.669Z"
   },
   {
    "duration": 160,
    "start_time": "2022-01-29T16:34:05.582Z"
   },
   {
    "duration": 142,
    "start_time": "2022-01-29T16:59:31.072Z"
   },
   {
    "duration": 59,
    "start_time": "2022-01-29T17:42:57.791Z"
   },
   {
    "duration": 11,
    "start_time": "2022-01-29T17:42:57.852Z"
   },
   {
    "duration": 21,
    "start_time": "2022-01-29T17:42:57.865Z"
   },
   {
    "duration": 13,
    "start_time": "2022-01-29T17:42:57.888Z"
   },
   {
    "duration": 9,
    "start_time": "2022-01-29T17:42:57.903Z"
   },
   {
    "duration": 9,
    "start_time": "2022-01-29T17:42:57.914Z"
   },
   {
    "duration": 72,
    "start_time": "2022-01-29T17:42:57.924Z"
   },
   {
    "duration": 12,
    "start_time": "2022-01-29T17:42:57.998Z"
   },
   {
    "duration": 14,
    "start_time": "2022-01-29T17:42:58.014Z"
   },
   {
    "duration": 53,
    "start_time": "2022-01-29T17:42:58.030Z"
   },
   {
    "duration": 29,
    "start_time": "2022-01-29T17:42:58.085Z"
   },
   {
    "duration": 16,
    "start_time": "2022-01-29T17:42:58.115Z"
   },
   {
    "duration": 32,
    "start_time": "2022-01-29T17:42:58.133Z"
   },
   {
    "duration": 11,
    "start_time": "2022-01-29T17:42:58.167Z"
   },
   {
    "duration": 10,
    "start_time": "2022-01-29T17:42:58.180Z"
   },
   {
    "duration": 3455,
    "start_time": "2022-01-29T17:42:58.192Z"
   },
   {
    "duration": 15,
    "start_time": "2022-01-29T17:43:01.649Z"
   },
   {
    "duration": 8,
    "start_time": "2022-01-29T17:43:01.666Z"
   },
   {
    "duration": 25,
    "start_time": "2022-01-29T17:43:01.675Z"
   },
   {
    "duration": 260,
    "start_time": "2022-01-29T17:43:01.701Z"
   },
   {
    "duration": 9,
    "start_time": "2022-01-29T17:43:01.963Z"
   },
   {
    "duration": 241,
    "start_time": "2022-01-29T17:43:01.974Z"
   },
   {
    "duration": 12369,
    "start_time": "2022-01-29T17:43:02.217Z"
   },
   {
    "duration": 312,
    "start_time": "2022-01-29T17:43:14.588Z"
   },
   {
    "duration": 9,
    "start_time": "2022-01-29T17:43:14.902Z"
   },
   {
    "duration": 162,
    "start_time": "2022-01-29T17:43:14.913Z"
   },
   {
    "duration": 150,
    "start_time": "2022-01-29T17:43:15.079Z"
   },
   {
    "duration": 167,
    "start_time": "2022-01-29T17:43:15.230Z"
   },
   {
    "duration": 156,
    "start_time": "2022-01-29T17:43:15.399Z"
   },
   {
    "duration": 157,
    "start_time": "2022-01-29T17:43:15.560Z"
   },
   {
    "duration": 844,
    "start_time": "2022-02-07T18:09:59.201Z"
   },
   {
    "duration": 37,
    "start_time": "2022-02-07T18:10:00.049Z"
   },
   {
    "duration": 56,
    "start_time": "2022-02-07T18:10:00.090Z"
   },
   {
    "duration": 22,
    "start_time": "2022-02-07T18:10:00.169Z"
   },
   {
    "duration": 15,
    "start_time": "2022-02-07T18:10:00.193Z"
   },
   {
    "duration": 13,
    "start_time": "2022-02-07T18:10:00.210Z"
   },
   {
    "duration": 105,
    "start_time": "2022-02-07T18:10:00.225Z"
   },
   {
    "duration": 35,
    "start_time": "2022-02-07T18:10:00.334Z"
   },
   {
    "duration": 23,
    "start_time": "2022-02-07T18:10:00.372Z"
   },
   {
    "duration": 40,
    "start_time": "2022-02-07T18:10:00.398Z"
   },
   {
    "duration": 71,
    "start_time": "2022-02-07T18:10:00.442Z"
   },
   {
    "duration": 23,
    "start_time": "2022-02-07T18:10:00.516Z"
   },
   {
    "duration": 34,
    "start_time": "2022-02-07T18:10:00.542Z"
   },
   {
    "duration": 16,
    "start_time": "2022-02-07T18:10:00.578Z"
   },
   {
    "duration": 22,
    "start_time": "2022-02-07T18:10:00.597Z"
   },
   {
    "duration": 5778,
    "start_time": "2022-02-07T18:10:00.621Z"
   },
   {
    "duration": 9,
    "start_time": "2022-02-07T18:10:06.401Z"
   },
   {
    "duration": 13,
    "start_time": "2022-02-07T18:10:06.412Z"
   },
   {
    "duration": 60,
    "start_time": "2022-02-07T18:10:06.428Z"
   },
   {
    "duration": 819,
    "start_time": "2022-02-07T18:10:06.492Z"
   },
   {
    "duration": 12,
    "start_time": "2022-02-07T18:10:07.313Z"
   },
   {
    "duration": 430,
    "start_time": "2022-02-07T18:10:07.328Z"
   },
   {
    "duration": 17961,
    "start_time": "2022-02-07T18:10:07.762Z"
   },
   {
    "duration": 569,
    "start_time": "2022-02-07T18:10:25.725Z"
   },
   {
    "duration": 17,
    "start_time": "2022-02-07T18:10:26.297Z"
   },
   {
    "duration": 982,
    "start_time": "2022-02-07T18:10:26.316Z"
   },
   {
    "duration": 276,
    "start_time": "2022-02-07T18:10:27.300Z"
   },
   {
    "duration": 301,
    "start_time": "2022-02-07T18:10:27.579Z"
   },
   {
    "duration": 282,
    "start_time": "2022-02-07T18:10:27.882Z"
   },
   {
    "duration": 345,
    "start_time": "2022-02-07T18:10:28.167Z"
   },
   {
    "duration": 881,
    "start_time": "2022-02-07T19:28:33.950Z"
   },
   {
    "duration": 40,
    "start_time": "2022-02-07T19:28:34.835Z"
   },
   {
    "duration": 36,
    "start_time": "2022-02-07T19:28:34.878Z"
   },
   {
    "duration": 20,
    "start_time": "2022-02-07T19:28:34.917Z"
   },
   {
    "duration": 10,
    "start_time": "2022-02-07T19:28:34.970Z"
   },
   {
    "duration": 12,
    "start_time": "2022-02-07T19:28:34.982Z"
   },
   {
    "duration": 86,
    "start_time": "2022-02-07T19:28:34.996Z"
   },
   {
    "duration": 16,
    "start_time": "2022-02-07T19:28:35.085Z"
   },
   {
    "duration": 23,
    "start_time": "2022-02-07T19:28:35.104Z"
   },
   {
    "duration": 65,
    "start_time": "2022-02-07T19:28:35.129Z"
   },
   {
    "duration": 41,
    "start_time": "2022-02-07T19:28:35.196Z"
   },
   {
    "duration": 38,
    "start_time": "2022-02-07T19:28:35.239Z"
   },
   {
    "duration": 9,
    "start_time": "2022-02-07T19:28:35.279Z"
   },
   {
    "duration": 13,
    "start_time": "2022-02-07T19:28:35.290Z"
   },
   {
    "duration": 10,
    "start_time": "2022-02-07T19:28:35.305Z"
   },
   {
    "duration": 5068,
    "start_time": "2022-02-07T19:28:35.317Z"
   },
   {
    "duration": 9,
    "start_time": "2022-02-07T19:28:40.388Z"
   },
   {
    "duration": 11,
    "start_time": "2022-02-07T19:28:40.399Z"
   },
   {
    "duration": 62,
    "start_time": "2022-02-07T19:28:40.413Z"
   },
   {
    "duration": 404,
    "start_time": "2022-02-07T19:28:40.478Z"
   },
   {
    "duration": 13,
    "start_time": "2022-02-07T19:28:40.885Z"
   },
   {
    "duration": 329,
    "start_time": "2022-02-07T20:20:27.867Z"
   },
   {
    "duration": 787,
    "start_time": "2022-02-07T20:20:34.893Z"
   },
   {
    "duration": 29,
    "start_time": "2022-02-07T20:20:35.682Z"
   },
   {
    "duration": 53,
    "start_time": "2022-02-07T20:20:35.714Z"
   },
   {
    "duration": 9,
    "start_time": "2022-02-07T20:20:35.769Z"
   },
   {
    "duration": 35,
    "start_time": "2022-02-07T20:20:35.780Z"
   },
   {
    "duration": 31,
    "start_time": "2022-02-07T20:20:35.817Z"
   },
   {
    "duration": 13,
    "start_time": "2022-02-07T20:20:35.851Z"
   },
   {
    "duration": 49,
    "start_time": "2022-02-07T20:20:35.868Z"
   },
   {
    "duration": 41,
    "start_time": "2022-02-07T20:20:35.920Z"
   },
   {
    "duration": 21,
    "start_time": "2022-02-07T20:20:35.963Z"
   },
   {
    "duration": 61,
    "start_time": "2022-02-07T20:20:35.987Z"
   },
   {
    "duration": 40,
    "start_time": "2022-02-07T20:20:36.051Z"
   },
   {
    "duration": 21,
    "start_time": "2022-02-07T20:20:36.093Z"
   },
   {
    "duration": 37,
    "start_time": "2022-02-07T20:20:36.117Z"
   },
   {
    "duration": 17,
    "start_time": "2022-02-07T20:20:36.156Z"
   },
   {
    "duration": 18,
    "start_time": "2022-02-07T20:20:36.176Z"
   },
   {
    "duration": 4897,
    "start_time": "2022-02-07T20:20:36.197Z"
   },
   {
    "duration": 8,
    "start_time": "2022-02-07T20:20:41.097Z"
   },
   {
    "duration": 14,
    "start_time": "2022-02-07T20:20:41.108Z"
   },
   {
    "duration": 23,
    "start_time": "2022-02-07T20:20:41.148Z"
   },
   {
    "duration": 401,
    "start_time": "2022-02-07T20:20:41.173Z"
   },
   {
    "duration": 13,
    "start_time": "2022-02-07T20:20:41.577Z"
   },
   {
    "duration": 403,
    "start_time": "2022-02-07T20:20:41.595Z"
   },
   {
    "duration": 17278,
    "start_time": "2022-02-07T20:20:42.002Z"
   },
   {
    "duration": 518,
    "start_time": "2022-02-07T20:20:59.282Z"
   },
   {
    "duration": 16,
    "start_time": "2022-02-07T20:20:59.803Z"
   },
   {
    "duration": 1019,
    "start_time": "2022-02-07T20:20:59.822Z"
   },
   {
    "duration": 251,
    "start_time": "2022-02-07T20:21:00.847Z"
   },
   {
    "duration": 280,
    "start_time": "2022-02-07T20:21:01.101Z"
   },
   {
    "duration": 268,
    "start_time": "2022-02-07T20:21:01.383Z"
   },
   {
    "duration": 339,
    "start_time": "2022-02-07T20:21:01.654Z"
   },
   {
    "duration": 11,
    "start_time": "2022-02-07T20:21:38.908Z"
   },
   {
    "duration": 11,
    "start_time": "2022-02-07T20:21:47.485Z"
   },
   {
    "duration": 9,
    "start_time": "2022-02-07T20:22:02.692Z"
   },
   {
    "duration": 12,
    "start_time": "2022-02-07T20:24:53.914Z"
   },
   {
    "duration": 79,
    "start_time": "2022-02-07T20:26:07.950Z"
   },
   {
    "duration": 24,
    "start_time": "2022-02-07T20:26:08.031Z"
   },
   {
    "duration": 39,
    "start_time": "2022-02-07T20:26:08.058Z"
   },
   {
    "duration": 8,
    "start_time": "2022-02-07T20:26:08.099Z"
   },
   {
    "duration": 53,
    "start_time": "2022-02-07T20:26:08.110Z"
   },
   {
    "duration": 10,
    "start_time": "2022-02-07T20:26:08.166Z"
   },
   {
    "duration": 10,
    "start_time": "2022-02-07T20:26:11.300Z"
   },
   {
    "duration": 13,
    "start_time": "2022-02-07T20:26:11.829Z"
   },
   {
    "duration": 3,
    "start_time": "2022-02-07T20:33:53.902Z"
   },
   {
    "duration": 145,
    "start_time": "2022-02-07T20:39:24.382Z"
   },
   {
    "duration": 125,
    "start_time": "2022-02-07T20:39:45.496Z"
   },
   {
    "duration": 97,
    "start_time": "2022-02-07T20:47:07.808Z"
   },
   {
    "duration": 75,
    "start_time": "2022-02-07T21:03:35.388Z"
   },
   {
    "duration": 20,
    "start_time": "2022-02-07T21:03:38.187Z"
   },
   {
    "duration": 36,
    "start_time": "2022-02-07T21:03:42.597Z"
   },
   {
    "duration": 10,
    "start_time": "2022-02-07T21:04:03.363Z"
   },
   {
    "duration": 20,
    "start_time": "2022-02-07T21:04:09.611Z"
   },
   {
    "duration": 10,
    "start_time": "2022-02-07T21:04:17.747Z"
   },
   {
    "duration": 14,
    "start_time": "2022-02-07T21:04:19.180Z"
   },
   {
    "duration": 14,
    "start_time": "2022-02-07T21:04:42.904Z"
   },
   {
    "duration": 4,
    "start_time": "2022-02-07T21:04:47.891Z"
   },
   {
    "duration": 136940,
    "start_time": "2022-02-07T21:04:49.659Z"
   },
   {
    "duration": 19,
    "start_time": "2022-02-07T21:09:37.749Z"
   },
   {
    "duration": 22,
    "start_time": "2022-02-07T21:09:48.175Z"
   },
   {
    "duration": 36,
    "start_time": "2022-02-07T21:09:54.594Z"
   },
   {
    "duration": 41,
    "start_time": "2022-02-07T21:09:56.358Z"
   },
   {
    "duration": 24,
    "start_time": "2022-02-07T21:10:06.047Z"
   },
   {
    "duration": 10,
    "start_time": "2022-02-07T21:10:07.478Z"
   },
   {
    "duration": 10,
    "start_time": "2022-02-07T21:10:08.524Z"
   },
   {
    "duration": 10,
    "start_time": "2022-02-07T21:23:44.049Z"
   },
   {
    "duration": 101,
    "start_time": "2022-02-07T21:24:41.099Z"
   },
   {
    "duration": 20,
    "start_time": "2022-02-07T21:24:42.313Z"
   },
   {
    "duration": 34,
    "start_time": "2022-02-07T21:24:44.578Z"
   },
   {
    "duration": 12,
    "start_time": "2022-02-07T21:24:46.102Z"
   },
   {
    "duration": 23,
    "start_time": "2022-02-07T21:24:47.637Z"
   },
   {
    "duration": 9,
    "start_time": "2022-02-07T21:24:48.567Z"
   },
   {
    "duration": 16,
    "start_time": "2022-02-07T21:24:49.005Z"
   },
   {
    "duration": 12,
    "start_time": "2022-02-07T21:24:52.688Z"
   },
   {
    "duration": 3,
    "start_time": "2022-02-07T21:24:54.451Z"
   },
   {
    "duration": 132583,
    "start_time": "2022-02-07T21:24:54.907Z"
   },
   {
    "duration": 16,
    "start_time": "2022-02-07T21:28:11.014Z"
   },
   {
    "duration": 21,
    "start_time": "2022-02-07T21:28:14.040Z"
   },
   {
    "duration": 35,
    "start_time": "2022-02-07T21:28:15.493Z"
   },
   {
    "duration": 40,
    "start_time": "2022-02-07T21:28:16.299Z"
   },
   {
    "duration": 22,
    "start_time": "2022-02-07T21:28:17.679Z"
   },
   {
    "duration": 10,
    "start_time": "2022-02-07T21:28:20.543Z"
   },
   {
    "duration": 11,
    "start_time": "2022-02-07T21:28:21.514Z"
   },
   {
    "duration": 11,
    "start_time": "2022-02-07T21:28:27.425Z"
   },
   {
    "duration": 5065,
    "start_time": "2022-02-07T21:28:50.666Z"
   },
   {
    "duration": 752,
    "start_time": "2022-02-08T18:02:25.935Z"
   },
   {
    "duration": 25,
    "start_time": "2022-02-08T18:02:26.690Z"
   },
   {
    "duration": 42,
    "start_time": "2022-02-08T18:02:26.719Z"
   },
   {
    "duration": 21,
    "start_time": "2022-02-08T18:02:26.763Z"
   },
   {
    "duration": 48,
    "start_time": "2022-02-08T18:02:26.786Z"
   },
   {
    "duration": 26,
    "start_time": "2022-02-08T18:02:26.837Z"
   },
   {
    "duration": 31,
    "start_time": "2022-02-08T18:02:26.865Z"
   },
   {
    "duration": 32,
    "start_time": "2022-02-08T18:02:26.899Z"
   },
   {
    "duration": 34,
    "start_time": "2022-02-08T18:02:26.934Z"
   },
   {
    "duration": 103365,
    "start_time": "2022-02-08T18:02:26.970Z"
   },
   {
    "duration": 15,
    "start_time": "2022-02-08T18:04:10.337Z"
   },
   {
    "duration": 16,
    "start_time": "2022-02-08T18:04:10.353Z"
   },
   {
    "duration": 44,
    "start_time": "2022-02-08T18:04:10.371Z"
   },
   {
    "duration": 29,
    "start_time": "2022-02-08T18:04:10.417Z"
   },
   {
    "duration": 15,
    "start_time": "2022-02-08T18:04:10.448Z"
   },
   {
    "duration": 54,
    "start_time": "2022-02-08T18:04:10.465Z"
   },
   {
    "duration": 38,
    "start_time": "2022-02-08T18:04:10.520Z"
   },
   {
    "duration": 26,
    "start_time": "2022-02-08T18:04:10.560Z"
   },
   {
    "duration": 14,
    "start_time": "2022-02-08T18:15:58.718Z"
   },
   {
    "duration": 16,
    "start_time": "2022-02-08T18:16:22.510Z"
   },
   {
    "duration": 27,
    "start_time": "2022-02-08T18:16:23.764Z"
   },
   {
    "duration": 31,
    "start_time": "2022-02-08T18:16:24.984Z"
   },
   {
    "duration": 17,
    "start_time": "2022-02-08T18:16:38.369Z"
   },
   {
    "duration": 20,
    "start_time": "2022-02-08T18:16:55.094Z"
   },
   {
    "duration": 16,
    "start_time": "2022-02-08T18:16:56.674Z"
   },
   {
    "duration": 61,
    "start_time": "2022-02-08T18:17:08.608Z"
   },
   {
    "duration": 14,
    "start_time": "2022-02-08T18:17:08.671Z"
   },
   {
    "duration": 50,
    "start_time": "2022-02-08T18:17:08.687Z"
   },
   {
    "duration": 12,
    "start_time": "2022-02-08T18:17:08.739Z"
   },
   {
    "duration": 26,
    "start_time": "2022-02-08T18:17:08.753Z"
   },
   {
    "duration": 17,
    "start_time": "2022-02-08T18:17:08.782Z"
   },
   {
    "duration": 27,
    "start_time": "2022-02-08T18:17:08.804Z"
   },
   {
    "duration": 24,
    "start_time": "2022-02-08T18:17:08.833Z"
   },
   {
    "duration": 44,
    "start_time": "2022-02-08T18:17:08.859Z"
   },
   {
    "duration": 106264,
    "start_time": "2022-02-08T18:17:08.906Z"
   },
   {
    "duration": 11,
    "start_time": "2022-02-08T18:18:55.172Z"
   },
   {
    "duration": 15,
    "start_time": "2022-02-08T18:19:00.172Z"
   },
   {
    "duration": 37,
    "start_time": "2022-02-08T18:19:01.302Z"
   },
   {
    "duration": 39,
    "start_time": "2022-02-08T18:19:02.114Z"
   },
   {
    "duration": 17,
    "start_time": "2022-02-08T18:19:02.759Z"
   },
   {
    "duration": 12,
    "start_time": "2022-02-08T18:19:03.813Z"
   },
   {
    "duration": 8,
    "start_time": "2022-02-08T18:19:04.624Z"
   },
   {
    "duration": 8,
    "start_time": "2022-02-08T18:19:05.951Z"
   },
   {
    "duration": 4111,
    "start_time": "2022-02-08T18:19:15.688Z"
   },
   {
    "duration": 3265,
    "start_time": "2022-02-08T18:20:17.490Z"
   },
   {
    "duration": 3343,
    "start_time": "2022-02-08T18:20:52.879Z"
   },
   {
    "duration": 3617,
    "start_time": "2022-02-08T18:21:43.171Z"
   },
   {
    "duration": 3562,
    "start_time": "2022-02-08T18:21:57.924Z"
   },
   {
    "duration": 73,
    "start_time": "2022-02-08T18:42:21.573Z"
   },
   {
    "duration": 4595,
    "start_time": "2022-02-08T18:42:45.730Z"
   },
   {
    "duration": 3512,
    "start_time": "2022-02-08T18:44:51.714Z"
   },
   {
    "duration": 3402,
    "start_time": "2022-02-08T18:47:27.707Z"
   },
   {
    "duration": 3411,
    "start_time": "2022-02-08T18:47:54.981Z"
   },
   {
    "duration": 3115,
    "start_time": "2022-02-08T18:50:15.186Z"
   },
   {
    "duration": 3188,
    "start_time": "2022-02-08T18:54:53.735Z"
   },
   {
    "duration": 3021,
    "start_time": "2022-02-08T18:55:32.797Z"
   },
   {
    "duration": 3458,
    "start_time": "2022-02-08T18:55:54.721Z"
   },
   {
    "duration": 3114,
    "start_time": "2022-02-08T18:56:17.307Z"
   },
   {
    "duration": 2842,
    "start_time": "2022-02-08T19:01:38.282Z"
   },
   {
    "duration": 3069,
    "start_time": "2022-02-08T19:04:13.661Z"
   },
   {
    "duration": 3391,
    "start_time": "2022-02-08T19:06:09.014Z"
   },
   {
    "duration": 3157,
    "start_time": "2022-02-08T19:07:27.774Z"
   },
   {
    "duration": 3105,
    "start_time": "2022-02-08T19:08:08.591Z"
   },
   {
    "duration": 3165,
    "start_time": "2022-02-08T19:09:17.252Z"
   },
   {
    "duration": 6462,
    "start_time": "2022-02-08T19:10:05.856Z"
   },
   {
    "duration": 3466,
    "start_time": "2022-02-08T19:12:26.774Z"
   },
   {
    "duration": 3211,
    "start_time": "2022-02-08T19:12:46.036Z"
   },
   {
    "duration": 3139,
    "start_time": "2022-02-08T19:13:36.027Z"
   },
   {
    "duration": 3271,
    "start_time": "2022-02-08T19:15:41.182Z"
   },
   {
    "duration": 3158,
    "start_time": "2022-02-08T19:15:54.829Z"
   },
   {
    "duration": 3135,
    "start_time": "2022-02-08T19:16:03.892Z"
   },
   {
    "duration": 3571,
    "start_time": "2022-02-08T19:20:15.783Z"
   },
   {
    "duration": 3296,
    "start_time": "2022-02-08T19:25:23.487Z"
   },
   {
    "duration": 3072,
    "start_time": "2022-02-08T19:26:27.505Z"
   },
   {
    "duration": 3237,
    "start_time": "2022-02-08T19:26:46.244Z"
   },
   {
    "duration": 3150,
    "start_time": "2022-02-08T19:27:14.490Z"
   },
   {
    "duration": 3351,
    "start_time": "2022-02-08T19:27:29.962Z"
   },
   {
    "duration": 3101,
    "start_time": "2022-02-08T19:28:25.011Z"
   },
   {
    "duration": 2928,
    "start_time": "2022-02-08T19:31:05.314Z"
   },
   {
    "duration": 2959,
    "start_time": "2022-02-08T19:31:40.777Z"
   },
   {
    "duration": 2926,
    "start_time": "2022-02-08T19:32:22.879Z"
   },
   {
    "duration": 3316,
    "start_time": "2022-02-08T19:33:49.059Z"
   },
   {
    "duration": 2862,
    "start_time": "2022-02-08T19:34:09.741Z"
   },
   {
    "duration": 3214,
    "start_time": "2022-02-08T19:34:51.997Z"
   },
   {
    "duration": 3127,
    "start_time": "2022-02-08T20:45:53.676Z"
   },
   {
    "duration": 3173,
    "start_time": "2022-02-08T20:46:29.227Z"
   },
   {
    "duration": 2905,
    "start_time": "2022-02-08T20:46:45.165Z"
   },
   {
    "duration": 2848,
    "start_time": "2022-02-08T20:47:38.717Z"
   },
   {
    "duration": 85,
    "start_time": "2022-02-08T20:49:03.086Z"
   },
   {
    "duration": 95,
    "start_time": "2022-02-08T20:49:20.160Z"
   },
   {
    "duration": 2871,
    "start_time": "2022-02-08T20:49:26.428Z"
   },
   {
    "duration": 3602,
    "start_time": "2022-02-08T20:53:30.122Z"
   },
   {
    "duration": 7795,
    "start_time": "2022-02-08T20:54:40.248Z"
   },
   {
    "duration": 3707,
    "start_time": "2022-02-08T20:55:39.076Z"
   },
   {
    "duration": 3400,
    "start_time": "2022-02-08T20:56:17.899Z"
   },
   {
    "duration": 3733,
    "start_time": "2022-02-08T20:57:25.839Z"
   },
   {
    "duration": 3375,
    "start_time": "2022-02-08T20:57:43.065Z"
   },
   {
    "duration": 8874,
    "start_time": "2022-02-08T21:00:09.314Z"
   },
   {
    "duration": 8998,
    "start_time": "2022-02-08T21:00:32.674Z"
   },
   {
    "duration": 9068,
    "start_time": "2022-02-08T21:01:12.372Z"
   },
   {
    "duration": 10392,
    "start_time": "2022-02-08T21:01:38.490Z"
   },
   {
    "duration": 8865,
    "start_time": "2022-02-08T21:02:27.420Z"
   },
   {
    "duration": 9507,
    "start_time": "2022-02-08T21:06:14.464Z"
   },
   {
    "duration": 7,
    "start_time": "2022-02-08T21:06:40.290Z"
   },
   {
    "duration": 9,
    "start_time": "2022-02-08T21:06:42.278Z"
   },
   {
    "duration": 6,
    "start_time": "2022-02-08T21:10:14.799Z"
   },
   {
    "duration": 77,
    "start_time": "2022-02-08T21:10:25.243Z"
   },
   {
    "duration": 13,
    "start_time": "2022-02-08T21:10:25.323Z"
   },
   {
    "duration": 26,
    "start_time": "2022-02-08T21:10:25.338Z"
   },
   {
    "duration": 5,
    "start_time": "2022-02-08T21:10:25.366Z"
   },
   {
    "duration": 38,
    "start_time": "2022-02-08T21:10:25.373Z"
   },
   {
    "duration": 7,
    "start_time": "2022-02-08T21:10:25.412Z"
   },
   {
    "duration": 12,
    "start_time": "2022-02-08T21:10:25.421Z"
   },
   {
    "duration": 10,
    "start_time": "2022-02-08T21:10:25.436Z"
   },
   {
    "duration": 4,
    "start_time": "2022-02-08T21:10:25.448Z"
   },
   {
    "duration": 99340,
    "start_time": "2022-02-08T21:10:25.454Z"
   },
   {
    "duration": 12,
    "start_time": "2022-02-08T21:12:04.798Z"
   },
   {
    "duration": 23,
    "start_time": "2022-02-08T21:12:04.812Z"
   },
   {
    "duration": 28,
    "start_time": "2022-02-08T21:12:04.837Z"
   },
   {
    "duration": 46,
    "start_time": "2022-02-08T21:12:04.866Z"
   },
   {
    "duration": 15,
    "start_time": "2022-02-08T21:12:04.914Z"
   },
   {
    "duration": 7,
    "start_time": "2022-02-08T21:12:04.931Z"
   },
   {
    "duration": 11,
    "start_time": "2022-02-08T21:12:04.940Z"
   },
   {
    "duration": 14,
    "start_time": "2022-02-08T21:12:04.952Z"
   },
   {
    "duration": 9483,
    "start_time": "2022-02-08T21:12:04.968Z"
   },
   {
    "duration": 7,
    "start_time": "2022-02-08T21:12:14.453Z"
   },
   {
    "duration": 269,
    "start_time": "2022-02-08T21:23:02.699Z"
   },
   {
    "duration": 315,
    "start_time": "2022-02-08T21:23:13.993Z"
   },
   {
    "duration": 18,
    "start_time": "2022-02-08T21:24:01.594Z"
   },
   {
    "duration": 14,
    "start_time": "2022-02-08T21:25:33.658Z"
   },
   {
    "duration": 13,
    "start_time": "2022-02-08T21:25:52.183Z"
   },
   {
    "duration": 1882,
    "start_time": "2022-02-08T21:27:11.326Z"
   },
   {
    "duration": 2012,
    "start_time": "2022-02-08T21:27:29.817Z"
   },
   {
    "duration": 1881,
    "start_time": "2022-02-08T21:27:43.272Z"
   },
   {
    "duration": 2,
    "start_time": "2022-02-08T21:28:20.920Z"
   },
   {
    "duration": 265,
    "start_time": "2022-02-08T21:28:32.043Z"
   },
   {
    "duration": 11,
    "start_time": "2022-02-08T21:28:39.917Z"
   },
   {
    "duration": 260,
    "start_time": "2022-02-08T21:28:47.711Z"
   },
   {
    "duration": 12641,
    "start_time": "2022-02-08T21:29:03.710Z"
   },
   {
    "duration": 12055,
    "start_time": "2022-02-08T21:31:27.519Z"
   },
   {
    "duration": 332,
    "start_time": "2022-02-08T21:34:32.960Z"
   },
   {
    "duration": 12,
    "start_time": "2022-02-08T21:36:56.140Z"
   },
   {
    "duration": 684,
    "start_time": "2022-02-08T21:37:46.306Z"
   },
   {
    "duration": 63,
    "start_time": "2022-02-08T21:38:06.059Z"
   },
   {
    "duration": 15,
    "start_time": "2022-02-08T21:38:06.124Z"
   },
   {
    "duration": 29,
    "start_time": "2022-02-08T21:38:06.141Z"
   },
   {
    "duration": 7,
    "start_time": "2022-02-08T21:38:06.199Z"
   },
   {
    "duration": 15,
    "start_time": "2022-02-08T21:38:06.208Z"
   },
   {
    "duration": 8,
    "start_time": "2022-02-08T21:38:06.225Z"
   },
   {
    "duration": 10,
    "start_time": "2022-02-08T21:38:06.235Z"
   },
   {
    "duration": 52,
    "start_time": "2022-02-08T21:38:06.248Z"
   },
   {
    "duration": 3,
    "start_time": "2022-02-08T21:38:06.302Z"
   },
   {
    "duration": 100949,
    "start_time": "2022-02-08T21:38:06.306Z"
   },
   {
    "duration": 13,
    "start_time": "2022-02-08T21:39:47.257Z"
   },
   {
    "duration": 31,
    "start_time": "2022-02-08T21:39:47.272Z"
   },
   {
    "duration": 26,
    "start_time": "2022-02-08T21:39:47.305Z"
   },
   {
    "duration": 30,
    "start_time": "2022-02-08T21:39:47.332Z"
   },
   {
    "duration": 37,
    "start_time": "2022-02-08T21:39:47.364Z"
   },
   {
    "duration": 7,
    "start_time": "2022-02-08T21:39:47.403Z"
   },
   {
    "duration": 10,
    "start_time": "2022-02-08T21:39:47.412Z"
   },
   {
    "duration": 10,
    "start_time": "2022-02-08T21:39:47.424Z"
   },
   {
    "duration": 9370,
    "start_time": "2022-02-08T21:39:47.435Z"
   },
   {
    "duration": 7,
    "start_time": "2022-02-08T21:39:56.806Z"
   },
   {
    "duration": 37,
    "start_time": "2022-02-08T21:39:56.814Z"
   },
   {
    "duration": 9,
    "start_time": "2022-02-08T21:39:56.853Z"
   },
   {
    "duration": 263,
    "start_time": "2022-02-08T21:39:56.866Z"
   },
   {
    "duration": 10,
    "start_time": "2022-02-08T21:39:57.132Z"
   },
   {
    "duration": 265,
    "start_time": "2022-02-08T21:39:57.143Z"
   },
   {
    "duration": 12318,
    "start_time": "2022-02-08T21:39:57.409Z"
   },
   {
    "duration": 351,
    "start_time": "2022-02-08T21:40:09.729Z"
   },
   {
    "duration": 22,
    "start_time": "2022-02-08T21:40:10.081Z"
   },
   {
    "duration": 757,
    "start_time": "2022-02-08T21:45:41.751Z"
   },
   {
    "duration": 192,
    "start_time": "2022-02-08T21:46:20.097Z"
   },
   {
    "duration": 419,
    "start_time": "2022-02-08T21:47:38.373Z"
   },
   {
    "duration": 204,
    "start_time": "2022-02-08T21:47:45.928Z"
   },
   {
    "duration": 176,
    "start_time": "2022-02-08T21:50:12.763Z"
   },
   {
    "duration": 95,
    "start_time": "2022-02-08T21:50:36.411Z"
   },
   {
    "duration": 15,
    "start_time": "2022-02-08T21:50:36.509Z"
   },
   {
    "duration": 31,
    "start_time": "2022-02-08T21:50:36.526Z"
   },
   {
    "duration": 6,
    "start_time": "2022-02-08T21:50:36.560Z"
   },
   {
    "duration": 39,
    "start_time": "2022-02-08T21:50:36.568Z"
   },
   {
    "duration": 10,
    "start_time": "2022-02-08T21:50:36.609Z"
   },
   {
    "duration": 9,
    "start_time": "2022-02-08T21:50:36.621Z"
   },
   {
    "duration": 8,
    "start_time": "2022-02-08T21:50:36.632Z"
   },
   {
    "duration": 6,
    "start_time": "2022-02-08T21:50:36.643Z"
   },
   {
    "duration": 104715,
    "start_time": "2022-02-08T21:50:36.651Z"
   },
   {
    "duration": 13,
    "start_time": "2022-02-08T21:52:21.368Z"
   },
   {
    "duration": 30,
    "start_time": "2022-02-08T21:52:21.383Z"
   },
   {
    "duration": 28,
    "start_time": "2022-02-08T21:52:21.415Z"
   },
   {
    "duration": 58,
    "start_time": "2022-02-08T21:52:21.445Z"
   },
   {
    "duration": 17,
    "start_time": "2022-02-08T21:52:21.505Z"
   },
   {
    "duration": 7,
    "start_time": "2022-02-08T21:52:21.524Z"
   },
   {
    "duration": 11,
    "start_time": "2022-02-08T21:52:21.533Z"
   },
   {
    "duration": 20,
    "start_time": "2022-02-08T21:52:21.546Z"
   },
   {
    "duration": 10047,
    "start_time": "2022-02-08T21:52:21.568Z"
   },
   {
    "duration": 8,
    "start_time": "2022-02-08T21:52:31.618Z"
   },
   {
    "duration": 27,
    "start_time": "2022-02-08T21:52:31.628Z"
   },
   {
    "duration": 3,
    "start_time": "2022-02-08T21:52:31.657Z"
   },
   {
    "duration": 285,
    "start_time": "2022-02-08T21:52:31.663Z"
   },
   {
    "duration": 11,
    "start_time": "2022-02-08T21:52:31.950Z"
   },
   {
    "duration": 274,
    "start_time": "2022-02-08T21:52:31.963Z"
   },
   {
    "duration": 12299,
    "start_time": "2022-02-08T21:52:32.239Z"
   },
   {
    "duration": 369,
    "start_time": "2022-02-08T21:52:44.540Z"
   },
   {
    "duration": 12,
    "start_time": "2022-02-08T21:52:44.910Z"
   },
   {
    "duration": 185,
    "start_time": "2022-02-08T21:52:52.529Z"
   },
   {
    "duration": 544,
    "start_time": "2022-02-08T21:54:03.747Z"
   },
   {
    "duration": 442,
    "start_time": "2022-02-08T21:54:33.498Z"
   },
   {
    "duration": 756,
    "start_time": "2022-02-08T21:55:43.736Z"
   },
   {
    "duration": 164,
    "start_time": "2022-02-08T21:58:15.034Z"
   },
   {
    "duration": 467,
    "start_time": "2022-02-08T21:59:31.691Z"
   },
   {
    "duration": 201,
    "start_time": "2022-02-08T22:06:33.553Z"
   },
   {
    "duration": 200,
    "start_time": "2022-02-08T22:07:06.676Z"
   },
   {
    "duration": 183,
    "start_time": "2022-02-08T22:07:33.560Z"
   },
   {
    "duration": 190,
    "start_time": "2022-02-08T22:08:15.352Z"
   },
   {
    "duration": 185,
    "start_time": "2022-02-08T22:09:48.170Z"
   },
   {
    "duration": 6839,
    "start_time": "2022-02-08T22:11:34.431Z"
   },
   {
    "duration": 286,
    "start_time": "2022-02-08T22:12:58.019Z"
   },
   {
    "duration": 200,
    "start_time": "2022-02-08T22:13:15.890Z"
   },
   {
    "duration": 286,
    "start_time": "2022-02-08T22:14:03.152Z"
   },
   {
    "duration": 191,
    "start_time": "2022-02-08T22:14:10.196Z"
   },
   {
    "duration": 474,
    "start_time": "2022-02-08T22:15:31.845Z"
   },
   {
    "duration": 85,
    "start_time": "2022-02-08T22:16:14.655Z"
   },
   {
    "duration": 174,
    "start_time": "2022-02-08T22:16:27.484Z"
   },
   {
    "duration": 311,
    "start_time": "2022-02-08T22:20:59.506Z"
   },
   {
    "duration": 213,
    "start_time": "2022-02-08T22:21:38.306Z"
   },
   {
    "duration": 220,
    "start_time": "2022-02-08T22:22:02.639Z"
   },
   {
    "duration": 191,
    "start_time": "2022-02-08T22:25:28.953Z"
   },
   {
    "duration": 193,
    "start_time": "2022-02-08T22:27:17.442Z"
   },
   {
    "duration": 201,
    "start_time": "2022-02-08T22:27:33.167Z"
   },
   {
    "duration": 200,
    "start_time": "2022-02-08T22:28:39.933Z"
   },
   {
    "duration": 197,
    "start_time": "2022-02-08T22:28:58.966Z"
   },
   {
    "duration": 436,
    "start_time": "2022-02-08T22:31:01.743Z"
   },
   {
    "duration": 428,
    "start_time": "2022-02-08T22:31:22.630Z"
   },
   {
    "duration": 164,
    "start_time": "2022-02-08T22:31:31.015Z"
   },
   {
    "duration": 63,
    "start_time": "2022-02-08T22:32:24.458Z"
   },
   {
    "duration": 163,
    "start_time": "2022-02-08T22:33:10.840Z"
   },
   {
    "duration": 183,
    "start_time": "2022-02-08T22:34:08.698Z"
   },
   {
    "duration": 191,
    "start_time": "2022-02-08T22:36:31.837Z"
   },
   {
    "duration": 185,
    "start_time": "2022-02-08T22:37:25.564Z"
   },
   {
    "duration": 171,
    "start_time": "2022-02-08T22:38:26.608Z"
   },
   {
    "duration": 68,
    "start_time": "2022-02-08T22:44:11.263Z"
   },
   {
    "duration": 15,
    "start_time": "2022-02-08T22:44:11.333Z"
   },
   {
    "duration": 49,
    "start_time": "2022-02-08T22:44:11.351Z"
   },
   {
    "duration": 6,
    "start_time": "2022-02-08T22:44:11.402Z"
   },
   {
    "duration": 17,
    "start_time": "2022-02-08T22:44:11.410Z"
   },
   {
    "duration": 7,
    "start_time": "2022-02-08T22:44:11.429Z"
   },
   {
    "duration": 12,
    "start_time": "2022-02-08T22:44:11.438Z"
   },
   {
    "duration": 45,
    "start_time": "2022-02-08T22:44:11.453Z"
   },
   {
    "duration": 3,
    "start_time": "2022-02-08T22:44:11.501Z"
   },
   {
    "duration": 101828,
    "start_time": "2022-02-08T22:44:11.506Z"
   },
   {
    "duration": 12,
    "start_time": "2022-02-08T22:45:53.336Z"
   },
   {
    "duration": 16,
    "start_time": "2022-02-08T22:45:53.351Z"
   },
   {
    "duration": 53,
    "start_time": "2022-02-08T22:45:53.369Z"
   },
   {
    "duration": 34,
    "start_time": "2022-02-08T22:45:53.424Z"
   },
   {
    "duration": 43,
    "start_time": "2022-02-08T22:45:53.460Z"
   },
   {
    "duration": 10,
    "start_time": "2022-02-08T22:45:53.505Z"
   },
   {
    "duration": 12,
    "start_time": "2022-02-08T22:45:53.517Z"
   },
   {
    "duration": 12,
    "start_time": "2022-02-08T22:45:53.530Z"
   },
   {
    "duration": 9856,
    "start_time": "2022-02-08T22:45:53.544Z"
   },
   {
    "duration": 8,
    "start_time": "2022-02-08T22:46:03.402Z"
   },
   {
    "duration": 22,
    "start_time": "2022-02-08T22:46:03.413Z"
   },
   {
    "duration": 2,
    "start_time": "2022-02-08T22:46:03.438Z"
   },
   {
    "duration": 289,
    "start_time": "2022-02-08T22:46:03.445Z"
   },
   {
    "duration": 12,
    "start_time": "2022-02-08T22:46:03.736Z"
   },
   {
    "duration": 272,
    "start_time": "2022-02-08T22:46:03.750Z"
   },
   {
    "duration": 12195,
    "start_time": "2022-02-08T22:46:04.025Z"
   },
   {
    "duration": 364,
    "start_time": "2022-02-08T22:46:16.222Z"
   },
   {
    "duration": 22,
    "start_time": "2022-02-08T22:46:16.589Z"
   },
   {
    "duration": 359,
    "start_time": "2022-02-08T22:46:16.614Z"
   },
   {
    "duration": 180,
    "start_time": "2022-02-08T22:46:16.975Z"
   },
   {
    "duration": 210,
    "start_time": "2022-02-08T22:46:17.157Z"
   },
   {
    "duration": 196,
    "start_time": "2022-02-08T22:46:17.370Z"
   },
   {
    "duration": 206,
    "start_time": "2022-02-08T22:46:17.569Z"
   },
   {
    "duration": 1082,
    "start_time": "2022-02-09T17:47:50.182Z"
   },
   {
    "duration": 14,
    "start_time": "2022-02-09T17:47:51.266Z"
   },
   {
    "duration": 19,
    "start_time": "2022-02-09T17:47:51.282Z"
   },
   {
    "duration": 5,
    "start_time": "2022-02-09T17:47:51.303Z"
   },
   {
    "duration": 11,
    "start_time": "2022-02-09T17:47:51.309Z"
   },
   {
    "duration": 6,
    "start_time": "2022-02-09T17:47:51.322Z"
   },
   {
    "duration": 6,
    "start_time": "2022-02-09T17:47:51.330Z"
   },
   {
    "duration": 7,
    "start_time": "2022-02-09T17:47:51.372Z"
   },
   {
    "duration": 2,
    "start_time": "2022-02-09T17:47:51.381Z"
   },
   {
    "duration": 84821,
    "start_time": "2022-02-09T17:47:51.385Z"
   },
   {
    "duration": 11,
    "start_time": "2022-02-09T17:49:16.207Z"
   },
   {
    "duration": 13,
    "start_time": "2022-02-09T17:49:16.219Z"
   },
   {
    "duration": 42,
    "start_time": "2022-02-09T17:49:16.233Z"
   },
   {
    "duration": 24,
    "start_time": "2022-02-09T17:49:16.276Z"
   },
   {
    "duration": 11,
    "start_time": "2022-02-09T17:49:16.302Z"
   },
   {
    "duration": 6,
    "start_time": "2022-02-09T17:49:16.315Z"
   },
   {
    "duration": 7,
    "start_time": "2022-02-09T17:49:16.322Z"
   },
   {
    "duration": 9,
    "start_time": "2022-02-09T17:49:16.330Z"
   },
   {
    "duration": 8483,
    "start_time": "2022-02-09T17:49:16.340Z"
   },
   {
    "duration": 7,
    "start_time": "2022-02-09T17:49:24.825Z"
   },
   {
    "duration": 22,
    "start_time": "2022-02-09T17:49:24.834Z"
   },
   {
    "duration": 3,
    "start_time": "2022-02-09T17:49:24.872Z"
   },
   {
    "duration": 234,
    "start_time": "2022-02-09T17:49:24.879Z"
   },
   {
    "duration": 8,
    "start_time": "2022-02-09T17:49:25.115Z"
   },
   {
    "duration": 231,
    "start_time": "2022-02-09T17:49:25.124Z"
   },
   {
    "duration": 10225,
    "start_time": "2022-02-09T17:49:25.356Z"
   },
   {
    "duration": 310,
    "start_time": "2022-02-09T17:49:35.583Z"
   },
   {
    "duration": 10,
    "start_time": "2022-02-09T17:49:35.895Z"
   },
   {
    "duration": 155,
    "start_time": "2022-02-09T17:49:35.906Z"
   },
   {
    "duration": 135,
    "start_time": "2022-02-09T17:49:36.063Z"
   },
   {
    "duration": 154,
    "start_time": "2022-02-09T17:49:36.200Z"
   },
   {
    "duration": 139,
    "start_time": "2022-02-09T17:49:36.355Z"
   },
   {
    "duration": 203,
    "start_time": "2022-02-09T17:49:36.496Z"
   },
   {
    "duration": 4,
    "start_time": "2022-02-09T18:11:29.031Z"
   },
   {
    "duration": 134,
    "start_time": "2022-02-09T18:11:44.775Z"
   },
   {
    "duration": 3,
    "start_time": "2022-02-09T18:12:26.582Z"
   },
   {
    "duration": 5936,
    "start_time": "2022-02-09T18:12:29.793Z"
   },
   {
    "duration": 4,
    "start_time": "2022-02-09T18:12:49.705Z"
   },
   {
    "duration": 7836,
    "start_time": "2022-02-09T18:12:51.093Z"
   },
   {
    "duration": 5,
    "start_time": "2022-02-09T18:13:00.075Z"
   },
   {
    "duration": 6275,
    "start_time": "2022-02-09T18:13:01.648Z"
   },
   {
    "duration": 4,
    "start_time": "2022-02-09T18:13:31.305Z"
   },
   {
    "duration": 119,
    "start_time": "2022-02-09T18:13:32.195Z"
   },
   {
    "duration": 3,
    "start_time": "2022-02-09T18:13:44.945Z"
   },
   {
    "duration": 102,
    "start_time": "2022-02-09T18:13:45.406Z"
   },
   {
    "duration": 3,
    "start_time": "2022-02-09T18:13:52.497Z"
   },
   {
    "duration": 455,
    "start_time": "2022-02-09T18:13:53.155Z"
   },
   {
    "duration": 3,
    "start_time": "2022-02-09T18:13:58.994Z"
   },
   {
    "duration": 125,
    "start_time": "2022-02-09T18:14:00.021Z"
   },
   {
    "duration": 3,
    "start_time": "2022-02-09T18:14:07.036Z"
   },
   {
    "duration": 119,
    "start_time": "2022-02-09T18:14:07.378Z"
   },
   {
    "duration": 4,
    "start_time": "2022-02-09T18:14:23.595Z"
   },
   {
    "duration": 483,
    "start_time": "2022-02-09T18:14:23.958Z"
   },
   {
    "duration": 3,
    "start_time": "2022-02-09T18:14:34.120Z"
   },
   {
    "duration": 453,
    "start_time": "2022-02-09T18:14:35.068Z"
   },
   {
    "duration": 4,
    "start_time": "2022-02-09T18:14:52.958Z"
   },
   {
    "duration": 619,
    "start_time": "2022-02-09T18:14:53.345Z"
   },
   {
    "duration": 4,
    "start_time": "2022-02-09T18:15:11.056Z"
   },
   {
    "duration": 16,
    "start_time": "2022-02-09T18:15:11.434Z"
   },
   {
    "duration": 4,
    "start_time": "2022-02-09T18:15:24.494Z"
   },
   {
    "duration": 131,
    "start_time": "2022-02-09T18:15:24.837Z"
   },
   {
    "duration": 3,
    "start_time": "2022-02-09T18:15:42.696Z"
   },
   {
    "duration": 120,
    "start_time": "2022-02-09T18:15:43.313Z"
   },
   {
    "duration": 4,
    "start_time": "2022-02-09T18:15:51.104Z"
   },
   {
    "duration": 121,
    "start_time": "2022-02-09T18:15:51.755Z"
   },
   {
    "duration": 4,
    "start_time": "2022-02-09T18:16:03.437Z"
   },
   {
    "duration": 130,
    "start_time": "2022-02-09T18:16:04.371Z"
   },
   {
    "duration": 4,
    "start_time": "2022-02-09T18:16:36.671Z"
   },
   {
    "duration": 6144,
    "start_time": "2022-02-09T18:16:37.376Z"
   },
   {
    "duration": 4,
    "start_time": "2022-02-09T18:17:03.975Z"
   },
   {
    "duration": 465,
    "start_time": "2022-02-09T18:17:04.360Z"
   },
   {
    "duration": 4,
    "start_time": "2022-02-09T18:17:11.195Z"
   },
   {
    "duration": 6009,
    "start_time": "2022-02-09T18:17:11.827Z"
   },
   {
    "duration": 3,
    "start_time": "2022-02-09T18:17:36.911Z"
   },
   {
    "duration": 672,
    "start_time": "2022-02-09T18:17:37.411Z"
   },
   {
    "duration": 4,
    "start_time": "2022-02-09T18:17:56.897Z"
   },
   {
    "duration": 127,
    "start_time": "2022-02-09T18:17:57.529Z"
   },
   {
    "duration": 130,
    "start_time": "2022-02-09T18:18:16.256Z"
   },
   {
    "duration": 156,
    "start_time": "2022-02-09T18:19:39.022Z"
   },
   {
    "duration": 539,
    "start_time": "2022-02-09T18:43:38.428Z"
   },
   {
    "duration": 1547,
    "start_time": "2022-02-09T18:43:48.247Z"
   },
   {
    "duration": 29,
    "start_time": "2022-02-09T18:43:49.796Z"
   },
   {
    "duration": 48,
    "start_time": "2022-02-09T18:43:49.828Z"
   },
   {
    "duration": 11,
    "start_time": "2022-02-09T18:43:49.878Z"
   },
   {
    "duration": 19,
    "start_time": "2022-02-09T18:43:49.891Z"
   },
   {
    "duration": 47,
    "start_time": "2022-02-09T18:43:49.913Z"
   },
   {
    "duration": 9,
    "start_time": "2022-02-09T18:43:53.250Z"
   },
   {
    "duration": 13,
    "start_time": "2022-02-09T18:43:54.038Z"
   },
   {
    "duration": 106,
    "start_time": "2022-02-09T18:45:59.008Z"
   },
   {
    "duration": 18,
    "start_time": "2022-02-09T18:45:59.116Z"
   },
   {
    "duration": 42,
    "start_time": "2022-02-09T18:45:59.137Z"
   },
   {
    "duration": 7,
    "start_time": "2022-02-09T18:45:59.181Z"
   },
   {
    "duration": 25,
    "start_time": "2022-02-09T18:45:59.191Z"
   },
   {
    "duration": 42,
    "start_time": "2022-02-09T18:45:59.218Z"
   },
   {
    "duration": 13,
    "start_time": "2022-02-09T18:45:59.263Z"
   },
   {
    "duration": 11,
    "start_time": "2022-02-09T18:45:59.278Z"
   },
   {
    "duration": 3,
    "start_time": "2022-02-09T18:45:59.292Z"
   },
   {
    "duration": 3,
    "start_time": "2022-02-09T18:46:01.793Z"
   },
   {
    "duration": 64,
    "start_time": "2022-02-09T18:46:02.804Z"
   },
   {
    "duration": 61,
    "start_time": "2022-02-09T18:46:09.456Z"
   },
   {
    "duration": 17,
    "start_time": "2022-02-09T18:46:23.009Z"
   },
   {
    "duration": 22,
    "start_time": "2022-02-09T18:46:29.918Z"
   },
   {
    "duration": 37,
    "start_time": "2022-02-09T18:46:31.305Z"
   },
   {
    "duration": 40,
    "start_time": "2022-02-09T18:46:32.216Z"
   },
   {
    "duration": 23,
    "start_time": "2022-02-09T18:46:33.011Z"
   },
   {
    "duration": 10,
    "start_time": "2022-02-09T18:46:35.466Z"
   },
   {
    "duration": 10,
    "start_time": "2022-02-09T18:46:36.296Z"
   },
   {
    "duration": 10,
    "start_time": "2022-02-09T18:46:55.443Z"
   },
   {
    "duration": 14079,
    "start_time": "2022-02-09T18:47:03.957Z"
   },
   {
    "duration": 11,
    "start_time": "2022-02-09T18:47:18.469Z"
   },
   {
    "duration": 33,
    "start_time": "2022-02-09T18:47:19.567Z"
   },
   {
    "duration": 4,
    "start_time": "2022-02-09T18:47:26.483Z"
   },
   {
    "duration": 382,
    "start_time": "2022-02-09T18:47:27.125Z"
   },
   {
    "duration": 13,
    "start_time": "2022-02-09T18:47:28.214Z"
   },
   {
    "duration": 376,
    "start_time": "2022-02-09T18:47:29.502Z"
   },
   {
    "duration": 15759,
    "start_time": "2022-02-09T18:47:33.019Z"
   },
   {
    "duration": 525,
    "start_time": "2022-02-09T18:47:48.781Z"
   },
   {
    "duration": 17,
    "start_time": "2022-02-09T18:47:49.309Z"
   },
   {
    "duration": 251,
    "start_time": "2022-02-09T18:47:49.594Z"
   },
   {
    "duration": 279,
    "start_time": "2022-02-09T18:48:05.865Z"
   },
   {
    "duration": 252,
    "start_time": "2022-02-09T18:48:50.727Z"
   },
   {
    "duration": 313,
    "start_time": "2022-02-09T18:48:53.739Z"
   },
   {
    "duration": 226,
    "start_time": "2022-02-09T18:48:55.509Z"
   },
   {
    "duration": 1423,
    "start_time": "2022-06-11T21:09:52.586Z"
   },
   {
    "duration": 20,
    "start_time": "2022-06-11T21:09:54.011Z"
   },
   {
    "duration": 25,
    "start_time": "2022-06-11T21:09:54.033Z"
   },
   {
    "duration": 6,
    "start_time": "2022-06-11T21:09:54.060Z"
   },
   {
    "duration": 14,
    "start_time": "2022-06-11T21:09:54.068Z"
   },
   {
    "duration": 9,
    "start_time": "2022-06-11T21:09:54.083Z"
   },
   {
    "duration": 9,
    "start_time": "2022-06-11T21:09:54.094Z"
   },
   {
    "duration": 9,
    "start_time": "2022-06-11T21:09:54.105Z"
   },
   {
    "duration": 3,
    "start_time": "2022-06-11T21:09:54.115Z"
   },
   {
    "duration": 41,
    "start_time": "2022-06-11T21:09:54.160Z"
   },
   {
    "duration": 14,
    "start_time": "2022-06-11T21:09:54.203Z"
   },
   {
    "duration": 16,
    "start_time": "2022-06-11T21:09:54.218Z"
   },
   {
    "duration": 28,
    "start_time": "2022-06-11T21:09:54.259Z"
   },
   {
    "duration": 33,
    "start_time": "2022-06-11T21:09:54.289Z"
   },
   {
    "duration": 39,
    "start_time": "2022-06-11T21:09:54.324Z"
   },
   {
    "duration": 7,
    "start_time": "2022-06-11T21:09:54.365Z"
   },
   {
    "duration": 8,
    "start_time": "2022-06-11T21:09:54.373Z"
   },
   {
    "duration": 17,
    "start_time": "2022-06-11T21:09:54.382Z"
   },
   {
    "duration": 8354,
    "start_time": "2022-06-11T21:09:54.401Z"
   },
   {
    "duration": 5,
    "start_time": "2022-06-11T21:10:02.757Z"
   },
   {
    "duration": 29,
    "start_time": "2022-06-11T21:10:02.764Z"
   },
   {
    "duration": 2,
    "start_time": "2022-06-11T21:10:02.795Z"
   },
   {
    "duration": 151,
    "start_time": "2022-06-11T21:10:02.798Z"
   },
   {
    "duration": 14,
    "start_time": "2022-06-11T21:10:02.950Z"
   },
   {
    "duration": 147,
    "start_time": "2022-06-11T21:10:02.966Z"
   },
   {
    "duration": 11881,
    "start_time": "2022-06-11T21:10:03.115Z"
   },
   {
    "duration": 158,
    "start_time": "2022-06-11T21:10:14.997Z"
   },
   {
    "duration": 12,
    "start_time": "2022-06-11T21:10:15.159Z"
   },
   {
    "duration": 146,
    "start_time": "2022-06-11T21:10:15.173Z"
   },
   {
    "duration": 130,
    "start_time": "2022-06-11T21:10:15.320Z"
   },
   {
    "duration": 150,
    "start_time": "2022-06-11T21:10:15.452Z"
   },
   {
    "duration": 130,
    "start_time": "2022-06-11T21:10:15.603Z"
   },
   {
    "duration": 130,
    "start_time": "2022-06-11T21:10:15.734Z"
   }
  ],
  "kernelspec": {
   "display_name": "Python 3 (ipykernel)",
   "language": "python",
   "name": "python3"
  },
  "language_info": {
   "codemirror_mode": {
    "name": "ipython",
    "version": 3
   },
   "file_extension": ".py",
   "mimetype": "text/x-python",
   "name": "python",
   "nbconvert_exporter": "python",
   "pygments_lexer": "ipython3",
   "version": "3.9.7"
  },
  "toc": {
   "base_numbering": 1,
   "nav_menu": {},
   "number_sections": true,
   "sideBar": true,
   "skip_h1_title": true,
   "title_cell": "Table of Contents",
   "title_sidebar": "Contents",
   "toc_cell": false,
   "toc_position": {
    "height": "calc(100% - 180px)",
    "left": "10px",
    "top": "150px",
    "width": "247.05px"
   },
   "toc_section_display": true,
   "toc_window_display": true
  }
 },
 "nbformat": 4,
 "nbformat_minor": 2
}
