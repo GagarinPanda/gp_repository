{
 "cells": [
  {
   "cell_type": "markdown",
   "metadata": {},
   "source": [
    "# Прогнозирование оттока клиентов фитнес-центра"
   ]
  },
  {
   "cell_type": "markdown",
   "metadata": {},
   "source": [
    "## Описание проекта"
   ]
  },
  {
   "cell_type": "markdown",
   "metadata": {},
   "source": [
    "### Цель\n",
    "Повысить удержание клиентов сети фитнес-центров путём разработки стратегии взаимодействия с клиентами на основе аналитических данных."
   ]
  },
  {
   "cell_type": "markdown",
   "metadata": {},
   "source": [
    "### Описание данных\n",
    "csv-файл содержащий данные клиента за предыдущий до проверки факта оттока месяц, информацию на основе журнала посещений, покупок и информацию о текущем статусе абонемента клиента:\n",
    "- `gender` — пол;\n",
    "- `Near_Location` — проживание или работа в районе, где находится фитнес-центр;\n",
    "- `Partner` — сотрудник компании-партнёра клуба (сотрудничество с компаниями, чьи сотрудники могут получать скидки на абонемент (в таком случае фитнес-центр хранит информацию о работодателе клиента));\n",
    "- `Promo_friends` — факт первоначальной записи в рамках акции «приведи друга» (использовал промо-код от знакомого при оплате первого абонемента);\n",
    "- `Phone` — наличие контактного телефона;\n",
    "- `Age` — возраст;\n",
    "- `Lifetime` — время с момента первого обращения в фитнес-центр (в месяцах);\n",
    "- `Contract_period` — длительность текущего действующего абонемента (месяц, 6 месяцев, год);\n",
    "- `Month_to_end_contract` — срок до окончания текущего действующего абонемента (в месяцах);\n",
    "- `Group_visits` — факт посещения групповых занятий;\n",
    "- `Avg_class_frequency_total` — средняя частота посещений в неделю за все время с начала действия абонемента;\n",
    "- `Avg_class_frequency_current_month` — средняя частота посещений в неделю за предыдущий месяц;\n",
    "- `Avg_additional_charges_total` — суммарная выручка от других услуг фитнес-центра: кафе, спорттовары, косметический и массажный салон;\n",
    "- `Churn` — факт оттока в текущем месяце."
   ]
  },
  {
   "cell_type": "markdown",
   "metadata": {},
   "source": [
    "### Ход выполнения\n",
    "1. Исследовательский анализ данных (EDA).\n",
    "2. Построение модели бинарной классификации оттока клиентов (классификационный признак факт оттока).\n",
    "3. Кластеризация клиентов.\n",
    "4. Формулировка выводов и базовых рекомендаций по работе с клиентами."
   ]
  },
  {
   "cell_type": "markdown",
   "metadata": {},
   "source": [
    "## Загрузка данных"
   ]
  },
  {
   "cell_type": "code",
   "execution_count": 1,
   "metadata": {},
   "outputs": [],
   "source": [
    "#импортирование библиотек\n",
    "import pandas as pd\n",
    "import matplotlib.pyplot as plt\n",
    "import seaborn as sns\n",
    "from sklearn.model_selection import train_test_split\n",
    "from sklearn.linear_model import LogisticRegression\n",
    "from sklearn.ensemble import RandomForestClassifier\n",
    "from sklearn.metrics import accuracy_score, precision_score, recall_score\n",
    "from sklearn.preprocessing import StandardScaler\n",
    "from scipy.cluster.hierarchy import dendrogram, linkage\n",
    "from sklearn.cluster import KMeans\n",
    "pd.set_option('display.float_format', '{:,.2f}'.format)"
   ]
  },
  {
   "cell_type": "code",
   "execution_count": 2,
   "metadata": {},
   "outputs": [],
   "source": [
    "df = pd.read_csv('/datasets/gym_churn.csv') #загрузка датафрейма"
   ]
  },
  {
   "cell_type": "markdown",
   "metadata": {},
   "source": [
    "## Исследовательский анализ данных (EDA)"
   ]
  },
  {
   "cell_type": "markdown",
   "metadata": {},
   "source": [
    "### Общие сведения о данных"
   ]
  },
  {
   "cell_type": "code",
   "execution_count": 3,
   "metadata": {},
   "outputs": [],
   "source": [
    "def information(df): #функция для получения общих сведений о датафрейме\n",
    "    print('\\033[1m' + 'Типы данных:' + '\\033[0m')\n",
    "    display(df.dtypes)\n",
    "    print('\\033[1m' + 'Первые 2 строки:' + '\\033[0m')\n",
    "    display(df.head(2))\n",
    "    print('\\033[1m' + 'Количество столбцов в датафрейме:' + '\\033[0m', len(df.columns))\n",
    "    print('\\033[1m' + 'Количество строк в датафрейме:' + '\\033[0m', len(df))\n",
    "    print('\\033[1m' + 'Количество дубликатов:' + '\\033[0m', df.duplicated().sum())\n",
    "    print('\\033[1m' + 'Количество пропусков:' + '\\033[0m')\n",
    "    display(df.isna().sum())\n",
    "    print('\\033[1m' + 'Доля пропусков:' + '\\033[0m')\n",
    "    print(df.isna().sum() / len(df.index))"
   ]
  },
  {
   "cell_type": "code",
   "execution_count": 4,
   "metadata": {},
   "outputs": [
    {
     "name": "stdout",
     "output_type": "stream",
     "text": [
      "\u001b[1mТипы данных:\u001b[0m\n"
     ]
    },
    {
     "data": {
      "text/plain": [
       "gender                                 int64\n",
       "Near_Location                          int64\n",
       "Partner                                int64\n",
       "Promo_friends                          int64\n",
       "Phone                                  int64\n",
       "Contract_period                        int64\n",
       "Group_visits                           int64\n",
       "Age                                    int64\n",
       "Avg_additional_charges_total         float64\n",
       "Month_to_end_contract                float64\n",
       "Lifetime                               int64\n",
       "Avg_class_frequency_total            float64\n",
       "Avg_class_frequency_current_month    float64\n",
       "Churn                                  int64\n",
       "dtype: object"
      ]
     },
     "metadata": {},
     "output_type": "display_data"
    },
    {
     "name": "stdout",
     "output_type": "stream",
     "text": [
      "\u001b[1mПервые 2 строки:\u001b[0m\n"
     ]
    },
    {
     "data": {
      "text/html": [
       "<div>\n",
       "<style scoped>\n",
       "    .dataframe tbody tr th:only-of-type {\n",
       "        vertical-align: middle;\n",
       "    }\n",
       "\n",
       "    .dataframe tbody tr th {\n",
       "        vertical-align: top;\n",
       "    }\n",
       "\n",
       "    .dataframe thead th {\n",
       "        text-align: right;\n",
       "    }\n",
       "</style>\n",
       "<table border=\"1\" class=\"dataframe\">\n",
       "  <thead>\n",
       "    <tr style=\"text-align: right;\">\n",
       "      <th></th>\n",
       "      <th>gender</th>\n",
       "      <th>Near_Location</th>\n",
       "      <th>Partner</th>\n",
       "      <th>Promo_friends</th>\n",
       "      <th>Phone</th>\n",
       "      <th>Contract_period</th>\n",
       "      <th>Group_visits</th>\n",
       "      <th>Age</th>\n",
       "      <th>Avg_additional_charges_total</th>\n",
       "      <th>Month_to_end_contract</th>\n",
       "      <th>Lifetime</th>\n",
       "      <th>Avg_class_frequency_total</th>\n",
       "      <th>Avg_class_frequency_current_month</th>\n",
       "      <th>Churn</th>\n",
       "    </tr>\n",
       "  </thead>\n",
       "  <tbody>\n",
       "    <tr>\n",
       "      <th>0</th>\n",
       "      <td>1</td>\n",
       "      <td>1</td>\n",
       "      <td>1</td>\n",
       "      <td>1</td>\n",
       "      <td>0</td>\n",
       "      <td>6</td>\n",
       "      <td>1</td>\n",
       "      <td>29</td>\n",
       "      <td>14.23</td>\n",
       "      <td>5.00</td>\n",
       "      <td>3</td>\n",
       "      <td>0.02</td>\n",
       "      <td>0.00</td>\n",
       "      <td>0</td>\n",
       "    </tr>\n",
       "    <tr>\n",
       "      <th>1</th>\n",
       "      <td>0</td>\n",
       "      <td>1</td>\n",
       "      <td>0</td>\n",
       "      <td>0</td>\n",
       "      <td>1</td>\n",
       "      <td>12</td>\n",
       "      <td>1</td>\n",
       "      <td>31</td>\n",
       "      <td>113.20</td>\n",
       "      <td>12.00</td>\n",
       "      <td>7</td>\n",
       "      <td>1.92</td>\n",
       "      <td>1.91</td>\n",
       "      <td>0</td>\n",
       "    </tr>\n",
       "  </tbody>\n",
       "</table>\n",
       "</div>"
      ],
      "text/plain": [
       "   gender  Near_Location  Partner  Promo_friends  Phone  Contract_period  \\\n",
       "0       1              1        1              1      0                6   \n",
       "1       0              1        0              0      1               12   \n",
       "\n",
       "   Group_visits  Age  Avg_additional_charges_total  Month_to_end_contract  \\\n",
       "0             1   29                         14.23                   5.00   \n",
       "1             1   31                        113.20                  12.00   \n",
       "\n",
       "   Lifetime  Avg_class_frequency_total  Avg_class_frequency_current_month  \\\n",
       "0         3                       0.02                               0.00   \n",
       "1         7                       1.92                               1.91   \n",
       "\n",
       "   Churn  \n",
       "0      0  \n",
       "1      0  "
      ]
     },
     "metadata": {},
     "output_type": "display_data"
    },
    {
     "name": "stdout",
     "output_type": "stream",
     "text": [
      "\u001b[1mКоличество столбцов в датафрейме:\u001b[0m 14\n",
      "\u001b[1mКоличество строк в датафрейме:\u001b[0m 4000\n",
      "\u001b[1mКоличество дубликатов:\u001b[0m 0\n",
      "\u001b[1mКоличество пропусков:\u001b[0m\n"
     ]
    },
    {
     "data": {
      "text/plain": [
       "gender                               0\n",
       "Near_Location                        0\n",
       "Partner                              0\n",
       "Promo_friends                        0\n",
       "Phone                                0\n",
       "Contract_period                      0\n",
       "Group_visits                         0\n",
       "Age                                  0\n",
       "Avg_additional_charges_total         0\n",
       "Month_to_end_contract                0\n",
       "Lifetime                             0\n",
       "Avg_class_frequency_total            0\n",
       "Avg_class_frequency_current_month    0\n",
       "Churn                                0\n",
       "dtype: int64"
      ]
     },
     "metadata": {},
     "output_type": "display_data"
    },
    {
     "name": "stdout",
     "output_type": "stream",
     "text": [
      "\u001b[1mДоля пропусков:\u001b[0m\n",
      "gender                              0.00\n",
      "Near_Location                       0.00\n",
      "Partner                             0.00\n",
      "Promo_friends                       0.00\n",
      "Phone                               0.00\n",
      "Contract_period                     0.00\n",
      "Group_visits                        0.00\n",
      "Age                                 0.00\n",
      "Avg_additional_charges_total        0.00\n",
      "Month_to_end_contract               0.00\n",
      "Lifetime                            0.00\n",
      "Avg_class_frequency_total           0.00\n",
      "Avg_class_frequency_current_month   0.00\n",
      "Churn                               0.00\n",
      "dtype: float64\n"
     ]
    }
   ],
   "source": [
    "information(df)"
   ]
  },
  {
   "cell_type": "markdown",
   "metadata": {},
   "source": [
    "Датафрейм содержит 14 столбцов: столбец 'Churn' содержит целевую переменную указывающую на отток клиента, в оставшихся 13 столбцах содержится информация о признаках. В датафрейме 4000 тысячи записей, каждая из которых соответствует одному наблюдению. Пропуски и дубликаты отсутствуют.\n",
    "\n",
    "Выделим целевую переменную и признаки в отдельные датафреймы."
   ]
  },
  {
   "cell_type": "code",
   "execution_count": 5,
   "metadata": {},
   "outputs": [],
   "source": [
    "X = df.drop(['Churn'], axis=1) #признаки\n",
    "y = df['Churn'] #целевая переменная"
   ]
  },
  {
   "cell_type": "code",
   "execution_count": 6,
   "metadata": {
    "scrolled": true
   },
   "outputs": [
    {
     "name": "stdout",
     "output_type": "stream",
     "text": [
      "Характерные значения в столбце gender\n"
     ]
    },
    {
     "data": {
      "text/plain": [
       "count   4,000.00\n",
       "mean        0.51\n",
       "std         0.50\n",
       "min         0.00\n",
       "25%         0.00\n",
       "50%         1.00\n",
       "75%         1.00\n",
       "max         1.00\n",
       "Name: gender, dtype: float64"
      ]
     },
     "metadata": {},
     "output_type": "display_data"
    },
    {
     "name": "stdout",
     "output_type": "stream",
     "text": [
      "\n",
      "Характерные значения в столбце Near_Location\n"
     ]
    },
    {
     "data": {
      "text/plain": [
       "count   4,000.00\n",
       "mean        0.85\n",
       "std         0.36\n",
       "min         0.00\n",
       "25%         1.00\n",
       "50%         1.00\n",
       "75%         1.00\n",
       "max         1.00\n",
       "Name: Near_Location, dtype: float64"
      ]
     },
     "metadata": {},
     "output_type": "display_data"
    },
    {
     "name": "stdout",
     "output_type": "stream",
     "text": [
      "\n",
      "Характерные значения в столбце Partner\n"
     ]
    },
    {
     "data": {
      "text/plain": [
       "count   4,000.00\n",
       "mean        0.49\n",
       "std         0.50\n",
       "min         0.00\n",
       "25%         0.00\n",
       "50%         0.00\n",
       "75%         1.00\n",
       "max         1.00\n",
       "Name: Partner, dtype: float64"
      ]
     },
     "metadata": {},
     "output_type": "display_data"
    },
    {
     "name": "stdout",
     "output_type": "stream",
     "text": [
      "\n",
      "Характерные значения в столбце Promo_friends\n"
     ]
    },
    {
     "data": {
      "text/plain": [
       "count   4,000.00\n",
       "mean        0.31\n",
       "std         0.46\n",
       "min         0.00\n",
       "25%         0.00\n",
       "50%         0.00\n",
       "75%         1.00\n",
       "max         1.00\n",
       "Name: Promo_friends, dtype: float64"
      ]
     },
     "metadata": {},
     "output_type": "display_data"
    },
    {
     "name": "stdout",
     "output_type": "stream",
     "text": [
      "\n",
      "Характерные значения в столбце Phone\n"
     ]
    },
    {
     "data": {
      "text/plain": [
       "count   4,000.00\n",
       "mean        0.90\n",
       "std         0.30\n",
       "min         0.00\n",
       "25%         1.00\n",
       "50%         1.00\n",
       "75%         1.00\n",
       "max         1.00\n",
       "Name: Phone, dtype: float64"
      ]
     },
     "metadata": {},
     "output_type": "display_data"
    },
    {
     "name": "stdout",
     "output_type": "stream",
     "text": [
      "\n",
      "Характерные значения в столбце Contract_period\n"
     ]
    },
    {
     "data": {
      "text/plain": [
       "count   4,000.00\n",
       "mean        4.68\n",
       "std         4.55\n",
       "min         1.00\n",
       "25%         1.00\n",
       "50%         1.00\n",
       "75%         6.00\n",
       "max        12.00\n",
       "Name: Contract_period, dtype: float64"
      ]
     },
     "metadata": {},
     "output_type": "display_data"
    },
    {
     "name": "stdout",
     "output_type": "stream",
     "text": [
      "\n",
      "Характерные значения в столбце Group_visits\n"
     ]
    },
    {
     "data": {
      "text/plain": [
       "count   4,000.00\n",
       "mean        0.41\n",
       "std         0.49\n",
       "min         0.00\n",
       "25%         0.00\n",
       "50%         0.00\n",
       "75%         1.00\n",
       "max         1.00\n",
       "Name: Group_visits, dtype: float64"
      ]
     },
     "metadata": {},
     "output_type": "display_data"
    },
    {
     "name": "stdout",
     "output_type": "stream",
     "text": [
      "\n",
      "Характерные значения в столбце Age\n"
     ]
    },
    {
     "data": {
      "text/plain": [
       "count   4,000.00\n",
       "mean       29.18\n",
       "std         3.26\n",
       "min        18.00\n",
       "25%        27.00\n",
       "50%        29.00\n",
       "75%        31.00\n",
       "max        41.00\n",
       "Name: Age, dtype: float64"
      ]
     },
     "metadata": {},
     "output_type": "display_data"
    },
    {
     "name": "stdout",
     "output_type": "stream",
     "text": [
      "\n",
      "Характерные значения в столбце Avg_additional_charges_total\n"
     ]
    },
    {
     "data": {
      "text/plain": [
       "count   4,000.00\n",
       "mean      146.94\n",
       "std        96.36\n",
       "min         0.15\n",
       "25%        68.87\n",
       "50%       136.22\n",
       "75%       210.95\n",
       "max       552.59\n",
       "Name: Avg_additional_charges_total, dtype: float64"
      ]
     },
     "metadata": {},
     "output_type": "display_data"
    },
    {
     "name": "stdout",
     "output_type": "stream",
     "text": [
      "\n",
      "Характерные значения в столбце Month_to_end_contract\n"
     ]
    },
    {
     "data": {
      "text/plain": [
       "count   4,000.00\n",
       "mean        4.32\n",
       "std         4.19\n",
       "min         1.00\n",
       "25%         1.00\n",
       "50%         1.00\n",
       "75%         6.00\n",
       "max        12.00\n",
       "Name: Month_to_end_contract, dtype: float64"
      ]
     },
     "metadata": {},
     "output_type": "display_data"
    },
    {
     "name": "stdout",
     "output_type": "stream",
     "text": [
      "\n",
      "Характерные значения в столбце Lifetime\n"
     ]
    },
    {
     "data": {
      "text/plain": [
       "count   4,000.00\n",
       "mean        3.72\n",
       "std         3.75\n",
       "min         0.00\n",
       "25%         1.00\n",
       "50%         3.00\n",
       "75%         5.00\n",
       "max        31.00\n",
       "Name: Lifetime, dtype: float64"
      ]
     },
     "metadata": {},
     "output_type": "display_data"
    },
    {
     "name": "stdout",
     "output_type": "stream",
     "text": [
      "\n",
      "Характерные значения в столбце Avg_class_frequency_total\n"
     ]
    },
    {
     "data": {
      "text/plain": [
       "count   4,000.00\n",
       "mean        1.88\n",
       "std         0.97\n",
       "min         0.00\n",
       "25%         1.18\n",
       "50%         1.83\n",
       "75%         2.54\n",
       "max         6.02\n",
       "Name: Avg_class_frequency_total, dtype: float64"
      ]
     },
     "metadata": {},
     "output_type": "display_data"
    },
    {
     "name": "stdout",
     "output_type": "stream",
     "text": [
      "\n",
      "Характерные значения в столбце Avg_class_frequency_current_month\n"
     ]
    },
    {
     "data": {
      "text/plain": [
       "count   4,000.00\n",
       "mean        1.77\n",
       "std         1.05\n",
       "min         0.00\n",
       "25%         0.96\n",
       "50%         1.72\n",
       "75%         2.51\n",
       "max         6.15\n",
       "Name: Avg_class_frequency_current_month, dtype: float64"
      ]
     },
     "metadata": {},
     "output_type": "display_data"
    },
    {
     "name": "stdout",
     "output_type": "stream",
     "text": [
      "\n",
      "Характерные значения в столбце Churn\n"
     ]
    },
    {
     "data": {
      "text/plain": [
       "count   4,000.00\n",
       "mean        0.27\n",
       "std         0.44\n",
       "min         0.00\n",
       "25%         0.00\n",
       "50%         0.00\n",
       "75%         1.00\n",
       "max         1.00\n",
       "Name: Churn, dtype: float64"
      ]
     },
     "metadata": {},
     "output_type": "display_data"
    },
    {
     "name": "stdout",
     "output_type": "stream",
     "text": [
      "\n"
     ]
    }
   ],
   "source": [
    "for column in df.columns: #получение характерных значений для каждого столбца\n",
    "    print('Характерные значения в столбце', column)\n",
    "    display(df[column].describe().round(2))\n",
    "    print()"
   ]
  },
  {
   "cell_type": "markdown",
   "metadata": {},
   "source": [
    "- 51% клиентов имеют гендерную принадлежность обозначенную как 1 (в описании данных не указано какой пол обозначен соответствующей цифрой);\n",
    "- 85% клиентов поживают или работают в районе, где расположен фитнес-центр;\n",
    "- 49% клиентов являются сотрудниками компаний-партнёров клуба;\n",
    "- 31% клиентов записались в рамках акции \"приведи друга\";\n",
    "- 90% карточек клиентов содержат данные о контактном телефоне;\n",
    "- большая часть клиентов имеют абонемент на 1 месяц посещений;\n",
    "- 41% клиентов посещают групповые занятия;\n",
    "- возраст клиентов варьируется от 18 до 41 года, средний возраст клиентов составляет 29 лет, при относительно небольшом стандартном отклонении - 3,26, т.е. данные распределены относительно компактно (небольшой разброс).\n",
    "- суммарная выручка от других услуг фитнес-центра колеблется от 0,15 до 552.59 у.е., среднее значение составляет 146,94 у.е., с достаточно большим стандартным отклонением 96,36 у.е.;\n",
    "- т.к. большая часть клиентов посещают фитнес-центр по месячному абонементу, то соответственно и до окончания абонемента у большей части клиентов тоже 1 месяц, среднее количество месяцев до окончания абонемента составляет 4,32, при стандартном отклонении 4,19;\n",
    "- минимальное и максимальное количество месяцев с момента первого обращения составляет 0 и 31 месяц соответственно, среднее значение - 3,72, со стандартным отклонением 3,75, т.е. данные сильно рассеяны;\n",
    "- средняя средней частоты посещений фитнес-центра в неделю за все время посещений составляет 1,88 (от 0 до 6,02), с высоким стандартным отклонением (0,97);\n",
    "- средняя средней частоты посещений фитнес-центра в неделю за последний месяц составляет 1,77 (от 0 до 6,15), также с высоким стандартным отклонением (1,05);\n",
    "- процент оттока клиентов в представленной выборке составил 27%."
   ]
  },
  {
   "cell_type": "markdown",
   "metadata": {},
   "source": [
    "### Изучение средних значений в группах пользователей (по факту оттока)"
   ]
  },
  {
   "cell_type": "code",
   "execution_count": 7,
   "metadata": {},
   "outputs": [
    {
     "data": {
      "text/html": [
       "<div>\n",
       "<style scoped>\n",
       "    .dataframe tbody tr th:only-of-type {\n",
       "        vertical-align: middle;\n",
       "    }\n",
       "\n",
       "    .dataframe tbody tr th {\n",
       "        vertical-align: top;\n",
       "    }\n",
       "\n",
       "    .dataframe thead th {\n",
       "        text-align: right;\n",
       "    }\n",
       "</style>\n",
       "<table border=\"1\" class=\"dataframe\">\n",
       "  <thead>\n",
       "    <tr style=\"text-align: right;\">\n",
       "      <th></th>\n",
       "      <th>gender</th>\n",
       "      <th>Near_Location</th>\n",
       "      <th>Partner</th>\n",
       "      <th>Promo_friends</th>\n",
       "      <th>Phone</th>\n",
       "      <th>Contract_period</th>\n",
       "      <th>Group_visits</th>\n",
       "      <th>Age</th>\n",
       "      <th>Avg_additional_charges_total</th>\n",
       "      <th>Month_to_end_contract</th>\n",
       "      <th>Lifetime</th>\n",
       "      <th>Avg_class_frequency_total</th>\n",
       "      <th>Avg_class_frequency_current_month</th>\n",
       "    </tr>\n",
       "    <tr>\n",
       "      <th>Churn</th>\n",
       "      <th></th>\n",
       "      <th></th>\n",
       "      <th></th>\n",
       "      <th></th>\n",
       "      <th></th>\n",
       "      <th></th>\n",
       "      <th></th>\n",
       "      <th></th>\n",
       "      <th></th>\n",
       "      <th></th>\n",
       "      <th></th>\n",
       "      <th></th>\n",
       "      <th></th>\n",
       "    </tr>\n",
       "  </thead>\n",
       "  <tbody>\n",
       "    <tr>\n",
       "      <th>0</th>\n",
       "      <td>0.51</td>\n",
       "      <td>0.87</td>\n",
       "      <td>0.53</td>\n",
       "      <td>0.35</td>\n",
       "      <td>0.90</td>\n",
       "      <td>5.75</td>\n",
       "      <td>0.46</td>\n",
       "      <td>29.98</td>\n",
       "      <td>158.45</td>\n",
       "      <td>5.28</td>\n",
       "      <td>4.71</td>\n",
       "      <td>2.02</td>\n",
       "      <td>2.03</td>\n",
       "    </tr>\n",
       "    <tr>\n",
       "      <th>1</th>\n",
       "      <td>0.51</td>\n",
       "      <td>0.77</td>\n",
       "      <td>0.36</td>\n",
       "      <td>0.18</td>\n",
       "      <td>0.90</td>\n",
       "      <td>1.73</td>\n",
       "      <td>0.27</td>\n",
       "      <td>26.99</td>\n",
       "      <td>115.08</td>\n",
       "      <td>1.66</td>\n",
       "      <td>0.99</td>\n",
       "      <td>1.47</td>\n",
       "      <td>1.04</td>\n",
       "    </tr>\n",
       "  </tbody>\n",
       "</table>\n",
       "</div>"
      ],
      "text/plain": [
       "       gender  Near_Location  Partner  Promo_friends  Phone  Contract_period  \\\n",
       "Churn                                                                          \n",
       "0        0.51           0.87     0.53           0.35   0.90             5.75   \n",
       "1        0.51           0.77     0.36           0.18   0.90             1.73   \n",
       "\n",
       "       Group_visits   Age  Avg_additional_charges_total  \\\n",
       "Churn                                                     \n",
       "0              0.46 29.98                        158.45   \n",
       "1              0.27 26.99                        115.08   \n",
       "\n",
       "       Month_to_end_contract  Lifetime  Avg_class_frequency_total  \\\n",
       "Churn                                                               \n",
       "0                       5.28      4.71                       2.02   \n",
       "1                       1.66      0.99                       1.47   \n",
       "\n",
       "       Avg_class_frequency_current_month  \n",
       "Churn                                     \n",
       "0                                   2.03  \n",
       "1                                   1.04  "
      ]
     },
     "execution_count": 7,
     "metadata": {},
     "output_type": "execute_result"
    }
   ],
   "source": [
    "df.groupby('Churn').mean() #вывод средних значений признаков в разрезе групп по факту оттока"
   ]
  },
  {
   "cell_type": "markdown",
   "metadata": {},
   "source": [
    "При анализе средних значений признаков а группе оттока и группе оставшихся клиентов установлено: \n",
    "- в обоих группах доля клиентов, чей гендер обозначен как 1, составляет 51%;\n",
    "- в группе оттока доля клиентов проживающих или работающих в районе фитнем-клуба составляет 77%, а в группе оставшихся - 87%;\n",
    "- доля клиентов, работающих в компаниях-партнёрах клуба составляет 53% и 36% в группе оставшихся и группе оттока соответственно;\n",
    "- в группе оттока 18% клиентов записались в фитнес_клуб в рамках акции \"приведи друга\", а в группе оставшихся их доля составляет 35%;\n",
    "- доля клиентов, оставивших свой контактный телефон, в обоих группах составляет 90%;\n",
    "- средняя длительность абонемента в группе оттока ниже, чем в группе оставшихся - 1,73 и 5,75 соответственно;\n",
    "- в группе оставшихся групповые занятия посещают 46% клиентов, в то время как в группе оттока их доля составляет только 27%;\n",
    "- средний возраст клиента в группе оттока составляет 26,99, а в группе оставшихся - 29,98;\n",
    "- средний показатель суммарной выручки от других услуг фитнес-клуба в группе оттока - 115,08 у.е., а в группе оставшихся - 158,45 у.е.\n",
    "- среднее количество месяцев то окончания абонемента в группе оттока и группе оставшихся составляет 1,66 и 5,28 соответственно;\n",
    "- среднее количество месяцев посещения после первого обращения в фитнес-центр в группе оставшихся также выше, чем в группе оттока - 4,71 и 0,99 соответственно;\n",
    "- среднее значение средней частоты посещений в неделю за всё время в группе оттока составляет 1,47, а в группе оставшихся - 2,02;\n",
    "- среднее значение средней частоты посещений в неделю за последний месяц составляет 1,04 в группе оттока и 2,03 в группе оттока. "
   ]
  },
  {
   "cell_type": "markdown",
   "metadata": {},
   "source": [
    "### Гистограммы распределения признаков в группе оттока и группе оставшихся"
   ]
  },
  {
   "cell_type": "code",
   "execution_count": 8,
   "metadata": {
    "scrolled": true
   },
   "outputs": [
    {
     "data": {
      "image/png": "[encoded data removed]",
      "text/plain": [
       "<Figure size 720x360 with 2 Axes>"
      ]
     },
     "metadata": {
      "needs_background": "light"
     },
     "output_type": "display_data"
    },
    {
     "data": {
      "image/png": "[encoded data removed]",
      "text/plain": [
       "<Figure size 720x360 with 2 Axes>"
      ]
     },
     "metadata": {
      "needs_background": "light"
     },
     "output_type": "display_data"
    },
    {
     "data": {
      "image/png": "[encoded data removed]",
      "text/plain": [
       "<Figure size 720x360 with 2 Axes>"
      ]
     },
     "metadata": {
      "needs_background": "light"
     },
     "output_type": "display_data"
    },
    {
     "data": {
      "image/png": "[encoded data removed]",
      "text/plain": [
       "<Figure size 720x360 with 2 Axes>"
      ]
     },
     "metadata": {
      "needs_background": "light"
     },
     "output_type": "display_data"
    },
    {
     "data": {
      "image/png": "[encoded data removed]",
      "text/plain": [
       "<Figure size 720x360 with 2 Axes>"
      ]
     },
     "metadata": {
      "needs_background": "light"
     },
     "output_type": "display_data"
    },
    {
     "data": {
      "image/png": "[encoded data removed]",
      "text/plain": [
       "<Figure size 720x360 with 2 Axes>"
      ]
     },
     "metadata": {
      "needs_background": "light"
     },
     "output_type": "display_data"
    },
    {
     "data": {
      "image/png": "[encoded data removed]",
      "text/plain": [
       "<Figure size 720x360 with 2 Axes>"
      ]
     },
     "metadata": {
      "needs_background": "light"
     },
     "output_type": "display_data"
    },
    {
     "data": {
      "image/png": "[encoded data removed]",
      "text/plain": [
       "<Figure size 720x360 with 2 Axes>"
      ]
     },
     "metadata": {
      "needs_background": "light"
     },
     "output_type": "display_data"
    },
    {
     "data": {
      "image/png": "[encoded data removed]",
      "text/plain": [
       "<Figure size 720x360 with 2 Axes>"
      ]
     },
     "metadata": {
      "needs_background": "light"
     },
     "output_type": "display_data"
    },
    {
     "data": {
      "image/png": "[encoded data removed]",
      "text/plain": [
       "<Figure size 720x360 with 2 Axes>"
      ]
     },
     "metadata": {
      "needs_background": "light"
     },
     "output_type": "display_data"
    },
    {
     "data": {
      "image/png": "[encoded data removed]",
      "text/plain": [
       "<Figure size 720x360 with 2 Axes>"
      ]
     },
     "metadata": {
      "needs_background": "light"
     },
     "output_type": "display_data"
    },
    {
     "data": {
      "image/png": "[encoded data removed]",
      "text/plain": [
       "<Figure size 720x360 with 2 Axes>"
      ]
     },
     "metadata": {
      "needs_background": "light"
     },
     "output_type": "display_data"
    },
    {
     "data": {
      "image/png": "[encoded data removed]",
      "text/plain": [
       "<Figure size 720x360 with 2 Axes>"
      ]
     },
     "metadata": {
      "needs_background": "light"
     },
     "output_type": "display_data"
    }
   ],
   "source": [
    "for column in X.columns:\n",
    "    sns.displot(data=df, x=column, col='Churn')"
   ]
  },
  {
   "cell_type": "markdown",
   "metadata": {},
   "source": [
    "Распределение биноминальных признаков в группах фактически уже рассмотрено выше, поэтому остановимся на распределении признаков которые могут принимать более двух значений:\n",
    "- в группе оттока преобладает клиенты с абонементом на 1 месяц, в то время как в группе оставшихся клиентов более половины имеют абонементы на 6 и 12 месяцев;\n",
    "- данные о возрасте клиентов в обоих группах распределены нормально, но группе оставшихся клиенты в среднем несколько старше;\n",
    "- данные о суммарной выручке от других услуг фитнес-клуба в обоих группах скошены вправо, в группе оттока большая часть клиентов тратит до 100 у.е. на другие услуги и единицы тратят более 300 у.е., а вгруппе оставшихся траты большей части клиентов составляют 50-200 у.е., а некоторые клиенты тратят 400-500 у.е.;\n",
    "- в группе оттока у абсолютного большинства клиентов срок до окончания текущего абонемента составляет 1 месяц, в группе оставшихся таких клиентов тоже большинство, но на ряду с этим имеется значительное количество клиентов у которых срок до окончания текущего абонемента составляет 6-12 месяцев;\n",
    "- лайфтайм у основной массы клиентов в группе оттока не превышает 2 месяцев (чаще 0 или 1 месяц), а вгруппе оставшихся лайфтайм большинства клиентов составляет 1-4 месяца, значительное количество клиентов посещают фитнес-клуб в течении 5-10 месяцев, а некоторые клиенты здерживаются даже на 20 и более месяцев;\n",
    "- наиболее встречаемая средняя частота посещений фитнес-клуба в неделю за всё время в группе оттока лежит в диапазоне от 1 до 2 раз, а в группе оставшихся от 1 до 3;\n",
    "- наиболее встречаемая средняя частота посещений фитнес-клуба за последний месяц в группе оттока равна 0, а вгруппе оставшихся составляет 1-3 раза."
   ]
  },
  {
   "cell_type": "markdown",
   "metadata": {},
   "source": [
    "### Матрица корреляций"
   ]
  },
  {
   "cell_type": "code",
   "execution_count": 9,
   "metadata": {},
   "outputs": [
    {
     "data": {
      "image/png": "[encoded data removed]",
      "text/plain": [
       "<Figure size 3600x720 with 2 Axes>"
      ]
     },
     "metadata": {
      "needs_background": "light"
     },
     "output_type": "display_data"
    }
   ],
   "source": [
    "plt.figure(figsize=(50,10)) #построение и отражение матрицы корреляций\n",
    "sns.heatmap(df.corr(), annot=True, square=True)\n",
    "plt.show()"
   ]
  },
  {
   "cell_type": "markdown",
   "metadata": {},
   "source": [
    "Из матрицы корреляций следует, что наблюдается:\n",
    "- обратная умеренная связь (в соответствии с таблицей Чеддока) между фактом оттока и длительностью абонемента и количеством месяцев до окончания абонемента, возрастом клиента, временем с момента первого посещения фитнес-клуба и средней частотой посещений в неделю за последний месяц и за всё время;\n",
    "- слабая обратная связь с фактом оттока по остальным признакам, за исключением пола и наличия телефона клиента (по данным признакам корреляция практически отсутствует);\n",
    "- весьма высокая прямая связь выявлена между такими признаками, как количество месяцев до конца абонемента и длительность абонемента (0,97), средняя частота посещений фитнес-клуба в неделю за весь период и средняя частота посещений фитнес-клуба в неделю за последний месяц, т.е. данные признаки являются мультиколлинеарными.\n",
    "\n",
    "Мультиколлинеарные признаки могут негативно влиять на работу моделей, особенно линейных, к коим относится логистическая регрессия, которую мы намерены использовать. Удалим те признаки из пары мультиколлинеарных, которые имеют менее тесную корреляцию с исходом - это количество месяцев до окончания абонемента и среднее количество посещений фитнес-центра в неделю за всё время."
   ]
  },
  {
   "cell_type": "code",
   "execution_count": 10,
   "metadata": {},
   "outputs": [],
   "source": [
    "X = X.drop(['Month_to_end_contract', 'Avg_class_frequency_total'], axis=1) #удаление признаков из мультиколлинеарных пар"
   ]
  },
  {
   "cell_type": "markdown",
   "metadata": {},
   "source": [
    "### Промежуточные выводы"
   ]
  },
  {
   "cell_type": "markdown",
   "metadata": {},
   "source": [
    "По результатам, проведённого EDA можно заключить следующее:\n",
    "1. Данные на которых предполагается дальнейшее ML, содержат целевую переменную, которой обозначается факт оттока пользователя и 13 признаков.\n",
    "2. В данных отсутствуют пропуски и дубликаты, категориальные данные в основном представлены биноминальными значениями (0, 1).\n",
    "3. В группе оттока по сравнению с группой оставшихся:\n",
    "- преобладают клиенты с абонементом на 1 месяц; \n",
    "- ниже доля клиентов проживающих или работающих в районе фитнес-центра, работающих в компании-партнёре, записавшихся в рамках бонусной программы, посещающих групповые занятия;\n",
    "- ниже средний возраст, лайфтайм, средняя выручка от других услуг, средняя количество месяцев до окончания абонемента, средние значения средней частоты посещений в неделю за всё время и за последний месяц.\n",
    "4. При построении матрицы корреляций выявлено:\n",
    "- наличие обратной умеренной связи оттока клиентов с длительностью абонемента, количеством месяцев до окончания абонемента, возрастом клиента, лайфтаймом, средней частотой посещений в неделю за последний месяц и за всё время;\n",
    "- наличие слабой обратной связи оттока клиентов с проживанием или работой клиента в районе фитнес-клуба, работой клиента в компании-партнёре, записью в рамках бонусной программы, посещением групповых занятий, средней выручкой от других услуг;\n",
    "- весьма высокая прямая связь количества месяцев до конца абонемента с длительностью абонемента, и средней частоты посещений фитнес-клуба в неделю за весь период со средней частотой посещений фитнес-клуба в неделю за последний месяц."
   ]
  },
  {
   "cell_type": "markdown",
   "metadata": {},
   "source": [
    "## Построение модели прогнозирования оттока клиентов"
   ]
  },
  {
   "cell_type": "markdown",
   "metadata": {},
   "source": [
    "### Разделение данных на обучающую и валидационную выборку"
   ]
  },
  {
   "cell_type": "markdown",
   "metadata": {},
   "source": [
    "Разобъём данные на обучающую и валидационную выборки в общепринятом соотношении - 80% обучающая выборка и 20% валидационная. "
   ]
  },
  {
   "cell_type": "code",
   "execution_count": 11,
   "metadata": {},
   "outputs": [],
   "source": [
    "#получение обучающей и тестовой выборки\n",
    "X_train, X_test, y_train, y_test = train_test_split(X, y, test_size=0.2, random_state=0, stratify=y)"
   ]
  },
  {
   "cell_type": "markdown",
   "metadata": {},
   "source": [
    "### Обучение модели логистической регрессией"
   ]
  },
  {
   "cell_type": "code",
   "execution_count": 12,
   "metadata": {},
   "outputs": [],
   "source": [
    "lr_model = LogisticRegression(solver='liblinear') #алгоритм для модели обучения\n",
    "lr_model.fit(X_train, y_train) #обучение модели на обучающей выборке\n",
    "lr_predictions = lr_model.predict(X_test) #прогноз модели на валидационно выборке"
   ]
  },
  {
   "cell_type": "markdown",
   "metadata": {},
   "source": [
    "### Обучение модели случайным лесом"
   ]
  },
  {
   "cell_type": "code",
   "execution_count": 13,
   "metadata": {},
   "outputs": [],
   "source": [
    "rf_model = RandomForestClassifier(n_estimators=100, random_state=0) #алгоритм для модели обучения\n",
    "rf_model.fit(X_train, y_train) #обучение модели на обучающей выборке\n",
    "rf_predictions = rf_model.predict(X_test) #прогноз модели на валидационно выборке"
   ]
  },
  {
   "cell_type": "markdown",
   "metadata": {},
   "source": [
    "### Оценка метрик и выбор наилучшей модели"
   ]
  },
  {
   "cell_type": "code",
   "execution_count": 14,
   "metadata": {},
   "outputs": [],
   "source": [
    "def metrics(y, y_pred): #функция для расчёта метрик\n",
    "    print('Accuracy:', accuracy_score(y, y_pred).round(2))\n",
    "    print('Precision:', precision_score(y, y_pred).round(2))\n",
    "    print('Recall:', recall_score(y, y_pred).round(2))"
   ]
  },
  {
   "cell_type": "code",
   "execution_count": 15,
   "metadata": {},
   "outputs": [
    {
     "name": "stdout",
     "output_type": "stream",
     "text": [
      "Accuracy: 0.91\n",
      "Precision: 0.85\n",
      "Recall: 0.82\n"
     ]
    }
   ],
   "source": [
    "metrics(y_test, lr_predictions) #расчёт метрик для модели логистической регрессии"
   ]
  },
  {
   "cell_type": "code",
   "execution_count": 16,
   "metadata": {},
   "outputs": [
    {
     "name": "stdout",
     "output_type": "stream",
     "text": [
      "Accuracy: 0.9\n",
      "Precision: 0.85\n",
      "Recall: 0.77\n"
     ]
    }
   ],
   "source": [
    "metrics(y_test, rf_predictions)"
   ]
  },
  {
   "cell_type": "markdown",
   "metadata": {},
   "source": [
    "- Доля правильных ответов (Accuracy) в моделе логистической регрессии и моделе случайного леса составила 91% и 90% соответственно.\n",
    "- Доля правильно спрогнозированного оттока клиентов от всего спрогнозированного оттока (Precision) в моделе логистической регрессии и моделе случайного леса составила по 85%.\n",
    "- Доля правильно спрогнозированного оттока клиентов от реального оттока (Recall) в моделе логистической регрессии и моделе случайного леса составила 82% и 77% соответственно."
   ]
  },
  {
   "cell_type": "markdown",
   "metadata": {},
   "source": [
    "### Промежуточные выводы"
   ]
  },
  {
   "cell_type": "markdown",
   "metadata": {},
   "source": [
    "Модель логистической регрессии показала более высокие значения метрик Accuracy и Recall, по сравнению с моделью случайного леса, а значит она лучше прогнозирует отток клиента."
   ]
  },
  {
   "cell_type": "markdown",
   "metadata": {},
   "source": [
    "## Кластеризация клиентов"
   ]
  },
  {
   "cell_type": "markdown",
   "metadata": {},
   "source": [
    "### Стандартизация данных"
   ]
  },
  {
   "cell_type": "code",
   "execution_count": 17,
   "metadata": {},
   "outputs": [],
   "source": [
    "scaler = StandardScaler() #создание объекта scaler\n",
    "X_st = scaler.fit_transform(X) #стандартизация данных с признками"
   ]
  },
  {
   "cell_type": "markdown",
   "metadata": {},
   "source": [
    "### Матрица расстояний и дендрограмма"
   ]
  },
  {
   "cell_type": "code",
   "execution_count": 18,
   "metadata": {},
   "outputs": [],
   "source": [
    "linked = linkage(X_st, method='ward') #создание таблицы \"связок\" между объектами"
   ]
  },
  {
   "cell_type": "code",
   "execution_count": 19,
   "metadata": {},
   "outputs": [
    {
     "data": {
      "image/png": "[encoded data removed]",
      "text/plain": [
       "<Figure size 1080x720 with 1 Axes>"
      ]
     },
     "metadata": {
      "needs_background": "light"
     },
     "output_type": "display_data"
    }
   ],
   "source": [
    "#отрисовка дендрограммы\n",
    "plt.figure(figsize=(15, 10))  \n",
    "dendrogram(linked, orientation='top')\n",
    "plt.title('Дендрограмма кластеризации')\n",
    "plt.show() "
   ]
  },
  {
   "cell_type": "markdown",
   "metadata": {},
   "source": [
    "Алгоритм предлагает в качестве оптимального количества кластеров - 4, соответствует 4 цветам, выделенным на дендрограмме."
   ]
  },
  {
   "cell_type": "markdown",
   "metadata": {},
   "source": [
    "### Прогнозирование кластеров клиентов "
   ]
  },
  {
   "cell_type": "code",
   "execution_count": 20,
   "metadata": {},
   "outputs": [],
   "source": [
    "km = KMeans(n_clusters=5, random_state=0) #алгоритм кластеризации с пятью заданными классами\n",
    "labels = km.fit_predict(X_st) #применение алгоритма к стандартизированным данным о признаках\n",
    "df['clusters'] = labels #добавление данных о кластерах в датафрейм"
   ]
  },
  {
   "cell_type": "markdown",
   "metadata": {},
   "source": [
    "### Средние значения признаков для кластеров"
   ]
  },
  {
   "cell_type": "code",
   "execution_count": 21,
   "metadata": {},
   "outputs": [
    {
     "data": {
      "text/html": [
       "<div>\n",
       "<style scoped>\n",
       "    .dataframe tbody tr th:only-of-type {\n",
       "        vertical-align: middle;\n",
       "    }\n",
       "\n",
       "    .dataframe tbody tr th {\n",
       "        vertical-align: top;\n",
       "    }\n",
       "\n",
       "    .dataframe thead th {\n",
       "        text-align: right;\n",
       "    }\n",
       "</style>\n",
       "<table border=\"1\" class=\"dataframe\">\n",
       "  <thead>\n",
       "    <tr style=\"text-align: right;\">\n",
       "      <th></th>\n",
       "      <th>gender</th>\n",
       "      <th>Near_Location</th>\n",
       "      <th>Partner</th>\n",
       "      <th>Promo_friends</th>\n",
       "      <th>Phone</th>\n",
       "      <th>Contract_period</th>\n",
       "      <th>Group_visits</th>\n",
       "      <th>Age</th>\n",
       "      <th>Avg_additional_charges_total</th>\n",
       "      <th>Month_to_end_contract</th>\n",
       "      <th>Lifetime</th>\n",
       "      <th>Avg_class_frequency_total</th>\n",
       "      <th>Avg_class_frequency_current_month</th>\n",
       "      <th>Churn</th>\n",
       "    </tr>\n",
       "    <tr>\n",
       "      <th>clusters</th>\n",
       "      <th></th>\n",
       "      <th></th>\n",
       "      <th></th>\n",
       "      <th></th>\n",
       "      <th></th>\n",
       "      <th></th>\n",
       "      <th></th>\n",
       "      <th></th>\n",
       "      <th></th>\n",
       "      <th></th>\n",
       "      <th></th>\n",
       "      <th></th>\n",
       "      <th></th>\n",
       "      <th></th>\n",
       "    </tr>\n",
       "  </thead>\n",
       "  <tbody>\n",
       "    <tr>\n",
       "      <th>0</th>\n",
       "      <td>0.50</td>\n",
       "      <td>1.00</td>\n",
       "      <td>0.89</td>\n",
       "      <td>1.00</td>\n",
       "      <td>1.00</td>\n",
       "      <td>6.92</td>\n",
       "      <td>0.52</td>\n",
       "      <td>29.61</td>\n",
       "      <td>153.42</td>\n",
       "      <td>6.33</td>\n",
       "      <td>4.28</td>\n",
       "      <td>1.96</td>\n",
       "      <td>1.92</td>\n",
       "      <td>0.12</td>\n",
       "    </tr>\n",
       "    <tr>\n",
       "      <th>1</th>\n",
       "      <td>0.50</td>\n",
       "      <td>0.00</td>\n",
       "      <td>0.49</td>\n",
       "      <td>0.08</td>\n",
       "      <td>1.00</td>\n",
       "      <td>2.99</td>\n",
       "      <td>0.23</td>\n",
       "      <td>28.68</td>\n",
       "      <td>137.13</td>\n",
       "      <td>2.82</td>\n",
       "      <td>2.97</td>\n",
       "      <td>1.76</td>\n",
       "      <td>1.60</td>\n",
       "      <td>0.40</td>\n",
       "    </tr>\n",
       "    <tr>\n",
       "      <th>2</th>\n",
       "      <td>0.50</td>\n",
       "      <td>1.00</td>\n",
       "      <td>0.22</td>\n",
       "      <td>0.07</td>\n",
       "      <td>1.00</td>\n",
       "      <td>2.01</td>\n",
       "      <td>0.28</td>\n",
       "      <td>27.58</td>\n",
       "      <td>119.34</td>\n",
       "      <td>1.94</td>\n",
       "      <td>1.92</td>\n",
       "      <td>1.45</td>\n",
       "      <td>1.20</td>\n",
       "      <td>0.56</td>\n",
       "    </tr>\n",
       "    <tr>\n",
       "      <th>3</th>\n",
       "      <td>0.53</td>\n",
       "      <td>1.00</td>\n",
       "      <td>0.38</td>\n",
       "      <td>0.01</td>\n",
       "      <td>1.00</td>\n",
       "      <td>6.21</td>\n",
       "      <td>0.54</td>\n",
       "      <td>30.70</td>\n",
       "      <td>176.26</td>\n",
       "      <td>5.65</td>\n",
       "      <td>5.42</td>\n",
       "      <td>2.32</td>\n",
       "      <td>2.32</td>\n",
       "      <td>0.01</td>\n",
       "    </tr>\n",
       "    <tr>\n",
       "      <th>4</th>\n",
       "      <td>0.52</td>\n",
       "      <td>0.86</td>\n",
       "      <td>0.47</td>\n",
       "      <td>0.31</td>\n",
       "      <td>0.00</td>\n",
       "      <td>4.78</td>\n",
       "      <td>0.43</td>\n",
       "      <td>29.30</td>\n",
       "      <td>144.21</td>\n",
       "      <td>4.47</td>\n",
       "      <td>3.94</td>\n",
       "      <td>1.85</td>\n",
       "      <td>1.72</td>\n",
       "      <td>0.27</td>\n",
       "    </tr>\n",
       "  </tbody>\n",
       "</table>\n",
       "</div>"
      ],
      "text/plain": [
       "          gender  Near_Location  Partner  Promo_friends  Phone  \\\n",
       "clusters                                                         \n",
       "0           0.50           1.00     0.89           1.00   1.00   \n",
       "1           0.50           0.00     0.49           0.08   1.00   \n",
       "2           0.50           1.00     0.22           0.07   1.00   \n",
       "3           0.53           1.00     0.38           0.01   1.00   \n",
       "4           0.52           0.86     0.47           0.31   0.00   \n",
       "\n",
       "          Contract_period  Group_visits   Age  Avg_additional_charges_total  \\\n",
       "clusters                                                                      \n",
       "0                    6.92          0.52 29.61                        153.42   \n",
       "1                    2.99          0.23 28.68                        137.13   \n",
       "2                    2.01          0.28 27.58                        119.34   \n",
       "3                    6.21          0.54 30.70                        176.26   \n",
       "4                    4.78          0.43 29.30                        144.21   \n",
       "\n",
       "          Month_to_end_contract  Lifetime  Avg_class_frequency_total  \\\n",
       "clusters                                                               \n",
       "0                          6.33      4.28                       1.96   \n",
       "1                          2.82      2.97                       1.76   \n",
       "2                          1.94      1.92                       1.45   \n",
       "3                          5.65      5.42                       2.32   \n",
       "4                          4.47      3.94                       1.85   \n",
       "\n",
       "          Avg_class_frequency_current_month  Churn  \n",
       "clusters                                            \n",
       "0                                      1.92   0.12  \n",
       "1                                      1.60   0.40  \n",
       "2                                      1.20   0.56  \n",
       "3                                      2.32   0.01  \n",
       "4                                      1.72   0.27  "
      ]
     },
     "execution_count": 21,
     "metadata": {},
     "output_type": "execute_result"
    }
   ],
   "source": [
    "df.groupby('clusters').mean() #рассчёт средних значений признаков для каждого кластера"
   ]
  },
  {
   "cell_type": "markdown",
   "metadata": {},
   "source": [
    "Характеристика средних значений в полученных кластерах:\n",
    "1. Кластер \"0\":\n",
    "- самые высокие доли клиентов из компаний-партнеров (89%), привлеченных в рамках бонусной программы (100%);\n",
    "- самые высокие средняя длительность абонемента (6,92 мес) и соответственно среднее количество месяцев до окончания абонемента (6,33 мес);\n",
    "- высокие доля клиентов, посещающих групповые занятия (52%), средний средний возраст клиента (29,61) лайфтайм (4,28 мес), средняя выручка от других услуг (153,42 у.е.), средние значения средней частоты посещений фитнес-центра за всё время (1,96) и за последний месяц (1,92).\n",
    "- относительно невысокий процент оттока (12%).\n",
    "2. Кластер \"1\":\n",
    "- в данный кластер попали все кто не проживает и не работает в районе фитнес-центра;\n",
    "- самая низкая доля посещений групповых занятий (23%)\n",
    "- относительно низкие, средняя длительность абонемента (2,99 мес), средняя выручка от других услуг фитнес-центра (137,13 у.е.), лайфтайм (2,97 мес), среднее значение средней частоты посещений в неделю за всё время (1,76) и последний месяц (1,60);\n",
    "- процент оттока очень высокий (40%).\n",
    "3. Кластер \"2\":\n",
    "- самые низкие доли клиентов, являющихся сотрудниками компаний партнеров (22%), записавшихся в рамках бонусной программы (7%);\n",
    "- самые низкие средняя длительность абонемента (2,01 мес), средний возраст клиента (27,58), средняя выручка от других услуг (119,34 у.е.), средний лайфтайм (1,92 мес), средняя частота посещений в неделю за всё время (1,45) и последний месяц (1,20);\n",
    "- процент оттока самый высокий (56%).\n",
    "4. Кластер \"3\":\n",
    "- самая высокая доля клиентов, посещающих групповые занятия (54%);\n",
    "- самая низкая доля клиентов, записавшихся в рамках бонусной программы (1%);\n",
    "- высокие средняя длительность абонемента (6,21 мес), \n",
    "- самые высокие средний возраст клиента (30,70), средний лайфтайм (5,42 мес), средняя выручка от других услуг фитнес-центра (176,26 у.е.), средние значения средней частоты посещений фитнес-центра в неделю за всё время (2,32) и за последний месяц (2,32);\n",
    "- самый низкий отток клиентов (1%).\n",
    "5. Кластер \"4\":\n",
    "- в данный кластер попали все клиенты не оставившие свой номер телефона;\n",
    "- относительно высокая доля клиентов, пришедших в рамках бонусной программы (31%)\n",
    "- по остальным признакам данный кластер обладает промежуточными средними значениями относительно других кластеров;\n",
    "- промежуточный уровень оттока (27%)."
   ]
  },
  {
   "cell_type": "markdown",
   "metadata": {},
   "source": [
    "### Распределение признаков для кластеров"
   ]
  },
  {
   "cell_type": "code",
   "execution_count": 22,
   "metadata": {
    "scrolled": true
   },
   "outputs": [
    {
     "data": {
      "image/png": "[encoded data removed]",
      "text/plain": [
       "<Figure size 1800x360 with 5 Axes>"
      ]
     },
     "metadata": {
      "needs_background": "light"
     },
     "output_type": "display_data"
    },
    {
     "data": {
      "image/png": "[encoded data removed]",
      "text/plain": [
       "<Figure size 1800x360 with 5 Axes>"
      ]
     },
     "metadata": {
      "needs_background": "light"
     },
     "output_type": "display_data"
    },
    {
     "data": {
      "image/png": "[encoded data removed]",
      "text/plain": [
       "<Figure size 1800x360 with 5 Axes>"
      ]
     },
     "metadata": {
      "needs_background": "light"
     },
     "output_type": "display_data"
    },
    {
     "data": {
      "image/png": "[encoded data removed]",
      "text/plain": [
       "<Figure size 1800x360 with 5 Axes>"
      ]
     },
     "metadata": {
      "needs_background": "light"
     },
     "output_type": "display_data"
    },
    {
     "data": {
      "image/png": "[encoded data removed]",
      "text/plain": [
       "<Figure size 1800x360 with 5 Axes>"
      ]
     },
     "metadata": {
      "needs_background": "light"
     },
     "output_type": "display_data"
    },
    {
     "data": {
      "image/png": "[encoded data removed]",
      "text/plain": [
       "<Figure size 1800x360 with 5 Axes>"
      ]
     },
     "metadata": {
      "needs_background": "light"
     },
     "output_type": "display_data"
    },
    {
     "data": {
      "image/png": "[encoded data removed]",
      "text/plain": [
       "<Figure size 1800x360 with 5 Axes>"
      ]
     },
     "metadata": {
      "needs_background": "light"
     },
     "output_type": "display_data"
    },
    {
     "data": {
      "image/png": "[encoded data removed]",
      "text/plain": [
       "<Figure size 1800x360 with 5 Axes>"
      ]
     },
     "metadata": {
      "needs_background": "light"
     },
     "output_type": "display_data"
    },
    {
     "data": {
      "image/png": "[encoded data removed]",
      "text/plain": [
       "<Figure size 1800x360 with 5 Axes>"
      ]
     },
     "metadata": {
      "needs_background": "light"
     },
     "output_type": "display_data"
    },
    {
     "data": {
      "image/png": "[encoded data removed]",
      "text/plain": [
       "<Figure size 1800x360 with 5 Axes>"
      ]
     },
     "metadata": {
      "needs_background": "light"
     },
     "output_type": "display_data"
    },
    {
     "data": {
      "image/png": "[encoded data removed]",
      "text/plain": [
       "<Figure size 1800x360 with 5 Axes>"
      ]
     },
     "metadata": {
      "needs_background": "light"
     },
     "output_type": "display_data"
    },
    {
     "data": {
      "image/png": "[encoded data removed]",
      "text/plain": [
       "<Figure size 1800x360 with 5 Axes>"
      ]
     },
     "metadata": {
      "needs_background": "light"
     },
     "output_type": "display_data"
    },
    {
     "data": {
      "image/png": "[encoded data removed]",
      "text/plain": [
       "<Figure size 1800x360 with 5 Axes>"
      ]
     },
     "metadata": {
      "needs_background": "light"
     },
     "output_type": "display_data"
    },
    {
     "data": {
      "image/png": "[encoded data removed]",
      "text/plain": [
       "<Figure size 1800x360 with 5 Axes>"
      ]
     },
     "metadata": {
      "needs_background": "light"
     },
     "output_type": "display_data"
    }
   ],
   "source": [
    "for column in df.drop(['clusters'], axis=1).columns:\n",
    "    sns.displot(data=df, x=column, col='clusters')\n",
    "    plt.show()"
   ]
  },
  {
   "cell_type": "markdown",
   "metadata": {},
   "source": [
    "При изучении распределения признаков в кластерах можно заметить, что в кластерах с самым низким оттоком (0 и 3) распределения таких признаков, как средняя выручка от других услуг фитнес-центра, лайфтайм, среднее число посещений в неделю, стремятся к нормальному. В то время, как распределения аналогичных признаков в кластерах с высоким оттоком (1 и 2) в большей степени смещены влево из-за преобладания низких значений."
   ]
  },
  {
   "cell_type": "markdown",
   "metadata": {},
   "source": [
    "### Доля оттока для каждого кластера"
   ]
  },
  {
   "cell_type": "code",
   "execution_count": 23,
   "metadata": {},
   "outputs": [
    {
     "data": {
      "text/html": [
       "<div>\n",
       "<style scoped>\n",
       "    .dataframe tbody tr th:only-of-type {\n",
       "        vertical-align: middle;\n",
       "    }\n",
       "\n",
       "    .dataframe tbody tr th {\n",
       "        vertical-align: top;\n",
       "    }\n",
       "\n",
       "    .dataframe thead th {\n",
       "        text-align: right;\n",
       "    }\n",
       "</style>\n",
       "<table border=\"1\" class=\"dataframe\">\n",
       "  <thead>\n",
       "    <tr style=\"text-align: right;\">\n",
       "      <th></th>\n",
       "      <th>Churn</th>\n",
       "    </tr>\n",
       "    <tr>\n",
       "      <th>clusters</th>\n",
       "      <th></th>\n",
       "    </tr>\n",
       "  </thead>\n",
       "  <tbody>\n",
       "    <tr>\n",
       "      <th>3</th>\n",
       "      <td>0.01</td>\n",
       "    </tr>\n",
       "    <tr>\n",
       "      <th>0</th>\n",
       "      <td>0.12</td>\n",
       "    </tr>\n",
       "    <tr>\n",
       "      <th>4</th>\n",
       "      <td>0.27</td>\n",
       "    </tr>\n",
       "    <tr>\n",
       "      <th>1</th>\n",
       "      <td>0.40</td>\n",
       "    </tr>\n",
       "    <tr>\n",
       "      <th>2</th>\n",
       "      <td>0.56</td>\n",
       "    </tr>\n",
       "  </tbody>\n",
       "</table>\n",
       "</div>"
      ],
      "text/plain": [
       "          Churn\n",
       "clusters       \n",
       "3          0.01\n",
       "0          0.12\n",
       "4          0.27\n",
       "1          0.40\n",
       "2          0.56"
      ]
     },
     "execution_count": 23,
     "metadata": {},
     "output_type": "execute_result"
    }
   ],
   "source": [
    "df.groupby('clusters').agg({'Churn' : 'mean'}).sort_values(by='Churn') #доля оттока в каждом кластере"
   ]
  },
  {
   "cell_type": "markdown",
   "metadata": {},
   "source": [
    "Как уже было показано выше, доля оттока клиентов отличается от кластера к кластеру. Склонны к оттоку клиенты кластеров \"1\" и \"2\" (40% и 56% оттока соответственно), а наиболее надежными являются клиенты кластеров \"0\" и \"3\" (12% и 1% оттока соответственно). В кластере \"4\" наблюдается достаточно высокая доля оттока (27%), по сравнению с другими кластерами, показатель оттока в кластере \"4\" можно назвать промежуточным."
   ]
  },
  {
   "cell_type": "markdown",
   "metadata": {},
   "source": [
    "### Промежуточный вывод"
   ]
  },
  {
   "cell_type": "markdown",
   "metadata": {},
   "source": [
    "1. Выполнили кластеризацию клиентов методом KMeans, в соответствии с техническим заданием было выделено пять кластеров.\n",
    "2. Наибольшая доля оттока наблюдается среди клиентов \"1\" и \"2\" кластера. Данные кластеры характеризуются более низкими показателями среднего возраста клиентов, средней длительности абонементов, выручки от других услуг, частоты посещений фитнес центра в неделю.\n",
    "3. Самыми надёжными являются клиенты \"3\" и \"0\" кластеров. Эти кластеры характеризуют более высокие средний возраст клиентов, длительность абонементов и средние показатели выручки от других услуг фитнес-центра, а также средней частоты посещений фитнес-центра в неделю.  "
   ]
  },
  {
   "cell_type": "markdown",
   "metadata": {},
   "source": [
    "## Общие выводы"
   ]
  },
  {
   "cell_type": "markdown",
   "metadata": {},
   "source": [
    "1. Данные использованные для ML, содержат целевую переменную (факт оттока пользователя) и 13 признаков (дубликаты и пропуски в данных отсутствовали).\n",
    "2. В группе оттока по сравнению с группой оставшихся, преобладают клиенты с абонементом на 1 месяц; ниже доля клиентов проживающих или работающих в районе фитнес-центра, работающих в компании-партнёре, записавшихся в рамках бонусной программы, посещающих групповые занятия; ниже средний возраст, лайфтайм, средняя выручка от других услуг, средняя количество месяцев до окончания абонемента, средние значения средней частоты посещений в неделю за всё время и за последний месяц.\n",
    "3. Имеется обратная умеренная связь оттока клиентов с длительностью абонемента, количеством месяцев до окончания абонемента, возрастом клиента, лайфтаймом, средней частотой посещений в неделю за последний месяц и за всё время.\n",
    "4. Имеется слабая обратная связь оттока клиентов с проживанием или работой в районе фитнес-клуба, работой клиента в компании-партнёре, записью в рамках бонусной программы, посещением групповых занятий, средней выручкой от других услуг.\n",
    "5. Имеется весьма высокая прямая связь количества месяцев до конца абонемента с длительностью абонемента, и средней частоты посещений фитнес-клуба в неделю за весь период со средней частотой посещений фитнес-клуба в неделю за последний месяц.\n",
    "6. Модель логистической регрессии даёт более точный прогноз оттока клиента с показателями Accuracy, Precision и Recall - 93%, 86% И 83% соответственно.\n",
    "7. Самый высокий отток наблюдается в кластерах \"1\" и \"2\"; они характеризуются более низкими средними показателями среднего возраста клиентов, средней длительности абонементов, выручки от других услуг, частоты посещений фитнес центра в неделю.\n",
    "8. Самый низкий отток наблюдается в кластерах \"3\" и \"0\"ти; они характеризуются более высокими средними показателями среднего возраста клиентов, длительности абонементов, выручки от других услуг фитнес-центра, а также средней частоты посещений фитнес-центра в неделю.  \n",
    "\n",
    "**Рекомендации для стратегии взаимодействия с клиентами и их удержания**\n",
    "1. Популяризация приобретения длительных абонементов (6, 12 месяцев). Предоставление скидок и промо-кодов на преобретение длительных абонементов.\n",
    "2. Стимулирование клиентов к увелечению общего лайфтайма. Предоставление привелегий клиентам фитнес-центра при достижении определенного лайфтайма (скидки на другие услуги, VIP или \"золотой\" статус, фирменные подарки и т.д.).\n",
    "3. Поддержание регулярности посещений (частота занятий в неделю) фитнес-центра. Напоминание клиентам о запланированных тренировках, помощь в составлении графика тренировок при преобретении абонемента, длительностью более 1 месяца.\n",
    "4. Расширение бонусных программ по сторудничеству с компаниями партнёрами, продвижение групповых занятий.\n",
    "5. Проведение акций по привлечению клиентов более старшего возраста. Скидки на абонементы для клиентов 30+, скидки на групповые занятия для возрастных клиентов.\n",
    "6. Дополнительные аналитические исследования побочных услуг фитнес-центра, с целью выявления потенциальных точек роста (расширение и совершенствование наиболее популярных у клиентов услуг, что может положительно сказаться на удержании клиентов)."
   ]
  }
 ],
 "metadata": {
  "ExecuteTimeLog": [
   {
    "duration": 363,
    "start_time": "2022-07-06T17:09:37.345Z"
   },
   {
    "duration": 144,
    "start_time": "2022-07-06T17:12:10.592Z"
   },
   {
    "duration": 5,
    "start_time": "2022-07-06T17:28:57.216Z"
   },
   {
    "duration": 19,
    "start_time": "2022-07-06T17:29:43.626Z"
   },
   {
    "duration": 29,
    "start_time": "2022-07-06T17:34:51.744Z"
   },
   {
    "duration": 5,
    "start_time": "2022-07-06T17:43:26.030Z"
   },
   {
    "duration": 82,
    "start_time": "2022-07-06T17:43:28.715Z"
   },
   {
    "duration": 4,
    "start_time": "2022-07-06T17:43:53.707Z"
   },
   {
    "duration": 28,
    "start_time": "2022-07-06T17:43:56.677Z"
   },
   {
    "duration": 5,
    "start_time": "2022-07-06T17:45:01.880Z"
   },
   {
    "duration": 30,
    "start_time": "2022-07-06T17:45:05.370Z"
   },
   {
    "duration": 4,
    "start_time": "2022-07-06T18:29:05.777Z"
   },
   {
    "duration": 33,
    "start_time": "2022-07-06T18:30:29.448Z"
   },
   {
    "duration": 42,
    "start_time": "2022-07-06T18:30:52.365Z"
   },
   {
    "duration": 7,
    "start_time": "2022-07-06T18:52:11.838Z"
   },
   {
    "duration": 8,
    "start_time": "2022-07-06T18:52:52.081Z"
   },
   {
    "duration": 14,
    "start_time": "2022-07-06T18:53:30.379Z"
   },
   {
    "duration": 3,
    "start_time": "2022-07-06T18:55:53.474Z"
   },
   {
    "duration": 7,
    "start_time": "2022-07-06T18:56:00.792Z"
   },
   {
    "duration": 8,
    "start_time": "2022-07-06T18:56:10.307Z"
   },
   {
    "duration": 8,
    "start_time": "2022-07-06T18:56:45.663Z"
   },
   {
    "duration": 6,
    "start_time": "2022-07-06T18:57:25.595Z"
   },
   {
    "duration": 8,
    "start_time": "2022-07-06T18:58:10.014Z"
   },
   {
    "duration": 9,
    "start_time": "2022-07-06T18:58:53.173Z"
   },
   {
    "duration": 11,
    "start_time": "2022-07-06T18:59:45.422Z"
   },
   {
    "duration": 8,
    "start_time": "2022-07-06T19:05:42.074Z"
   },
   {
    "duration": 1404,
    "start_time": "2022-07-06T19:06:31.588Z"
   },
   {
    "duration": 9,
    "start_time": "2022-07-06T19:06:44.077Z"
   },
   {
    "duration": 1227,
    "start_time": "2022-07-09T13:39:14.278Z"
   },
   {
    "duration": 95,
    "start_time": "2022-07-09T13:42:56.804Z"
   },
   {
    "duration": 4,
    "start_time": "2022-07-09T13:43:08.896Z"
   },
   {
    "duration": 55,
    "start_time": "2022-07-09T13:43:08.902Z"
   },
   {
    "duration": 6,
    "start_time": "2022-07-09T13:43:08.959Z"
   },
   {
    "duration": 52,
    "start_time": "2022-07-09T13:43:08.967Z"
   },
   {
    "duration": 5,
    "start_time": "2022-07-09T13:43:11.424Z"
   },
   {
    "duration": 90,
    "start_time": "2022-07-09T14:02:09.244Z"
   },
   {
    "duration": 14,
    "start_time": "2022-07-09T14:06:14.543Z"
   },
   {
    "duration": 13,
    "start_time": "2022-07-09T14:07:25.843Z"
   },
   {
    "duration": 5965,
    "start_time": "2022-07-09T14:25:35.038Z"
   },
   {
    "duration": 1537,
    "start_time": "2022-07-09T14:27:47.516Z"
   },
   {
    "duration": 1414,
    "start_time": "2022-07-10T14:23:30.221Z"
   },
   {
    "duration": 254,
    "start_time": "2022-07-10T14:25:23.005Z"
   },
   {
    "duration": 3,
    "start_time": "2022-07-10T14:25:34.685Z"
   },
   {
    "duration": 149,
    "start_time": "2022-07-10T14:25:34.690Z"
   },
   {
    "duration": 6,
    "start_time": "2022-07-10T14:25:34.841Z"
   },
   {
    "duration": 47,
    "start_time": "2022-07-10T14:25:34.849Z"
   },
   {
    "duration": 4,
    "start_time": "2022-07-10T14:25:34.898Z"
   },
   {
    "duration": 119,
    "start_time": "2022-07-10T14:25:34.904Z"
   },
   {
    "duration": 20,
    "start_time": "2022-07-10T14:25:35.026Z"
   },
   {
    "duration": 6904,
    "start_time": "2022-07-10T14:25:35.049Z"
   },
   {
    "duration": 1679,
    "start_time": "2022-07-10T14:25:41.955Z"
   },
   {
    "duration": 130,
    "start_time": "2022-07-10T15:11:54.115Z"
   },
   {
    "duration": 3,
    "start_time": "2022-07-10T15:13:35.152Z"
   },
   {
    "duration": 6,
    "start_time": "2022-07-10T15:13:43.566Z"
   },
   {
    "duration": 3,
    "start_time": "2022-07-10T15:22:03.834Z"
   },
   {
    "duration": 26,
    "start_time": "2022-07-10T15:31:03.212Z"
   },
   {
    "duration": 10,
    "start_time": "2022-07-10T15:48:14.571Z"
   },
   {
    "duration": 30,
    "start_time": "2022-07-10T15:48:26.451Z"
   },
   {
    "duration": 751,
    "start_time": "2022-07-10T15:48:30.591Z"
   },
   {
    "duration": 805,
    "start_time": "2022-07-10T15:50:42.113Z"
   },
   {
    "duration": 4,
    "start_time": "2022-07-10T15:59:22.511Z"
   },
   {
    "duration": 3,
    "start_time": "2022-07-10T16:03:02.448Z"
   },
   {
    "duration": 4,
    "start_time": "2022-07-10T16:03:22.415Z"
   },
   {
    "duration": 11,
    "start_time": "2022-07-10T16:04:51.558Z"
   },
   {
    "duration": 4,
    "start_time": "2022-07-10T16:05:11.236Z"
   },
   {
    "duration": 9,
    "start_time": "2022-07-10T16:05:13.335Z"
   },
   {
    "duration": 5,
    "start_time": "2022-07-10T16:05:28.266Z"
   },
   {
    "duration": 7,
    "start_time": "2022-07-10T16:05:28.736Z"
   },
   {
    "duration": 25,
    "start_time": "2022-07-10T16:07:11.651Z"
   },
   {
    "duration": 100,
    "start_time": "2022-07-10T16:10:29.477Z"
   },
   {
    "duration": 4,
    "start_time": "2022-07-10T16:12:27.430Z"
   },
   {
    "duration": 17,
    "start_time": "2022-07-10T16:12:39.345Z"
   },
   {
    "duration": 11,
    "start_time": "2022-07-10T16:18:38.575Z"
   },
   {
    "duration": 5,
    "start_time": "2022-07-10T16:18:54.659Z"
   },
   {
    "duration": 380,
    "start_time": "2022-07-10T16:19:02.966Z"
   },
   {
    "duration": 10,
    "start_time": "2022-07-10T16:19:06.926Z"
   },
   {
    "duration": 1706,
    "start_time": "2022-07-11T17:20:36.565Z"
   },
   {
    "duration": 121,
    "start_time": "2022-07-11T17:20:55.165Z"
   },
   {
    "duration": 4,
    "start_time": "2022-07-11T17:21:01.380Z"
   },
   {
    "duration": 57,
    "start_time": "2022-07-11T17:21:01.386Z"
   },
   {
    "duration": 5,
    "start_time": "2022-07-11T17:21:01.446Z"
   },
   {
    "duration": 37,
    "start_time": "2022-07-11T17:21:01.454Z"
   },
   {
    "duration": 4,
    "start_time": "2022-07-11T17:21:01.493Z"
   },
   {
    "duration": 139,
    "start_time": "2022-07-11T17:21:01.498Z"
   },
   {
    "duration": 18,
    "start_time": "2022-07-11T17:21:01.639Z"
   },
   {
    "duration": 7750,
    "start_time": "2022-07-11T17:21:01.659Z"
   },
   {
    "duration": 1770,
    "start_time": "2022-07-11T17:21:09.411Z"
   },
   {
    "duration": 6,
    "start_time": "2022-07-11T17:21:11.183Z"
   },
   {
    "duration": 39,
    "start_time": "2022-07-11T17:21:11.191Z"
   },
   {
    "duration": 570,
    "start_time": "2022-07-11T17:21:11.237Z"
   },
   {
    "duration": 4,
    "start_time": "2022-07-11T17:21:11.809Z"
   },
   {
    "duration": 19,
    "start_time": "2022-07-11T17:21:11.815Z"
   },
   {
    "duration": 9,
    "start_time": "2022-07-11T17:21:11.837Z"
   },
   {
    "duration": 8,
    "start_time": "2022-07-11T17:21:35.207Z"
   },
   {
    "duration": 4,
    "start_time": "2022-07-11T17:24:47.480Z"
   },
   {
    "duration": 603,
    "start_time": "2022-07-11T17:25:53.214Z"
   },
   {
    "duration": 133670,
    "start_time": "2022-07-11T17:26:11.145Z"
   },
   {
    "duration": 19,
    "start_time": "2022-07-11T17:29:27.197Z"
   },
   {
    "duration": 1527,
    "start_time": "2022-07-11T17:30:03.111Z"
   },
   {
    "duration": 15,
    "start_time": "2022-07-11T17:30:37.094Z"
   },
   {
    "duration": 23,
    "start_time": "2022-07-11T18:43:58.395Z"
   },
   {
    "duration": 14,
    "start_time": "2022-07-11T18:44:13.097Z"
   },
   {
    "duration": 14,
    "start_time": "2022-07-11T18:44:23.860Z"
   },
   {
    "duration": 1995,
    "start_time": "2022-07-11T19:44:38.971Z"
   },
   {
    "duration": 27,
    "start_time": "2022-07-11T19:44:40.977Z"
   },
   {
    "duration": 32,
    "start_time": "2022-07-11T19:44:41.006Z"
   },
   {
    "duration": 63,
    "start_time": "2022-07-11T19:44:41.049Z"
   },
   {
    "duration": 5,
    "start_time": "2022-07-11T19:44:41.115Z"
   },
   {
    "duration": 154,
    "start_time": "2022-07-11T19:44:41.122Z"
   },
   {
    "duration": 22,
    "start_time": "2022-07-11T19:44:41.279Z"
   },
   {
    "duration": 9233,
    "start_time": "2022-07-11T19:44:41.326Z"
   },
   {
    "duration": 2093,
    "start_time": "2022-07-11T19:44:50.561Z"
   },
   {
    "duration": 7,
    "start_time": "2022-07-11T19:44:52.660Z"
   },
   {
    "duration": 34,
    "start_time": "2022-07-11T19:44:52.669Z"
   },
   {
    "duration": 575,
    "start_time": "2022-07-11T19:44:52.708Z"
   },
   {
    "duration": 4,
    "start_time": "2022-07-11T19:44:53.285Z"
   },
   {
    "duration": 15,
    "start_time": "2022-07-11T19:44:53.291Z"
   },
   {
    "duration": 23,
    "start_time": "2022-07-11T19:44:53.309Z"
   },
   {
    "duration": 20,
    "start_time": "2022-07-11T19:44:53.340Z"
   },
   {
    "duration": 836,
    "start_time": "2022-07-11T19:44:53.362Z"
   },
   {
    "duration": 162229,
    "start_time": "2022-07-11T19:44:54.200Z"
   },
   {
    "duration": 1631,
    "start_time": "2022-07-11T19:47:36.431Z"
   },
   {
    "duration": 111,
    "start_time": "2022-07-11T19:47:38.126Z"
   },
   {
    "duration": 56,
    "start_time": "2022-07-11T19:47:38.242Z"
   },
   {
    "duration": 46,
    "start_time": "2022-07-12T17:19:16.354Z"
   },
   {
    "duration": 1553,
    "start_time": "2022-07-12T17:19:22.310Z"
   },
   {
    "duration": 45,
    "start_time": "2022-07-12T17:19:23.864Z"
   },
   {
    "duration": 6,
    "start_time": "2022-07-12T17:19:23.910Z"
   },
   {
    "duration": 30,
    "start_time": "2022-07-12T17:19:23.918Z"
   },
   {
    "duration": 4,
    "start_time": "2022-07-12T17:19:23.951Z"
   },
   {
    "duration": 118,
    "start_time": "2022-07-12T17:19:23.957Z"
   },
   {
    "duration": 12,
    "start_time": "2022-07-12T17:19:24.077Z"
   },
   {
    "duration": 8734,
    "start_time": "2022-07-12T17:19:24.090Z"
   },
   {
    "duration": 10506,
    "start_time": "2022-07-12T17:20:08.400Z"
   },
   {
    "duration": 10964,
    "start_time": "2022-07-12T17:20:44.870Z"
   },
   {
    "duration": 10811,
    "start_time": "2022-07-12T17:22:05.377Z"
   },
   {
    "duration": 10312,
    "start_time": "2022-07-12T17:23:03.390Z"
   },
   {
    "duration": 6534,
    "start_time": "2022-07-12T17:28:44.487Z"
   },
   {
    "duration": 577,
    "start_time": "2022-07-12T18:23:48.487Z"
   },
   {
    "duration": 431,
    "start_time": "2022-07-12T18:24:11.877Z"
   },
   {
    "duration": 13,
    "start_time": "2022-07-12T18:24:35.197Z"
   },
   {
    "duration": 14,
    "start_time": "2022-07-12T18:24:45.377Z"
   },
   {
    "duration": 4,
    "start_time": "2022-07-12T18:25:45.158Z"
   },
   {
    "duration": 26,
    "start_time": "2022-07-12T18:25:45.165Z"
   },
   {
    "duration": 6,
    "start_time": "2022-07-12T18:25:45.193Z"
   },
   {
    "duration": 50,
    "start_time": "2022-07-12T18:25:45.201Z"
   },
   {
    "duration": 5,
    "start_time": "2022-07-12T18:25:45.252Z"
   },
   {
    "duration": 122,
    "start_time": "2022-07-12T18:25:45.259Z"
   },
   {
    "duration": 14,
    "start_time": "2022-07-12T18:25:45.382Z"
   },
   {
    "duration": 18,
    "start_time": "2022-07-12T18:25:48.798Z"
   },
   {
    "duration": 1512,
    "start_time": "2022-07-12T18:30:32.719Z"
   },
   {
    "duration": 22,
    "start_time": "2022-07-12T18:30:34.233Z"
   },
   {
    "duration": 10,
    "start_time": "2022-07-12T18:30:34.257Z"
   },
   {
    "duration": 45,
    "start_time": "2022-07-12T18:30:34.269Z"
   },
   {
    "duration": 4,
    "start_time": "2022-07-12T18:30:34.317Z"
   },
   {
    "duration": 145,
    "start_time": "2022-07-12T18:30:34.323Z"
   },
   {
    "duration": 19,
    "start_time": "2022-07-12T18:30:34.470Z"
   },
   {
    "duration": 181,
    "start_time": "2022-07-12T18:30:34.491Z"
   },
   {
    "duration": 0,
    "start_time": "2022-07-12T18:30:34.675Z"
   },
   {
    "duration": 0,
    "start_time": "2022-07-12T18:30:34.677Z"
   },
   {
    "duration": 0,
    "start_time": "2022-07-12T18:30:34.678Z"
   },
   {
    "duration": 0,
    "start_time": "2022-07-12T18:30:34.680Z"
   },
   {
    "duration": 0,
    "start_time": "2022-07-12T18:30:34.681Z"
   },
   {
    "duration": 0,
    "start_time": "2022-07-12T18:30:34.682Z"
   },
   {
    "duration": 0,
    "start_time": "2022-07-12T18:30:34.683Z"
   },
   {
    "duration": 0,
    "start_time": "2022-07-12T18:30:34.685Z"
   },
   {
    "duration": 0,
    "start_time": "2022-07-12T18:30:34.687Z"
   },
   {
    "duration": 0,
    "start_time": "2022-07-12T18:30:34.688Z"
   },
   {
    "duration": 0,
    "start_time": "2022-07-12T18:30:34.690Z"
   },
   {
    "duration": 0,
    "start_time": "2022-07-12T18:30:34.691Z"
   },
   {
    "duration": 0,
    "start_time": "2022-07-12T18:30:34.693Z"
   },
   {
    "duration": 0,
    "start_time": "2022-07-12T18:30:34.694Z"
   },
   {
    "duration": 1429,
    "start_time": "2022-07-12T18:35:02.556Z"
   },
   {
    "duration": 20,
    "start_time": "2022-07-12T18:35:03.987Z"
   },
   {
    "duration": 5,
    "start_time": "2022-07-12T18:35:04.009Z"
   },
   {
    "duration": 39,
    "start_time": "2022-07-12T18:35:04.016Z"
   },
   {
    "duration": 6,
    "start_time": "2022-07-12T18:35:04.058Z"
   },
   {
    "duration": 114,
    "start_time": "2022-07-12T18:35:04.065Z"
   },
   {
    "duration": 13,
    "start_time": "2022-07-12T18:35:04.180Z"
   },
   {
    "duration": 3,
    "start_time": "2022-07-12T18:35:04.194Z"
   },
   {
    "duration": 49,
    "start_time": "2022-07-12T18:35:04.198Z"
   },
   {
    "duration": 1588,
    "start_time": "2022-07-12T18:35:04.249Z"
   },
   {
    "duration": 7,
    "start_time": "2022-07-12T18:35:05.839Z"
   },
   {
    "duration": 93,
    "start_time": "2022-07-12T18:35:05.849Z"
   },
   {
    "duration": 537,
    "start_time": "2022-07-12T18:35:05.945Z"
   },
   {
    "duration": 3,
    "start_time": "2022-07-12T18:35:06.485Z"
   },
   {
    "duration": 13,
    "start_time": "2022-07-12T18:35:06.489Z"
   },
   {
    "duration": 11,
    "start_time": "2022-07-12T18:35:06.503Z"
   },
   {
    "duration": 13,
    "start_time": "2022-07-12T18:35:06.516Z"
   },
   {
    "duration": 667,
    "start_time": "2022-07-12T18:35:06.531Z"
   },
   {
    "duration": 115348,
    "start_time": "2022-07-12T18:35:07.200Z"
   },
   {
    "duration": 1592,
    "start_time": "2022-07-12T18:37:02.550Z"
   },
   {
    "duration": 19,
    "start_time": "2022-07-12T18:37:04.144Z"
   },
   {
    "duration": 10,
    "start_time": "2022-07-12T18:37:04.165Z"
   },
   {
    "duration": 126,
    "start_time": "2022-07-12T18:38:28.364Z"
   },
   {
    "duration": 66,
    "start_time": "2022-07-12T18:39:26.904Z"
   },
   {
    "duration": 6610,
    "start_time": "2022-07-12T18:39:34.838Z"
   },
   {
    "duration": 47,
    "start_time": "2022-07-12T21:13:12.804Z"
   },
   {
    "duration": 6,
    "start_time": "2022-07-12T21:13:24.815Z"
   },
   {
    "duration": 1547,
    "start_time": "2022-07-12T21:13:36.446Z"
   },
   {
    "duration": 122,
    "start_time": "2022-07-12T21:13:37.995Z"
   },
   {
    "duration": 7,
    "start_time": "2022-07-12T21:13:38.118Z"
   },
   {
    "duration": 32,
    "start_time": "2022-07-12T21:13:38.126Z"
   },
   {
    "duration": 5,
    "start_time": "2022-07-12T21:13:38.160Z"
   },
   {
    "duration": 99,
    "start_time": "2022-07-12T21:13:38.166Z"
   },
   {
    "duration": 12,
    "start_time": "2022-07-12T21:13:38.266Z"
   },
   {
    "duration": 6182,
    "start_time": "2022-07-12T21:13:38.280Z"
   },
   {
    "duration": 77,
    "start_time": "2022-07-12T21:13:50.467Z"
   },
   {
    "duration": 4,
    "start_time": "2022-07-12T21:14:00.053Z"
   },
   {
    "duration": 13,
    "start_time": "2022-07-12T21:18:11.444Z"
   },
   {
    "duration": 4,
    "start_time": "2022-07-12T21:18:18.405Z"
   },
   {
    "duration": 27,
    "start_time": "2022-07-12T21:18:18.411Z"
   },
   {
    "duration": 5,
    "start_time": "2022-07-12T21:18:18.441Z"
   },
   {
    "duration": 31,
    "start_time": "2022-07-12T21:18:18.448Z"
   },
   {
    "duration": 4,
    "start_time": "2022-07-12T21:18:18.481Z"
   },
   {
    "duration": 129,
    "start_time": "2022-07-12T21:18:18.487Z"
   },
   {
    "duration": 57,
    "start_time": "2022-07-12T21:18:18.618Z"
   },
   {
    "duration": 6266,
    "start_time": "2022-07-12T21:18:18.677Z"
   },
   {
    "duration": 1695,
    "start_time": "2022-07-12T21:18:24.945Z"
   },
   {
    "duration": 4,
    "start_time": "2022-07-12T21:18:30.013Z"
   },
   {
    "duration": 7,
    "start_time": "2022-07-12T21:21:47.676Z"
   },
   {
    "duration": 25,
    "start_time": "2022-07-12T21:22:30.853Z"
   },
   {
    "duration": 312,
    "start_time": "2022-07-12T21:22:34.003Z"
   },
   {
    "duration": 3,
    "start_time": "2022-07-12T21:22:38.438Z"
   },
   {
    "duration": 7,
    "start_time": "2022-07-12T21:22:39.694Z"
   },
   {
    "duration": 7,
    "start_time": "2022-07-12T21:22:42.793Z"
   },
   {
    "duration": 8,
    "start_time": "2022-07-12T21:26:41.873Z"
   },
   {
    "duration": 566,
    "start_time": "2022-07-12T21:26:43.003Z"
   },
   {
    "duration": 108856,
    "start_time": "2022-07-12T21:26:45.238Z"
   },
   {
    "duration": 51,
    "start_time": "2022-07-12T21:32:21.443Z"
   },
   {
    "duration": 14,
    "start_time": "2022-07-12T21:38:21.623Z"
   },
   {
    "duration": 13,
    "start_time": "2022-07-12T21:38:58.231Z"
   },
   {
    "duration": 16,
    "start_time": "2022-07-12T21:40:55.233Z"
   },
   {
    "duration": 15,
    "start_time": "2022-07-12T21:41:01.093Z"
   },
   {
    "duration": 14,
    "start_time": "2022-07-12T21:41:48.692Z"
   },
   {
    "duration": 830,
    "start_time": "2022-07-12T21:42:23.293Z"
   },
   {
    "duration": 1691,
    "start_time": "2022-07-12T21:42:36.774Z"
   },
   {
    "duration": 14,
    "start_time": "2022-07-12T21:42:42.033Z"
   },
   {
    "duration": 5,
    "start_time": "2022-07-12T21:42:58.805Z"
   },
   {
    "duration": 10835,
    "start_time": "2022-07-12T21:43:04.193Z"
   },
   {
    "duration": 8489,
    "start_time": "2022-07-12T21:44:21.312Z"
   },
   {
    "duration": 10145,
    "start_time": "2022-07-12T22:10:57.937Z"
   },
   {
    "duration": 10214,
    "start_time": "2022-07-12T22:11:29.493Z"
   },
   {
    "duration": 9590,
    "start_time": "2022-07-12T22:11:52.535Z"
   },
   {
    "duration": 9843,
    "start_time": "2022-07-12T22:12:14.953Z"
   },
   {
    "duration": 11529,
    "start_time": "2022-07-12T22:13:34.343Z"
   },
   {
    "duration": 600,
    "start_time": "2022-07-12T22:15:39.836Z"
   },
   {
    "duration": 6874,
    "start_time": "2022-07-12T22:16:03.348Z"
   },
   {
    "duration": 6272,
    "start_time": "2022-07-12T22:16:33.640Z"
   },
   {
    "duration": 11545,
    "start_time": "2022-07-12T22:17:28.453Z"
   },
   {
    "duration": 11845,
    "start_time": "2022-07-12T22:22:20.272Z"
   },
   {
    "duration": 11765,
    "start_time": "2022-07-12T22:22:59.535Z"
   },
   {
    "duration": 10217,
    "start_time": "2022-07-12T22:23:17.494Z"
   },
   {
    "duration": 14317,
    "start_time": "2022-07-12T22:27:03.623Z"
   },
   {
    "duration": 12537,
    "start_time": "2022-07-12T22:28:53.143Z"
   },
   {
    "duration": 14,
    "start_time": "2022-07-12T22:33:05.163Z"
   },
   {
    "duration": 1299,
    "start_time": "2022-07-12T22:41:58.311Z"
   },
   {
    "duration": 23,
    "start_time": "2022-07-12T22:41:59.612Z"
   },
   {
    "duration": 12,
    "start_time": "2022-07-12T22:41:59.637Z"
   },
   {
    "duration": 37,
    "start_time": "2022-07-12T22:41:59.651Z"
   },
   {
    "duration": 4,
    "start_time": "2022-07-12T22:41:59.690Z"
   },
   {
    "duration": 102,
    "start_time": "2022-07-12T22:41:59.696Z"
   },
   {
    "duration": 19,
    "start_time": "2022-07-12T22:41:59.801Z"
   },
   {
    "duration": 6248,
    "start_time": "2022-07-12T22:41:59.822Z"
   },
   {
    "duration": 1593,
    "start_time": "2022-07-12T22:42:06.071Z"
   },
   {
    "duration": 4,
    "start_time": "2022-07-12T22:42:07.666Z"
   },
   {
    "duration": 11,
    "start_time": "2022-07-12T22:42:07.673Z"
   },
   {
    "duration": 31,
    "start_time": "2022-07-12T22:42:07.685Z"
   },
   {
    "duration": 348,
    "start_time": "2022-07-12T22:42:07.717Z"
   },
   {
    "duration": 3,
    "start_time": "2022-07-12T22:42:08.067Z"
   },
   {
    "duration": 25,
    "start_time": "2022-07-12T22:42:08.072Z"
   },
   {
    "duration": 40,
    "start_time": "2022-07-12T22:42:08.099Z"
   },
   {
    "duration": 21,
    "start_time": "2022-07-12T22:42:08.140Z"
   },
   {
    "duration": 616,
    "start_time": "2022-07-12T22:42:08.163Z"
   },
   {
    "duration": 1613,
    "start_time": "2022-07-13T19:28:50.192Z"
   },
   {
    "duration": 162,
    "start_time": "2022-07-13T19:28:51.808Z"
   },
   {
    "duration": 5,
    "start_time": "2022-07-13T19:28:51.972Z"
   },
   {
    "duration": 52,
    "start_time": "2022-07-13T19:28:51.980Z"
   },
   {
    "duration": 4,
    "start_time": "2022-07-13T19:28:52.034Z"
   },
   {
    "duration": 122,
    "start_time": "2022-07-13T19:28:52.040Z"
   },
   {
    "duration": 13,
    "start_time": "2022-07-13T19:28:52.164Z"
   },
   {
    "duration": 6236,
    "start_time": "2022-07-13T19:28:52.178Z"
   },
   {
    "duration": 1427,
    "start_time": "2022-07-13T19:28:58.416Z"
   },
   {
    "duration": 4,
    "start_time": "2022-07-13T19:28:59.846Z"
   },
   {
    "duration": 25,
    "start_time": "2022-07-13T19:28:59.851Z"
   },
   {
    "duration": 31,
    "start_time": "2022-07-13T19:28:59.878Z"
   },
   {
    "duration": 309,
    "start_time": "2022-07-13T19:28:59.911Z"
   },
   {
    "duration": 4,
    "start_time": "2022-07-13T19:29:00.221Z"
   },
   {
    "duration": 19,
    "start_time": "2022-07-13T19:29:00.226Z"
   },
   {
    "duration": 21,
    "start_time": "2022-07-13T19:29:00.247Z"
   },
   {
    "duration": 22,
    "start_time": "2022-07-13T19:29:00.272Z"
   },
   {
    "duration": 520,
    "start_time": "2022-07-13T19:29:00.295Z"
   },
   {
    "duration": 108228,
    "start_time": "2022-07-13T19:29:00.817Z"
   },
   {
    "duration": 1108,
    "start_time": "2022-07-13T19:30:49.052Z"
   },
   {
    "duration": 104,
    "start_time": "2022-07-13T19:30:50.162Z"
   },
   {
    "duration": 12852,
    "start_time": "2022-07-13T19:30:50.267Z"
   },
   {
    "duration": 10,
    "start_time": "2022-07-13T19:31:03.121Z"
   }
  ],
  "kernelspec": {
   "display_name": "Python 3 (ipykernel)",
   "language": "python",
   "name": "python3"
  },
  "language_info": {
   "codemirror_mode": {
    "name": "ipython",
    "version": 3
   },
   "file_extension": ".py",
   "mimetype": "text/x-python",
   "name": "python",
   "nbconvert_exporter": "python",
   "pygments_lexer": "ipython3",
   "version": "3.9.7"
  },
  "toc": {
   "base_numbering": 1,
   "nav_menu": {},
   "number_sections": true,
   "sideBar": true,
   "skip_h1_title": true,
   "title_cell": "Table of Contents",
   "title_sidebar": "Contents",
   "toc_cell": false,
   "toc_position": {
    "height": "calc(100% - 180px)",
    "left": "10px",
    "top": "150px",
    "width": "289.6px"
   },
   "toc_section_display": true,
   "toc_window_display": true
  }
 },
 "nbformat": 4,
 "nbformat_minor": 2
}
