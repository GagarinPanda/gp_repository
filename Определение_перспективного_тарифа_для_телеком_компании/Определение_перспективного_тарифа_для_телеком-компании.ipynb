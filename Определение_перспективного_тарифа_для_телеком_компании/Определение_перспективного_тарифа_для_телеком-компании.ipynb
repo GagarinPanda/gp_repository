{
 "cells": [
  {
   "cell_type": "markdown",
   "metadata": {},
   "source": [
    "# Определение перспективного тарифа для телеком-компании"
   ]
  },
  {
   "cell_type": "markdown",
   "metadata": {},
   "source": [
    "## Описание проекта"
   ]
  },
  {
   "cell_type": "markdown",
   "metadata": {},
   "source": [
    "### Цель исследования"
   ]
  },
  {
   "cell_type": "markdown",
   "metadata": {},
   "source": [
    "Из двух предложенных тарифов (\"Смарт\" и \"Ультра\") выбрать наиболее перспективный (потенциально приносящий большую прибыль) для дальнейшей коррекции рекламного бюджета коммерческим отделом."
   ]
  },
  {
   "cell_type": "markdown",
   "metadata": {},
   "source": [
    "### Источник данных"
   ]
  },
  {
   "cell_type": "markdown",
   "metadata": {},
   "source": [
    "Данные выборки из 500 клиентов за 2018 год (персональные данные, используемый тариф, сведения о звонках, сообщениях и использованном интернет трафике).\n",
    "\n",
    "**Описание данных**\n",
    "\n",
    "Таблица *users* (информация о пользователях):\n",
    "\n",
    "`user_id` — уникальный идентификатор пользователя;\n",
    "\n",
    "`first_name` — имя пользователя;\n",
    "\n",
    "`last_name` — фамилия пользователя;\n",
    "\n",
    "`age` — возраст пользователя (годы);\n",
    "\n",
    "`reg_date` — дата подключения тарифа (день, месяц, год);\n",
    "\n",
    "`churn_date` — дата прекращения пользования тарифом (если значение пропущено, то тариф ещё действовал на момент выгрузки данных);\n",
    "\n",
    "`city` — город проживания пользователя;\n",
    "\n",
    "`tariff` — название тарифного плана.\n",
    "\n",
    "Таблица *calls* (информация о звонках):\n",
    "\n",
    "`id` — уникальный номер звонка;\n",
    "\n",
    "`call_date` — дата звонка;\n",
    "\n",
    "`duration` — длительность звонка в минутах;\n",
    "\n",
    "`user_id` — идентификатор пользователя, сделавшего звонок.\n",
    "\n",
    "Таблица *messages* (информация о сообщениях):\n",
    "\n",
    "`id` — уникальный номер сообщения;\n",
    "\n",
    "`message_date` — дата сообщения;\n",
    "\n",
    "`user_id` — идентификатор пользователя, отправившего сообщение.\n",
    "\n",
    "Таблица *internet* (информация об интернет-сессиях):\n",
    "\n",
    "`id` — уникальный номер сессии;\n",
    "\n",
    "`mb_used` — объём потраченного за сессию интернет-трафика (в мегабайтах);\n",
    "\n",
    "`session_date` — дата интернет-сессии;\n",
    "\n",
    "`user_id` — идентификатор пользователя.\n",
    "\n",
    "Таблица *tariffs* (информация о тарифах):\n",
    "\n",
    "`tariff_name` — название тарифа;\n",
    "\n",
    "`rub_monthly_fee` — ежемесячная абонентская плата в рублях;\n",
    "\n",
    "`minutes_included` — количество минут разговора в месяц, включённых в абонентскую плату;\n",
    "\n",
    "`messages_included` — количество сообщений в месяц, включённых в абонентскую плату;\n",
    "\n",
    "`mb_per_month_included` — объём интернет-трафика, включённого в абонентскую плату (в мегабайтах);\n",
    "\n",
    "`rub_per_minute` — стоимость минуты разговора сверх тарифного пакета;\n",
    "\n",
    "`rub_per_message` — стоимость отправки сообщения сверх тарифного пакета;\n",
    "\n",
    "`rub_per_gb` — стоимость дополнительного гигабайта интернет-трафика сверх тарифного пакета."
   ]
  },
  {
   "cell_type": "markdown",
   "metadata": {},
   "source": [
    "### Ход исследования"
   ]
  },
  {
   "cell_type": "markdown",
   "metadata": {},
   "source": [
    "1. Изучение общей информации о данных.\n",
    "2. Предобработка данных:\n",
    "- приведение данных к нужным типам;\n",
    "- поиск и обработка ошибок и аномалий в данных;\n",
    "- расчёт для каждого пользователя:\n",
    "    - количество сделанных звонков и израсходованных минут разговора по месяцам;\n",
    "    - количество отправленных сообщений по месяцам;\n",
    "    - объем израсходованного интернет-трафика по месяцам;\n",
    "    - помесячную выручку с каждого пользователя.\n",
    "3. Анализ данных:\n",
    "- описание поведения клиентов (количество минут разговора, сообщений, интернет-трафика необходимого абонентам каждого тарифа ежемесячно);\n",
    "- расчет средних значений, дисперсии и стандартного отклонения;\n",
    "- визуализация гистограммами.\n",
    "4. Проверка гипотез:\n",
    "- средняя выручка пользователей тарифов «Ультра» и «Смарт» различаются;\n",
    "- средняя выручка пользователей из Москвы отличается от выручки пользователей из других регионов."
   ]
  },
  {
   "cell_type": "code",
   "execution_count": 1,
   "metadata": {},
   "outputs": [],
   "source": [
    "import pandas as pd\n",
    "from scipy import stats as st\n",
    "import numpy as np\n",
    "import matplotlib.pyplot as plt\n",
    "\n",
    "pd.set_option('display.float_format', '{:,.2f}'.format)"
   ]
  },
  {
   "cell_type": "markdown",
   "metadata": {},
   "source": [
    "## Изучение общей информации о данных"
   ]
  },
  {
   "cell_type": "markdown",
   "metadata": {},
   "source": [
    "### Изучение данных о звонках"
   ]
  },
  {
   "cell_type": "code",
   "execution_count": 2,
   "metadata": {},
   "outputs": [],
   "source": [
    "df_calls = pd.read_csv('/datasets/calls.csv') \n",
    "#получение датасета с данными о звонках"
   ]
  },
  {
   "cell_type": "code",
   "execution_count": 3,
   "metadata": {},
   "outputs": [
    {
     "data": {
      "text/html": [
       "<div>\n",
       "<style scoped>\n",
       "    .dataframe tbody tr th:only-of-type {\n",
       "        vertical-align: middle;\n",
       "    }\n",
       "\n",
       "    .dataframe tbody tr th {\n",
       "        vertical-align: top;\n",
       "    }\n",
       "\n",
       "    .dataframe thead th {\n",
       "        text-align: right;\n",
       "    }\n",
       "</style>\n",
       "<table border=\"1\" class=\"dataframe\">\n",
       "  <thead>\n",
       "    <tr style=\"text-align: right;\">\n",
       "      <th></th>\n",
       "      <th>id</th>\n",
       "      <th>call_date</th>\n",
       "      <th>duration</th>\n",
       "      <th>user_id</th>\n",
       "    </tr>\n",
       "  </thead>\n",
       "  <tbody>\n",
       "    <tr>\n",
       "      <th>0</th>\n",
       "      <td>1000_0</td>\n",
       "      <td>2018-07-25</td>\n",
       "      <td>0.00</td>\n",
       "      <td>1000</td>\n",
       "    </tr>\n",
       "    <tr>\n",
       "      <th>1</th>\n",
       "      <td>1000_1</td>\n",
       "      <td>2018-08-17</td>\n",
       "      <td>0.00</td>\n",
       "      <td>1000</td>\n",
       "    </tr>\n",
       "    <tr>\n",
       "      <th>2</th>\n",
       "      <td>1000_2</td>\n",
       "      <td>2018-06-11</td>\n",
       "      <td>2.85</td>\n",
       "      <td>1000</td>\n",
       "    </tr>\n",
       "    <tr>\n",
       "      <th>3</th>\n",
       "      <td>1000_3</td>\n",
       "      <td>2018-09-21</td>\n",
       "      <td>13.80</td>\n",
       "      <td>1000</td>\n",
       "    </tr>\n",
       "    <tr>\n",
       "      <th>4</th>\n",
       "      <td>1000_4</td>\n",
       "      <td>2018-12-15</td>\n",
       "      <td>5.18</td>\n",
       "      <td>1000</td>\n",
       "    </tr>\n",
       "  </tbody>\n",
       "</table>\n",
       "</div>"
      ],
      "text/plain": [
       "       id   call_date  duration  user_id\n",
       "0  1000_0  2018-07-25      0.00     1000\n",
       "1  1000_1  2018-08-17      0.00     1000\n",
       "2  1000_2  2018-06-11      2.85     1000\n",
       "3  1000_3  2018-09-21     13.80     1000\n",
       "4  1000_4  2018-12-15      5.18     1000"
      ]
     },
     "execution_count": 3,
     "metadata": {},
     "output_type": "execute_result"
    }
   ],
   "source": [
    "df_calls.head() #вывод первых пяти строк датасета "
   ]
  },
  {
   "cell_type": "code",
   "execution_count": 4,
   "metadata": {},
   "outputs": [
    {
     "name": "stdout",
     "output_type": "stream",
     "text": [
      "<class 'pandas.core.frame.DataFrame'>\n",
      "RangeIndex: 202607 entries, 0 to 202606\n",
      "Data columns (total 4 columns):\n",
      " #   Column     Non-Null Count   Dtype  \n",
      "---  ------     --------------   -----  \n",
      " 0   id         202607 non-null  object \n",
      " 1   call_date  202607 non-null  object \n",
      " 2   duration   202607 non-null  float64\n",
      " 3   user_id    202607 non-null  int64  \n",
      "dtypes: float64(1), int64(1), object(2)\n",
      "memory usage: 6.2+ MB\n"
     ]
    }
   ],
   "source": [
    "df_calls.info() #вывод общей информации о датасете"
   ]
  },
  {
   "cell_type": "markdown",
   "metadata": {},
   "source": [
    "Пропусков в датасете нет. Проверим наличие дубликатов:"
   ]
  },
  {
   "cell_type": "code",
   "execution_count": 5,
   "metadata": {},
   "outputs": [
    {
     "data": {
      "text/plain": [
       "0"
      ]
     },
     "execution_count": 5,
     "metadata": {},
     "output_type": "execute_result"
    }
   ],
   "source": [
    "df_calls.duplicated().sum() #подсчет количества дубликатов в датасете"
   ]
  },
  {
   "cell_type": "markdown",
   "metadata": {},
   "source": [
    "Изменим формат данных в столбце 'call_date' на datetime:"
   ]
  },
  {
   "cell_type": "code",
   "execution_count": 6,
   "metadata": {},
   "outputs": [],
   "source": [
    "df_calls['call_date'] = pd.to_datetime(df_calls['call_date'], format='%Y-%m-%d')"
   ]
  },
  {
   "cell_type": "markdown",
   "metadata": {},
   "source": [
    "'Мегалайн' всегда округляет секунды до минут в большую сторону, проделаем тоже самое со столбцом 'duration', и изменим формат значений в нем на целочисленный."
   ]
  },
  {
   "cell_type": "code",
   "execution_count": 7,
   "metadata": {},
   "outputs": [],
   "source": [
    "df_calls['duration'] = np.ceil(df_calls['duration']) #округление значений в столбце до целого в большую сторону\n",
    "df_calls['duration'] = df_calls['duration'].astype('int') #замена формата на целочисленный"
   ]
  },
  {
   "cell_type": "markdown",
   "metadata": {},
   "source": [
    "### Изучение данных об интернет-трафике ###"
   ]
  },
  {
   "cell_type": "code",
   "execution_count": 8,
   "metadata": {},
   "outputs": [],
   "source": [
    "df_internet = pd.read_csv('/datasets/internet.csv', index_col=0)\n",
    "#получение датасета с данными об использовании интернета"
   ]
  },
  {
   "cell_type": "code",
   "execution_count": 9,
   "metadata": {},
   "outputs": [
    {
     "data": {
      "text/html": [
       "<div>\n",
       "<style scoped>\n",
       "    .dataframe tbody tr th:only-of-type {\n",
       "        vertical-align: middle;\n",
       "    }\n",
       "\n",
       "    .dataframe tbody tr th {\n",
       "        vertical-align: top;\n",
       "    }\n",
       "\n",
       "    .dataframe thead th {\n",
       "        text-align: right;\n",
       "    }\n",
       "</style>\n",
       "<table border=\"1\" class=\"dataframe\">\n",
       "  <thead>\n",
       "    <tr style=\"text-align: right;\">\n",
       "      <th></th>\n",
       "      <th>id</th>\n",
       "      <th>mb_used</th>\n",
       "      <th>session_date</th>\n",
       "      <th>user_id</th>\n",
       "    </tr>\n",
       "  </thead>\n",
       "  <tbody>\n",
       "    <tr>\n",
       "      <th>0</th>\n",
       "      <td>1000_0</td>\n",
       "      <td>112.95</td>\n",
       "      <td>2018-11-25</td>\n",
       "      <td>1000</td>\n",
       "    </tr>\n",
       "    <tr>\n",
       "      <th>1</th>\n",
       "      <td>1000_1</td>\n",
       "      <td>1,052.81</td>\n",
       "      <td>2018-09-07</td>\n",
       "      <td>1000</td>\n",
       "    </tr>\n",
       "    <tr>\n",
       "      <th>2</th>\n",
       "      <td>1000_2</td>\n",
       "      <td>1,197.26</td>\n",
       "      <td>2018-06-25</td>\n",
       "      <td>1000</td>\n",
       "    </tr>\n",
       "    <tr>\n",
       "      <th>3</th>\n",
       "      <td>1000_3</td>\n",
       "      <td>550.27</td>\n",
       "      <td>2018-08-22</td>\n",
       "      <td>1000</td>\n",
       "    </tr>\n",
       "    <tr>\n",
       "      <th>4</th>\n",
       "      <td>1000_4</td>\n",
       "      <td>302.56</td>\n",
       "      <td>2018-09-24</td>\n",
       "      <td>1000</td>\n",
       "    </tr>\n",
       "  </tbody>\n",
       "</table>\n",
       "</div>"
      ],
      "text/plain": [
       "       id  mb_used session_date  user_id\n",
       "0  1000_0   112.95   2018-11-25     1000\n",
       "1  1000_1 1,052.81   2018-09-07     1000\n",
       "2  1000_2 1,197.26   2018-06-25     1000\n",
       "3  1000_3   550.27   2018-08-22     1000\n",
       "4  1000_4   302.56   2018-09-24     1000"
      ]
     },
     "execution_count": 9,
     "metadata": {},
     "output_type": "execute_result"
    }
   ],
   "source": [
    "df_internet.head()"
   ]
  },
  {
   "cell_type": "code",
   "execution_count": 10,
   "metadata": {},
   "outputs": [
    {
     "name": "stdout",
     "output_type": "stream",
     "text": [
      "<class 'pandas.core.frame.DataFrame'>\n",
      "Int64Index: 149396 entries, 0 to 149395\n",
      "Data columns (total 4 columns):\n",
      " #   Column        Non-Null Count   Dtype  \n",
      "---  ------        --------------   -----  \n",
      " 0   id            149396 non-null  object \n",
      " 1   mb_used       149396 non-null  float64\n",
      " 2   session_date  149396 non-null  object \n",
      " 3   user_id       149396 non-null  int64  \n",
      "dtypes: float64(1), int64(1), object(2)\n",
      "memory usage: 5.7+ MB\n"
     ]
    }
   ],
   "source": [
    "df_internet.info()"
   ]
  },
  {
   "cell_type": "code",
   "execution_count": 11,
   "metadata": {},
   "outputs": [
    {
     "data": {
      "text/plain": [
       "0"
      ]
     },
     "execution_count": 11,
     "metadata": {},
     "output_type": "execute_result"
    }
   ],
   "source": [
    "df_internet.duplicated().sum() #подсчет количества дубликатов в датасете"
   ]
  },
  {
   "cell_type": "code",
   "execution_count": 12,
   "metadata": {},
   "outputs": [],
   "source": [
    "df_internet['session_date'] = pd.to_datetime(df_internet['session_date'], format='%Y-%m-%d') \n",
    "#изменение формата в столбце на datetime"
   ]
  },
  {
   "cell_type": "markdown",
   "metadata": {},
   "source": [
    "В датафрейме присутствует \"неопознанный\" столбец 'Unnamed: 0', значения которого, дублируют индексы строк. Данный столбец лишний и его стоит удалить. "
   ]
  },
  {
   "cell_type": "markdown",
   "metadata": {},
   "source": [
    "### Изучение данных о SMS-сообщениях ###"
   ]
  },
  {
   "cell_type": "code",
   "execution_count": 14,
   "metadata": {},
   "outputs": [],
   "source": [
    "df_messages = pd.read_csv('/datasets/messages.csv')\n",
    "#получение датасета с данными об отправленных сообщениях"
   ]
  },
  {
   "cell_type": "code",
   "execution_count": 15,
   "metadata": {},
   "outputs": [
    {
     "data": {
      "text/html": [
       "<div>\n",
       "<style scoped>\n",
       "    .dataframe tbody tr th:only-of-type {\n",
       "        vertical-align: middle;\n",
       "    }\n",
       "\n",
       "    .dataframe tbody tr th {\n",
       "        vertical-align: top;\n",
       "    }\n",
       "\n",
       "    .dataframe thead th {\n",
       "        text-align: right;\n",
       "    }\n",
       "</style>\n",
       "<table border=\"1\" class=\"dataframe\">\n",
       "  <thead>\n",
       "    <tr style=\"text-align: right;\">\n",
       "      <th></th>\n",
       "      <th>id</th>\n",
       "      <th>message_date</th>\n",
       "      <th>user_id</th>\n",
       "    </tr>\n",
       "  </thead>\n",
       "  <tbody>\n",
       "    <tr>\n",
       "      <th>0</th>\n",
       "      <td>1000_0</td>\n",
       "      <td>2018-06-27</td>\n",
       "      <td>1000</td>\n",
       "    </tr>\n",
       "    <tr>\n",
       "      <th>1</th>\n",
       "      <td>1000_1</td>\n",
       "      <td>2018-10-08</td>\n",
       "      <td>1000</td>\n",
       "    </tr>\n",
       "    <tr>\n",
       "      <th>2</th>\n",
       "      <td>1000_2</td>\n",
       "      <td>2018-08-04</td>\n",
       "      <td>1000</td>\n",
       "    </tr>\n",
       "    <tr>\n",
       "      <th>3</th>\n",
       "      <td>1000_3</td>\n",
       "      <td>2018-06-16</td>\n",
       "      <td>1000</td>\n",
       "    </tr>\n",
       "    <tr>\n",
       "      <th>4</th>\n",
       "      <td>1000_4</td>\n",
       "      <td>2018-12-05</td>\n",
       "      <td>1000</td>\n",
       "    </tr>\n",
       "  </tbody>\n",
       "</table>\n",
       "</div>"
      ],
      "text/plain": [
       "       id message_date  user_id\n",
       "0  1000_0   2018-06-27     1000\n",
       "1  1000_1   2018-10-08     1000\n",
       "2  1000_2   2018-08-04     1000\n",
       "3  1000_3   2018-06-16     1000\n",
       "4  1000_4   2018-12-05     1000"
      ]
     },
     "execution_count": 15,
     "metadata": {},
     "output_type": "execute_result"
    }
   ],
   "source": [
    "df_messages.head()"
   ]
  },
  {
   "cell_type": "code",
   "execution_count": 16,
   "metadata": {},
   "outputs": [
    {
     "name": "stdout",
     "output_type": "stream",
     "text": [
      "<class 'pandas.core.frame.DataFrame'>\n",
      "RangeIndex: 123036 entries, 0 to 123035\n",
      "Data columns (total 3 columns):\n",
      " #   Column        Non-Null Count   Dtype \n",
      "---  ------        --------------   ----- \n",
      " 0   id            123036 non-null  object\n",
      " 1   message_date  123036 non-null  object\n",
      " 2   user_id       123036 non-null  int64 \n",
      "dtypes: int64(1), object(2)\n",
      "memory usage: 2.8+ MB\n"
     ]
    }
   ],
   "source": [
    "df_messages.info()"
   ]
  },
  {
   "cell_type": "code",
   "execution_count": 17,
   "metadata": {},
   "outputs": [
    {
     "data": {
      "text/plain": [
       "0"
      ]
     },
     "execution_count": 17,
     "metadata": {},
     "output_type": "execute_result"
    }
   ],
   "source": [
    "df_messages.duplicated().sum() #подсчет количества дубликатов в датасете"
   ]
  },
  {
   "cell_type": "code",
   "execution_count": 18,
   "metadata": {},
   "outputs": [],
   "source": [
    "df_messages['message_date'] = pd.to_datetime(df_messages['message_date'], format='%Y-%m-%d') \n",
    "#изменение формата в столбце на datetime"
   ]
  },
  {
   "cell_type": "markdown",
   "metadata": {},
   "source": [
    "### Изучение данных о тарифах ###"
   ]
  },
  {
   "cell_type": "code",
   "execution_count": 19,
   "metadata": {},
   "outputs": [],
   "source": [
    "df_tariffs = pd.read_csv('/datasets/tariffs.csv')\n",
    "#получение датасета с данными о тарифах"
   ]
  },
  {
   "cell_type": "code",
   "execution_count": 20,
   "metadata": {},
   "outputs": [
    {
     "data": {
      "text/html": [
       "<div>\n",
       "<style scoped>\n",
       "    .dataframe tbody tr th:only-of-type {\n",
       "        vertical-align: middle;\n",
       "    }\n",
       "\n",
       "    .dataframe tbody tr th {\n",
       "        vertical-align: top;\n",
       "    }\n",
       "\n",
       "    .dataframe thead th {\n",
       "        text-align: right;\n",
       "    }\n",
       "</style>\n",
       "<table border=\"1\" class=\"dataframe\">\n",
       "  <thead>\n",
       "    <tr style=\"text-align: right;\">\n",
       "      <th></th>\n",
       "      <th>messages_included</th>\n",
       "      <th>mb_per_month_included</th>\n",
       "      <th>minutes_included</th>\n",
       "      <th>rub_monthly_fee</th>\n",
       "      <th>rub_per_gb</th>\n",
       "      <th>rub_per_message</th>\n",
       "      <th>rub_per_minute</th>\n",
       "      <th>tariff_name</th>\n",
       "    </tr>\n",
       "  </thead>\n",
       "  <tbody>\n",
       "    <tr>\n",
       "      <th>0</th>\n",
       "      <td>50</td>\n",
       "      <td>15360</td>\n",
       "      <td>500</td>\n",
       "      <td>550</td>\n",
       "      <td>200</td>\n",
       "      <td>3</td>\n",
       "      <td>3</td>\n",
       "      <td>smart</td>\n",
       "    </tr>\n",
       "    <tr>\n",
       "      <th>1</th>\n",
       "      <td>1000</td>\n",
       "      <td>30720</td>\n",
       "      <td>3000</td>\n",
       "      <td>1950</td>\n",
       "      <td>150</td>\n",
       "      <td>1</td>\n",
       "      <td>1</td>\n",
       "      <td>ultra</td>\n",
       "    </tr>\n",
       "  </tbody>\n",
       "</table>\n",
       "</div>"
      ],
      "text/plain": [
       "   messages_included  mb_per_month_included  minutes_included  \\\n",
       "0                 50                  15360               500   \n",
       "1               1000                  30720              3000   \n",
       "\n",
       "   rub_monthly_fee  rub_per_gb  rub_per_message  rub_per_minute tariff_name  \n",
       "0              550         200                3               3       smart  \n",
       "1             1950         150                1               1       ultra  "
      ]
     },
     "execution_count": 20,
     "metadata": {},
     "output_type": "execute_result"
    }
   ],
   "source": [
    "df_tariffs.head()"
   ]
  },
  {
   "cell_type": "markdown",
   "metadata": {},
   "source": [
    "### Изучение данных о пользователях ###"
   ]
  },
  {
   "cell_type": "code",
   "execution_count": 21,
   "metadata": {},
   "outputs": [],
   "source": [
    "df_users = pd.read_csv('/datasets/users.csv')\n",
    "#получение датасета с данными об абонентах"
   ]
  },
  {
   "cell_type": "code",
   "execution_count": 22,
   "metadata": {},
   "outputs": [
    {
     "data": {
      "text/html": [
       "<div>\n",
       "<style scoped>\n",
       "    .dataframe tbody tr th:only-of-type {\n",
       "        vertical-align: middle;\n",
       "    }\n",
       "\n",
       "    .dataframe tbody tr th {\n",
       "        vertical-align: top;\n",
       "    }\n",
       "\n",
       "    .dataframe thead th {\n",
       "        text-align: right;\n",
       "    }\n",
       "</style>\n",
       "<table border=\"1\" class=\"dataframe\">\n",
       "  <thead>\n",
       "    <tr style=\"text-align: right;\">\n",
       "      <th></th>\n",
       "      <th>user_id</th>\n",
       "      <th>age</th>\n",
       "      <th>churn_date</th>\n",
       "      <th>city</th>\n",
       "      <th>first_name</th>\n",
       "      <th>last_name</th>\n",
       "      <th>reg_date</th>\n",
       "      <th>tariff</th>\n",
       "    </tr>\n",
       "  </thead>\n",
       "  <tbody>\n",
       "    <tr>\n",
       "      <th>0</th>\n",
       "      <td>1000</td>\n",
       "      <td>52</td>\n",
       "      <td>NaN</td>\n",
       "      <td>Краснодар</td>\n",
       "      <td>Рафаил</td>\n",
       "      <td>Верещагин</td>\n",
       "      <td>2018-05-25</td>\n",
       "      <td>ultra</td>\n",
       "    </tr>\n",
       "    <tr>\n",
       "      <th>1</th>\n",
       "      <td>1001</td>\n",
       "      <td>41</td>\n",
       "      <td>NaN</td>\n",
       "      <td>Москва</td>\n",
       "      <td>Иван</td>\n",
       "      <td>Ежов</td>\n",
       "      <td>2018-11-01</td>\n",
       "      <td>smart</td>\n",
       "    </tr>\n",
       "    <tr>\n",
       "      <th>2</th>\n",
       "      <td>1002</td>\n",
       "      <td>59</td>\n",
       "      <td>NaN</td>\n",
       "      <td>Стерлитамак</td>\n",
       "      <td>Евгений</td>\n",
       "      <td>Абрамович</td>\n",
       "      <td>2018-06-17</td>\n",
       "      <td>smart</td>\n",
       "    </tr>\n",
       "    <tr>\n",
       "      <th>3</th>\n",
       "      <td>1003</td>\n",
       "      <td>23</td>\n",
       "      <td>NaN</td>\n",
       "      <td>Москва</td>\n",
       "      <td>Белла</td>\n",
       "      <td>Белякова</td>\n",
       "      <td>2018-08-17</td>\n",
       "      <td>ultra</td>\n",
       "    </tr>\n",
       "    <tr>\n",
       "      <th>4</th>\n",
       "      <td>1004</td>\n",
       "      <td>68</td>\n",
       "      <td>NaN</td>\n",
       "      <td>Новокузнецк</td>\n",
       "      <td>Татьяна</td>\n",
       "      <td>Авдеенко</td>\n",
       "      <td>2018-05-14</td>\n",
       "      <td>ultra</td>\n",
       "    </tr>\n",
       "  </tbody>\n",
       "</table>\n",
       "</div>"
      ],
      "text/plain": [
       "   user_id  age churn_date         city first_name  last_name    reg_date  \\\n",
       "0     1000   52        NaN    Краснодар     Рафаил  Верещагин  2018-05-25   \n",
       "1     1001   41        NaN       Москва       Иван       Ежов  2018-11-01   \n",
       "2     1002   59        NaN  Стерлитамак    Евгений  Абрамович  2018-06-17   \n",
       "3     1003   23        NaN       Москва      Белла   Белякова  2018-08-17   \n",
       "4     1004   68        NaN  Новокузнецк    Татьяна   Авдеенко  2018-05-14   \n",
       "\n",
       "  tariff  \n",
       "0  ultra  \n",
       "1  smart  \n",
       "2  smart  \n",
       "3  ultra  \n",
       "4  ultra  "
      ]
     },
     "execution_count": 22,
     "metadata": {},
     "output_type": "execute_result"
    }
   ],
   "source": [
    "df_users.head()"
   ]
  },
  {
   "cell_type": "code",
   "execution_count": 23,
   "metadata": {},
   "outputs": [
    {
     "name": "stdout",
     "output_type": "stream",
     "text": [
      "<class 'pandas.core.frame.DataFrame'>\n",
      "RangeIndex: 500 entries, 0 to 499\n",
      "Data columns (total 8 columns):\n",
      " #   Column      Non-Null Count  Dtype \n",
      "---  ------      --------------  ----- \n",
      " 0   user_id     500 non-null    int64 \n",
      " 1   age         500 non-null    int64 \n",
      " 2   churn_date  38 non-null     object\n",
      " 3   city        500 non-null    object\n",
      " 4   first_name  500 non-null    object\n",
      " 5   last_name   500 non-null    object\n",
      " 6   reg_date    500 non-null    object\n",
      " 7   tariff      500 non-null    object\n",
      "dtypes: int64(2), object(6)\n",
      "memory usage: 31.4+ KB\n"
     ]
    }
   ],
   "source": [
    "df_users.info()"
   ]
  },
  {
   "cell_type": "code",
   "execution_count": 24,
   "metadata": {},
   "outputs": [
    {
     "data": {
      "text/plain": [
       "0"
      ]
     },
     "execution_count": 24,
     "metadata": {},
     "output_type": "execute_result"
    }
   ],
   "source": [
    "df_users.duplicated().sum() #подсчет количества дубликатов в датасете"
   ]
  },
  {
   "cell_type": "code",
   "execution_count": 25,
   "metadata": {},
   "outputs": [],
   "source": [
    "df_users['churn_date'] = pd.to_datetime(df_users['churn_date'], format='%Y-%m-%d')\n",
    "df_users['reg_date'] = pd.to_datetime(df_users['reg_date'], format='%Y-%m-%d')\n",
    "#изменение формата в столбцах на datetime"
   ]
  },
  {
   "cell_type": "markdown",
   "metadata": {},
   "source": [
    "В столбце 'churn_date' много пропусков, но природа их происхождения известна и они не требуют замены."
   ]
  },
  {
   "cell_type": "markdown",
   "metadata": {},
   "source": [
    "## Предобработка данных"
   ]
  },
  {
   "cell_type": "markdown",
   "metadata": {},
   "source": [
    "### Расчет параметров для каждого пользователя ###"
   ]
  },
  {
   "cell_type": "code",
   "execution_count": 26,
   "metadata": {},
   "outputs": [],
   "source": [
    "df_calls['month'] = df_calls['call_date'].dt.month #добавление столбца с месяцем звонка в датафрейм"
   ]
  },
  {
   "cell_type": "code",
   "execution_count": 27,
   "metadata": {},
   "outputs": [],
   "source": [
    "df_calls_per_month = df_calls.groupby(['user_id', 'month'])['duration'].agg(['count', 'sum']).reset_index()\n",
    "#подстчёт ежемесячного количества и длительности звонков для каждого абонента"
   ]
  },
  {
   "cell_type": "code",
   "execution_count": 28,
   "metadata": {},
   "outputs": [
    {
     "data": {
      "text/html": [
       "<div>\n",
       "<style scoped>\n",
       "    .dataframe tbody tr th:only-of-type {\n",
       "        vertical-align: middle;\n",
       "    }\n",
       "\n",
       "    .dataframe tbody tr th {\n",
       "        vertical-align: top;\n",
       "    }\n",
       "\n",
       "    .dataframe thead th {\n",
       "        text-align: right;\n",
       "    }\n",
       "</style>\n",
       "<table border=\"1\" class=\"dataframe\">\n",
       "  <thead>\n",
       "    <tr style=\"text-align: right;\">\n",
       "      <th></th>\n",
       "      <th>user_id</th>\n",
       "      <th>month</th>\n",
       "      <th>count</th>\n",
       "      <th>sum</th>\n",
       "    </tr>\n",
       "  </thead>\n",
       "  <tbody>\n",
       "    <tr>\n",
       "      <th>0</th>\n",
       "      <td>1000</td>\n",
       "      <td>5</td>\n",
       "      <td>22</td>\n",
       "      <td>159</td>\n",
       "    </tr>\n",
       "    <tr>\n",
       "      <th>1</th>\n",
       "      <td>1000</td>\n",
       "      <td>6</td>\n",
       "      <td>43</td>\n",
       "      <td>172</td>\n",
       "    </tr>\n",
       "    <tr>\n",
       "      <th>2</th>\n",
       "      <td>1000</td>\n",
       "      <td>7</td>\n",
       "      <td>47</td>\n",
       "      <td>340</td>\n",
       "    </tr>\n",
       "    <tr>\n",
       "      <th>3</th>\n",
       "      <td>1000</td>\n",
       "      <td>8</td>\n",
       "      <td>52</td>\n",
       "      <td>408</td>\n",
       "    </tr>\n",
       "    <tr>\n",
       "      <th>4</th>\n",
       "      <td>1000</td>\n",
       "      <td>9</td>\n",
       "      <td>58</td>\n",
       "      <td>466</td>\n",
       "    </tr>\n",
       "  </tbody>\n",
       "</table>\n",
       "</div>"
      ],
      "text/plain": [
       "   user_id  month  count  sum\n",
       "0     1000      5     22  159\n",
       "1     1000      6     43  172\n",
       "2     1000      7     47  340\n",
       "3     1000      8     52  408\n",
       "4     1000      9     58  466"
      ]
     },
     "execution_count": 28,
     "metadata": {},
     "output_type": "execute_result"
    }
   ],
   "source": [
    "df_calls_per_month.head()"
   ]
  },
  {
   "cell_type": "code",
   "execution_count": 29,
   "metadata": {},
   "outputs": [
    {
     "name": "stdout",
     "output_type": "stream",
     "text": [
      "<class 'pandas.core.frame.DataFrame'>\n",
      "RangeIndex: 3174 entries, 0 to 3173\n",
      "Data columns (total 4 columns):\n",
      " #   Column   Non-Null Count  Dtype\n",
      "---  ------   --------------  -----\n",
      " 0   user_id  3174 non-null   int64\n",
      " 1   month    3174 non-null   int64\n",
      " 2   count    3174 non-null   int64\n",
      " 3   sum      3174 non-null   int64\n",
      "dtypes: int64(4)\n",
      "memory usage: 99.3 KB\n"
     ]
    }
   ],
   "source": [
    "df_calls_per_month.info()"
   ]
  },
  {
   "cell_type": "code",
   "execution_count": 30,
   "metadata": {},
   "outputs": [],
   "source": [
    "df_messages['month'] = df_messages['message_date'].dt.month #добавление столбца с месяцем отправки сообщения в датафрейм"
   ]
  },
  {
   "cell_type": "code",
   "execution_count": 31,
   "metadata": {},
   "outputs": [],
   "source": [
    "df_messages_per_month = df_messages.groupby(['user_id', 'month'])['message_date'].agg('count').reset_index().rename(\n",
    "    columns={'message_date' : 'message_count'})\n",
    "#подсчёт ежемесячного количества отправленных сообщений для каждого пользователя"
   ]
  },
  {
   "cell_type": "code",
   "execution_count": 32,
   "metadata": {},
   "outputs": [
    {
     "data": {
      "text/html": [
       "<div>\n",
       "<style scoped>\n",
       "    .dataframe tbody tr th:only-of-type {\n",
       "        vertical-align: middle;\n",
       "    }\n",
       "\n",
       "    .dataframe tbody tr th {\n",
       "        vertical-align: top;\n",
       "    }\n",
       "\n",
       "    .dataframe thead th {\n",
       "        text-align: right;\n",
       "    }\n",
       "</style>\n",
       "<table border=\"1\" class=\"dataframe\">\n",
       "  <thead>\n",
       "    <tr style=\"text-align: right;\">\n",
       "      <th></th>\n",
       "      <th>user_id</th>\n",
       "      <th>month</th>\n",
       "      <th>message_count</th>\n",
       "    </tr>\n",
       "  </thead>\n",
       "  <tbody>\n",
       "    <tr>\n",
       "      <th>0</th>\n",
       "      <td>1000</td>\n",
       "      <td>5</td>\n",
       "      <td>22</td>\n",
       "    </tr>\n",
       "    <tr>\n",
       "      <th>1</th>\n",
       "      <td>1000</td>\n",
       "      <td>6</td>\n",
       "      <td>60</td>\n",
       "    </tr>\n",
       "    <tr>\n",
       "      <th>2</th>\n",
       "      <td>1000</td>\n",
       "      <td>7</td>\n",
       "      <td>75</td>\n",
       "    </tr>\n",
       "    <tr>\n",
       "      <th>3</th>\n",
       "      <td>1000</td>\n",
       "      <td>8</td>\n",
       "      <td>81</td>\n",
       "    </tr>\n",
       "    <tr>\n",
       "      <th>4</th>\n",
       "      <td>1000</td>\n",
       "      <td>9</td>\n",
       "      <td>57</td>\n",
       "    </tr>\n",
       "  </tbody>\n",
       "</table>\n",
       "</div>"
      ],
      "text/plain": [
       "   user_id  month  message_count\n",
       "0     1000      5             22\n",
       "1     1000      6             60\n",
       "2     1000      7             75\n",
       "3     1000      8             81\n",
       "4     1000      9             57"
      ]
     },
     "execution_count": 32,
     "metadata": {},
     "output_type": "execute_result"
    }
   ],
   "source": [
    "df_messages_per_month.head()"
   ]
  },
  {
   "cell_type": "code",
   "execution_count": 33,
   "metadata": {},
   "outputs": [
    {
     "name": "stdout",
     "output_type": "stream",
     "text": [
      "<class 'pandas.core.frame.DataFrame'>\n",
      "RangeIndex: 2717 entries, 0 to 2716\n",
      "Data columns (total 3 columns):\n",
      " #   Column         Non-Null Count  Dtype\n",
      "---  ------         --------------  -----\n",
      " 0   user_id        2717 non-null   int64\n",
      " 1   month          2717 non-null   int64\n",
      " 2   message_count  2717 non-null   int64\n",
      "dtypes: int64(3)\n",
      "memory usage: 63.8 KB\n"
     ]
    }
   ],
   "source": [
    "df_messages_per_month.info()"
   ]
  },
  {
   "cell_type": "code",
   "execution_count": 34,
   "metadata": {},
   "outputs": [],
   "source": [
    "df_internet['month'] = df_internet['session_date'].dt.month #добавление столбца с месяцем интернет-сессии"
   ]
  },
  {
   "cell_type": "code",
   "execution_count": 35,
   "metadata": {},
   "outputs": [],
   "source": [
    "df_internet_per_month = df_internet.groupby(['user_id', 'month'])['mb_used'].agg('sum').reset_index()\n",
    "#подсчёт общего количества использованных мегабайт по месяцам для каждого пользователя"
   ]
  },
  {
   "cell_type": "markdown",
   "metadata": {},
   "source": [
    "Округлим общее количество, использованного за месяц интернет-трафика, в большую сторону. Для этого переведем мегабайты в гигабайты, а полученный результата округлим в большую сторону. "
   ]
  },
  {
   "cell_type": "code",
   "execution_count": 36,
   "metadata": {},
   "outputs": [],
   "source": [
    "df_internet_per_month['mb_used'] = np.ceil(df_internet_per_month['mb_used'] / 1024) #перевод мегабайто в гигабайты и округление\n",
    "df_internet_per_month = df_internet_per_month.rename(columns={'mb_used' : 'gb_used'}) #переименования столбца"
   ]
  },
  {
   "cell_type": "code",
   "execution_count": 37,
   "metadata": {},
   "outputs": [
    {
     "data": {
      "text/html": [
       "<div>\n",
       "<style scoped>\n",
       "    .dataframe tbody tr th:only-of-type {\n",
       "        vertical-align: middle;\n",
       "    }\n",
       "\n",
       "    .dataframe tbody tr th {\n",
       "        vertical-align: top;\n",
       "    }\n",
       "\n",
       "    .dataframe thead th {\n",
       "        text-align: right;\n",
       "    }\n",
       "</style>\n",
       "<table border=\"1\" class=\"dataframe\">\n",
       "  <thead>\n",
       "    <tr style=\"text-align: right;\">\n",
       "      <th></th>\n",
       "      <th>user_id</th>\n",
       "      <th>month</th>\n",
       "      <th>gb_used</th>\n",
       "    </tr>\n",
       "  </thead>\n",
       "  <tbody>\n",
       "    <tr>\n",
       "      <th>0</th>\n",
       "      <td>1000</td>\n",
       "      <td>5</td>\n",
       "      <td>3.00</td>\n",
       "    </tr>\n",
       "    <tr>\n",
       "      <th>1</th>\n",
       "      <td>1000</td>\n",
       "      <td>6</td>\n",
       "      <td>23.00</td>\n",
       "    </tr>\n",
       "    <tr>\n",
       "      <th>2</th>\n",
       "      <td>1000</td>\n",
       "      <td>7</td>\n",
       "      <td>14.00</td>\n",
       "    </tr>\n",
       "    <tr>\n",
       "      <th>3</th>\n",
       "      <td>1000</td>\n",
       "      <td>8</td>\n",
       "      <td>14.00</td>\n",
       "    </tr>\n",
       "    <tr>\n",
       "      <th>4</th>\n",
       "      <td>1000</td>\n",
       "      <td>9</td>\n",
       "      <td>15.00</td>\n",
       "    </tr>\n",
       "  </tbody>\n",
       "</table>\n",
       "</div>"
      ],
      "text/plain": [
       "   user_id  month  gb_used\n",
       "0     1000      5     3.00\n",
       "1     1000      6    23.00\n",
       "2     1000      7    14.00\n",
       "3     1000      8    14.00\n",
       "4     1000      9    15.00"
      ]
     },
     "execution_count": 37,
     "metadata": {},
     "output_type": "execute_result"
    }
   ],
   "source": [
    "df_internet_per_month.head()"
   ]
  },
  {
   "cell_type": "code",
   "execution_count": 38,
   "metadata": {},
   "outputs": [
    {
     "name": "stdout",
     "output_type": "stream",
     "text": [
      "<class 'pandas.core.frame.DataFrame'>\n",
      "RangeIndex: 3203 entries, 0 to 3202\n",
      "Data columns (total 3 columns):\n",
      " #   Column   Non-Null Count  Dtype  \n",
      "---  ------   --------------  -----  \n",
      " 0   user_id  3203 non-null   int64  \n",
      " 1   month    3203 non-null   int64  \n",
      " 2   gb_used  3203 non-null   float64\n",
      "dtypes: float64(1), int64(2)\n",
      "memory usage: 75.2 KB\n"
     ]
    }
   ],
   "source": [
    "df_internet_per_month.info()"
   ]
  },
  {
   "cell_type": "markdown",
   "metadata": {},
   "source": [
    "Теперь последовательны объединим полученные датафреймы по столбцам 'user_id', 'month':"
   ]
  },
  {
   "cell_type": "code",
   "execution_count": 39,
   "metadata": {},
   "outputs": [],
   "source": [
    "df_general = df_calls_per_month.merge(df_messages_per_month, on=('user_id', 'month'), how='outer')"
   ]
  },
  {
   "cell_type": "code",
   "execution_count": 40,
   "metadata": {},
   "outputs": [],
   "source": [
    "df_general = df_general.merge(df_internet_per_month, on=('user_id', 'month'), how='outer')"
   ]
  },
  {
   "cell_type": "markdown",
   "metadata": {},
   "source": [
    "К полученному датафрейму добавим данные о пользователях и тарифах, необходимые для дальнейшего подсчета ежемесячной выручки: "
   ]
  },
  {
   "cell_type": "code",
   "execution_count": 41,
   "metadata": {},
   "outputs": [],
   "source": [
    "df_general = df_general.merge(df_users, on='user_id', how='left')"
   ]
  },
  {
   "cell_type": "code",
   "execution_count": 42,
   "metadata": {},
   "outputs": [],
   "source": [
    "df_tariffs = df_tariffs.rename(columns={'tariff_name' : 'tariff'})\n",
    "df_general = df_general.merge(df_tariffs, on='tariff', how='left')"
   ]
  },
  {
   "cell_type": "code",
   "execution_count": 43,
   "metadata": {},
   "outputs": [
    {
     "data": {
      "text/html": [
       "<div>\n",
       "<style scoped>\n",
       "    .dataframe tbody tr th:only-of-type {\n",
       "        vertical-align: middle;\n",
       "    }\n",
       "\n",
       "    .dataframe tbody tr th {\n",
       "        vertical-align: top;\n",
       "    }\n",
       "\n",
       "    .dataframe thead th {\n",
       "        text-align: right;\n",
       "    }\n",
       "</style>\n",
       "<table border=\"1\" class=\"dataframe\">\n",
       "  <thead>\n",
       "    <tr style=\"text-align: right;\">\n",
       "      <th></th>\n",
       "      <th>user_id</th>\n",
       "      <th>month</th>\n",
       "      <th>count</th>\n",
       "      <th>sum</th>\n",
       "      <th>message_count</th>\n",
       "      <th>gb_used</th>\n",
       "      <th>age</th>\n",
       "      <th>churn_date</th>\n",
       "      <th>city</th>\n",
       "      <th>first_name</th>\n",
       "      <th>last_name</th>\n",
       "      <th>reg_date</th>\n",
       "      <th>tariff</th>\n",
       "      <th>messages_included</th>\n",
       "      <th>mb_per_month_included</th>\n",
       "      <th>minutes_included</th>\n",
       "      <th>rub_monthly_fee</th>\n",
       "      <th>rub_per_gb</th>\n",
       "      <th>rub_per_message</th>\n",
       "      <th>rub_per_minute</th>\n",
       "    </tr>\n",
       "  </thead>\n",
       "  <tbody>\n",
       "    <tr>\n",
       "      <th>0</th>\n",
       "      <td>1000</td>\n",
       "      <td>5</td>\n",
       "      <td>22.00</td>\n",
       "      <td>159.00</td>\n",
       "      <td>22.00</td>\n",
       "      <td>3.00</td>\n",
       "      <td>52</td>\n",
       "      <td>NaT</td>\n",
       "      <td>Краснодар</td>\n",
       "      <td>Рафаил</td>\n",
       "      <td>Верещагин</td>\n",
       "      <td>2018-05-25</td>\n",
       "      <td>ultra</td>\n",
       "      <td>1000</td>\n",
       "      <td>30720</td>\n",
       "      <td>3000</td>\n",
       "      <td>1950</td>\n",
       "      <td>150</td>\n",
       "      <td>1</td>\n",
       "      <td>1</td>\n",
       "    </tr>\n",
       "    <tr>\n",
       "      <th>1</th>\n",
       "      <td>1000</td>\n",
       "      <td>6</td>\n",
       "      <td>43.00</td>\n",
       "      <td>172.00</td>\n",
       "      <td>60.00</td>\n",
       "      <td>23.00</td>\n",
       "      <td>52</td>\n",
       "      <td>NaT</td>\n",
       "      <td>Краснодар</td>\n",
       "      <td>Рафаил</td>\n",
       "      <td>Верещагин</td>\n",
       "      <td>2018-05-25</td>\n",
       "      <td>ultra</td>\n",
       "      <td>1000</td>\n",
       "      <td>30720</td>\n",
       "      <td>3000</td>\n",
       "      <td>1950</td>\n",
       "      <td>150</td>\n",
       "      <td>1</td>\n",
       "      <td>1</td>\n",
       "    </tr>\n",
       "    <tr>\n",
       "      <th>2</th>\n",
       "      <td>1000</td>\n",
       "      <td>7</td>\n",
       "      <td>47.00</td>\n",
       "      <td>340.00</td>\n",
       "      <td>75.00</td>\n",
       "      <td>14.00</td>\n",
       "      <td>52</td>\n",
       "      <td>NaT</td>\n",
       "      <td>Краснодар</td>\n",
       "      <td>Рафаил</td>\n",
       "      <td>Верещагин</td>\n",
       "      <td>2018-05-25</td>\n",
       "      <td>ultra</td>\n",
       "      <td>1000</td>\n",
       "      <td>30720</td>\n",
       "      <td>3000</td>\n",
       "      <td>1950</td>\n",
       "      <td>150</td>\n",
       "      <td>1</td>\n",
       "      <td>1</td>\n",
       "    </tr>\n",
       "    <tr>\n",
       "      <th>3</th>\n",
       "      <td>1000</td>\n",
       "      <td>8</td>\n",
       "      <td>52.00</td>\n",
       "      <td>408.00</td>\n",
       "      <td>81.00</td>\n",
       "      <td>14.00</td>\n",
       "      <td>52</td>\n",
       "      <td>NaT</td>\n",
       "      <td>Краснодар</td>\n",
       "      <td>Рафаил</td>\n",
       "      <td>Верещагин</td>\n",
       "      <td>2018-05-25</td>\n",
       "      <td>ultra</td>\n",
       "      <td>1000</td>\n",
       "      <td>30720</td>\n",
       "      <td>3000</td>\n",
       "      <td>1950</td>\n",
       "      <td>150</td>\n",
       "      <td>1</td>\n",
       "      <td>1</td>\n",
       "    </tr>\n",
       "    <tr>\n",
       "      <th>4</th>\n",
       "      <td>1000</td>\n",
       "      <td>9</td>\n",
       "      <td>58.00</td>\n",
       "      <td>466.00</td>\n",
       "      <td>57.00</td>\n",
       "      <td>15.00</td>\n",
       "      <td>52</td>\n",
       "      <td>NaT</td>\n",
       "      <td>Краснодар</td>\n",
       "      <td>Рафаил</td>\n",
       "      <td>Верещагин</td>\n",
       "      <td>2018-05-25</td>\n",
       "      <td>ultra</td>\n",
       "      <td>1000</td>\n",
       "      <td>30720</td>\n",
       "      <td>3000</td>\n",
       "      <td>1950</td>\n",
       "      <td>150</td>\n",
       "      <td>1</td>\n",
       "      <td>1</td>\n",
       "    </tr>\n",
       "  </tbody>\n",
       "</table>\n",
       "</div>"
      ],
      "text/plain": [
       "   user_id  month  count    sum  message_count  gb_used  age churn_date  \\\n",
       "0     1000      5  22.00 159.00          22.00     3.00   52        NaT   \n",
       "1     1000      6  43.00 172.00          60.00    23.00   52        NaT   \n",
       "2     1000      7  47.00 340.00          75.00    14.00   52        NaT   \n",
       "3     1000      8  52.00 408.00          81.00    14.00   52        NaT   \n",
       "4     1000      9  58.00 466.00          57.00    15.00   52        NaT   \n",
       "\n",
       "        city first_name  last_name   reg_date tariff  messages_included  \\\n",
       "0  Краснодар     Рафаил  Верещагин 2018-05-25  ultra               1000   \n",
       "1  Краснодар     Рафаил  Верещагин 2018-05-25  ultra               1000   \n",
       "2  Краснодар     Рафаил  Верещагин 2018-05-25  ultra               1000   \n",
       "3  Краснодар     Рафаил  Верещагин 2018-05-25  ultra               1000   \n",
       "4  Краснодар     Рафаил  Верещагин 2018-05-25  ultra               1000   \n",
       "\n",
       "   mb_per_month_included  minutes_included  rub_monthly_fee  rub_per_gb  \\\n",
       "0                  30720              3000             1950         150   \n",
       "1                  30720              3000             1950         150   \n",
       "2                  30720              3000             1950         150   \n",
       "3                  30720              3000             1950         150   \n",
       "4                  30720              3000             1950         150   \n",
       "\n",
       "   rub_per_message  rub_per_minute  \n",
       "0                1               1  \n",
       "1                1               1  \n",
       "2                1               1  \n",
       "3                1               1  \n",
       "4                1               1  "
      ]
     },
     "execution_count": 43,
     "metadata": {},
     "output_type": "execute_result"
    }
   ],
   "source": [
    "df_general.head()"
   ]
  },
  {
   "cell_type": "code",
   "execution_count": 44,
   "metadata": {},
   "outputs": [
    {
     "name": "stdout",
     "output_type": "stream",
     "text": [
      "<class 'pandas.core.frame.DataFrame'>\n",
      "Int64Index: 3214 entries, 0 to 3213\n",
      "Data columns (total 20 columns):\n",
      " #   Column                 Non-Null Count  Dtype         \n",
      "---  ------                 --------------  -----         \n",
      " 0   user_id                3214 non-null   int64         \n",
      " 1   month                  3214 non-null   int64         \n",
      " 2   count                  3174 non-null   float64       \n",
      " 3   sum                    3174 non-null   float64       \n",
      " 4   message_count          2717 non-null   float64       \n",
      " 5   gb_used                3203 non-null   float64       \n",
      " 6   age                    3214 non-null   int64         \n",
      " 7   churn_date             187 non-null    datetime64[ns]\n",
      " 8   city                   3214 non-null   object        \n",
      " 9   first_name             3214 non-null   object        \n",
      " 10  last_name              3214 non-null   object        \n",
      " 11  reg_date               3214 non-null   datetime64[ns]\n",
      " 12  tariff                 3214 non-null   object        \n",
      " 13  messages_included      3214 non-null   int64         \n",
      " 14  mb_per_month_included  3214 non-null   int64         \n",
      " 15  minutes_included       3214 non-null   int64         \n",
      " 16  rub_monthly_fee        3214 non-null   int64         \n",
      " 17  rub_per_gb             3214 non-null   int64         \n",
      " 18  rub_per_message        3214 non-null   int64         \n",
      " 19  rub_per_minute         3214 non-null   int64         \n",
      "dtypes: datetime64[ns](2), float64(4), int64(10), object(4)\n",
      "memory usage: 527.3+ KB\n"
     ]
    }
   ],
   "source": [
    "df_general.info()"
   ]
  },
  {
   "cell_type": "markdown",
   "metadata": {},
   "source": [
    "Переименуем некоторые столбцы, полученного датафрейма, чтобы они лучше отражали содержащиеся в них данные, а также преведем количество мегабайтов входящих в тариф в гигабайты:"
   ]
  },
  {
   "cell_type": "code",
   "execution_count": 45,
   "metadata": {},
   "outputs": [],
   "source": [
    "df_general = df_general.rename(columns={'count' : 'count_calls', 'sum' : 'sum_calls', 'mb_per_month_included' : 'gb_per_month_included'})\n",
    "df_general['gb_per_month_included'] = df_general['gb_per_month_included'] / 1024"
   ]
  },
  {
   "cell_type": "code",
   "execution_count": 46,
   "metadata": {},
   "outputs": [
    {
     "data": {
      "text/html": [
       "<div>\n",
       "<style scoped>\n",
       "    .dataframe tbody tr th:only-of-type {\n",
       "        vertical-align: middle;\n",
       "    }\n",
       "\n",
       "    .dataframe tbody tr th {\n",
       "        vertical-align: top;\n",
       "    }\n",
       "\n",
       "    .dataframe thead th {\n",
       "        text-align: right;\n",
       "    }\n",
       "</style>\n",
       "<table border=\"1\" class=\"dataframe\">\n",
       "  <thead>\n",
       "    <tr style=\"text-align: right;\">\n",
       "      <th></th>\n",
       "      <th>user_id</th>\n",
       "      <th>month</th>\n",
       "      <th>count_calls</th>\n",
       "      <th>sum_calls</th>\n",
       "      <th>message_count</th>\n",
       "      <th>gb_used</th>\n",
       "      <th>age</th>\n",
       "      <th>churn_date</th>\n",
       "      <th>city</th>\n",
       "      <th>first_name</th>\n",
       "      <th>last_name</th>\n",
       "      <th>reg_date</th>\n",
       "      <th>tariff</th>\n",
       "      <th>messages_included</th>\n",
       "      <th>gb_per_month_included</th>\n",
       "      <th>minutes_included</th>\n",
       "      <th>rub_monthly_fee</th>\n",
       "      <th>rub_per_gb</th>\n",
       "      <th>rub_per_message</th>\n",
       "      <th>rub_per_minute</th>\n",
       "    </tr>\n",
       "  </thead>\n",
       "  <tbody>\n",
       "    <tr>\n",
       "      <th>0</th>\n",
       "      <td>1000</td>\n",
       "      <td>5</td>\n",
       "      <td>22.00</td>\n",
       "      <td>159.00</td>\n",
       "      <td>22.00</td>\n",
       "      <td>3.00</td>\n",
       "      <td>52</td>\n",
       "      <td>NaT</td>\n",
       "      <td>Краснодар</td>\n",
       "      <td>Рафаил</td>\n",
       "      <td>Верещагин</td>\n",
       "      <td>2018-05-25</td>\n",
       "      <td>ultra</td>\n",
       "      <td>1000</td>\n",
       "      <td>30.00</td>\n",
       "      <td>3000</td>\n",
       "      <td>1950</td>\n",
       "      <td>150</td>\n",
       "      <td>1</td>\n",
       "      <td>1</td>\n",
       "    </tr>\n",
       "    <tr>\n",
       "      <th>1</th>\n",
       "      <td>1000</td>\n",
       "      <td>6</td>\n",
       "      <td>43.00</td>\n",
       "      <td>172.00</td>\n",
       "      <td>60.00</td>\n",
       "      <td>23.00</td>\n",
       "      <td>52</td>\n",
       "      <td>NaT</td>\n",
       "      <td>Краснодар</td>\n",
       "      <td>Рафаил</td>\n",
       "      <td>Верещагин</td>\n",
       "      <td>2018-05-25</td>\n",
       "      <td>ultra</td>\n",
       "      <td>1000</td>\n",
       "      <td>30.00</td>\n",
       "      <td>3000</td>\n",
       "      <td>1950</td>\n",
       "      <td>150</td>\n",
       "      <td>1</td>\n",
       "      <td>1</td>\n",
       "    </tr>\n",
       "    <tr>\n",
       "      <th>2</th>\n",
       "      <td>1000</td>\n",
       "      <td>7</td>\n",
       "      <td>47.00</td>\n",
       "      <td>340.00</td>\n",
       "      <td>75.00</td>\n",
       "      <td>14.00</td>\n",
       "      <td>52</td>\n",
       "      <td>NaT</td>\n",
       "      <td>Краснодар</td>\n",
       "      <td>Рафаил</td>\n",
       "      <td>Верещагин</td>\n",
       "      <td>2018-05-25</td>\n",
       "      <td>ultra</td>\n",
       "      <td>1000</td>\n",
       "      <td>30.00</td>\n",
       "      <td>3000</td>\n",
       "      <td>1950</td>\n",
       "      <td>150</td>\n",
       "      <td>1</td>\n",
       "      <td>1</td>\n",
       "    </tr>\n",
       "    <tr>\n",
       "      <th>3</th>\n",
       "      <td>1000</td>\n",
       "      <td>8</td>\n",
       "      <td>52.00</td>\n",
       "      <td>408.00</td>\n",
       "      <td>81.00</td>\n",
       "      <td>14.00</td>\n",
       "      <td>52</td>\n",
       "      <td>NaT</td>\n",
       "      <td>Краснодар</td>\n",
       "      <td>Рафаил</td>\n",
       "      <td>Верещагин</td>\n",
       "      <td>2018-05-25</td>\n",
       "      <td>ultra</td>\n",
       "      <td>1000</td>\n",
       "      <td>30.00</td>\n",
       "      <td>3000</td>\n",
       "      <td>1950</td>\n",
       "      <td>150</td>\n",
       "      <td>1</td>\n",
       "      <td>1</td>\n",
       "    </tr>\n",
       "    <tr>\n",
       "      <th>4</th>\n",
       "      <td>1000</td>\n",
       "      <td>9</td>\n",
       "      <td>58.00</td>\n",
       "      <td>466.00</td>\n",
       "      <td>57.00</td>\n",
       "      <td>15.00</td>\n",
       "      <td>52</td>\n",
       "      <td>NaT</td>\n",
       "      <td>Краснодар</td>\n",
       "      <td>Рафаил</td>\n",
       "      <td>Верещагин</td>\n",
       "      <td>2018-05-25</td>\n",
       "      <td>ultra</td>\n",
       "      <td>1000</td>\n",
       "      <td>30.00</td>\n",
       "      <td>3000</td>\n",
       "      <td>1950</td>\n",
       "      <td>150</td>\n",
       "      <td>1</td>\n",
       "      <td>1</td>\n",
       "    </tr>\n",
       "  </tbody>\n",
       "</table>\n",
       "</div>"
      ],
      "text/plain": [
       "   user_id  month  count_calls  sum_calls  message_count  gb_used  age  \\\n",
       "0     1000      5        22.00     159.00          22.00     3.00   52   \n",
       "1     1000      6        43.00     172.00          60.00    23.00   52   \n",
       "2     1000      7        47.00     340.00          75.00    14.00   52   \n",
       "3     1000      8        52.00     408.00          81.00    14.00   52   \n",
       "4     1000      9        58.00     466.00          57.00    15.00   52   \n",
       "\n",
       "  churn_date       city first_name  last_name   reg_date tariff  \\\n",
       "0        NaT  Краснодар     Рафаил  Верещагин 2018-05-25  ultra   \n",
       "1        NaT  Краснодар     Рафаил  Верещагин 2018-05-25  ultra   \n",
       "2        NaT  Краснодар     Рафаил  Верещагин 2018-05-25  ultra   \n",
       "3        NaT  Краснодар     Рафаил  Верещагин 2018-05-25  ultra   \n",
       "4        NaT  Краснодар     Рафаил  Верещагин 2018-05-25  ultra   \n",
       "\n",
       "   messages_included  gb_per_month_included  minutes_included  \\\n",
       "0               1000                  30.00              3000   \n",
       "1               1000                  30.00              3000   \n",
       "2               1000                  30.00              3000   \n",
       "3               1000                  30.00              3000   \n",
       "4               1000                  30.00              3000   \n",
       "\n",
       "   rub_monthly_fee  rub_per_gb  rub_per_message  rub_per_minute  \n",
       "0             1950         150                1               1  \n",
       "1             1950         150                1               1  \n",
       "2             1950         150                1               1  \n",
       "3             1950         150                1               1  \n",
       "4             1950         150                1               1  "
      ]
     },
     "execution_count": 46,
     "metadata": {},
     "output_type": "execute_result"
    }
   ],
   "source": [
    "df_general.head()"
   ]
  },
  {
   "cell_type": "code",
   "execution_count": 47,
   "metadata": {},
   "outputs": [
    {
     "name": "stdout",
     "output_type": "stream",
     "text": [
      "<class 'pandas.core.frame.DataFrame'>\n",
      "Int64Index: 3214 entries, 0 to 3213\n",
      "Data columns (total 20 columns):\n",
      " #   Column                 Non-Null Count  Dtype         \n",
      "---  ------                 --------------  -----         \n",
      " 0   user_id                3214 non-null   int64         \n",
      " 1   month                  3214 non-null   int64         \n",
      " 2   count_calls            3174 non-null   float64       \n",
      " 3   sum_calls              3174 non-null   float64       \n",
      " 4   message_count          2717 non-null   float64       \n",
      " 5   gb_used                3203 non-null   float64       \n",
      " 6   age                    3214 non-null   int64         \n",
      " 7   churn_date             187 non-null    datetime64[ns]\n",
      " 8   city                   3214 non-null   object        \n",
      " 9   first_name             3214 non-null   object        \n",
      " 10  last_name              3214 non-null   object        \n",
      " 11  reg_date               3214 non-null   datetime64[ns]\n",
      " 12  tariff                 3214 non-null   object        \n",
      " 13  messages_included      3214 non-null   int64         \n",
      " 14  gb_per_month_included  3214 non-null   float64       \n",
      " 15  minutes_included       3214 non-null   int64         \n",
      " 16  rub_monthly_fee        3214 non-null   int64         \n",
      " 17  rub_per_gb             3214 non-null   int64         \n",
      " 18  rub_per_message        3214 non-null   int64         \n",
      " 19  rub_per_minute         3214 non-null   int64         \n",
      "dtypes: datetime64[ns](2), float64(5), int64(9), object(4)\n",
      "memory usage: 527.3+ KB\n"
     ]
    }
   ],
   "source": [
    "df_general.info()"
   ]
  },
  {
   "cell_type": "markdown",
   "metadata": {},
   "source": [
    "Заменим пропуски в столбцах на 0 (кроме 'churn_date'):"
   ]
  },
  {
   "cell_type": "code",
   "execution_count": 48,
   "metadata": {},
   "outputs": [],
   "source": [
    "df_general[['count_calls', 'sum_calls', 'message_count', 'gb_used']] = df_general[['count_calls', 'sum_calls', 'message_count', 'gb_used']].fillna(0)"
   ]
  },
  {
   "cell_type": "code",
   "execution_count": 49,
   "metadata": {},
   "outputs": [
    {
     "name": "stdout",
     "output_type": "stream",
     "text": [
      "<class 'pandas.core.frame.DataFrame'>\n",
      "Int64Index: 3214 entries, 0 to 3213\n",
      "Data columns (total 20 columns):\n",
      " #   Column                 Non-Null Count  Dtype         \n",
      "---  ------                 --------------  -----         \n",
      " 0   user_id                3214 non-null   int64         \n",
      " 1   month                  3214 non-null   int64         \n",
      " 2   count_calls            3214 non-null   float64       \n",
      " 3   sum_calls              3214 non-null   float64       \n",
      " 4   message_count          3214 non-null   float64       \n",
      " 5   gb_used                3214 non-null   float64       \n",
      " 6   age                    3214 non-null   int64         \n",
      " 7   churn_date             187 non-null    datetime64[ns]\n",
      " 8   city                   3214 non-null   object        \n",
      " 9   first_name             3214 non-null   object        \n",
      " 10  last_name              3214 non-null   object        \n",
      " 11  reg_date               3214 non-null   datetime64[ns]\n",
      " 12  tariff                 3214 non-null   object        \n",
      " 13  messages_included      3214 non-null   int64         \n",
      " 14  gb_per_month_included  3214 non-null   float64       \n",
      " 15  minutes_included       3214 non-null   int64         \n",
      " 16  rub_monthly_fee        3214 non-null   int64         \n",
      " 17  rub_per_gb             3214 non-null   int64         \n",
      " 18  rub_per_message        3214 non-null   int64         \n",
      " 19  rub_per_minute         3214 non-null   int64         \n",
      "dtypes: datetime64[ns](2), float64(5), int64(9), object(4)\n",
      "memory usage: 527.3+ KB\n"
     ]
    }
   ],
   "source": [
    "df_general.info()"
   ]
  },
  {
   "cell_type": "code",
   "execution_count": 66,
   "metadata": {},
   "outputs": [],
   "source": [
    "def revenue_calculation(row): #функция для расчёта помесячной выручки с каждого пользователя\n",
    "        revenue = 0\n",
    "        if row['sum_calls'] > row['minutes_included']:\n",
    "            revenue += (row['sum_calls'] - row['minutes_included']) * row['rub_per_minute']\n",
    "        if row['message_count'] > row['messages_included']:\n",
    "            revenue += (row['message_count'] - row['messages_included']) * row['rub_per_message']\n",
    "        if row['gb_used'] > row['gb_per_month_included']:\n",
    "            revenue += (row['gb_used'] - row['gb_per_month_included']) * row['rub_per_gb']\n",
    "        return revenue + row['rub_monthly_fee']"
   ]
  },
  {
   "cell_type": "code",
   "execution_count": 67,
   "metadata": {},
   "outputs": [],
   "source": [
    "df_general['month_revenue'] = df_general.apply(revenue_calculation, axis=1)\n",
    "#применение функции к датафрейму и сохранение результатов её работы в отдельном столбце"
   ]
  },
  {
   "cell_type": "code",
   "execution_count": 68,
   "metadata": {},
   "outputs": [
    {
     "data": {
      "text/html": [
       "<div>\n",
       "<style scoped>\n",
       "    .dataframe tbody tr th:only-of-type {\n",
       "        vertical-align: middle;\n",
       "    }\n",
       "\n",
       "    .dataframe tbody tr th {\n",
       "        vertical-align: top;\n",
       "    }\n",
       "\n",
       "    .dataframe thead th {\n",
       "        text-align: right;\n",
       "    }\n",
       "</style>\n",
       "<table border=\"1\" class=\"dataframe\">\n",
       "  <thead>\n",
       "    <tr style=\"text-align: right;\">\n",
       "      <th></th>\n",
       "      <th>user_id</th>\n",
       "      <th>month</th>\n",
       "      <th>count_calls</th>\n",
       "      <th>sum_calls</th>\n",
       "      <th>message_count</th>\n",
       "      <th>gb_used</th>\n",
       "      <th>age</th>\n",
       "      <th>churn_date</th>\n",
       "      <th>city</th>\n",
       "      <th>first_name</th>\n",
       "      <th>...</th>\n",
       "      <th>reg_date</th>\n",
       "      <th>tariff</th>\n",
       "      <th>messages_included</th>\n",
       "      <th>gb_per_month_included</th>\n",
       "      <th>minutes_included</th>\n",
       "      <th>rub_monthly_fee</th>\n",
       "      <th>rub_per_gb</th>\n",
       "      <th>rub_per_message</th>\n",
       "      <th>rub_per_minute</th>\n",
       "      <th>month_revenue</th>\n",
       "    </tr>\n",
       "  </thead>\n",
       "  <tbody>\n",
       "    <tr>\n",
       "      <th>0</th>\n",
       "      <td>1000</td>\n",
       "      <td>5</td>\n",
       "      <td>22.00</td>\n",
       "      <td>159.00</td>\n",
       "      <td>22.00</td>\n",
       "      <td>3.00</td>\n",
       "      <td>52</td>\n",
       "      <td>NaT</td>\n",
       "      <td>Краснодар</td>\n",
       "      <td>Рафаил</td>\n",
       "      <td>...</td>\n",
       "      <td>2018-05-25</td>\n",
       "      <td>ultra</td>\n",
       "      <td>1000</td>\n",
       "      <td>30.00</td>\n",
       "      <td>3000</td>\n",
       "      <td>1950</td>\n",
       "      <td>150</td>\n",
       "      <td>1</td>\n",
       "      <td>1</td>\n",
       "      <td>1,950.00</td>\n",
       "    </tr>\n",
       "    <tr>\n",
       "      <th>1</th>\n",
       "      <td>1000</td>\n",
       "      <td>6</td>\n",
       "      <td>43.00</td>\n",
       "      <td>172.00</td>\n",
       "      <td>60.00</td>\n",
       "      <td>23.00</td>\n",
       "      <td>52</td>\n",
       "      <td>NaT</td>\n",
       "      <td>Краснодар</td>\n",
       "      <td>Рафаил</td>\n",
       "      <td>...</td>\n",
       "      <td>2018-05-25</td>\n",
       "      <td>ultra</td>\n",
       "      <td>1000</td>\n",
       "      <td>30.00</td>\n",
       "      <td>3000</td>\n",
       "      <td>1950</td>\n",
       "      <td>150</td>\n",
       "      <td>1</td>\n",
       "      <td>1</td>\n",
       "      <td>1,950.00</td>\n",
       "    </tr>\n",
       "    <tr>\n",
       "      <th>2</th>\n",
       "      <td>1000</td>\n",
       "      <td>7</td>\n",
       "      <td>47.00</td>\n",
       "      <td>340.00</td>\n",
       "      <td>75.00</td>\n",
       "      <td>14.00</td>\n",
       "      <td>52</td>\n",
       "      <td>NaT</td>\n",
       "      <td>Краснодар</td>\n",
       "      <td>Рафаил</td>\n",
       "      <td>...</td>\n",
       "      <td>2018-05-25</td>\n",
       "      <td>ultra</td>\n",
       "      <td>1000</td>\n",
       "      <td>30.00</td>\n",
       "      <td>3000</td>\n",
       "      <td>1950</td>\n",
       "      <td>150</td>\n",
       "      <td>1</td>\n",
       "      <td>1</td>\n",
       "      <td>1,950.00</td>\n",
       "    </tr>\n",
       "    <tr>\n",
       "      <th>3</th>\n",
       "      <td>1000</td>\n",
       "      <td>8</td>\n",
       "      <td>52.00</td>\n",
       "      <td>408.00</td>\n",
       "      <td>81.00</td>\n",
       "      <td>14.00</td>\n",
       "      <td>52</td>\n",
       "      <td>NaT</td>\n",
       "      <td>Краснодар</td>\n",
       "      <td>Рафаил</td>\n",
       "      <td>...</td>\n",
       "      <td>2018-05-25</td>\n",
       "      <td>ultra</td>\n",
       "      <td>1000</td>\n",
       "      <td>30.00</td>\n",
       "      <td>3000</td>\n",
       "      <td>1950</td>\n",
       "      <td>150</td>\n",
       "      <td>1</td>\n",
       "      <td>1</td>\n",
       "      <td>1,950.00</td>\n",
       "    </tr>\n",
       "    <tr>\n",
       "      <th>4</th>\n",
       "      <td>1000</td>\n",
       "      <td>9</td>\n",
       "      <td>58.00</td>\n",
       "      <td>466.00</td>\n",
       "      <td>57.00</td>\n",
       "      <td>15.00</td>\n",
       "      <td>52</td>\n",
       "      <td>NaT</td>\n",
       "      <td>Краснодар</td>\n",
       "      <td>Рафаил</td>\n",
       "      <td>...</td>\n",
       "      <td>2018-05-25</td>\n",
       "      <td>ultra</td>\n",
       "      <td>1000</td>\n",
       "      <td>30.00</td>\n",
       "      <td>3000</td>\n",
       "      <td>1950</td>\n",
       "      <td>150</td>\n",
       "      <td>1</td>\n",
       "      <td>1</td>\n",
       "      <td>1,950.00</td>\n",
       "    </tr>\n",
       "  </tbody>\n",
       "</table>\n",
       "<p>5 rows × 21 columns</p>\n",
       "</div>"
      ],
      "text/plain": [
       "   user_id  month  count_calls  sum_calls  message_count  gb_used  age  \\\n",
       "0     1000      5        22.00     159.00          22.00     3.00   52   \n",
       "1     1000      6        43.00     172.00          60.00    23.00   52   \n",
       "2     1000      7        47.00     340.00          75.00    14.00   52   \n",
       "3     1000      8        52.00     408.00          81.00    14.00   52   \n",
       "4     1000      9        58.00     466.00          57.00    15.00   52   \n",
       "\n",
       "  churn_date       city first_name  ...   reg_date tariff messages_included  \\\n",
       "0        NaT  Краснодар     Рафаил  ... 2018-05-25  ultra              1000   \n",
       "1        NaT  Краснодар     Рафаил  ... 2018-05-25  ultra              1000   \n",
       "2        NaT  Краснодар     Рафаил  ... 2018-05-25  ultra              1000   \n",
       "3        NaT  Краснодар     Рафаил  ... 2018-05-25  ultra              1000   \n",
       "4        NaT  Краснодар     Рафаил  ... 2018-05-25  ultra              1000   \n",
       "\n",
       "   gb_per_month_included  minutes_included  rub_monthly_fee  rub_per_gb  \\\n",
       "0                  30.00              3000             1950         150   \n",
       "1                  30.00              3000             1950         150   \n",
       "2                  30.00              3000             1950         150   \n",
       "3                  30.00              3000             1950         150   \n",
       "4                  30.00              3000             1950         150   \n",
       "\n",
       "   rub_per_message  rub_per_minute  month_revenue  \n",
       "0                1               1       1,950.00  \n",
       "1                1               1       1,950.00  \n",
       "2                1               1       1,950.00  \n",
       "3                1               1       1,950.00  \n",
       "4                1               1       1,950.00  \n",
       "\n",
       "[5 rows x 21 columns]"
      ]
     },
     "execution_count": 68,
     "metadata": {},
     "output_type": "execute_result"
    }
   ],
   "source": [
    "df_general.head()"
   ]
  },
  {
   "cell_type": "markdown",
   "metadata": {},
   "source": [
    "**Вывод**\n",
    "\n",
    "В процессе подготовки данных были расчитаны помесячные показатели для каждого абонента: количество и общая продолжительность звонков, количество отправленных сообщений, использованный интернет-трафик, размер платы за использованные услуги. Группировка и агрегирование данных проведено методом groupby(), для объединения датафреймов применен метод merge(). "
   ]
  },
  {
   "cell_type": "markdown",
   "metadata": {},
   "source": [
    "## Анализ данных ##"
   ]
  },
  {
   "cell_type": "markdown",
   "metadata": {},
   "source": [
    "Создадим функцию, котрая будет выводить характерные значения данных и рассчитывать дисперсию: "
   ]
  },
  {
   "cell_type": "code",
   "execution_count": 53,
   "metadata": {},
   "outputs": [],
   "source": [
    "def analysis(df):\n",
    "    print('Числовое описание данных:')\n",
    "    print(df.describe())\n",
    "    print('Дисперсия:')\n",
    "    print(np.var(df).round(2))"
   ]
  },
  {
   "cell_type": "markdown",
   "metadata": {},
   "source": [
    "### Анализ длительности звонков "
   ]
  },
  {
   "cell_type": "code",
   "execution_count": 54,
   "metadata": {},
   "outputs": [
    {
     "name": "stdout",
     "output_type": "stream",
     "text": [
      "Числовое описание данных:\n",
      "count     985.00\n",
      "mean      526.62\n",
      "std       317.61\n",
      "min         0.00\n",
      "25%       284.00\n",
      "50%       518.00\n",
      "75%       752.00\n",
      "max     1,673.00\n",
      "Name: sum_calls, dtype: float64\n",
      "Дисперсия:\n",
      "100771.22\n"
     ]
    }
   ],
   "source": [
    "analysis(df_general.query('tariff == \"ultra\"')['sum_calls'])\n",
    "#числовое описание данных по ежемесячно расходуемым минутам абонентами тарифа ультра"
   ]
  },
  {
   "cell_type": "code",
   "execution_count": 55,
   "metadata": {},
   "outputs": [
    {
     "name": "stdout",
     "output_type": "stream",
     "text": [
      "Числовое описание данных:\n",
      "count   2,229.00\n",
      "mean      417.93\n",
      "std       190.31\n",
      "min         0.00\n",
      "25%       282.00\n",
      "50%       422.00\n",
      "75%       545.00\n",
      "max     1,435.00\n",
      "Name: sum_calls, dtype: float64\n",
      "Дисперсия:\n",
      "36203.07\n"
     ]
    }
   ],
   "source": [
    "analysis(df_general.query('tariff == \"smart\"')['sum_calls']) \n",
    "#числовое описание данных по ежемесячно расходуемым минутам у абонентов тарифа smart"
   ]
  },
  {
   "cell_type": "markdown",
   "metadata": {},
   "source": [
    "Абоненты тарифа \"Ультра\" в среднем в месяц расходуют 545,45 минуты, что выше аналогичного показателя среди абонентов тарифа \"Смарт\" (419,06 мин). И в том и в другом случае среднее значение не выходит за пределы месячного лимита доступных минут, предусмотренного тарифом, но у пользователей тарифа \"Смарт\" оно значительно ближе к лимиту. Медиана показателя для тарифа \"Ультра\" несколько ниже среднего значения и составляет 528 минут, а медиана для тарифа \"Смарт\", составляет 423 мин и отличается от среднего значения незначительно. Межквартильный интервал для тарифа \"Ультра\" включает значения от 310 до 756,50 минут, для тарифа \"Смарт\" - от 285 до 545 минут. Среди абонентов и тарифа \"Ультра\", и тарифа \"Смарт\", есть любители долго говорить по телефону, так максимальное значение в превом случае составляет 1673 мин, а во втором - 1435 мин. Стоит заметить, что ни один абонент тарифа \"Ультра\" в представленной выборке не превысил месячный лимит минут, в то время как среди абонентов тарифа \"Смарт\", превысивших лимит более 25%. Стандартное отклонение значений по тарифам \"Ультра\" и \"Смарт\" составило 306,93 и 189,33 мин, а дисперсия 94104,36 и 35828,07 мин^2 соответственно."
   ]
  },
  {
   "cell_type": "code",
   "execution_count": 75,
   "metadata": {
    "scrolled": false
   },
   "outputs": [
    {
     "data": {
      "image/png": "[encoded data removed]",
      "text/plain": [
       "<Figure size 720x504 with 1 Axes>"
      ]
     },
     "metadata": {
      "needs_background": "light"
     },
     "output_type": "display_data"
    }
   ],
   "source": [
    "df_general.query('tariff == \"ultra\"')['sum_calls'].hist(figsize=(10 ,7), alpha=0.5)\n",
    "df_general.query('tariff == \"smart\"')['sum_calls'].hist(figsize=(10 ,7), alpha=0.5)\n",
    "plt.legend(['ultra', 'smart'])\n",
    "plt.title('Количество расходуемых минут в месяц')\n",
    "plt.xlabel('Минут израсходовано за месяц')\n",
    "plt.ylabel('Частота встречаемости')\n",
    "plt.show()"
   ]
  },
  {
   "cell_type": "markdown",
   "metadata": {},
   "source": [
    "Обе диаграммы скошены влево. Пик значений для тарифа \"Смарт\" приходится на диапазон значений 450-550 мин, для тарифа \"Ультра\" - 500-650 мин. Среди абонентов тарифа \"Ультра\" значительно больше тех кто тратит в месяц 1000 и более минут, чем среди абонентов тарифа \"Смарт\"."
   ]
  },
  {
   "cell_type": "markdown",
   "metadata": {},
   "source": [
    "### Анализ количества сообщений"
   ]
  },
  {
   "cell_type": "code",
   "execution_count": 57,
   "metadata": {},
   "outputs": [
    {
     "name": "stdout",
     "output_type": "stream",
     "text": [
      "Числовое описание данных:\n",
      "count   985.00\n",
      "mean     49.36\n",
      "std      47.80\n",
      "min       0.00\n",
      "25%       6.00\n",
      "50%      38.00\n",
      "75%      79.00\n",
      "max     224.00\n",
      "Name: message_count, dtype: float64\n",
      "Дисперсия:\n",
      "2282.95\n"
     ]
    }
   ],
   "source": [
    "analysis(df_general.query('tariff == \"ultra\"')['message_count']) \n",
    "#числовое описание данных по ежемесячно отправляемым сообщениям абонентами тарифа ultra"
   ]
  },
  {
   "cell_type": "code",
   "execution_count": 58,
   "metadata": {},
   "outputs": [
    {
     "name": "stdout",
     "output_type": "stream",
     "text": [
      "Числовое описание данных:\n",
      "count   2,229.00\n",
      "mean       33.38\n",
      "std        28.23\n",
      "min         0.00\n",
      "25%        10.00\n",
      "50%        28.00\n",
      "75%        51.00\n",
      "max       143.00\n",
      "Name: message_count, dtype: float64\n",
      "Дисперсия:\n",
      "796.46\n"
     ]
    }
   ],
   "source": [
    "analysis(df_general.query('tariff == \"smart\"')['message_count']) \n",
    "#числовое описание данных по ежемесячно отправляемым сообщениям абонентами тарифа smart"
   ]
  },
  {
   "cell_type": "markdown",
   "metadata": {},
   "source": [
    "Среднее количество ежемесячно отправляемых сообщений абонентами тарифа \"Ультра\" существенно превышает таковое на тарифе \"Смарт\", 61,16 и 38,72 соответственно. При этом и в том, и в другом случае медиана ниже среднего значения и составляет 51 и 34 для тарифов \"Ультра\" и \"Смарт\" соответственно. Межквартильный интервал включает значения от 24 до 87,5 для тарифа \"Ультра\", и от 17 до 55 для тарифа \"Смарт\", максимальные значения составляют 224 и 143 сообщения соответственно. Как и в случае со звонками среди абонентов тарифа \"Ультра\" ни за один из месяцев не был превышен лимит сообщений предусмотренный тарифом, в то время как среди абонентов тарифа \"Смарт\", более чем в 25% случаев лимит был превышен."
   ]
  },
  {
   "cell_type": "code",
   "execution_count": 76,
   "metadata": {},
   "outputs": [
    {
     "data": {
      "image/png": "[encoded data removed]",
      "text/plain": [
       "<Figure size 720x504 with 1 Axes>"
      ]
     },
     "metadata": {
      "needs_background": "light"
     },
     "output_type": "display_data"
    }
   ],
   "source": [
    "df_general.query('tariff == \"ultra\"')['message_count'].hist(grid=True, figsize=(10, 7), alpha=0.5)\n",
    "df_general.query('tariff == \"smart\"')['message_count'].hist(grid=True, figsize=(10, 7), alpha=0.5)\n",
    "plt.legend(['ultra', 'smart'])\n",
    "plt.title('Количество отправленных сообщений в месяц (тариф smart)')\n",
    "plt.xlabel('Сообщений отправлено за месяц, шт.')\n",
    "plt.ylabel('Частота встречаемости')\n",
    "plt.show()"
   ]
  },
  {
   "cell_type": "markdown",
   "metadata": {},
   "source": [
    "В обоих случаях диаграммы скошены вправо, и пик значений приходится на диапазон от 0 до 25-30 сообщений в месяц. Среди абонентов тарифа \"Ультра\" существенно больше тех кто использует в месяц более 100 сообщений, чем среди, пользующихся тарифом \"Смарт\"."
   ]
  },
  {
   "cell_type": "markdown",
   "metadata": {},
   "source": [
    "### Анализ интернет-трафика"
   ]
  },
  {
   "cell_type": "code",
   "execution_count": 60,
   "metadata": {},
   "outputs": [
    {
     "name": "stdout",
     "output_type": "stream",
     "text": [
      "Числовое описание данных:\n",
      "count   985.00\n",
      "mean     19.49\n",
      "std       9.85\n",
      "min       0.00\n",
      "25%      12.00\n",
      "50%      19.00\n",
      "75%      27.00\n",
      "max      49.00\n",
      "Name: gb_used, dtype: float64\n",
      "Дисперсия:\n",
      "96.99\n"
     ]
    }
   ],
   "source": [
    "analysis(df_general.query('tariff == \"ultra\"')['gb_used'])\n",
    "#числовое описание данных по объему ежемесячно расходуемого интернет-трафика абонентами тарифа ultra"
   ]
  },
  {
   "cell_type": "code",
   "execution_count": 61,
   "metadata": {},
   "outputs": [
    {
     "name": "stdout",
     "output_type": "stream",
     "text": [
      "Числовое описание данных:\n",
      "count   2,229.00\n",
      "mean       16.33\n",
      "std         5.75\n",
      "min         0.00\n",
      "25%        13.00\n",
      "50%        17.00\n",
      "75%        20.00\n",
      "max        38.00\n",
      "Name: gb_used, dtype: float64\n",
      "Дисперсия:\n",
      "33.01\n"
     ]
    }
   ],
   "source": [
    "analysis(df_general.query('tariff == \"smart\"')['gb_used'])\n",
    "#числовое описание данных по объему ежемесячно расходуемого интернет-трафика абонентами тарифа smart"
   ]
  },
  {
   "cell_type": "markdown",
   "metadata": {},
   "source": [
    "Абоненты тарифа \"Ультра\" в среднем в месяц тратят 19,69 GB интернет-трафика, что практически равно медиане данного показателя (19 GB) и не выходит за рамки месячного лимита интернет-трафика. Абоненты тарифы \"Смарт\" в среднем расходуют за месяц немногим меньшее количество интернет трафика (16,34 GB), что также практически равно медиане данного показателя (17,00 GB), но при этом и среднее значение и медиана превышает лимит интернет-трафика, т.е. абоненты тарифа \"Смарт\" более, чем в 50% случаев превышают свой месячный лимит. Межквартильные интервалы включают значения от 12 до 27 и от 13 до 20 GB, а максимальное количество потраченных GB сотсавляет 49 и 38 для тарифов \"Ультра\" и \"Смарт\" соответственно. Стандартное отклонение и дисперсия значений на тарифе \"Ультра\" - 9,70  GB и 94,05 GB^2, для тарифа \"Смарт\" - 5,74 GB и 32,91 GB^2.  "
   ]
  },
  {
   "cell_type": "code",
   "execution_count": 77,
   "metadata": {},
   "outputs": [
    {
     "data": {
      "image/png": "[encoded data removed]",
      "text/plain": [
       "<Figure size 720x504 with 1 Axes>"
      ]
     },
     "metadata": {
      "needs_background": "light"
     },
     "output_type": "display_data"
    }
   ],
   "source": [
    "df_general.query('tariff == \"ultra\"')['gb_used'].hist(grid=True, figsize=(10, 7), alpha=0.5)\n",
    "df_general.query('tariff == \"smart\"')['gb_used'].hist(grid=True, figsize=(10, 7), alpha=0.5)\n",
    "plt.legend(['ultra', 'smart'])\n",
    "plt.title('Объём интернет-трафика, расходуемого в месяц')\n",
    "plt.xlabel('Израсходованного интернет-трафика за месяц, GB')\n",
    "plt.ylabel('Частота встречаемости')\n",
    "plt.show()"
   ]
  },
  {
   "cell_type": "markdown",
   "metadata": {},
   "source": [
    "Распределений значений затрачиваемого ежемесячно интернет-трафика ближе всего к нормальному, по сравнению с предыдущими параметрами, пожалуй можно сказать, что оно практически нормальное. В случае с тарифом \"Смарт\" гистограмма несколько скошена влево, в то время как гистограмма распределения значений для тарифа \"Ультра\" немного скошена вправо. Подавляющее большинство значений на гистограмме тарифа \"Смарт\" приходится на диапазон 11-23 GB, тарифа \"Ультра\" - 15-29 GB. Абоненты тарифа \"Ультра\" гораздо чаще, чем абоненты тарифа \"Смарт\" тратят 30 и более GB интернет-трафика в месяц."
   ]
  },
  {
   "cell_type": "markdown",
   "metadata": {},
   "source": [
    "### Анализ платы за услуги связи"
   ]
  },
  {
   "cell_type": "code",
   "execution_count": 80,
   "metadata": {},
   "outputs": [
    {
     "name": "stdout",
     "output_type": "stream",
     "text": [
      "Числовое описание данных:\n",
      "count     985.00\n",
      "mean    2,070.15\n",
      "std       376.19\n",
      "min     1,950.00\n",
      "25%     1,950.00\n",
      "50%     1,950.00\n",
      "75%     1,950.00\n",
      "max     4,800.00\n",
      "Name: month_revenue, dtype: float64\n",
      "Дисперсия:\n",
      "141373.07\n"
     ]
    }
   ],
   "source": [
    "analysis(df_general.query('tariff == \"ultra\"')['month_revenue'])\n",
    "#числовое описание данных по ежемесячной плате абонентов тарифа ultra"
   ]
  },
  {
   "cell_type": "markdown",
   "metadata": {},
   "source": [
    "Средняя ежемесячная плата абонентов тарифа \"Ультра\" составляет 2 070,15 руб, т.е. практически равна ежемесячной абонентской плате, т.к. 75% пользователей не превышает лимитов заложенных в тариф. Максимальный платеж составил 4 800,00 руб."
   ]
  },
  {
   "cell_type": "code",
   "execution_count": 81,
   "metadata": {},
   "outputs": [
    {
     "name": "stdout",
     "output_type": "stream",
     "text": [
      "Числовое описание данных:\n",
      "count   2,229.00\n",
      "mean    1,289.97\n",
      "std       818.40\n",
      "min       550.00\n",
      "25%       550.00\n",
      "50%     1,023.00\n",
      "75%     1,750.00\n",
      "max     6,770.00\n",
      "Name: month_revenue, dtype: float64\n",
      "Дисперсия:\n",
      "669485.22\n"
     ]
    }
   ],
   "source": [
    "analysis(df_general.query('tariff == \"smart\"')['month_revenue'])\n",
    "#числовое описание данных по ежемесячной плате абонентов тарифа smart"
   ]
  },
  {
   "cell_type": "markdown",
   "metadata": {},
   "source": [
    "Среди пользователей тарифа \"Смарт\" наблюдается обратная ситуация только 25% абонентов укладываются в установленные месячные лимиты, и соответственно их ежемесячная плата составляет 550,00 руб. Средняя ежемесячная плата составляет 1 289,97 руб и превышает медиану (1 023,00 руб), но и тот и другой показатель, ниже аналогичного для тарифа \"Ультра\". Максимальный платеж среди клиентов тарифа \"Смарт\", существенно превысил таковой среди клиентов тарифа \"Ультра\", и составил 6 770,00 руб."
   ]
  },
  {
   "cell_type": "code",
   "execution_count": 79,
   "metadata": {},
   "outputs": [
    {
     "data": {
      "image/png": "[encoded data removed]",
      "text/plain": [
       "<Figure size 720x504 with 1 Axes>"
      ]
     },
     "metadata": {
      "needs_background": "light"
     },
     "output_type": "display_data"
    }
   ],
   "source": [
    "df_general.query('tariff == \"ultra\"')['month_revenue'].hist(grid=True, figsize=(10, 7), alpha=0.5)\n",
    "df_general.query('tariff == \"smart\"')['month_revenue'].hist(grid=True, figsize=(10, 7), alpha=0.5)\n",
    "plt.legend(['ultra', 'smart'])\n",
    "plt.title('Размер платы за услуги связи в месяц')\n",
    "plt.xlabel('Размер ежемесячной платы, RUB')\n",
    "plt.ylabel('Частота встречаемости')\n",
    "plt.show()"
   ]
  },
  {
   "cell_type": "markdown",
   "metadata": {},
   "source": [
    "Обе гистограммы смещены в право, т.к. пики встречаемости значений концентрируются у значения равного ежемесячной абонентской плате. В случае с тарифом \"Смарт\" смещение вправо выражено сильнее, потому что, как было сказано ранее, абоненты этого тарифа гораздо чаще выходят за пределы установленного лимита, чем абоненты \"Ультра\". "
   ]
  },
  {
   "cell_type": "markdown",
   "metadata": {},
   "source": [
    "### Вывод\n",
    "\n",
    "- Абоненты тарифа \"Ультра\" ожидаемо тратят в месяц в среднем большее количество минут, сообщений и гигабайт интернет-трафика, чем пользователи тарифа \"Смарт\".\n",
    "- Абоненты тарифа \"Ультра\" превышают ежемесячный лимит только по интернет-трафику, в то время как более 25% абонентов тарифа \"Смарт\" превышают заданный месячный лимит по звонкам и сообщениям, и более 50% по интернет-трафику.\n",
    "- Распределение значений количества ежемесячно расходуемых минут, сообщений и интренет-трафика среди абонентов разных тарифов, в целом имеет сходный характер: гистограммы распределения количества израсходованных минут и сообщений смещены влево; распределение затраченного интернет-трафика наиболее близко к нормальному, при этом для тарифа \"Ультра\" оно несколько смещено вправо, а для тарифа \"Смарт\" - влево."
   ]
  },
  {
   "cell_type": "markdown",
   "metadata": {},
   "source": [
    "## Проверка гипотез ##"
   ]
  },
  {
   "cell_type": "markdown",
   "metadata": {},
   "source": [
    "### Средняя выручка пользователей тарифов \"Ультра\" и \"Смарт\" различаются?"
   ]
  },
  {
   "cell_type": "markdown",
   "metadata": {},
   "source": [
    "Для ответа на поставленный выше вопрос, выдвинем нулевую и альтернативную гипотезы. Нулевая гипотеза должна содержать выражение равенства, поэтому сформулируем её следующим образом: \"Средняя выручка пользователей тарифа 'Ультра' и 'Смарт' не различается (равна)\". Следовательно альтернативная гипотеза гласит: \"Средняя выручка пользователей тарифа 'Ультра' и 'Смарт' различается (больше или меньше)\". Для проверки выдвинутых гипотез используем t-тест для не связанных совокупностей, так как генеральные совокупности не зависят друг от друга. Так как выборки разного размера установим параметр equal_var=False при вызове метода для проведения t-теста. Используем общепринятый критический уровень статистической значимости для проверки гипотезы равный 0.05:"
   ]
  },
  {
   "cell_type": "code",
   "execution_count": 69,
   "metadata": {},
   "outputs": [
    {
     "name": "stdout",
     "output_type": "stream",
     "text": [
      "Средняя выручка пользователей тарифа \"Ультра\":  2070.15\n",
      "Средняя выручка пользователей тарифа \"Смарт\":  1289.97\n",
      "p-значение:  4.2606313931076085e-250\n",
      "Нулевая гипотеза отвергнута\n"
     ]
    }
   ],
   "source": [
    "alpha = 0.05 #критический уровень статистической значимости\n",
    "results = st.ttest_ind(df_general.query('tariff == \"ultra\"')['month_revenue'].tolist(), \n",
    "                       df_general.query('tariff == \"smart\"')['month_revenue'].tolist(), equal_var=False)\n",
    "print('Средняя выручка пользователей тарифа \"Ультра\": ', (df_general.query('tariff == \"ultra\"')['month_revenue'].mean()).round(2))\n",
    "print('Средняя выручка пользователей тарифа \"Смарт\": ', (df_general.query('tariff == \"smart\"')['month_revenue'].mean()).round(2))\n",
    "print('p-значение: ', results.pvalue)\n",
    "if results.pvalue < alpha:\n",
    "    print('Нулевая гипотеза отвергнута')\n",
    "else:\n",
    "    print('Нельзя отвергнуть нулевую гипотезу')"
   ]
  },
  {
   "cell_type": "markdown",
   "metadata": {},
   "source": [
    "Нулевая гипотеза отвергнута, а значит средняя выручка пользователей тарифов \"Ультра\" и \"Смарт\" различается. В наших выборках средняя выручка пользователей тарифа \"Ультра\" выше."
   ]
  },
  {
   "cell_type": "markdown",
   "metadata": {},
   "source": [
    "### Средняя выручка пользователей из Москвы отличается от выручки пользователей из других регионов?"
   ]
  },
  {
   "cell_type": "markdown",
   "metadata": {},
   "source": [
    "Ответ на данный вопрос получим аналогичным предыдущему способом. Нулевая гипотеза: \"Средняя выручка пользователей из Москвы не отличается от средней выручки пользователей из других регионов\", альтернативная гипотеза: \"Средняя выручка пользователей из Москвы отличается от средней выручки пользователей из других регионов\"."
   ]
  },
  {
   "cell_type": "code",
   "execution_count": 64,
   "metadata": {},
   "outputs": [
    {
     "data": {
      "text/plain": [
       "611"
      ]
     },
     "execution_count": 64,
     "metadata": {},
     "output_type": "execute_result"
    }
   ],
   "source": [
    "df_general.query('\"Москва\" in city')['user_id'].count() #количество наблюдением в выборке абонентов из Москвы"
   ]
  },
  {
   "cell_type": "markdown",
   "metadata": {},
   "source": [
    "Количество наблюдений в выборках, как и в первом случае, сильно отличается, поэтому установим параметр equal_var=False."
   ]
  },
  {
   "cell_type": "code",
   "execution_count": 65,
   "metadata": {},
   "outputs": [
    {
     "name": "stdout",
     "output_type": "stream",
     "text": [
      "Средняя выручка пользователей из Москвы:  1546.71\n",
      "Средняя выручка пользователей из других регионов:  1524.94\n",
      "p-значение:  0.5257376663729298\n",
      "Нельзя отвергнуть нулевую гипотезу\n"
     ]
    }
   ],
   "source": [
    "alpha = 0.05 #критический уровень статистической значимости\n",
    "results = st.ttest_ind(df_general.query('\"Москва\" in city')['month_revenue'].tolist(), \n",
    "                       df_general.query('\"Москва\" not in city')['month_revenue'].tolist(), equal_var=False)\n",
    "print('Средняя выручка пользователей из Москвы: ', (df_general.query('\"Москва\" in city')['month_revenue'].mean()).round(2))\n",
    "print('Средняя выручка пользователей из других регионов: ', (df_general.query('\"Москва\" not in city')['month_revenue'].mean()).round(2))\n",
    "print('p-значение: ', results.pvalue)\n",
    "if results.pvalue < alpha:\n",
    "    print('Нулевая гипотеза отвергнута')\n",
    "else:\n",
    "    print('Нельзя отвергнуть нулевую гипотезу')"
   ]
  },
  {
   "cell_type": "markdown",
   "metadata": {},
   "source": [
    "Нулевая гипотеза не может быть отвергнута, а значит средняя выручка пользователей из Москвы не отличается от средней выручки пользователей из других регионов."
   ]
  },
  {
   "cell_type": "markdown",
   "metadata": {},
   "source": [
    "## Общий вывод ##"
   ]
  },
  {
   "cell_type": "markdown",
   "metadata": {},
   "source": [
    "При изучении датафреймов не было обнаружено дубликатов или требующих замены пропусков. В ходе предобработки и подготовки данных были изменены форматы данных в столбцах с датами, удалены лишние столбцы, произведены округления необходимых значений. Также были расчитаны помесячные значения длительности звонков, количества отправленных сообщений и использованного интернет-трафика, выручки для каждого пользователя.\n",
    "\n",
    "По результатам анализа данных, выявлены следующие особенности:\n",
    "- абоненты тарифа \"Ультра\" ожидаемо тратят в месяц в среднем большее количество минут, сообщений и гигабайт интернет-трафика, чем пользователи тарифа \"Смарт\";\n",
    "- абоненты тарифа \"Ультра\" превышают ежемесячный лимит только по интернет-трафику, в то время как более 25% абонентов тарифа \"Смарт\" превышают заданный месячный лимит по звонкам и сообщениям, и более 50% по интернет-трафику;\n",
    "- распределение значений количества ежемесячно расходуемых минут, сообщений и интренет-трафика среди абонентов разных тарифов, в целом имеет сходный характер: гистограммы распределения количества израсходованных минут и сообщений смещены влево; распределение затраченного интернет-трафика наиболее близко к нормальному, при этом для тарифа \"Ультра\" оно несколько смещено вправо, а для тарифа \"Смарт\" - влево.\n",
    "\n",
    "Для проверки гипотез был использован t-тест для не связанных совокупностей. Результаты проверки гипотез:\n",
    "- средняя выручка пользователей тарифов \"Ультра\" и \"Смарт\" различается, в представленных выборках она выше у пользователей тарифа \"Ультра\";\n",
    "- средняя выручка пользователей из Москвы не отличается от средней выручки пользователей из других регионов.\n"
   ]
  }
 ],
 "metadata": {
  "ExecuteTimeLog": [
   {
    "duration": 781,
    "start_time": "2022-03-03T20:32:38.018Z"
   },
   {
    "duration": 215,
    "start_time": "2022-03-03T20:32:38.803Z"
   },
   {
    "duration": 21,
    "start_time": "2022-03-03T20:32:39.021Z"
   },
   {
    "duration": 48,
    "start_time": "2022-03-03T20:32:39.044Z"
   },
   {
    "duration": 142,
    "start_time": "2022-03-03T20:32:39.095Z"
   },
   {
    "duration": 49,
    "start_time": "2022-03-03T20:32:39.239Z"
   },
   {
    "duration": 6,
    "start_time": "2022-03-03T20:32:39.290Z"
   },
   {
    "duration": 189,
    "start_time": "2022-03-03T20:32:39.300Z"
   },
   {
    "duration": 12,
    "start_time": "2022-03-03T20:32:39.492Z"
   },
   {
    "duration": 27,
    "start_time": "2022-03-03T20:32:39.506Z"
   },
   {
    "duration": 142,
    "start_time": "2022-03-03T20:32:39.535Z"
   },
   {
    "duration": 33,
    "start_time": "2022-03-03T20:32:39.679Z"
   },
   {
    "duration": 14,
    "start_time": "2022-03-03T20:32:39.715Z"
   },
   {
    "duration": 148,
    "start_time": "2022-03-03T20:32:39.731Z"
   },
   {
    "duration": 10,
    "start_time": "2022-03-03T20:32:39.882Z"
   },
   {
    "duration": 21,
    "start_time": "2022-03-03T20:32:39.894Z"
   },
   {
    "duration": 99,
    "start_time": "2022-03-03T20:32:39.918Z"
   },
   {
    "duration": 25,
    "start_time": "2022-03-03T20:32:40.020Z"
   },
   {
    "duration": 15,
    "start_time": "2022-03-03T20:32:40.048Z"
   },
   {
    "duration": 12,
    "start_time": "2022-03-03T20:32:40.074Z"
   },
   {
    "duration": 32,
    "start_time": "2022-03-03T20:32:40.088Z"
   },
   {
    "duration": 18,
    "start_time": "2022-03-03T20:32:40.123Z"
   },
   {
    "duration": 14,
    "start_time": "2022-03-03T20:32:40.146Z"
   },
   {
    "duration": 10,
    "start_time": "2022-03-03T20:32:40.174Z"
   },
   {
    "duration": 10,
    "start_time": "2022-03-03T20:32:40.186Z"
   },
   {
    "duration": 40,
    "start_time": "2022-03-03T20:32:40.198Z"
   },
   {
    "duration": 60,
    "start_time": "2022-03-03T20:32:40.240Z"
   },
   {
    "duration": 10,
    "start_time": "2022-03-03T20:32:40.302Z"
   },
   {
    "duration": 26,
    "start_time": "2022-03-03T20:32:40.315Z"
   },
   {
    "duration": 53,
    "start_time": "2022-03-03T20:32:40.344Z"
   },
   {
    "duration": 13,
    "start_time": "2022-03-03T20:32:40.400Z"
   },
   {
    "duration": 32,
    "start_time": "2022-03-03T20:32:40.415Z"
   },
   {
    "duration": 29,
    "start_time": "2022-03-03T20:32:40.474Z"
   },
   {
    "duration": 10,
    "start_time": "2022-03-03T20:32:40.506Z"
   },
   {
    "duration": 15,
    "start_time": "2022-03-03T20:32:40.519Z"
   },
   {
    "duration": 47,
    "start_time": "2022-03-03T20:32:40.537Z"
   },
   {
    "duration": 16,
    "start_time": "2022-03-03T20:32:40.587Z"
   },
   {
    "duration": 17,
    "start_time": "2022-03-03T20:32:40.606Z"
   },
   {
    "duration": 13,
    "start_time": "2022-03-03T20:32:40.626Z"
   },
   {
    "duration": 75,
    "start_time": "2022-03-03T20:32:40.642Z"
   },
   {
    "duration": 11,
    "start_time": "2022-03-03T20:32:40.720Z"
   },
   {
    "duration": 78,
    "start_time": "2022-03-03T20:32:40.734Z"
   },
   {
    "duration": 9,
    "start_time": "2022-03-03T20:32:40.815Z"
   },
   {
    "duration": 297,
    "start_time": "2022-03-03T20:32:40.826Z"
   },
   {
    "duration": 48,
    "start_time": "2022-03-03T20:32:41.125Z"
   },
   {
    "duration": 758,
    "start_time": "2022-03-04T18:30:49.118Z"
   },
   {
    "duration": 209,
    "start_time": "2022-03-04T18:30:49.880Z"
   },
   {
    "duration": 21,
    "start_time": "2022-03-04T18:30:50.092Z"
   },
   {
    "duration": 41,
    "start_time": "2022-03-04T18:30:50.116Z"
   },
   {
    "duration": 160,
    "start_time": "2022-03-04T18:30:50.159Z"
   },
   {
    "duration": 47,
    "start_time": "2022-03-04T18:30:50.321Z"
   },
   {
    "duration": 6,
    "start_time": "2022-03-04T18:30:50.371Z"
   },
   {
    "duration": 184,
    "start_time": "2022-03-04T18:30:50.379Z"
   },
   {
    "duration": 13,
    "start_time": "2022-03-04T18:30:50.568Z"
   },
   {
    "duration": 30,
    "start_time": "2022-03-04T18:30:50.585Z"
   },
   {
    "duration": 104,
    "start_time": "2022-03-04T18:30:50.632Z"
   },
   {
    "duration": 30,
    "start_time": "2022-03-04T18:30:50.739Z"
   },
   {
    "duration": 11,
    "start_time": "2022-03-04T18:30:50.772Z"
   },
   {
    "duration": 148,
    "start_time": "2022-03-04T18:30:50.786Z"
   },
   {
    "duration": 11,
    "start_time": "2022-03-04T18:30:50.936Z"
   },
   {
    "duration": 21,
    "start_time": "2022-03-04T18:30:50.950Z"
   },
   {
    "duration": 92,
    "start_time": "2022-03-04T18:30:50.974Z"
   },
   {
    "duration": 23,
    "start_time": "2022-03-04T18:30:51.069Z"
   },
   {
    "duration": 17,
    "start_time": "2022-03-04T18:30:51.095Z"
   },
   {
    "duration": 28,
    "start_time": "2022-03-04T18:30:51.115Z"
   },
   {
    "duration": 42,
    "start_time": "2022-03-04T18:30:51.146Z"
   },
   {
    "duration": 20,
    "start_time": "2022-03-04T18:30:51.191Z"
   },
   {
    "duration": 14,
    "start_time": "2022-03-04T18:30:51.214Z"
   },
   {
    "duration": 14,
    "start_time": "2022-03-04T18:30:51.231Z"
   },
   {
    "duration": 9,
    "start_time": "2022-03-04T18:30:51.247Z"
   },
   {
    "duration": 33,
    "start_time": "2022-03-04T18:30:51.258Z"
   },
   {
    "duration": 48,
    "start_time": "2022-03-04T18:30:51.296Z"
   },
   {
    "duration": 10,
    "start_time": "2022-03-04T18:30:51.347Z"
   },
   {
    "duration": 28,
    "start_time": "2022-03-04T18:30:51.360Z"
   },
   {
    "duration": 14,
    "start_time": "2022-03-04T18:30:51.391Z"
   },
   {
    "duration": 30,
    "start_time": "2022-03-04T18:30:51.408Z"
   },
   {
    "duration": 25,
    "start_time": "2022-03-04T18:30:51.441Z"
   },
   {
    "duration": 18,
    "start_time": "2022-03-04T18:30:51.468Z"
   },
   {
    "duration": 8,
    "start_time": "2022-03-04T18:30:51.488Z"
   },
   {
    "duration": 10,
    "start_time": "2022-03-04T18:30:51.533Z"
   },
   {
    "duration": 13,
    "start_time": "2022-03-04T18:30:51.545Z"
   },
   {
    "duration": 14,
    "start_time": "2022-03-04T18:30:51.560Z"
   },
   {
    "duration": 14,
    "start_time": "2022-03-04T18:30:51.576Z"
   },
   {
    "duration": 48,
    "start_time": "2022-03-04T18:30:51.593Z"
   },
   {
    "duration": 32,
    "start_time": "2022-03-04T18:30:51.644Z"
   },
   {
    "duration": 10,
    "start_time": "2022-03-04T18:30:51.679Z"
   },
   {
    "duration": 67,
    "start_time": "2022-03-04T18:30:51.692Z"
   },
   {
    "duration": 6,
    "start_time": "2022-03-04T18:30:51.762Z"
   },
   {
    "duration": 299,
    "start_time": "2022-03-04T18:30:51.771Z"
   },
   {
    "duration": 33,
    "start_time": "2022-03-04T18:30:52.073Z"
   },
   {
    "duration": 5,
    "start_time": "2022-03-04T19:27:05.943Z"
   },
   {
    "duration": 421,
    "start_time": "2022-03-04T19:28:46.845Z"
   },
   {
    "duration": 7417,
    "start_time": "2022-03-04T19:29:12.765Z"
   },
   {
    "duration": 7569,
    "start_time": "2022-03-04T19:30:03.837Z"
   },
   {
    "duration": 4,
    "start_time": "2022-03-04T19:30:34.466Z"
   },
   {
    "duration": 8021,
    "start_time": "2022-03-04T19:30:35.920Z"
   },
   {
    "duration": -2214,
    "start_time": "2022-03-04T19:32:35.839Z"
   },
   {
    "duration": -2219,
    "start_time": "2022-03-04T19:32:35.845Z"
   },
   {
    "duration": 3,
    "start_time": "2022-03-04T19:32:39.419Z"
   },
   {
    "duration": 7581,
    "start_time": "2022-03-04T19:32:40.386Z"
   },
   {
    "duration": 591,
    "start_time": "2022-03-04T19:33:05.593Z"
   },
   {
    "duration": 4,
    "start_time": "2022-03-04T19:33:19.390Z"
   },
   {
    "duration": 10,
    "start_time": "2022-03-04T19:33:20.554Z"
   },
   {
    "duration": 5,
    "start_time": "2022-03-04T19:33:45.464Z"
   },
   {
    "duration": 13,
    "start_time": "2022-03-04T19:33:45.976Z"
   },
   {
    "duration": 18,
    "start_time": "2022-03-04T19:35:19.065Z"
   },
   {
    "duration": 739,
    "start_time": "2022-03-04T19:35:54.911Z"
   },
   {
    "duration": 21,
    "start_time": "2022-03-04T19:36:08.914Z"
   },
   {
    "duration": 4,
    "start_time": "2022-03-04T19:36:12.073Z"
   },
   {
    "duration": 4,
    "start_time": "2022-03-04T19:36:16.936Z"
   },
   {
    "duration": 4,
    "start_time": "2022-03-04T19:38:26.403Z"
   },
   {
    "duration": 18,
    "start_time": "2022-03-04T19:38:27.642Z"
   },
   {
    "duration": 4,
    "start_time": "2022-03-04T19:38:58.048Z"
   },
   {
    "duration": 18,
    "start_time": "2022-03-04T19:38:59.118Z"
   },
   {
    "duration": 4,
    "start_time": "2022-03-04T19:46:52.607Z"
   },
   {
    "duration": 4,
    "start_time": "2022-03-04T19:47:05.477Z"
   },
   {
    "duration": 230,
    "start_time": "2022-03-04T19:47:05.483Z"
   },
   {
    "duration": 19,
    "start_time": "2022-03-04T19:47:05.716Z"
   },
   {
    "duration": 27,
    "start_time": "2022-03-04T19:47:05.738Z"
   },
   {
    "duration": 151,
    "start_time": "2022-03-04T19:47:05.767Z"
   },
   {
    "duration": 47,
    "start_time": "2022-03-04T19:47:05.920Z"
   },
   {
    "duration": 6,
    "start_time": "2022-03-04T19:47:05.969Z"
   },
   {
    "duration": 177,
    "start_time": "2022-03-04T19:47:05.978Z"
   },
   {
    "duration": 11,
    "start_time": "2022-03-04T19:47:06.159Z"
   },
   {
    "duration": 25,
    "start_time": "2022-03-04T19:47:06.174Z"
   },
   {
    "duration": 104,
    "start_time": "2022-03-04T19:47:06.233Z"
   },
   {
    "duration": 31,
    "start_time": "2022-03-04T19:47:06.340Z"
   },
   {
    "duration": 11,
    "start_time": "2022-03-04T19:47:06.374Z"
   },
   {
    "duration": 129,
    "start_time": "2022-03-04T19:47:06.388Z"
   },
   {
    "duration": 17,
    "start_time": "2022-03-04T19:47:06.520Z"
   },
   {
    "duration": 21,
    "start_time": "2022-03-04T19:47:06.540Z"
   },
   {
    "duration": 81,
    "start_time": "2022-03-04T19:47:06.564Z"
   },
   {
    "duration": 23,
    "start_time": "2022-03-04T19:47:06.648Z"
   },
   {
    "duration": 17,
    "start_time": "2022-03-04T19:47:06.674Z"
   },
   {
    "duration": 19,
    "start_time": "2022-03-04T19:47:06.693Z"
   },
   {
    "duration": 41,
    "start_time": "2022-03-04T19:47:06.715Z"
   },
   {
    "duration": 15,
    "start_time": "2022-03-04T19:47:06.758Z"
   },
   {
    "duration": 12,
    "start_time": "2022-03-04T19:47:06.775Z"
   },
   {
    "duration": 17,
    "start_time": "2022-03-04T19:47:06.789Z"
   },
   {
    "duration": 15,
    "start_time": "2022-03-04T19:47:06.809Z"
   },
   {
    "duration": 47,
    "start_time": "2022-03-04T19:47:06.826Z"
   },
   {
    "duration": 28,
    "start_time": "2022-03-04T19:47:06.879Z"
   },
   {
    "duration": 10,
    "start_time": "2022-03-04T19:47:06.910Z"
   },
   {
    "duration": 22,
    "start_time": "2022-03-04T19:47:06.933Z"
   },
   {
    "duration": 19,
    "start_time": "2022-03-04T19:47:06.957Z"
   },
   {
    "duration": 15,
    "start_time": "2022-03-04T19:47:06.979Z"
   },
   {
    "duration": 59,
    "start_time": "2022-03-04T19:47:06.996Z"
   },
   {
    "duration": 17,
    "start_time": "2022-03-04T19:47:07.058Z"
   },
   {
    "duration": 4,
    "start_time": "2022-03-04T19:47:07.078Z"
   },
   {
    "duration": 16,
    "start_time": "2022-03-04T19:47:07.084Z"
   },
   {
    "duration": 36,
    "start_time": "2022-03-04T19:47:07.103Z"
   },
   {
    "duration": 15,
    "start_time": "2022-03-04T19:47:07.141Z"
   },
   {
    "duration": 18,
    "start_time": "2022-03-04T19:47:07.159Z"
   },
   {
    "duration": 21,
    "start_time": "2022-03-04T19:47:07.179Z"
   },
   {
    "duration": 44,
    "start_time": "2022-03-04T19:47:07.203Z"
   },
   {
    "duration": 10,
    "start_time": "2022-03-04T19:47:07.250Z"
   },
   {
    "duration": 46,
    "start_time": "2022-03-04T19:47:07.262Z"
   },
   {
    "duration": 22,
    "start_time": "2022-03-04T19:47:07.310Z"
   },
   {
    "duration": 397,
    "start_time": "2022-03-04T19:47:07.335Z"
   },
   {
    "duration": 29,
    "start_time": "2022-03-04T19:47:07.734Z"
   },
   {
    "duration": 10,
    "start_time": "2022-03-04T19:47:07.766Z"
   },
   {
    "duration": 29,
    "start_time": "2022-03-04T19:47:07.779Z"
   },
   {
    "duration": 4,
    "start_time": "2022-03-04T19:48:59.147Z"
   },
   {
    "duration": 15,
    "start_time": "2022-03-04T19:48:59.732Z"
   },
   {
    "duration": 6,
    "start_time": "2022-03-04T19:49:16.726Z"
   },
   {
    "duration": 18,
    "start_time": "2022-03-04T19:49:17.580Z"
   },
   {
    "duration": 5,
    "start_time": "2022-03-04T19:49:29.936Z"
   },
   {
    "duration": 17,
    "start_time": "2022-03-04T19:49:31.560Z"
   },
   {
    "duration": 5,
    "start_time": "2022-03-04T19:49:55.115Z"
   },
   {
    "duration": 18,
    "start_time": "2022-03-04T19:49:56.173Z"
   },
   {
    "duration": 4,
    "start_time": "2022-03-04T19:51:31.184Z"
   },
   {
    "duration": 14,
    "start_time": "2022-03-04T19:51:31.664Z"
   },
   {
    "duration": 5,
    "start_time": "2022-03-04T19:52:11.219Z"
   },
   {
    "duration": 6,
    "start_time": "2022-03-04T19:52:28.179Z"
   },
   {
    "duration": 14,
    "start_time": "2022-03-04T19:53:12.185Z"
   },
   {
    "duration": 5,
    "start_time": "2022-03-04T19:53:38.960Z"
   },
   {
    "duration": 135,
    "start_time": "2022-03-04T20:08:48.911Z"
   },
   {
    "duration": 208,
    "start_time": "2022-03-04T20:08:49.049Z"
   },
   {
    "duration": 12,
    "start_time": "2022-03-04T20:08:49.261Z"
   },
   {
    "duration": 28,
    "start_time": "2022-03-04T20:08:49.277Z"
   },
   {
    "duration": 125,
    "start_time": "2022-03-04T20:08:49.333Z"
   },
   {
    "duration": 38,
    "start_time": "2022-03-04T20:08:49.461Z"
   },
   {
    "duration": 31,
    "start_time": "2022-03-04T20:08:49.501Z"
   },
   {
    "duration": 160,
    "start_time": "2022-03-04T20:08:49.535Z"
   },
   {
    "duration": 11,
    "start_time": "2022-03-04T20:08:49.701Z"
   },
   {
    "duration": 38,
    "start_time": "2022-03-04T20:08:49.716Z"
   },
   {
    "duration": 105,
    "start_time": "2022-03-04T20:08:49.757Z"
   },
   {
    "duration": 30,
    "start_time": "2022-03-04T20:08:49.865Z"
   },
   {
    "duration": 10,
    "start_time": "2022-03-04T20:08:49.898Z"
   },
   {
    "duration": 114,
    "start_time": "2022-03-04T20:08:49.933Z"
   },
   {
    "duration": 13,
    "start_time": "2022-03-04T20:08:50.050Z"
   },
   {
    "duration": 30,
    "start_time": "2022-03-04T20:08:50.066Z"
   },
   {
    "duration": 103,
    "start_time": "2022-03-04T20:08:50.099Z"
   },
   {
    "duration": 37,
    "start_time": "2022-03-04T20:08:50.204Z"
   },
   {
    "duration": 18,
    "start_time": "2022-03-04T20:08:50.243Z"
   },
   {
    "duration": 16,
    "start_time": "2022-03-04T20:08:50.264Z"
   },
   {
    "duration": 29,
    "start_time": "2022-03-04T20:08:50.283Z"
   },
   {
    "duration": 16,
    "start_time": "2022-03-04T20:08:50.315Z"
   },
   {
    "duration": 9,
    "start_time": "2022-03-04T20:08:50.334Z"
   },
   {
    "duration": 13,
    "start_time": "2022-03-04T20:08:50.345Z"
   },
   {
    "duration": 9,
    "start_time": "2022-03-04T20:08:50.360Z"
   },
   {
    "duration": 71,
    "start_time": "2022-03-04T20:08:50.372Z"
   },
   {
    "duration": 38,
    "start_time": "2022-03-04T20:08:50.451Z"
   },
   {
    "duration": 13,
    "start_time": "2022-03-04T20:08:50.493Z"
   },
   {
    "duration": 51,
    "start_time": "2022-03-04T20:08:50.509Z"
   },
   {
    "duration": 23,
    "start_time": "2022-03-04T20:08:50.563Z"
   },
   {
    "duration": 13,
    "start_time": "2022-03-04T20:08:50.589Z"
   },
   {
    "duration": 54,
    "start_time": "2022-03-04T20:08:50.605Z"
   },
   {
    "duration": 18,
    "start_time": "2022-03-04T20:08:50.662Z"
   },
   {
    "duration": 5,
    "start_time": "2022-03-04T20:08:50.682Z"
   },
   {
    "duration": 11,
    "start_time": "2022-03-04T20:08:50.689Z"
   },
   {
    "duration": 12,
    "start_time": "2022-03-04T20:08:50.733Z"
   },
   {
    "duration": 11,
    "start_time": "2022-03-04T20:08:50.747Z"
   },
   {
    "duration": 14,
    "start_time": "2022-03-04T20:08:50.760Z"
   },
   {
    "duration": 10,
    "start_time": "2022-03-04T20:08:50.776Z"
   },
   {
    "duration": 66,
    "start_time": "2022-03-04T20:08:50.788Z"
   },
   {
    "duration": 8,
    "start_time": "2022-03-04T20:08:50.857Z"
   },
   {
    "duration": 41,
    "start_time": "2022-03-04T20:08:50.867Z"
   },
   {
    "duration": 6,
    "start_time": "2022-03-04T20:08:50.932Z"
   },
   {
    "duration": 294,
    "start_time": "2022-03-04T20:08:50.940Z"
   },
   {
    "duration": 31,
    "start_time": "2022-03-04T20:08:51.236Z"
   },
   {
    "duration": 5,
    "start_time": "2022-03-04T20:08:51.270Z"
   },
   {
    "duration": 17,
    "start_time": "2022-03-04T20:08:51.277Z"
   },
   {
    "duration": 14,
    "start_time": "2022-03-04T20:08:53.753Z"
   },
   {
    "duration": 673,
    "start_time": "2022-03-04T20:09:00.290Z"
   },
   {
    "duration": 697,
    "start_time": "2022-03-04T20:11:11.951Z"
   },
   {
    "duration": 614,
    "start_time": "2022-03-04T20:13:13.331Z"
   },
   {
    "duration": 647,
    "start_time": "2022-03-04T20:13:23.462Z"
   },
   {
    "duration": 658,
    "start_time": "2022-03-04T20:13:36.990Z"
   },
   {
    "duration": 14,
    "start_time": "2022-03-04T20:15:43.875Z"
   },
   {
    "duration": 667,
    "start_time": "2022-03-04T20:26:57.142Z"
   },
   {
    "duration": 907,
    "start_time": "2022-03-05T12:24:55.808Z"
   },
   {
    "duration": 186,
    "start_time": "2022-03-05T12:24:56.718Z"
   },
   {
    "duration": 15,
    "start_time": "2022-03-05T12:24:56.907Z"
   },
   {
    "duration": 44,
    "start_time": "2022-03-05T12:24:56.925Z"
   },
   {
    "duration": 123,
    "start_time": "2022-03-05T12:24:56.971Z"
   },
   {
    "duration": 35,
    "start_time": "2022-03-05T12:24:57.097Z"
   },
   {
    "duration": 19,
    "start_time": "2022-03-05T12:24:57.135Z"
   },
   {
    "duration": 161,
    "start_time": "2022-03-05T12:24:57.156Z"
   },
   {
    "duration": 11,
    "start_time": "2022-03-05T12:24:57.321Z"
   },
   {
    "duration": 31,
    "start_time": "2022-03-05T12:24:57.335Z"
   },
   {
    "duration": 112,
    "start_time": "2022-03-05T12:24:57.368Z"
   },
   {
    "duration": 29,
    "start_time": "2022-03-05T12:24:57.483Z"
   },
   {
    "duration": 11,
    "start_time": "2022-03-05T12:24:57.514Z"
   },
   {
    "duration": 134,
    "start_time": "2022-03-05T12:24:57.528Z"
   },
   {
    "duration": 12,
    "start_time": "2022-03-05T12:24:57.665Z"
   },
   {
    "duration": 21,
    "start_time": "2022-03-05T12:24:57.680Z"
   },
   {
    "duration": 95,
    "start_time": "2022-03-05T12:24:57.704Z"
   },
   {
    "duration": 29,
    "start_time": "2022-03-05T12:24:57.802Z"
   },
   {
    "duration": 28,
    "start_time": "2022-03-05T12:24:57.833Z"
   },
   {
    "duration": 15,
    "start_time": "2022-03-05T12:24:57.864Z"
   },
   {
    "duration": 18,
    "start_time": "2022-03-05T12:24:57.881Z"
   },
   {
    "duration": 13,
    "start_time": "2022-03-05T12:24:57.901Z"
   },
   {
    "duration": 38,
    "start_time": "2022-03-05T12:24:57.916Z"
   },
   {
    "duration": 11,
    "start_time": "2022-03-05T12:24:57.956Z"
   },
   {
    "duration": 9,
    "start_time": "2022-03-05T12:24:57.969Z"
   },
   {
    "duration": 33,
    "start_time": "2022-03-05T12:24:57.980Z"
   },
   {
    "duration": 52,
    "start_time": "2022-03-05T12:24:58.019Z"
   },
   {
    "duration": 10,
    "start_time": "2022-03-05T12:24:58.074Z"
   },
   {
    "duration": 22,
    "start_time": "2022-03-05T12:24:58.086Z"
   },
   {
    "duration": 47,
    "start_time": "2022-03-05T12:24:58.111Z"
   },
   {
    "duration": 13,
    "start_time": "2022-03-05T12:24:58.160Z"
   },
   {
    "duration": 25,
    "start_time": "2022-03-05T12:24:58.175Z"
   },
   {
    "duration": 17,
    "start_time": "2022-03-05T12:24:58.202Z"
   },
   {
    "duration": 33,
    "start_time": "2022-03-05T12:24:58.222Z"
   },
   {
    "duration": 10,
    "start_time": "2022-03-05T12:24:58.257Z"
   },
   {
    "duration": 13,
    "start_time": "2022-03-05T12:24:58.269Z"
   },
   {
    "duration": 11,
    "start_time": "2022-03-05T12:24:58.284Z"
   },
   {
    "duration": 12,
    "start_time": "2022-03-05T12:24:58.297Z"
   },
   {
    "duration": 47,
    "start_time": "2022-03-05T12:24:58.311Z"
   },
   {
    "duration": 28,
    "start_time": "2022-03-05T12:24:58.360Z"
   },
   {
    "duration": 8,
    "start_time": "2022-03-05T12:24:58.390Z"
   },
   {
    "duration": 60,
    "start_time": "2022-03-05T12:24:58.400Z"
   },
   {
    "duration": 5,
    "start_time": "2022-03-05T12:24:58.463Z"
   },
   {
    "duration": 281,
    "start_time": "2022-03-05T12:24:58.470Z"
   },
   {
    "duration": 30,
    "start_time": "2022-03-05T12:24:58.753Z"
   },
   {
    "duration": 5,
    "start_time": "2022-03-05T12:24:58.785Z"
   },
   {
    "duration": 15,
    "start_time": "2022-03-05T12:24:58.792Z"
   },
   {
    "duration": 635,
    "start_time": "2022-03-05T12:24:58.809Z"
   },
   {
    "duration": 16,
    "start_time": "2022-03-05T12:24:59.450Z"
   },
   {
    "duration": 808,
    "start_time": "2022-03-05T12:24:59.468Z"
   },
   {
    "duration": 14,
    "start_time": "2022-03-05T12:26:11.130Z"
   },
   {
    "duration": 4,
    "start_time": "2022-03-05T12:27:08.229Z"
   },
   {
    "duration": 241,
    "start_time": "2022-03-05T12:27:08.235Z"
   },
   {
    "duration": 11,
    "start_time": "2022-03-05T12:27:08.480Z"
   },
   {
    "duration": 26,
    "start_time": "2022-03-05T12:27:08.495Z"
   },
   {
    "duration": 161,
    "start_time": "2022-03-05T12:27:08.524Z"
   },
   {
    "duration": 37,
    "start_time": "2022-03-05T12:27:08.687Z"
   },
   {
    "duration": 26,
    "start_time": "2022-03-05T12:27:08.727Z"
   },
   {
    "duration": 172,
    "start_time": "2022-03-05T12:27:08.760Z"
   },
   {
    "duration": 20,
    "start_time": "2022-03-05T12:27:08.934Z"
   },
   {
    "duration": 29,
    "start_time": "2022-03-05T12:27:08.956Z"
   },
   {
    "duration": 113,
    "start_time": "2022-03-05T12:27:08.988Z"
   },
   {
    "duration": 27,
    "start_time": "2022-03-05T12:27:09.103Z"
   },
   {
    "duration": 22,
    "start_time": "2022-03-05T12:27:09.133Z"
   },
   {
    "duration": 125,
    "start_time": "2022-03-05T12:27:09.158Z"
   },
   {
    "duration": 11,
    "start_time": "2022-03-05T12:27:09.285Z"
   },
   {
    "duration": 19,
    "start_time": "2022-03-05T12:27:09.298Z"
   },
   {
    "duration": 88,
    "start_time": "2022-03-05T12:27:09.319Z"
   },
   {
    "duration": 42,
    "start_time": "2022-03-05T12:27:09.409Z"
   },
   {
    "duration": 16,
    "start_time": "2022-03-05T12:27:09.461Z"
   },
   {
    "duration": 16,
    "start_time": "2022-03-05T12:27:09.480Z"
   },
   {
    "duration": 18,
    "start_time": "2022-03-05T12:27:09.498Z"
   },
   {
    "duration": 15,
    "start_time": "2022-03-05T12:27:09.519Z"
   },
   {
    "duration": 27,
    "start_time": "2022-03-05T12:27:09.536Z"
   },
   {
    "duration": 13,
    "start_time": "2022-03-05T12:27:09.567Z"
   },
   {
    "duration": 11,
    "start_time": "2022-03-05T12:27:09.583Z"
   },
   {
    "duration": 73,
    "start_time": "2022-03-05T12:27:09.597Z"
   },
   {
    "duration": 27,
    "start_time": "2022-03-05T12:27:09.672Z"
   },
   {
    "duration": 10,
    "start_time": "2022-03-05T12:27:09.701Z"
   },
   {
    "duration": 56,
    "start_time": "2022-03-05T12:27:09.713Z"
   },
   {
    "duration": 15,
    "start_time": "2022-03-05T12:27:09.772Z"
   },
   {
    "duration": 9,
    "start_time": "2022-03-05T12:27:09.789Z"
   },
   {
    "duration": 54,
    "start_time": "2022-03-05T12:27:09.801Z"
   },
   {
    "duration": 23,
    "start_time": "2022-03-05T12:27:09.858Z"
   },
   {
    "duration": 4,
    "start_time": "2022-03-05T12:27:09.883Z"
   },
   {
    "duration": 12,
    "start_time": "2022-03-05T12:27:09.889Z"
   },
   {
    "duration": 14,
    "start_time": "2022-03-05T12:27:09.903Z"
   },
   {
    "duration": 47,
    "start_time": "2022-03-05T12:27:09.920Z"
   },
   {
    "duration": 12,
    "start_time": "2022-03-05T12:27:09.969Z"
   },
   {
    "duration": 10,
    "start_time": "2022-03-05T12:27:09.983Z"
   },
   {
    "duration": 61,
    "start_time": "2022-03-05T12:27:09.995Z"
   },
   {
    "duration": 14,
    "start_time": "2022-03-05T12:27:10.059Z"
   },
   {
    "duration": 31,
    "start_time": "2022-03-05T12:27:10.075Z"
   },
   {
    "duration": 7,
    "start_time": "2022-03-05T12:27:10.108Z"
   },
   {
    "duration": 320,
    "start_time": "2022-03-05T12:27:10.117Z"
   },
   {
    "duration": 43,
    "start_time": "2022-03-05T12:27:10.440Z"
   },
   {
    "duration": 4,
    "start_time": "2022-03-05T12:27:10.485Z"
   },
   {
    "duration": 27,
    "start_time": "2022-03-05T12:27:10.491Z"
   },
   {
    "duration": 684,
    "start_time": "2022-03-05T12:27:10.521Z"
   },
   {
    "duration": 14,
    "start_time": "2022-03-05T12:27:11.208Z"
   },
   {
    "duration": 743,
    "start_time": "2022-03-05T12:27:11.224Z"
   },
   {
    "duration": 14,
    "start_time": "2022-03-05T12:27:11.970Z"
   },
   {
    "duration": 14,
    "start_time": "2022-03-05T12:27:14.763Z"
   },
   {
    "duration": 704,
    "start_time": "2022-03-05T12:28:36.335Z"
   },
   {
    "duration": 14,
    "start_time": "2022-03-05T12:30:36.322Z"
   },
   {
    "duration": 618,
    "start_time": "2022-03-05T12:31:16.492Z"
   },
   {
    "duration": 14,
    "start_time": "2022-03-05T12:33:58.355Z"
   },
   {
    "duration": 702,
    "start_time": "2022-03-05T12:36:32.610Z"
   },
   {
    "duration": 496,
    "start_time": "2022-03-05T12:36:54.660Z"
   },
   {
    "duration": 491,
    "start_time": "2022-03-05T12:37:09.872Z"
   },
   {
    "duration": 490,
    "start_time": "2022-03-05T12:37:15.435Z"
   },
   {
    "duration": 14,
    "start_time": "2022-03-05T12:39:13.131Z"
   },
   {
    "duration": 496,
    "start_time": "2022-03-05T12:40:34.788Z"
   },
   {
    "duration": 466,
    "start_time": "2022-03-05T12:40:47.517Z"
   },
   {
    "duration": 448,
    "start_time": "2022-03-05T12:41:03.203Z"
   },
   {
    "duration": 596,
    "start_time": "2022-03-05T15:04:43.141Z"
   },
   {
    "duration": 149,
    "start_time": "2022-03-05T15:04:43.739Z"
   },
   {
    "duration": 9,
    "start_time": "2022-03-05T15:04:43.890Z"
   },
   {
    "duration": 19,
    "start_time": "2022-03-05T15:04:43.901Z"
   },
   {
    "duration": 84,
    "start_time": "2022-03-05T15:04:43.921Z"
   },
   {
    "duration": 23,
    "start_time": "2022-03-05T15:04:44.007Z"
   },
   {
    "duration": 4,
    "start_time": "2022-03-05T15:04:44.032Z"
   },
   {
    "duration": 119,
    "start_time": "2022-03-05T15:04:44.038Z"
   },
   {
    "duration": 6,
    "start_time": "2022-03-05T15:04:44.159Z"
   },
   {
    "duration": 17,
    "start_time": "2022-03-05T15:04:44.166Z"
   },
   {
    "duration": 61,
    "start_time": "2022-03-05T15:04:44.184Z"
   },
   {
    "duration": 18,
    "start_time": "2022-03-05T15:04:44.246Z"
   },
   {
    "duration": 7,
    "start_time": "2022-03-05T15:04:44.265Z"
   },
   {
    "duration": 83,
    "start_time": "2022-03-05T15:04:44.273Z"
   },
   {
    "duration": 7,
    "start_time": "2022-03-05T15:04:44.358Z"
   },
   {
    "duration": 14,
    "start_time": "2022-03-05T15:04:44.366Z"
   },
   {
    "duration": 46,
    "start_time": "2022-03-05T15:04:44.382Z"
   },
   {
    "duration": 15,
    "start_time": "2022-03-05T15:04:44.429Z"
   },
   {
    "duration": 16,
    "start_time": "2022-03-05T15:04:44.446Z"
   },
   {
    "duration": 12,
    "start_time": "2022-03-05T15:04:44.463Z"
   },
   {
    "duration": 42,
    "start_time": "2022-03-05T15:04:44.476Z"
   },
   {
    "duration": 8,
    "start_time": "2022-03-05T15:04:44.519Z"
   },
   {
    "duration": 5,
    "start_time": "2022-03-05T15:04:44.530Z"
   },
   {
    "duration": 7,
    "start_time": "2022-03-05T15:04:44.537Z"
   },
   {
    "duration": 5,
    "start_time": "2022-03-05T15:04:44.546Z"
   },
   {
    "duration": 22,
    "start_time": "2022-03-05T15:04:44.552Z"
   },
   {
    "duration": 31,
    "start_time": "2022-03-05T15:04:44.575Z"
   },
   {
    "duration": 7,
    "start_time": "2022-03-05T15:04:44.607Z"
   },
   {
    "duration": 14,
    "start_time": "2022-03-05T15:04:44.615Z"
   },
   {
    "duration": 10,
    "start_time": "2022-03-05T15:04:44.631Z"
   },
   {
    "duration": 5,
    "start_time": "2022-03-05T15:04:44.642Z"
   },
   {
    "duration": 17,
    "start_time": "2022-03-05T15:04:44.649Z"
   },
   {
    "duration": 11,
    "start_time": "2022-03-05T15:04:44.668Z"
   },
   {
    "duration": 5,
    "start_time": "2022-03-05T15:04:44.705Z"
   },
   {
    "duration": 7,
    "start_time": "2022-03-05T15:04:44.711Z"
   },
   {
    "duration": 8,
    "start_time": "2022-03-05T15:04:44.719Z"
   },
   {
    "duration": 7,
    "start_time": "2022-03-05T15:04:44.728Z"
   },
   {
    "duration": 7,
    "start_time": "2022-03-05T15:04:44.737Z"
   },
   {
    "duration": 7,
    "start_time": "2022-03-05T15:04:44.746Z"
   },
   {
    "duration": 17,
    "start_time": "2022-03-05T15:04:44.754Z"
   },
   {
    "duration": 39,
    "start_time": "2022-03-05T15:04:44.772Z"
   },
   {
    "duration": 16,
    "start_time": "2022-03-05T15:04:44.812Z"
   },
   {
    "duration": 4,
    "start_time": "2022-03-05T15:04:44.829Z"
   },
   {
    "duration": 163,
    "start_time": "2022-03-05T15:04:44.834Z"
   },
   {
    "duration": 17,
    "start_time": "2022-03-05T15:04:44.999Z"
   },
   {
    "duration": 7,
    "start_time": "2022-03-05T15:04:45.017Z"
   },
   {
    "duration": 16,
    "start_time": "2022-03-05T15:04:45.025Z"
   },
   {
    "duration": 353,
    "start_time": "2022-03-05T15:04:45.043Z"
   },
   {
    "duration": 12,
    "start_time": "2022-03-05T15:04:45.398Z"
   },
   {
    "duration": 382,
    "start_time": "2022-03-05T15:04:45.412Z"
   },
   {
    "duration": 11,
    "start_time": "2022-03-05T15:04:45.796Z"
   },
   {
    "duration": 331,
    "start_time": "2022-03-05T15:04:45.809Z"
   },
   {
    "duration": 9,
    "start_time": "2022-03-05T15:04:46.141Z"
   },
   {
    "duration": 351,
    "start_time": "2022-03-05T15:04:46.151Z"
   },
   {
    "duration": 8,
    "start_time": "2022-03-05T15:04:46.503Z"
   },
   {
    "duration": 274,
    "start_time": "2022-03-05T15:04:46.513Z"
   },
   {
    "duration": 9,
    "start_time": "2022-03-05T15:04:46.788Z"
   },
   {
    "duration": 255,
    "start_time": "2022-03-05T15:04:46.798Z"
   },
   {
    "duration": 332,
    "start_time": "2022-03-05T16:08:23.218Z"
   },
   {
    "duration": 218,
    "start_time": "2022-03-05T17:08:51.085Z"
   },
   {
    "duration": 226,
    "start_time": "2022-03-05T17:09:30.117Z"
   },
   {
    "duration": 283,
    "start_time": "2022-03-05T17:09:45.431Z"
   },
   {
    "duration": 168,
    "start_time": "2022-03-05T17:14:52.500Z"
   },
   {
    "duration": 522,
    "start_time": "2022-03-05T17:15:31.409Z"
   },
   {
    "duration": 207,
    "start_time": "2022-03-05T17:16:21.348Z"
   },
   {
    "duration": 348,
    "start_time": "2022-03-05T17:17:02.226Z"
   },
   {
    "duration": 213,
    "start_time": "2022-03-05T17:17:25.362Z"
   },
   {
    "duration": 238,
    "start_time": "2022-03-05T17:17:46.109Z"
   },
   {
    "duration": 486,
    "start_time": "2022-03-05T17:18:17.878Z"
   },
   {
    "duration": 239,
    "start_time": "2022-03-05T17:18:55.738Z"
   },
   {
    "duration": 274,
    "start_time": "2022-03-05T17:21:42.310Z"
   },
   {
    "duration": 237,
    "start_time": "2022-03-05T17:22:01.883Z"
   },
   {
    "duration": 10,
    "start_time": "2022-03-05T17:38:19.114Z"
   },
   {
    "duration": 151,
    "start_time": "2022-03-05T17:38:49.619Z"
   },
   {
    "duration": 15,
    "start_time": "2022-03-05T17:39:06.776Z"
   },
   {
    "duration": 9,
    "start_time": "2022-03-05T17:40:10.722Z"
   },
   {
    "duration": 9,
    "start_time": "2022-03-05T17:40:29.836Z"
   },
   {
    "duration": 10,
    "start_time": "2022-03-05T19:11:21.550Z"
   },
   {
    "duration": 231,
    "start_time": "2022-03-05T19:27:13.168Z"
   },
   {
    "duration": 9,
    "start_time": "2022-03-05T20:21:28.927Z"
   },
   {
    "duration": 9,
    "start_time": "2022-03-05T20:21:29.830Z"
   },
   {
    "duration": 250,
    "start_time": "2022-03-05T20:43:14.796Z"
   },
   {
    "duration": 830,
    "start_time": "2022-03-06T15:54:20.517Z"
   },
   {
    "duration": 210,
    "start_time": "2022-03-06T15:54:21.349Z"
   },
   {
    "duration": 20,
    "start_time": "2022-03-06T15:54:21.562Z"
   },
   {
    "duration": 33,
    "start_time": "2022-03-06T15:54:21.585Z"
   },
   {
    "duration": 153,
    "start_time": "2022-03-06T15:54:21.621Z"
   },
   {
    "duration": 39,
    "start_time": "2022-03-06T15:54:21.776Z"
   },
   {
    "duration": 7,
    "start_time": "2022-03-06T15:54:21.817Z"
   },
   {
    "duration": 195,
    "start_time": "2022-03-06T15:54:21.830Z"
   },
   {
    "duration": 10,
    "start_time": "2022-03-06T15:54:22.028Z"
   },
   {
    "duration": 42,
    "start_time": "2022-03-06T15:54:22.041Z"
   },
   {
    "duration": 115,
    "start_time": "2022-03-06T15:54:22.085Z"
   },
   {
    "duration": 27,
    "start_time": "2022-03-06T15:54:22.203Z"
   },
   {
    "duration": 10,
    "start_time": "2022-03-06T15:54:22.233Z"
   },
   {
    "duration": 137,
    "start_time": "2022-03-06T15:54:22.247Z"
   },
   {
    "duration": 11,
    "start_time": "2022-03-06T15:54:22.387Z"
   },
   {
    "duration": 19,
    "start_time": "2022-03-06T15:54:22.401Z"
   },
   {
    "duration": 107,
    "start_time": "2022-03-06T15:54:22.423Z"
   },
   {
    "duration": 47,
    "start_time": "2022-03-06T15:54:22.532Z"
   },
   {
    "duration": 14,
    "start_time": "2022-03-06T15:54:22.582Z"
   },
   {
    "duration": 17,
    "start_time": "2022-03-06T15:54:22.599Z"
   },
   {
    "duration": 24,
    "start_time": "2022-03-06T15:54:22.619Z"
   },
   {
    "duration": 14,
    "start_time": "2022-03-06T15:54:22.646Z"
   },
   {
    "duration": 10,
    "start_time": "2022-03-06T15:54:22.677Z"
   },
   {
    "duration": 13,
    "start_time": "2022-03-06T15:54:22.690Z"
   },
   {
    "duration": 11,
    "start_time": "2022-03-06T15:54:22.705Z"
   },
   {
    "duration": 75,
    "start_time": "2022-03-06T15:54:22.719Z"
   },
   {
    "duration": 29,
    "start_time": "2022-03-06T15:54:22.797Z"
   },
   {
    "duration": 10,
    "start_time": "2022-03-06T15:54:22.829Z"
   },
   {
    "duration": 51,
    "start_time": "2022-03-06T15:54:22.842Z"
   },
   {
    "duration": 21,
    "start_time": "2022-03-06T15:54:22.896Z"
   },
   {
    "duration": 13,
    "start_time": "2022-03-06T15:54:22.919Z"
   },
   {
    "duration": 59,
    "start_time": "2022-03-06T15:54:22.935Z"
   },
   {
    "duration": 24,
    "start_time": "2022-03-06T15:54:22.997Z"
   },
   {
    "duration": 9,
    "start_time": "2022-03-06T15:54:23.024Z"
   },
   {
    "duration": 45,
    "start_time": "2022-03-06T15:54:23.036Z"
   },
   {
    "duration": 19,
    "start_time": "2022-03-06T15:54:23.084Z"
   },
   {
    "duration": 15,
    "start_time": "2022-03-06T15:54:23.106Z"
   },
   {
    "duration": 15,
    "start_time": "2022-03-06T15:54:23.124Z"
   },
   {
    "duration": 13,
    "start_time": "2022-03-06T15:54:23.175Z"
   },
   {
    "duration": 32,
    "start_time": "2022-03-06T15:54:23.191Z"
   },
   {
    "duration": 9,
    "start_time": "2022-03-06T15:54:23.225Z"
   },
   {
    "duration": 68,
    "start_time": "2022-03-06T15:54:23.236Z"
   },
   {
    "duration": 6,
    "start_time": "2022-03-06T15:54:23.306Z"
   },
   {
    "duration": 303,
    "start_time": "2022-03-06T15:54:23.315Z"
   },
   {
    "duration": 29,
    "start_time": "2022-03-06T15:54:23.621Z"
   },
   {
    "duration": 20,
    "start_time": "2022-03-06T15:54:23.653Z"
   },
   {
    "duration": 17,
    "start_time": "2022-03-06T15:54:23.676Z"
   },
   {
    "duration": 15,
    "start_time": "2022-03-06T15:54:23.695Z"
   },
   {
    "duration": 669,
    "start_time": "2022-03-06T15:54:23.712Z"
   },
   {
    "duration": 15,
    "start_time": "2022-03-06T15:54:24.383Z"
   },
   {
    "duration": 18,
    "start_time": "2022-03-06T15:54:24.400Z"
   },
   {
    "duration": 466,
    "start_time": "2022-03-06T15:54:24.421Z"
   },
   {
    "duration": 15,
    "start_time": "2022-03-06T15:54:24.890Z"
   },
   {
    "duration": 730,
    "start_time": "2022-03-06T15:54:24.907Z"
   },
   {
    "duration": 15,
    "start_time": "2022-03-06T15:54:25.639Z"
   },
   {
    "duration": 515,
    "start_time": "2022-03-06T15:54:25.674Z"
   },
   {
    "duration": 15,
    "start_time": "2022-03-06T15:54:26.191Z"
   },
   {
    "duration": 701,
    "start_time": "2022-03-06T15:54:26.209Z"
   },
   {
    "duration": 15,
    "start_time": "2022-03-06T16:07:25.562Z"
   },
   {
    "duration": 431,
    "start_time": "2022-03-06T17:41:12.745Z"
   },
   {
    "duration": 629,
    "start_time": "2022-03-08T15:59:10.612Z"
   },
   {
    "duration": 151,
    "start_time": "2022-03-08T15:59:11.243Z"
   },
   {
    "duration": 12,
    "start_time": "2022-03-08T15:59:11.396Z"
   },
   {
    "duration": 30,
    "start_time": "2022-03-08T15:59:11.410Z"
   },
   {
    "duration": 101,
    "start_time": "2022-03-08T15:59:11.442Z"
   },
   {
    "duration": 40,
    "start_time": "2022-03-08T15:59:11.545Z"
   },
   {
    "duration": 5,
    "start_time": "2022-03-08T15:59:11.587Z"
   },
   {
    "duration": 126,
    "start_time": "2022-03-08T15:59:11.593Z"
   },
   {
    "duration": 8,
    "start_time": "2022-03-08T15:59:11.722Z"
   },
   {
    "duration": 29,
    "start_time": "2022-03-08T15:59:11.732Z"
   },
   {
    "duration": 67,
    "start_time": "2022-03-08T15:59:11.763Z"
   },
   {
    "duration": 35,
    "start_time": "2022-03-08T15:59:11.832Z"
   },
   {
    "duration": 8,
    "start_time": "2022-03-08T15:59:11.869Z"
   },
   {
    "duration": 91,
    "start_time": "2022-03-08T15:59:11.878Z"
   },
   {
    "duration": 6,
    "start_time": "2022-03-08T15:59:11.971Z"
   },
   {
    "duration": 16,
    "start_time": "2022-03-08T15:59:11.979Z"
   },
   {
    "duration": 38,
    "start_time": "2022-03-08T15:59:11.997Z"
   },
   {
    "duration": 37,
    "start_time": "2022-03-08T15:59:12.036Z"
   },
   {
    "duration": 10,
    "start_time": "2022-03-08T15:59:12.074Z"
   },
   {
    "duration": 14,
    "start_time": "2022-03-08T15:59:12.086Z"
   },
   {
    "duration": 18,
    "start_time": "2022-03-08T15:59:12.102Z"
   },
   {
    "duration": 11,
    "start_time": "2022-03-08T15:59:12.122Z"
   },
   {
    "duration": 13,
    "start_time": "2022-03-08T15:59:12.134Z"
   },
   {
    "duration": 9,
    "start_time": "2022-03-08T15:59:12.148Z"
   },
   {
    "duration": 10,
    "start_time": "2022-03-08T15:59:12.158Z"
   },
   {
    "duration": 25,
    "start_time": "2022-03-08T15:59:12.170Z"
   },
   {
    "duration": 20,
    "start_time": "2022-03-08T15:59:12.200Z"
   },
   {
    "duration": 8,
    "start_time": "2022-03-08T15:59:12.222Z"
   },
   {
    "duration": 39,
    "start_time": "2022-03-08T15:59:12.232Z"
   },
   {
    "duration": 13,
    "start_time": "2022-03-08T15:59:12.272Z"
   },
   {
    "duration": 7,
    "start_time": "2022-03-08T15:59:12.287Z"
   },
   {
    "duration": 17,
    "start_time": "2022-03-08T15:59:12.296Z"
   },
   {
    "duration": 14,
    "start_time": "2022-03-08T15:59:12.315Z"
   },
   {
    "duration": 35,
    "start_time": "2022-03-08T15:59:12.330Z"
   },
   {
    "duration": 7,
    "start_time": "2022-03-08T15:59:12.367Z"
   },
   {
    "duration": 10,
    "start_time": "2022-03-08T15:59:12.376Z"
   },
   {
    "duration": 8,
    "start_time": "2022-03-08T15:59:12.388Z"
   },
   {
    "duration": 10,
    "start_time": "2022-03-08T15:59:12.398Z"
   },
   {
    "duration": 8,
    "start_time": "2022-03-08T15:59:12.409Z"
   },
   {
    "duration": 45,
    "start_time": "2022-03-08T15:59:12.419Z"
   },
   {
    "duration": 6,
    "start_time": "2022-03-08T15:59:12.466Z"
   },
   {
    "duration": 21,
    "start_time": "2022-03-08T15:59:12.473Z"
   },
   {
    "duration": 4,
    "start_time": "2022-03-08T15:59:12.496Z"
   },
   {
    "duration": 185,
    "start_time": "2022-03-08T15:59:12.501Z"
   },
   {
    "duration": 18,
    "start_time": "2022-03-08T15:59:12.688Z"
   },
   {
    "duration": 3,
    "start_time": "2022-03-08T15:59:12.707Z"
   },
   {
    "duration": 13,
    "start_time": "2022-03-08T15:59:12.712Z"
   },
   {
    "duration": 10,
    "start_time": "2022-03-08T15:59:12.726Z"
   },
   {
    "duration": 279,
    "start_time": "2022-03-08T15:59:12.737Z"
   },
   {
    "duration": 9,
    "start_time": "2022-03-08T15:59:13.018Z"
   },
   {
    "duration": 11,
    "start_time": "2022-03-08T15:59:13.028Z"
   },
   {
    "duration": 264,
    "start_time": "2022-03-08T15:59:13.040Z"
   },
   {
    "duration": 10,
    "start_time": "2022-03-08T15:59:13.305Z"
   },
   {
    "duration": 12,
    "start_time": "2022-03-08T15:59:13.317Z"
   },
   {
    "duration": 279,
    "start_time": "2022-03-08T15:59:13.330Z"
   },
   {
    "duration": 402,
    "start_time": "2022-03-08T18:14:41.236Z"
   },
   {
    "duration": -3292,
    "start_time": "2022-03-08T18:14:44.935Z"
   },
   {
    "duration": -3295,
    "start_time": "2022-03-08T18:14:44.939Z"
   },
   {
    "duration": -3406,
    "start_time": "2022-03-08T18:14:45.051Z"
   },
   {
    "duration": -3419,
    "start_time": "2022-03-08T18:14:45.065Z"
   },
   {
    "duration": -3423,
    "start_time": "2022-03-08T18:14:45.070Z"
   },
   {
    "duration": -3427,
    "start_time": "2022-03-08T18:14:45.075Z"
   },
   {
    "duration": -3485,
    "start_time": "2022-03-08T18:14:45.133Z"
   },
   {
    "duration": -3496,
    "start_time": "2022-03-08T18:14:45.145Z"
   },
   {
    "duration": -3501,
    "start_time": "2022-03-08T18:14:45.151Z"
   },
   {
    "duration": -3605,
    "start_time": "2022-03-08T18:14:45.256Z"
   },
   {
    "duration": -3609,
    "start_time": "2022-03-08T18:14:45.261Z"
   },
   {
    "duration": -3614,
    "start_time": "2022-03-08T18:14:45.267Z"
   },
   {
    "duration": -3682,
    "start_time": "2022-03-08T18:14:45.337Z"
   },
   {
    "duration": -3695,
    "start_time": "2022-03-08T18:14:45.351Z"
   },
   {
    "duration": -3701,
    "start_time": "2022-03-08T18:14:45.358Z"
   },
   {
    "duration": -3707,
    "start_time": "2022-03-08T18:14:45.365Z"
   },
   {
    "duration": -3712,
    "start_time": "2022-03-08T18:14:45.371Z"
   },
   {
    "duration": -3715,
    "start_time": "2022-03-08T18:14:45.375Z"
   },
   {
    "duration": -3719,
    "start_time": "2022-03-08T18:14:45.380Z"
   },
   {
    "duration": -3722,
    "start_time": "2022-03-08T18:14:45.384Z"
   },
   {
    "duration": -3726,
    "start_time": "2022-03-08T18:14:45.389Z"
   },
   {
    "duration": -3786,
    "start_time": "2022-03-08T18:14:45.450Z"
   },
   {
    "duration": -3788,
    "start_time": "2022-03-08T18:14:45.453Z"
   },
   {
    "duration": -3790,
    "start_time": "2022-03-08T18:14:45.456Z"
   },
   {
    "duration": -3792,
    "start_time": "2022-03-08T18:14:45.459Z"
   },
   {
    "duration": -3794,
    "start_time": "2022-03-08T18:14:45.462Z"
   },
   {
    "duration": -3796,
    "start_time": "2022-03-08T18:14:45.465Z"
   },
   {
    "duration": -3798,
    "start_time": "2022-03-08T18:14:45.468Z"
   },
   {
    "duration": -3869,
    "start_time": "2022-03-08T18:14:45.540Z"
   },
   {
    "duration": -3871,
    "start_time": "2022-03-08T18:14:45.543Z"
   },
   {
    "duration": -3873,
    "start_time": "2022-03-08T18:14:45.546Z"
   },
   {
    "duration": -3875,
    "start_time": "2022-03-08T18:14:45.549Z"
   },
   {
    "duration": -3877,
    "start_time": "2022-03-08T18:14:45.552Z"
   },
   {
    "duration": -3880,
    "start_time": "2022-03-08T18:14:45.556Z"
   },
   {
    "duration": -3965,
    "start_time": "2022-03-08T18:14:45.642Z"
   },
   {
    "duration": -3976,
    "start_time": "2022-03-08T18:14:45.654Z"
   },
   {
    "duration": -3980,
    "start_time": "2022-03-08T18:14:45.659Z"
   },
   {
    "duration": -3983,
    "start_time": "2022-03-08T18:14:45.663Z"
   },
   {
    "duration": -3986,
    "start_time": "2022-03-08T18:14:45.668Z"
   },
   {
    "duration": -3997,
    "start_time": "2022-03-08T18:14:45.680Z"
   },
   {
    "duration": -4001,
    "start_time": "2022-03-08T18:14:45.684Z"
   },
   {
    "duration": -4073,
    "start_time": "2022-03-08T18:14:45.757Z"
   },
   {
    "duration": -4076,
    "start_time": "2022-03-08T18:14:45.762Z"
   },
   {
    "duration": -4080,
    "start_time": "2022-03-08T18:14:45.767Z"
   },
   {
    "duration": -4084,
    "start_time": "2022-03-08T18:14:45.772Z"
   },
   {
    "duration": -4086,
    "start_time": "2022-03-08T18:14:45.776Z"
   },
   {
    "duration": -4089,
    "start_time": "2022-03-08T18:14:45.780Z"
   },
   {
    "duration": -4093,
    "start_time": "2022-03-08T18:14:45.785Z"
   },
   {
    "duration": -4096,
    "start_time": "2022-03-08T18:14:45.789Z"
   },
   {
    "duration": -4150,
    "start_time": "2022-03-08T18:14:45.845Z"
   },
   {
    "duration": -4159,
    "start_time": "2022-03-08T18:14:45.855Z"
   },
   {
    "duration": -4161,
    "start_time": "2022-03-08T18:14:45.858Z"
   },
   {
    "duration": -4163,
    "start_time": "2022-03-08T18:14:45.861Z"
   },
   {
    "duration": -4165,
    "start_time": "2022-03-08T18:14:45.864Z"
   },
   {
    "duration": 380,
    "start_time": "2022-03-08T18:15:19.319Z"
   },
   {
    "duration": 139,
    "start_time": "2022-03-08T18:15:19.701Z"
   },
   {
    "duration": 7,
    "start_time": "2022-03-08T18:15:19.842Z"
   },
   {
    "duration": 31,
    "start_time": "2022-03-08T18:15:19.851Z"
   },
   {
    "duration": 93,
    "start_time": "2022-03-08T18:15:19.884Z"
   },
   {
    "duration": 29,
    "start_time": "2022-03-08T18:15:19.980Z"
   },
   {
    "duration": 7,
    "start_time": "2022-03-08T18:15:20.011Z"
   },
   {
    "duration": 147,
    "start_time": "2022-03-08T18:15:20.022Z"
   },
   {
    "duration": 10,
    "start_time": "2022-03-08T18:15:20.172Z"
   },
   {
    "duration": 43,
    "start_time": "2022-03-08T18:15:20.184Z"
   },
   {
    "duration": 73,
    "start_time": "2022-03-08T18:15:20.229Z"
   },
   {
    "duration": 30,
    "start_time": "2022-03-08T18:15:20.304Z"
   },
   {
    "duration": 10,
    "start_time": "2022-03-08T18:15:20.336Z"
   },
   {
    "duration": 114,
    "start_time": "2022-03-08T18:15:20.363Z"
   },
   {
    "duration": 9,
    "start_time": "2022-03-08T18:15:20.479Z"
   },
   {
    "duration": 21,
    "start_time": "2022-03-08T18:15:20.490Z"
   },
   {
    "duration": 50,
    "start_time": "2022-03-08T18:15:20.513Z"
   },
   {
    "duration": 17,
    "start_time": "2022-03-08T18:15:20.564Z"
   },
   {
    "duration": 10,
    "start_time": "2022-03-08T18:15:20.583Z"
   },
   {
    "duration": 10,
    "start_time": "2022-03-08T18:15:20.595Z"
   },
   {
    "duration": 23,
    "start_time": "2022-03-08T18:15:20.607Z"
   },
   {
    "duration": 12,
    "start_time": "2022-03-08T18:15:20.632Z"
   },
   {
    "duration": 14,
    "start_time": "2022-03-08T18:15:20.648Z"
   },
   {
    "duration": 14,
    "start_time": "2022-03-08T18:15:20.665Z"
   },
   {
    "duration": 11,
    "start_time": "2022-03-08T18:15:20.681Z"
   },
   {
    "duration": 37,
    "start_time": "2022-03-08T18:15:20.694Z"
   },
   {
    "duration": 31,
    "start_time": "2022-03-08T18:15:20.734Z"
   },
   {
    "duration": 8,
    "start_time": "2022-03-08T18:15:20.767Z"
   },
   {
    "duration": 24,
    "start_time": "2022-03-08T18:15:20.777Z"
   },
   {
    "duration": 11,
    "start_time": "2022-03-08T18:15:20.802Z"
   },
   {
    "duration": 6,
    "start_time": "2022-03-08T18:15:20.815Z"
   },
   {
    "duration": 20,
    "start_time": "2022-03-08T18:15:20.822Z"
   },
   {
    "duration": 29,
    "start_time": "2022-03-08T18:15:20.844Z"
   },
   {
    "duration": 14,
    "start_time": "2022-03-08T18:15:20.875Z"
   },
   {
    "duration": 11,
    "start_time": "2022-03-08T18:15:20.891Z"
   },
   {
    "duration": 11,
    "start_time": "2022-03-08T18:15:20.904Z"
   },
   {
    "duration": 8,
    "start_time": "2022-03-08T18:15:20.917Z"
   },
   {
    "duration": 8,
    "start_time": "2022-03-08T18:15:20.926Z"
   },
   {
    "duration": 28,
    "start_time": "2022-03-08T18:15:20.935Z"
   },
   {
    "duration": 20,
    "start_time": "2022-03-08T18:15:20.964Z"
   },
   {
    "duration": 7,
    "start_time": "2022-03-08T18:15:20.985Z"
   },
   {
    "duration": 22,
    "start_time": "2022-03-08T18:15:20.993Z"
   },
   {
    "duration": 5,
    "start_time": "2022-03-08T18:15:21.017Z"
   },
   {
    "duration": 224,
    "start_time": "2022-03-08T18:15:21.024Z"
   },
   {
    "duration": 33,
    "start_time": "2022-03-08T18:15:21.250Z"
   },
   {
    "duration": 4,
    "start_time": "2022-03-08T18:15:21.285Z"
   },
   {
    "duration": 14,
    "start_time": "2022-03-08T18:15:21.291Z"
   },
   {
    "duration": 10,
    "start_time": "2022-03-08T18:15:21.306Z"
   },
   {
    "duration": 347,
    "start_time": "2022-03-08T18:15:21.318Z"
   },
   {
    "duration": 11,
    "start_time": "2022-03-08T18:15:21.668Z"
   },
   {
    "duration": 16,
    "start_time": "2022-03-08T18:15:21.681Z"
   },
   {
    "duration": 300,
    "start_time": "2022-03-08T18:15:21.699Z"
   },
   {
    "duration": 10,
    "start_time": "2022-03-08T18:15:22.001Z"
   },
   {
    "duration": 12,
    "start_time": "2022-03-08T18:15:22.013Z"
   },
   {
    "duration": 292,
    "start_time": "2022-03-08T18:15:22.027Z"
   },
   {
    "duration": 12,
    "start_time": "2022-03-08T19:05:38.035Z"
   },
   {
    "duration": 10,
    "start_time": "2022-03-08T19:08:39.934Z"
   },
   {
    "duration": 10,
    "start_time": "2022-03-08T19:08:44.134Z"
   },
   {
    "duration": 13,
    "start_time": "2022-03-08T19:09:31.033Z"
   },
   {
    "duration": 11,
    "start_time": "2022-03-08T19:11:00.841Z"
   },
   {
    "duration": 14,
    "start_time": "2022-03-08T19:12:12.393Z"
   },
   {
    "duration": 8,
    "start_time": "2022-03-08T19:13:56.530Z"
   },
   {
    "duration": 1056,
    "start_time": "2022-03-08T19:14:54.061Z"
   },
   {
    "duration": 148,
    "start_time": "2022-03-08T19:14:55.119Z"
   },
   {
    "duration": 12,
    "start_time": "2022-03-08T19:14:55.272Z"
   },
   {
    "duration": 21,
    "start_time": "2022-03-08T19:14:55.285Z"
   },
   {
    "duration": 114,
    "start_time": "2022-03-08T19:14:55.308Z"
   },
   {
    "duration": 28,
    "start_time": "2022-03-08T19:14:55.424Z"
   },
   {
    "duration": 6,
    "start_time": "2022-03-08T19:14:55.462Z"
   },
   {
    "duration": 120,
    "start_time": "2022-03-08T19:14:55.471Z"
   },
   {
    "duration": 7,
    "start_time": "2022-03-08T19:14:55.594Z"
   },
   {
    "duration": 20,
    "start_time": "2022-03-08T19:14:55.603Z"
   },
   {
    "duration": 75,
    "start_time": "2022-03-08T19:14:55.624Z"
   },
   {
    "duration": 18,
    "start_time": "2022-03-08T19:14:55.701Z"
   },
   {
    "duration": 8,
    "start_time": "2022-03-08T19:14:55.721Z"
   },
   {
    "duration": 93,
    "start_time": "2022-03-08T19:14:55.730Z"
   },
   {
    "duration": 8,
    "start_time": "2022-03-08T19:14:55.825Z"
   },
   {
    "duration": 16,
    "start_time": "2022-03-08T19:14:55.834Z"
   },
   {
    "duration": 44,
    "start_time": "2022-03-08T19:14:55.862Z"
   },
   {
    "duration": 19,
    "start_time": "2022-03-08T19:14:55.908Z"
   },
   {
    "duration": 11,
    "start_time": "2022-03-08T19:14:55.928Z"
   },
   {
    "duration": 28,
    "start_time": "2022-03-08T19:14:55.940Z"
   },
   {
    "duration": 18,
    "start_time": "2022-03-08T19:14:55.970Z"
   },
   {
    "duration": 10,
    "start_time": "2022-03-08T19:14:55.990Z"
   },
   {
    "duration": 13,
    "start_time": "2022-03-08T19:14:56.002Z"
   },
   {
    "duration": 9,
    "start_time": "2022-03-08T19:14:56.017Z"
   },
   {
    "duration": 7,
    "start_time": "2022-03-08T19:14:56.028Z"
   },
   {
    "duration": 41,
    "start_time": "2022-03-08T19:14:56.039Z"
   },
   {
    "duration": 24,
    "start_time": "2022-03-08T19:14:56.083Z"
   },
   {
    "duration": 7,
    "start_time": "2022-03-08T19:14:56.109Z"
   },
   {
    "duration": 17,
    "start_time": "2022-03-08T19:14:56.117Z"
   },
   {
    "duration": 34,
    "start_time": "2022-03-08T19:14:56.136Z"
   },
   {
    "duration": 7,
    "start_time": "2022-03-08T19:14:56.172Z"
   },
   {
    "duration": 21,
    "start_time": "2022-03-08T19:14:56.181Z"
   },
   {
    "duration": 16,
    "start_time": "2022-03-08T19:14:56.204Z"
   },
   {
    "duration": 28,
    "start_time": "2022-03-08T19:14:56.222Z"
   },
   {
    "duration": 16,
    "start_time": "2022-03-08T19:14:56.252Z"
   },
   {
    "duration": 13,
    "start_time": "2022-03-08T19:14:56.270Z"
   },
   {
    "duration": 14,
    "start_time": "2022-03-08T19:14:56.284Z"
   },
   {
    "duration": 8,
    "start_time": "2022-03-08T19:14:56.299Z"
   },
   {
    "duration": 10,
    "start_time": "2022-03-08T19:14:56.309Z"
   },
   {
    "duration": 16,
    "start_time": "2022-03-08T19:14:56.321Z"
   },
   {
    "duration": 27,
    "start_time": "2022-03-08T19:14:56.338Z"
   },
   {
    "duration": 18,
    "start_time": "2022-03-08T19:14:56.366Z"
   },
   {
    "duration": 9,
    "start_time": "2022-03-08T19:14:56.386Z"
   },
   {
    "duration": 178,
    "start_time": "2022-03-08T19:14:56.397Z"
   },
   {
    "duration": 10,
    "start_time": "2022-03-08T19:14:56.577Z"
   },
   {
    "duration": 28,
    "start_time": "2022-03-08T19:14:56.589Z"
   },
   {
    "duration": 17,
    "start_time": "2022-03-08T19:14:56.619Z"
   },
   {
    "duration": 27,
    "start_time": "2022-03-08T19:14:56.638Z"
   },
   {
    "duration": 24,
    "start_time": "2022-03-08T19:14:56.667Z"
   },
   {
    "duration": 273,
    "start_time": "2022-03-08T19:14:56.693Z"
   },
   {
    "duration": 9,
    "start_time": "2022-03-08T19:14:56.968Z"
   },
   {
    "duration": 22,
    "start_time": "2022-03-08T19:14:56.978Z"
   },
   {
    "duration": 261,
    "start_time": "2022-03-08T19:14:57.002Z"
   },
   {
    "duration": 9,
    "start_time": "2022-03-08T19:14:57.265Z"
   },
   {
    "duration": 19,
    "start_time": "2022-03-08T19:14:57.276Z"
   },
   {
    "duration": 255,
    "start_time": "2022-03-08T19:14:57.296Z"
   },
   {
    "duration": 18,
    "start_time": "2022-03-08T19:14:57.553Z"
   },
   {
    "duration": 34,
    "start_time": "2022-03-08T19:14:57.573Z"
   },
   {
    "duration": 7,
    "start_time": "2022-03-08T19:18:13.413Z"
   },
   {
    "duration": 6,
    "start_time": "2022-03-08T19:18:51.150Z"
   },
   {
    "duration": 7,
    "start_time": "2022-03-08T19:23:36.151Z"
   },
   {
    "duration": 8,
    "start_time": "2022-03-08T19:24:24.572Z"
   },
   {
    "duration": 1024,
    "start_time": "2022-03-08T19:25:32.511Z"
   },
   {
    "duration": 152,
    "start_time": "2022-03-08T19:25:33.537Z"
   },
   {
    "duration": 12,
    "start_time": "2022-03-08T19:25:33.691Z"
   },
   {
    "duration": 26,
    "start_time": "2022-03-08T19:25:33.705Z"
   },
   {
    "duration": 114,
    "start_time": "2022-03-08T19:25:33.734Z"
   },
   {
    "duration": 35,
    "start_time": "2022-03-08T19:25:33.850Z"
   },
   {
    "duration": 5,
    "start_time": "2022-03-08T19:25:33.887Z"
   },
   {
    "duration": 128,
    "start_time": "2022-03-08T19:25:33.895Z"
   },
   {
    "duration": 7,
    "start_time": "2022-03-08T19:25:34.025Z"
   },
   {
    "duration": 33,
    "start_time": "2022-03-08T19:25:34.034Z"
   },
   {
    "duration": 64,
    "start_time": "2022-03-08T19:25:34.069Z"
   },
   {
    "duration": 40,
    "start_time": "2022-03-08T19:25:34.135Z"
   },
   {
    "duration": 9,
    "start_time": "2022-03-08T19:25:34.177Z"
   },
   {
    "duration": 93,
    "start_time": "2022-03-08T19:25:34.187Z"
   },
   {
    "duration": 6,
    "start_time": "2022-03-08T19:25:34.282Z"
   },
   {
    "duration": 16,
    "start_time": "2022-03-08T19:25:34.290Z"
   },
   {
    "duration": 56,
    "start_time": "2022-03-08T19:25:34.308Z"
   },
   {
    "duration": 22,
    "start_time": "2022-03-08T19:25:34.367Z"
   },
   {
    "duration": 12,
    "start_time": "2022-03-08T19:25:34.391Z"
   },
   {
    "duration": 11,
    "start_time": "2022-03-08T19:25:34.405Z"
   },
   {
    "duration": 19,
    "start_time": "2022-03-08T19:25:34.417Z"
   },
   {
    "duration": 9,
    "start_time": "2022-03-08T19:25:34.438Z"
   },
   {
    "duration": 8,
    "start_time": "2022-03-08T19:25:34.462Z"
   },
   {
    "duration": 11,
    "start_time": "2022-03-08T19:25:34.473Z"
   },
   {
    "duration": 9,
    "start_time": "2022-03-08T19:25:34.486Z"
   },
   {
    "duration": 25,
    "start_time": "2022-03-08T19:25:34.497Z"
   },
   {
    "duration": 21,
    "start_time": "2022-03-08T19:25:34.524Z"
   },
   {
    "duration": 11,
    "start_time": "2022-03-08T19:25:34.563Z"
   },
   {
    "duration": 10,
    "start_time": "2022-03-08T19:25:34.576Z"
   },
   {
    "duration": 20,
    "start_time": "2022-03-08T19:25:34.588Z"
   },
   {
    "duration": 11,
    "start_time": "2022-03-08T19:25:34.610Z"
   },
   {
    "duration": 6,
    "start_time": "2022-03-08T19:25:34.623Z"
   },
   {
    "duration": 6,
    "start_time": "2022-03-08T19:25:34.630Z"
   },
   {
    "duration": 21,
    "start_time": "2022-03-08T19:25:34.662Z"
   },
   {
    "duration": 13,
    "start_time": "2022-03-08T19:25:34.685Z"
   },
   {
    "duration": 6,
    "start_time": "2022-03-08T19:25:34.700Z"
   },
   {
    "duration": 6,
    "start_time": "2022-03-08T19:25:34.708Z"
   },
   {
    "duration": 8,
    "start_time": "2022-03-08T19:25:34.715Z"
   },
   {
    "duration": 6,
    "start_time": "2022-03-08T19:25:34.724Z"
   },
   {
    "duration": 36,
    "start_time": "2022-03-08T19:25:34.731Z"
   },
   {
    "duration": 9,
    "start_time": "2022-03-08T19:25:34.769Z"
   },
   {
    "duration": 11,
    "start_time": "2022-03-08T19:25:34.780Z"
   },
   {
    "duration": 21,
    "start_time": "2022-03-08T19:25:34.792Z"
   },
   {
    "duration": 7,
    "start_time": "2022-03-08T19:25:34.815Z"
   },
   {
    "duration": 7,
    "start_time": "2022-03-08T19:25:34.824Z"
   },
   {
    "duration": 52,
    "start_time": "2022-03-08T19:25:34.832Z"
   },
   {
    "duration": 4,
    "start_time": "2022-03-08T19:25:34.886Z"
   },
   {
    "duration": 197,
    "start_time": "2022-03-08T19:25:34.892Z"
   },
   {
    "duration": 10,
    "start_time": "2022-03-08T19:25:35.091Z"
   },
   {
    "duration": 23,
    "start_time": "2022-03-08T19:25:35.103Z"
   },
   {
    "duration": 10,
    "start_time": "2022-03-08T19:25:35.128Z"
   },
   {
    "duration": 21,
    "start_time": "2022-03-08T19:25:35.140Z"
   },
   {
    "duration": 17,
    "start_time": "2022-03-08T19:25:35.162Z"
   },
   {
    "duration": 282,
    "start_time": "2022-03-08T19:25:35.181Z"
   },
   {
    "duration": 13,
    "start_time": "2022-03-08T19:25:35.466Z"
   },
   {
    "duration": 16,
    "start_time": "2022-03-08T19:25:35.480Z"
   },
   {
    "duration": 281,
    "start_time": "2022-03-08T19:25:35.498Z"
   },
   {
    "duration": 10,
    "start_time": "2022-03-08T19:25:35.781Z"
   },
   {
    "duration": 21,
    "start_time": "2022-03-08T19:25:35.793Z"
   },
   {
    "duration": 279,
    "start_time": "2022-03-08T19:25:35.816Z"
   },
   {
    "duration": 10,
    "start_time": "2022-03-08T19:25:36.096Z"
   },
   {
    "duration": 50,
    "start_time": "2022-03-08T19:25:36.108Z"
   },
   {
    "duration": 10,
    "start_time": "2022-03-08T19:26:58.115Z"
   },
   {
    "duration": 9,
    "start_time": "2022-03-08T19:26:58.450Z"
   },
   {
    "duration": 8,
    "start_time": "2022-03-08T19:26:59.313Z"
   },
   {
    "duration": 8,
    "start_time": "2022-03-08T19:26:59.552Z"
   },
   {
    "duration": 26,
    "start_time": "2022-03-08T19:27:00.067Z"
   },
   {
    "duration": 11,
    "start_time": "2022-03-08T19:27:00.575Z"
   },
   {
    "duration": 5385,
    "start_time": "2022-03-08T19:32:43.309Z"
   },
   {
    "duration": 3,
    "start_time": "2022-03-08T19:35:32.376Z"
   },
   {
    "duration": 153,
    "start_time": "2022-03-08T19:35:32.381Z"
   },
   {
    "duration": 8,
    "start_time": "2022-03-08T19:35:32.536Z"
   },
   {
    "duration": 37,
    "start_time": "2022-03-08T19:35:32.546Z"
   },
   {
    "duration": 114,
    "start_time": "2022-03-08T19:35:32.585Z"
   },
   {
    "duration": 29,
    "start_time": "2022-03-08T19:35:32.701Z"
   },
   {
    "duration": 7,
    "start_time": "2022-03-08T19:35:32.732Z"
   },
   {
    "duration": 138,
    "start_time": "2022-03-08T19:35:32.740Z"
   },
   {
    "duration": 8,
    "start_time": "2022-03-08T19:35:32.881Z"
   },
   {
    "duration": 17,
    "start_time": "2022-03-08T19:35:32.891Z"
   },
   {
    "duration": 81,
    "start_time": "2022-03-08T19:35:32.910Z"
   },
   {
    "duration": 21,
    "start_time": "2022-03-08T19:35:32.993Z"
   },
   {
    "duration": 9,
    "start_time": "2022-03-08T19:35:33.016Z"
   },
   {
    "duration": 94,
    "start_time": "2022-03-08T19:35:33.027Z"
   },
   {
    "duration": 8,
    "start_time": "2022-03-08T19:35:33.122Z"
   },
   {
    "duration": 32,
    "start_time": "2022-03-08T19:35:33.131Z"
   },
   {
    "duration": 41,
    "start_time": "2022-03-08T19:35:33.164Z"
   },
   {
    "duration": 18,
    "start_time": "2022-03-08T19:35:33.207Z"
   },
   {
    "duration": 10,
    "start_time": "2022-03-08T19:35:33.227Z"
   },
   {
    "duration": 41,
    "start_time": "2022-03-08T19:35:33.239Z"
   },
   {
    "duration": 31,
    "start_time": "2022-03-08T19:35:33.283Z"
   },
   {
    "duration": 15,
    "start_time": "2022-03-08T19:35:33.316Z"
   },
   {
    "duration": 14,
    "start_time": "2022-03-08T19:35:33.333Z"
   },
   {
    "duration": 7,
    "start_time": "2022-03-08T19:35:33.349Z"
   },
   {
    "duration": 7,
    "start_time": "2022-03-08T19:35:33.358Z"
   },
   {
    "duration": 27,
    "start_time": "2022-03-08T19:35:33.367Z"
   },
   {
    "duration": 24,
    "start_time": "2022-03-08T19:35:33.398Z"
   },
   {
    "duration": 8,
    "start_time": "2022-03-08T19:35:33.424Z"
   },
   {
    "duration": 15,
    "start_time": "2022-03-08T19:35:33.434Z"
   },
   {
    "duration": 16,
    "start_time": "2022-03-08T19:35:33.463Z"
   },
   {
    "duration": 13,
    "start_time": "2022-03-08T19:35:33.481Z"
   },
   {
    "duration": 8,
    "start_time": "2022-03-08T19:35:33.496Z"
   },
   {
    "duration": 8,
    "start_time": "2022-03-08T19:35:33.505Z"
   },
   {
    "duration": 49,
    "start_time": "2022-03-08T19:35:33.515Z"
   },
   {
    "duration": 13,
    "start_time": "2022-03-08T19:35:33.566Z"
   },
   {
    "duration": 3,
    "start_time": "2022-03-08T19:35:33.581Z"
   },
   {
    "duration": 10,
    "start_time": "2022-03-08T19:35:33.585Z"
   },
   {
    "duration": 6,
    "start_time": "2022-03-08T19:35:33.597Z"
   },
   {
    "duration": 7,
    "start_time": "2022-03-08T19:35:33.605Z"
   },
   {
    "duration": 7,
    "start_time": "2022-03-08T19:35:33.613Z"
   },
   {
    "duration": 9,
    "start_time": "2022-03-08T19:35:33.621Z"
   },
   {
    "duration": 35,
    "start_time": "2022-03-08T19:35:33.632Z"
   },
   {
    "duration": 21,
    "start_time": "2022-03-08T19:35:33.669Z"
   },
   {
    "duration": 9,
    "start_time": "2022-03-08T19:35:33.691Z"
   },
   {
    "duration": 5,
    "start_time": "2022-03-08T19:35:42.890Z"
   },
   {
    "duration": 19,
    "start_time": "2022-03-08T19:35:56.831Z"
   },
   {
    "duration": 231,
    "start_time": "2022-03-08T19:36:00.613Z"
   },
   {
    "duration": 9,
    "start_time": "2022-03-08T19:36:09.395Z"
   },
   {
    "duration": 84,
    "start_time": "2022-03-08T19:36:15.465Z"
   },
   {
    "duration": 5770,
    "start_time": "2022-03-08T19:36:23.888Z"
   },
   {
    "duration": 256,
    "start_time": "2022-03-08T19:37:27.741Z"
   },
   {
    "duration": 6342,
    "start_time": "2022-03-08T19:37:57.968Z"
   },
   {
    "duration": 6,
    "start_time": "2022-03-08T19:38:35.540Z"
   },
   {
    "duration": 8,
    "start_time": "2022-03-08T19:38:52.233Z"
   },
   {
    "duration": 1001,
    "start_time": "2022-03-08T19:40:02.214Z"
   },
   {
    "duration": 142,
    "start_time": "2022-03-08T19:40:03.217Z"
   },
   {
    "duration": 11,
    "start_time": "2022-03-08T19:40:03.361Z"
   },
   {
    "duration": 23,
    "start_time": "2022-03-08T19:40:03.373Z"
   },
   {
    "duration": 105,
    "start_time": "2022-03-08T19:40:03.398Z"
   },
   {
    "duration": 26,
    "start_time": "2022-03-08T19:40:03.505Z"
   },
   {
    "duration": 27,
    "start_time": "2022-03-08T19:40:03.533Z"
   },
   {
    "duration": 136,
    "start_time": "2022-03-08T19:40:03.561Z"
   },
   {
    "duration": 7,
    "start_time": "2022-03-08T19:40:03.700Z"
   },
   {
    "duration": 41,
    "start_time": "2022-03-08T19:40:03.709Z"
   },
   {
    "duration": 60,
    "start_time": "2022-03-08T19:40:03.752Z"
   },
   {
    "duration": 19,
    "start_time": "2022-03-08T19:40:03.814Z"
   },
   {
    "duration": 7,
    "start_time": "2022-03-08T19:40:03.835Z"
   },
   {
    "duration": 94,
    "start_time": "2022-03-08T19:40:03.844Z"
   },
   {
    "duration": 7,
    "start_time": "2022-03-08T19:40:03.940Z"
   },
   {
    "duration": 24,
    "start_time": "2022-03-08T19:40:03.948Z"
   },
   {
    "duration": 39,
    "start_time": "2022-03-08T19:40:03.974Z"
   },
   {
    "duration": 17,
    "start_time": "2022-03-08T19:40:04.015Z"
   },
   {
    "duration": 11,
    "start_time": "2022-03-08T19:40:04.033Z"
   },
   {
    "duration": 21,
    "start_time": "2022-03-08T19:40:04.045Z"
   },
   {
    "duration": 20,
    "start_time": "2022-03-08T19:40:04.067Z"
   },
   {
    "duration": 10,
    "start_time": "2022-03-08T19:40:04.088Z"
   },
   {
    "duration": 8,
    "start_time": "2022-03-08T19:40:04.100Z"
   },
   {
    "duration": 7,
    "start_time": "2022-03-08T19:40:04.109Z"
   },
   {
    "duration": 6,
    "start_time": "2022-03-08T19:40:04.117Z"
   },
   {
    "duration": 42,
    "start_time": "2022-03-08T19:40:04.124Z"
   },
   {
    "duration": 22,
    "start_time": "2022-03-08T19:40:04.170Z"
   },
   {
    "duration": 7,
    "start_time": "2022-03-08T19:40:04.194Z"
   },
   {
    "duration": 14,
    "start_time": "2022-03-08T19:40:04.202Z"
   },
   {
    "duration": 21,
    "start_time": "2022-03-08T19:40:04.217Z"
   },
   {
    "duration": 24,
    "start_time": "2022-03-08T19:40:04.240Z"
   },
   {
    "duration": 17,
    "start_time": "2022-03-08T19:40:04.266Z"
   },
   {
    "duration": 20,
    "start_time": "2022-03-08T19:40:04.285Z"
   },
   {
    "duration": 37,
    "start_time": "2022-03-08T19:40:04.307Z"
   },
   {
    "duration": 17,
    "start_time": "2022-03-08T19:40:04.346Z"
   },
   {
    "duration": 9,
    "start_time": "2022-03-08T19:40:04.365Z"
   },
   {
    "duration": 28,
    "start_time": "2022-03-08T19:40:04.376Z"
   },
   {
    "duration": 15,
    "start_time": "2022-03-08T19:40:04.406Z"
   },
   {
    "duration": 14,
    "start_time": "2022-03-08T19:40:04.423Z"
   },
   {
    "duration": 18,
    "start_time": "2022-03-08T19:40:04.439Z"
   },
   {
    "duration": 15,
    "start_time": "2022-03-08T19:40:04.458Z"
   },
   {
    "duration": 18,
    "start_time": "2022-03-08T19:40:04.474Z"
   },
   {
    "duration": 22,
    "start_time": "2022-03-08T19:40:04.493Z"
   },
   {
    "duration": 9,
    "start_time": "2022-03-08T19:40:04.516Z"
   },
   {
    "duration": 5,
    "start_time": "2022-03-08T19:40:04.527Z"
   },
   {
    "duration": 21,
    "start_time": "2022-03-08T19:40:04.534Z"
   },
   {
    "duration": 15,
    "start_time": "2022-03-08T19:40:04.556Z"
   },
   {
    "duration": 15,
    "start_time": "2022-03-08T19:40:04.573Z"
   },
   {
    "duration": 9,
    "start_time": "2022-03-08T19:40:04.590Z"
   },
   {
    "duration": 13,
    "start_time": "2022-03-08T19:40:04.600Z"
   },
   {
    "duration": 174,
    "start_time": "2022-03-08T19:40:04.615Z"
   },
   {
    "duration": 9,
    "start_time": "2022-03-08T19:40:04.791Z"
   },
   {
    "duration": 18,
    "start_time": "2022-03-08T19:40:04.802Z"
   },
   {
    "duration": 3,
    "start_time": "2022-03-08T19:40:04.821Z"
   },
   {
    "duration": 16,
    "start_time": "2022-03-08T19:40:04.826Z"
   },
   {
    "duration": 26,
    "start_time": "2022-03-08T19:40:04.844Z"
   },
   {
    "duration": 273,
    "start_time": "2022-03-08T19:40:04.872Z"
   },
   {
    "duration": 21,
    "start_time": "2022-03-08T19:40:05.146Z"
   },
   {
    "duration": 32,
    "start_time": "2022-03-08T19:40:05.168Z"
   },
   {
    "duration": 267,
    "start_time": "2022-03-08T19:40:05.201Z"
   },
   {
    "duration": 10,
    "start_time": "2022-03-08T19:40:05.470Z"
   },
   {
    "duration": 25,
    "start_time": "2022-03-08T19:40:05.481Z"
   },
   {
    "duration": 278,
    "start_time": "2022-03-08T19:40:05.507Z"
   },
   {
    "duration": 11,
    "start_time": "2022-03-08T19:40:05.786Z"
   },
   {
    "duration": 23,
    "start_time": "2022-03-08T19:40:05.798Z"
   },
   {
    "duration": 30,
    "start_time": "2022-03-08T19:43:09.220Z"
   },
   {
    "duration": 4,
    "start_time": "2022-03-08T19:47:16.705Z"
   },
   {
    "duration": 148,
    "start_time": "2022-03-08T19:47:17.237Z"
   },
   {
    "duration": 9,
    "start_time": "2022-03-08T19:47:19.620Z"
   },
   {
    "duration": 30,
    "start_time": "2022-03-08T19:47:27.926Z"
   },
   {
    "duration": 4,
    "start_time": "2022-03-08T19:49:17.696Z"
   },
   {
    "duration": 157,
    "start_time": "2022-03-08T19:49:18.700Z"
   },
   {
    "duration": 9,
    "start_time": "2022-03-08T19:49:19.304Z"
   },
   {
    "duration": 29,
    "start_time": "2022-03-08T19:49:21.709Z"
   },
   {
    "duration": 12,
    "start_time": "2022-03-08T19:50:18.504Z"
   },
   {
    "duration": 4,
    "start_time": "2022-03-08T19:52:56.533Z"
   },
   {
    "duration": 157,
    "start_time": "2022-03-08T19:52:57.744Z"
   },
   {
    "duration": 9,
    "start_time": "2022-03-08T19:53:00.371Z"
   },
   {
    "duration": 28,
    "start_time": "2022-03-08T19:53:07.290Z"
   },
   {
    "duration": 1053,
    "start_time": "2022-03-08T19:55:08.859Z"
   },
   {
    "duration": 156,
    "start_time": "2022-03-08T19:55:09.914Z"
   },
   {
    "duration": 10,
    "start_time": "2022-03-08T19:55:10.072Z"
   },
   {
    "duration": 27,
    "start_time": "2022-03-08T19:55:10.084Z"
   },
   {
    "duration": 109,
    "start_time": "2022-03-08T19:55:10.113Z"
   },
   {
    "duration": 28,
    "start_time": "2022-03-08T19:55:10.224Z"
   },
   {
    "duration": 13,
    "start_time": "2022-03-08T19:55:10.254Z"
   },
   {
    "duration": 125,
    "start_time": "2022-03-08T19:55:10.269Z"
   },
   {
    "duration": 7,
    "start_time": "2022-03-08T19:55:10.396Z"
   },
   {
    "duration": 19,
    "start_time": "2022-03-08T19:55:10.405Z"
   },
   {
    "duration": 75,
    "start_time": "2022-03-08T19:55:10.426Z"
   },
   {
    "duration": 21,
    "start_time": "2022-03-08T19:55:10.503Z"
   },
   {
    "duration": 9,
    "start_time": "2022-03-08T19:55:10.526Z"
   },
   {
    "duration": 103,
    "start_time": "2022-03-08T19:55:10.537Z"
   },
   {
    "duration": 7,
    "start_time": "2022-03-08T19:55:10.642Z"
   },
   {
    "duration": 23,
    "start_time": "2022-03-08T19:55:10.651Z"
   },
   {
    "duration": 44,
    "start_time": "2022-03-08T19:55:10.676Z"
   },
   {
    "duration": 16,
    "start_time": "2022-03-08T19:55:10.721Z"
   },
   {
    "duration": 10,
    "start_time": "2022-03-08T19:55:10.739Z"
   },
   {
    "duration": 19,
    "start_time": "2022-03-08T19:55:10.750Z"
   },
   {
    "duration": 20,
    "start_time": "2022-03-08T19:55:10.770Z"
   },
   {
    "duration": 9,
    "start_time": "2022-03-08T19:55:10.792Z"
   },
   {
    "duration": 8,
    "start_time": "2022-03-08T19:55:10.805Z"
   },
   {
    "duration": 7,
    "start_time": "2022-03-08T19:55:10.815Z"
   },
   {
    "duration": 6,
    "start_time": "2022-03-08T19:55:10.823Z"
   },
   {
    "duration": 35,
    "start_time": "2022-03-08T19:55:10.831Z"
   },
   {
    "duration": 21,
    "start_time": "2022-03-08T19:55:10.868Z"
   },
   {
    "duration": 7,
    "start_time": "2022-03-08T19:55:10.890Z"
   },
   {
    "duration": 7,
    "start_time": "2022-03-08T19:55:10.898Z"
   },
   {
    "duration": 17,
    "start_time": "2022-03-08T19:55:10.906Z"
   },
   {
    "duration": 11,
    "start_time": "2022-03-08T19:55:10.924Z"
   },
   {
    "duration": 31,
    "start_time": "2022-03-08T19:55:10.937Z"
   },
   {
    "duration": 5,
    "start_time": "2022-03-08T19:55:10.969Z"
   },
   {
    "duration": 17,
    "start_time": "2022-03-08T19:55:10.976Z"
   },
   {
    "duration": 15,
    "start_time": "2022-03-08T19:55:10.994Z"
   },
   {
    "duration": 8,
    "start_time": "2022-03-08T19:55:11.011Z"
   },
   {
    "duration": 7,
    "start_time": "2022-03-08T19:55:11.021Z"
   },
   {
    "duration": 39,
    "start_time": "2022-03-08T19:55:11.030Z"
   },
   {
    "duration": 9,
    "start_time": "2022-03-08T19:55:11.071Z"
   },
   {
    "duration": 9,
    "start_time": "2022-03-08T19:55:11.082Z"
   },
   {
    "duration": 9,
    "start_time": "2022-03-08T19:55:11.092Z"
   },
   {
    "duration": 8,
    "start_time": "2022-03-08T19:55:11.102Z"
   },
   {
    "duration": 61,
    "start_time": "2022-03-08T19:55:11.111Z"
   },
   {
    "duration": 10,
    "start_time": "2022-03-08T19:55:11.174Z"
   },
   {
    "duration": 6,
    "start_time": "2022-03-08T19:55:11.186Z"
   },
   {
    "duration": 19,
    "start_time": "2022-03-08T19:55:11.193Z"
   },
   {
    "duration": 8,
    "start_time": "2022-03-08T19:55:11.214Z"
   },
   {
    "duration": 5,
    "start_time": "2022-03-08T19:55:11.223Z"
   },
   {
    "duration": 8,
    "start_time": "2022-03-08T19:55:11.264Z"
   },
   {
    "duration": 4,
    "start_time": "2022-03-08T19:55:11.273Z"
   },
   {
    "duration": 173,
    "start_time": "2022-03-08T19:55:11.279Z"
   },
   {
    "duration": 13,
    "start_time": "2022-03-08T19:55:11.454Z"
   },
   {
    "duration": 28,
    "start_time": "2022-03-08T19:55:11.468Z"
   },
   {
    "duration": 18,
    "start_time": "2022-03-08T19:55:11.497Z"
   },
   {
    "duration": 7,
    "start_time": "2022-03-08T19:55:11.516Z"
   },
   {
    "duration": 12,
    "start_time": "2022-03-08T19:55:11.524Z"
   },
   {
    "duration": 29,
    "start_time": "2022-03-08T19:55:11.537Z"
   },
   {
    "duration": 265,
    "start_time": "2022-03-08T19:55:11.568Z"
   },
   {
    "duration": 9,
    "start_time": "2022-03-08T19:55:11.835Z"
   },
   {
    "duration": 21,
    "start_time": "2022-03-08T19:55:11.845Z"
   },
   {
    "duration": 253,
    "start_time": "2022-03-08T19:55:11.867Z"
   },
   {
    "duration": 10,
    "start_time": "2022-03-08T19:55:12.121Z"
   },
   {
    "duration": 11,
    "start_time": "2022-03-08T19:55:12.132Z"
   },
   {
    "duration": 276,
    "start_time": "2022-03-08T19:55:12.144Z"
   },
   {
    "duration": 11,
    "start_time": "2022-03-08T19:55:12.422Z"
   },
   {
    "duration": 14,
    "start_time": "2022-03-08T19:55:12.435Z"
   },
   {
    "duration": 13,
    "start_time": "2022-03-08T19:55:24.432Z"
   },
   {
    "duration": 1459,
    "start_time": "2022-03-09T10:32:09.300Z"
   },
   {
    "duration": 218,
    "start_time": "2022-03-09T10:32:10.762Z"
   },
   {
    "duration": 20,
    "start_time": "2022-03-09T10:32:10.984Z"
   },
   {
    "duration": 31,
    "start_time": "2022-03-09T10:32:11.008Z"
   },
   {
    "duration": 178,
    "start_time": "2022-03-09T10:32:11.043Z"
   },
   {
    "duration": 38,
    "start_time": "2022-03-09T10:32:11.223Z"
   },
   {
    "duration": 24,
    "start_time": "2022-03-09T10:32:11.263Z"
   },
   {
    "duration": 182,
    "start_time": "2022-03-09T10:32:11.291Z"
   },
   {
    "duration": 13,
    "start_time": "2022-03-09T10:32:11.476Z"
   },
   {
    "duration": 26,
    "start_time": "2022-03-09T10:32:11.491Z"
   },
   {
    "duration": 130,
    "start_time": "2022-03-09T10:32:11.520Z"
   },
   {
    "duration": 46,
    "start_time": "2022-03-09T10:32:11.652Z"
   },
   {
    "duration": 10,
    "start_time": "2022-03-09T10:32:11.701Z"
   },
   {
    "duration": 126,
    "start_time": "2022-03-09T10:32:11.713Z"
   },
   {
    "duration": 10,
    "start_time": "2022-03-09T10:32:11.841Z"
   },
   {
    "duration": 41,
    "start_time": "2022-03-09T10:32:11.854Z"
   },
   {
    "duration": 57,
    "start_time": "2022-03-09T10:32:11.899Z"
   },
   {
    "duration": 50,
    "start_time": "2022-03-09T10:32:11.958Z"
   },
   {
    "duration": 13,
    "start_time": "2022-03-09T10:32:12.011Z"
   },
   {
    "duration": 15,
    "start_time": "2022-03-09T10:32:12.026Z"
   },
   {
    "duration": 45,
    "start_time": "2022-03-09T10:32:12.044Z"
   },
   {
    "duration": 16,
    "start_time": "2022-03-09T10:32:12.092Z"
   },
   {
    "duration": 8,
    "start_time": "2022-03-09T10:32:12.114Z"
   },
   {
    "duration": 11,
    "start_time": "2022-03-09T10:32:12.125Z"
   },
   {
    "duration": 54,
    "start_time": "2022-03-09T10:32:12.138Z"
   },
   {
    "duration": 34,
    "start_time": "2022-03-09T10:32:12.195Z"
   },
   {
    "duration": 57,
    "start_time": "2022-03-09T10:32:12.232Z"
   },
   {
    "duration": 11,
    "start_time": "2022-03-09T10:32:12.291Z"
   },
   {
    "duration": 8,
    "start_time": "2022-03-09T10:32:12.304Z"
   },
   {
    "duration": 21,
    "start_time": "2022-03-09T10:32:12.315Z"
   },
   {
    "duration": 55,
    "start_time": "2022-03-09T10:32:12.339Z"
   },
   {
    "duration": 9,
    "start_time": "2022-03-09T10:32:12.397Z"
   },
   {
    "duration": 8,
    "start_time": "2022-03-09T10:32:12.409Z"
   },
   {
    "duration": 25,
    "start_time": "2022-03-09T10:32:12.420Z"
   },
   {
    "duration": 54,
    "start_time": "2022-03-09T10:32:12.448Z"
   },
   {
    "duration": 8,
    "start_time": "2022-03-09T10:32:12.505Z"
   },
   {
    "duration": 9,
    "start_time": "2022-03-09T10:32:12.515Z"
   },
   {
    "duration": 17,
    "start_time": "2022-03-09T10:32:12.527Z"
   },
   {
    "duration": 48,
    "start_time": "2022-03-09T10:32:12.546Z"
   },
   {
    "duration": 14,
    "start_time": "2022-03-09T10:32:12.597Z"
   },
   {
    "duration": 15,
    "start_time": "2022-03-09T10:32:12.614Z"
   },
   {
    "duration": 59,
    "start_time": "2022-03-09T10:32:12.632Z"
   },
   {
    "duration": 31,
    "start_time": "2022-03-09T10:32:12.693Z"
   },
   {
    "duration": 13,
    "start_time": "2022-03-09T10:32:12.726Z"
   },
   {
    "duration": 7,
    "start_time": "2022-03-09T10:32:12.742Z"
   },
   {
    "duration": 32,
    "start_time": "2022-03-09T10:32:12.787Z"
   },
   {
    "duration": 13,
    "start_time": "2022-03-09T10:32:12.822Z"
   },
   {
    "duration": 8,
    "start_time": "2022-03-09T10:32:12.837Z"
   },
   {
    "duration": 15,
    "start_time": "2022-03-09T10:32:12.887Z"
   },
   {
    "duration": 9,
    "start_time": "2022-03-09T10:32:12.905Z"
   },
   {
    "duration": 317,
    "start_time": "2022-03-09T10:32:12.916Z"
   },
   {
    "duration": 14,
    "start_time": "2022-03-09T10:32:13.235Z"
   },
   {
    "duration": 71,
    "start_time": "2022-03-09T10:32:13.252Z"
   },
   {
    "duration": 29,
    "start_time": "2022-03-09T10:32:13.325Z"
   },
   {
    "duration": 31,
    "start_time": "2022-03-09T10:32:13.356Z"
   },
   {
    "duration": 14,
    "start_time": "2022-03-09T10:32:13.389Z"
   },
   {
    "duration": 13,
    "start_time": "2022-03-09T10:32:13.405Z"
   },
   {
    "duration": 469,
    "start_time": "2022-03-09T10:32:13.421Z"
   },
   {
    "duration": 14,
    "start_time": "2022-03-09T10:32:13.892Z"
   },
   {
    "duration": 16,
    "start_time": "2022-03-09T10:32:13.909Z"
   },
   {
    "duration": 477,
    "start_time": "2022-03-09T10:32:13.928Z"
   },
   {
    "duration": 14,
    "start_time": "2022-03-09T10:32:14.407Z"
   },
   {
    "duration": 12,
    "start_time": "2022-03-09T10:32:14.424Z"
   },
   {
    "duration": 455,
    "start_time": "2022-03-09T10:32:14.439Z"
   },
   {
    "duration": 16,
    "start_time": "2022-03-09T10:32:14.896Z"
   },
   {
    "duration": 22,
    "start_time": "2022-03-09T10:32:14.914Z"
   },
   {
    "duration": 48,
    "start_time": "2022-03-09T10:35:25.036Z"
   },
   {
    "duration": 6011,
    "start_time": "2022-03-09T10:36:10.608Z"
   },
   {
    "duration": 8,
    "start_time": "2022-03-09T10:41:35.247Z"
   },
   {
    "duration": 8,
    "start_time": "2022-03-09T10:42:01.732Z"
   },
   {
    "duration": 7,
    "start_time": "2022-03-09T10:42:09.895Z"
   },
   {
    "duration": 8,
    "start_time": "2022-03-09T10:42:18.470Z"
   },
   {
    "duration": 8,
    "start_time": "2022-03-09T10:42:46.593Z"
   },
   {
    "duration": 8,
    "start_time": "2022-03-09T10:43:02.377Z"
   },
   {
    "duration": 4,
    "start_time": "2022-03-09T13:32:11.817Z"
   },
   {
    "duration": 31,
    "start_time": "2022-03-09T13:32:23.550Z"
   },
   {
    "duration": 4,
    "start_time": "2022-03-09T13:32:33.246Z"
   },
   {
    "duration": 243,
    "start_time": "2022-03-09T13:32:33.253Z"
   },
   {
    "duration": 11,
    "start_time": "2022-03-09T13:32:33.498Z"
   },
   {
    "duration": 29,
    "start_time": "2022-03-09T13:32:33.512Z"
   },
   {
    "duration": 153,
    "start_time": "2022-03-09T13:32:33.543Z"
   },
   {
    "duration": 54,
    "start_time": "2022-03-09T13:32:33.700Z"
   },
   {
    "duration": 29,
    "start_time": "2022-03-09T13:32:33.758Z"
   },
   {
    "duration": 183,
    "start_time": "2022-03-09T13:32:33.790Z"
   },
   {
    "duration": 14,
    "start_time": "2022-03-09T13:32:33.975Z"
   },
   {
    "duration": 25,
    "start_time": "2022-03-09T13:32:33.991Z"
   },
   {
    "duration": 129,
    "start_time": "2022-03-09T13:32:34.018Z"
   },
   {
    "duration": 40,
    "start_time": "2022-03-09T13:32:34.149Z"
   },
   {
    "duration": 11,
    "start_time": "2022-03-09T13:32:34.191Z"
   },
   {
    "duration": 123,
    "start_time": "2022-03-09T13:32:34.204Z"
   },
   {
    "duration": 11,
    "start_time": "2022-03-09T13:32:34.329Z"
   },
   {
    "duration": 45,
    "start_time": "2022-03-09T13:32:34.343Z"
   },
   {
    "duration": 56,
    "start_time": "2022-03-09T13:32:34.391Z"
   },
   {
    "duration": 52,
    "start_time": "2022-03-09T13:32:34.451Z"
   },
   {
    "duration": 12,
    "start_time": "2022-03-09T13:32:34.509Z"
   },
   {
    "duration": 13,
    "start_time": "2022-03-09T13:32:34.526Z"
   },
   {
    "duration": 20,
    "start_time": "2022-03-09T13:32:34.541Z"
   },
   {
    "duration": 14,
    "start_time": "2022-03-09T13:32:34.588Z"
   },
   {
    "duration": 12,
    "start_time": "2022-03-09T13:32:34.605Z"
   },
   {
    "duration": 12,
    "start_time": "2022-03-09T13:32:34.620Z"
   },
   {
    "duration": 9,
    "start_time": "2022-03-09T13:32:34.634Z"
   },
   {
    "duration": 72,
    "start_time": "2022-03-09T13:32:34.645Z"
   },
   {
    "duration": 28,
    "start_time": "2022-03-09T13:32:34.720Z"
   },
   {
    "duration": 39,
    "start_time": "2022-03-09T13:32:34.751Z"
   },
   {
    "duration": 12,
    "start_time": "2022-03-09T13:32:34.793Z"
   },
   {
    "duration": 23,
    "start_time": "2022-03-09T13:32:34.809Z"
   },
   {
    "duration": 65,
    "start_time": "2022-03-09T13:32:34.834Z"
   },
   {
    "duration": 11,
    "start_time": "2022-03-09T13:32:34.901Z"
   },
   {
    "duration": 12,
    "start_time": "2022-03-09T13:32:34.915Z"
   },
   {
    "duration": 76,
    "start_time": "2022-03-09T13:32:34.930Z"
   },
   {
    "duration": 21,
    "start_time": "2022-03-09T13:32:35.009Z"
   },
   {
    "duration": 7,
    "start_time": "2022-03-09T13:32:35.032Z"
   },
   {
    "duration": 53,
    "start_time": "2022-03-09T13:32:35.042Z"
   },
   {
    "duration": 9,
    "start_time": "2022-03-09T13:32:35.099Z"
   },
   {
    "duration": 12,
    "start_time": "2022-03-09T13:32:35.111Z"
   },
   {
    "duration": 12,
    "start_time": "2022-03-09T13:32:35.125Z"
   },
   {
    "duration": 58,
    "start_time": "2022-03-09T13:32:35.139Z"
   },
   {
    "duration": 11,
    "start_time": "2022-03-09T13:32:35.200Z"
   },
   {
    "duration": 28,
    "start_time": "2022-03-09T13:32:35.213Z"
   },
   {
    "duration": 53,
    "start_time": "2022-03-09T13:32:35.244Z"
   },
   {
    "duration": 7,
    "start_time": "2022-03-09T13:32:35.299Z"
   },
   {
    "duration": 31,
    "start_time": "2022-03-09T13:32:35.309Z"
   },
   {
    "duration": 45,
    "start_time": "2022-03-09T13:32:35.342Z"
   },
   {
    "duration": 7,
    "start_time": "2022-03-09T13:32:35.389Z"
   },
   {
    "duration": 15,
    "start_time": "2022-03-09T13:32:35.399Z"
   },
   {
    "duration": 5,
    "start_time": "2022-03-09T13:32:35.416Z"
   },
   {
    "duration": 5,
    "start_time": "2022-03-09T13:32:41.749Z"
   },
   {
    "duration": 31,
    "start_time": "2022-03-09T13:32:42.298Z"
   },
   {
    "duration": 6,
    "start_time": "2022-03-09T13:32:50.508Z"
   },
   {
    "duration": 82,
    "start_time": "2022-03-09T13:33:54.814Z"
   },
   {
    "duration": 6,
    "start_time": "2022-03-09T13:35:01.462Z"
   },
   {
    "duration": 8,
    "start_time": "2022-03-09T13:36:14.430Z"
   },
   {
    "duration": 30,
    "start_time": "2022-03-09T13:36:29.146Z"
   },
   {
    "duration": 69,
    "start_time": "2022-03-09T13:37:56.388Z"
   },
   {
    "duration": 6,
    "start_time": "2022-03-09T13:38:35.129Z"
   },
   {
    "duration": 8,
    "start_time": "2022-03-09T13:38:37.764Z"
   },
   {
    "duration": 32,
    "start_time": "2022-03-09T13:38:40.476Z"
   },
   {
    "duration": 6,
    "start_time": "2022-03-09T13:39:26.759Z"
   },
   {
    "duration": 8,
    "start_time": "2022-03-09T13:39:27.531Z"
   },
   {
    "duration": 28,
    "start_time": "2022-03-09T13:39:28.464Z"
   },
   {
    "duration": 5,
    "start_time": "2022-03-09T13:39:39.467Z"
   },
   {
    "duration": 8,
    "start_time": "2022-03-09T13:39:40.071Z"
   },
   {
    "duration": 29,
    "start_time": "2022-03-09T13:39:40.656Z"
   },
   {
    "duration": 6,
    "start_time": "2022-03-09T13:40:17.428Z"
   },
   {
    "duration": 7,
    "start_time": "2022-03-09T13:40:17.877Z"
   },
   {
    "duration": 29,
    "start_time": "2022-03-09T13:40:19.359Z"
   },
   {
    "duration": 6,
    "start_time": "2022-03-09T13:41:10.093Z"
   },
   {
    "duration": 7,
    "start_time": "2022-03-09T13:41:10.625Z"
   },
   {
    "duration": 32,
    "start_time": "2022-03-09T13:41:11.618Z"
   },
   {
    "duration": 5,
    "start_time": "2022-03-09T13:41:36.212Z"
   },
   {
    "duration": 8,
    "start_time": "2022-03-09T13:41:36.731Z"
   },
   {
    "duration": 29,
    "start_time": "2022-03-09T13:41:39.868Z"
   },
   {
    "duration": 7,
    "start_time": "2022-03-09T13:42:31.059Z"
   },
   {
    "duration": 8,
    "start_time": "2022-03-09T13:42:31.501Z"
   },
   {
    "duration": 32,
    "start_time": "2022-03-09T13:42:32.531Z"
   },
   {
    "duration": 7,
    "start_time": "2022-03-09T13:49:16.713Z"
   },
   {
    "duration": 8,
    "start_time": "2022-03-09T13:49:18.329Z"
   },
   {
    "duration": 31,
    "start_time": "2022-03-09T13:49:21.408Z"
   },
   {
    "duration": 6,
    "start_time": "2022-03-09T13:51:54.856Z"
   },
   {
    "duration": 9,
    "start_time": "2022-03-09T13:51:55.449Z"
   },
   {
    "duration": 34,
    "start_time": "2022-03-09T13:51:57.784Z"
   },
   {
    "duration": 7,
    "start_time": "2022-03-09T13:53:43.977Z"
   },
   {
    "duration": 8,
    "start_time": "2022-03-09T13:53:44.879Z"
   },
   {
    "duration": 27,
    "start_time": "2022-03-09T13:53:45.689Z"
   },
   {
    "duration": 7,
    "start_time": "2022-03-09T13:56:53.839Z"
   },
   {
    "duration": 8,
    "start_time": "2022-03-09T13:57:00.317Z"
   },
   {
    "duration": 29,
    "start_time": "2022-03-09T13:57:02.335Z"
   },
   {
    "duration": 5,
    "start_time": "2022-03-09T13:57:38.100Z"
   },
   {
    "duration": 8,
    "start_time": "2022-03-09T13:57:38.767Z"
   },
   {
    "duration": 28,
    "start_time": "2022-03-09T13:57:39.492Z"
   },
   {
    "duration": 7,
    "start_time": "2022-03-09T13:58:55.446Z"
   },
   {
    "duration": 7,
    "start_time": "2022-03-09T13:58:56.356Z"
   },
   {
    "duration": 28,
    "start_time": "2022-03-09T13:58:57.602Z"
   },
   {
    "duration": 7,
    "start_time": "2022-03-09T13:59:16.380Z"
   },
   {
    "duration": 7,
    "start_time": "2022-03-09T13:59:16.846Z"
   },
   {
    "duration": 29,
    "start_time": "2022-03-09T13:59:18.102Z"
   },
   {
    "duration": 8,
    "start_time": "2022-03-09T14:01:44.933Z"
   },
   {
    "duration": 8,
    "start_time": "2022-03-09T14:01:45.495Z"
   },
   {
    "duration": 32,
    "start_time": "2022-03-09T14:01:46.137Z"
   },
   {
    "duration": 6,
    "start_time": "2022-03-09T14:03:31.051Z"
   },
   {
    "duration": 10,
    "start_time": "2022-03-09T14:03:31.533Z"
   },
   {
    "duration": 34,
    "start_time": "2022-03-09T14:03:32.319Z"
   },
   {
    "duration": 7,
    "start_time": "2022-03-09T14:04:50.568Z"
   },
   {
    "duration": 10,
    "start_time": "2022-03-09T14:04:50.988Z"
   },
   {
    "duration": 30,
    "start_time": "2022-03-09T14:04:51.801Z"
   },
   {
    "duration": 7,
    "start_time": "2022-03-09T14:05:22.228Z"
   },
   {
    "duration": 9,
    "start_time": "2022-03-09T14:05:26.314Z"
   },
   {
    "duration": 30,
    "start_time": "2022-03-09T14:05:28.136Z"
   },
   {
    "duration": 6,
    "start_time": "2022-03-09T14:05:48.084Z"
   },
   {
    "duration": 8,
    "start_time": "2022-03-09T14:05:48.913Z"
   },
   {
    "duration": 28,
    "start_time": "2022-03-09T14:05:50.695Z"
   },
   {
    "duration": 5,
    "start_time": "2022-03-09T14:06:08.592Z"
   },
   {
    "duration": 8,
    "start_time": "2022-03-09T14:06:09.246Z"
   },
   {
    "duration": 30,
    "start_time": "2022-03-09T14:06:10.059Z"
   },
   {
    "duration": 6,
    "start_time": "2022-03-09T14:06:25.728Z"
   },
   {
    "duration": 8,
    "start_time": "2022-03-09T14:06:26.196Z"
   },
   {
    "duration": 32,
    "start_time": "2022-03-09T14:06:26.703Z"
   },
   {
    "duration": 231,
    "start_time": "2022-03-09T14:07:02.834Z"
   },
   {
    "duration": 9,
    "start_time": "2022-03-09T14:07:03.275Z"
   },
   {
    "duration": 6,
    "start_time": "2022-03-09T14:07:28.747Z"
   },
   {
    "duration": 7,
    "start_time": "2022-03-09T14:07:29.439Z"
   },
   {
    "duration": 29,
    "start_time": "2022-03-09T14:07:30.314Z"
   },
   {
    "duration": 86,
    "start_time": "2022-03-09T14:08:27.379Z"
   },
   {
    "duration": 82,
    "start_time": "2022-03-09T14:11:01.711Z"
   },
   {
    "duration": 6,
    "start_time": "2022-03-09T14:11:07.880Z"
   },
   {
    "duration": 8,
    "start_time": "2022-03-09T14:11:08.665Z"
   },
   {
    "duration": 32,
    "start_time": "2022-03-09T14:11:09.300Z"
   },
   {
    "duration": 6,
    "start_time": "2022-03-09T14:12:08.105Z"
   },
   {
    "duration": 9,
    "start_time": "2022-03-09T14:12:08.593Z"
   },
   {
    "duration": 29,
    "start_time": "2022-03-09T14:12:09.155Z"
   },
   {
    "duration": 7,
    "start_time": "2022-03-09T14:19:40.960Z"
   },
   {
    "duration": 8,
    "start_time": "2022-03-09T14:19:42.167Z"
   },
   {
    "duration": 32,
    "start_time": "2022-03-09T14:19:43.122Z"
   },
   {
    "duration": 9,
    "start_time": "2022-03-09T14:20:09.736Z"
   },
   {
    "duration": 8,
    "start_time": "2022-03-09T14:20:10.283Z"
   },
   {
    "duration": 33,
    "start_time": "2022-03-09T14:20:11.323Z"
   },
   {
    "duration": 7,
    "start_time": "2022-03-09T14:20:35.042Z"
   },
   {
    "duration": 8,
    "start_time": "2022-03-09T14:20:36.512Z"
   },
   {
    "duration": 30,
    "start_time": "2022-03-09T14:20:37.241Z"
   },
   {
    "duration": 7,
    "start_time": "2022-03-09T14:28:55.514Z"
   },
   {
    "duration": 9,
    "start_time": "2022-03-09T14:28:56.468Z"
   },
   {
    "duration": 29,
    "start_time": "2022-03-09T14:28:57.694Z"
   },
   {
    "duration": 77,
    "start_time": "2022-03-09T14:30:51.657Z"
   },
   {
    "duration": 7,
    "start_time": "2022-03-09T14:30:52.116Z"
   },
   {
    "duration": 71,
    "start_time": "2022-03-09T14:31:18.158Z"
   },
   {
    "duration": 7,
    "start_time": "2022-03-09T14:32:31.276Z"
   },
   {
    "duration": 7,
    "start_time": "2022-03-09T14:32:32.121Z"
   },
   {
    "duration": 29,
    "start_time": "2022-03-09T14:32:33.058Z"
   },
   {
    "duration": 9,
    "start_time": "2022-03-09T14:32:49.582Z"
   },
   {
    "duration": 9,
    "start_time": "2022-03-09T14:32:49.948Z"
   },
   {
    "duration": 32,
    "start_time": "2022-03-09T14:32:50.546Z"
   },
   {
    "duration": 7,
    "start_time": "2022-03-09T14:34:28.950Z"
   },
   {
    "duration": 470,
    "start_time": "2022-03-09T14:34:29.670Z"
   },
   {
    "duration": 21,
    "start_time": "2022-03-09T14:34:31.317Z"
   },
   {
    "duration": 1347,
    "start_time": "2022-03-09T14:35:00.024Z"
   },
   {
    "duration": 222,
    "start_time": "2022-03-09T14:35:01.375Z"
   },
   {
    "duration": 19,
    "start_time": "2022-03-09T14:35:01.600Z"
   },
   {
    "duration": 41,
    "start_time": "2022-03-09T14:35:01.623Z"
   },
   {
    "duration": 154,
    "start_time": "2022-03-09T14:35:01.688Z"
   },
   {
    "duration": 60,
    "start_time": "2022-03-09T14:35:01.845Z"
   },
   {
    "duration": 9,
    "start_time": "2022-03-09T14:35:01.908Z"
   },
   {
    "duration": 193,
    "start_time": "2022-03-09T14:35:01.923Z"
   },
   {
    "duration": 11,
    "start_time": "2022-03-09T14:35:02.119Z"
   },
   {
    "duration": 27,
    "start_time": "2022-03-09T14:35:02.132Z"
   },
   {
    "duration": 152,
    "start_time": "2022-03-09T14:35:02.162Z"
   },
   {
    "duration": 34,
    "start_time": "2022-03-09T14:35:02.318Z"
   },
   {
    "duration": 42,
    "start_time": "2022-03-09T14:35:02.354Z"
   },
   {
    "duration": 130,
    "start_time": "2022-03-09T14:35:02.399Z"
   },
   {
    "duration": 12,
    "start_time": "2022-03-09T14:35:02.532Z"
   },
   {
    "duration": 46,
    "start_time": "2022-03-09T14:35:02.547Z"
   },
   {
    "duration": 58,
    "start_time": "2022-03-09T14:35:02.596Z"
   },
   {
    "duration": 52,
    "start_time": "2022-03-09T14:35:02.658Z"
   },
   {
    "duration": 14,
    "start_time": "2022-03-09T14:35:02.713Z"
   },
   {
    "duration": 17,
    "start_time": "2022-03-09T14:35:02.730Z"
   },
   {
    "duration": 55,
    "start_time": "2022-03-09T14:35:02.749Z"
   },
   {
    "duration": 16,
    "start_time": "2022-03-09T14:35:02.806Z"
   },
   {
    "duration": 9,
    "start_time": "2022-03-09T14:35:02.828Z"
   },
   {
    "duration": 11,
    "start_time": "2022-03-09T14:35:02.840Z"
   },
   {
    "duration": 44,
    "start_time": "2022-03-09T14:35:02.853Z"
   },
   {
    "duration": 35,
    "start_time": "2022-03-09T14:35:02.899Z"
   },
   {
    "duration": 62,
    "start_time": "2022-03-09T14:35:02.936Z"
   },
   {
    "duration": 9,
    "start_time": "2022-03-09T14:35:03.001Z"
   },
   {
    "duration": 9,
    "start_time": "2022-03-09T14:35:03.012Z"
   },
   {
    "duration": 22,
    "start_time": "2022-03-09T14:35:03.023Z"
   },
   {
    "duration": 49,
    "start_time": "2022-03-09T14:35:03.047Z"
   },
   {
    "duration": 10,
    "start_time": "2022-03-09T14:35:03.098Z"
   },
   {
    "duration": 11,
    "start_time": "2022-03-09T14:35:03.110Z"
   },
   {
    "duration": 71,
    "start_time": "2022-03-09T14:35:03.124Z"
   },
   {
    "duration": 18,
    "start_time": "2022-03-09T14:35:03.197Z"
   },
   {
    "duration": 9,
    "start_time": "2022-03-09T14:35:03.217Z"
   },
   {
    "duration": 9,
    "start_time": "2022-03-09T14:35:03.228Z"
   },
   {
    "duration": 47,
    "start_time": "2022-03-09T14:35:03.240Z"
   },
   {
    "duration": 12,
    "start_time": "2022-03-09T14:35:03.290Z"
   },
   {
    "duration": 12,
    "start_time": "2022-03-09T14:35:03.304Z"
   },
   {
    "duration": 12,
    "start_time": "2022-03-09T14:35:03.318Z"
   },
   {
    "duration": 59,
    "start_time": "2022-03-09T14:35:03.332Z"
   },
   {
    "duration": 28,
    "start_time": "2022-03-09T14:35:03.393Z"
   },
   {
    "duration": 12,
    "start_time": "2022-03-09T14:35:03.424Z"
   },
   {
    "duration": 48,
    "start_time": "2022-03-09T14:35:03.439Z"
   },
   {
    "duration": 30,
    "start_time": "2022-03-09T14:35:03.490Z"
   },
   {
    "duration": 13,
    "start_time": "2022-03-09T14:35:03.522Z"
   },
   {
    "duration": 7,
    "start_time": "2022-03-09T14:35:03.537Z"
   },
   {
    "duration": 49,
    "start_time": "2022-03-09T14:35:03.546Z"
   },
   {
    "duration": 10,
    "start_time": "2022-03-09T14:35:03.598Z"
   },
   {
    "duration": 620,
    "start_time": "2022-03-09T14:35:03.611Z"
   },
   {
    "duration": 30,
    "start_time": "2022-03-09T14:35:04.234Z"
   },
   {
    "duration": 22,
    "start_time": "2022-03-09T14:35:04.266Z"
   },
   {
    "duration": 18,
    "start_time": "2022-03-09T14:35:04.290Z"
   },
   {
    "duration": 14,
    "start_time": "2022-03-09T14:35:04.310Z"
   },
   {
    "duration": 508,
    "start_time": "2022-03-09T14:35:04.327Z"
   },
   {
    "duration": 17,
    "start_time": "2022-03-09T14:35:04.838Z"
   },
   {
    "duration": 42,
    "start_time": "2022-03-09T14:35:04.858Z"
   },
   {
    "duration": 479,
    "start_time": "2022-03-09T14:35:04.903Z"
   },
   {
    "duration": 18,
    "start_time": "2022-03-09T14:35:05.385Z"
   },
   {
    "duration": 17,
    "start_time": "2022-03-09T14:35:05.406Z"
   },
   {
    "duration": 498,
    "start_time": "2022-03-09T14:35:05.426Z"
   },
   {
    "duration": 15,
    "start_time": "2022-03-09T14:35:05.928Z"
   },
   {
    "duration": 53,
    "start_time": "2022-03-09T14:35:05.945Z"
   },
   {
    "duration": 6,
    "start_time": "2022-03-09T14:46:54.792Z"
   },
   {
    "duration": 432,
    "start_time": "2022-03-09T14:46:56.599Z"
   },
   {
    "duration": 28,
    "start_time": "2022-03-09T14:46:57.713Z"
   },
   {
    "duration": 1356,
    "start_time": "2022-03-09T14:47:08.203Z"
   },
   {
    "duration": 202,
    "start_time": "2022-03-09T14:47:09.561Z"
   },
   {
    "duration": 24,
    "start_time": "2022-03-09T14:47:09.766Z"
   },
   {
    "duration": 38,
    "start_time": "2022-03-09T14:47:09.793Z"
   },
   {
    "duration": 154,
    "start_time": "2022-03-09T14:47:09.834Z"
   },
   {
    "duration": 39,
    "start_time": "2022-03-09T14:47:09.990Z"
   },
   {
    "duration": 6,
    "start_time": "2022-03-09T14:47:10.032Z"
   },
   {
    "duration": 202,
    "start_time": "2022-03-09T14:47:10.043Z"
   },
   {
    "duration": 11,
    "start_time": "2022-03-09T14:47:10.248Z"
   },
   {
    "duration": 42,
    "start_time": "2022-03-09T14:47:10.262Z"
   },
   {
    "duration": 120,
    "start_time": "2022-03-09T14:47:10.306Z"
   },
   {
    "duration": 29,
    "start_time": "2022-03-09T14:47:10.429Z"
   },
   {
    "duration": 27,
    "start_time": "2022-03-09T14:47:10.461Z"
   },
   {
    "duration": 130,
    "start_time": "2022-03-09T14:47:10.491Z"
   },
   {
    "duration": 10,
    "start_time": "2022-03-09T14:47:10.623Z"
   },
   {
    "duration": 23,
    "start_time": "2022-03-09T14:47:10.635Z"
   },
   {
    "duration": 80,
    "start_time": "2022-03-09T14:47:10.661Z"
   },
   {
    "duration": 50,
    "start_time": "2022-03-09T14:47:10.744Z"
   },
   {
    "duration": 12,
    "start_time": "2022-03-09T14:47:10.796Z"
   },
   {
    "duration": 16,
    "start_time": "2022-03-09T14:47:10.811Z"
   },
   {
    "duration": 22,
    "start_time": "2022-03-09T14:47:10.829Z"
   },
   {
    "duration": 16,
    "start_time": "2022-03-09T14:47:10.853Z"
   },
   {
    "duration": 11,
    "start_time": "2022-03-09T14:47:10.891Z"
   },
   {
    "duration": 16,
    "start_time": "2022-03-09T14:47:10.906Z"
   },
   {
    "duration": 10,
    "start_time": "2022-03-09T14:47:10.925Z"
   },
   {
    "duration": 75,
    "start_time": "2022-03-09T14:47:10.939Z"
   },
   {
    "duration": 31,
    "start_time": "2022-03-09T14:47:11.017Z"
   },
   {
    "duration": 40,
    "start_time": "2022-03-09T14:47:11.051Z"
   },
   {
    "duration": 12,
    "start_time": "2022-03-09T14:47:11.094Z"
   },
   {
    "duration": 24,
    "start_time": "2022-03-09T14:47:11.109Z"
   },
   {
    "duration": 68,
    "start_time": "2022-03-09T14:47:11.136Z"
   },
   {
    "duration": 12,
    "start_time": "2022-03-09T14:47:11.206Z"
   },
   {
    "duration": 12,
    "start_time": "2022-03-09T14:47:11.221Z"
   },
   {
    "duration": 76,
    "start_time": "2022-03-09T14:47:11.236Z"
   },
   {
    "duration": 23,
    "start_time": "2022-03-09T14:47:11.314Z"
   },
   {
    "duration": 47,
    "start_time": "2022-03-09T14:47:11.340Z"
   },
   {
    "duration": 10,
    "start_time": "2022-03-09T14:47:11.390Z"
   },
   {
    "duration": 10,
    "start_time": "2022-03-09T14:47:11.402Z"
   },
   {
    "duration": 10,
    "start_time": "2022-03-09T14:47:11.415Z"
   },
   {
    "duration": 59,
    "start_time": "2022-03-09T14:47:11.428Z"
   },
   {
    "duration": 14,
    "start_time": "2022-03-09T14:47:11.489Z"
   },
   {
    "duration": 10,
    "start_time": "2022-03-09T14:47:11.505Z"
   },
   {
    "duration": 30,
    "start_time": "2022-03-09T14:47:11.517Z"
   },
   {
    "duration": 50,
    "start_time": "2022-03-09T14:47:11.549Z"
   },
   {
    "duration": 8,
    "start_time": "2022-03-09T14:47:11.601Z"
   },
   {
    "duration": 37,
    "start_time": "2022-03-09T14:47:11.611Z"
   },
   {
    "duration": 16,
    "start_time": "2022-03-09T14:47:11.686Z"
   },
   {
    "duration": 9,
    "start_time": "2022-03-09T14:47:11.706Z"
   },
   {
    "duration": 15,
    "start_time": "2022-03-09T14:47:11.719Z"
   },
   {
    "duration": 53,
    "start_time": "2022-03-09T14:47:11.737Z"
   },
   {
    "duration": 464,
    "start_time": "2022-03-09T14:47:11.793Z"
   },
   {
    "duration": 47,
    "start_time": "2022-03-09T14:47:12.259Z"
   },
   {
    "duration": 4,
    "start_time": "2022-03-09T14:47:12.308Z"
   },
   {
    "duration": 21,
    "start_time": "2022-03-09T14:47:12.314Z"
   },
   {
    "duration": 13,
    "start_time": "2022-03-09T14:47:12.338Z"
   },
   {
    "duration": 650,
    "start_time": "2022-03-09T14:47:12.353Z"
   },
   {
    "duration": 16,
    "start_time": "2022-03-09T14:47:13.005Z"
   },
   {
    "duration": 14,
    "start_time": "2022-03-09T14:47:13.023Z"
   },
   {
    "duration": 488,
    "start_time": "2022-03-09T14:47:13.040Z"
   },
   {
    "duration": 14,
    "start_time": "2022-03-09T14:47:13.530Z"
   },
   {
    "duration": 42,
    "start_time": "2022-03-09T14:47:13.546Z"
   },
   {
    "duration": 448,
    "start_time": "2022-03-09T14:47:13.590Z"
   },
   {
    "duration": 18,
    "start_time": "2022-03-09T14:47:14.041Z"
   },
   {
    "duration": 24,
    "start_time": "2022-03-09T14:50:51.676Z"
   },
   {
    "duration": 25,
    "start_time": "2022-03-09T14:53:59.378Z"
   },
   {
    "duration": 393,
    "start_time": "2022-03-09T15:07:42.937Z"
   },
   {
    "duration": 13,
    "start_time": "2022-03-09T15:07:57.048Z"
   },
   {
    "duration": 10,
    "start_time": "2022-03-09T15:08:25.692Z"
   },
   {
    "duration": 10,
    "start_time": "2022-03-09T15:08:54.594Z"
   },
   {
    "duration": 29,
    "start_time": "2022-03-09T15:12:03.641Z"
   },
   {
    "duration": 1376,
    "start_time": "2022-03-09T15:30:56.073Z"
   },
   {
    "duration": 215,
    "start_time": "2022-03-09T15:30:57.452Z"
   },
   {
    "duration": 18,
    "start_time": "2022-03-09T15:30:57.670Z"
   },
   {
    "duration": 34,
    "start_time": "2022-03-09T15:30:57.691Z"
   },
   {
    "duration": 146,
    "start_time": "2022-03-09T15:30:57.727Z"
   },
   {
    "duration": 43,
    "start_time": "2022-03-09T15:30:57.876Z"
   },
   {
    "duration": 7,
    "start_time": "2022-03-09T15:30:57.921Z"
   },
   {
    "duration": 187,
    "start_time": "2022-03-09T15:30:57.932Z"
   },
   {
    "duration": 11,
    "start_time": "2022-03-09T15:30:58.122Z"
   },
   {
    "duration": 25,
    "start_time": "2022-03-09T15:30:58.135Z"
   },
   {
    "duration": 125,
    "start_time": "2022-03-09T15:30:58.187Z"
   },
   {
    "duration": 32,
    "start_time": "2022-03-09T15:30:58.315Z"
   },
   {
    "duration": 37,
    "start_time": "2022-03-09T15:30:58.350Z"
   },
   {
    "duration": 127,
    "start_time": "2022-03-09T15:30:58.390Z"
   },
   {
    "duration": 10,
    "start_time": "2022-03-09T15:30:58.520Z"
   },
   {
    "duration": 22,
    "start_time": "2022-03-09T15:30:58.532Z"
   },
   {
    "duration": 79,
    "start_time": "2022-03-09T15:30:58.557Z"
   },
   {
    "duration": 23,
    "start_time": "2022-03-09T15:30:58.639Z"
   },
   {
    "duration": 13,
    "start_time": "2022-03-09T15:30:58.687Z"
   },
   {
    "duration": 15,
    "start_time": "2022-03-09T15:30:58.702Z"
   },
   {
    "duration": 20,
    "start_time": "2022-03-09T15:30:58.719Z"
   },
   {
    "duration": 14,
    "start_time": "2022-03-09T15:30:58.742Z"
   },
   {
    "duration": 9,
    "start_time": "2022-03-09T15:30:58.787Z"
   },
   {
    "duration": 12,
    "start_time": "2022-03-09T15:30:58.800Z"
   },
   {
    "duration": 9,
    "start_time": "2022-03-09T15:30:58.815Z"
   },
   {
    "duration": 74,
    "start_time": "2022-03-09T15:30:58.826Z"
   },
   {
    "duration": 29,
    "start_time": "2022-03-09T15:30:58.902Z"
   },
   {
    "duration": 10,
    "start_time": "2022-03-09T15:30:58.934Z"
   },
   {
    "duration": 11,
    "start_time": "2022-03-09T15:30:58.946Z"
   },
   {
    "duration": 21,
    "start_time": "2022-03-09T15:30:58.987Z"
   },
   {
    "duration": 15,
    "start_time": "2022-03-09T15:30:59.011Z"
   },
   {
    "duration": 9,
    "start_time": "2022-03-09T15:30:59.029Z"
   },
   {
    "duration": 52,
    "start_time": "2022-03-09T15:30:59.041Z"
   },
   {
    "duration": 26,
    "start_time": "2022-03-09T15:30:59.096Z"
   },
   {
    "duration": 18,
    "start_time": "2022-03-09T15:30:59.125Z"
   },
   {
    "duration": 42,
    "start_time": "2022-03-09T15:30:59.145Z"
   },
   {
    "duration": 10,
    "start_time": "2022-03-09T15:30:59.189Z"
   },
   {
    "duration": 11,
    "start_time": "2022-03-09T15:30:59.201Z"
   },
   {
    "duration": 14,
    "start_time": "2022-03-09T15:30:59.215Z"
   },
   {
    "duration": 60,
    "start_time": "2022-03-09T15:30:59.231Z"
   },
   {
    "duration": 12,
    "start_time": "2022-03-09T15:30:59.294Z"
   },
   {
    "duration": 9,
    "start_time": "2022-03-09T15:30:59.308Z"
   },
   {
    "duration": 68,
    "start_time": "2022-03-09T15:30:59.319Z"
   },
   {
    "duration": 14,
    "start_time": "2022-03-09T15:30:59.390Z"
   },
   {
    "duration": 11,
    "start_time": "2022-03-09T15:30:59.406Z"
   },
   {
    "duration": 29,
    "start_time": "2022-03-09T15:30:59.420Z"
   },
   {
    "duration": 45,
    "start_time": "2022-03-09T15:30:59.451Z"
   },
   {
    "duration": 6,
    "start_time": "2022-03-09T15:30:59.499Z"
   },
   {
    "duration": 16,
    "start_time": "2022-03-09T15:30:59.507Z"
   },
   {
    "duration": 6,
    "start_time": "2022-03-09T15:30:59.526Z"
   },
   {
    "duration": 472,
    "start_time": "2022-03-09T15:30:59.534Z"
   },
   {
    "duration": 30,
    "start_time": "2022-03-09T15:31:00.008Z"
   },
   {
    "duration": 9,
    "start_time": "2022-03-09T15:31:00.040Z"
   },
   {
    "duration": 45,
    "start_time": "2022-03-09T15:31:00.051Z"
   },
   {
    "duration": 14,
    "start_time": "2022-03-09T15:31:00.098Z"
   },
   {
    "duration": 489,
    "start_time": "2022-03-09T15:31:00.114Z"
   },
   {
    "duration": 13,
    "start_time": "2022-03-09T15:31:00.606Z"
   },
   {
    "duration": 14,
    "start_time": "2022-03-09T15:31:00.622Z"
   },
   {
    "duration": 476,
    "start_time": "2022-03-09T15:31:00.639Z"
   },
   {
    "duration": 16,
    "start_time": "2022-03-09T15:31:01.117Z"
   },
   {
    "duration": 19,
    "start_time": "2022-03-09T15:31:01.135Z"
   },
   {
    "duration": 470,
    "start_time": "2022-03-09T15:31:01.156Z"
   },
   {
    "duration": 23,
    "start_time": "2022-03-09T15:31:01.629Z"
   },
   {
    "duration": 38,
    "start_time": "2022-03-09T15:31:01.654Z"
   },
   {
    "duration": 33,
    "start_time": "2022-03-09T15:31:01.694Z"
   },
   {
    "duration": 1925,
    "start_time": "2022-03-17T19:41:29.844Z"
   },
   {
    "duration": 293,
    "start_time": "2022-03-17T19:41:31.772Z"
   },
   {
    "duration": 21,
    "start_time": "2022-03-17T19:41:32.067Z"
   },
   {
    "duration": 63,
    "start_time": "2022-03-17T19:41:32.091Z"
   },
   {
    "duration": 173,
    "start_time": "2022-03-17T19:41:32.157Z"
   },
   {
    "duration": 52,
    "start_time": "2022-03-17T19:41:32.332Z"
   },
   {
    "duration": 8,
    "start_time": "2022-03-17T19:41:32.386Z"
   },
   {
    "duration": 217,
    "start_time": "2022-03-17T19:41:32.397Z"
   },
   {
    "duration": 13,
    "start_time": "2022-03-17T19:41:32.617Z"
   },
   {
    "duration": 31,
    "start_time": "2022-03-17T19:41:32.646Z"
   },
   {
    "duration": 150,
    "start_time": "2022-03-17T19:41:32.679Z"
   },
   {
    "duration": 39,
    "start_time": "2022-03-17T19:41:32.831Z"
   },
   {
    "duration": 12,
    "start_time": "2022-03-17T19:41:32.873Z"
   },
   {
    "duration": 143,
    "start_time": "2022-03-17T19:41:32.888Z"
   },
   {
    "duration": 17,
    "start_time": "2022-03-17T19:41:33.033Z"
   },
   {
    "duration": 30,
    "start_time": "2022-03-17T19:41:33.052Z"
   },
   {
    "duration": 102,
    "start_time": "2022-03-17T19:41:33.084Z"
   },
   {
    "duration": 30,
    "start_time": "2022-03-17T19:41:33.188Z"
   },
   {
    "duration": 27,
    "start_time": "2022-03-17T19:41:33.221Z"
   },
   {
    "duration": 15,
    "start_time": "2022-03-17T19:41:33.251Z"
   },
   {
    "duration": 58,
    "start_time": "2022-03-17T19:41:33.268Z"
   },
   {
    "duration": 22,
    "start_time": "2022-03-17T19:41:33.328Z"
   },
   {
    "duration": 28,
    "start_time": "2022-03-17T19:41:33.353Z"
   },
   {
    "duration": 11,
    "start_time": "2022-03-17T19:41:33.383Z"
   },
   {
    "duration": 11,
    "start_time": "2022-03-17T19:41:33.397Z"
   },
   {
    "duration": 68,
    "start_time": "2022-03-17T19:41:33.411Z"
   },
   {
    "duration": 61,
    "start_time": "2022-03-17T19:41:33.482Z"
   },
   {
    "duration": 15,
    "start_time": "2022-03-17T19:41:33.552Z"
   },
   {
    "duration": 26,
    "start_time": "2022-03-17T19:41:33.569Z"
   },
   {
    "duration": 45,
    "start_time": "2022-03-17T19:41:33.598Z"
   },
   {
    "duration": 21,
    "start_time": "2022-03-17T19:41:33.646Z"
   },
   {
    "duration": 45,
    "start_time": "2022-03-17T19:41:33.669Z"
   },
   {
    "duration": 19,
    "start_time": "2022-03-17T19:41:33.718Z"
   },
   {
    "duration": 42,
    "start_time": "2022-03-17T19:41:33.740Z"
   },
   {
    "duration": 25,
    "start_time": "2022-03-17T19:41:33.785Z"
   },
   {
    "duration": 9,
    "start_time": "2022-03-17T19:41:33.813Z"
   },
   {
    "duration": 21,
    "start_time": "2022-03-17T19:41:33.825Z"
   },
   {
    "duration": 18,
    "start_time": "2022-03-17T19:41:33.849Z"
   },
   {
    "duration": 16,
    "start_time": "2022-03-17T19:41:33.869Z"
   },
   {
    "duration": 13,
    "start_time": "2022-03-17T19:41:33.888Z"
   },
   {
    "duration": 48,
    "start_time": "2022-03-17T19:41:33.903Z"
   },
   {
    "duration": 21,
    "start_time": "2022-03-17T19:41:33.953Z"
   },
   {
    "duration": 35,
    "start_time": "2022-03-17T19:41:33.977Z"
   },
   {
    "duration": 46,
    "start_time": "2022-03-17T19:41:34.015Z"
   },
   {
    "duration": 12,
    "start_time": "2022-03-17T19:41:34.064Z"
   },
   {
    "duration": 38,
    "start_time": "2022-03-17T19:41:34.078Z"
   },
   {
    "duration": 43,
    "start_time": "2022-03-17T19:41:34.119Z"
   },
   {
    "duration": 15,
    "start_time": "2022-03-17T19:41:34.165Z"
   },
   {
    "duration": 24,
    "start_time": "2022-03-17T19:41:34.182Z"
   },
   {
    "duration": 35,
    "start_time": "2022-03-17T19:41:34.209Z"
   },
   {
    "duration": 251,
    "start_time": "2022-03-17T19:41:34.246Z"
   },
   {
    "duration": 30,
    "start_time": "2022-03-17T19:41:34.500Z"
   },
   {
    "duration": 5,
    "start_time": "2022-03-17T19:41:34.542Z"
   },
   {
    "duration": 22,
    "start_time": "2022-03-17T19:41:34.549Z"
   },
   {
    "duration": 22,
    "start_time": "2022-03-17T19:41:34.573Z"
   },
   {
    "duration": 391,
    "start_time": "2022-03-17T19:41:34.597Z"
   },
   {
    "duration": 17,
    "start_time": "2022-03-17T19:41:34.990Z"
   },
   {
    "duration": 42,
    "start_time": "2022-03-17T19:41:35.010Z"
   },
   {
    "duration": 332,
    "start_time": "2022-03-17T19:41:35.055Z"
   },
   {
    "duration": 15,
    "start_time": "2022-03-17T19:41:35.389Z"
   },
   {
    "duration": 42,
    "start_time": "2022-03-17T19:41:35.407Z"
   },
   {
    "duration": 320,
    "start_time": "2022-03-17T19:41:35.451Z"
   },
   {
    "duration": 27,
    "start_time": "2022-03-17T19:41:35.773Z"
   },
   {
    "duration": 9,
    "start_time": "2022-03-17T19:41:35.802Z"
   },
   {
    "duration": 46,
    "start_time": "2022-03-17T19:41:35.814Z"
   },
   {
    "duration": 112,
    "start_time": "2022-03-23T14:16:52.717Z"
   },
   {
    "duration": 1833,
    "start_time": "2022-03-23T14:17:07.447Z"
   },
   {
    "duration": 281,
    "start_time": "2022-03-23T14:17:09.283Z"
   },
   {
    "duration": 16,
    "start_time": "2022-03-23T14:17:09.566Z"
   },
   {
    "duration": 47,
    "start_time": "2022-03-23T14:17:09.585Z"
   },
   {
    "duration": 166,
    "start_time": "2022-03-23T14:17:09.643Z"
   },
   {
    "duration": 60,
    "start_time": "2022-03-23T14:17:09.811Z"
   },
   {
    "duration": 7,
    "start_time": "2022-03-23T14:17:09.873Z"
   },
   {
    "duration": 219,
    "start_time": "2022-03-23T14:17:09.882Z"
   },
   {
    "duration": 12,
    "start_time": "2022-03-23T14:17:10.103Z"
   },
   {
    "duration": 54,
    "start_time": "2022-03-23T14:17:10.119Z"
   },
   {
    "duration": 95,
    "start_time": "2022-03-23T14:17:10.175Z"
   },
   {
    "duration": 56,
    "start_time": "2022-03-23T14:17:10.273Z"
   },
   {
    "duration": 266,
    "start_time": "2022-03-23T14:17:10.343Z"
   },
   {
    "duration": 0,
    "start_time": "2022-03-23T14:17:10.616Z"
   },
   {
    "duration": 0,
    "start_time": "2022-03-23T14:17:10.618Z"
   },
   {
    "duration": 0,
    "start_time": "2022-03-23T14:17:10.620Z"
   },
   {
    "duration": 0,
    "start_time": "2022-03-23T14:17:10.623Z"
   },
   {
    "duration": 0,
    "start_time": "2022-03-23T14:17:10.643Z"
   },
   {
    "duration": 0,
    "start_time": "2022-03-23T14:17:10.645Z"
   },
   {
    "duration": 0,
    "start_time": "2022-03-23T14:17:10.647Z"
   },
   {
    "duration": 0,
    "start_time": "2022-03-23T14:17:10.650Z"
   },
   {
    "duration": 0,
    "start_time": "2022-03-23T14:17:10.652Z"
   },
   {
    "duration": 0,
    "start_time": "2022-03-23T14:17:10.654Z"
   },
   {
    "duration": 0,
    "start_time": "2022-03-23T14:17:10.655Z"
   },
   {
    "duration": 0,
    "start_time": "2022-03-23T14:17:10.656Z"
   },
   {
    "duration": 0,
    "start_time": "2022-03-23T14:17:10.658Z"
   },
   {
    "duration": 0,
    "start_time": "2022-03-23T14:17:10.659Z"
   },
   {
    "duration": 0,
    "start_time": "2022-03-23T14:17:10.661Z"
   },
   {
    "duration": 0,
    "start_time": "2022-03-23T14:17:10.662Z"
   },
   {
    "duration": 0,
    "start_time": "2022-03-23T14:17:10.663Z"
   },
   {
    "duration": 0,
    "start_time": "2022-03-23T14:17:10.665Z"
   },
   {
    "duration": 0,
    "start_time": "2022-03-23T14:17:10.666Z"
   },
   {
    "duration": 0,
    "start_time": "2022-03-23T14:17:10.668Z"
   },
   {
    "duration": 0,
    "start_time": "2022-03-23T14:17:10.670Z"
   },
   {
    "duration": 0,
    "start_time": "2022-03-23T14:17:10.671Z"
   },
   {
    "duration": 0,
    "start_time": "2022-03-23T14:17:10.672Z"
   },
   {
    "duration": 0,
    "start_time": "2022-03-23T14:17:10.674Z"
   },
   {
    "duration": 0,
    "start_time": "2022-03-23T14:17:10.676Z"
   },
   {
    "duration": 0,
    "start_time": "2022-03-23T14:17:10.678Z"
   },
   {
    "duration": 0,
    "start_time": "2022-03-23T14:17:10.679Z"
   },
   {
    "duration": 0,
    "start_time": "2022-03-23T14:17:10.680Z"
   },
   {
    "duration": 0,
    "start_time": "2022-03-23T14:17:10.744Z"
   },
   {
    "duration": 0,
    "start_time": "2022-03-23T14:17:10.745Z"
   },
   {
    "duration": 0,
    "start_time": "2022-03-23T14:17:10.747Z"
   },
   {
    "duration": 0,
    "start_time": "2022-03-23T14:17:10.748Z"
   },
   {
    "duration": 0,
    "start_time": "2022-03-23T14:17:10.750Z"
   },
   {
    "duration": 0,
    "start_time": "2022-03-23T14:17:10.751Z"
   },
   {
    "duration": 0,
    "start_time": "2022-03-23T14:17:10.752Z"
   },
   {
    "duration": 1,
    "start_time": "2022-03-23T14:17:10.753Z"
   },
   {
    "duration": 0,
    "start_time": "2022-03-23T14:17:10.755Z"
   },
   {
    "duration": 0,
    "start_time": "2022-03-23T14:17:10.756Z"
   },
   {
    "duration": 0,
    "start_time": "2022-03-23T14:17:10.758Z"
   },
   {
    "duration": 0,
    "start_time": "2022-03-23T14:17:10.760Z"
   },
   {
    "duration": 0,
    "start_time": "2022-03-23T14:17:10.762Z"
   },
   {
    "duration": 0,
    "start_time": "2022-03-23T14:17:10.764Z"
   },
   {
    "duration": 0,
    "start_time": "2022-03-23T14:17:10.766Z"
   },
   {
    "duration": 1,
    "start_time": "2022-03-23T14:17:10.768Z"
   },
   {
    "duration": 0,
    "start_time": "2022-03-23T14:17:10.770Z"
   },
   {
    "duration": 0,
    "start_time": "2022-03-23T14:17:10.772Z"
   },
   {
    "duration": 0,
    "start_time": "2022-03-23T14:17:10.774Z"
   },
   {
    "duration": 0,
    "start_time": "2022-03-23T14:17:10.775Z"
   },
   {
    "duration": 0,
    "start_time": "2022-03-23T14:17:10.777Z"
   },
   {
    "duration": 0,
    "start_time": "2022-03-23T14:17:10.778Z"
   },
   {
    "duration": 0,
    "start_time": "2022-03-23T14:17:10.843Z"
   },
   {
    "duration": 0,
    "start_time": "2022-03-23T14:17:10.844Z"
   },
   {
    "duration": 4,
    "start_time": "2022-03-23T14:17:43.278Z"
   },
   {
    "duration": 217,
    "start_time": "2022-03-23T14:18:46.190Z"
   },
   {
    "duration": 111,
    "start_time": "2022-03-23T14:46:48.117Z"
   },
   {
    "duration": 9,
    "start_time": "2022-03-23T14:46:49.415Z"
   },
   {
    "duration": 26,
    "start_time": "2022-03-23T14:46:50.584Z"
   },
   {
    "duration": 70,
    "start_time": "2022-03-23T14:47:01.904Z"
   },
   {
    "duration": 30,
    "start_time": "2022-03-23T14:47:10.961Z"
   },
   {
    "duration": 16,
    "start_time": "2022-03-23T14:47:13.393Z"
   },
   {
    "duration": 11,
    "start_time": "2022-03-23T14:47:14.485Z"
   },
   {
    "duration": 28,
    "start_time": "2022-03-23T14:47:59.485Z"
   },
   {
    "duration": 12,
    "start_time": "2022-03-23T14:47:59.885Z"
   },
   {
    "duration": 57,
    "start_time": "2022-03-23T14:48:00.163Z"
   },
   {
    "duration": 15,
    "start_time": "2022-03-23T14:48:02.600Z"
   },
   {
    "duration": 15,
    "start_time": "2022-03-23T14:48:02.947Z"
   },
   {
    "duration": 10,
    "start_time": "2022-03-23T14:48:05.353Z"
   },
   {
    "duration": 8,
    "start_time": "2022-03-23T14:48:09.023Z"
   },
   {
    "duration": 33,
    "start_time": "2022-03-23T14:49:52.497Z"
   },
   {
    "duration": 25,
    "start_time": "2022-03-23T14:49:52.916Z"
   },
   {
    "duration": 10,
    "start_time": "2022-03-23T14:49:54.378Z"
   },
   {
    "duration": 16,
    "start_time": "2022-03-23T14:49:57.618Z"
   },
   {
    "duration": 21,
    "start_time": "2022-03-23T14:49:58.564Z"
   },
   {
    "duration": 14,
    "start_time": "2022-03-23T14:50:00.416Z"
   },
   {
    "duration": 17,
    "start_time": "2022-03-23T14:54:14.159Z"
   },
   {
    "duration": 11,
    "start_time": "2022-03-23T14:54:53.038Z"
   },
   {
    "duration": 14,
    "start_time": "2022-03-23T14:54:56.182Z"
   },
   {
    "duration": 24,
    "start_time": "2022-03-23T14:55:06.553Z"
   },
   {
    "duration": 18,
    "start_time": "2022-03-23T14:55:12.716Z"
   },
   {
    "duration": 10,
    "start_time": "2022-03-23T14:56:46.941Z"
   },
   {
    "duration": 221,
    "start_time": "2022-03-23T14:57:18.686Z"
   },
   {
    "duration": 10,
    "start_time": "2022-03-23T14:57:44.864Z"
   },
   {
    "duration": 15,
    "start_time": "2022-03-23T14:57:47.519Z"
   },
   {
    "duration": 12,
    "start_time": "2022-03-23T14:57:57.993Z"
   },
   {
    "duration": 13,
    "start_time": "2022-03-23T14:57:59.099Z"
   },
   {
    "duration": 13,
    "start_time": "2022-03-23T14:58:05.005Z"
   },
   {
    "duration": 12,
    "start_time": "2022-03-23T14:58:05.452Z"
   },
   {
    "duration": 12,
    "start_time": "2022-03-23T14:59:56.110Z"
   },
   {
    "duration": 20,
    "start_time": "2022-03-23T15:00:19.050Z"
   },
   {
    "duration": 13,
    "start_time": "2022-03-23T15:00:36.823Z"
   },
   {
    "duration": 29,
    "start_time": "2022-03-23T15:01:29.354Z"
   },
   {
    "duration": 3553,
    "start_time": "2022-03-23T15:02:27.557Z"
   },
   {
    "duration": 3322,
    "start_time": "2022-03-23T15:03:29.226Z"
   },
   {
    "duration": 23,
    "start_time": "2022-03-23T15:03:35.662Z"
   },
   {
    "duration": 4823,
    "start_time": "2022-03-23T15:04:39.967Z"
   },
   {
    "duration": 879,
    "start_time": "2022-03-23T15:04:44.793Z"
   },
   {
    "duration": 5407,
    "start_time": "2022-03-23T15:04:45.674Z"
   },
   {
    "duration": 7003,
    "start_time": "2022-03-23T15:04:51.084Z"
   },
   {
    "duration": 2955,
    "start_time": "2022-03-23T15:04:58.089Z"
   },
   {
    "duration": 75,
    "start_time": "2022-03-23T15:05:01.046Z"
   },
   {
    "duration": 26,
    "start_time": "2022-03-23T15:05:01.124Z"
   },
   {
    "duration": 259,
    "start_time": "2022-03-23T15:05:01.152Z"
   },
   {
    "duration": 14,
    "start_time": "2022-03-23T15:05:01.414Z"
   },
   {
    "duration": 44,
    "start_time": "2022-03-23T15:05:01.430Z"
   },
   {
    "duration": 113,
    "start_time": "2022-03-23T15:05:01.477Z"
   },
   {
    "duration": 53,
    "start_time": "2022-03-23T15:05:01.596Z"
   },
   {
    "duration": 4,
    "start_time": "2022-03-23T15:05:01.652Z"
   },
   {
    "duration": 164,
    "start_time": "2022-03-23T15:05:01.658Z"
   },
   {
    "duration": 19,
    "start_time": "2022-03-23T15:05:01.824Z"
   },
   {
    "duration": 68,
    "start_time": "2022-03-23T15:05:01.845Z"
   },
   {
    "duration": 75,
    "start_time": "2022-03-23T15:05:01.915Z"
   },
   {
    "duration": 32,
    "start_time": "2022-03-23T15:05:01.993Z"
   },
   {
    "duration": 17,
    "start_time": "2022-03-23T15:05:02.028Z"
   },
   {
    "duration": 20,
    "start_time": "2022-03-23T15:05:02.047Z"
   },
   {
    "duration": 70,
    "start_time": "2022-03-23T15:05:02.070Z"
   },
   {
    "duration": 18,
    "start_time": "2022-03-23T15:05:02.144Z"
   },
   {
    "duration": 24,
    "start_time": "2022-03-23T15:05:02.164Z"
   },
   {
    "duration": 22,
    "start_time": "2022-03-23T15:05:02.191Z"
   },
   {
    "duration": 29,
    "start_time": "2022-03-23T15:05:02.215Z"
   },
   {
    "duration": 42,
    "start_time": "2022-03-23T15:05:02.247Z"
   },
   {
    "duration": 27,
    "start_time": "2022-03-23T15:05:02.291Z"
   },
   {
    "duration": 29,
    "start_time": "2022-03-23T15:05:02.320Z"
   },
   {
    "duration": 25,
    "start_time": "2022-03-23T15:05:02.352Z"
   },
   {
    "duration": 30,
    "start_time": "2022-03-23T15:05:02.381Z"
   },
   {
    "duration": 38,
    "start_time": "2022-03-23T15:05:02.414Z"
   },
   {
    "duration": 11,
    "start_time": "2022-03-23T15:05:02.455Z"
   },
   {
    "duration": 34,
    "start_time": "2022-03-23T15:05:02.468Z"
   },
   {
    "duration": 45,
    "start_time": "2022-03-23T15:05:02.505Z"
   },
   {
    "duration": 18,
    "start_time": "2022-03-23T15:05:02.553Z"
   },
   {
    "duration": 13,
    "start_time": "2022-03-23T15:05:02.574Z"
   },
   {
    "duration": 12,
    "start_time": "2022-03-23T15:05:02.590Z"
   },
   {
    "duration": 46,
    "start_time": "2022-03-23T15:05:02.605Z"
   },
   {
    "duration": 17,
    "start_time": "2022-03-23T15:05:02.654Z"
   },
   {
    "duration": 12,
    "start_time": "2022-03-23T15:05:02.673Z"
   },
   {
    "duration": 13,
    "start_time": "2022-03-23T15:05:02.687Z"
   },
   {
    "duration": 47,
    "start_time": "2022-03-23T15:05:02.703Z"
   },
   {
    "duration": 29,
    "start_time": "2022-03-23T15:05:02.752Z"
   },
   {
    "duration": 26,
    "start_time": "2022-03-23T15:05:02.789Z"
   },
   {
    "duration": 31,
    "start_time": "2022-03-23T15:05:02.818Z"
   },
   {
    "duration": 22,
    "start_time": "2022-03-23T15:05:02.852Z"
   },
   {
    "duration": 29,
    "start_time": "2022-03-23T15:05:02.877Z"
   },
   {
    "duration": 9,
    "start_time": "2022-03-23T15:05:02.909Z"
   },
   {
    "duration": 40,
    "start_time": "2022-03-23T15:05:02.920Z"
   },
   {
    "duration": 8,
    "start_time": "2022-03-23T15:05:02.962Z"
   },
   {
    "duration": 327,
    "start_time": "2022-03-23T15:05:02.973Z"
   },
   {
    "duration": 46,
    "start_time": "2022-03-23T15:05:03.303Z"
   },
   {
    "duration": 5,
    "start_time": "2022-03-23T15:05:03.352Z"
   },
   {
    "duration": 24,
    "start_time": "2022-03-23T15:05:03.359Z"
   },
   {
    "duration": 23,
    "start_time": "2022-03-23T15:05:03.387Z"
   },
   {
    "duration": 423,
    "start_time": "2022-03-23T15:05:03.413Z"
   },
   {
    "duration": 16,
    "start_time": "2022-03-23T15:05:03.839Z"
   },
   {
    "duration": 19,
    "start_time": "2022-03-23T15:05:03.857Z"
   },
   {
    "duration": 356,
    "start_time": "2022-03-23T15:05:03.879Z"
   },
   {
    "duration": 16,
    "start_time": "2022-03-23T15:05:04.242Z"
   },
   {
    "duration": 24,
    "start_time": "2022-03-23T15:05:04.260Z"
   },
   {
    "duration": 362,
    "start_time": "2022-03-23T15:05:04.286Z"
   },
   {
    "duration": 35,
    "start_time": "2022-03-23T15:05:04.650Z"
   },
   {
    "duration": 11,
    "start_time": "2022-03-23T15:05:04.688Z"
   },
   {
    "duration": 58,
    "start_time": "2022-03-23T15:05:04.701Z"
   },
   {
    "duration": 6,
    "start_time": "2022-03-23T15:06:38.053Z"
   },
   {
    "duration": 2530,
    "start_time": "2022-03-23T15:06:44.804Z"
   },
   {
    "duration": 2612,
    "start_time": "2022-03-23T15:06:47.337Z"
   },
   {
    "duration": 29,
    "start_time": "2022-03-23T15:07:00.555Z"
   },
   {
    "duration": 405,
    "start_time": "2022-03-23T15:15:39.207Z"
   },
   {
    "duration": 343,
    "start_time": "2022-03-23T15:16:10.349Z"
   },
   {
    "duration": 320,
    "start_time": "2022-03-23T15:16:26.168Z"
   },
   {
    "duration": 329,
    "start_time": "2022-03-23T15:18:11.578Z"
   },
   {
    "duration": 334,
    "start_time": "2022-03-23T15:18:44.053Z"
   },
   {
    "duration": 429,
    "start_time": "2022-03-23T15:19:01.608Z"
   },
   {
    "duration": 323,
    "start_time": "2022-03-23T15:19:17.913Z"
   },
   {
    "duration": 326,
    "start_time": "2022-03-23T15:19:27.445Z"
   },
   {
    "duration": 322,
    "start_time": "2022-03-23T15:22:47.565Z"
   },
   {
    "duration": 330,
    "start_time": "2022-03-23T15:23:43.687Z"
   },
   {
    "duration": 15,
    "start_time": "2022-03-23T15:28:54.401Z"
   },
   {
    "duration": 14,
    "start_time": "2022-03-23T15:29:14.221Z"
   }
  ],
  "kernelspec": {
   "display_name": "Python 3 (ipykernel)",
   "language": "python",
   "name": "python3"
  },
  "language_info": {
   "codemirror_mode": {
    "name": "ipython",
    "version": 3
   },
   "file_extension": ".py",
   "mimetype": "text/x-python",
   "name": "python",
   "nbconvert_exporter": "python",
   "pygments_lexer": "ipython3",
   "version": "3.9.7"
  },
  "toc": {
   "base_numbering": 1,
   "nav_menu": {},
   "number_sections": true,
   "sideBar": true,
   "skip_h1_title": true,
   "title_cell": "Table of Contents",
   "title_sidebar": "Contents",
   "toc_cell": false,
   "toc_position": {
    "height": "calc(100% - 180px)",
    "left": "10px",
    "top": "150px",
    "width": "289.6px"
   },
   "toc_section_display": true,
   "toc_window_display": true
  }
 },
 "nbformat": 4,
 "nbformat_minor": 2
}
