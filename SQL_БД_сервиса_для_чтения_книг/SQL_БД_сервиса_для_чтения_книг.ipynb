{
 "cells": [
  {
   "cell_type": "markdown",
   "metadata": {},
   "source": [
    "# Анализ БД сервиса для чтения книг (SQL)"
   ]
  },
  {
   "cell_type": "markdown",
   "metadata": {},
   "source": [
    "## Описание проекта"
   ]
  },
  {
   "cell_type": "markdown",
   "metadata": {},
   "source": [
    "### Цель исследованния"
   ]
  },
  {
   "cell_type": "markdown",
   "metadata": {},
   "source": [
    "Анализ базы данных, содержащей информацию о книгах, издательствах, авторах, пользовательские обзоры книг, для формулирования ценностного предложения для нового продукта на рынке приложений и сервисов для чтения книг."
   ]
  },
  {
   "cell_type": "markdown",
   "metadata": {},
   "source": [
    "### Данные"
   ]
  },
  {
   "cell_type": "markdown",
   "metadata": {},
   "source": [
    "1. Таблица *books* - данные о книгах:\n",
    "- `book_id` — идентификатор книги;\n",
    "- `author_id` — идентификатор автора;\n",
    "- `title` — название книги;\n",
    "- `num_pages` — количество страниц;\n",
    "- `publication_date` — дата публикации книги;\n",
    "- `publisher_id` — идентификатор издателя.\n",
    "2. Таблица *authors* - данные об авторах:\n",
    "- `author_id` — идентификатор автора;\n",
    "- `author` — имя автора.\n",
    "3. Таблица *publishers* - данные об издательствах:\n",
    "- `publisher_id` — идентификатор издательства;\n",
    "- `publisher` — название издательства.\n",
    "4. Таблица *ratings* - данные о пользовательских оценках:\n",
    "- `rating_id` — идентификатор оценки;\n",
    "- `book_id` — идентификатор книги;\n",
    "- `username` — имя пользователя, оставившего оценку;\n",
    "- `rating` — оценка книги.\n",
    "5. Таблица *reviews* - данные о пользовательских обзорах:\n",
    "- `review_id` — идентификатор обзора;\n",
    "- `book_id` — идентификатор книги;\n",
    "- `username` — имя автора обзора;\n",
    "- `text` — текст обзора."
   ]
  },
  {
   "cell_type": "markdown",
   "metadata": {},
   "source": [
    "### Ход исследования"
   ]
  },
  {
   "cell_type": "markdown",
   "metadata": {},
   "source": [
    "1. Исследовать таблиц.\n",
    "2. Написать SQL-запросы:\n",
    "- посчитать количество книг, вышедших после 1 января 2000 года;\n",
    "- рассчитать для каждой книги количество обзоров и среднюю оценку;\n",
    "- определить издательство, которое выпустило наибольшее число книг толще 50 страниц для исключения из анализ брошюр;\n",
    "- определить автора с самой высокой средней оценкой книг, учитывая только книги с 50 и более оценками;\n",
    "- посчитать среднее количество обзоров от пользователей, которые поставили больше 50 оценок.\n",
    "3. Описать выводы по каждому из SQL-запросов."
   ]
  },
  {
   "cell_type": "markdown",
   "metadata": {},
   "source": [
    "## Исследование таблиц"
   ]
  },
  {
   "cell_type": "code",
   "execution_count": 3,
   "metadata": {},
   "outputs": [],
   "source": [
    "#импорт библиотек\n",
    "import pandas as pd\n",
    "from sqlalchemy import create_engine"
   ]
  },
  {
   "cell_type": "code",
   "execution_count": 4,
   "metadata": {},
   "outputs": [],
   "source": [
    "def information(df): #функция для получения общих сведений о датафрейме\n",
    "    print('\\033[1m' + 'Общая информация:' + '\\033[0m')\n",
    "    df.info()\n",
    "    print()\n",
    "    print('\\033[1m' + 'Первые 2 строки:' + '\\033[0m')\n",
    "    display(df.head(2))\n",
    "    print('\\033[1m' + 'Количество дубликатов:' + '\\033[0m', df.duplicated().sum())\n",
    "    print()\n",
    "    print('\\033[1m' + 'Количество пропусков:' + '\\033[0m')\n",
    "    display(df.isna().sum())\n",
    "    print('\\033[1m' + 'Доля пропусков:' + '\\033[0m')\n",
    "    print(df.isna().sum() / len(df))"
   ]
  },
  {
   "cell_type": "code",
   "execution_count": 5,
   "metadata": {},
   "outputs": [],
   "source": [
    "#установление параметров\n",
    "db_config = {'user': 'praktikum_student', # имя пользователя\n",
    "             'pwd': 'Sdf4$2;d-d30pp', # пароль\n",
    "             'host': 'rc1b-wcoijxj3yxfsf3fs.mdb.yandexcloud.net',\n",
    "             'port': 6432, # порт подключения\n",
    "             'db': 'data-analyst-final-project-db'} # название базы данных\n",
    "\n",
    "connection_string = 'postgresql://{}:{}@{}:{}/{}'.format(db_config['user'],\n",
    "                                                         db_config['pwd'],\n",
    "                                                         db_config['host'],\n",
    "                                                         db_config['port'],\n",
    "                                                         db_config['db'])\n",
    "\n",
    "#сохранение коннектора\n",
    "engine = create_engine(connection_string, connect_args={'sslmode':'require'})"
   ]
  },
  {
   "cell_type": "code",
   "execution_count": 6,
   "metadata": {},
   "outputs": [],
   "source": [
    "query = '''SELECT *\n",
    "           FROM books\n",
    "        '''"
   ]
  },
  {
   "cell_type": "code",
   "execution_count": 7,
   "metadata": {},
   "outputs": [
    {
     "name": "stdout",
     "output_type": "stream",
     "text": [
      "\u001b[1mОбщая информация:\u001b[0m\n",
      "<class 'pandas.core.frame.DataFrame'>\n",
      "RangeIndex: 1000 entries, 0 to 999\n",
      "Data columns (total 6 columns):\n",
      " #   Column            Non-Null Count  Dtype \n",
      "---  ------            --------------  ----- \n",
      " 0   book_id           1000 non-null   int64 \n",
      " 1   author_id         1000 non-null   int64 \n",
      " 2   title             1000 non-null   object\n",
      " 3   num_pages         1000 non-null   int64 \n",
      " 4   publication_date  1000 non-null   object\n",
      " 5   publisher_id      1000 non-null   int64 \n",
      "dtypes: int64(4), object(2)\n",
      "memory usage: 47.0+ KB\n",
      "\n",
      "\u001b[1mПервые 2 строки:\u001b[0m\n"
     ]
    },
    {
     "data": {
      "text/html": [
       "<div>\n",
       "<style scoped>\n",
       "    .dataframe tbody tr th:only-of-type {\n",
       "        vertical-align: middle;\n",
       "    }\n",
       "\n",
       "    .dataframe tbody tr th {\n",
       "        vertical-align: top;\n",
       "    }\n",
       "\n",
       "    .dataframe thead th {\n",
       "        text-align: right;\n",
       "    }\n",
       "</style>\n",
       "<table border=\"1\" class=\"dataframe\">\n",
       "  <thead>\n",
       "    <tr style=\"text-align: right;\">\n",
       "      <th></th>\n",
       "      <th>book_id</th>\n",
       "      <th>author_id</th>\n",
       "      <th>title</th>\n",
       "      <th>num_pages</th>\n",
       "      <th>publication_date</th>\n",
       "      <th>publisher_id</th>\n",
       "    </tr>\n",
       "  </thead>\n",
       "  <tbody>\n",
       "    <tr>\n",
       "      <th>0</th>\n",
       "      <td>1</td>\n",
       "      <td>546</td>\n",
       "      <td>'Salem's Lot</td>\n",
       "      <td>594</td>\n",
       "      <td>2005-11-01</td>\n",
       "      <td>93</td>\n",
       "    </tr>\n",
       "    <tr>\n",
       "      <th>1</th>\n",
       "      <td>2</td>\n",
       "      <td>465</td>\n",
       "      <td>1 000 Places to See Before You Die</td>\n",
       "      <td>992</td>\n",
       "      <td>2003-05-22</td>\n",
       "      <td>336</td>\n",
       "    </tr>\n",
       "  </tbody>\n",
       "</table>\n",
       "</div>"
      ],
      "text/plain": [
       "   book_id  author_id                               title  num_pages  \\\n",
       "0        1        546                        'Salem's Lot        594   \n",
       "1        2        465  1 000 Places to See Before You Die        992   \n",
       "\n",
       "  publication_date  publisher_id  \n",
       "0       2005-11-01            93  \n",
       "1       2003-05-22           336  "
      ]
     },
     "metadata": {},
     "output_type": "display_data"
    },
    {
     "name": "stdout",
     "output_type": "stream",
     "text": [
      "\u001b[1mКоличество дубликатов:\u001b[0m 0\n",
      "\n",
      "\u001b[1mКоличество пропусков:\u001b[0m\n"
     ]
    },
    {
     "data": {
      "text/plain": [
       "book_id             0\n",
       "author_id           0\n",
       "title               0\n",
       "num_pages           0\n",
       "publication_date    0\n",
       "publisher_id        0\n",
       "dtype: int64"
      ]
     },
     "metadata": {},
     "output_type": "display_data"
    },
    {
     "name": "stdout",
     "output_type": "stream",
     "text": [
      "\u001b[1mДоля пропусков:\u001b[0m\n",
      "book_id             0.0\n",
      "author_id           0.0\n",
      "title               0.0\n",
      "num_pages           0.0\n",
      "publication_date    0.0\n",
      "publisher_id        0.0\n",
      "dtype: float64\n"
     ]
    }
   ],
   "source": [
    "information(pd.io.sql.read_sql(query, con = engine))"
   ]
  },
  {
   "cell_type": "code",
   "execution_count": 8,
   "metadata": {},
   "outputs": [],
   "source": [
    "query = '''SELECT *\n",
    "           FROM authors\n",
    "        '''"
   ]
  },
  {
   "cell_type": "code",
   "execution_count": 9,
   "metadata": {},
   "outputs": [
    {
     "name": "stdout",
     "output_type": "stream",
     "text": [
      "\u001b[1mОбщая информация:\u001b[0m\n",
      "<class 'pandas.core.frame.DataFrame'>\n",
      "RangeIndex: 636 entries, 0 to 635\n",
      "Data columns (total 2 columns):\n",
      " #   Column     Non-Null Count  Dtype \n",
      "---  ------     --------------  ----- \n",
      " 0   author_id  636 non-null    int64 \n",
      " 1   author     636 non-null    object\n",
      "dtypes: int64(1), object(1)\n",
      "memory usage: 10.1+ KB\n",
      "\n",
      "\u001b[1mПервые 2 строки:\u001b[0m\n"
     ]
    },
    {
     "data": {
      "text/html": [
       "<div>\n",
       "<style scoped>\n",
       "    .dataframe tbody tr th:only-of-type {\n",
       "        vertical-align: middle;\n",
       "    }\n",
       "\n",
       "    .dataframe tbody tr th {\n",
       "        vertical-align: top;\n",
       "    }\n",
       "\n",
       "    .dataframe thead th {\n",
       "        text-align: right;\n",
       "    }\n",
       "</style>\n",
       "<table border=\"1\" class=\"dataframe\">\n",
       "  <thead>\n",
       "    <tr style=\"text-align: right;\">\n",
       "      <th></th>\n",
       "      <th>author_id</th>\n",
       "      <th>author</th>\n",
       "    </tr>\n",
       "  </thead>\n",
       "  <tbody>\n",
       "    <tr>\n",
       "      <th>0</th>\n",
       "      <td>1</td>\n",
       "      <td>A.S. Byatt</td>\n",
       "    </tr>\n",
       "    <tr>\n",
       "      <th>1</th>\n",
       "      <td>2</td>\n",
       "      <td>Aesop/Laura Harris/Laura Gibbs</td>\n",
       "    </tr>\n",
       "  </tbody>\n",
       "</table>\n",
       "</div>"
      ],
      "text/plain": [
       "   author_id                          author\n",
       "0          1                      A.S. Byatt\n",
       "1          2  Aesop/Laura Harris/Laura Gibbs"
      ]
     },
     "metadata": {},
     "output_type": "display_data"
    },
    {
     "name": "stdout",
     "output_type": "stream",
     "text": [
      "\u001b[1mКоличество дубликатов:\u001b[0m 0\n",
      "\n",
      "\u001b[1mКоличество пропусков:\u001b[0m\n"
     ]
    },
    {
     "data": {
      "text/plain": [
       "author_id    0\n",
       "author       0\n",
       "dtype: int64"
      ]
     },
     "metadata": {},
     "output_type": "display_data"
    },
    {
     "name": "stdout",
     "output_type": "stream",
     "text": [
      "\u001b[1mДоля пропусков:\u001b[0m\n",
      "author_id    0.0\n",
      "author       0.0\n",
      "dtype: float64\n"
     ]
    }
   ],
   "source": [
    "information(pd.io.sql.read_sql(query, con = engine))"
   ]
  },
  {
   "cell_type": "code",
   "execution_count": 10,
   "metadata": {},
   "outputs": [],
   "source": [
    "query = '''SELECT *\n",
    "           FROM publishers\n",
    "        '''"
   ]
  },
  {
   "cell_type": "code",
   "execution_count": 11,
   "metadata": {},
   "outputs": [
    {
     "name": "stdout",
     "output_type": "stream",
     "text": [
      "\u001b[1mОбщая информация:\u001b[0m\n",
      "<class 'pandas.core.frame.DataFrame'>\n",
      "RangeIndex: 340 entries, 0 to 339\n",
      "Data columns (total 2 columns):\n",
      " #   Column        Non-Null Count  Dtype \n",
      "---  ------        --------------  ----- \n",
      " 0   publisher_id  340 non-null    int64 \n",
      " 1   publisher     340 non-null    object\n",
      "dtypes: int64(1), object(1)\n",
      "memory usage: 5.4+ KB\n",
      "\n",
      "\u001b[1mПервые 2 строки:\u001b[0m\n"
     ]
    },
    {
     "data": {
      "text/html": [
       "<div>\n",
       "<style scoped>\n",
       "    .dataframe tbody tr th:only-of-type {\n",
       "        vertical-align: middle;\n",
       "    }\n",
       "\n",
       "    .dataframe tbody tr th {\n",
       "        vertical-align: top;\n",
       "    }\n",
       "\n",
       "    .dataframe thead th {\n",
       "        text-align: right;\n",
       "    }\n",
       "</style>\n",
       "<table border=\"1\" class=\"dataframe\">\n",
       "  <thead>\n",
       "    <tr style=\"text-align: right;\">\n",
       "      <th></th>\n",
       "      <th>publisher_id</th>\n",
       "      <th>publisher</th>\n",
       "    </tr>\n",
       "  </thead>\n",
       "  <tbody>\n",
       "    <tr>\n",
       "      <th>0</th>\n",
       "      <td>1</td>\n",
       "      <td>Ace</td>\n",
       "    </tr>\n",
       "    <tr>\n",
       "      <th>1</th>\n",
       "      <td>2</td>\n",
       "      <td>Ace Book</td>\n",
       "    </tr>\n",
       "  </tbody>\n",
       "</table>\n",
       "</div>"
      ],
      "text/plain": [
       "   publisher_id publisher\n",
       "0             1       Ace\n",
       "1             2  Ace Book"
      ]
     },
     "metadata": {},
     "output_type": "display_data"
    },
    {
     "name": "stdout",
     "output_type": "stream",
     "text": [
      "\u001b[1mКоличество дубликатов:\u001b[0m 0\n",
      "\n",
      "\u001b[1mКоличество пропусков:\u001b[0m\n"
     ]
    },
    {
     "data": {
      "text/plain": [
       "publisher_id    0\n",
       "publisher       0\n",
       "dtype: int64"
      ]
     },
     "metadata": {},
     "output_type": "display_data"
    },
    {
     "name": "stdout",
     "output_type": "stream",
     "text": [
      "\u001b[1mДоля пропусков:\u001b[0m\n",
      "publisher_id    0.0\n",
      "publisher       0.0\n",
      "dtype: float64\n"
     ]
    }
   ],
   "source": [
    "information(pd.io.sql.read_sql(query, con = engine))"
   ]
  },
  {
   "cell_type": "code",
   "execution_count": 12,
   "metadata": {},
   "outputs": [],
   "source": [
    "query = '''SELECT *\n",
    "           FROM ratings\n",
    "        '''"
   ]
  },
  {
   "cell_type": "code",
   "execution_count": 13,
   "metadata": {},
   "outputs": [
    {
     "name": "stdout",
     "output_type": "stream",
     "text": [
      "\u001b[1mОбщая информация:\u001b[0m\n",
      "<class 'pandas.core.frame.DataFrame'>\n",
      "RangeIndex: 6456 entries, 0 to 6455\n",
      "Data columns (total 4 columns):\n",
      " #   Column     Non-Null Count  Dtype \n",
      "---  ------     --------------  ----- \n",
      " 0   rating_id  6456 non-null   int64 \n",
      " 1   book_id    6456 non-null   int64 \n",
      " 2   username   6456 non-null   object\n",
      " 3   rating     6456 non-null   int64 \n",
      "dtypes: int64(3), object(1)\n",
      "memory usage: 201.9+ KB\n",
      "\n",
      "\u001b[1mПервые 2 строки:\u001b[0m\n"
     ]
    },
    {
     "data": {
      "text/html": [
       "<div>\n",
       "<style scoped>\n",
       "    .dataframe tbody tr th:only-of-type {\n",
       "        vertical-align: middle;\n",
       "    }\n",
       "\n",
       "    .dataframe tbody tr th {\n",
       "        vertical-align: top;\n",
       "    }\n",
       "\n",
       "    .dataframe thead th {\n",
       "        text-align: right;\n",
       "    }\n",
       "</style>\n",
       "<table border=\"1\" class=\"dataframe\">\n",
       "  <thead>\n",
       "    <tr style=\"text-align: right;\">\n",
       "      <th></th>\n",
       "      <th>rating_id</th>\n",
       "      <th>book_id</th>\n",
       "      <th>username</th>\n",
       "      <th>rating</th>\n",
       "    </tr>\n",
       "  </thead>\n",
       "  <tbody>\n",
       "    <tr>\n",
       "      <th>0</th>\n",
       "      <td>1</td>\n",
       "      <td>1</td>\n",
       "      <td>ryanfranco</td>\n",
       "      <td>4</td>\n",
       "    </tr>\n",
       "    <tr>\n",
       "      <th>1</th>\n",
       "      <td>2</td>\n",
       "      <td>1</td>\n",
       "      <td>grantpatricia</td>\n",
       "      <td>2</td>\n",
       "    </tr>\n",
       "  </tbody>\n",
       "</table>\n",
       "</div>"
      ],
      "text/plain": [
       "   rating_id  book_id       username  rating\n",
       "0          1        1     ryanfranco       4\n",
       "1          2        1  grantpatricia       2"
      ]
     },
     "metadata": {},
     "output_type": "display_data"
    },
    {
     "name": "stdout",
     "output_type": "stream",
     "text": [
      "\u001b[1mКоличество дубликатов:\u001b[0m 0\n",
      "\n",
      "\u001b[1mКоличество пропусков:\u001b[0m\n"
     ]
    },
    {
     "data": {
      "text/plain": [
       "rating_id    0\n",
       "book_id      0\n",
       "username     0\n",
       "rating       0\n",
       "dtype: int64"
      ]
     },
     "metadata": {},
     "output_type": "display_data"
    },
    {
     "name": "stdout",
     "output_type": "stream",
     "text": [
      "\u001b[1mДоля пропусков:\u001b[0m\n",
      "rating_id    0.0\n",
      "book_id      0.0\n",
      "username     0.0\n",
      "rating       0.0\n",
      "dtype: float64\n"
     ]
    }
   ],
   "source": [
    "information(pd.io.sql.read_sql(query, con = engine))"
   ]
  },
  {
   "cell_type": "code",
   "execution_count": 14,
   "metadata": {},
   "outputs": [],
   "source": [
    "query = '''SELECT *\n",
    "           FROM reviews\n",
    "        '''"
   ]
  },
  {
   "cell_type": "code",
   "execution_count": 15,
   "metadata": {
    "scrolled": false
   },
   "outputs": [
    {
     "name": "stdout",
     "output_type": "stream",
     "text": [
      "\u001b[1mОбщая информация:\u001b[0m\n",
      "<class 'pandas.core.frame.DataFrame'>\n",
      "RangeIndex: 2793 entries, 0 to 2792\n",
      "Data columns (total 4 columns):\n",
      " #   Column     Non-Null Count  Dtype \n",
      "---  ------     --------------  ----- \n",
      " 0   review_id  2793 non-null   int64 \n",
      " 1   book_id    2793 non-null   int64 \n",
      " 2   username   2793 non-null   object\n",
      " 3   text       2793 non-null   object\n",
      "dtypes: int64(2), object(2)\n",
      "memory usage: 87.4+ KB\n",
      "\n",
      "\u001b[1mПервые 2 строки:\u001b[0m\n"
     ]
    },
    {
     "data": {
      "text/html": [
       "<div>\n",
       "<style scoped>\n",
       "    .dataframe tbody tr th:only-of-type {\n",
       "        vertical-align: middle;\n",
       "    }\n",
       "\n",
       "    .dataframe tbody tr th {\n",
       "        vertical-align: top;\n",
       "    }\n",
       "\n",
       "    .dataframe thead th {\n",
       "        text-align: right;\n",
       "    }\n",
       "</style>\n",
       "<table border=\"1\" class=\"dataframe\">\n",
       "  <thead>\n",
       "    <tr style=\"text-align: right;\">\n",
       "      <th></th>\n",
       "      <th>review_id</th>\n",
       "      <th>book_id</th>\n",
       "      <th>username</th>\n",
       "      <th>text</th>\n",
       "    </tr>\n",
       "  </thead>\n",
       "  <tbody>\n",
       "    <tr>\n",
       "      <th>0</th>\n",
       "      <td>1</td>\n",
       "      <td>1</td>\n",
       "      <td>brandtandrea</td>\n",
       "      <td>Mention society tell send professor analysis. ...</td>\n",
       "    </tr>\n",
       "    <tr>\n",
       "      <th>1</th>\n",
       "      <td>2</td>\n",
       "      <td>1</td>\n",
       "      <td>ryanfranco</td>\n",
       "      <td>Foot glass pretty audience hit themselves. Amo...</td>\n",
       "    </tr>\n",
       "  </tbody>\n",
       "</table>\n",
       "</div>"
      ],
      "text/plain": [
       "   review_id  book_id      username  \\\n",
       "0          1        1  brandtandrea   \n",
       "1          2        1    ryanfranco   \n",
       "\n",
       "                                                text  \n",
       "0  Mention society tell send professor analysis. ...  \n",
       "1  Foot glass pretty audience hit themselves. Amo...  "
      ]
     },
     "metadata": {},
     "output_type": "display_data"
    },
    {
     "name": "stdout",
     "output_type": "stream",
     "text": [
      "\u001b[1mКоличество дубликатов:\u001b[0m 0\n",
      "\n",
      "\u001b[1mКоличество пропусков:\u001b[0m\n"
     ]
    },
    {
     "data": {
      "text/plain": [
       "review_id    0\n",
       "book_id      0\n",
       "username     0\n",
       "text         0\n",
       "dtype: int64"
      ]
     },
     "metadata": {},
     "output_type": "display_data"
    },
    {
     "name": "stdout",
     "output_type": "stream",
     "text": [
      "\u001b[1mДоля пропусков:\u001b[0m\n",
      "review_id    0.0\n",
      "book_id      0.0\n",
      "username     0.0\n",
      "text         0.0\n",
      "dtype: float64\n"
     ]
    }
   ],
   "source": [
    "information(pd.io.sql.read_sql(query, con = engine))"
   ]
  },
  {
   "cell_type": "markdown",
   "metadata": {},
   "source": [
    "### Промежуточный вывод"
   ]
  },
  {
   "cell_type": "markdown",
   "metadata": {},
   "source": [
    "Информация в таблицах БД соответствует описанной в технической документации. В таблицах отсутствуют пропуски и дубликаты. "
   ]
  },
  {
   "cell_type": "markdown",
   "metadata": {},
   "source": [
    "## SQL-запросы"
   ]
  },
  {
   "cell_type": "markdown",
   "metadata": {},
   "source": [
    "### Посчитать количество книг, вышедших после 1 января 2000 года"
   ]
  },
  {
   "cell_type": "code",
   "execution_count": 16,
   "metadata": {},
   "outputs": [],
   "source": [
    "query = '''SELECT COUNT(book_id)\n",
    "           FROM books\n",
    "           WHERE publication_date > '2000-01-01'\n",
    "        '''"
   ]
  },
  {
   "cell_type": "code",
   "execution_count": 17,
   "metadata": {},
   "outputs": [
    {
     "data": {
      "text/html": [
       "<div>\n",
       "<style scoped>\n",
       "    .dataframe tbody tr th:only-of-type {\n",
       "        vertical-align: middle;\n",
       "    }\n",
       "\n",
       "    .dataframe tbody tr th {\n",
       "        vertical-align: top;\n",
       "    }\n",
       "\n",
       "    .dataframe thead th {\n",
       "        text-align: right;\n",
       "    }\n",
       "</style>\n",
       "<table border=\"1\" class=\"dataframe\">\n",
       "  <thead>\n",
       "    <tr style=\"text-align: right;\">\n",
       "      <th></th>\n",
       "      <th>count</th>\n",
       "    </tr>\n",
       "  </thead>\n",
       "  <tbody>\n",
       "    <tr>\n",
       "      <th>0</th>\n",
       "      <td>819</td>\n",
       "    </tr>\n",
       "  </tbody>\n",
       "</table>\n",
       "</div>"
      ],
      "text/plain": [
       "   count\n",
       "0    819"
      ]
     },
     "execution_count": 17,
     "metadata": {},
     "output_type": "execute_result"
    }
   ],
   "source": [
    "pd.io.sql.read_sql(query, con = engine)"
   ]
  },
  {
   "cell_type": "markdown",
   "metadata": {},
   "source": [
    "В базе данных 819 книг, вышедших после 1.01.2000 года."
   ]
  },
  {
   "cell_type": "markdown",
   "metadata": {},
   "source": [
    "### Рассчитать для каждой книги количество обзоров и среднюю оценку"
   ]
  },
  {
   "cell_type": "code",
   "execution_count": 18,
   "metadata": {},
   "outputs": [],
   "source": [
    "query = '''SELECT b.title,\n",
    "                  COUNT(DISTINCT r.review_id) AS total_review,\n",
    "                  ROUND(AVG(rat.rating), 2) AS avg_rating\n",
    "           FROM books AS b LEFT JOIN reviews AS r ON b.book_id=r.book_id\n",
    "                           LEFT JOIN ratings AS rat ON b.book_id=rat.book_id\n",
    "           GROUP BY b.title\n",
    "           ORDER BY total_review DESC, avg_rating DESC\n",
    "        '''"
   ]
  },
  {
   "cell_type": "code",
   "execution_count": 19,
   "metadata": {
    "scrolled": false
   },
   "outputs": [
    {
     "data": {
      "text/html": [
       "<div>\n",
       "<style scoped>\n",
       "    .dataframe tbody tr th:only-of-type {\n",
       "        vertical-align: middle;\n",
       "    }\n",
       "\n",
       "    .dataframe tbody tr th {\n",
       "        vertical-align: top;\n",
       "    }\n",
       "\n",
       "    .dataframe thead th {\n",
       "        text-align: right;\n",
       "    }\n",
       "</style>\n",
       "<table border=\"1\" class=\"dataframe\">\n",
       "  <thead>\n",
       "    <tr style=\"text-align: right;\">\n",
       "      <th></th>\n",
       "      <th>title</th>\n",
       "      <th>total_review</th>\n",
       "      <th>avg_rating</th>\n",
       "    </tr>\n",
       "  </thead>\n",
       "  <tbody>\n",
       "    <tr>\n",
       "      <th>0</th>\n",
       "      <td>Memoirs of a Geisha</td>\n",
       "      <td>8</td>\n",
       "      <td>4.14</td>\n",
       "    </tr>\n",
       "    <tr>\n",
       "      <th>1</th>\n",
       "      <td>Twilight (Twilight  #1)</td>\n",
       "      <td>7</td>\n",
       "      <td>3.66</td>\n",
       "    </tr>\n",
       "    <tr>\n",
       "      <th>2</th>\n",
       "      <td>Harry Potter and the Prisoner of Azkaban (Harr...</td>\n",
       "      <td>6</td>\n",
       "      <td>4.41</td>\n",
       "    </tr>\n",
       "    <tr>\n",
       "      <th>3</th>\n",
       "      <td>Harry Potter and the Chamber of Secrets (Harry...</td>\n",
       "      <td>6</td>\n",
       "      <td>4.29</td>\n",
       "    </tr>\n",
       "    <tr>\n",
       "      <th>4</th>\n",
       "      <td>The Book Thief</td>\n",
       "      <td>6</td>\n",
       "      <td>4.26</td>\n",
       "    </tr>\n",
       "    <tr>\n",
       "      <th>...</th>\n",
       "      <td>...</td>\n",
       "      <td>...</td>\n",
       "      <td>...</td>\n",
       "    </tr>\n",
       "    <tr>\n",
       "      <th>994</th>\n",
       "      <td>Disney's Beauty and the Beast (A Little Golden...</td>\n",
       "      <td>0</td>\n",
       "      <td>4.00</td>\n",
       "    </tr>\n",
       "    <tr>\n",
       "      <th>995</th>\n",
       "      <td>Essential Tales and Poems</td>\n",
       "      <td>0</td>\n",
       "      <td>4.00</td>\n",
       "    </tr>\n",
       "    <tr>\n",
       "      <th>996</th>\n",
       "      <td>Leonardo's Notebooks</td>\n",
       "      <td>0</td>\n",
       "      <td>4.00</td>\n",
       "    </tr>\n",
       "    <tr>\n",
       "      <th>997</th>\n",
       "      <td>Anne Rice's The Vampire Lestat: A Graphic Novel</td>\n",
       "      <td>0</td>\n",
       "      <td>3.67</td>\n",
       "    </tr>\n",
       "    <tr>\n",
       "      <th>998</th>\n",
       "      <td>The Natural Way to Draw</td>\n",
       "      <td>0</td>\n",
       "      <td>3.00</td>\n",
       "    </tr>\n",
       "  </tbody>\n",
       "</table>\n",
       "<p>999 rows × 3 columns</p>\n",
       "</div>"
      ],
      "text/plain": [
       "                                                 title  total_review  \\\n",
       "0                                  Memoirs of a Geisha             8   \n",
       "1                              Twilight (Twilight  #1)             7   \n",
       "2    Harry Potter and the Prisoner of Azkaban (Harr...             6   \n",
       "3    Harry Potter and the Chamber of Secrets (Harry...             6   \n",
       "4                                       The Book Thief             6   \n",
       "..                                                 ...           ...   \n",
       "994  Disney's Beauty and the Beast (A Little Golden...             0   \n",
       "995                          Essential Tales and Poems             0   \n",
       "996                               Leonardo's Notebooks             0   \n",
       "997    Anne Rice's The Vampire Lestat: A Graphic Novel             0   \n",
       "998                            The Natural Way to Draw             0   \n",
       "\n",
       "     avg_rating  \n",
       "0          4.14  \n",
       "1          3.66  \n",
       "2          4.41  \n",
       "3          4.29  \n",
       "4          4.26  \n",
       "..          ...  \n",
       "994        4.00  \n",
       "995        4.00  \n",
       "996        4.00  \n",
       "997        3.67  \n",
       "998        3.00  \n",
       "\n",
       "[999 rows x 3 columns]"
      ]
     },
     "execution_count": 19,
     "metadata": {},
     "output_type": "execute_result"
    }
   ],
   "source": [
    "pd.io.sql.read_sql(query, con = engine)"
   ]
  },
  {
   "cell_type": "markdown",
   "metadata": {},
   "source": [
    "Больше всего обзоров у книги \"Мемуары гейши\" - 8, далее первая книга из серии \"Сумерки\" - 7 обзоров, по 6 обзоров у двух книг из серии о Гарри Поттере - \"Гарри Поттер и узник Азкабана\", \"Гарри Поттер и Тайная комната\" и у книги \"Воровка книг\". Для большей наглядности выведем топ-10 книг отсортируем их, как и ранее, по количеству обзоров и затем по средней оценке."
   ]
  },
  {
   "cell_type": "code",
   "execution_count": 20,
   "metadata": {},
   "outputs": [],
   "source": [
    "query = '''SELECT b.title,\n",
    "                  COUNT(DISTINCT r.review_id) AS total_review,\n",
    "                  ROUND(AVG(rat.rating), 2) AS avg_rating\n",
    "           FROM books AS b LEFT JOIN reviews AS r ON b.book_id=r.book_id\n",
    "                           LEFT JOIN ratings AS rat ON b.book_id=rat.book_id\n",
    "           GROUP BY b.title\n",
    "           ORDER BY total_review DESC, avg_rating DESC\n",
    "           LIMIT 10\n",
    "        '''"
   ]
  },
  {
   "cell_type": "code",
   "execution_count": 21,
   "metadata": {
    "scrolled": true
   },
   "outputs": [
    {
     "data": {
      "text/html": [
       "<div>\n",
       "<style scoped>\n",
       "    .dataframe tbody tr th:only-of-type {\n",
       "        vertical-align: middle;\n",
       "    }\n",
       "\n",
       "    .dataframe tbody tr th {\n",
       "        vertical-align: top;\n",
       "    }\n",
       "\n",
       "    .dataframe thead th {\n",
       "        text-align: right;\n",
       "    }\n",
       "</style>\n",
       "<table border=\"1\" class=\"dataframe\">\n",
       "  <thead>\n",
       "    <tr style=\"text-align: right;\">\n",
       "      <th></th>\n",
       "      <th>title</th>\n",
       "      <th>total_review</th>\n",
       "      <th>avg_rating</th>\n",
       "    </tr>\n",
       "  </thead>\n",
       "  <tbody>\n",
       "    <tr>\n",
       "      <th>0</th>\n",
       "      <td>Memoirs of a Geisha</td>\n",
       "      <td>8</td>\n",
       "      <td>4.14</td>\n",
       "    </tr>\n",
       "    <tr>\n",
       "      <th>1</th>\n",
       "      <td>Twilight (Twilight  #1)</td>\n",
       "      <td>7</td>\n",
       "      <td>3.66</td>\n",
       "    </tr>\n",
       "    <tr>\n",
       "      <th>2</th>\n",
       "      <td>Harry Potter and the Prisoner of Azkaban (Harr...</td>\n",
       "      <td>6</td>\n",
       "      <td>4.41</td>\n",
       "    </tr>\n",
       "    <tr>\n",
       "      <th>3</th>\n",
       "      <td>Harry Potter and the Chamber of Secrets (Harry...</td>\n",
       "      <td>6</td>\n",
       "      <td>4.29</td>\n",
       "    </tr>\n",
       "    <tr>\n",
       "      <th>4</th>\n",
       "      <td>The Book Thief</td>\n",
       "      <td>6</td>\n",
       "      <td>4.26</td>\n",
       "    </tr>\n",
       "    <tr>\n",
       "      <th>5</th>\n",
       "      <td>The Glass Castle</td>\n",
       "      <td>6</td>\n",
       "      <td>4.21</td>\n",
       "    </tr>\n",
       "    <tr>\n",
       "      <th>6</th>\n",
       "      <td>The Hobbit  or There and Back Again</td>\n",
       "      <td>6</td>\n",
       "      <td>4.13</td>\n",
       "    </tr>\n",
       "    <tr>\n",
       "      <th>7</th>\n",
       "      <td>Outlander (Outlander  #1)</td>\n",
       "      <td>6</td>\n",
       "      <td>4.13</td>\n",
       "    </tr>\n",
       "    <tr>\n",
       "      <th>8</th>\n",
       "      <td>The Lightning Thief (Percy Jackson and the Oly...</td>\n",
       "      <td>6</td>\n",
       "      <td>4.08</td>\n",
       "    </tr>\n",
       "    <tr>\n",
       "      <th>9</th>\n",
       "      <td>The Curious Incident of the Dog in the Night-Time</td>\n",
       "      <td>6</td>\n",
       "      <td>4.08</td>\n",
       "    </tr>\n",
       "  </tbody>\n",
       "</table>\n",
       "</div>"
      ],
      "text/plain": [
       "                                               title  total_review  avg_rating\n",
       "0                                Memoirs of a Geisha             8        4.14\n",
       "1                            Twilight (Twilight  #1)             7        3.66\n",
       "2  Harry Potter and the Prisoner of Azkaban (Harr...             6        4.41\n",
       "3  Harry Potter and the Chamber of Secrets (Harry...             6        4.29\n",
       "4                                     The Book Thief             6        4.26\n",
       "5                                   The Glass Castle             6        4.21\n",
       "6                The Hobbit  or There and Back Again             6        4.13\n",
       "7                          Outlander (Outlander  #1)             6        4.13\n",
       "8  The Lightning Thief (Percy Jackson and the Oly...             6        4.08\n",
       "9  The Curious Incident of the Dog in the Night-Time             6        4.08"
      ]
     },
     "execution_count": 21,
     "metadata": {},
     "output_type": "execute_result"
    }
   ],
   "source": [
    "pd.io.sql.read_sql(query, con = engine)"
   ]
  },
  {
   "cell_type": "markdown",
   "metadata": {},
   "source": [
    "Из топ-10 книг по количеству обзоров, самой высокой средней оценкой обладает \"Гарри Поттер и узник Азкобана\" - 4,41, самая низкая средняя оценка у первой книги из серии \"Сумерки\" - 3,66."
   ]
  },
  {
   "cell_type": "markdown",
   "metadata": {},
   "source": [
    "### Определить издательство, которое выпустило наибольшее число книг толще 50 страниц для исключения из анализ брошюр"
   ]
  },
  {
   "cell_type": "code",
   "execution_count": 22,
   "metadata": {},
   "outputs": [],
   "source": [
    "query = '''SELECT p.publisher,\n",
    "                  COUNT(b.book_id) AS total_books\n",
    "           FROM books AS b LEFT JOIN publishers AS p ON b.publisher_id=p.publisher_id\n",
    "           WHERE b.num_pages > 50\n",
    "           GROUP BY p.publisher\n",
    "           ORDER BY total_books DESC\n",
    "           LIMIT 1\n",
    "        '''"
   ]
  },
  {
   "cell_type": "code",
   "execution_count": 23,
   "metadata": {},
   "outputs": [
    {
     "data": {
      "text/html": [
       "<div>\n",
       "<style scoped>\n",
       "    .dataframe tbody tr th:only-of-type {\n",
       "        vertical-align: middle;\n",
       "    }\n",
       "\n",
       "    .dataframe tbody tr th {\n",
       "        vertical-align: top;\n",
       "    }\n",
       "\n",
       "    .dataframe thead th {\n",
       "        text-align: right;\n",
       "    }\n",
       "</style>\n",
       "<table border=\"1\" class=\"dataframe\">\n",
       "  <thead>\n",
       "    <tr style=\"text-align: right;\">\n",
       "      <th></th>\n",
       "      <th>publisher</th>\n",
       "      <th>total_books</th>\n",
       "    </tr>\n",
       "  </thead>\n",
       "  <tbody>\n",
       "    <tr>\n",
       "      <th>0</th>\n",
       "      <td>Penguin Books</td>\n",
       "      <td>42</td>\n",
       "    </tr>\n",
       "  </tbody>\n",
       "</table>\n",
       "</div>"
      ],
      "text/plain": [
       "       publisher  total_books\n",
       "0  Penguin Books           42"
      ]
     },
     "execution_count": 23,
     "metadata": {},
     "output_type": "execute_result"
    }
   ],
   "source": [
    "pd.io.sql.read_sql(query, con = engine)"
   ]
  },
  {
   "cell_type": "markdown",
   "metadata": {},
   "source": [
    "Наибольшее число книг, за исключение брошюр (книг толщиной 50 страниц и менее) издано в Penguin Books."
   ]
  },
  {
   "cell_type": "markdown",
   "metadata": {},
   "source": [
    "### Определить автора с самой высокой средней оценкой книг, учитывая только книги с 50 и более оценками"
   ]
  },
  {
   "cell_type": "code",
   "execution_count": 49,
   "metadata": {},
   "outputs": [],
   "source": [
    "query = '''SELECT popular_books.author,\n",
    "                  ROUND(AVG(r.rating), 2) AS avg_rating\n",
    "           FROM\n",
    "               (SELECT b.book_id,\n",
    "                       a.author,\n",
    "                       COUNT(r.rating)\n",
    "               FROM books AS b LEFT JOIN ratings AS r ON b.book_id=r.book_id LEFT JOIN authors AS a ON b.author_id=a.author_id\n",
    "               GROUP BY b.book_id, a,author\n",
    "               HAVING COUNT(r.rating) >= 50) AS popular_books LEFT JOIN ratings AS r ON popular_books.book_id=r.book_id\n",
    "           GROUP BY popular_books.author\n",
    "           ORDER BY avg_rating DESC\n",
    "           LIMIT 1\n",
    "        '''"
   ]
  },
  {
   "cell_type": "code",
   "execution_count": 50,
   "metadata": {},
   "outputs": [
    {
     "data": {
      "text/html": [
       "<div>\n",
       "<style scoped>\n",
       "    .dataframe tbody tr th:only-of-type {\n",
       "        vertical-align: middle;\n",
       "    }\n",
       "\n",
       "    .dataframe tbody tr th {\n",
       "        vertical-align: top;\n",
       "    }\n",
       "\n",
       "    .dataframe thead th {\n",
       "        text-align: right;\n",
       "    }\n",
       "</style>\n",
       "<table border=\"1\" class=\"dataframe\">\n",
       "  <thead>\n",
       "    <tr style=\"text-align: right;\">\n",
       "      <th></th>\n",
       "      <th>author</th>\n",
       "      <th>avg_rating</th>\n",
       "    </tr>\n",
       "  </thead>\n",
       "  <tbody>\n",
       "    <tr>\n",
       "      <th>0</th>\n",
       "      <td>J.K. Rowling/Mary GrandPré</td>\n",
       "      <td>4.29</td>\n",
       "    </tr>\n",
       "  </tbody>\n",
       "</table>\n",
       "</div>"
      ],
      "text/plain": [
       "                       author  avg_rating\n",
       "0  J.K. Rowling/Mary GrandPré        4.29"
      ]
     },
     "execution_count": 50,
     "metadata": {},
     "output_type": "execute_result"
    }
   ],
   "source": [
    "pd.io.sql.read_sql(query, con = engine)"
   ]
  },
  {
   "cell_type": "markdown",
   "metadata": {},
   "source": [
    "Автор с самой высокой средней оценкой книг, имеющих более 50 оценок - Джоан Роулинг."
   ]
  },
  {
   "cell_type": "markdown",
   "metadata": {},
   "source": [
    "### Посчитать среднее количество обзоров от пользователей, которые поставили больше 50 оценок"
   ]
  },
  {
   "cell_type": "code",
   "execution_count": 26,
   "metadata": {},
   "outputs": [],
   "source": [
    "query = '''SELECT ROUND(AVG(big_users.total_reviews)) AS avg_reviews\n",
    "           FROM\n",
    "               (SELECT r.username,\n",
    "                      COUNT(DISTINCT review_id) AS total_reviews\n",
    "               FROM reviews AS r LEFT JOIN ratings AS rat ON r.username=rat.username\n",
    "               GROUP BY r.username\n",
    "               HAVING COUNT(DISTINCT rating_id) > 50) AS big_users\n",
    "        '''"
   ]
  },
  {
   "cell_type": "code",
   "execution_count": 27,
   "metadata": {},
   "outputs": [
    {
     "data": {
      "text/html": [
       "<div>\n",
       "<style scoped>\n",
       "    .dataframe tbody tr th:only-of-type {\n",
       "        vertical-align: middle;\n",
       "    }\n",
       "\n",
       "    .dataframe tbody tr th {\n",
       "        vertical-align: top;\n",
       "    }\n",
       "\n",
       "    .dataframe thead th {\n",
       "        text-align: right;\n",
       "    }\n",
       "</style>\n",
       "<table border=\"1\" class=\"dataframe\">\n",
       "  <thead>\n",
       "    <tr style=\"text-align: right;\">\n",
       "      <th></th>\n",
       "      <th>avg_reviews</th>\n",
       "    </tr>\n",
       "  </thead>\n",
       "  <tbody>\n",
       "    <tr>\n",
       "      <th>0</th>\n",
       "      <td>24.0</td>\n",
       "    </tr>\n",
       "  </tbody>\n",
       "</table>\n",
       "</div>"
      ],
      "text/plain": [
       "   avg_reviews\n",
       "0         24.0"
      ]
     },
     "execution_count": 27,
     "metadata": {},
     "output_type": "execute_result"
    }
   ],
   "source": [
    "pd.io.sql.read_sql(query, con = engine)"
   ]
  },
  {
   "cell_type": "markdown",
   "metadata": {},
   "source": [
    "Среднее количество обзоров от пользователей, которые поставили больше 50 оценок - 24."
   ]
  },
  {
   "cell_type": "markdown",
   "metadata": {},
   "source": [
    "## Общий вывод"
   ]
  },
  {
   "cell_type": "markdown",
   "metadata": {},
   "source": [
    "1. В базе данных 819 книг, вышедших после 1.01.2000 года.\n",
    "2. Из топ-10 книг по количеству обзоров, самой высокой средней оценкой обладает \"Гарри Поттер и узник Азкобана\" - 4,41, самая низкая средняя оценка у первой книги из серии \"Сумерки\" - 3,66.\n",
    "3. Наибольшее число книг, за исключение брошюр (книг толщиной 50 страниц и менее) издано в Penguin Books.\n",
    "4. Автор с самой высокой средней оценкой книг, имеющих более 50 оценок - Джоан Роулинг (средняя оценка - 4,29).\n",
    "5. Среднее количество обзоров от пользователей, которые поставили больше 50 оценок - 24."
   ]
  }
 ],
 "metadata": {
  "ExecuteTimeLog": [
   {
    "duration": 473,
    "start_time": "2022-08-02T13:04:59.716Z"
   },
   {
    "duration": 8940,
    "start_time": "2022-08-02T13:07:51.633Z"
   },
   {
    "duration": 3,
    "start_time": "2022-08-02T13:15:47.623Z"
   },
   {
    "duration": 74,
    "start_time": "2022-08-02T13:16:44.232Z"
   },
   {
    "duration": 3,
    "start_time": "2022-08-02T13:17:18.789Z"
   },
   {
    "duration": 89,
    "start_time": "2022-08-02T13:17:19.488Z"
   },
   {
    "duration": 13,
    "start_time": "2022-08-02T13:17:24.225Z"
   },
   {
    "duration": 3,
    "start_time": "2022-08-02T13:18:01.536Z"
   },
   {
    "duration": 14,
    "start_time": "2022-08-02T13:18:02.925Z"
   },
   {
    "duration": 3,
    "start_time": "2022-08-02T13:18:22.229Z"
   },
   {
    "duration": 19,
    "start_time": "2022-08-02T13:18:23.127Z"
   },
   {
    "duration": 3,
    "start_time": "2022-08-02T13:18:30.025Z"
   },
   {
    "duration": 13,
    "start_time": "2022-08-02T13:18:31.427Z"
   },
   {
    "duration": 2,
    "start_time": "2022-08-02T13:20:34.400Z"
   },
   {
    "duration": 261,
    "start_time": "2022-08-02T13:20:35.446Z"
   },
   {
    "duration": 3,
    "start_time": "2022-08-02T13:20:47.367Z"
   },
   {
    "duration": 15,
    "start_time": "2022-08-02T13:20:48.567Z"
   },
   {
    "duration": 2,
    "start_time": "2022-08-02T13:21:06.279Z"
   },
   {
    "duration": 11,
    "start_time": "2022-08-02T13:21:10.999Z"
   },
   {
    "duration": 2,
    "start_time": "2022-08-02T13:21:44.743Z"
   },
   {
    "duration": 11,
    "start_time": "2022-08-02T13:21:51.047Z"
   },
   {
    "duration": 2,
    "start_time": "2022-08-02T13:22:13.344Z"
   },
   {
    "duration": 12,
    "start_time": "2022-08-02T13:22:18.125Z"
   },
   {
    "duration": 2,
    "start_time": "2022-08-02T13:22:56.129Z"
   },
   {
    "duration": 11,
    "start_time": "2022-08-02T13:23:03.008Z"
   },
   {
    "duration": 8,
    "start_time": "2022-08-02T15:34:46.450Z"
   },
   {
    "duration": 554,
    "start_time": "2022-08-02T15:34:57.926Z"
   },
   {
    "duration": 7268,
    "start_time": "2022-08-02T15:34:58.482Z"
   },
   {
    "duration": 3,
    "start_time": "2022-08-02T15:35:05.754Z"
   },
   {
    "duration": 295,
    "start_time": "2022-08-02T15:35:05.758Z"
   },
   {
    "duration": 3,
    "start_time": "2022-08-02T15:35:06.054Z"
   },
   {
    "duration": 100,
    "start_time": "2022-08-02T15:35:06.059Z"
   },
   {
    "duration": 2,
    "start_time": "2022-08-02T15:35:06.161Z"
   },
   {
    "duration": 90,
    "start_time": "2022-08-02T15:35:06.164Z"
   },
   {
    "duration": 3,
    "start_time": "2022-08-02T15:35:06.256Z"
   },
   {
    "duration": 92,
    "start_time": "2022-08-02T15:35:06.260Z"
   },
   {
    "duration": 2,
    "start_time": "2022-08-02T15:35:06.354Z"
   },
   {
    "duration": 104,
    "start_time": "2022-08-02T15:35:06.357Z"
   },
   {
    "duration": 3,
    "start_time": "2022-08-02T15:35:06.462Z"
   },
   {
    "duration": 93,
    "start_time": "2022-08-02T15:35:40.690Z"
   },
   {
    "duration": 3,
    "start_time": "2022-08-02T15:55:24.051Z"
   },
   {
    "duration": 103,
    "start_time": "2022-08-02T15:55:30.349Z"
   },
   {
    "duration": 3,
    "start_time": "2022-08-02T15:57:34.989Z"
   },
   {
    "duration": 124,
    "start_time": "2022-08-02T15:57:35.668Z"
   },
   {
    "duration": 3,
    "start_time": "2022-08-02T15:58:32.422Z"
   },
   {
    "duration": 3,
    "start_time": "2022-08-02T15:58:47.270Z"
   },
   {
    "duration": 122,
    "start_time": "2022-08-02T15:58:47.972Z"
   },
   {
    "duration": 3,
    "start_time": "2022-08-02T15:58:59.425Z"
   },
   {
    "duration": 130,
    "start_time": "2022-08-02T15:58:59.882Z"
   },
   {
    "duration": 3,
    "start_time": "2022-08-02T15:59:37.336Z"
   },
   {
    "duration": 118,
    "start_time": "2022-08-02T15:59:38.992Z"
   },
   {
    "duration": 3,
    "start_time": "2022-08-02T16:01:16.348Z"
   },
   {
    "duration": 132,
    "start_time": "2022-08-02T16:01:17.926Z"
   },
   {
    "duration": 3,
    "start_time": "2022-08-02T16:05:31.127Z"
   },
   {
    "duration": 243,
    "start_time": "2022-08-02T16:05:41.151Z"
   },
   {
    "duration": 2,
    "start_time": "2022-08-02T16:06:07.353Z"
   },
   {
    "duration": 121,
    "start_time": "2022-08-02T16:06:07.921Z"
   },
   {
    "duration": 3,
    "start_time": "2022-08-02T16:07:59.419Z"
   },
   {
    "duration": 107,
    "start_time": "2022-08-02T16:07:59.954Z"
   },
   {
    "duration": 2,
    "start_time": "2022-08-02T16:11:07.939Z"
   },
   {
    "duration": 107,
    "start_time": "2022-08-02T16:11:08.978Z"
   },
   {
    "duration": 2,
    "start_time": "2022-08-02T16:27:02.183Z"
   },
   {
    "duration": 88,
    "start_time": "2022-08-02T16:27:12.338Z"
   },
   {
    "duration": 3,
    "start_time": "2022-08-02T16:27:19.186Z"
   },
   {
    "duration": 107,
    "start_time": "2022-08-02T16:27:19.925Z"
   },
   {
    "duration": 3,
    "start_time": "2022-08-02T16:27:31.547Z"
   },
   {
    "duration": 88,
    "start_time": "2022-08-02T16:27:32.747Z"
   },
   {
    "duration": 2,
    "start_time": "2022-08-02T16:41:03.927Z"
   },
   {
    "duration": 100,
    "start_time": "2022-08-02T16:41:09.940Z"
   },
   {
    "duration": 2,
    "start_time": "2022-08-02T16:44:10.494Z"
   },
   {
    "duration": 256,
    "start_time": "2022-08-02T16:44:15.286Z"
   },
   {
    "duration": 2,
    "start_time": "2022-08-02T16:44:46.554Z"
   },
   {
    "duration": 94,
    "start_time": "2022-08-02T16:44:47.288Z"
   },
   {
    "duration": 3,
    "start_time": "2022-08-02T17:01:15.729Z"
   },
   {
    "duration": 142,
    "start_time": "2022-08-02T17:01:23.240Z"
   },
   {
    "duration": 3,
    "start_time": "2022-08-02T17:02:40.122Z"
   },
   {
    "duration": 88,
    "start_time": "2022-08-02T17:02:40.649Z"
   },
   {
    "duration": 2,
    "start_time": "2022-08-02T17:02:57.160Z"
   },
   {
    "duration": 177,
    "start_time": "2022-08-02T17:02:57.927Z"
   },
   {
    "duration": 2,
    "start_time": "2022-08-02T17:04:27.055Z"
   },
   {
    "duration": 96,
    "start_time": "2022-08-02T17:04:27.541Z"
   },
   {
    "duration": 3,
    "start_time": "2022-08-02T17:05:47.527Z"
   },
   {
    "duration": 224,
    "start_time": "2022-08-02T17:05:48.431Z"
   },
   {
    "duration": 16,
    "start_time": "2022-08-02T17:07:05.598Z"
   },
   {
    "duration": 106,
    "start_time": "2022-08-02T17:07:06.231Z"
   },
   {
    "duration": 2,
    "start_time": "2022-08-02T17:08:39.057Z"
   },
   {
    "duration": 97,
    "start_time": "2022-08-02T17:08:39.530Z"
   },
   {
    "duration": 2,
    "start_time": "2022-08-02T17:09:25.627Z"
   },
   {
    "duration": 173,
    "start_time": "2022-08-02T17:09:26.463Z"
   },
   {
    "duration": 2,
    "start_time": "2022-08-02T17:11:27.092Z"
   },
   {
    "duration": 120,
    "start_time": "2022-08-02T17:11:28.204Z"
   },
   {
    "duration": 4,
    "start_time": "2022-08-02T17:11:45.167Z"
   },
   {
    "duration": 87,
    "start_time": "2022-08-02T17:11:45.957Z"
   },
   {
    "duration": 2,
    "start_time": "2022-08-02T17:11:56.782Z"
   },
   {
    "duration": 109,
    "start_time": "2022-08-02T17:11:58.191Z"
   },
   {
    "duration": 2,
    "start_time": "2022-08-02T17:13:29.662Z"
   },
   {
    "duration": 101,
    "start_time": "2022-08-02T17:13:30.325Z"
   },
   {
    "duration": 3,
    "start_time": "2022-08-02T17:13:50.653Z"
   },
   {
    "duration": 195,
    "start_time": "2022-08-02T17:13:51.230Z"
   },
   {
    "duration": 3,
    "start_time": "2022-08-02T17:13:58.672Z"
   },
   {
    "duration": 99,
    "start_time": "2022-08-02T17:14:00.221Z"
   },
   {
    "duration": 8,
    "start_time": "2022-08-02T17:15:06.297Z"
   },
   {
    "duration": 132,
    "start_time": "2022-08-02T17:15:07.823Z"
   },
   {
    "duration": 607,
    "start_time": "2022-08-02T17:23:05.902Z"
   },
   {
    "duration": 10416,
    "start_time": "2022-08-02T17:23:06.525Z"
   },
   {
    "duration": 2,
    "start_time": "2022-08-02T17:23:16.943Z"
   },
   {
    "duration": 323,
    "start_time": "2022-08-02T17:23:16.947Z"
   },
   {
    "duration": 3,
    "start_time": "2022-08-02T17:23:17.271Z"
   },
   {
    "duration": 89,
    "start_time": "2022-08-02T17:23:17.276Z"
   },
   {
    "duration": 3,
    "start_time": "2022-08-02T17:23:17.366Z"
   },
   {
    "duration": 91,
    "start_time": "2022-08-02T17:23:17.371Z"
   },
   {
    "duration": 2,
    "start_time": "2022-08-02T17:23:17.464Z"
   },
   {
    "duration": 97,
    "start_time": "2022-08-02T17:23:17.469Z"
   },
   {
    "duration": 3,
    "start_time": "2022-08-02T17:23:17.567Z"
   },
   {
    "duration": 102,
    "start_time": "2022-08-02T17:23:17.571Z"
   },
   {
    "duration": 2,
    "start_time": "2022-08-02T17:23:17.675Z"
   },
   {
    "duration": 95,
    "start_time": "2022-08-02T17:23:17.678Z"
   },
   {
    "duration": 3,
    "start_time": "2022-08-02T17:23:17.774Z"
   },
   {
    "duration": 171,
    "start_time": "2022-08-02T17:23:17.779Z"
   },
   {
    "duration": 3,
    "start_time": "2022-08-02T17:23:17.953Z"
   },
   {
    "duration": 127,
    "start_time": "2022-08-02T17:23:17.957Z"
   },
   {
    "duration": 2,
    "start_time": "2022-08-02T17:23:18.085Z"
   },
   {
    "duration": 95,
    "start_time": "2022-08-02T17:23:18.089Z"
   },
   {
    "duration": 2,
    "start_time": "2022-08-02T17:23:18.186Z"
   },
   {
    "duration": 140,
    "start_time": "2022-08-02T17:23:18.190Z"
   },
   {
    "duration": 3,
    "start_time": "2022-08-02T17:23:18.332Z"
   },
   {
    "duration": 109,
    "start_time": "2022-08-02T17:23:18.336Z"
   },
   {
    "duration": 506,
    "start_time": "2022-08-02T18:10:25.130Z"
   },
   {
    "duration": 8727,
    "start_time": "2022-08-02T18:10:25.638Z"
   },
   {
    "duration": 3,
    "start_time": "2022-08-02T18:10:34.366Z"
   },
   {
    "duration": 294,
    "start_time": "2022-08-02T18:10:34.371Z"
   },
   {
    "duration": 3,
    "start_time": "2022-08-02T18:10:34.667Z"
   },
   {
    "duration": 90,
    "start_time": "2022-08-02T18:10:34.672Z"
   },
   {
    "duration": 3,
    "start_time": "2022-08-02T18:10:34.763Z"
   },
   {
    "duration": 82,
    "start_time": "2022-08-02T18:10:34.768Z"
   },
   {
    "duration": 3,
    "start_time": "2022-08-02T18:10:34.852Z"
   },
   {
    "duration": 89,
    "start_time": "2022-08-02T18:10:34.856Z"
   },
   {
    "duration": 2,
    "start_time": "2022-08-02T18:10:34.947Z"
   },
   {
    "duration": 87,
    "start_time": "2022-08-02T18:10:34.951Z"
   },
   {
    "duration": 2,
    "start_time": "2022-08-02T18:10:35.040Z"
   },
   {
    "duration": 95,
    "start_time": "2022-08-02T18:10:35.045Z"
   },
   {
    "duration": 2,
    "start_time": "2022-08-02T18:10:35.142Z"
   },
   {
    "duration": 134,
    "start_time": "2022-08-02T18:10:35.146Z"
   },
   {
    "duration": 3,
    "start_time": "2022-08-02T18:10:35.281Z"
   },
   {
    "duration": 121,
    "start_time": "2022-08-02T18:10:35.285Z"
   },
   {
    "duration": 3,
    "start_time": "2022-08-02T18:10:35.407Z"
   },
   {
    "duration": 99,
    "start_time": "2022-08-02T18:10:35.412Z"
   },
   {
    "duration": 3,
    "start_time": "2022-08-02T18:10:35.513Z"
   },
   {
    "duration": 97,
    "start_time": "2022-08-02T18:10:35.517Z"
   },
   {
    "duration": 3,
    "start_time": "2022-08-02T18:10:35.616Z"
   },
   {
    "duration": 114,
    "start_time": "2022-08-02T18:10:35.620Z"
   },
   {
    "duration": 3,
    "start_time": "2022-08-02T18:11:46.234Z"
   },
   {
    "duration": 81,
    "start_time": "2022-08-02T18:11:46.670Z"
   },
   {
    "duration": 2,
    "start_time": "2022-08-02T18:11:52.528Z"
   },
   {
    "duration": 80,
    "start_time": "2022-08-02T18:11:52.827Z"
   },
   {
    "duration": 3,
    "start_time": "2022-08-02T18:11:59.501Z"
   },
   {
    "duration": 81,
    "start_time": "2022-08-02T18:11:59.766Z"
   },
   {
    "duration": 3,
    "start_time": "2022-08-02T18:12:02.666Z"
   },
   {
    "duration": 82,
    "start_time": "2022-08-02T18:12:03.029Z"
   },
   {
    "duration": 3,
    "start_time": "2022-08-02T18:12:20.362Z"
   },
   {
    "duration": 86,
    "start_time": "2022-08-02T18:12:20.627Z"
   },
   {
    "duration": 3,
    "start_time": "2022-08-02T18:12:27.572Z"
   },
   {
    "duration": 81,
    "start_time": "2022-08-02T18:12:27.845Z"
   },
   {
    "duration": 2,
    "start_time": "2022-08-02T18:13:00.081Z"
   },
   {
    "duration": 82,
    "start_time": "2022-08-02T18:13:00.330Z"
   },
   {
    "duration": 2,
    "start_time": "2022-08-02T18:13:04.225Z"
   },
   {
    "duration": 83,
    "start_time": "2022-08-02T18:13:04.436Z"
   },
   {
    "duration": 2,
    "start_time": "2022-08-02T18:13:10.738Z"
   },
   {
    "duration": 81,
    "start_time": "2022-08-02T18:13:11.473Z"
   },
   {
    "duration": 91,
    "start_time": "2022-08-02T18:13:14.946Z"
   },
   {
    "duration": 3,
    "start_time": "2022-08-02T18:14:09.639Z"
   },
   {
    "duration": 81,
    "start_time": "2022-08-02T18:14:09.928Z"
   },
   {
    "duration": 68,
    "start_time": "2022-08-03T09:18:47.741Z"
   },
   {
    "duration": 547,
    "start_time": "2022-08-03T09:18:51.978Z"
   },
   {
    "duration": 8305,
    "start_time": "2022-08-03T09:18:52.730Z"
   },
   {
    "duration": 2,
    "start_time": "2022-08-03T09:19:10.813Z"
   },
   {
    "duration": 333,
    "start_time": "2022-08-03T09:19:11.472Z"
   },
   {
    "duration": 2,
    "start_time": "2022-08-03T09:19:26.970Z"
   },
   {
    "duration": 181,
    "start_time": "2022-08-03T09:19:36.409Z"
   },
   {
    "duration": 4,
    "start_time": "2022-08-03T09:22:13.460Z"
   },
   {
    "duration": 3,
    "start_time": "2022-08-03T09:22:20.110Z"
   },
   {
    "duration": 117,
    "start_time": "2022-08-03T09:22:43.459Z"
   },
   {
    "duration": 4,
    "start_time": "2022-08-03T09:22:54.275Z"
   },
   {
    "duration": 94,
    "start_time": "2022-08-03T09:23:09.035Z"
   },
   {
    "duration": 3,
    "start_time": "2022-08-03T09:23:42.011Z"
   },
   {
    "duration": 89,
    "start_time": "2022-08-03T09:23:58.973Z"
   },
   {
    "duration": 4,
    "start_time": "2022-08-03T09:24:10.981Z"
   },
   {
    "duration": 151,
    "start_time": "2022-08-03T09:24:22.019Z"
   },
   {
    "duration": 3,
    "start_time": "2022-08-03T09:24:57.122Z"
   },
   {
    "duration": 143,
    "start_time": "2022-08-03T09:25:10.526Z"
   },
   {
    "duration": 3,
    "start_time": "2022-08-03T09:29:12.818Z"
   },
   {
    "duration": 110,
    "start_time": "2022-08-03T09:29:13.911Z"
   },
   {
    "duration": 3,
    "start_time": "2022-08-03T09:29:40.011Z"
   },
   {
    "duration": 114,
    "start_time": "2022-08-03T09:29:40.750Z"
   },
   {
    "duration": 3,
    "start_time": "2022-08-03T09:29:53.655Z"
   },
   {
    "duration": 214,
    "start_time": "2022-08-03T09:29:55.046Z"
   },
   {
    "duration": 3,
    "start_time": "2022-08-03T09:30:23.670Z"
   },
   {
    "duration": 128,
    "start_time": "2022-08-03T09:30:26.027Z"
   },
   {
    "duration": 7,
    "start_time": "2022-08-03T09:30:46.412Z"
   },
   {
    "duration": 132,
    "start_time": "2022-08-03T09:30:47.230Z"
   },
   {
    "duration": 120,
    "start_time": "2022-08-03T09:31:55.422Z"
   },
   {
    "duration": 3,
    "start_time": "2022-08-03T09:32:07.113Z"
   },
   {
    "duration": 123,
    "start_time": "2022-08-03T09:32:08.742Z"
   },
   {
    "duration": 122,
    "start_time": "2022-08-03T09:32:23.017Z"
   },
   {
    "duration": 3,
    "start_time": "2022-08-03T09:39:54.552Z"
   },
   {
    "duration": 116,
    "start_time": "2022-08-03T09:39:55.167Z"
   },
   {
    "duration": 3,
    "start_time": "2022-08-03T09:42:41.009Z"
   },
   {
    "duration": 97,
    "start_time": "2022-08-03T09:42:43.941Z"
   },
   {
    "duration": 3,
    "start_time": "2022-08-03T09:46:48.437Z"
   },
   {
    "duration": 101,
    "start_time": "2022-08-03T09:46:58.325Z"
   },
   {
    "duration": 3,
    "start_time": "2022-08-03T09:48:39.740Z"
   },
   {
    "duration": 86,
    "start_time": "2022-08-03T09:48:40.247Z"
   },
   {
    "duration": 92,
    "start_time": "2022-08-03T11:12:52.770Z"
   },
   {
    "duration": 2,
    "start_time": "2022-08-03T11:15:09.773Z"
   },
   {
    "duration": 91,
    "start_time": "2022-08-03T11:15:10.580Z"
   },
   {
    "duration": 3,
    "start_time": "2022-08-03T11:21:39.064Z"
   },
   {
    "duration": 102,
    "start_time": "2022-08-03T11:21:39.619Z"
   },
   {
    "duration": 578,
    "start_time": "2022-08-03T11:22:31.465Z"
   },
   {
    "duration": 5,
    "start_time": "2022-08-03T11:22:32.046Z"
   },
   {
    "duration": 7615,
    "start_time": "2022-08-03T11:22:32.053Z"
   },
   {
    "duration": 3,
    "start_time": "2022-08-03T11:22:39.671Z"
   },
   {
    "duration": 401,
    "start_time": "2022-08-03T11:22:39.676Z"
   },
   {
    "duration": 2,
    "start_time": "2022-08-03T11:22:40.079Z"
   },
   {
    "duration": 158,
    "start_time": "2022-08-03T11:22:40.082Z"
   },
   {
    "duration": 3,
    "start_time": "2022-08-03T11:22:40.242Z"
   },
   {
    "duration": 122,
    "start_time": "2022-08-03T11:22:40.247Z"
   },
   {
    "duration": 3,
    "start_time": "2022-08-03T11:22:40.372Z"
   },
   {
    "duration": 145,
    "start_time": "2022-08-03T11:22:40.377Z"
   },
   {
    "duration": 3,
    "start_time": "2022-08-03T11:22:40.524Z"
   },
   {
    "duration": 132,
    "start_time": "2022-08-03T11:22:40.529Z"
   },
   {
    "duration": 3,
    "start_time": "2022-08-03T11:22:40.662Z"
   },
   {
    "duration": 95,
    "start_time": "2022-08-03T11:22:40.667Z"
   },
   {
    "duration": 3,
    "start_time": "2022-08-03T11:22:40.764Z"
   },
   {
    "duration": 128,
    "start_time": "2022-08-03T11:22:40.769Z"
   },
   {
    "duration": 4,
    "start_time": "2022-08-03T11:22:40.898Z"
   },
   {
    "duration": 128,
    "start_time": "2022-08-03T11:22:40.904Z"
   },
   {
    "duration": 3,
    "start_time": "2022-08-03T11:22:41.034Z"
   },
   {
    "duration": 107,
    "start_time": "2022-08-03T11:22:41.039Z"
   },
   {
    "duration": 3,
    "start_time": "2022-08-03T11:22:41.149Z"
   },
   {
    "duration": 116,
    "start_time": "2022-08-03T11:22:41.153Z"
   },
   {
    "duration": 3,
    "start_time": "2022-08-03T11:22:41.271Z"
   },
   {
    "duration": 109,
    "start_time": "2022-08-03T11:22:41.276Z"
   },
   {
    "duration": 490,
    "start_time": "2022-08-03T18:08:21.482Z"
   },
   {
    "duration": 3,
    "start_time": "2022-08-03T18:08:21.974Z"
   },
   {
    "duration": 12677,
    "start_time": "2022-08-03T18:08:21.978Z"
   },
   {
    "duration": 2,
    "start_time": "2022-08-03T18:08:34.657Z"
   },
   {
    "duration": 86,
    "start_time": "2022-08-03T18:08:34.660Z"
   },
   {
    "duration": 2,
    "start_time": "2022-08-03T18:08:34.747Z"
   },
   {
    "duration": 30,
    "start_time": "2022-08-03T18:08:34.750Z"
   },
   {
    "duration": 2,
    "start_time": "2022-08-03T18:08:34.782Z"
   },
   {
    "duration": 30,
    "start_time": "2022-08-03T18:08:34.786Z"
   },
   {
    "duration": 5,
    "start_time": "2022-08-03T18:08:34.819Z"
   },
   {
    "duration": 47,
    "start_time": "2022-08-03T18:08:34.826Z"
   },
   {
    "duration": 3,
    "start_time": "2022-08-03T18:08:34.874Z"
   },
   {
    "duration": 61,
    "start_time": "2022-08-03T18:08:34.878Z"
   },
   {
    "duration": 3,
    "start_time": "2022-08-03T18:08:34.940Z"
   },
   {
    "duration": 27,
    "start_time": "2022-08-03T18:08:34.945Z"
   },
   {
    "duration": 6,
    "start_time": "2022-08-03T18:08:34.973Z"
   },
   {
    "duration": 46,
    "start_time": "2022-08-03T18:08:34.980Z"
   },
   {
    "duration": 2,
    "start_time": "2022-08-03T18:08:35.028Z"
   },
   {
    "duration": 35,
    "start_time": "2022-08-03T18:08:35.032Z"
   },
   {
    "duration": 3,
    "start_time": "2022-08-03T18:08:35.069Z"
   },
   {
    "duration": 27,
    "start_time": "2022-08-03T18:08:35.073Z"
   },
   {
    "duration": 4,
    "start_time": "2022-08-03T18:08:35.102Z"
   },
   {
    "duration": 33,
    "start_time": "2022-08-03T18:08:35.107Z"
   },
   {
    "duration": 7,
    "start_time": "2022-08-03T18:08:35.142Z"
   },
   {
    "duration": 32,
    "start_time": "2022-08-03T18:08:35.151Z"
   },
   {
    "duration": 3,
    "start_time": "2022-08-03T18:08:44.834Z"
   },
   {
    "duration": 32,
    "start_time": "2022-08-03T18:08:45.101Z"
   },
   {
    "duration": 3,
    "start_time": "2022-08-03T18:10:32.266Z"
   },
   {
    "duration": 24,
    "start_time": "2022-08-03T18:10:32.761Z"
   },
   {
    "duration": 149,
    "start_time": "2022-08-03T18:11:31.803Z"
   },
   {
    "duration": 17,
    "start_time": "2022-08-03T19:40:49.295Z"
   },
   {
    "duration": 65,
    "start_time": "2022-08-03T19:40:50.260Z"
   },
   {
    "duration": 571,
    "start_time": "2022-08-03T19:40:58.145Z"
   },
   {
    "duration": 4,
    "start_time": "2022-08-03T19:40:58.718Z"
   },
   {
    "duration": 5318,
    "start_time": "2022-08-03T19:40:58.724Z"
   },
   {
    "duration": 2,
    "start_time": "2022-08-03T19:41:04.044Z"
   },
   {
    "duration": 315,
    "start_time": "2022-08-03T19:41:04.048Z"
   },
   {
    "duration": 3,
    "start_time": "2022-08-03T19:41:04.365Z"
   },
   {
    "duration": 93,
    "start_time": "2022-08-03T19:41:04.369Z"
   },
   {
    "duration": 2,
    "start_time": "2022-08-03T19:41:04.464Z"
   },
   {
    "duration": 92,
    "start_time": "2022-08-03T19:41:04.468Z"
   },
   {
    "duration": 2,
    "start_time": "2022-08-03T19:41:04.562Z"
   },
   {
    "duration": 115,
    "start_time": "2022-08-03T19:41:04.566Z"
   },
   {
    "duration": 2,
    "start_time": "2022-08-03T19:41:04.683Z"
   },
   {
    "duration": 107,
    "start_time": "2022-08-03T19:41:04.687Z"
   },
   {
    "duration": 3,
    "start_time": "2022-08-03T19:41:04.797Z"
   },
   {
    "duration": 73,
    "start_time": "2022-08-03T19:41:04.802Z"
   },
   {
    "duration": 3,
    "start_time": "2022-08-03T19:41:04.877Z"
   },
   {
    "duration": 100,
    "start_time": "2022-08-03T19:41:04.882Z"
   },
   {
    "duration": 2,
    "start_time": "2022-08-03T19:41:04.984Z"
   },
   {
    "duration": 91,
    "start_time": "2022-08-03T19:41:04.988Z"
   },
   {
    "duration": 3,
    "start_time": "2022-08-03T19:41:05.081Z"
   },
   {
    "duration": 79,
    "start_time": "2022-08-03T19:41:05.086Z"
   },
   {
    "duration": 4,
    "start_time": "2022-08-03T19:41:18.995Z"
   },
   {
    "duration": 76,
    "start_time": "2022-08-03T19:41:19.756Z"
   },
   {
    "duration": 3,
    "start_time": "2022-08-03T19:42:09.748Z"
   },
   {
    "duration": 168,
    "start_time": "2022-08-03T19:42:10.648Z"
   },
   {
    "duration": 3,
    "start_time": "2022-08-03T19:42:16.740Z"
   },
   {
    "duration": 80,
    "start_time": "2022-08-03T19:42:17.366Z"
   },
   {
    "duration": 3,
    "start_time": "2022-08-03T19:45:34.266Z"
   },
   {
    "duration": 3,
    "start_time": "2022-08-03T19:46:04.348Z"
   },
   {
    "duration": 148,
    "start_time": "2022-08-03T19:46:12.368Z"
   },
   {
    "duration": 2,
    "start_time": "2022-08-03T19:47:17.398Z"
   },
   {
    "duration": 139,
    "start_time": "2022-08-03T19:47:18.644Z"
   },
   {
    "duration": 3,
    "start_time": "2022-08-03T19:47:39.673Z"
   },
   {
    "duration": 92,
    "start_time": "2022-08-03T19:47:40.369Z"
   },
   {
    "duration": 3,
    "start_time": "2022-08-03T19:47:52.902Z"
   },
   {
    "duration": 76,
    "start_time": "2022-08-03T19:47:53.839Z"
   },
   {
    "duration": 3,
    "start_time": "2022-08-03T19:48:17.103Z"
   },
   {
    "duration": 75,
    "start_time": "2022-08-03T19:48:17.611Z"
   },
   {
    "duration": 4,
    "start_time": "2022-08-03T19:49:40.315Z"
   },
   {
    "duration": 78,
    "start_time": "2022-08-03T19:49:41.395Z"
   },
   {
    "duration": 3,
    "start_time": "2022-08-03T20:06:16.840Z"
   },
   {
    "duration": 146,
    "start_time": "2022-08-03T20:06:30.340Z"
   },
   {
    "duration": 3,
    "start_time": "2022-08-03T20:06:34.166Z"
   },
   {
    "duration": 131,
    "start_time": "2022-08-03T20:06:34.671Z"
   },
   {
    "duration": 3,
    "start_time": "2022-08-03T20:07:25.950Z"
   },
   {
    "duration": 73,
    "start_time": "2022-08-03T20:07:26.939Z"
   },
   {
    "duration": 2,
    "start_time": "2022-08-03T20:12:38.628Z"
   },
   {
    "duration": 100,
    "start_time": "2022-08-03T20:12:39.739Z"
   },
   {
    "duration": 3,
    "start_time": "2022-08-03T20:15:33.724Z"
   },
   {
    "duration": 391,
    "start_time": "2022-08-03T20:15:43.143Z"
   },
   {
    "duration": 4,
    "start_time": "2022-08-03T20:23:22.028Z"
   },
   {
    "duration": 820,
    "start_time": "2022-08-03T20:23:22.728Z"
   },
   {
    "duration": 2,
    "start_time": "2022-08-03T20:26:32.053Z"
   },
   {
    "duration": 99,
    "start_time": "2022-08-03T20:26:34.024Z"
   },
   {
    "duration": 2,
    "start_time": "2022-08-03T20:27:59.124Z"
   },
   {
    "duration": 140,
    "start_time": "2022-08-03T20:28:00.629Z"
   },
   {
    "duration": 130,
    "start_time": "2022-08-03T20:28:26.538Z"
   },
   {
    "duration": 2,
    "start_time": "2022-08-03T20:28:37.417Z"
   },
   {
    "duration": 99,
    "start_time": "2022-08-03T20:28:38.024Z"
   },
   {
    "duration": 3,
    "start_time": "2022-08-03T20:29:40.163Z"
   },
   {
    "duration": 96,
    "start_time": "2022-08-03T20:29:40.778Z"
   },
   {
    "duration": 2,
    "start_time": "2022-08-03T20:32:14.052Z"
   },
   {
    "duration": 98,
    "start_time": "2022-08-03T20:32:14.620Z"
   },
   {
    "duration": 3,
    "start_time": "2022-08-03T20:34:30.672Z"
   },
   {
    "duration": 103,
    "start_time": "2022-08-03T20:34:31.236Z"
   },
   {
    "duration": 3,
    "start_time": "2022-08-03T20:34:42.978Z"
   },
   {
    "duration": 97,
    "start_time": "2022-08-03T20:34:43.759Z"
   },
   {
    "duration": 3,
    "start_time": "2022-08-03T20:36:47.062Z"
   },
   {
    "duration": 104,
    "start_time": "2022-08-03T20:36:47.858Z"
   },
   {
    "duration": 524,
    "start_time": "2022-08-03T20:41:42.237Z"
   },
   {
    "duration": 4,
    "start_time": "2022-08-03T20:41:42.763Z"
   },
   {
    "duration": 5962,
    "start_time": "2022-08-03T20:41:42.769Z"
   },
   {
    "duration": 3,
    "start_time": "2022-08-03T20:41:48.733Z"
   },
   {
    "duration": 332,
    "start_time": "2022-08-03T20:41:48.738Z"
   },
   {
    "duration": 3,
    "start_time": "2022-08-03T20:41:49.072Z"
   },
   {
    "duration": 98,
    "start_time": "2022-08-03T20:41:49.077Z"
   },
   {
    "duration": 2,
    "start_time": "2022-08-03T20:41:49.177Z"
   },
   {
    "duration": 93,
    "start_time": "2022-08-03T20:41:49.181Z"
   },
   {
    "duration": 2,
    "start_time": "2022-08-03T20:41:49.276Z"
   },
   {
    "duration": 127,
    "start_time": "2022-08-03T20:41:49.280Z"
   },
   {
    "duration": 2,
    "start_time": "2022-08-03T20:41:49.409Z"
   },
   {
    "duration": 111,
    "start_time": "2022-08-03T20:41:49.413Z"
   },
   {
    "duration": 2,
    "start_time": "2022-08-03T20:41:49.527Z"
   },
   {
    "duration": 77,
    "start_time": "2022-08-03T20:41:49.531Z"
   },
   {
    "duration": 3,
    "start_time": "2022-08-03T20:41:49.609Z"
   },
   {
    "duration": 104,
    "start_time": "2022-08-03T20:41:49.614Z"
   },
   {
    "duration": 3,
    "start_time": "2022-08-03T20:41:49.719Z"
   },
   {
    "duration": 93,
    "start_time": "2022-08-03T20:41:49.723Z"
   },
   {
    "duration": 2,
    "start_time": "2022-08-03T20:41:49.818Z"
   },
   {
    "duration": 76,
    "start_time": "2022-08-03T20:41:49.822Z"
   },
   {
    "duration": 3,
    "start_time": "2022-08-03T20:41:49.900Z"
   },
   {
    "duration": 74,
    "start_time": "2022-08-03T20:41:49.905Z"
   },
   {
    "duration": 3,
    "start_time": "2022-08-03T20:41:49.981Z"
   },
   {
    "duration": 82,
    "start_time": "2022-08-03T20:41:49.986Z"
   },
   {
    "duration": 2,
    "start_time": "2022-08-03T20:41:50.070Z"
   },
   {
    "duration": 114,
    "start_time": "2022-08-03T20:41:50.074Z"
   },
   {
    "duration": 570,
    "start_time": "2022-08-04T18:36:58.675Z"
   },
   {
    "duration": 4,
    "start_time": "2022-08-04T18:36:59.247Z"
   },
   {
    "duration": 8399,
    "start_time": "2022-08-04T18:36:59.253Z"
   },
   {
    "duration": 3,
    "start_time": "2022-08-04T18:37:07.654Z"
   },
   {
    "duration": 311,
    "start_time": "2022-08-04T18:37:07.660Z"
   },
   {
    "duration": 3,
    "start_time": "2022-08-04T18:37:07.973Z"
   },
   {
    "duration": 96,
    "start_time": "2022-08-04T18:37:07.978Z"
   },
   {
    "duration": 2,
    "start_time": "2022-08-04T18:37:08.077Z"
   },
   {
    "duration": 94,
    "start_time": "2022-08-04T18:37:08.081Z"
   },
   {
    "duration": 2,
    "start_time": "2022-08-04T18:37:08.178Z"
   },
   {
    "duration": 151,
    "start_time": "2022-08-04T18:37:08.182Z"
   },
   {
    "duration": 2,
    "start_time": "2022-08-04T18:37:08.335Z"
   },
   {
    "duration": 115,
    "start_time": "2022-08-04T18:37:08.339Z"
   },
   {
    "duration": 3,
    "start_time": "2022-08-04T18:37:08.456Z"
   },
   {
    "duration": 85,
    "start_time": "2022-08-04T18:37:08.460Z"
   },
   {
    "duration": 3,
    "start_time": "2022-08-04T18:37:08.546Z"
   },
   {
    "duration": 106,
    "start_time": "2022-08-04T18:37:08.551Z"
   },
   {
    "duration": 4,
    "start_time": "2022-08-04T18:37:08.659Z"
   },
   {
    "duration": 101,
    "start_time": "2022-08-04T18:37:08.664Z"
   },
   {
    "duration": 3,
    "start_time": "2022-08-04T18:37:08.766Z"
   },
   {
    "duration": 80,
    "start_time": "2022-08-04T18:37:08.770Z"
   },
   {
    "duration": 3,
    "start_time": "2022-08-04T18:37:08.852Z"
   },
   {
    "duration": 92,
    "start_time": "2022-08-04T18:37:08.857Z"
   },
   {
    "duration": 3,
    "start_time": "2022-08-04T18:37:08.951Z"
   },
   {
    "duration": 121,
    "start_time": "2022-08-04T18:37:08.957Z"
   },
   {
    "duration": 3,
    "start_time": "2022-08-04T18:37:09.080Z"
   },
   {
    "duration": 127,
    "start_time": "2022-08-04T18:37:09.085Z"
   },
   {
    "duration": 2,
    "start_time": "2022-08-04T18:37:23.335Z"
   },
   {
    "duration": 83,
    "start_time": "2022-08-04T18:37:23.758Z"
   },
   {
    "duration": 7,
    "start_time": "2022-08-04T19:29:56.411Z"
   },
   {
    "duration": 48,
    "start_time": "2022-08-04T19:29:57.210Z"
   },
   {
    "duration": 533,
    "start_time": "2022-08-04T19:30:03.960Z"
   },
   {
    "duration": 6,
    "start_time": "2022-08-04T19:30:04.496Z"
   },
   {
    "duration": 6261,
    "start_time": "2022-08-04T19:30:04.503Z"
   },
   {
    "duration": 2,
    "start_time": "2022-08-04T19:30:10.766Z"
   },
   {
    "duration": 304,
    "start_time": "2022-08-04T19:30:10.770Z"
   },
   {
    "duration": 2,
    "start_time": "2022-08-04T19:30:11.076Z"
   },
   {
    "duration": 92,
    "start_time": "2022-08-04T19:30:11.079Z"
   },
   {
    "duration": 4,
    "start_time": "2022-08-04T19:30:11.173Z"
   },
   {
    "duration": 93,
    "start_time": "2022-08-04T19:30:11.178Z"
   },
   {
    "duration": 2,
    "start_time": "2022-08-04T19:30:11.273Z"
   },
   {
    "duration": 118,
    "start_time": "2022-08-04T19:30:11.277Z"
   },
   {
    "duration": 17,
    "start_time": "2022-08-04T19:30:11.396Z"
   },
   {
    "duration": 110,
    "start_time": "2022-08-04T19:30:11.414Z"
   },
   {
    "duration": 2,
    "start_time": "2022-08-04T19:30:11.526Z"
   },
   {
    "duration": 79,
    "start_time": "2022-08-04T19:30:11.529Z"
   },
   {
    "duration": 3,
    "start_time": "2022-08-04T19:30:11.611Z"
   },
   {
    "duration": 105,
    "start_time": "2022-08-04T19:30:11.615Z"
   },
   {
    "duration": 2,
    "start_time": "2022-08-04T19:30:11.722Z"
   },
   {
    "duration": 103,
    "start_time": "2022-08-04T19:30:11.725Z"
   },
   {
    "duration": 3,
    "start_time": "2022-08-04T19:30:11.829Z"
   },
   {
    "duration": 96,
    "start_time": "2022-08-04T19:30:11.833Z"
   },
   {
    "duration": 3,
    "start_time": "2022-08-04T19:30:11.930Z"
   },
   {
    "duration": 92,
    "start_time": "2022-08-04T19:30:11.934Z"
   },
   {
    "duration": 3,
    "start_time": "2022-08-04T19:30:12.027Z"
   },
   {
    "duration": 3,
    "start_time": "2022-08-04T19:30:14.572Z"
   },
   {
    "duration": 184,
    "start_time": "2022-08-04T19:30:15.155Z"
   },
   {
    "duration": 2,
    "start_time": "2022-08-04T19:30:36.451Z"
   },
   {
    "duration": 121,
    "start_time": "2022-08-04T19:30:36.872Z"
   },
   {
    "duration": 7,
    "start_time": "2022-08-04T19:32:42.397Z"
   },
   {
    "duration": 135,
    "start_time": "2022-08-04T19:32:43.476Z"
   },
   {
    "duration": 2,
    "start_time": "2022-08-04T19:33:38.187Z"
   },
   {
    "duration": 87,
    "start_time": "2022-08-04T19:33:38.774Z"
   },
   {
    "duration": 3,
    "start_time": "2022-08-04T19:38:22.485Z"
   },
   {
    "duration": 136,
    "start_time": "2022-08-04T19:38:23.338Z"
   },
   {
    "duration": 6,
    "start_time": "2022-08-04T19:38:34.480Z"
   },
   {
    "duration": 135,
    "start_time": "2022-08-04T19:38:35.433Z"
   },
   {
    "duration": 3,
    "start_time": "2022-08-04T19:49:42.579Z"
   },
   {
    "duration": 80,
    "start_time": "2022-08-04T19:49:43.736Z"
   },
   {
    "duration": 3,
    "start_time": "2022-08-04T19:50:43.392Z"
   },
   {
    "duration": 97,
    "start_time": "2022-08-04T19:50:43.959Z"
   },
   {
    "duration": 3,
    "start_time": "2022-08-04T20:10:55.269Z"
   },
   {
    "duration": 140,
    "start_time": "2022-08-04T20:10:58.886Z"
   },
   {
    "duration": 3,
    "start_time": "2022-08-04T20:18:08.745Z"
   },
   {
    "duration": 87,
    "start_time": "2022-08-04T20:18:09.523Z"
   },
   {
    "duration": 3,
    "start_time": "2022-08-04T20:18:23.269Z"
   },
   {
    "duration": 307,
    "start_time": "2022-08-04T20:18:23.860Z"
   },
   {
    "duration": 3,
    "start_time": "2022-08-04T20:18:53.529Z"
   },
   {
    "duration": 108,
    "start_time": "2022-08-04T20:18:54.255Z"
   },
   {
    "duration": 109,
    "start_time": "2022-08-04T21:03:00.478Z"
   }
  ],
  "kernelspec": {
   "display_name": "Python 3 (ipykernel)",
   "language": "python",
   "name": "python3"
  },
  "language_info": {
   "codemirror_mode": {
    "name": "ipython",
    "version": 3
   },
   "file_extension": ".py",
   "mimetype": "text/x-python",
   "name": "python",
   "nbconvert_exporter": "python",
   "pygments_lexer": "ipython3",
   "version": "3.9.7"
  },
  "toc": {
   "base_numbering": 1,
   "nav_menu": {},
   "number_sections": true,
   "sideBar": true,
   "skip_h1_title": true,
   "title_cell": "Table of Contents",
   "title_sidebar": "Contents",
   "toc_cell": false,
   "toc_position": {
    "height": "calc(100% - 180px)",
    "left": "10px",
    "top": "150px",
    "width": "257.388px"
   },
   "toc_section_display": true,
   "toc_window_display": true
  }
 },
 "nbformat": 4,
 "nbformat_minor": 2
}
