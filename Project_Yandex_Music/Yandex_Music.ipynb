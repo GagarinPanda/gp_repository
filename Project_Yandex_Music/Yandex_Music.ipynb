{
 "cells": [
  {
   "cell_type": "markdown",
   "metadata": {
    "id": "E0vqbgi9ay0H"
   },
   "source": [
    "# Яндекс.Музыка"
   ]
  },
  {
   "cell_type": "markdown",
   "metadata": {
    "id": "VUC88oWjTJw2"
   },
   "source": [
    "**Источник данных:** сервис Яндекс.Музыка.\n",
    "\n",
    "**Цель исследования** — проверьте три гипотезы:\n",
    "1. Активность пользователей зависит от дня недели. Причём в Москве и Петербурге это проявляется по-разному.\n",
    "2. В понедельник утром в Москве преобладают одни жанры, а в Петербурге — другие. Так же и вечером пятницы преобладают разные жанры — в зависимости от города. \n",
    "3. Москва и Петербург предпочитают разные жанры музыки. В Москве чаще слушают поп-музыку, в Петербурге — русский рэп.\n",
    "\n",
    "**Ход исследования**\n",
    "\n",
    "Исследование состоит из трёх этапов:\n",
    " 1. Обзор данных.\n",
    " 2. Предобработка данных.\n",
    " 3. Проверка гипотез."
   ]
  },
  {
   "cell_type": "markdown",
   "metadata": {
    "id": "Ml1hmfXC_Zcs"
   },
   "source": [
    "## Обзор данных"
   ]
  },
  {
   "cell_type": "code",
   "execution_count": 1,
   "metadata": {
    "id": "AXN7PHPN_Zcs"
   },
   "outputs": [],
   "source": [
    "import pandas as pd # импорт библиотеки pandas"
   ]
  },
  {
   "cell_type": "code",
   "execution_count": 2,
   "metadata": {
    "id": "fFVu7vqh_Zct"
   },
   "outputs": [],
   "source": [
    "df = pd.read_csv('/datasets/yandex_music_project.csv') # чтение файла с данными и сохранение в df"
   ]
  },
  {
   "cell_type": "code",
   "execution_count": 3,
   "metadata": {
    "id": "oWTVX3gW_Zct"
   },
   "outputs": [
    {
     "data": {
      "text/html": [
       "<div>\n",
       "<style scoped>\n",
       "    .dataframe tbody tr th:only-of-type {\n",
       "        vertical-align: middle;\n",
       "    }\n",
       "\n",
       "    .dataframe tbody tr th {\n",
       "        vertical-align: top;\n",
       "    }\n",
       "\n",
       "    .dataframe thead th {\n",
       "        text-align: right;\n",
       "    }\n",
       "</style>\n",
       "<table border=\"1\" class=\"dataframe\">\n",
       "  <thead>\n",
       "    <tr style=\"text-align: right;\">\n",
       "      <th></th>\n",
       "      <th>userID</th>\n",
       "      <th>Track</th>\n",
       "      <th>artist</th>\n",
       "      <th>genre</th>\n",
       "      <th>City</th>\n",
       "      <th>time</th>\n",
       "      <th>Day</th>\n",
       "    </tr>\n",
       "  </thead>\n",
       "  <tbody>\n",
       "    <tr>\n",
       "      <th>0</th>\n",
       "      <td>FFB692EC</td>\n",
       "      <td>Kamigata To Boots</td>\n",
       "      <td>The Mass Missile</td>\n",
       "      <td>rock</td>\n",
       "      <td>Saint-Petersburg</td>\n",
       "      <td>20:28:33</td>\n",
       "      <td>Wednesday</td>\n",
       "    </tr>\n",
       "    <tr>\n",
       "      <th>1</th>\n",
       "      <td>55204538</td>\n",
       "      <td>Delayed Because of Accident</td>\n",
       "      <td>Andreas Rönnberg</td>\n",
       "      <td>rock</td>\n",
       "      <td>Moscow</td>\n",
       "      <td>14:07:09</td>\n",
       "      <td>Friday</td>\n",
       "    </tr>\n",
       "    <tr>\n",
       "      <th>2</th>\n",
       "      <td>20EC38</td>\n",
       "      <td>Funiculì funiculà</td>\n",
       "      <td>Mario Lanza</td>\n",
       "      <td>pop</td>\n",
       "      <td>Saint-Petersburg</td>\n",
       "      <td>20:58:07</td>\n",
       "      <td>Wednesday</td>\n",
       "    </tr>\n",
       "    <tr>\n",
       "      <th>3</th>\n",
       "      <td>A3DD03C9</td>\n",
       "      <td>Dragons in the Sunset</td>\n",
       "      <td>Fire + Ice</td>\n",
       "      <td>folk</td>\n",
       "      <td>Saint-Petersburg</td>\n",
       "      <td>08:37:09</td>\n",
       "      <td>Monday</td>\n",
       "    </tr>\n",
       "    <tr>\n",
       "      <th>4</th>\n",
       "      <td>E2DC1FAE</td>\n",
       "      <td>Soul People</td>\n",
       "      <td>Space Echo</td>\n",
       "      <td>dance</td>\n",
       "      <td>Moscow</td>\n",
       "      <td>08:34:34</td>\n",
       "      <td>Monday</td>\n",
       "    </tr>\n",
       "    <tr>\n",
       "      <th>5</th>\n",
       "      <td>842029A1</td>\n",
       "      <td>Преданная</td>\n",
       "      <td>IMPERVTOR</td>\n",
       "      <td>rusrap</td>\n",
       "      <td>Saint-Petersburg</td>\n",
       "      <td>13:09:41</td>\n",
       "      <td>Friday</td>\n",
       "    </tr>\n",
       "    <tr>\n",
       "      <th>6</th>\n",
       "      <td>4CB90AA5</td>\n",
       "      <td>True</td>\n",
       "      <td>Roman Messer</td>\n",
       "      <td>dance</td>\n",
       "      <td>Moscow</td>\n",
       "      <td>13:00:07</td>\n",
       "      <td>Wednesday</td>\n",
       "    </tr>\n",
       "    <tr>\n",
       "      <th>7</th>\n",
       "      <td>F03E1C1F</td>\n",
       "      <td>Feeling This Way</td>\n",
       "      <td>Polina Griffith</td>\n",
       "      <td>dance</td>\n",
       "      <td>Moscow</td>\n",
       "      <td>20:47:49</td>\n",
       "      <td>Wednesday</td>\n",
       "    </tr>\n",
       "    <tr>\n",
       "      <th>8</th>\n",
       "      <td>8FA1D3BE</td>\n",
       "      <td>И вновь продолжается бой</td>\n",
       "      <td>NaN</td>\n",
       "      <td>ruspop</td>\n",
       "      <td>Moscow</td>\n",
       "      <td>09:17:40</td>\n",
       "      <td>Friday</td>\n",
       "    </tr>\n",
       "    <tr>\n",
       "      <th>9</th>\n",
       "      <td>E772D5C0</td>\n",
       "      <td>Pessimist</td>\n",
       "      <td>NaN</td>\n",
       "      <td>dance</td>\n",
       "      <td>Saint-Petersburg</td>\n",
       "      <td>21:20:49</td>\n",
       "      <td>Wednesday</td>\n",
       "    </tr>\n",
       "  </tbody>\n",
       "</table>\n",
       "</div>"
      ],
      "text/plain": [
       "     userID                        Track            artist   genre  \\\n",
       "0  FFB692EC            Kamigata To Boots  The Mass Missile    rock   \n",
       "1  55204538  Delayed Because of Accident  Andreas Rönnberg    rock   \n",
       "2    20EC38            Funiculì funiculà       Mario Lanza     pop   \n",
       "3  A3DD03C9        Dragons in the Sunset        Fire + Ice    folk   \n",
       "4  E2DC1FAE                  Soul People        Space Echo   dance   \n",
       "5  842029A1                    Преданная         IMPERVTOR  rusrap   \n",
       "6  4CB90AA5                         True      Roman Messer   dance   \n",
       "7  F03E1C1F             Feeling This Way   Polina Griffith   dance   \n",
       "8  8FA1D3BE     И вновь продолжается бой               NaN  ruspop   \n",
       "9  E772D5C0                    Pessimist               NaN   dance   \n",
       "\n",
       "             City        time        Day  \n",
       "0  Saint-Petersburg  20:28:33  Wednesday  \n",
       "1            Moscow  14:07:09     Friday  \n",
       "2  Saint-Petersburg  20:58:07  Wednesday  \n",
       "3  Saint-Petersburg  08:37:09     Monday  \n",
       "4            Moscow  08:34:34     Monday  \n",
       "5  Saint-Petersburg  13:09:41     Friday  \n",
       "6            Moscow  13:00:07  Wednesday  \n",
       "7            Moscow  20:47:49  Wednesday  \n",
       "8            Moscow  09:17:40     Friday  \n",
       "9  Saint-Petersburg  21:20:49  Wednesday  "
      ]
     },
     "execution_count": 3,
     "metadata": {},
     "output_type": "execute_result"
    }
   ],
   "source": [
    "df.head(10)# получение первых 10 строк таблицы df"
   ]
  },
  {
   "cell_type": "code",
   "execution_count": 4,
   "metadata": {
    "id": "DSf2kIb-_Zct"
   },
   "outputs": [
    {
     "name": "stdout",
     "output_type": "stream",
     "text": [
      "<class 'pandas.core.frame.DataFrame'>\n",
      "RangeIndex: 65079 entries, 0 to 65078\n",
      "Data columns (total 7 columns):\n",
      " #   Column    Non-Null Count  Dtype \n",
      "---  ------    --------------  ----- \n",
      " 0     userID  65079 non-null  object\n",
      " 1   Track     63848 non-null  object\n",
      " 2   artist    57876 non-null  object\n",
      " 3   genre     63881 non-null  object\n",
      " 4     City    65079 non-null  object\n",
      " 5   time      65079 non-null  object\n",
      " 6   Day       65079 non-null  object\n",
      "dtypes: object(7)\n",
      "memory usage: 3.5+ MB\n"
     ]
    }
   ],
   "source": [
    "df.info()# получение общей информации о данных в таблице df"
   ]
  },
  {
   "cell_type": "markdown",
   "metadata": {
    "id": "TaQ2Iwbr_Zct"
   },
   "source": [
    "Итак, в таблице семь столбцов. Тип данных во всех столбцах — `object`.\n",
    "\n",
    "Согласно документации к данным:\n",
    "* `userID` — идентификатор пользователя;\n",
    "* `Track` — название трека;  \n",
    "* `artist` — имя исполнителя;\n",
    "* `genre` — название жанра;\n",
    "* `City` — город пользователя;\n",
    "* `time` — время начала прослушивания;\n",
    "* `Day` — день недели.\n",
    "\n",
    "В названиях колонок видны три нарушения стиля:\n",
    "1. Строчные буквы сочетаются с прописными.\n",
    "2. Встречаются пробелы.\n",
    "3. Название столбца состоящего из двух слов записано в ВерблюжьемРегистре.\n",
    "\n",
    "\n",
    "\n",
    "Количество значений в столбцах различается. Значит, в данных есть пропущенные значения.\n"
   ]
  },
  {
   "cell_type": "markdown",
   "metadata": {
    "id": "MCB6-dXG_Zct"
   },
   "source": [
    "**Выводы**\n",
    "\n",
    "В каждой строке таблицы — данные о прослушанном треке. Часть колонок описывает саму композицию: название, исполнителя и жанр. Остальные данные рассказывают о пользователе: из какого он города, когда он слушал музыку. \n",
    "\n",
    "Предварительно можно утверждать, что, данных достаточно для проверки гипотез. Но встречаются пропуски в данных, а в названиях колонок — расхождения с хорошим стилем.\n",
    "\n",
    "Чтобы двигаться дальше, нужно устранить проблемы в данных."
   ]
  },
  {
   "cell_type": "markdown",
   "metadata": {
    "id": "SjYF6Ub9_Zct"
   },
   "source": [
    "## Предобработка данных"
   ]
  },
  {
   "cell_type": "markdown",
   "metadata": {
    "id": "dIaKXr29_Zct"
   },
   "source": [
    "### Стиль заголовков"
   ]
  },
  {
   "cell_type": "code",
   "execution_count": 5,
   "metadata": {
    "id": "oKOTdF_Q_Zct"
   },
   "outputs": [
    {
     "data": {
      "text/plain": [
       "Index(['  userID', 'Track', 'artist', 'genre', '  City  ', 'time', 'Day'], dtype='object')"
      ]
     },
     "execution_count": 5,
     "metadata": {},
     "output_type": "execute_result"
    }
   ],
   "source": [
    "df.columns # перечень названий столбцов таблицы df"
   ]
  },
  {
   "cell_type": "code",
   "execution_count": 6,
   "metadata": {
    "id": "ISlFqs5y_Zct"
   },
   "outputs": [],
   "source": [
    "df = df.rename(columns={'  userID':'user_id', 'Track':'track', '  City  ':'city', 'Day':'day'}) # переименование столбцов"
   ]
  },
  {
   "cell_type": "code",
   "execution_count": 7,
   "metadata": {
    "id": "d4NOAmTW_Zct"
   },
   "outputs": [
    {
     "data": {
      "text/plain": [
       "Index(['user_id', 'track', 'artist', 'genre', 'city', 'time', 'day'], dtype='object')"
      ]
     },
     "execution_count": 7,
     "metadata": {},
     "output_type": "execute_result"
    }
   ],
   "source": [
    "df.columns # проверка результатов - перечень названий столбцов"
   ]
  },
  {
   "cell_type": "markdown",
   "metadata": {
    "id": "5ISfbcfY_Zct"
   },
   "source": [
    "### Пропуски значений"
   ]
  },
  {
   "cell_type": "code",
   "execution_count": 8,
   "metadata": {
    "id": "RskX29qr_Zct"
   },
   "outputs": [
    {
     "data": {
      "text/plain": [
       "user_id       0\n",
       "track      1231\n",
       "artist     7203\n",
       "genre      1198\n",
       "city          0\n",
       "time          0\n",
       "day           0\n",
       "dtype: int64"
      ]
     },
     "execution_count": 8,
     "metadata": {},
     "output_type": "execute_result"
    }
   ],
   "source": [
    "df.isna().sum()# подсчёт пропусков"
   ]
  },
  {
   "cell_type": "code",
   "execution_count": 9,
   "metadata": {
    "id": "KplB5qWs_Zct"
   },
   "outputs": [],
   "source": [
    "column_to_replace = ['track', 'artist', 'genre'] # перебор названий столбцов в цикле и замена пропущенных значений на 'unknown'\n",
    "for column in column_to_replace:\n",
    "    df[column] = df[column].fillna('unknown')"
   ]
  },
  {
   "cell_type": "code",
   "execution_count": 10,
   "metadata": {
    "id": "Tq4nYRX4_Zct"
   },
   "outputs": [
    {
     "data": {
      "text/plain": [
       "user_id    0\n",
       "track      0\n",
       "artist     0\n",
       "genre      0\n",
       "city       0\n",
       "time       0\n",
       "day        0\n",
       "dtype: int64"
      ]
     },
     "execution_count": 10,
     "metadata": {},
     "output_type": "execute_result"
    }
   ],
   "source": [
    "df.isna().sum()# подсчёт пропусков"
   ]
  },
  {
   "cell_type": "markdown",
   "metadata": {
    "id": "BWKRtBJ3_Zct"
   },
   "source": [
    "### Дубликаты"
   ]
  },
  {
   "cell_type": "code",
   "execution_count": 11,
   "metadata": {
    "id": "36eES_S0_Zct"
   },
   "outputs": [
    {
     "data": {
      "text/plain": [
       "3826"
      ]
     },
     "execution_count": 11,
     "metadata": {},
     "output_type": "execute_result"
    }
   ],
   "source": [
    "df.duplicated().sum() #подсчёт явных дубликатов"
   ]
  },
  {
   "cell_type": "code",
   "execution_count": 12,
   "metadata": {
    "id": "exFHq6tt_Zct"
   },
   "outputs": [],
   "source": [
    "df = df.drop_duplicates().reset_index(drop=True) # удаление явных дубликатов (с удалением старых индексов и формированием новых)"
   ]
  },
  {
   "cell_type": "code",
   "execution_count": 13,
   "metadata": {
    "id": "-8PuNWQ0_Zct"
   },
   "outputs": [
    {
     "data": {
      "text/plain": [
       "0"
      ]
     },
     "execution_count": 13,
     "metadata": {},
     "output_type": "execute_result"
    }
   ],
   "source": [
    "df.duplicated().sum()# проверка на отсутствие дубликатов"
   ]
  },
  {
   "cell_type": "code",
   "execution_count": 14,
   "metadata": {
    "id": "JIUcqzZN_Zct"
   },
   "outputs": [
    {
     "data": {
      "text/plain": [
       "array(['acid', 'acoustic', 'action', 'adult', 'africa', 'afrikaans',\n",
       "       'alternative', 'alternativepunk', 'ambient', 'americana',\n",
       "       'animated', 'anime', 'arabesk', 'arabic', 'arena',\n",
       "       'argentinetango', 'art', 'audiobook', 'author', 'avantgarde',\n",
       "       'axé', 'baile', 'balkan', 'beats', 'bigroom', 'black', 'bluegrass',\n",
       "       'blues', 'bollywood', 'bossa', 'brazilian', 'breakbeat', 'breaks',\n",
       "       'broadway', 'cantautori', 'cantopop', 'canzone', 'caribbean',\n",
       "       'caucasian', 'celtic', 'chamber', 'chanson', 'children', 'chill',\n",
       "       'chinese', 'choral', 'christian', 'christmas', 'classical',\n",
       "       'classicmetal', 'club', 'colombian', 'comedy', 'conjazz',\n",
       "       'contemporary', 'country', 'cuban', 'dance', 'dancehall',\n",
       "       'dancepop', 'dark', 'death', 'deep', 'deutschrock', 'deutschspr',\n",
       "       'dirty', 'disco', 'dnb', 'documentary', 'downbeat', 'downtempo',\n",
       "       'drum', 'dub', 'dubstep', 'eastern', 'easy', 'electronic',\n",
       "       'electropop', 'emo', 'entehno', 'epicmetal', 'estrada', 'ethnic',\n",
       "       'eurofolk', 'european', 'experimental', 'extrememetal', 'fado',\n",
       "       'fairytail', 'film', 'fitness', 'flamenco', 'folk', 'folklore',\n",
       "       'folkmetal', 'folkrock', 'folktronica', 'forró', 'frankreich',\n",
       "       'französisch', 'french', 'funk', 'future', 'gangsta', 'garage',\n",
       "       'german', 'ghazal', 'gitarre', 'glitch', 'gospel', 'gothic',\n",
       "       'grime', 'grunge', 'gypsy', 'handsup', \"hard'n'heavy\", 'hardcore',\n",
       "       'hardstyle', 'hardtechno', 'hip', 'hip-hop', 'hiphop',\n",
       "       'historisch', 'holiday', 'hop', 'horror', 'house', 'hymn', 'idm',\n",
       "       'independent', 'indian', 'indie', 'indipop', 'industrial',\n",
       "       'inspirational', 'instrumental', 'international', 'irish', 'jam',\n",
       "       'japanese', 'jazz', 'jewish', 'jpop', 'jungle', 'k-pop',\n",
       "       'karadeniz', 'karaoke', 'kayokyoku', 'korean', 'laiko', 'latin',\n",
       "       'latino', 'leftfield', 'local', 'lounge', 'loungeelectronic',\n",
       "       'lovers', 'malaysian', 'mandopop', 'marschmusik', 'meditative',\n",
       "       'mediterranean', 'melodic', 'metal', 'metalcore', 'mexican',\n",
       "       'middle', 'minimal', 'miscellaneous', 'modern', 'mood', 'mpb',\n",
       "       'muslim', 'native', 'neoklassik', 'neue', 'new', 'newage',\n",
       "       'newwave', 'nu', 'nujazz', 'numetal', 'oceania', 'old', 'opera',\n",
       "       'orchestral', 'other', 'piano', 'podcasts', 'pop', 'popdance',\n",
       "       'popelectronic', 'popeurodance', 'poprussian', 'post',\n",
       "       'posthardcore', 'postrock', 'power', 'progmetal', 'progressive',\n",
       "       'psychedelic', 'punjabi', 'punk', 'quebecois', 'ragga', 'ram',\n",
       "       'rancheras', 'rap', 'rave', 'reggae', 'reggaeton', 'regional',\n",
       "       'relax', 'religious', 'retro', 'rhythm', 'rnb', 'rnr', 'rock',\n",
       "       'rockabilly', 'rockalternative', 'rockindie', 'rockother',\n",
       "       'romance', 'roots', 'ruspop', 'rusrap', 'rusrock', 'russian',\n",
       "       'salsa', 'samba', 'scenic', 'schlager', 'self', 'sertanejo',\n",
       "       'shanson', 'shoegazing', 'showtunes', 'singer', 'ska', 'skarock',\n",
       "       'slow', 'smooth', 'soft', 'soul', 'soulful', 'sound', 'soundtrack',\n",
       "       'southern', 'specialty', 'speech', 'spiritual', 'sport',\n",
       "       'stonerrock', 'surf', 'swing', 'synthpop', 'synthrock',\n",
       "       'sängerportrait', 'tango', 'tanzorchester', 'taraftar', 'tatar',\n",
       "       'tech', 'techno', 'teen', 'thrash', 'top', 'traditional',\n",
       "       'tradjazz', 'trance', 'tribal', 'trip', 'triphop', 'tropical',\n",
       "       'türk', 'türkçe', 'ukrrock', 'unknown', 'urban', 'uzbek',\n",
       "       'variété', 'vi', 'videogame', 'vocal', 'western', 'world',\n",
       "       'worldbeat', 'ïîï', 'электроника'], dtype=object)"
      ]
     },
     "execution_count": 14,
     "metadata": {},
     "output_type": "execute_result"
    }
   ],
   "source": [
    "df['genre'].sort_values().unique() # Просмотр уникальных названий жанров"
   ]
  },
  {
   "cell_type": "code",
   "execution_count": 15,
   "metadata": {
    "id": "ErNDkmns_Zct"
   },
   "outputs": [],
   "source": [
    "def replace_wrong_genres(wrong_genres, correct_genre): # Функция для замены неявных дубликатов\n",
    "    df['genre'] = df['genre'].replace(wrong_genres, correct_genre)\n",
    "        "
   ]
  },
  {
   "cell_type": "code",
   "execution_count": 16,
   "metadata": {
    "id": "YN5i2hpmSo09"
   },
   "outputs": [],
   "source": [
    "# Устранение неявных дубликатов\n",
    "replace_wrong_genres(['hip', 'hop', 'hip-hop'], 'hiphop')"
   ]
  },
  {
   "cell_type": "code",
   "execution_count": 17,
   "metadata": {
    "id": "wvixALnFG15m",
    "scrolled": false
   },
   "outputs": [
    {
     "data": {
      "text/plain": [
       "array(['acid', 'acoustic', 'action', 'adult', 'africa', 'afrikaans',\n",
       "       'alternative', 'alternativepunk', 'ambient', 'americana',\n",
       "       'animated', 'anime', 'arabesk', 'arabic', 'arena',\n",
       "       'argentinetango', 'art', 'audiobook', 'author', 'avantgarde',\n",
       "       'axé', 'baile', 'balkan', 'beats', 'bigroom', 'black', 'bluegrass',\n",
       "       'blues', 'bollywood', 'bossa', 'brazilian', 'breakbeat', 'breaks',\n",
       "       'broadway', 'cantautori', 'cantopop', 'canzone', 'caribbean',\n",
       "       'caucasian', 'celtic', 'chamber', 'chanson', 'children', 'chill',\n",
       "       'chinese', 'choral', 'christian', 'christmas', 'classical',\n",
       "       'classicmetal', 'club', 'colombian', 'comedy', 'conjazz',\n",
       "       'contemporary', 'country', 'cuban', 'dance', 'dancehall',\n",
       "       'dancepop', 'dark', 'death', 'deep', 'deutschrock', 'deutschspr',\n",
       "       'dirty', 'disco', 'dnb', 'documentary', 'downbeat', 'downtempo',\n",
       "       'drum', 'dub', 'dubstep', 'eastern', 'easy', 'electronic',\n",
       "       'electropop', 'emo', 'entehno', 'epicmetal', 'estrada', 'ethnic',\n",
       "       'eurofolk', 'european', 'experimental', 'extrememetal', 'fado',\n",
       "       'fairytail', 'film', 'fitness', 'flamenco', 'folk', 'folklore',\n",
       "       'folkmetal', 'folkrock', 'folktronica', 'forró', 'frankreich',\n",
       "       'französisch', 'french', 'funk', 'future', 'gangsta', 'garage',\n",
       "       'german', 'ghazal', 'gitarre', 'glitch', 'gospel', 'gothic',\n",
       "       'grime', 'grunge', 'gypsy', 'handsup', \"hard'n'heavy\", 'hardcore',\n",
       "       'hardstyle', 'hardtechno', 'hiphop', 'historisch', 'holiday',\n",
       "       'horror', 'house', 'hymn', 'idm', 'independent', 'indian', 'indie',\n",
       "       'indipop', 'industrial', 'inspirational', 'instrumental',\n",
       "       'international', 'irish', 'jam', 'japanese', 'jazz', 'jewish',\n",
       "       'jpop', 'jungle', 'k-pop', 'karadeniz', 'karaoke', 'kayokyoku',\n",
       "       'korean', 'laiko', 'latin', 'latino', 'leftfield', 'local',\n",
       "       'lounge', 'loungeelectronic', 'lovers', 'malaysian', 'mandopop',\n",
       "       'marschmusik', 'meditative', 'mediterranean', 'melodic', 'metal',\n",
       "       'metalcore', 'mexican', 'middle', 'minimal', 'miscellaneous',\n",
       "       'modern', 'mood', 'mpb', 'muslim', 'native', 'neoklassik', 'neue',\n",
       "       'new', 'newage', 'newwave', 'nu', 'nujazz', 'numetal', 'oceania',\n",
       "       'old', 'opera', 'orchestral', 'other', 'piano', 'podcasts', 'pop',\n",
       "       'popdance', 'popelectronic', 'popeurodance', 'poprussian', 'post',\n",
       "       'posthardcore', 'postrock', 'power', 'progmetal', 'progressive',\n",
       "       'psychedelic', 'punjabi', 'punk', 'quebecois', 'ragga', 'ram',\n",
       "       'rancheras', 'rap', 'rave', 'reggae', 'reggaeton', 'regional',\n",
       "       'relax', 'religious', 'retro', 'rhythm', 'rnb', 'rnr', 'rock',\n",
       "       'rockabilly', 'rockalternative', 'rockindie', 'rockother',\n",
       "       'romance', 'roots', 'ruspop', 'rusrap', 'rusrock', 'russian',\n",
       "       'salsa', 'samba', 'scenic', 'schlager', 'self', 'sertanejo',\n",
       "       'shanson', 'shoegazing', 'showtunes', 'singer', 'ska', 'skarock',\n",
       "       'slow', 'smooth', 'soft', 'soul', 'soulful', 'sound', 'soundtrack',\n",
       "       'southern', 'specialty', 'speech', 'spiritual', 'sport',\n",
       "       'stonerrock', 'surf', 'swing', 'synthpop', 'synthrock',\n",
       "       'sängerportrait', 'tango', 'tanzorchester', 'taraftar', 'tatar',\n",
       "       'tech', 'techno', 'teen', 'thrash', 'top', 'traditional',\n",
       "       'tradjazz', 'trance', 'tribal', 'trip', 'triphop', 'tropical',\n",
       "       'türk', 'türkçe', 'ukrrock', 'unknown', 'urban', 'uzbek',\n",
       "       'variété', 'vi', 'videogame', 'vocal', 'western', 'world',\n",
       "       'worldbeat', 'ïîï', 'электроника'], dtype=object)"
      ]
     },
     "execution_count": 17,
     "metadata": {},
     "output_type": "execute_result"
    }
   ],
   "source": [
    "df['genre'].sort_values().unique() # Проверка на неявные дубликаты"
   ]
  },
  {
   "cell_type": "markdown",
   "metadata": {
    "id": "jz6a9-7HQUDd"
   },
   "source": [
    "**Выводы**\n",
    "\n",
    "Предобработка обнаружила три проблемы в данных:\n",
    "\n",
    "- нарушения в стиле заголовков,\n",
    "- пропущенные значения,\n",
    "- дубликаты — явные и неявные.\n",
    "\n",
    "Мы исправили заголовки, чтобы упростить работу с таблицей. Без дубликатов исследование станет более точным.\n",
    "\n",
    "Пропущенные значения мы заменили на `'unknown'`. Ещё предстоит увидеть, не повредят ли исследованию пропуски в колонке `genre`.\n",
    "\n",
    "Теперь можно перейти к проверке гипотез. "
   ]
  },
  {
   "cell_type": "markdown",
   "metadata": {
    "id": "WttZHXH0SqKk"
   },
   "source": [
    "## Проверка гипотез"
   ]
  },
  {
   "cell_type": "markdown",
   "metadata": {
    "id": "Im936VVi_Zcu"
   },
   "source": [
    "### Сравнение поведения пользователей двух столиц"
   ]
  },
  {
   "cell_type": "markdown",
   "metadata": {
    "id": "nwt_MuaL_Zcu"
   },
   "source": [
    "Первая гипотеза утверждает, что пользователи по-разному слушают музыку в Москве и Санкт-Петербурге. Проверим это предположение по данным о трёх днях недели — понедельнике, среде и пятнице. Для этого:\n",
    "\n",
    "* Разделим пользователей Москвы и Санкт-Петербурга\n",
    "* Сравним, сколько треков послушала каждая группа пользователей в понедельник, среду и пятницу."
   ]
  },
  {
   "cell_type": "code",
   "execution_count": 18,
   "metadata": {
    "id": "0_Qs96oh_Zcu"
   },
   "outputs": [
    {
     "data": {
      "text/plain": [
       "city\n",
       "Moscow              42741\n",
       "Saint-Petersburg    18512\n",
       "Name: user_id, dtype: int64"
      ]
     },
     "execution_count": 18,
     "metadata": {},
     "output_type": "execute_result"
    }
   ],
   "source": [
    "df.groupby('city')['user_id'].count() # Подсчёт прослушиваний в каждом городе"
   ]
  },
  {
   "cell_type": "markdown",
   "metadata": {
    "id": "dzli3w8o_Zcu"
   },
   "source": [
    "В Москве прослушиваний больше, чем в Петербурге. Из этого не следует, что московские пользователи чаще слушают музыку. Просто самих пользователей в Москве больше.\n",
    "\n",
    "Теперь сгруппируем данные по дню недели и подсчитаем прослушивания в понедельник, среду и пятницу."
   ]
  },
  {
   "cell_type": "code",
   "execution_count": 19,
   "metadata": {
    "id": "uZMKjiJz_Zcu"
   },
   "outputs": [
    {
     "data": {
      "text/plain": [
       "day\n",
       "Friday       21840\n",
       "Monday       21354\n",
       "Wednesday    18059\n",
       "Name: user_id, dtype: int64"
      ]
     },
     "execution_count": 19,
     "metadata": {},
     "output_type": "execute_result"
    }
   ],
   "source": [
    "df.groupby('day')['user_id'].count() # Подсчёт прослушиваний в каждый из трёх дней"
   ]
  },
  {
   "cell_type": "markdown",
   "metadata": {
    "id": "cC2tNrlL_Zcu"
   },
   "source": [
    "В среднем пользователи из двух городов менее активны по средам. Но картина может измениться, если рассмотреть каждый город в отдельности."
   ]
  },
  {
   "cell_type": "code",
   "execution_count": 20,
   "metadata": {
    "id": "Nz3GdQB1_Zcu"
   },
   "outputs": [],
   "source": [
    "# <создание функции number_tracks()>\n",
    "# Объявляется функция с двумя параметрами: day, city. \n",
    "#В переменной track_list сохраняются те строки таблицы df, для которых  \n",
    "#значение в столбце 'day' равно параметру day и одновременно значение\n",
    "# в столбце 'city' равно параметру city (используйте последовательную фильтрацию с помощью \n",
    "#логической индексации).\n",
    "# В переменной track_list_count сохраняется число значений столбца 'user_id',\n",
    "# рассчитанное методом count() для таблицы track_list.\n",
    "# Функция возвращает число - значение track_list_count.\n",
    "\n",
    "# Функция для подсчёта прослушиваний для конкретного города и дня.\n",
    "# С помощью последовательной фильтрации с логической индексацией она \n",
    "# сначала получит из исходной таблицы строки с нужным днём,\n",
    "# затем из результата отфильтрует строки с нужным городом,\n",
    "# методом count() посчитает количество значений в колонке user_id. \n",
    "# Это количество функция вернёт в качестве результата\n",
    "def number_tracks(day, city):\n",
    "    track_list = df[df['city'] == city]\n",
    "    track_list = track_list[track_list['day'] == day]\n",
    "    track_list_count = track_list['user_id'].count()\n",
    "    return track_list_count\n",
    "    "
   ]
  },
  {
   "cell_type": "code",
   "execution_count": 21,
   "metadata": {
    "id": "rJcRATNQ_Zcu"
   },
   "outputs": [
    {
     "data": {
      "text/plain": [
       "15740"
      ]
     },
     "execution_count": 21,
     "metadata": {},
     "output_type": "execute_result"
    }
   ],
   "source": [
    "number_tracks('Monday', 'Moscow')# количество прослушиваний в Москве по понедельникам"
   ]
  },
  {
   "cell_type": "code",
   "execution_count": 22,
   "metadata": {
    "id": "hq_ncZ5T_Zcu"
   },
   "outputs": [
    {
     "data": {
      "text/plain": [
       "5614"
      ]
     },
     "execution_count": 22,
     "metadata": {},
     "output_type": "execute_result"
    }
   ],
   "source": [
    "number_tracks('Monday', 'Saint-Petersburg')# количество прослушиваний в Санкт-Петербурге по понедельникам"
   ]
  },
  {
   "cell_type": "code",
   "execution_count": 23,
   "metadata": {
    "id": "_NTy2VPU_Zcu"
   },
   "outputs": [
    {
     "data": {
      "text/plain": [
       "11056"
      ]
     },
     "execution_count": 23,
     "metadata": {},
     "output_type": "execute_result"
    }
   ],
   "source": [
    "number_tracks('Wednesday', 'Moscow') # количество прослушиваний в Москве по средам"
   ]
  },
  {
   "cell_type": "code",
   "execution_count": 24,
   "metadata": {
    "id": "j2y3TAwo_Zcu"
   },
   "outputs": [
    {
     "data": {
      "text/plain": [
       "7003"
      ]
     },
     "execution_count": 24,
     "metadata": {},
     "output_type": "execute_result"
    }
   ],
   "source": [
    "number_tracks('Wednesday', 'Saint-Petersburg')# количество прослушиваний в Санкт-Петербурге по средам"
   ]
  },
  {
   "cell_type": "code",
   "execution_count": 25,
   "metadata": {
    "id": "vYDw5u_K_Zcu"
   },
   "outputs": [
    {
     "data": {
      "text/plain": [
       "15945"
      ]
     },
     "execution_count": 25,
     "metadata": {},
     "output_type": "execute_result"
    }
   ],
   "source": [
    "number_tracks('Friday', 'Moscow')# количество прослушиваний в Москве по пятницам"
   ]
  },
  {
   "cell_type": "code",
   "execution_count": 26,
   "metadata": {
    "id": "8_yzFtW3_Zcu"
   },
   "outputs": [
    {
     "data": {
      "text/plain": [
       "5895"
      ]
     },
     "execution_count": 26,
     "metadata": {},
     "output_type": "execute_result"
    }
   ],
   "source": [
    "number_tracks('Friday','Saint-Petersburg')# количество прослушиваний в Санкт-Петербурге по пятницам"
   ]
  },
  {
   "cell_type": "code",
   "execution_count": 27,
   "metadata": {
    "id": "APAcLpOr_Zcu"
   },
   "outputs": [
    {
     "data": {
      "text/html": [
       "<div>\n",
       "<style scoped>\n",
       "    .dataframe tbody tr th:only-of-type {\n",
       "        vertical-align: middle;\n",
       "    }\n",
       "\n",
       "    .dataframe tbody tr th {\n",
       "        vertical-align: top;\n",
       "    }\n",
       "\n",
       "    .dataframe thead th {\n",
       "        text-align: right;\n",
       "    }\n",
       "</style>\n",
       "<table border=\"1\" class=\"dataframe\">\n",
       "  <thead>\n",
       "    <tr style=\"text-align: right;\">\n",
       "      <th></th>\n",
       "      <th>city</th>\n",
       "      <th>monday</th>\n",
       "      <th>wednesday</th>\n",
       "      <th>friday</th>\n",
       "    </tr>\n",
       "  </thead>\n",
       "  <tbody>\n",
       "    <tr>\n",
       "      <th>0</th>\n",
       "      <td>Moscow</td>\n",
       "      <td>15740</td>\n",
       "      <td>11056</td>\n",
       "      <td>15945</td>\n",
       "    </tr>\n",
       "    <tr>\n",
       "      <th>1</th>\n",
       "      <td>Saint-Petersburg</td>\n",
       "      <td>5614</td>\n",
       "      <td>7003</td>\n",
       "      <td>5895</td>\n",
       "    </tr>\n",
       "  </tbody>\n",
       "</table>\n",
       "</div>"
      ],
      "text/plain": [
       "               city  monday  wednesday  friday\n",
       "0            Moscow   15740      11056   15945\n",
       "1  Saint-Petersburg    5614       7003    5895"
      ]
     },
     "execution_count": 27,
     "metadata": {},
     "output_type": "execute_result"
    }
   ],
   "source": [
    "# Таблица с результатами\n",
    "data = [['Moscow', 15740, 11056, 15945],\n",
    "       ['Saint-Petersburg', 5614, 7003, 5895]]\n",
    "columns = ['city', 'monday', 'wednesday', 'friday']\n",
    "pd.DataFrame(data=data, columns=columns)"
   ]
  },
  {
   "cell_type": "markdown",
   "metadata": {
    "id": "-EgPIHYu_Zcu"
   },
   "source": [
    "**Выводы**\n",
    "\n",
    "Данные показывают разницу поведения пользователей:\n",
    "\n",
    "- В Москве пик прослушиваний приходится на понедельник и пятницу, а в среду заметен спад.\n",
    "- В Петербурге, наоборот, больше слушают музыку по средам. Активность в понедельник и пятницу здесь почти в равной мере уступает среде.\n",
    "\n",
    "Значит, данные говорят в пользу первой гипотезы."
   ]
  },
  {
   "cell_type": "markdown",
   "metadata": {
    "id": "atZAxtq4_Zcu"
   },
   "source": [
    "### Музыка в начале и в конце недели"
   ]
  },
  {
   "cell_type": "markdown",
   "metadata": {
    "id": "eXrQqXFH_Zcu"
   },
   "source": [
    "Согласно второй гипотезе, утром в понедельник в Москве преобладают одни жанры, а в Петербурге — другие. Так же и вечером пятницы преобладают разные жанры — в зависимости от города."
   ]
  },
  {
   "cell_type": "code",
   "execution_count": 28,
   "metadata": {
    "id": "qeaFfM_P_Zcu"
   },
   "outputs": [],
   "source": [
    "# получение таблицы moscow_general из тех строк таблицы df, \n",
    "# для которых значение в столбце 'city' равно 'Moscow'\n",
    "moscow_general = df[df['city'] == 'Moscow']\n"
   ]
  },
  {
   "cell_type": "code",
   "execution_count": 29,
   "metadata": {
    "id": "ORaVRKto_Zcu"
   },
   "outputs": [],
   "source": [
    "# получение таблицы spb_general из тех строк таблицы df,\n",
    "# для которых значение в столбце 'city' равно 'Saint-Petersburg'\n",
    "spb_general = df[df['city'] == 'Saint-Petersburg']\n"
   ]
  },
  {
   "cell_type": "code",
   "execution_count": 30,
   "metadata": {
    "id": "laJT9BYl_Zcu"
   },
   "outputs": [],
   "source": [
    "# Объявление функции genre_weekday() с параметрами table, day, time1, time2,\n",
    "# которая возвращает информацию о самых популярных жанрах в указанный день в\n",
    "# заданное время:\n",
    "# 1) в переменную genre_df сохраняются те строки переданного датафрейма table, для\n",
    "#    которых одновременно:\n",
    "#    - значение в столбце day равно значению аргумента day\n",
    "#    - значение в столбце time больше значения аргумента time1\n",
    "#    - значение в столбце time меньше значения аргумента time2\n",
    "#    Используйте последовательную фильтрацию с помощью логической индексации.\n",
    "# 2) сгруппировать датафрейм genre_df по столбцу genre, взять один из его\n",
    "#    столбцов и посчитать методом count() количество записей для каждого из\n",
    "#    присутствующих жанров, получившийся Series записать в переменную\n",
    "#    genre_df_count\n",
    "# 3) отсортировать genre_df_count по убыванию встречаемости и сохранить\n",
    "#    в переменную genre_df_sorted\n",
    "# 4) вернуть Series из 10 первых значений genre_df_sorted, это будут топ-10\n",
    "#    популярных жанров (в указанный день, в заданное время)\n",
    "def genre_weekday(table, day, time1, time2):\n",
    "    genre_df = table[table['day'] == day]\n",
    "    genre_df = genre_df[genre_df['time'] > time1]\n",
    "    genre_df = genre_df[genre_df['time'] < time2]\n",
    "    genre_df_count = genre_df.groupby('genre')['city'].count()\n",
    "    genre_df_sorted = genre_df_count.sort_values(ascending = False)\n",
    "    return genre_df_sorted.head(10)\n",
    "    "
   ]
  },
  {
   "cell_type": "markdown",
   "metadata": {
    "id": "la2s2_PF_Zcu"
   },
   "source": [
    "Cравним результаты функции `genre_weekday()` для Москвы и Санкт-Петербурга в понедельник утром (с 7:00 до 11:00) и в пятницу вечером (с 17:00 до 23:00):"
   ]
  },
  {
   "cell_type": "code",
   "execution_count": 31,
   "metadata": {
    "id": "yz7itPUQ_Zcu"
   },
   "outputs": [
    {
     "data": {
      "text/plain": [
       "genre\n",
       "pop            781\n",
       "dance          549\n",
       "electronic     480\n",
       "rock           474\n",
       "hiphop         286\n",
       "ruspop         186\n",
       "world          181\n",
       "rusrap         175\n",
       "alternative    164\n",
       "unknown        161\n",
       "Name: city, dtype: int64"
      ]
     },
     "execution_count": 31,
     "metadata": {},
     "output_type": "execute_result"
    }
   ],
   "source": [
    "# вызов функции для утра понедельника в Москве (вместо df — таблица moscow_general)\n",
    "# объекты, хранящие время, являются строками и сравниваются как строки\n",
    "# пример вызова: genre_weekday(moscow_general, 'Monday', '07:00', '11:00')\n",
    "genre_weekday(moscow_general, 'Monday', '07:00', '11:00')"
   ]
  },
  {
   "cell_type": "code",
   "execution_count": 32,
   "metadata": {
    "id": "kwUcHPdy_Zcu"
   },
   "outputs": [
    {
     "data": {
      "text/plain": [
       "genre\n",
       "pop            218\n",
       "dance          182\n",
       "rock           162\n",
       "electronic     147\n",
       "hiphop          80\n",
       "ruspop          64\n",
       "alternative     58\n",
       "rusrap          55\n",
       "jazz            44\n",
       "classical       40\n",
       "Name: city, dtype: int64"
      ]
     },
     "execution_count": 32,
     "metadata": {},
     "output_type": "execute_result"
    }
   ],
   "source": [
    "# вызов функции для утра понедельника в Петербурге (вместо df — таблица spb_general)\n",
    "genre_weekday(spb_general, 'Monday', '07:00', '11:00')"
   ]
  },
  {
   "cell_type": "code",
   "execution_count": 33,
   "metadata": {
    "id": "EzXVRE1o_Zcu"
   },
   "outputs": [
    {
     "data": {
      "text/plain": [
       "genre\n",
       "pop            713\n",
       "rock           517\n",
       "dance          495\n",
       "electronic     482\n",
       "hiphop         273\n",
       "world          208\n",
       "ruspop         170\n",
       "alternative    163\n",
       "classical      163\n",
       "rusrap         142\n",
       "Name: city, dtype: int64"
      ]
     },
     "execution_count": 33,
     "metadata": {},
     "output_type": "execute_result"
    }
   ],
   "source": [
    "# вызов функции для вечера пятницы в Москве\n",
    "genre_weekday(moscow_general, 'Friday', '17:00', '23:00')"
   ]
  },
  {
   "cell_type": "code",
   "execution_count": 34,
   "metadata": {
    "id": "JZaEKu5v_Zcu"
   },
   "outputs": [
    {
     "data": {
      "text/plain": [
       "genre\n",
       "pop            256\n",
       "electronic     216\n",
       "rock           216\n",
       "dance          210\n",
       "hiphop          97\n",
       "alternative     63\n",
       "jazz            61\n",
       "classical       60\n",
       "rusrap          59\n",
       "world           54\n",
       "Name: city, dtype: int64"
      ]
     },
     "execution_count": 34,
     "metadata": {},
     "output_type": "execute_result"
    }
   ],
   "source": [
    "# вызов функции для вечера пятницы в Петербурге\n",
    "genre_weekday(spb_general, 'Friday', '17:00', '23:00')"
   ]
  },
  {
   "cell_type": "markdown",
   "metadata": {
    "id": "wrCe4MNX_Zcu"
   },
   "source": [
    "**Выводы**\n",
    "\n",
    "Если сравнить топ-10 жанров в понедельник утром, можно сделать такие выводы:\n",
    "\n",
    "1. В Москве и Петербурге слушают похожую музыку. Единственное отличие — в московский рейтинг вошёл жанр “world”, а в петербургский — джаз и классика.\n",
    "\n",
    "2. В Москве пропущенных значений оказалось так много, что значение `'unknown'` заняло десятое место среди самых популярных жанров. Значит, пропущенные значения занимают существенную долю в данных и угрожают достоверности исследования.\n",
    "\n",
    "Вечер пятницы не меняет эту картину. Некоторые жанры поднимаются немного выше, другие спускаются, но в целом топ-10 остаётся тем же самым.\n",
    "\n",
    "Таким образом, вторая гипотеза подтвердилась лишь частично:\n",
    "* Пользователи слушают похожую музыку в начале недели и в конце.\n",
    "* Разница между Москвой и Петербургом не слишком выражена. В Москве чаще слушают русскую популярную музыку, в Петербурге — джаз.\n",
    "\n",
    "Однако пропуски в данных ставят под сомнение этот результат. В Москве их так много, что рейтинг топ-10 мог бы выглядеть иначе, если бы не утерянные  данные о жанрах."
   ]
  },
  {
   "cell_type": "markdown",
   "metadata": {
    "id": "JolODAqr_Zcu"
   },
   "source": [
    "### Жанровые предпочтения в Москве и Петербурге\n",
    "\n",
    "Гипотеза: Петербург — столица рэпа, музыку этого жанра там слушают чаще, чем в Москве.  А Москва — город контрастов, в котором, тем не менее, преобладает поп-музыка."
   ]
  },
  {
   "cell_type": "markdown",
   "metadata": {
    "id": "DlegSvaT_Zcu"
   },
   "source": [
    "Сгруппируем таблицу `moscow_general` по жанру и посчитаем прослушивания треков каждого жанра методом `count()`. Затем отсортируем результат в порядке убывания и сохраним его в таблице `moscow_genres`."
   ]
  },
  {
   "cell_type": "code",
   "execution_count": 35,
   "metadata": {
    "id": "r19lIPke_Zcu"
   },
   "outputs": [],
   "source": [
    "# одной строкой: группировка таблицы moscow_general по столбцу 'genre', \n",
    "# подсчёт числа значений 'genre' в этой группировке методом count(), \n",
    "# сортировка получившегося Series в порядке убывания и сохранение в moscow_genres\n",
    "moscow_genres = moscow_general.groupby('genre')['user_id'].count().sort_values(ascending=False)"
   ]
  },
  {
   "cell_type": "code",
   "execution_count": 36,
   "metadata": {
    "id": "WhCSooF8_Zcv"
   },
   "outputs": [
    {
     "data": {
      "text/plain": [
       "genre\n",
       "pop            5892\n",
       "dance          4435\n",
       "rock           3965\n",
       "electronic     3786\n",
       "hiphop         2096\n",
       "classical      1616\n",
       "world          1432\n",
       "alternative    1379\n",
       "ruspop         1372\n",
       "rusrap         1161\n",
       "Name: user_id, dtype: int64"
      ]
     },
     "execution_count": 36,
     "metadata": {},
     "output_type": "execute_result"
    }
   ],
   "source": [
    "# просмотр первых 10 строк moscow_genres\n",
    "moscow_genres.head(10)"
   ]
  },
  {
   "cell_type": "code",
   "execution_count": 37,
   "metadata": {
    "id": "gluLIpE7_Zcv"
   },
   "outputs": [],
   "source": [
    "# одной строкой: группировка таблицы spb_general по столбцу 'genre', \n",
    "# подсчёт числа значений 'genre' в этой группировке методом count(), \n",
    "# сортировка получившегося Series в порядке убывания и сохранение в spb_genres\n",
    "spb_genres = spb_general.groupby('genre')['user_id'].count().sort_values(ascending=False)"
   ]
  },
  {
   "cell_type": "code",
   "execution_count": 38,
   "metadata": {
    "id": "uaGJHjVU_Zcv"
   },
   "outputs": [
    {
     "data": {
      "text/plain": [
       "genre\n",
       "pop            2431\n",
       "dance          1932\n",
       "rock           1879\n",
       "electronic     1736\n",
       "hiphop          960\n",
       "alternative     649\n",
       "classical       646\n",
       "rusrap          564\n",
       "ruspop          538\n",
       "world           515\n",
       "Name: user_id, dtype: int64"
      ]
     },
     "execution_count": 38,
     "metadata": {},
     "output_type": "execute_result"
    }
   ],
   "source": [
    "# просмотр первых 10 строк spb_genres\n",
    "spb_genres.head(10)"
   ]
  },
  {
   "cell_type": "markdown",
   "metadata": {
    "id": "RY51YJYu_Zcv"
   },
   "source": [
    "**Выводы**"
   ]
  },
  {
   "cell_type": "markdown",
   "metadata": {
    "id": "nVhnJEm__Zcv"
   },
   "source": [
    "Гипотеза частично подтвердилась:\n",
    "* Поп-музыка — самый популярный жанр в Москве, как и предполагала гипотеза. Более того, в топ-10 жанров встречается близкий жанр — русская популярная музыка.\n",
    "* Вопреки ожиданиям, рэп одинаково популярен в Москве и Петербурге. \n"
   ]
  },
  {
   "cell_type": "markdown",
   "metadata": {
    "id": "ykKQ0N65_Zcv"
   },
   "source": [
    "## Итоги исследования"
   ]
  },
  {
   "cell_type": "markdown",
   "metadata": {
    "id": "tjUwbHb3_Zcv"
   },
   "source": [
    "Мы проверили три гипотезы и установили:\n",
    "\n",
    "1. День недели по-разному влияет на активность пользователей в Москве и Петербурге. \n",
    "\n",
    "Первая гипотеза полностью подтвердилась.\n",
    "\n",
    "2. Музыкальные предпочтения не сильно меняются в течение недели — будь то Москва или Петербург. Небольшие различия заметны в начале недели, по понедельникам:\n",
    "* в Москве слушают музыку жанра “world”,\n",
    "* в Петербурге — джаз и классику.\n",
    "\n",
    "Таким образом, вторая гипотеза подтвердилась лишь отчасти. Этот результат мог оказаться иным, если бы не пропуски в данных.\n",
    "\n",
    "3. Во вкусах пользователей Москвы и Петербурга больше общего чем различий. Вопреки ожиданиям, предпочтения жанров в Петербурге напоминают московские.\n",
    "\n",
    "Третья гипотеза не подтвердилась. Если различия в предпочтениях и существуют, на основной массе пользователей они незаметны."
   ]
  }
 ],
 "metadata": {
  "ExecuteTimeLog": [
   {
    "duration": 479,
    "start_time": "2022-01-11T17:48:01.526Z"
   },
   {
    "duration": 361,
    "start_time": "2022-01-11T17:48:15.801Z"
   },
   {
    "duration": 811,
    "start_time": "2022-01-11T17:48:49.380Z"
   },
   {
    "duration": 468,
    "start_time": "2022-01-11T17:48:51.682Z"
   },
   {
    "duration": 3682,
    "start_time": "2022-01-11T17:49:40.127Z"
   },
   {
    "duration": -1602,
    "start_time": "2022-01-11T17:49:45.415Z"
   },
   {
    "duration": 212,
    "start_time": "2022-01-11T17:50:30.964Z"
   },
   {
    "duration": 31,
    "start_time": "2022-01-11T17:50:32.990Z"
   },
   {
    "duration": 81,
    "start_time": "2022-01-11T17:50:56.159Z"
   },
   {
    "duration": 358,
    "start_time": "2022-01-11T18:11:20.452Z"
   },
   {
    "duration": 809,
    "start_time": "2022-01-11T18:11:36.105Z"
   },
   {
    "duration": 515,
    "start_time": "2022-01-11T18:11:36.917Z"
   },
   {
    "duration": 25,
    "start_time": "2022-01-11T18:11:37.436Z"
   },
   {
    "duration": 279,
    "start_time": "2022-01-11T18:11:37.465Z"
   },
   {
    "duration": 116,
    "start_time": "2022-01-11T18:11:37.747Z"
   },
   {
    "duration": 220,
    "start_time": "2022-01-11T18:11:37.865Z"
   },
   {
    "duration": 143,
    "start_time": "2022-01-11T18:11:38.087Z"
   },
   {
    "duration": 159,
    "start_time": "2022-01-11T18:11:38.234Z"
   },
   {
    "duration": 153,
    "start_time": "2022-01-11T18:11:38.395Z"
   },
   {
    "duration": 171,
    "start_time": "2022-01-11T18:11:38.550Z"
   },
   {
    "duration": 158,
    "start_time": "2022-01-11T18:11:38.723Z"
   },
   {
    "duration": 81,
    "start_time": "2022-01-11T18:11:38.885Z"
   },
   {
    "duration": 32,
    "start_time": "2022-01-11T18:11:38.969Z"
   },
   {
    "duration": 17,
    "start_time": "2022-01-11T18:11:39.004Z"
   },
   {
    "duration": 31,
    "start_time": "2022-01-11T18:11:39.023Z"
   },
   {
    "duration": 37,
    "start_time": "2022-01-11T18:11:39.057Z"
   },
   {
    "duration": 21,
    "start_time": "2022-01-11T18:11:39.096Z"
   },
   {
    "duration": 44,
    "start_time": "2022-01-11T18:11:39.119Z"
   },
   {
    "duration": 28,
    "start_time": "2022-01-11T18:11:39.165Z"
   },
   {
    "duration": 33,
    "start_time": "2022-01-11T18:11:39.195Z"
   },
   {
    "duration": 40,
    "start_time": "2022-01-11T18:11:39.231Z"
   },
   {
    "duration": 36,
    "start_time": "2022-01-11T18:11:39.274Z"
   },
   {
    "duration": 39,
    "start_time": "2022-01-11T18:11:39.316Z"
   },
   {
    "duration": 21,
    "start_time": "2022-01-11T18:11:39.359Z"
   },
   {
    "duration": 22,
    "start_time": "2022-01-11T18:11:39.383Z"
   },
   {
    "duration": 37,
    "start_time": "2022-01-11T18:11:39.408Z"
   },
   {
    "duration": 37,
    "start_time": "2022-01-11T18:11:39.448Z"
   },
   {
    "duration": 44,
    "start_time": "2022-01-11T18:11:39.487Z"
   },
   {
    "duration": 218,
    "start_time": "2022-01-11T18:11:39.533Z"
   },
   {
    "duration": 35,
    "start_time": "2022-01-11T18:11:39.755Z"
   },
   {
    "duration": 51,
    "start_time": "2022-01-11T18:11:39.793Z"
   },
   {
    "duration": 35,
    "start_time": "2022-01-11T18:11:39.847Z"
   },
   {
    "duration": 47,
    "start_time": "2022-01-11T18:11:39.885Z"
   },
   {
    "duration": 32,
    "start_time": "2022-01-11T18:11:39.935Z"
   },
   {
    "duration": 36,
    "start_time": "2022-01-11T18:11:39.970Z"
   },
   {
    "duration": 31,
    "start_time": "2022-01-11T18:11:40.008Z"
   },
   {
    "duration": 24,
    "start_time": "2022-01-11T18:11:40.042Z"
   },
   {
    "duration": 30,
    "start_time": "2022-01-11T18:11:40.069Z"
   },
   {
    "duration": 5,
    "start_time": "2022-01-11T18:13:54.603Z"
   },
   {
    "duration": 36,
    "start_time": "2022-01-11T18:14:23.741Z"
   },
   {
    "duration": 7,
    "start_time": "2022-01-11T18:14:25.155Z"
   },
   {
    "duration": 32,
    "start_time": "2022-01-11T18:16:11.362Z"
   },
   {
    "duration": 34,
    "start_time": "2022-01-11T18:16:28.181Z"
   },
   {
    "duration": 42,
    "start_time": "2022-01-11T18:16:32.601Z"
   },
   {
    "duration": 33,
    "start_time": "2022-01-11T18:17:23.439Z"
   },
   {
    "duration": 30,
    "start_time": "2022-01-11T18:17:37.249Z"
   },
   {
    "duration": 30,
    "start_time": "2022-01-11T18:17:51.680Z"
   },
   {
    "duration": 6,
    "start_time": "2022-01-11T18:18:02.345Z"
   },
   {
    "duration": 6,
    "start_time": "2022-01-11T18:18:14.436Z"
   },
   {
    "duration": 3,
    "start_time": "2022-01-11T18:18:22.498Z"
   },
   {
    "duration": 203,
    "start_time": "2022-01-11T18:18:22.509Z"
   },
   {
    "duration": 26,
    "start_time": "2022-01-11T18:18:22.715Z"
   },
   {
    "duration": 31,
    "start_time": "2022-01-11T18:18:22.744Z"
   },
   {
    "duration": 5,
    "start_time": "2022-01-11T18:18:22.778Z"
   },
   {
    "duration": 59,
    "start_time": "2022-01-11T18:18:22.785Z"
   },
   {
    "duration": 6,
    "start_time": "2022-01-11T18:18:22.850Z"
   },
   {
    "duration": 29,
    "start_time": "2022-01-11T18:18:22.859Z"
   },
   {
    "duration": 3,
    "start_time": "2022-01-11T18:18:22.891Z"
   },
   {
    "duration": 4,
    "start_time": "2022-01-11T18:18:22.931Z"
   },
   {
    "duration": 5,
    "start_time": "2022-01-11T18:18:22.939Z"
   },
   {
    "duration": 7,
    "start_time": "2022-01-11T18:18:22.946Z"
   },
   {
    "duration": 8,
    "start_time": "2022-01-11T18:18:22.956Z"
   },
   {
    "duration": 6,
    "start_time": "2022-01-11T18:18:22.966Z"
   },
   {
    "duration": 7,
    "start_time": "2022-01-11T18:18:22.974Z"
   },
   {
    "duration": 5,
    "start_time": "2022-01-11T18:18:22.983Z"
   },
   {
    "duration": 38,
    "start_time": "2022-01-11T18:18:22.990Z"
   },
   {
    "duration": 10,
    "start_time": "2022-01-11T18:18:23.031Z"
   },
   {
    "duration": 13,
    "start_time": "2022-01-11T18:18:23.044Z"
   },
   {
    "duration": 4,
    "start_time": "2022-01-11T18:18:23.059Z"
   },
   {
    "duration": 8,
    "start_time": "2022-01-11T18:18:23.066Z"
   },
   {
    "duration": 5,
    "start_time": "2022-01-11T18:18:23.076Z"
   },
   {
    "duration": 4,
    "start_time": "2022-01-11T18:18:23.083Z"
   },
   {
    "duration": 4,
    "start_time": "2022-01-11T18:18:23.090Z"
   },
   {
    "duration": 32,
    "start_time": "2022-01-11T18:18:23.096Z"
   },
   {
    "duration": 13,
    "start_time": "2022-01-11T18:18:23.130Z"
   },
   {
    "duration": 9,
    "start_time": "2022-01-11T18:18:23.145Z"
   },
   {
    "duration": 3,
    "start_time": "2022-01-11T18:18:23.158Z"
   },
   {
    "duration": 5,
    "start_time": "2022-01-11T18:18:23.165Z"
   },
   {
    "duration": 4,
    "start_time": "2022-01-11T18:18:23.173Z"
   },
   {
    "duration": 9,
    "start_time": "2022-01-11T18:18:23.180Z"
   },
   {
    "duration": 32,
    "start_time": "2022-01-11T18:18:23.191Z"
   },
   {
    "duration": 21,
    "start_time": "2022-01-11T18:18:23.225Z"
   },
   {
    "duration": 5,
    "start_time": "2022-01-11T18:18:23.249Z"
   },
   {
    "duration": 7,
    "start_time": "2022-01-11T18:18:23.256Z"
   },
   {
    "duration": 8,
    "start_time": "2022-01-11T18:18:23.265Z"
   },
   {
    "duration": 5,
    "start_time": "2022-01-11T18:18:23.275Z"
   },
   {
    "duration": 4,
    "start_time": "2022-01-11T18:18:23.282Z"
   },
   {
    "duration": 4,
    "start_time": "2022-01-11T19:02:51.060Z"
   },
   {
    "duration": 288,
    "start_time": "2022-01-11T19:02:51.068Z"
   },
   {
    "duration": 24,
    "start_time": "2022-01-11T19:02:51.361Z"
   },
   {
    "duration": 55,
    "start_time": "2022-01-11T19:02:51.389Z"
   },
   {
    "duration": 8,
    "start_time": "2022-01-11T19:02:51.447Z"
   },
   {
    "duration": 28,
    "start_time": "2022-01-11T19:02:56.347Z"
   },
   {
    "duration": 6,
    "start_time": "2022-01-11T19:02:58.395Z"
   },
   {
    "duration": 34,
    "start_time": "2022-01-11T19:03:02.389Z"
   },
   {
    "duration": 355,
    "start_time": "2022-01-11T19:05:25.443Z"
   },
   {
    "duration": 28,
    "start_time": "2022-01-11T19:06:10.910Z"
   },
   {
    "duration": 58,
    "start_time": "2022-01-11T19:06:37.021Z"
   },
   {
    "duration": 20,
    "start_time": "2022-01-11T19:06:46.430Z"
   },
   {
    "duration": 32,
    "start_time": "2022-01-11T19:06:48.335Z"
   },
   {
    "duration": 4,
    "start_time": "2022-01-11T19:07:06.394Z"
   },
   {
    "duration": 194,
    "start_time": "2022-01-11T19:07:06.414Z"
   },
   {
    "duration": 21,
    "start_time": "2022-01-11T19:07:06.610Z"
   },
   {
    "duration": 32,
    "start_time": "2022-01-11T19:07:06.635Z"
   },
   {
    "duration": 10,
    "start_time": "2022-01-11T19:07:06.670Z"
   },
   {
    "duration": 57,
    "start_time": "2022-01-11T19:07:06.682Z"
   },
   {
    "duration": 6,
    "start_time": "2022-01-11T19:07:06.741Z"
   },
   {
    "duration": 39,
    "start_time": "2022-01-11T19:07:06.749Z"
   },
   {
    "duration": 19,
    "start_time": "2022-01-11T19:07:09.175Z"
   },
   {
    "duration": 30,
    "start_time": "2022-01-11T19:07:10.009Z"
   },
   {
    "duration": 3,
    "start_time": "2022-01-11T19:07:55.259Z"
   },
   {
    "duration": 203,
    "start_time": "2022-01-11T19:07:55.265Z"
   },
   {
    "duration": 16,
    "start_time": "2022-01-11T19:07:55.471Z"
   },
   {
    "duration": 55,
    "start_time": "2022-01-11T19:07:55.491Z"
   },
   {
    "duration": 7,
    "start_time": "2022-01-11T19:07:55.549Z"
   },
   {
    "duration": 30,
    "start_time": "2022-01-11T19:07:55.559Z"
   },
   {
    "duration": 35,
    "start_time": "2022-01-11T19:07:55.592Z"
   },
   {
    "duration": 31,
    "start_time": "2022-01-11T19:07:55.630Z"
   },
   {
    "duration": 58,
    "start_time": "2022-01-11T19:07:55.665Z"
   },
   {
    "duration": 48,
    "start_time": "2022-01-11T19:07:55.727Z"
   },
   {
    "duration": 3,
    "start_time": "2022-01-11T19:07:55.778Z"
   },
   {
    "duration": 5,
    "start_time": "2022-01-11T19:07:55.784Z"
   },
   {
    "duration": 32,
    "start_time": "2022-01-11T19:07:55.792Z"
   },
   {
    "duration": 6,
    "start_time": "2022-01-11T19:07:55.827Z"
   },
   {
    "duration": 5,
    "start_time": "2022-01-11T19:07:55.837Z"
   },
   {
    "duration": 5,
    "start_time": "2022-01-11T19:07:55.844Z"
   },
   {
    "duration": 6,
    "start_time": "2022-01-11T19:07:55.851Z"
   },
   {
    "duration": 7,
    "start_time": "2022-01-11T19:07:55.859Z"
   },
   {
    "duration": 6,
    "start_time": "2022-01-11T19:07:55.868Z"
   },
   {
    "duration": 48,
    "start_time": "2022-01-11T19:07:55.876Z"
   },
   {
    "duration": 4,
    "start_time": "2022-01-11T19:07:55.927Z"
   },
   {
    "duration": 6,
    "start_time": "2022-01-11T19:07:55.934Z"
   },
   {
    "duration": 5,
    "start_time": "2022-01-11T19:07:55.943Z"
   },
   {
    "duration": 5,
    "start_time": "2022-01-11T19:07:55.951Z"
   },
   {
    "duration": 8,
    "start_time": "2022-01-11T19:07:55.958Z"
   },
   {
    "duration": 10,
    "start_time": "2022-01-11T19:07:55.969Z"
   },
   {
    "duration": 37,
    "start_time": "2022-01-11T19:07:55.987Z"
   },
   {
    "duration": 6,
    "start_time": "2022-01-11T19:07:56.027Z"
   },
   {
    "duration": 11,
    "start_time": "2022-01-11T19:07:56.035Z"
   },
   {
    "duration": 6,
    "start_time": "2022-01-11T19:07:56.048Z"
   },
   {
    "duration": 22,
    "start_time": "2022-01-11T19:07:56.057Z"
   },
   {
    "duration": 8,
    "start_time": "2022-01-11T19:07:56.082Z"
   },
   {
    "duration": 40,
    "start_time": "2022-01-11T19:07:56.093Z"
   },
   {
    "duration": 6,
    "start_time": "2022-01-11T19:07:56.136Z"
   },
   {
    "duration": 18,
    "start_time": "2022-01-11T19:07:56.145Z"
   },
   {
    "duration": 16,
    "start_time": "2022-01-11T19:07:56.165Z"
   },
   {
    "duration": 11,
    "start_time": "2022-01-11T19:07:56.184Z"
   },
   {
    "duration": 6,
    "start_time": "2022-01-11T19:07:56.198Z"
   },
   {
    "duration": 7,
    "start_time": "2022-01-11T19:08:16.350Z"
   },
   {
    "duration": 19,
    "start_time": "2022-01-11T19:08:19.530Z"
   },
   {
    "duration": 6,
    "start_time": "2022-01-11T19:08:21.367Z"
   },
   {
    "duration": 3,
    "start_time": "2022-01-11T19:08:29.773Z"
   },
   {
    "duration": 209,
    "start_time": "2022-01-11T19:08:30.686Z"
   },
   {
    "duration": 16,
    "start_time": "2022-01-11T19:08:31.710Z"
   },
   {
    "duration": 42,
    "start_time": "2022-01-11T19:08:33.143Z"
   },
   {
    "duration": 6,
    "start_time": "2022-01-11T19:08:36.420Z"
   },
   {
    "duration": 18,
    "start_time": "2022-01-11T19:08:54.504Z"
   },
   {
    "duration": 6,
    "start_time": "2022-01-11T19:08:56.621Z"
   },
   {
    "duration": 30,
    "start_time": "2022-01-11T19:08:59.869Z"
   },
   {
    "duration": 20,
    "start_time": "2022-01-11T19:09:02.839Z"
   },
   {
    "duration": 30,
    "start_time": "2022-01-11T19:09:03.965Z"
   },
   {
    "duration": 35,
    "start_time": "2022-01-11T19:10:42.070Z"
   },
   {
    "duration": 53,
    "start_time": "2022-01-11T19:10:43.140Z"
   },
   {
    "duration": 84,
    "start_time": "2022-01-11T19:14:23.558Z"
   },
   {
    "duration": 363,
    "start_time": "2022-01-11T19:16:08.110Z"
   },
   {
    "duration": 108,
    "start_time": "2022-01-11T19:17:49.406Z"
   },
   {
    "duration": 16,
    "start_time": "2022-01-11T19:18:19.899Z"
   },
   {
    "duration": 83,
    "start_time": "2022-01-11T19:19:16.731Z"
   },
   {
    "duration": 80,
    "start_time": "2022-01-11T19:19:30.862Z"
   },
   {
    "duration": 112,
    "start_time": "2022-01-11T19:19:46.121Z"
   },
   {
    "duration": 89,
    "start_time": "2022-01-11T19:19:47.820Z"
   },
   {
    "duration": 4,
    "start_time": "2022-01-11T19:21:32.515Z"
   },
   {
    "duration": 322,
    "start_time": "2022-01-11T19:22:59.044Z"
   },
   {
    "duration": 53,
    "start_time": "2022-01-11T19:26:23.948Z"
   },
   {
    "duration": 58,
    "start_time": "2022-01-11T19:26:51.187Z"
   },
   {
    "duration": 57,
    "start_time": "2022-01-11T19:27:08.461Z"
   },
   {
    "duration": 5,
    "start_time": "2022-01-11T19:39:05.399Z"
   },
   {
    "duration": 4,
    "start_time": "2022-01-11T19:39:10.826Z"
   },
   {
    "duration": 640,
    "start_time": "2022-01-11T19:41:39.409Z"
   },
   {
    "duration": 4,
    "start_time": "2022-01-11T19:41:58.968Z"
   },
   {
    "duration": 14,
    "start_time": "2022-01-11T19:41:59.787Z"
   },
   {
    "duration": 11,
    "start_time": "2022-01-11T19:42:48.325Z"
   },
   {
    "duration": 4,
    "start_time": "2022-01-11T19:46:17.018Z"
   },
   {
    "duration": 4,
    "start_time": "2022-01-11T19:46:47.943Z"
   },
   {
    "duration": 9,
    "start_time": "2022-01-11T19:46:49.683Z"
   },
   {
    "duration": 22,
    "start_time": "2022-01-11T19:47:25.626Z"
   },
   {
    "duration": 30,
    "start_time": "2022-01-11T19:47:28.091Z"
   },
   {
    "duration": 79,
    "start_time": "2022-01-11T19:47:30.656Z"
   },
   {
    "duration": 99,
    "start_time": "2022-01-11T19:47:31.683Z"
   },
   {
    "duration": 79,
    "start_time": "2022-01-11T19:47:33.408Z"
   },
   {
    "duration": 57,
    "start_time": "2022-01-11T19:47:57.882Z"
   },
   {
    "duration": 5,
    "start_time": "2022-01-11T19:48:04.948Z"
   },
   {
    "duration": 9,
    "start_time": "2022-01-11T19:48:08.737Z"
   },
   {
    "duration": 4,
    "start_time": "2022-01-11T19:49:22.980Z"
   },
   {
    "duration": 10,
    "start_time": "2022-01-11T19:49:23.899Z"
   },
   {
    "duration": 54,
    "start_time": "2022-01-11T19:51:33.641Z"
   },
   {
    "duration": 58,
    "start_time": "2022-01-11T19:57:30.988Z"
   },
   {
    "duration": 4,
    "start_time": "2022-01-11T19:58:42.108Z"
   },
   {
    "duration": 222,
    "start_time": "2022-01-11T19:58:42.115Z"
   },
   {
    "duration": 24,
    "start_time": "2022-01-11T19:58:42.341Z"
   },
   {
    "duration": 69,
    "start_time": "2022-01-11T19:58:42.368Z"
   },
   {
    "duration": 5,
    "start_time": "2022-01-11T19:58:42.440Z"
   },
   {
    "duration": 24,
    "start_time": "2022-01-11T19:58:42.448Z"
   },
   {
    "duration": 5,
    "start_time": "2022-01-11T19:58:42.476Z"
   },
   {
    "duration": 74,
    "start_time": "2022-01-11T19:58:42.484Z"
   },
   {
    "duration": 26,
    "start_time": "2022-01-11T19:58:42.560Z"
   },
   {
    "duration": 45,
    "start_time": "2022-01-11T19:58:42.588Z"
   },
   {
    "duration": 99,
    "start_time": "2022-01-11T19:58:42.636Z"
   },
   {
    "duration": 99,
    "start_time": "2022-01-11T19:58:42.737Z"
   },
   {
    "duration": 86,
    "start_time": "2022-01-11T19:58:42.838Z"
   },
   {
    "duration": 59,
    "start_time": "2022-01-11T19:58:47.979Z"
   },
   {
    "duration": 4,
    "start_time": "2022-01-11T19:58:55.611Z"
   },
   {
    "duration": 11,
    "start_time": "2022-01-11T19:58:57.262Z"
   },
   {
    "duration": 63,
    "start_time": "2022-01-11T19:58:59.318Z"
   },
   {
    "duration": 59,
    "start_time": "2022-01-11T19:59:54.279Z"
   },
   {
    "duration": 55,
    "start_time": "2022-01-11T20:00:05.829Z"
   },
   {
    "duration": 748,
    "start_time": "2022-01-12T14:44:30.115Z"
   },
   {
    "duration": 204,
    "start_time": "2022-01-12T14:44:30.865Z"
   },
   {
    "duration": 36,
    "start_time": "2022-01-12T14:44:31.079Z"
   },
   {
    "duration": 51,
    "start_time": "2022-01-12T14:44:31.119Z"
   },
   {
    "duration": 6,
    "start_time": "2022-01-12T14:44:31.173Z"
   },
   {
    "duration": 36,
    "start_time": "2022-01-12T14:44:31.182Z"
   },
   {
    "duration": 14,
    "start_time": "2022-01-12T14:44:31.220Z"
   },
   {
    "duration": 65,
    "start_time": "2022-01-12T14:44:31.238Z"
   },
   {
    "duration": 29,
    "start_time": "2022-01-12T14:44:31.306Z"
   },
   {
    "duration": 48,
    "start_time": "2022-01-12T14:44:31.338Z"
   },
   {
    "duration": 115,
    "start_time": "2022-01-12T14:44:31.389Z"
   },
   {
    "duration": 125,
    "start_time": "2022-01-12T14:44:31.507Z"
   },
   {
    "duration": 101,
    "start_time": "2022-01-12T14:44:31.634Z"
   },
   {
    "duration": 73,
    "start_time": "2022-01-12T14:44:31.737Z"
   },
   {
    "duration": 5,
    "start_time": "2022-01-12T14:44:31.812Z"
   },
   {
    "duration": 14,
    "start_time": "2022-01-12T14:44:31.819Z"
   },
   {
    "duration": 94,
    "start_time": "2022-01-12T14:44:31.836Z"
   },
   {
    "duration": 750,
    "start_time": "2022-01-12T18:00:16.089Z"
   },
   {
    "duration": 200,
    "start_time": "2022-01-12T18:00:16.841Z"
   },
   {
    "duration": 33,
    "start_time": "2022-01-12T18:00:17.044Z"
   },
   {
    "duration": 36,
    "start_time": "2022-01-12T18:00:17.079Z"
   },
   {
    "duration": 5,
    "start_time": "2022-01-12T18:00:17.117Z"
   },
   {
    "duration": 59,
    "start_time": "2022-01-12T18:00:17.124Z"
   },
   {
    "duration": 5,
    "start_time": "2022-01-12T18:00:17.185Z"
   },
   {
    "duration": 38,
    "start_time": "2022-01-12T18:00:17.193Z"
   },
   {
    "duration": 45,
    "start_time": "2022-01-12T18:00:17.235Z"
   },
   {
    "duration": 30,
    "start_time": "2022-01-12T18:00:17.283Z"
   },
   {
    "duration": 116,
    "start_time": "2022-01-12T18:00:17.316Z"
   },
   {
    "duration": 114,
    "start_time": "2022-01-12T18:00:17.434Z"
   },
   {
    "duration": 87,
    "start_time": "2022-01-12T18:00:17.551Z"
   },
   {
    "duration": 69,
    "start_time": "2022-01-12T18:00:17.641Z"
   },
   {
    "duration": 4,
    "start_time": "2022-01-12T18:00:17.712Z"
   },
   {
    "duration": 16,
    "start_time": "2022-01-12T18:00:17.718Z"
   },
   {
    "duration": 83,
    "start_time": "2022-01-12T18:00:17.737Z"
   },
   {
    "duration": 6,
    "start_time": "2022-01-12T18:03:06.871Z"
   },
   {
    "duration": 3,
    "start_time": "2022-01-12T18:03:16.136Z"
   },
   {
    "duration": 232,
    "start_time": "2022-01-12T18:03:16.143Z"
   },
   {
    "duration": 16,
    "start_time": "2022-01-12T18:03:16.379Z"
   },
   {
    "duration": 37,
    "start_time": "2022-01-12T18:03:16.398Z"
   },
   {
    "duration": 31,
    "start_time": "2022-01-12T18:03:16.437Z"
   },
   {
    "duration": 27,
    "start_time": "2022-01-12T18:03:16.470Z"
   },
   {
    "duration": 7,
    "start_time": "2022-01-12T18:03:16.499Z"
   },
   {
    "duration": 61,
    "start_time": "2022-01-12T18:03:16.509Z"
   },
   {
    "duration": 22,
    "start_time": "2022-01-12T18:03:16.574Z"
   },
   {
    "duration": 33,
    "start_time": "2022-01-12T18:03:16.600Z"
   },
   {
    "duration": 112,
    "start_time": "2022-01-12T18:03:16.636Z"
   },
   {
    "duration": 106,
    "start_time": "2022-01-12T18:03:16.750Z"
   },
   {
    "duration": 85,
    "start_time": "2022-01-12T18:03:16.858Z"
   },
   {
    "duration": 72,
    "start_time": "2022-01-12T18:03:16.945Z"
   },
   {
    "duration": 4,
    "start_time": "2022-01-12T18:03:17.020Z"
   },
   {
    "duration": 14,
    "start_time": "2022-01-12T18:03:17.026Z"
   },
   {
    "duration": 59,
    "start_time": "2022-01-12T18:03:17.068Z"
   },
   {
    "duration": 6,
    "start_time": "2022-01-12T18:03:17.129Z"
   },
   {
    "duration": 30,
    "start_time": "2022-01-12T18:03:17.138Z"
   },
   {
    "duration": 7,
    "start_time": "2022-01-12T18:03:17.171Z"
   },
   {
    "duration": 14,
    "start_time": "2022-01-12T18:03:17.180Z"
   },
   {
    "duration": 16,
    "start_time": "2022-01-12T18:03:17.197Z"
   },
   {
    "duration": 6,
    "start_time": "2022-01-12T18:03:17.216Z"
   },
   {
    "duration": 6,
    "start_time": "2022-01-12T18:03:17.225Z"
   },
   {
    "duration": 12,
    "start_time": "2022-01-12T18:03:17.234Z"
   },
   {
    "duration": 4,
    "start_time": "2022-01-12T18:03:17.268Z"
   },
   {
    "duration": 10,
    "start_time": "2022-01-12T18:03:17.279Z"
   },
   {
    "duration": 6,
    "start_time": "2022-01-12T18:03:17.292Z"
   },
   {
    "duration": 6,
    "start_time": "2022-01-12T18:03:17.300Z"
   },
   {
    "duration": 6,
    "start_time": "2022-01-12T18:03:17.308Z"
   },
   {
    "duration": 8,
    "start_time": "2022-01-12T18:03:17.317Z"
   },
   {
    "duration": 39,
    "start_time": "2022-01-12T18:03:17.328Z"
   },
   {
    "duration": 4,
    "start_time": "2022-01-12T18:03:17.371Z"
   },
   {
    "duration": 6,
    "start_time": "2022-01-12T18:03:17.377Z"
   },
   {
    "duration": 8,
    "start_time": "2022-01-12T18:03:17.385Z"
   },
   {
    "duration": 7,
    "start_time": "2022-01-12T18:03:17.395Z"
   },
   {
    "duration": 10,
    "start_time": "2022-01-12T18:03:17.404Z"
   },
   {
    "duration": 5,
    "start_time": "2022-01-12T18:03:17.416Z"
   },
   {
    "duration": 4,
    "start_time": "2022-01-12T18:05:40.052Z"
   },
   {
    "duration": 4,
    "start_time": "2022-01-12T18:05:43.191Z"
   },
   {
    "duration": 7,
    "start_time": "2022-01-12T18:05:55.230Z"
   },
   {
    "duration": 6,
    "start_time": "2022-01-12T18:06:06.708Z"
   },
   {
    "duration": 51,
    "start_time": "2022-01-12T18:07:52.197Z"
   },
   {
    "duration": 43,
    "start_time": "2022-01-12T18:12:23.353Z"
   },
   {
    "duration": 4,
    "start_time": "2022-01-12T18:31:30.648Z"
   },
   {
    "duration": 25,
    "start_time": "2022-01-12T18:33:13.196Z"
   },
   {
    "duration": 27,
    "start_time": "2022-01-12T18:33:56.040Z"
   },
   {
    "duration": 27,
    "start_time": "2022-01-12T18:34:33.019Z"
   },
   {
    "duration": 5,
    "start_time": "2022-01-12T18:34:35.810Z"
   },
   {
    "duration": 27,
    "start_time": "2022-01-12T18:34:36.500Z"
   },
   {
    "duration": 26,
    "start_time": "2022-01-12T18:35:14.617Z"
   },
   {
    "duration": 36,
    "start_time": "2022-01-12T18:35:57.247Z"
   },
   {
    "duration": 22,
    "start_time": "2022-01-12T18:43:08.707Z"
   },
   {
    "duration": 32,
    "start_time": "2022-01-12T18:43:34.853Z"
   },
   {
    "duration": 25,
    "start_time": "2022-01-12T18:44:24.151Z"
   },
   {
    "duration": 18,
    "start_time": "2022-01-12T18:50:59.836Z"
   },
   {
    "duration": 17,
    "start_time": "2022-01-12T18:51:12.130Z"
   },
   {
    "duration": 16,
    "start_time": "2022-01-12T19:17:14.472Z"
   },
   {
    "duration": 14,
    "start_time": "2022-01-12T19:18:00.441Z"
   },
   {
    "duration": 5,
    "start_time": "2022-01-12T19:27:53.107Z"
   },
   {
    "duration": 710,
    "start_time": "2022-01-12T19:27:55.160Z"
   },
   {
    "duration": 5,
    "start_time": "2022-01-12T19:28:04.141Z"
   },
   {
    "duration": 28,
    "start_time": "2022-01-12T19:28:05.021Z"
   },
   {
    "duration": 19,
    "start_time": "2022-01-12T19:28:06.038Z"
   },
   {
    "duration": 25,
    "start_time": "2022-01-12T19:28:06.249Z"
   },
   {
    "duration": 19,
    "start_time": "2022-01-12T19:28:06.464Z"
   },
   {
    "duration": 29,
    "start_time": "2022-01-12T19:28:06.664Z"
   },
   {
    "duration": 22,
    "start_time": "2022-01-12T19:28:07.376Z"
   },
   {
    "duration": 13,
    "start_time": "2022-01-12T19:28:08.742Z"
   },
   {
    "duration": 17,
    "start_time": "2022-01-12T19:28:11.410Z"
   },
   {
    "duration": 14,
    "start_time": "2022-01-12T19:28:11.767Z"
   },
   {
    "duration": 6,
    "start_time": "2022-01-12T19:29:11.707Z"
   },
   {
    "duration": 3547,
    "start_time": "2022-01-12T19:29:12.438Z"
   },
   {
    "duration": -1494,
    "start_time": "2022-01-12T19:29:17.482Z"
   },
   {
    "duration": -1497,
    "start_time": "2022-01-12T19:29:17.487Z"
   },
   {
    "duration": -1503,
    "start_time": "2022-01-12T19:29:17.494Z"
   },
   {
    "duration": -1508,
    "start_time": "2022-01-12T19:29:17.501Z"
   },
   {
    "duration": -1513,
    "start_time": "2022-01-12T19:29:17.507Z"
   },
   {
    "duration": 5,
    "start_time": "2022-01-12T19:29:17.662Z"
   },
   {
    "duration": 3640,
    "start_time": "2022-01-12T19:29:19.308Z"
   },
   {
    "duration": 7,
    "start_time": "2022-01-12T19:29:47.715Z"
   },
   {
    "duration": 4028,
    "start_time": "2022-01-12T19:29:49.025Z"
   },
   {
    "duration": -1491,
    "start_time": "2022-01-12T19:29:54.547Z"
   },
   {
    "duration": -1498,
    "start_time": "2022-01-12T19:29:54.556Z"
   },
   {
    "duration": -1513,
    "start_time": "2022-01-12T19:29:54.573Z"
   },
   {
    "duration": -1518,
    "start_time": "2022-01-12T19:29:54.579Z"
   },
   {
    "duration": -1524,
    "start_time": "2022-01-12T19:29:54.586Z"
   },
   {
    "duration": 5,
    "start_time": "2022-01-12T19:29:58.166Z"
   },
   {
    "duration": 32,
    "start_time": "2022-01-12T19:29:59.132Z"
   },
   {
    "duration": 21,
    "start_time": "2022-01-12T19:29:59.734Z"
   },
   {
    "duration": 28,
    "start_time": "2022-01-12T19:29:59.943Z"
   },
   {
    "duration": 25,
    "start_time": "2022-01-12T19:30:00.127Z"
   },
   {
    "duration": 30,
    "start_time": "2022-01-12T19:30:00.310Z"
   },
   {
    "duration": 21,
    "start_time": "2022-01-12T19:30:00.495Z"
   },
   {
    "duration": 14,
    "start_time": "2022-01-12T19:30:01.474Z"
   },
   {
    "duration": 17,
    "start_time": "2022-01-12T19:30:02.639Z"
   },
   {
    "duration": 18,
    "start_time": "2022-01-12T19:30:02.855Z"
   },
   {
    "duration": 20,
    "start_time": "2022-01-12T19:31:06.867Z"
   },
   {
    "duration": 15,
    "start_time": "2022-01-12T19:31:28.057Z"
   },
   {
    "duration": 6,
    "start_time": "2022-01-12T19:34:55.711Z"
   },
   {
    "duration": 26,
    "start_time": "2022-01-12T19:36:18.002Z"
   },
   {
    "duration": 19,
    "start_time": "2022-01-12T19:39:41.176Z"
   },
   {
    "duration": 26,
    "start_time": "2022-01-12T19:41:13.005Z"
   },
   {
    "duration": 18,
    "start_time": "2022-01-12T19:42:20.487Z"
   },
   {
    "duration": 284,
    "start_time": "2022-01-12T19:47:02.428Z"
   },
   {
    "duration": 13,
    "start_time": "2022-01-12T19:47:18.312Z"
   },
   {
    "duration": 7,
    "start_time": "2022-01-12T19:47:47.043Z"
   },
   {
    "duration": 10,
    "start_time": "2022-01-12T19:52:52.504Z"
   },
   {
    "duration": 8,
    "start_time": "2022-01-12T19:53:20.255Z"
   },
   {
    "duration": 772,
    "start_time": "2022-01-14T13:21:50.338Z"
   },
   {
    "duration": 190,
    "start_time": "2022-01-14T13:21:51.113Z"
   },
   {
    "duration": 26,
    "start_time": "2022-01-14T13:21:51.306Z"
   },
   {
    "duration": 35,
    "start_time": "2022-01-14T13:21:51.335Z"
   },
   {
    "duration": 6,
    "start_time": "2022-01-14T13:21:51.373Z"
   },
   {
    "duration": 55,
    "start_time": "2022-01-14T13:21:51.381Z"
   },
   {
    "duration": 8,
    "start_time": "2022-01-14T13:21:51.439Z"
   },
   {
    "duration": 35,
    "start_time": "2022-01-14T13:21:51.450Z"
   },
   {
    "duration": 49,
    "start_time": "2022-01-14T13:21:51.491Z"
   },
   {
    "duration": 30,
    "start_time": "2022-01-14T13:21:51.544Z"
   },
   {
    "duration": 111,
    "start_time": "2022-01-14T13:21:51.577Z"
   },
   {
    "duration": 114,
    "start_time": "2022-01-14T13:21:51.690Z"
   },
   {
    "duration": 89,
    "start_time": "2022-01-14T13:21:51.806Z"
   },
   {
    "duration": 72,
    "start_time": "2022-01-14T13:21:51.897Z"
   },
   {
    "duration": 4,
    "start_time": "2022-01-14T13:21:51.971Z"
   },
   {
    "duration": 12,
    "start_time": "2022-01-14T13:21:51.977Z"
   },
   {
    "duration": 87,
    "start_time": "2022-01-14T13:21:51.992Z"
   },
   {
    "duration": 37,
    "start_time": "2022-01-14T13:21:52.081Z"
   },
   {
    "duration": 14,
    "start_time": "2022-01-14T13:21:52.121Z"
   },
   {
    "duration": 5,
    "start_time": "2022-01-14T13:21:52.137Z"
   },
   {
    "duration": 31,
    "start_time": "2022-01-14T13:21:52.144Z"
   },
   {
    "duration": 52,
    "start_time": "2022-01-14T13:21:52.178Z"
   },
   {
    "duration": 27,
    "start_time": "2022-01-14T13:21:52.232Z"
   },
   {
    "duration": 20,
    "start_time": "2022-01-14T13:21:52.262Z"
   },
   {
    "duration": 28,
    "start_time": "2022-01-14T13:21:52.318Z"
   },
   {
    "duration": 20,
    "start_time": "2022-01-14T13:21:52.349Z"
   },
   {
    "duration": 46,
    "start_time": "2022-01-14T13:21:52.376Z"
   },
   {
    "duration": 16,
    "start_time": "2022-01-14T13:21:52.425Z"
   },
   {
    "duration": 11,
    "start_time": "2022-01-14T13:21:52.444Z"
   },
   {
    "duration": 5,
    "start_time": "2022-01-14T13:21:52.458Z"
   },
   {
    "duration": 57,
    "start_time": "2022-01-14T13:21:52.466Z"
   },
   {
    "duration": 18,
    "start_time": "2022-01-14T13:21:52.525Z"
   },
   {
    "duration": 25,
    "start_time": "2022-01-14T13:21:52.545Z"
   },
   {
    "duration": 52,
    "start_time": "2022-01-14T13:21:52.572Z"
   },
   {
    "duration": 12,
    "start_time": "2022-01-14T13:21:52.626Z"
   },
   {
    "duration": 7,
    "start_time": "2022-01-14T13:21:52.640Z"
   },
   {
    "duration": 12,
    "start_time": "2022-01-14T13:21:52.650Z"
   },
   {
    "duration": 8,
    "start_time": "2022-01-14T13:21:52.665Z"
   },
   {
    "duration": 285,
    "start_time": "2022-01-14T18:00:33.437Z"
   },
   {
    "duration": 220,
    "start_time": "2022-01-14T18:01:08.039Z"
   },
   {
    "duration": 732,
    "start_time": "2022-01-14T18:01:39.037Z"
   },
   {
    "duration": 178,
    "start_time": "2022-01-14T18:01:39.772Z"
   },
   {
    "duration": 23,
    "start_time": "2022-01-14T18:01:39.953Z"
   },
   {
    "duration": 39,
    "start_time": "2022-01-14T18:01:39.978Z"
   },
   {
    "duration": 4,
    "start_time": "2022-01-14T18:01:40.019Z"
   },
   {
    "duration": 19,
    "start_time": "2022-01-14T18:01:40.042Z"
   },
   {
    "duration": 7,
    "start_time": "2022-01-14T18:01:40.062Z"
   },
   {
    "duration": 24,
    "start_time": "2022-01-14T18:01:40.070Z"
   },
   {
    "duration": 15,
    "start_time": "2022-01-14T18:01:40.097Z"
   },
   {
    "duration": 43,
    "start_time": "2022-01-14T18:01:40.113Z"
   },
   {
    "duration": 54,
    "start_time": "2022-01-14T18:01:40.158Z"
   },
   {
    "duration": 77,
    "start_time": "2022-01-14T18:01:40.214Z"
   },
   {
    "duration": 54,
    "start_time": "2022-01-14T18:01:40.293Z"
   },
   {
    "duration": 36,
    "start_time": "2022-01-14T18:01:40.348Z"
   },
   {
    "duration": 3,
    "start_time": "2022-01-14T18:01:40.386Z"
   },
   {
    "duration": 10,
    "start_time": "2022-01-14T18:01:40.390Z"
   },
   {
    "duration": 64,
    "start_time": "2022-01-14T18:01:40.402Z"
   },
   {
    "duration": 15,
    "start_time": "2022-01-14T18:01:40.468Z"
   },
   {
    "duration": 11,
    "start_time": "2022-01-14T18:01:40.485Z"
   },
   {
    "duration": 4,
    "start_time": "2022-01-14T18:01:40.497Z"
   },
   {
    "duration": 46,
    "start_time": "2022-01-14T18:01:40.503Z"
   },
   {
    "duration": 13,
    "start_time": "2022-01-14T18:01:40.551Z"
   },
   {
    "duration": 18,
    "start_time": "2022-01-14T18:01:40.566Z"
   },
   {
    "duration": 14,
    "start_time": "2022-01-14T18:01:40.585Z"
   },
   {
    "duration": 48,
    "start_time": "2022-01-14T18:01:40.601Z"
   },
   {
    "duration": 14,
    "start_time": "2022-01-14T18:01:40.651Z"
   },
   {
    "duration": 10,
    "start_time": "2022-01-14T18:01:56.487Z"
   },
   {
    "duration": 264,
    "start_time": "2022-01-14T18:20:50.987Z"
   },
   {
    "duration": 265,
    "start_time": "2022-01-14T18:20:52.130Z"
   },
   {
    "duration": 2,
    "start_time": "2022-01-14T18:20:57.549Z"
   },
   {
    "duration": 149,
    "start_time": "2022-01-14T18:20:57.553Z"
   },
   {
    "duration": 10,
    "start_time": "2022-01-14T18:20:57.704Z"
   },
   {
    "duration": 44,
    "start_time": "2022-01-14T18:20:57.717Z"
   },
   {
    "duration": 6,
    "start_time": "2022-01-14T18:20:57.763Z"
   },
   {
    "duration": 17,
    "start_time": "2022-01-14T18:20:57.771Z"
   },
   {
    "duration": 5,
    "start_time": "2022-01-14T18:20:57.789Z"
   },
   {
    "duration": 52,
    "start_time": "2022-01-14T18:20:57.797Z"
   },
   {
    "duration": 17,
    "start_time": "2022-01-14T18:20:57.852Z"
   },
   {
    "duration": 22,
    "start_time": "2022-01-14T18:20:57.871Z"
   },
   {
    "duration": 80,
    "start_time": "2022-01-14T18:20:57.895Z"
   },
   {
    "duration": 67,
    "start_time": "2022-01-14T18:20:57.977Z"
   },
   {
    "duration": 49,
    "start_time": "2022-01-14T18:20:58.046Z"
   },
   {
    "duration": 49,
    "start_time": "2022-01-14T18:20:58.097Z"
   },
   {
    "duration": 4,
    "start_time": "2022-01-14T18:20:58.148Z"
   },
   {
    "duration": 11,
    "start_time": "2022-01-14T18:20:58.153Z"
   },
   {
    "duration": 40,
    "start_time": "2022-01-14T18:20:58.166Z"
   },
   {
    "duration": 38,
    "start_time": "2022-01-14T18:20:58.208Z"
   },
   {
    "duration": 12,
    "start_time": "2022-01-14T18:20:58.248Z"
   },
   {
    "duration": 3,
    "start_time": "2022-01-14T18:20:58.262Z"
   },
   {
    "duration": 25,
    "start_time": "2022-01-14T18:20:58.266Z"
   },
   {
    "duration": 14,
    "start_time": "2022-01-14T18:20:58.293Z"
   },
   {
    "duration": 48,
    "start_time": "2022-01-14T18:20:58.310Z"
   },
   {
    "duration": 15,
    "start_time": "2022-01-14T18:20:58.359Z"
   },
   {
    "duration": 21,
    "start_time": "2022-01-14T18:20:58.376Z"
   },
   {
    "duration": 43,
    "start_time": "2022-01-14T18:20:58.399Z"
   },
   {
    "duration": 8,
    "start_time": "2022-01-14T18:20:58.444Z"
   },
   {
    "duration": 13,
    "start_time": "2022-01-14T18:20:58.454Z"
   },
   {
    "duration": 14,
    "start_time": "2022-01-14T18:20:58.469Z"
   },
   {
    "duration": 4,
    "start_time": "2022-01-14T18:20:58.485Z"
   },
   {
    "duration": 24,
    "start_time": "2022-01-14T18:20:58.490Z"
   },
   {
    "duration": 34,
    "start_time": "2022-01-14T18:20:58.515Z"
   },
   {
    "duration": 17,
    "start_time": "2022-01-14T18:21:02.087Z"
   },
   {
    "duration": 20,
    "start_time": "2022-01-14T18:21:02.939Z"
   },
   {
    "duration": 15,
    "start_time": "2022-01-14T18:21:03.899Z"
   },
   {
    "duration": 9,
    "start_time": "2022-01-14T18:24:27.539Z"
   },
   {
    "duration": 5,
    "start_time": "2022-01-14T18:24:30.521Z"
   },
   {
    "duration": 7,
    "start_time": "2022-01-14T18:24:36.532Z"
   },
   {
    "duration": 5,
    "start_time": "2022-01-14T18:24:37.842Z"
   },
   {
    "duration": 3,
    "start_time": "2022-01-14T18:27:07.379Z"
   },
   {
    "duration": 167,
    "start_time": "2022-01-14T18:27:07.384Z"
   },
   {
    "duration": 10,
    "start_time": "2022-01-14T18:27:07.554Z"
   },
   {
    "duration": 26,
    "start_time": "2022-01-14T18:27:07.566Z"
   },
   {
    "duration": 6,
    "start_time": "2022-01-14T18:27:07.593Z"
   },
   {
    "duration": 41,
    "start_time": "2022-01-14T18:27:07.601Z"
   },
   {
    "duration": 4,
    "start_time": "2022-01-14T18:27:07.644Z"
   },
   {
    "duration": 25,
    "start_time": "2022-01-14T18:27:07.651Z"
   },
   {
    "duration": 17,
    "start_time": "2022-01-14T18:27:07.678Z"
   },
   {
    "duration": 45,
    "start_time": "2022-01-14T18:27:07.697Z"
   },
   {
    "duration": 55,
    "start_time": "2022-01-14T18:27:07.744Z"
   },
   {
    "duration": 77,
    "start_time": "2022-01-14T18:27:07.800Z"
   },
   {
    "duration": 75,
    "start_time": "2022-01-14T18:27:07.880Z"
   },
   {
    "duration": 46,
    "start_time": "2022-01-14T18:27:07.957Z"
   },
   {
    "duration": 4,
    "start_time": "2022-01-14T18:27:08.004Z"
   },
   {
    "duration": 20,
    "start_time": "2022-01-14T18:27:08.012Z"
   },
   {
    "duration": 40,
    "start_time": "2022-01-14T18:27:08.041Z"
   },
   {
    "duration": 12,
    "start_time": "2022-01-14T18:27:08.082Z"
   },
   {
    "duration": 10,
    "start_time": "2022-01-14T18:27:08.095Z"
   },
   {
    "duration": 3,
    "start_time": "2022-01-14T18:27:08.106Z"
   },
   {
    "duration": 58,
    "start_time": "2022-01-14T18:27:08.111Z"
   },
   {
    "duration": 15,
    "start_time": "2022-01-14T18:27:08.171Z"
   },
   {
    "duration": 24,
    "start_time": "2022-01-14T18:27:08.189Z"
   },
   {
    "duration": 14,
    "start_time": "2022-01-14T18:27:08.214Z"
   },
   {
    "duration": 28,
    "start_time": "2022-01-14T18:27:08.230Z"
   },
   {
    "duration": 14,
    "start_time": "2022-01-14T18:27:08.260Z"
   },
   {
    "duration": 8,
    "start_time": "2022-01-14T18:27:08.275Z"
   },
   {
    "duration": 17,
    "start_time": "2022-01-14T18:27:08.285Z"
   },
   {
    "duration": 9,
    "start_time": "2022-01-14T18:27:08.304Z"
   },
   {
    "duration": 28,
    "start_time": "2022-01-14T18:27:08.315Z"
   },
   {
    "duration": 28,
    "start_time": "2022-01-14T18:27:08.345Z"
   },
   {
    "duration": 12,
    "start_time": "2022-01-14T18:27:08.375Z"
   },
   {
    "duration": 20,
    "start_time": "2022-01-14T18:27:08.388Z"
   },
   {
    "duration": 12,
    "start_time": "2022-01-14T18:27:08.409Z"
   },
   {
    "duration": 9,
    "start_time": "2022-01-14T18:27:08.441Z"
   },
   {
    "duration": 4,
    "start_time": "2022-01-14T18:27:08.451Z"
   },
   {
    "duration": 14,
    "start_time": "2022-01-14T18:27:08.457Z"
   },
   {
    "duration": 7,
    "start_time": "2022-01-14T18:27:08.473Z"
   },
   {
    "duration": 611,
    "start_time": "2022-01-14T20:22:57.273Z"
   },
   {
    "duration": 144,
    "start_time": "2022-01-14T20:22:57.886Z"
   },
   {
    "duration": 16,
    "start_time": "2022-01-14T20:22:58.032Z"
   },
   {
    "duration": 26,
    "start_time": "2022-01-14T20:22:58.050Z"
   },
   {
    "duration": 22,
    "start_time": "2022-01-14T20:22:58.078Z"
   },
   {
    "duration": 21,
    "start_time": "2022-01-14T20:22:58.101Z"
   },
   {
    "duration": 5,
    "start_time": "2022-01-14T20:22:58.123Z"
   },
   {
    "duration": 35,
    "start_time": "2022-01-14T20:22:58.130Z"
   },
   {
    "duration": 47,
    "start_time": "2022-01-14T20:22:58.168Z"
   },
   {
    "duration": 28,
    "start_time": "2022-01-14T20:22:58.219Z"
   },
   {
    "duration": 67,
    "start_time": "2022-01-14T20:22:58.249Z"
   },
   {
    "duration": 63,
    "start_time": "2022-01-14T20:22:58.318Z"
   },
   {
    "duration": 57,
    "start_time": "2022-01-14T20:22:58.382Z"
   },
   {
    "duration": 70,
    "start_time": "2022-01-14T20:22:58.441Z"
   },
   {
    "duration": 4,
    "start_time": "2022-01-14T20:22:58.514Z"
   },
   {
    "duration": 12,
    "start_time": "2022-01-14T20:22:58.520Z"
   },
   {
    "duration": 40,
    "start_time": "2022-01-14T20:22:58.533Z"
   },
   {
    "duration": 38,
    "start_time": "2022-01-14T20:22:58.575Z"
   },
   {
    "duration": 15,
    "start_time": "2022-01-14T20:22:58.615Z"
   },
   {
    "duration": 3,
    "start_time": "2022-01-14T20:22:58.631Z"
   },
   {
    "duration": 25,
    "start_time": "2022-01-14T20:22:58.636Z"
   },
   {
    "duration": 36,
    "start_time": "2022-01-14T20:22:58.663Z"
   },
   {
    "duration": 19,
    "start_time": "2022-01-14T20:22:58.701Z"
   },
   {
    "duration": 15,
    "start_time": "2022-01-14T20:22:58.722Z"
   },
   {
    "duration": 21,
    "start_time": "2022-01-14T20:22:58.739Z"
   },
   {
    "duration": 48,
    "start_time": "2022-01-14T20:22:58.762Z"
   },
   {
    "duration": 7,
    "start_time": "2022-01-14T20:22:58.814Z"
   },
   {
    "duration": 17,
    "start_time": "2022-01-14T20:22:58.823Z"
   },
   {
    "duration": 9,
    "start_time": "2022-01-14T20:22:58.841Z"
   },
   {
    "duration": 4,
    "start_time": "2022-01-14T20:22:58.852Z"
   },
   {
    "duration": 45,
    "start_time": "2022-01-14T20:22:58.858Z"
   },
   {
    "duration": 12,
    "start_time": "2022-01-14T20:22:58.905Z"
   },
   {
    "duration": 15,
    "start_time": "2022-01-14T20:22:58.919Z"
   },
   {
    "duration": 11,
    "start_time": "2022-01-14T20:22:58.936Z"
   },
   {
    "duration": 8,
    "start_time": "2022-01-14T20:22:58.948Z"
   },
   {
    "duration": 41,
    "start_time": "2022-01-14T20:22:58.958Z"
   },
   {
    "duration": 6,
    "start_time": "2022-01-14T20:22:59.001Z"
   },
   {
    "duration": 5,
    "start_time": "2022-01-14T20:22:59.009Z"
   },
   {
    "duration": 729,
    "start_time": "2022-01-31T10:53:02.865Z"
   },
   {
    "duration": 48,
    "start_time": "2022-06-11T20:37:24.593Z"
   },
   {
    "duration": 371,
    "start_time": "2022-06-11T20:43:43.901Z"
   },
   {
    "duration": 435,
    "start_time": "2022-06-11T20:43:44.274Z"
   },
   {
    "duration": 17,
    "start_time": "2022-06-11T20:43:44.710Z"
   },
   {
    "duration": 29,
    "start_time": "2022-06-11T20:43:44.729Z"
   },
   {
    "duration": 4,
    "start_time": "2022-06-11T20:43:44.760Z"
   },
   {
    "duration": 23,
    "start_time": "2022-06-11T20:43:44.765Z"
   },
   {
    "duration": 16,
    "start_time": "2022-06-11T20:43:44.790Z"
   },
   {
    "duration": 42,
    "start_time": "2022-06-11T20:43:44.808Z"
   },
   {
    "duration": 27,
    "start_time": "2022-06-11T20:43:44.852Z"
   },
   {
    "duration": 28,
    "start_time": "2022-06-11T20:43:44.880Z"
   },
   {
    "duration": 74,
    "start_time": "2022-06-11T20:43:44.910Z"
   },
   {
    "duration": 90,
    "start_time": "2022-06-11T20:43:44.986Z"
   },
   {
    "duration": 63,
    "start_time": "2022-06-11T20:43:45.077Z"
   },
   {
    "duration": 54,
    "start_time": "2022-06-11T20:43:45.144Z"
   },
   {
    "duration": 3,
    "start_time": "2022-06-11T20:43:45.200Z"
   },
   {
    "duration": 13,
    "start_time": "2022-06-11T20:43:45.204Z"
   },
   {
    "duration": 58,
    "start_time": "2022-06-11T20:43:45.219Z"
   },
   {
    "duration": 13,
    "start_time": "2022-06-11T20:43:45.278Z"
   },
   {
    "duration": 12,
    "start_time": "2022-06-11T20:43:45.292Z"
   },
   {
    "duration": 3,
    "start_time": "2022-06-11T20:43:45.306Z"
   },
   {
    "duration": 50,
    "start_time": "2022-06-11T20:43:45.311Z"
   },
   {
    "duration": 15,
    "start_time": "2022-06-11T20:43:45.363Z"
   },
   {
    "duration": 19,
    "start_time": "2022-06-11T20:43:45.380Z"
   },
   {
    "duration": 14,
    "start_time": "2022-06-11T20:43:45.400Z"
   },
   {
    "duration": 45,
    "start_time": "2022-06-11T20:43:45.416Z"
   },
   {
    "duration": 14,
    "start_time": "2022-06-11T20:43:45.462Z"
   },
   {
    "duration": 8,
    "start_time": "2022-06-11T20:43:45.478Z"
   },
   {
    "duration": 12,
    "start_time": "2022-06-11T20:43:45.489Z"
   },
   {
    "duration": 10,
    "start_time": "2022-06-11T20:43:45.503Z"
   },
   {
    "duration": 5,
    "start_time": "2022-06-11T20:43:45.515Z"
   },
   {
    "duration": 20,
    "start_time": "2022-06-11T20:43:45.558Z"
   },
   {
    "duration": 21,
    "start_time": "2022-06-11T20:43:45.580Z"
   },
   {
    "duration": 18,
    "start_time": "2022-06-11T20:43:45.602Z"
   },
   {
    "duration": 41,
    "start_time": "2022-06-11T20:43:45.622Z"
   },
   {
    "duration": 8,
    "start_time": "2022-06-11T20:43:45.665Z"
   },
   {
    "duration": 5,
    "start_time": "2022-06-11T20:43:45.675Z"
   },
   {
    "duration": 8,
    "start_time": "2022-06-11T20:43:45.682Z"
   },
   {
    "duration": 4,
    "start_time": "2022-06-11T20:43:45.692Z"
   }
  ],
  "celltoolbar": "Необработанный формат ячейки",
  "colab": {
   "collapsed_sections": [
    "E0vqbgi9ay0H",
    "VUC88oWjTJw2"
   ],
   "name": "yandex_music_project_2021.2.ipynb",
   "provenance": []
  },
  "kernelspec": {
   "display_name": "Python 3 (ipykernel)",
   "language": "python",
   "name": "python3"
  },
  "language_info": {
   "codemirror_mode": {
    "name": "ipython",
    "version": 3
   },
   "file_extension": ".py",
   "mimetype": "text/x-python",
   "name": "python",
   "nbconvert_exporter": "python",
   "pygments_lexer": "ipython3",
   "version": "3.9.5"
  },
  "toc": {
   "base_numbering": 1,
   "nav_menu": {
    "height": "199px",
    "width": "417px"
   },
   "number_sections": true,
   "sideBar": true,
   "skip_h1_title": true,
   "title_cell": "Table of Contents",
   "title_sidebar": "Contents",
   "toc_cell": false,
   "toc_position": {},
   "toc_section_display": true,
   "toc_window_display": true
  }
 },
 "nbformat": 4,
 "nbformat_minor": 1
}
