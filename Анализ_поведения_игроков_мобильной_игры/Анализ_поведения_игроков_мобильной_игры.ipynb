{
 "cells": [
  {
   "cell_type": "markdown",
   "id": "1be3caa8",
   "metadata": {},
   "source": [
    "# Анализ поведения игроков мобильной игры"
   ]
  },
  {
   "cell_type": "markdown",
   "id": "3cf49c25",
   "metadata": {},
   "source": [
    "## Описание проекта"
   ]
  },
  {
   "cell_type": "markdown",
   "id": "12609a28",
   "metadata": {},
   "source": [
    "**Цель:** Анализ поведения игроков в зависимости от источника перехода, для последующего использования полученных данных менеджерами проекта, при выборе наиболее перспективных рекламных каналов, а также планировании и реализации модели монетизации игры \"Космические братья\".\n",
    "\n",
    "**Данные:** В нашем распоряжении данные по игре пользователей на первом уровне (датасет *game_actions.csv*):\n",
    "- `event_datetime` — время события;\n",
    "- `event` — одно из трёх событий:\n",
    "    1. `building` — объект построен,\n",
    "    2. `finished_stage_1` — первый уровень завершён,\n",
    "    3. `project` — проект завершён;\n",
    "- `building_type` — один из трёх типов здания:\n",
    "    1. `assembly_shop` — сборочный цех,\n",
    "    2. `spaceport` — космопорт,\n",
    "    3. `research_center` — исследовательский центр;\n",
    "- `user_id` — идентификатор пользователя;\n",
    "- `project_type` — тип реализованного проекта.\n",
    "\n",
    "Данные о стоимости кликов по рекламным объявлениеям (датасет *ad_cost.csv*): \n",
    "- `day` - день, в который был совершен клик по объявлению;\n",
    "- `source` - источник трафика;\n",
    "- `cost` - стоимость кликов.\n",
    "\n",
    "Данные об источниках привлечения игроков (датасет *user_source.csv*): \n",
    "- `user_id` - идентификатор пользователя;\n",
    "- `source` - источников, с которого пришёл пользователь, установивший приложение.\n",
    "\n",
    "**Ход выполнения проекта:**\n",
    "1. Предобработка данных.\n",
    "2. Исследовательский анализ данных:\n",
    "- изучение количества событий по дням, распределения событий по типу, распределения построек по типу, распределения игроков по каналам привлечения;\n",
    "- изучение распределения количества событий и рассчёт среднего количества событий совершаемых игроком, в т.ч. в разрезе каналов привлечения;\n",
    "- рассчёт доли игроков завершивших первый уровень в целом и каждым из способов, среди всех игроков и в разрезе каналов привлечения;\n",
    "- расчёт стоимости привлечения игрока по разным каналам привлечения.\n",
    "3. Проверка статистической гипотезы \"Время завершения уровня различается в зависимости от способа прохождения\":\n",
    "- посчитать для каждого пользователя, завершившего первый уровень, время затраченное на завершение;\n",
    "- рассчитать среднее время завершения и оценить распределение показателя времени завершения в группе завершивших через реализацию проекта и в группе завершивших через победу над первым игроком;\n",
    "- при распределении близком к нормальному использовать t-тест для непарных выборок, при ненормальном распределении использовать критерий Манна-Уитни;\n",
    "- выбрать уровень статистической значимости и оценить результаты проверки статистической гипотезы.\n",
    "4. Формулировка и проверка авторской гипотезы:\n",
    "- доля игроков завершивших первый уровень различается в зависимости от канала привлечения:\n",
    "    - выбрать уровень статистической значимости с поправкой на множественные сравнения;\n",
    "    - сравнить ранее рассчитанные доли игроков завершивших первый уровень в разных каналах привлечения, используя z-тест;\n",
    "- среднее количество построек на игрока различается в зависимости от факта завершения уровня и способа его завершения (сравнение трёх групп: не завершившие первый уровень, завершившие через реализацию проекта, завершившие через победу над первым игроком):\n",
    "    - изучение распределения показателя и расчет среднего количества построек на игрока в каждой группе;\n",
    "    - выбор статистического теста (t-тест или критерий Манна-Уитни);\n",
    "    - выбор уровня статистической значимости с поправкой на множественные сравнения и оценка результатов проверки статистической гипотезы."
   ]
  },
  {
   "cell_type": "markdown",
   "id": "9f5c29c5",
   "metadata": {},
   "source": [
    "## Предобработка данных"
   ]
  },
  {
   "cell_type": "code",
   "execution_count": 2,
   "id": "45ecf93c",
   "metadata": {},
   "outputs": [],
   "source": [
    "import pandas as pd\n",
    "import datetime as dt\n",
    "import seaborn as sns\n",
    "import matplotlib.pyplot as plt\n",
    "from scipy import stats as st\n",
    "import numpy as np\n",
    "import math as mth\n",
    "pd.set_option('display.float_format', '{:,.2f}'.format)"
   ]
  },
  {
   "cell_type": "code",
   "execution_count": 3,
   "id": "f33198a9",
   "metadata": {},
   "outputs": [],
   "source": [
    "#загрузка данных\n",
    "ad_costs = pd.read_csv('http://code.s3.yandex.net/datasets/ad_costs.csv')\n",
    "game_actions = pd.read_csv('http://code.s3.yandex.net/datasets/game_actions.csv', parse_dates=['event_datetime'])\n",
    "user_source = pd.read_csv('http://code.s3.yandex.net/datasets/user_source.csv')"
   ]
  },
  {
   "cell_type": "code",
   "execution_count": 4,
   "id": "fc6cbb24",
   "metadata": {},
   "outputs": [],
   "source": [
    "def information(df): #функция для получения общих сведений о датафрейме\n",
    "    print('\\033[1m' + 'Общая информация:' + '\\033[0m')\n",
    "    df.info()\n",
    "    print('\\033[1m' + 'Первые 2 строки:' + '\\033[0m')\n",
    "    display(df.head(2))\n",
    "    print('\\033[1m' + 'Количество столбцов в датафрейме:' + '\\033[0m', len(df.columns))\n",
    "    print('\\033[1m' + 'Количество строк в датафрейме:' + '\\033[0m', len(df))\n",
    "    print('\\033[1m' + 'Количество дубликатов:' + '\\033[0m', df.duplicated().sum())\n",
    "    print('\\033[1m' + 'Количество пропусков:' + '\\033[0m')\n",
    "    display(df.isna().sum())\n",
    "    print('\\033[1m' + 'Доля пропусков:' + '\\033[0m')\n",
    "    print(df.isna().sum().mean())"
   ]
  },
  {
   "cell_type": "code",
   "execution_count": 6,
   "id": "2807609e",
   "metadata": {},
   "outputs": [
    {
     "name": "stdout",
     "output_type": "stream",
     "text": [
      "\u001b[1mОбщая информация:\u001b[0m\n",
      "<class 'pandas.core.frame.DataFrame'>\n",
      "RangeIndex: 28 entries, 0 to 27\n",
      "Data columns (total 3 columns):\n",
      " #   Column  Non-Null Count  Dtype  \n",
      "---  ------  --------------  -----  \n",
      " 0   source  28 non-null     object \n",
      " 1   day     28 non-null     object \n",
      " 2   cost    28 non-null     float64\n",
      "dtypes: float64(1), object(2)\n",
      "memory usage: 800.0+ bytes\n",
      "\u001b[1mПервые 2 строки:\u001b[0m\n"
     ]
    },
    {
     "data": {
      "text/html": [
       "<div>\n",
       "<style scoped>\n",
       "    .dataframe tbody tr th:only-of-type {\n",
       "        vertical-align: middle;\n",
       "    }\n",
       "\n",
       "    .dataframe tbody tr th {\n",
       "        vertical-align: top;\n",
       "    }\n",
       "\n",
       "    .dataframe thead th {\n",
       "        text-align: right;\n",
       "    }\n",
       "</style>\n",
       "<table border=\"1\" class=\"dataframe\">\n",
       "  <thead>\n",
       "    <tr style=\"text-align: right;\">\n",
       "      <th></th>\n",
       "      <th>source</th>\n",
       "      <th>day</th>\n",
       "      <th>cost</th>\n",
       "    </tr>\n",
       "  </thead>\n",
       "  <tbody>\n",
       "    <tr>\n",
       "      <th>0</th>\n",
       "      <td>facebook_ads</td>\n",
       "      <td>2020-05-03</td>\n",
       "      <td>935.88</td>\n",
       "    </tr>\n",
       "    <tr>\n",
       "      <th>1</th>\n",
       "      <td>facebook_ads</td>\n",
       "      <td>2020-05-04</td>\n",
       "      <td>548.35</td>\n",
       "    </tr>\n",
       "  </tbody>\n",
       "</table>\n",
       "</div>"
      ],
      "text/plain": [
       "         source         day   cost\n",
       "0  facebook_ads  2020-05-03 935.88\n",
       "1  facebook_ads  2020-05-04 548.35"
      ]
     },
     "metadata": {},
     "output_type": "display_data"
    },
    {
     "name": "stdout",
     "output_type": "stream",
     "text": [
      "\u001b[1mКоличество столбцов в датафрейме:\u001b[0m 3\n",
      "\u001b[1mКоличество строк в датафрейме:\u001b[0m 28\n",
      "\u001b[1mКоличество дубликатов:\u001b[0m 0\n",
      "\u001b[1mКоличество пропусков:\u001b[0m\n"
     ]
    },
    {
     "data": {
      "text/plain": [
       "source    0\n",
       "day       0\n",
       "cost      0\n",
       "dtype: int64"
      ]
     },
     "metadata": {},
     "output_type": "display_data"
    },
    {
     "name": "stdout",
     "output_type": "stream",
     "text": [
      "\u001b[1mДоля пропусков:\u001b[0m\n",
      "0.0\n"
     ]
    }
   ],
   "source": [
    "information(ad_costs)"
   ]
  },
  {
   "cell_type": "markdown",
   "id": "903a6e6d",
   "metadata": {},
   "source": [
    "В датафрейме с данными о стоимости рекламы по дням и каналам 3 столбца и 28 строк, пропущенные значения и дубликаты отсутствуют."
   ]
  },
  {
   "cell_type": "code",
   "execution_count": 7,
   "id": "f80e06db",
   "metadata": {},
   "outputs": [
    {
     "name": "stdout",
     "output_type": "stream",
     "text": [
      "\u001b[1mОбщая информация:\u001b[0m\n",
      "<class 'pandas.core.frame.DataFrame'>\n",
      "RangeIndex: 135640 entries, 0 to 135639\n",
      "Data columns (total 5 columns):\n",
      " #   Column          Non-Null Count   Dtype         \n",
      "---  ------          --------------   -----         \n",
      " 0   event_datetime  135640 non-null  datetime64[ns]\n",
      " 1   event           135640 non-null  object        \n",
      " 2   building_type   127957 non-null  object        \n",
      " 3   user_id         135640 non-null  object        \n",
      " 4   project_type    1866 non-null    object        \n",
      "dtypes: datetime64[ns](1), object(4)\n",
      "memory usage: 5.2+ MB\n",
      "\u001b[1mПервые 2 строки:\u001b[0m\n"
     ]
    },
    {
     "data": {
      "text/html": [
       "<div>\n",
       "<style scoped>\n",
       "    .dataframe tbody tr th:only-of-type {\n",
       "        vertical-align: middle;\n",
       "    }\n",
       "\n",
       "    .dataframe tbody tr th {\n",
       "        vertical-align: top;\n",
       "    }\n",
       "\n",
       "    .dataframe thead th {\n",
       "        text-align: right;\n",
       "    }\n",
       "</style>\n",
       "<table border=\"1\" class=\"dataframe\">\n",
       "  <thead>\n",
       "    <tr style=\"text-align: right;\">\n",
       "      <th></th>\n",
       "      <th>event_datetime</th>\n",
       "      <th>event</th>\n",
       "      <th>building_type</th>\n",
       "      <th>user_id</th>\n",
       "      <th>project_type</th>\n",
       "    </tr>\n",
       "  </thead>\n",
       "  <tbody>\n",
       "    <tr>\n",
       "      <th>0</th>\n",
       "      <td>2020-05-04 00:00:01</td>\n",
       "      <td>building</td>\n",
       "      <td>assembly_shop</td>\n",
       "      <td>55e92310-cb8e-4754-b622-597e124b03de</td>\n",
       "      <td>NaN</td>\n",
       "    </tr>\n",
       "    <tr>\n",
       "      <th>1</th>\n",
       "      <td>2020-05-04 00:00:03</td>\n",
       "      <td>building</td>\n",
       "      <td>assembly_shop</td>\n",
       "      <td>c07b1c10-f477-44dc-81dc-ec82254b1347</td>\n",
       "      <td>NaN</td>\n",
       "    </tr>\n",
       "  </tbody>\n",
       "</table>\n",
       "</div>"
      ],
      "text/plain": [
       "       event_datetime     event  building_type  \\\n",
       "0 2020-05-04 00:00:01  building  assembly_shop   \n",
       "1 2020-05-04 00:00:03  building  assembly_shop   \n",
       "\n",
       "                                user_id project_type  \n",
       "0  55e92310-cb8e-4754-b622-597e124b03de          NaN  \n",
       "1  c07b1c10-f477-44dc-81dc-ec82254b1347          NaN  "
      ]
     },
     "metadata": {},
     "output_type": "display_data"
    },
    {
     "name": "stdout",
     "output_type": "stream",
     "text": [
      "\u001b[1mКоличество столбцов в датафрейме:\u001b[0m 5\n",
      "\u001b[1mКоличество строк в датафрейме:\u001b[0m 135640\n",
      "\u001b[1mКоличество дубликатов:\u001b[0m 1\n",
      "\u001b[1mКоличество пропусков:\u001b[0m\n"
     ]
    },
    {
     "data": {
      "text/plain": [
       "event_datetime         0\n",
       "event                  0\n",
       "building_type       7683\n",
       "user_id                0\n",
       "project_type      133774\n",
       "dtype: int64"
      ]
     },
     "metadata": {},
     "output_type": "display_data"
    },
    {
     "name": "stdout",
     "output_type": "stream",
     "text": [
      "\u001b[1mДоля пропусков:\u001b[0m\n",
      "28291.4\n"
     ]
    }
   ],
   "source": [
    "information(game_actions)"
   ]
  },
  {
   "cell_type": "markdown",
   "id": "44009861",
   "metadata": {},
   "source": [
    "Датафрейм, содержащий данные о действиях игроков представлен 5 столбцами и содержит 135640 строк. \n",
    "\n",
    "Количество пропусков в столбце `building_type` - 7683, что составляет около 6%, вероятно эти пропуски соответствуют строкам в которых отражено событие-прохождение первого уровня одним из доступных способов, и обрабатывать данные пропуски не нужно."
   ]
  },
  {
   "cell_type": "code",
   "execution_count": 8,
   "id": "5b0182ad",
   "metadata": {},
   "outputs": [
    {
     "data": {
      "text/plain": [
       "finished_stage_1    5817\n",
       "project             1866\n",
       "Name: event, dtype: int64"
      ]
     },
     "execution_count": 8,
     "metadata": {},
     "output_type": "execute_result"
    }
   ],
   "source": [
    "game_actions[game_actions['building_type'].isna()]['event'].value_counts()"
   ]
  },
  {
   "cell_type": "markdown",
   "id": "a3450925",
   "metadata": {},
   "source": [
    "Мы убедились, что аномальные пропуски в столбце `building_type` отсутствуют."
   ]
  },
  {
   "cell_type": "markdown",
   "id": "a3298de0",
   "metadata": {},
   "source": [
    "Доля пропусков в столбце `project_type` достигает 99%. В данном столбце ячейка заполняется только в том случае, если первый уровень пройден путём завершения проекта, в таком случае необходимость обрабатывать данные пропуски также отсутствует."
   ]
  },
  {
   "cell_type": "code",
   "execution_count": 9,
   "id": "05ce7097",
   "metadata": {},
   "outputs": [
    {
     "data": {
      "text/plain": [
       "project    1866\n",
       "Name: event, dtype: int64"
      ]
     },
     "execution_count": 9,
     "metadata": {},
     "output_type": "execute_result"
    }
   ],
   "source": [
    "game_actions[~(game_actions['project_type'].isna())]['event'].value_counts()"
   ]
  },
  {
   "cell_type": "markdown",
   "id": "818c74f9",
   "metadata": {},
   "source": [
    "Предположение относительно механизма появления пропусков в столбце `project_type` подтвердилось, а значит обрабатывать их не нужно."
   ]
  },
  {
   "cell_type": "markdown",
   "id": "224c280c",
   "metadata": {},
   "source": [
    "Также в датафрейме присутствует один дубликат, который можно просто удалить."
   ]
  },
  {
   "cell_type": "code",
   "execution_count": 10,
   "id": "f6258f3c",
   "metadata": {},
   "outputs": [],
   "source": [
    "game_actions = game_actions.drop_duplicates().reset_index(drop=True) #удаление дубликата"
   ]
  },
  {
   "cell_type": "code",
   "execution_count": 11,
   "id": "3e0134fb",
   "metadata": {},
   "outputs": [
    {
     "name": "stdout",
     "output_type": "stream",
     "text": [
      "\u001b[1mОбщая информация:\u001b[0m\n",
      "<class 'pandas.core.frame.DataFrame'>\n",
      "RangeIndex: 13576 entries, 0 to 13575\n",
      "Data columns (total 2 columns):\n",
      " #   Column   Non-Null Count  Dtype \n",
      "---  ------   --------------  ----- \n",
      " 0   user_id  13576 non-null  object\n",
      " 1   source   13576 non-null  object\n",
      "dtypes: object(2)\n",
      "memory usage: 212.2+ KB\n",
      "\u001b[1mПервые 2 строки:\u001b[0m\n"
     ]
    },
    {
     "data": {
      "text/html": [
       "<div>\n",
       "<style scoped>\n",
       "    .dataframe tbody tr th:only-of-type {\n",
       "        vertical-align: middle;\n",
       "    }\n",
       "\n",
       "    .dataframe tbody tr th {\n",
       "        vertical-align: top;\n",
       "    }\n",
       "\n",
       "    .dataframe thead th {\n",
       "        text-align: right;\n",
       "    }\n",
       "</style>\n",
       "<table border=\"1\" class=\"dataframe\">\n",
       "  <thead>\n",
       "    <tr style=\"text-align: right;\">\n",
       "      <th></th>\n",
       "      <th>user_id</th>\n",
       "      <th>source</th>\n",
       "    </tr>\n",
       "  </thead>\n",
       "  <tbody>\n",
       "    <tr>\n",
       "      <th>0</th>\n",
       "      <td>0001f83c-c6ac-4621-b7f0-8a28b283ac30</td>\n",
       "      <td>facebook_ads</td>\n",
       "    </tr>\n",
       "    <tr>\n",
       "      <th>1</th>\n",
       "      <td>00151b4f-ba38-44a8-a650-d7cf130a0105</td>\n",
       "      <td>yandex_direct</td>\n",
       "    </tr>\n",
       "  </tbody>\n",
       "</table>\n",
       "</div>"
      ],
      "text/plain": [
       "                                user_id         source\n",
       "0  0001f83c-c6ac-4621-b7f0-8a28b283ac30   facebook_ads\n",
       "1  00151b4f-ba38-44a8-a650-d7cf130a0105  yandex_direct"
      ]
     },
     "metadata": {},
     "output_type": "display_data"
    },
    {
     "name": "stdout",
     "output_type": "stream",
     "text": [
      "\u001b[1mКоличество столбцов в датафрейме:\u001b[0m 2\n",
      "\u001b[1mКоличество строк в датафрейме:\u001b[0m 13576\n",
      "\u001b[1mКоличество дубликатов:\u001b[0m 0\n",
      "\u001b[1mКоличество пропусков:\u001b[0m\n"
     ]
    },
    {
     "data": {
      "text/plain": [
       "user_id    0\n",
       "source     0\n",
       "dtype: int64"
      ]
     },
     "metadata": {},
     "output_type": "display_data"
    },
    {
     "name": "stdout",
     "output_type": "stream",
     "text": [
      "\u001b[1mДоля пропусков:\u001b[0m\n",
      "0.0\n"
     ]
    }
   ],
   "source": [
    "information(user_source)"
   ]
  },
  {
   "cell_type": "markdown",
   "id": "e99968b5",
   "metadata": {},
   "source": [
    "В датафрейме отражающем каналы прихода игроков 2 столбца и 13576 строк, дубликаты и пропуски отсутствуют."
   ]
  },
  {
   "cell_type": "markdown",
   "id": "6f80f4d2",
   "metadata": {},
   "source": [
    "### Промежуточный вывод"
   ]
  },
  {
   "cell_type": "markdown",
   "id": "8795a793",
   "metadata": {},
   "source": [
    "1. В датафреймах с данными о рекламе и каналах привлечения клиентов отсутствуют дубликаты и пропуски.\n",
    "2. Датафрейм с информацией об активностях игроков содержит 7683 пропуска (6%) в столбце `building_type` и 133774 пропуска (99%) в  столбце `project_type`, механизм формирования пропусков понятен и они не требуют обработки. Также датафрейм содержит 1 дубликат который был удалён в процессе предобработки. В столбце с датой и временем события формат object был заменен на datetime."
   ]
  },
  {
   "cell_type": "markdown",
   "id": "90081eeb",
   "metadata": {},
   "source": [
    "## Исследовательский анализ данных"
   ]
  },
  {
   "cell_type": "markdown",
   "id": "55fb8a9e",
   "metadata": {},
   "source": [
    "### Количество событий по дням"
   ]
  },
  {
   "cell_type": "code",
   "execution_count": 12,
   "id": "0ac61d76",
   "metadata": {},
   "outputs": [],
   "source": [
    "game_actions['event_date'] = game_actions['event_datetime'].dt.date #выделение даты события в отдельный столбец"
   ]
  },
  {
   "cell_type": "code",
   "execution_count": 13,
   "id": "f09054b5",
   "metadata": {},
   "outputs": [
    {
     "data": {
      "image/png": "[encoded data removed]",
      "text/plain": [
       "<Figure size 1800x864 with 1 Axes>"
      ]
     },
     "metadata": {
      "needs_background": "light"
     },
     "output_type": "display_data"
    }
   ],
   "source": [
    "plt.figure(figsize=(25, 12))\n",
    "plt.title('Распределение событий по дням', fontsize=20)\n",
    "ax = sns.barplot(x=game_actions.groupby('event_date').agg({'event' : 'count'}).index, \n",
    "            y=game_actions.groupby('event_date').agg({'event' : 'count'})['event'], color='blue')\n",
    "ax.bar_label(ax.containers[0], fontsize=15)\n",
    "plt.xlabel('Дата', fontsize=15)\n",
    "plt.ylabel('Количество событий', fontsize=15)\n",
    "plt.xticks(rotation=90)\n",
    "plt.show()"
   ]
  },
  {
   "cell_type": "markdown",
   "id": "0bc811d4",
   "metadata": {},
   "source": [
    "Количество событий растёт с 4.05 по 10.05 (с 8171 до 15207), 11.05 количество событий резко снижается до 8185 и далее продолжает ежедневно снижаться (5.06 количество событий составило всего 5). Т.е. наибольшую ативность пользователи проявляют в течении нескольких дней (до 1 недели) после привлечения."
   ]
  },
  {
   "cell_type": "markdown",
   "id": "2bd6c094",
   "metadata": {},
   "source": [
    "### Распределение событий по типу"
   ]
  },
  {
   "cell_type": "code",
   "execution_count": 14,
   "id": "43f955d4",
   "metadata": {},
   "outputs": [
    {
     "data": {
      "image/png": "[encoded data removed]",
      "text/plain": [
       "<Figure size 1440x720 with 2 Axes>"
      ]
     },
     "metadata": {
      "needs_background": "light"
     },
     "output_type": "display_data"
    }
   ],
   "source": [
    "fig, ax = plt.subplots(1, 2, figsize=(20,10))\n",
    "a = sns.barplot(ax=ax[0], x=game_actions.groupby('event').agg({'user_id' : 'count'}).index, \n",
    "            y=game_actions.groupby('event').agg({'user_id' : 'count'})['user_id'])\n",
    "a.bar_label(a.containers[0], fontsize=15)\n",
    "a.set_title('Распределение событий по типу, абс.', fontsize=20)\n",
    "a.set_xlabel('Тип события', fontsize=20)\n",
    "a.set_ylabel('Количество событий', fontsize=20)\n",
    "\n",
    "plt.title('Распределение событий по типам', fontsize=20)\n",
    "plt.pie(x=game_actions.groupby('event').agg({'user_id' : 'count'})['user_id'], \n",
    "        labels=game_actions.groupby('event').agg({'user_id' : 'count'}).index, \n",
    "        autopct='%.1f%%', textprops={'fontsize': 14})\n",
    "plt.show()"
   ]
  },
  {
   "cell_type": "markdown",
   "id": "b03e05e4",
   "metadata": {},
   "source": [
    "Самое частое событие - это постройка здания ('building'), оно произошло 127956 раз и его доля в структуре событий составляет 94,3%. Вторым по частоте является событие 'final_stage_1', означающее что игрок завершил первый уровень через победу над врагом, таким образом первый уровень был завершён 5817 раз и его доля составляет 4,3%. Реже всего происходило событие 'project', т.е. завершение уровня через реализацию проекта, данное событие регестрировалось 1866 раз и составляет 1,4% от всех событий.   "
   ]
  },
  {
   "cell_type": "markdown",
   "id": "fb95aba6",
   "metadata": {},
   "source": [
    "### Распределение построек по типу"
   ]
  },
  {
   "cell_type": "code",
   "execution_count": 15,
   "id": "5cfb944d",
   "metadata": {},
   "outputs": [
    {
     "data": {
      "image/png": "[encoded data removed]",
      "text/plain": [
       "<Figure size 1440x720 with 2 Axes>"
      ]
     },
     "metadata": {
      "needs_background": "light"
     },
     "output_type": "display_data"
    }
   ],
   "source": [
    "fig, ax = plt.subplots(1, 2, figsize=(20,10))\n",
    "a = sns.barplot(ax=ax[0], x=game_actions.groupby('building_type').agg({'user_id' : 'count'}).sort_values(by='user_id', ascending=False).index, \n",
    "            y=game_actions.groupby('building_type').agg({'user_id' : 'count'}).sort_values(by='user_id', ascending=False)['user_id'])\n",
    "a.bar_label(a.containers[0], fontsize=15)\n",
    "a.set_title('Распределение построек по типу, абс.', fontsize=20)\n",
    "a.set_xlabel('Тип постройки', fontsize=20)\n",
    "a.set_ylabel('Количество построек', fontsize=20)\n",
    "\n",
    "plt.title('Распределение построек по типам', fontsize=20)\n",
    "plt.pie(x=game_actions.groupby('building_type').agg({'user_id' : 'count'}).sort_values(by='user_id', ascending=False)['user_id'], \n",
    "        labels=game_actions.groupby('building_type').agg({'user_id' : 'count'}).sort_values(by='user_id', ascending=False).index, \n",
    "        autopct='%.1f%%', textprops={'fontsize': 14})\n",
    "plt.show()"
   ]
  },
  {
   "cell_type": "markdown",
   "id": "0a7296fb",
   "metadata": {},
   "source": [
    "Чаще всего игроки строят 'spaceport', всего построено 59325 зданий такого типа, их доля составляет 46,4% от всех построек. Немногим реже строятся 'assembly_shop' - 54494 или 42,6%. Самая редкая постройка - 'research_center' - её построили всего 14137 раз или 11,0%. Такое распределение может быть связано с тем, что 'research_center' необходимо построить однократно, а остальные постройки можно возводить по несколько раз. Кроме того, постройка 'research_center' может быть связана с завершением уровня через реализацию проекта, а т.к. таким образом заканчивают уровень наименьшее количество игроков, то логично, что и постройка данного типа должна быть наименее распространенной."
   ]
  },
  {
   "cell_type": "markdown",
   "id": "04989a14",
   "metadata": {},
   "source": [
    "### Распределение игроков по каналам привлечения"
   ]
  },
  {
   "cell_type": "markdown",
   "id": "80036eea",
   "metadata": {},
   "source": [
    "Для удобства отображения переименуем значения в столбце 'source' датафрейма *user_source*."
   ]
  },
  {
   "cell_type": "code",
   "execution_count": 16,
   "id": "eb2a2d46",
   "metadata": {},
   "outputs": [],
   "source": [
    "user_source = user_source.replace({'source' : {'yandex_direct' : 'Yandex', 'instagram_new_adverts' : 'Instagram', \n",
    "                                               'facebook_ads' : 'Facebook', 'youtube_channel_reklama' : 'Youtube'}})"
   ]
  },
  {
   "cell_type": "code",
   "execution_count": 17,
   "id": "4db41a94",
   "metadata": {},
   "outputs": [
    {
     "data": {
      "image/png": "[encoded data removed]",
      "text/plain": [
       "<Figure size 1440x720 with 2 Axes>"
      ]
     },
     "metadata": {
      "needs_background": "light"
     },
     "output_type": "display_data"
    }
   ],
   "source": [
    "fig, ax = plt.subplots(1, 2, figsize=(20,10))\n",
    "a = sns.barplot(ax=ax[0], x=user_source.groupby('source').agg({'user_id' : 'count'}).sort_values(by='user_id', ascending=False).index, \n",
    "            y=user_source.groupby('source').agg({'user_id' : 'count'}).sort_values(by='user_id', ascending=False)['user_id'])\n",
    "a.bar_label(a.containers[0], fontsize=15)\n",
    "a.set_title('Распределение игроков по источникам привлечения, абс.', fontsize=20)\n",
    "a.set_xlabel('Источники привлечения', fontsize=20)\n",
    "a.set_ylabel('Количество привлеченных игроков', fontsize=20)\n",
    "\n",
    "plt.title('Распределение игроков по источникам привлечения, %', fontsize=20)\n",
    "plt.pie(x=user_source.groupby('source').agg({'user_id' : 'count'}).sort_values(by='user_id', ascending=False)['user_id'], \n",
    "        labels=user_source.groupby('source').agg({'user_id' : 'count'}).sort_values(by='user_id', ascending=False).index, \n",
    "        autopct='%.1f%%', textprops={'fontsize': 14})\n",
    "plt.show()"
   ]
  },
  {
   "cell_type": "markdown",
   "id": "074ee85a",
   "metadata": {},
   "source": [
    "Большая часть игроков пришли через Yandex - их количество 4817, что составляет 35,5% от всех игроков, привлеченных через разные источники. Через Instagram пришло 3347 игроков или 24,7%. Практически одинаковое количество игроков были привлечены через Facebook и Youtube - 2726 и 2686 или 20,1% и 19,8% соответственно."
   ]
  },
  {
   "cell_type": "markdown",
   "id": "aa9b33f6",
   "metadata": {},
   "source": [
    "### Количество событий, совершаемых каждым игроком"
   ]
  },
  {
   "cell_type": "markdown",
   "id": "30c6d000",
   "metadata": {},
   "source": [
    "#### независимо от канала привлечения"
   ]
  },
  {
   "cell_type": "code",
   "execution_count": 18,
   "id": "aa5bc515",
   "metadata": {},
   "outputs": [
    {
     "data": {
      "text/plain": [
       "count   13,576.00\n",
       "mean         9.99\n",
       "std          4.15\n",
       "min          1.00\n",
       "25%          6.00\n",
       "50%         10.00\n",
       "75%         13.00\n",
       "max         22.00\n",
       "Name: event, dtype: float64"
      ]
     },
     "execution_count": 18,
     "metadata": {},
     "output_type": "execute_result"
    }
   ],
   "source": [
    "#получение характерных значений показателя \"количество событий на игрока\" \n",
    "game_actions.groupby('user_id').agg({'event' : 'count'})['event'].describe()"
   ]
  },
  {
   "cell_type": "markdown",
   "id": "aebcae6b",
   "metadata": {},
   "source": [
    "Количество событий, совершаемых одним игроком колеблется в пределах от 1 до 22. Среднее значение составляет 9,99 и практически равно медиане, составляющей 10. Стандартное отклонение - 4,15.\n",
    "\n",
    "Далее построим гистограмму отображающую распределение данного показателя."
   ]
  },
  {
   "cell_type": "code",
   "execution_count": 19,
   "id": "e3832dfd",
   "metadata": {
    "scrolled": false
   },
   "outputs": [
    {
     "data": {
      "image/png": "[encoded data removed]",
      "text/plain": [
       "<Figure size 1440x720 with 1 Axes>"
      ]
     },
     "metadata": {
      "needs_background": "light"
     },
     "output_type": "display_data"
    }
   ],
   "source": [
    "plt.figure(figsize=(20,10))\n",
    "plt.title('Распределение количества событий, совершенных каждом игроком', fontsize=20)\n",
    "plt.hist(game_actions.groupby('user_id').agg({'event' : 'count'}), bins=22)\n",
    "plt.xlabel('Количество событий', fontsize=14)\n",
    "plt.ylabel('Количество игроков')\n",
    "plt.show()"
   ]
  },
  {
   "cell_type": "markdown",
   "id": "75a33abd",
   "metadata": {},
   "source": [
    "На гистограмме видно два пика: большое количество игроков совершает 5-6 событий и 10-15 событий."
   ]
  },
  {
   "cell_type": "markdown",
   "id": "93c530d8",
   "metadata": {},
   "source": [
    "#### в разрезе каналов привлечения"
   ]
  },
  {
   "cell_type": "markdown",
   "id": "a5a1d98f",
   "metadata": {},
   "source": [
    "В начале добавим информацию об источниках привлечения игроков в датафрейм с событиями."
   ]
  },
  {
   "cell_type": "code",
   "execution_count": 20,
   "id": "40908c77",
   "metadata": {},
   "outputs": [],
   "source": [
    "game_actions = game_actions.merge(user_source, on='user_id', how='left')"
   ]
  },
  {
   "cell_type": "markdown",
   "id": "d12d65ba",
   "metadata": {},
   "source": [
    "Далее изучим характерные значения показателя \"количество событий генерируемых каждым игроком\" в разрезе каналов привлечения."
   ]
  },
  {
   "cell_type": "code",
   "execution_count": 21,
   "id": "97f9d818",
   "metadata": {},
   "outputs": [
    {
     "data": {
      "text/plain": [
       "count   4,817.00\n",
       "mean        9.90\n",
       "std         4.13\n",
       "min         1.00\n",
       "25%         6.00\n",
       "50%        10.00\n",
       "75%        13.00\n",
       "max        21.00\n",
       "Name: event, dtype: float64"
      ]
     },
     "execution_count": 21,
     "metadata": {},
     "output_type": "execute_result"
    }
   ],
   "source": [
    "#получение характерных значений показателя \"количество событий на игрока\" для игроков привлечённых через Yandex\n",
    "game_actions.query('source == \"Yandex\"').groupby('user_id').agg({'event' : 'count'})['event'].describe()"
   ]
  },
  {
   "cell_type": "markdown",
   "id": "f447322d",
   "metadata": {},
   "source": [
    "Характерные значения изучаемого показателя для игроков привлеченных через Yandex, практически аналогичны показателям по всем игрокам. Минимальное и максимальное число генерируемых событий - 1 и 21 соответственно. Среднее значение и медиана составляют 9,90 и 10 соответственно, стандартное отклонение - 4,13. "
   ]
  },
  {
   "cell_type": "code",
   "execution_count": 22,
   "id": "b8818188",
   "metadata": {},
   "outputs": [
    {
     "data": {
      "text/plain": [
       "count   3,347.00\n",
       "mean       10.09\n",
       "std         4.12\n",
       "min         1.00\n",
       "25%         6.00\n",
       "50%        10.00\n",
       "75%        13.00\n",
       "max        22.00\n",
       "Name: event, dtype: float64"
      ]
     },
     "execution_count": 22,
     "metadata": {},
     "output_type": "execute_result"
    }
   ],
   "source": [
    "#получение характерных значений показателя \"количество событий на игрока\" по каналу привлечения Instagram\n",
    "game_actions.query('source == \"Instagram\"').groupby('user_id').agg({'event' : 'count'})['event'].describe()"
   ]
  },
  {
   "cell_type": "markdown",
   "id": "bad5a67b",
   "metadata": {},
   "source": [
    "Для игроков привлеченных через Instagram, изучаемые показатели идентичны таковым по всем игрокам и по игрокам привлеченным через Yandex. Минимальное и максимальное число генерируемых событий - 1 и 22 соответственно. Среднее значение и медиана составляют 10,09 и 10 соответственно, стандартное отклонение - 4,12."
   ]
  },
  {
   "cell_type": "code",
   "execution_count": 23,
   "id": "518a6233",
   "metadata": {},
   "outputs": [
    {
     "data": {
      "text/plain": [
       "count   2,726.00\n",
       "mean       10.15\n",
       "std         4.14\n",
       "min         1.00\n",
       "25%         6.00\n",
       "50%        10.00\n",
       "75%        13.00\n",
       "max        22.00\n",
       "Name: event, dtype: float64"
      ]
     },
     "execution_count": 23,
     "metadata": {},
     "output_type": "execute_result"
    }
   ],
   "source": [
    "#получение характерных значений показателя \"количество событий на игрока\" для игроков привлечённых через Facebook\n",
    "game_actions.query('source == \"Facebook\"').groupby('user_id').agg({'event' : 'count'})['event'].describe()"
   ]
  },
  {
   "cell_type": "markdown",
   "id": "3711a3cd",
   "metadata": {},
   "source": [
    "Игроки привлечённые через Facebook также существенно не отличаются, по количеству генерируемых событий, от игроков привлеченных через Yandex и Instagram. Минимальное и максимальное число генерируемых событий - 1 и 22 соответственно. Среднее значение и медиана составляют 10,15 и 10 соответственно, стандартное отклонение - 4,14."
   ]
  },
  {
   "cell_type": "code",
   "execution_count": 24,
   "id": "954f75f8",
   "metadata": {},
   "outputs": [
    {
     "data": {
      "text/plain": [
       "count   2,686.00\n",
       "mean        9.87\n",
       "std         4.19\n",
       "min         1.00\n",
       "25%         6.00\n",
       "50%        10.00\n",
       "75%        13.00\n",
       "max        22.00\n",
       "Name: event, dtype: float64"
      ]
     },
     "execution_count": 24,
     "metadata": {},
     "output_type": "execute_result"
    }
   ],
   "source": [
    "#получение характерных значений показателя \"количество событий на игрока\" для игроков привлечённых через Youtube\n",
    "game_actions.query('source == \"Youtube\"').groupby('user_id').agg({'event' : 'count'})['event'].describe()"
   ]
  },
  {
   "cell_type": "markdown",
   "id": "3d745d72",
   "metadata": {},
   "source": [
    "Также отсутствуют существенные различия с другими каналами привлечения. Минимальное и максимальное число генерируемых событий - 1 и 22 соответственно. Среднее значение и медиана составляют 9,87 и 10 соответственно, стандартное отклонение - 4,19."
   ]
  },
  {
   "cell_type": "markdown",
   "id": "495dd975",
   "metadata": {},
   "source": [
    "Как видно, разительных отличий по количеству генерируемых событий между игроками, привлёченными через разные каналы, нет. Самое высокое среднее количество генерируемых событий, наблюдается среди игроков, привлечённых через Facebook (10,15), а самое низкое среди игроков привлеченных через Youtube (9,87)."
   ]
  },
  {
   "cell_type": "markdown",
   "id": "a40622dd",
   "metadata": {},
   "source": [
    "Рассмотрим распределение данного показателя в разрезе каналов привлечения."
   ]
  },
  {
   "cell_type": "code",
   "execution_count": 25,
   "id": "c8c8489f",
   "metadata": {},
   "outputs": [
    {
     "data": {
      "image/png": "[encoded data removed]",
      "text/plain": [
       "<Figure size 1440x720 with 1 Axes>"
      ]
     },
     "metadata": {
      "needs_background": "light"
     },
     "output_type": "display_data"
    }
   ],
   "source": [
    "plt.figure(figsize=(20,10))\n",
    "ax = sns.boxplot(x='source', y='event', data=game_actions.groupby(['user_id', 'source']).agg({'event' : 'count'}\n",
    "                                                                                       ).reset_index())\n",
    "ax.set_title('Распределение количества событий, генерируемых игроками, в разрезе каналов привлечения', fontsize=20)\n",
    "ax.set_ylabel('Количество событий, генерируемых игроками', fontsize=14)\n",
    "ax.set_xlabel('Каналы привлечения', fontsize=14)\n",
    "plt.show()"
   ]
  },
  {
   "cell_type": "markdown",
   "id": "a06d8599",
   "metadata": {},
   "source": [
    "В распределении значений рассматриваемого показателя, отсутствуют какие-либо значимые различия между каналами привлечения игроков."
   ]
  },
  {
   "cell_type": "markdown",
   "id": "4cdc1bf9",
   "metadata": {},
   "source": [
    "### Доля игроков завершивших первый уровень¶"
   ]
  },
  {
   "cell_type": "markdown",
   "id": "18567a3e",
   "metadata": {},
   "source": [
    "#### независимо от канала привлечения"
   ]
  },
  {
   "cell_type": "markdown",
   "id": "0f65038f",
   "metadata": {},
   "source": [
    "Игроки могут проходить 1-ый уровень двумя способами: через победу над соперником ('finished_stage_1') или через реализацию проекта ('project', а затем 'finished_stage_1'). Но возможно кто-то из игроков завершил проект, но не прошёл 1-ый уровень. Выясним есть ли такие игроки в нашей выборке."
   ]
  },
  {
   "cell_type": "code",
   "execution_count": 26,
   "id": "550c0c72",
   "metadata": {},
   "outputs": [
    {
     "data": {
      "text/plain": [
       "0"
      ]
     },
     "execution_count": 26,
     "metadata": {},
     "output_type": "execute_result"
    }
   ],
   "source": [
    "#получение user_id игроков завершивших 1-ый уровень разными способами\n",
    "filter_level_finished = game_actions.query('event == \"finished_stage_1\"')['user_id']\n",
    "\n",
    "#получение user_id игроков завершивших 1-ый уровень, через реализацию исследовательского проекта\n",
    "filter_project_finished = game_actions.query('event == \"project\"')['user_id']\n",
    "\n",
    "game_actions.query('user_id in @filter_project_finished and user_id not in @filter_level_finished')['user_id'].count()"
   ]
  },
  {
   "cell_type": "markdown",
   "id": "c387acb9",
   "metadata": {},
   "source": [
    "Игроков завершивших проект, но не прошедших уровень, в нашей выборке нет."
   ]
  },
  {
   "cell_type": "markdown",
   "id": "3e94097b",
   "metadata": {},
   "source": [
    "Далее проведём категоризацию игроков по признаку прохождения 1-ого уровня: 'not_finished' - не прошёл, 'warrior' - через победу над противником, 'scientist' - через реализацию проекта. "
   ]
  },
  {
   "cell_type": "code",
   "execution_count": 27,
   "id": "38e7b05d",
   "metadata": {},
   "outputs": [],
   "source": [
    "#таблица с перечнем уникальных значений 'event' для каждого пользователя\n",
    "users_finish = game_actions.groupby(['user_id', 'source']).agg({'event' : 'unique'}).reset_index()"
   ]
  },
  {
   "cell_type": "code",
   "execution_count": 28,
   "id": "971d8477",
   "metadata": {},
   "outputs": [],
   "source": [
    "def fin_stage_category(row): #функция для категоризации\n",
    "    if 'finished_stage_1' not in row['event']:\n",
    "        return 'not_finished'\n",
    "    elif 'finished_stage_1' in row['event'] and 'project' not in row['event']:\n",
    "        return 'warrior'\n",
    "    elif 'project' in row['event']:\n",
    "        return 'scientist'\n",
    "    else:\n",
    "        return ''"
   ]
  },
  {
   "cell_type": "code",
   "execution_count": 29,
   "id": "a835a938",
   "metadata": {},
   "outputs": [],
   "source": [
    "users_finish['strategy'] = users_finish.apply(fin_stage_category, axis=1)"
   ]
  },
  {
   "cell_type": "code",
   "execution_count": 30,
   "id": "b50aaa08",
   "metadata": {},
   "outputs": [
    {
     "name": "stdout",
     "output_type": "stream",
     "text": [
      "Количество игроков, завершивших первый уровень: 5817\n",
      "Доля игроков, завершивших первый уровень: 43%\n"
     ]
    }
   ],
   "source": [
    "print('Количество игроков, завершивших первый уровень:', len(users_finish.query('strategy != \"not_finished\"'))\n",
    "     )\n",
    "print('Доля игроков, завершивших первый уровень: {:.0%}'.format(len(users_finish.query('strategy != \"not_finished\"'))\n",
    "                                                                / len(users_finish)))"
   ]
  },
  {
   "cell_type": "code",
   "execution_count": 31,
   "id": "a6621add",
   "metadata": {},
   "outputs": [
    {
     "name": "stdout",
     "output_type": "stream",
     "text": [
      "Количество игроков, завершивших первый уровень через победу над врагом: 3951\n",
      "Количество игроков, завершивших первый уровень через реализацию проекта: 1866\n",
      "Доля игроков, завершивших первый уровень через победу над врагом: 29%\n",
      "Доля игроков, завершивших первый уровень через победу над врагом: 29%\n"
     ]
    }
   ],
   "source": [
    "print('Количество игроков, завершивших первый уровень через победу над врагом:', \n",
    "      len(users_finish.query('strategy == \"warrior\"'))\n",
    "     )\n",
    "print('Количество игроков, завершивших первый уровень через реализацию проекта:', \n",
    "      len(users_finish.query('strategy == \"scientist\"'))\n",
    "     )\n",
    "print('Доля игроков, завершивших первый уровень через победу над врагом: {:.0%}'.format(\n",
    "    len(users_finish.query('strategy == \"warrior\"')) / len(users_finish))\n",
    "     )\n",
    "print('Доля игроков, завершивших первый уровень через победу над врагом: {:.0%}'.format(\n",
    "    len(users_finish.query('strategy == \"warrior\"')) / len(users_finish)))"
   ]
  },
  {
   "cell_type": "code",
   "execution_count": 32,
   "id": "068e03d7",
   "metadata": {},
   "outputs": [
    {
     "data": {
      "image/png": "[encoded data removed]",
      "text/plain": [
       "<Figure size 1440x720 with 2 Axes>"
      ]
     },
     "metadata": {
      "needs_background": "light"
     },
     "output_type": "display_data"
    }
   ],
   "source": [
    "fig, ax = plt.subplots(1, 2, figsize=(20,10))\n",
    "a = sns.barplot(ax=ax[0], x=users_finish.groupby('strategy').agg({'user_id' : 'count'}).sort_values(by='user_id', ascending=False).index, \n",
    "            y=users_finish.groupby('strategy').agg({'user_id' : 'count'}).sort_values(by='user_id', ascending=False)['user_id'])\n",
    "a.bar_label(a.containers[0], fontsize=15)\n",
    "a.set_title('Распределение игроков по стратегии, абс.', fontsize=20)\n",
    "a.set_xlabel('Стратегия завершения 1-ого уровня', fontsize=14)\n",
    "a.set_ylabel('Количество игроков', fontsize=14)\n",
    "\n",
    "plt.title('Распределение игроков по стратегии, %', fontsize=20)\n",
    "plt.pie(x=users_finish.groupby('strategy').agg({'user_id' : 'count'}).sort_values(by='user_id', ascending=False)['user_id'], \n",
    "        labels=users_finish.groupby('strategy').agg({'user_id' : 'count'}).sort_values(by='user_id', ascending=False).index, \n",
    "        autopct='%.1f%%', textprops={'fontsize': 14})\n",
    "plt.show()"
   ]
  },
  {
   "cell_type": "markdown",
   "id": "a7a0b8d6",
   "metadata": {},
   "source": [
    "В изучаемой выборке, первый уровень был завершён 5817 игроками, что составило 43% от общего количества игроков. Через победу над первым игроком первый уровень завершил 3951 игрок, а через реализацию проекта 1866 игроков, что составило 29% и 14% от общего количества игроков в выборке. "
   ]
  },
  {
   "cell_type": "markdown",
   "id": "052d1420",
   "metadata": {},
   "source": [
    "#### в разрезе каналов привлечения"
   ]
  },
  {
   "cell_type": "code",
   "execution_count": 33,
   "id": "4f30a89d",
   "metadata": {},
   "outputs": [
    {
     "name": "stdout",
     "output_type": "stream",
     "text": [
      "Количество игроков, привлеченных через Youtube и завершивших первый уровень: 1159\n",
      "Доля игроков, завершивших первый уровень, среди привлеченных через Youtube: 43%\n",
      "Количество игроков, привлеченных через Youtube и завершивших первый уровень через победу над противником: 780\n",
      "Доля игроков, завершивших первый уровень через победу над врагом, среди привлеченных через Youtube: 29%\n",
      "Количество игроков, завершивших первый уровень через реализацию проекта: 379\n",
      "Доля игроков, завершивших первый уровень через реализацию проекта, среди привлеченных через Youtube: 14%\n",
      "\n",
      "Количество игроков, привлеченных через Facebook и завершивших первый уровень: 1150\n",
      "Доля игроков, завершивших первый уровень, среди привлеченных через Facebook: 42%\n",
      "Количество игроков, привлеченных через Facebook и завершивших первый уровень через победу над противником: 759\n",
      "Доля игроков, завершивших первый уровень через победу над врагом, среди привлеченных через Facebook: 28%\n",
      "Количество игроков, завершивших первый уровень через реализацию проекта: 391\n",
      "Доля игроков, завершивших первый уровень через реализацию проекта, среди привлеченных через Facebook: 14%\n",
      "\n",
      "Количество игроков, привлеченных через Instagram и завершивших первый уровень: 1466\n",
      "Доля игроков, завершивших первый уровень, среди привлеченных через Instagram: 44%\n",
      "Количество игроков, привлеченных через Instagram и завершивших первый уровень через победу над противником: 990\n",
      "Доля игроков, завершивших первый уровень через победу над врагом, среди привлеченных через Instagram: 30%\n",
      "Количество игроков, завершивших первый уровень через реализацию проекта: 476\n",
      "Доля игроков, завершивших первый уровень через реализацию проекта, среди привлеченных через Instagram: 14%\n",
      "\n",
      "Количество игроков, привлеченных через Yandex и завершивших первый уровень: 2042\n",
      "Доля игроков, завершивших первый уровень, среди привлеченных через Yandex: 42%\n",
      "Количество игроков, привлеченных через Yandex и завершивших первый уровень через победу над противником: 1422\n",
      "Доля игроков, завершивших первый уровень через победу над врагом, среди привлеченных через Yandex: 30%\n",
      "Количество игроков, завершивших первый уровень через реализацию проекта: 620\n",
      "Доля игроков, завершивших первый уровень через реализацию проекта, среди привлеченных через Yandex: 13%\n",
      "\n"
     ]
    }
   ],
   "source": [
    "for val in game_actions['source'].unique():\n",
    "    print(f'Количество игроков, привлеченных через {val} и завершивших первый уровень:', \n",
    "          len(users_finish[users_finish['source'] == val].query('strategy != \"not_finished\"'))\n",
    "         )\n",
    "    print('Доля игроков, завершивших первый уровень, среди привлеченных через {}: {:.0%}'.format(val, \n",
    "        len(users_finish[users_finish['source'] == val].query('strategy != \"not_finished\"')) / \n",
    "        len(users_finish[users_finish['source'] == val]))\n",
    "         )\n",
    "    print(f'Количество игроков, привлеченных через {val} и завершивших первый уровень через победу над противником:', \n",
    "          len(users_finish[users_finish['source'] == val].query('strategy == \"warrior\"'))\n",
    "         )\n",
    "    print('Доля игроков, завершивших первый уровень через победу над врагом, среди привлеченных через {}: {:.0%}'.format(\n",
    "        val, len(users_finish[users_finish['source'] == val].query('strategy == \"warrior\"')) / \n",
    "        len(users_finish[users_finish['source'] == val]))\n",
    "         )\n",
    "    print('Количество игроков, завершивших первый уровень через реализацию проекта:', \n",
    "          len(users_finish[users_finish['source'] == val].query('strategy == \"scientist\"'))\n",
    "         )\n",
    "    print('Доля игроков, завершивших первый уровень через реализацию проекта, среди привлеченных через {}: {:.0%}'.format(\n",
    "        val, len(users_finish[users_finish['source'] == val].query('strategy == \"scientist\"')) / \n",
    "        len(users_finish[users_finish['source'] == val]))\n",
    "         )\n",
    "    print()"
   ]
  },
  {
   "cell_type": "markdown",
   "id": "f4fbce68",
   "metadata": {},
   "source": [
    "В разрезе каналов привлечения, нет ярких различий по изученным параметрам. Самая высокая доля игроков, завершивших первый уровень - 44% - наблюдается среди игроков, привлеченных через Instagram. Аналогичный показатель среди игроков, привлеченных через Youtube составляет 43%. Среди игроков, привлеченных через Yandex и Facebook, доля завершивших 1-ый уровень, составляет по 42%. \n",
    "\n",
    "Наиболее высокие доли игроков, завершивших первый уровень через победу над врагом, наблюдаются среди привлеченных через Instagram и Yandex - по 30%. Среди игроков привлеченных через Youtube и Facebook, данный показатель составляет 29% и 28% соответственно.\n",
    "\n",
    "Доли игроков привлеченных через Youtube, Instagram, Facebook и завершивших первый уровень через реализацию проекта составили по 14%. Среди игроков, привлеченных через Yandex, аналогичный показатель составляет 13%."
   ]
  },
  {
   "cell_type": "markdown",
   "id": "21331803",
   "metadata": {},
   "source": [
    "### Расчёт стоимости привлечения игрока (CAC) через разные каналы"
   ]
  },
  {
   "cell_type": "markdown",
   "id": "8a835304",
   "metadata": {},
   "source": [
    "Для расчёта CAC необходимо общие затраты на рекламу через определённый канал поделить на количество привлечённых игроков. Начнём с замены названий каналов привлечения в датафрейме *ad_costs*, как ранее это сделали в датафрейме *user_source*."
   ]
  },
  {
   "cell_type": "code",
   "execution_count": 34,
   "id": "03ff9105",
   "metadata": {},
   "outputs": [],
   "source": [
    "ad_costs = ad_costs.replace({'source' : {'yandex_direct' : 'Yandex', 'instagram_new_adverts' : 'Instagram', \n",
    "                                               'facebook_ads' : 'Facebook', 'youtube_channel_reklama' : 'Youtube'}})"
   ]
  },
  {
   "cell_type": "code",
   "execution_count": 35,
   "id": "e5c35f76",
   "metadata": {},
   "outputs": [
    {
     "name": "stdout",
     "output_type": "stream",
     "text": [
      "САС игроков через Youtube: 0.40\n",
      "САС игроков через Facebook: 0.79\n",
      "САС игроков через Instagram: 0.65\n",
      "САС игроков через Yandex: 0.46\n"
     ]
    }
   ],
   "source": [
    "#рассчёт САС по каждому каналу привлечения\n",
    "for val in game_actions['source'].unique():\n",
    "    print('САС игроков через {}: {:.2f}'.format(val, (ad_costs[ad_costs['source'] == val]['cost'].sum() / \n",
    "                                                      game_actions[game_actions['source'] == val]['user_id'].nunique())))"
   ]
  },
  {
   "cell_type": "markdown",
   "id": "889b4603",
   "metadata": {},
   "source": [
    "Дороже всего обходится привлечения игроков через Facebook - 0,79 у.е. Далее следуют игроки привлечённые через Instagram - 0,65 у.е. Стоимость привлечения игрока через Yandex оценивается в 0,46 у.е., и аналогичный показатель для игроков при влеченных через Youtube - 0,40 у.е."
   ]
  },
  {
   "cell_type": "markdown",
   "id": "190bf7d3",
   "metadata": {},
   "source": [
    "### Промежуточный вывод"
   ]
  },
  {
   "cell_type": "markdown",
   "id": "7c34405a",
   "metadata": {},
   "source": [
    "1. Поведение игроков независимо от канала привлечения:\n",
    "    - количество генерируемых игроками событий растёт в первую неделю анализируемого периода, а начиная с 8-ого дня количество событий постоянно падает, т.е. наибольшая активность пользователей приходится на первые несколько дней после привлечения;\n",
    "    - 94,3% генерируемых событий составляет постройка зданий, на завершение первого уровня приходится 4,3% и на реализацию проекта - 1,4%;\n",
    "    - в основном игроки строят 'spaceport' и 'assembly_shop' на которые приходится 46,4% и 42,6% возводимых построек соответственно, оставшиеся 11,0% приходятся на 'research_center';\n",
    "    - в среднем каждый игрок генерирует около десяти событий, чаще всего игроки генерируют 5-6 или 10-15 событий;\n",
    "    - доля игроков завершивших первый уровень состаила 43%; 29% игроков завершили первый уровень через победу над противником и 14% через реализацию проекта.\n",
    "2. Поведение игроков в разрезе каналов привлечения:\n",
    "- наибольшая доля игроков пришла через Yandex - 35,5%; 24,7% и 20,1% игроков пришли через Instagram и Facebook соответственно;  меньше всего игроков было привлечено через рекламу на Youtube - 19,8%;\n",
    "- среднее количество событий генерируемых игроками в зависимости от канала привлечения сущесственно не различается и варьируется от 9,87 для игроков, привлечённых через Youtube, до 10,15 для игроков, привлечённых через Facebook, распределение данного показателя для каждого из каналов привлечения сходно с таковым для общей совокупности;\n",
    "- доли игроков завершивших первый уровень, в т.ч. разными способами, практически идентичны аналогичным показателям для общей совокупности, а именно доля завершивших первый уровень 42-44%; через победу над противником - 28-30%; через реализацию исследовательского проекта - 13-14%.\n",
    "3. Самая высокая стоимость привлечения зафиксирована у игроков пришедших через Facebook -  0,79 у.е.; стоимость привлечения игроков через Instagram - 0,65 у.е.; через Yandex - 0,46 у.е.; наименьшей стоимостью привлечения обладают игроки пришедшие через Youtube - 0,40 у.е."
   ]
  },
  {
   "cell_type": "markdown",
   "id": "afcf9dec",
   "metadata": {},
   "source": [
    "## Проверка статистической гипотезы \"Время завершения уровня различается в зависимости от способа прохождения\""
   ]
  },
  {
   "cell_type": "markdown",
   "id": "4347bf91",
   "metadata": {},
   "source": [
    "Начнем с изучения распределения время, потраченного на завершение первого уровня игроками."
   ]
  },
  {
   "cell_type": "code",
   "execution_count": 36,
   "id": "ed02ea67",
   "metadata": {},
   "outputs": [],
   "source": [
    "game_actions = game_actions.merge(users_finish[['user_id', 'strategy']], on='user_id', how='left') \n",
    "#добавление к основному фрейму данных о стратегии игроков"
   ]
  },
  {
   "cell_type": "code",
   "execution_count": 37,
   "id": "30a4d612",
   "metadata": {},
   "outputs": [
    {
     "name": "stdout",
     "output_type": "stream",
     "text": [
      "Среднее количество дней, затраченных на завершение 1-ого уровня: 12\n"
     ]
    },
    {
     "data": {
      "image/png": "[encoded data removed]",
      "text/plain": [
       "<Figure size 1080x576 with 1 Axes>"
      ]
     },
     "metadata": {
      "needs_background": "light"
     },
     "output_type": "display_data"
    }
   ],
   "source": [
    "#рассчет среднего количества дней, затраченных на заврешение 1-ого уровня\n",
    "print('Среднее количество дней, затраченных на завершение 1-ого уровня:', (game_actions.query(\n",
    "    'strategy != \"not_finished\"').groupby('user_id').agg({'event_datetime' : 'max'})['event_datetime'] - \n",
    "    game_actions.query('strategy != \"not_finished\"').groupby('user_id').agg(\n",
    "        {'event_datetime' : 'min'})['event_datetime']).mean().round('1d').days)\n",
    "\n",
    "#гистограмма распределения дней, затраченных на завершение первого уровня\n",
    "plt.figure(figsize=(15, 8))\n",
    "plt.hist((game_actions.query('strategy != \"not_finished\"').groupby('user_id').agg(\n",
    "    {'event_datetime' : 'max'})['event_datetime'] - game_actions.query('strategy != \"not_finished\"').groupby(\n",
    "    'user_id').agg({'event_datetime' : 'min'})['event_datetime']).round('1d').apply(lambda x: x.days), bins=30)\n",
    "plt.title('Распределение количества дней, затраченных игроками на прохождение 1-ого уровня', fontsize=20)\n",
    "plt.ylabel('Количество игроков', fontsize=14)\n",
    "plt.xlabel('Дни', fontsize=14)\n",
    "plt.show()"
   ]
  },
  {
   "cell_type": "markdown",
   "id": "480471f1",
   "metadata": {},
   "source": [
    "В среднем на прохождение 1-ого уровня игроками затрачивается 12 дней, распределение значений показателя близко к нормальному, поэтому для проверки статистической гипотезы считаю уместным использовать t-критерий Стьюдента для непарных выборок. Но сначала сформулируем нулевую и альтернативную гипотезы:\n",
    "\n",
    "- Нулевая гипотеза: \"Время завершения уровня не различается в зависимости от способа прохождения\".\n",
    "- Альтернативная гипотеза: \"Время завершения уровня различается в зависимости от способа прохождения\"."
   ]
  },
  {
   "cell_type": "code",
   "execution_count": 38,
   "id": "6af57ab6",
   "metadata": {},
   "outputs": [
    {
     "name": "stdout",
     "output_type": "stream",
     "text": [
      "Среднее количество дней, затраченных на завершение 1-ого уровня через победу над противником: 11\n",
      "Среднее количество дней, затраченных на завершение 1-ого уровня через реализацию проекта: 13\n",
      "p-значение:  1.0867598832876934e-106\n",
      "Нулевая гипотеза отвергнута\n"
     ]
    }
   ],
   "source": [
    "#дни, затраченные игроками на завершение 1-ого уровня через победу над противником\n",
    "days_warrior = (game_actions.query('strategy == \"warrior\"').groupby('user_id').agg(\n",
    "    {'event_datetime' : 'max'})['event_datetime'] - game_actions.query('strategy == \"warrior\"').groupby('user_id').agg(\n",
    "          {'event_datetime' : 'min'})['event_datetime']).round('1d').apply(lambda x: x.days)\n",
    "\n",
    "#дни, затраченные игроками на завершение 1-ого уровня через реализацию проекта\n",
    "days_scientist = (game_actions.query('strategy == \"scientist\"').groupby('user_id').agg(\n",
    "    {'event_datetime' : 'max'})['event_datetime'] - game_actions.query('strategy == \"scientist\"').groupby('user_id').agg(\n",
    "          {'event_datetime' : 'min'})['event_datetime']).round('1d').apply(lambda x: x.days)\n",
    "alpha = 0.05 #критический уровень статистической значимости\n",
    "\n",
    "results = st.ttest_ind(days_warrior, days_scientist, equal_var=False)\n",
    "\n",
    "print('Среднее количество дней, затраченных на завершение 1-ого уровня через победу над противником: {:.0f}'.format(\n",
    "    days_warrior.mean())\n",
    "     )\n",
    "print('Среднее количество дней, затраченных на завершение 1-ого уровня через реализацию проекта: {:.0f}'.format(\n",
    "    days_scientist.mean())\n",
    "     )\n",
    "print('p-значение: ', results.pvalue)\n",
    "\n",
    "if results.pvalue < alpha:\n",
    "    print('Нулевая гипотеза отвергнута')\n",
    "else:\n",
    "    print('Нельзя отвергнуть нулевую гипотезу')"
   ]
  },
  {
   "cell_type": "markdown",
   "id": "18726545",
   "metadata": {},
   "source": [
    "Время затраченное на завершение 1-ого уровня статистически достоверно различается в зависимости от способа прохождения. Так игроки завершающие уровень через победу над врагом тратят на это в среднем 11 дней, а игроки реализующие исследовательский проект - 13 дней."
   ]
  },
  {
   "cell_type": "markdown",
   "id": "b2d7bd5c",
   "metadata": {},
   "source": [
    "### Промежуточный вывод"
   ]
  },
  {
   "cell_type": "markdown",
   "id": "2a739ecb",
   "metadata": {},
   "source": [
    "Мы выяснили, что игрокам, реализующим исследовательский проект, требуется в среднем на 2 дня больше на прохождение 1-ого уровня, чем игрокам, заканчивающим его через победу над врагом (13 против 11 дней). С одной стороны игроки, занимающиеся проектом проводят в игре больше времени, что может рассматриваться, как позитивный момент, но мы не знаем каким будет их поведение на следующих уровнях, возможно отток среди игроков практикующих более \"миролюбивый\" стиль игры будет увеличиваться со временем, а может и нет. "
   ]
  },
  {
   "cell_type": "markdown",
   "id": "71b8f689",
   "metadata": {},
   "source": [
    "## Проверка статистической гипотезы \"Доля игроков завершивших первый уровень различается в зависимости от канала привлечения\""
   ]
  },
  {
   "cell_type": "markdown",
   "id": "9130bcff",
   "metadata": {},
   "source": [
    "Ранее мы уже рассчитали доли игроков завершивших первый уровень для каждого из каналов привлечения. На первый взгляд они практически не различаются, но чтобы убедиться в этом используем z-тест для сравнения долей в каждой группе. Игроков привлечённых через Yandex и Facebook сравнивать не будем, так как доля завершивших 1-ый уровень и там, и там составляет по 42%. Необходимо учесть, что мы будем проводить множественные сравнения, а значит нужно сделать поправку критического уровня статистической значимости, для чего используем поправку Бонферрони.\n",
    "\n",
    "Нулевая гипотеза: \"Доли игроков заврешивших первый уровень не различаются в разных каналах привлечения\".\n",
    "Альтернативная гипотеза: \"Доли игроков заврешивших первый уровень различаются в разных каналах привлечения\"."
   ]
  },
  {
   "cell_type": "code",
   "execution_count": 39,
   "id": "b06c698c",
   "metadata": {},
   "outputs": [],
   "source": [
    "def z_test(x1, n1, x2, n2):\n",
    "    \n",
    "    bonferroni_alpha = .05/6 #критический уровень статистической значимости c поправкой Бонферрони\n",
    "\n",
    "    event = np.array([x1, x2]) #количество совершивших событие пользователей\n",
    "    group = np.array([n1, n2]) #количество пользователей в группах\n",
    "        \n",
    "    p1 = event[0]/group[0] #доля пользователей, совершивших событие в первой группе\n",
    "    p2 = event[1]/group[1]  #доля пользователей, совершивших событие во второй группе\n",
    "\n",
    "    p_combined = (event[0] + event[1]) / (group[0] + group[1]) #доля пользователей, совершивших события в объединённой группе\n",
    "\n",
    "    difference = p1 - p2 #разница долей в группах\n",
    "    \n",
    "    z_value = difference / mth.sqrt(p_combined * (1 - p_combined) * (1 / event[0] + 1 / event[1])) #расчет z-статистики\n",
    "\n",
    "    distr = st.norm(0, 1) #задаем стандартное нормальное распределение (среднее 0, ст.отклонение 1)\n",
    "\n",
    "    p_value = (1 - distr.cdf(abs(z_value))) * 2\n",
    "    \n",
    "    print('p-значение: ', p_value)\n",
    "    \n",
    "    if p_value < bonferroni_alpha:\n",
    "        print('Отвергаем нулевую гипотезу: между долями есть значимая разница')\n",
    "    else:\n",
    "        print('Не получилось отвергнуть нулевую гипотезу, нет оснований считать доли разными') "
   ]
  },
  {
   "cell_type": "markdown",
   "id": "d3f1a32a",
   "metadata": {},
   "source": [
    "###  Yandex vs Instagram"
   ]
  },
  {
   "cell_type": "code",
   "execution_count": 40,
   "id": "e96a61a8",
   "metadata": {},
   "outputs": [
    {
     "name": "stdout",
     "output_type": "stream",
     "text": [
      "Доля игроков, завершивших первый уровень, среди привлеченных через Yandex: 42%\n",
      "Доля игроков, завершивших первый уровень, среди привлеченных через Instagram: 44%\n"
     ]
    }
   ],
   "source": [
    "print('Доля игроков, завершивших первый уровень, среди привлеченных через Yandex: {:.0%}'.format(game_actions[game_actions[\n",
    "        'source'] == 'Yandex'].query('event == \"finished_stage_1\"')['user_id'].nunique() / game_actions[\n",
    "    game_actions['source'] == 'Yandex']['user_id'].nunique()))\n",
    "print('Доля игроков, завершивших первый уровень, среди привлеченных через Instagram: {:.0%}'.format(game_actions[game_actions[\n",
    "        'source'] == 'Instagram'].query('event == \"finished_stage_1\"')['user_id'].nunique() / game_actions[\n",
    "    game_actions['source'] == 'Instagram']['user_id'].nunique()))"
   ]
  },
  {
   "cell_type": "code",
   "execution_count": 41,
   "id": "5131e47f",
   "metadata": {},
   "outputs": [
    {
     "name": "stdout",
     "output_type": "stream",
     "text": [
      "p-значение:  0.4057495175003498\n",
      "Не получилось отвергнуть нулевую гипотезу, нет оснований считать доли разными\n"
     ]
    }
   ],
   "source": [
    "z_test(game_actions[game_actions['source'] == 'Yandex'].query('event == \"finished_stage_1\"')['user_id'].nunique(), \n",
    "       game_actions[game_actions['source'] == 'Yandex']['user_id'].nunique(),\n",
    "      game_actions[game_actions['source'] == 'Instagram'].query('event == \"finished_stage_1\"')['user_id'].nunique(),\n",
    "      game_actions[game_actions['source'] == 'Instagram']['user_id'].nunique())"
   ]
  },
  {
   "cell_type": "markdown",
   "id": "d75e1b3b",
   "metadata": {},
   "source": [
    "###  Yandex vs Youtube"
   ]
  },
  {
   "cell_type": "code",
   "execution_count": 42,
   "id": "d796f2b1",
   "metadata": {},
   "outputs": [
    {
     "name": "stdout",
     "output_type": "stream",
     "text": [
      "Доля игроков, завершивших первый уровень, среди привлеченных через Yandex: 42%\n",
      "Доля игроков, завершивших первый уровень, среди привлеченных через Youtube: 43%\n"
     ]
    }
   ],
   "source": [
    "print('Доля игроков, завершивших первый уровень, среди привлеченных через Yandex: {:.0%}'.format(game_actions[game_actions[\n",
    "        'source'] == 'Yandex'].query('event == \"finished_stage_1\"')['user_id'].nunique() / game_actions[\n",
    "    game_actions['source'] == 'Yandex']['user_id'].nunique()))\n",
    "print('Доля игроков, завершивших первый уровень, среди привлеченных через Youtube: {:.0%}'.format(game_actions[game_actions[\n",
    "        'source'] == 'Youtube'].query('event == \"finished_stage_1\"')['user_id'].nunique() / game_actions[\n",
    "    game_actions['source'] == 'Youtube']['user_id'].nunique()))"
   ]
  },
  {
   "cell_type": "code",
   "execution_count": 43,
   "id": "b423c3ce",
   "metadata": {},
   "outputs": [
    {
     "name": "stdout",
     "output_type": "stream",
     "text": [
      "p-значение:  0.6768229801770342\n",
      "Не получилось отвергнуть нулевую гипотезу, нет оснований считать доли разными\n"
     ]
    }
   ],
   "source": [
    "z_test(game_actions[game_actions['source'] == 'Yandex'].query('event == \"finished_stage_1\"')['user_id'].nunique(), \n",
    "       game_actions[game_actions['source'] == 'Yandex']['user_id'].nunique(),\n",
    "      game_actions[game_actions['source'] == 'Youtube'].query('event == \"finished_stage_1\"')['user_id'].nunique(),\n",
    "      game_actions[game_actions['source'] == 'Youtube']['user_id'].nunique())"
   ]
  },
  {
   "cell_type": "markdown",
   "id": "aff8afe9",
   "metadata": {},
   "source": [
    "###  Yandex vs Facebook"
   ]
  },
  {
   "cell_type": "code",
   "execution_count": 44,
   "id": "03683e19",
   "metadata": {},
   "outputs": [
    {
     "name": "stdout",
     "output_type": "stream",
     "text": [
      "Доля игроков, завершивших первый уровень, среди привлеченных через Yandex: 42%\n",
      "Доля игроков, завершивших первый уровень, среди привлеченных через Facebook: 42%\n"
     ]
    }
   ],
   "source": [
    "print('Доля игроков, завершивших первый уровень, среди привлеченных через Yandex: {:.0%}'.format(game_actions[game_actions[\n",
    "        'source'] == 'Yandex'].query('event == \"finished_stage_1\"')['user_id'].nunique() / game_actions[\n",
    "    game_actions['source'] == 'Yandex']['user_id'].nunique()))\n",
    "print('Доля игроков, завершивших первый уровень, среди привлеченных через Facebook: {:.0%}'.format(game_actions[game_actions[\n",
    "        'source'] == 'Facebook'].query('event == \"finished_stage_1\"')['user_id'].nunique() / game_actions[\n",
    "    game_actions['source'] == 'Facebook']['user_id'].nunique()))"
   ]
  },
  {
   "cell_type": "code",
   "execution_count": 45,
   "id": "c127627a",
   "metadata": {},
   "outputs": [
    {
     "name": "stdout",
     "output_type": "stream",
     "text": [
      "p-значение:  0.9103163488352839\n",
      "Не получилось отвергнуть нулевую гипотезу, нет оснований считать доли разными\n"
     ]
    }
   ],
   "source": [
    "z_test(game_actions[game_actions['source'] == 'Yandex'].query('event == \"finished_stage_1\"')['user_id'].nunique(), \n",
    "       game_actions[game_actions['source'] == 'Yandex']['user_id'].nunique(),\n",
    "      game_actions[game_actions['source'] == 'Facebook'].query('event == \"finished_stage_1\"')['user_id'].nunique(),\n",
    "      game_actions[game_actions['source'] == 'Facebook']['user_id'].nunique())"
   ]
  },
  {
   "cell_type": "markdown",
   "id": "bcae9a55",
   "metadata": {},
   "source": [
    "###  Instagram vs Youtube"
   ]
  },
  {
   "cell_type": "code",
   "execution_count": 46,
   "id": "5c9324a0",
   "metadata": {},
   "outputs": [
    {
     "name": "stdout",
     "output_type": "stream",
     "text": [
      "Доля игроков, завершивших первый уровень, среди привлеченных через Instagram: 44%\n",
      "Доля игроков, завершивших первый уровень, среди привлеченных через Youtube: 43%\n"
     ]
    }
   ],
   "source": [
    "print('Доля игроков, завершивших первый уровень, среди привлеченных через Instagram: {:.0%}'.format(game_actions[game_actions[\n",
    "        'source'] == 'Instagram'].query('event == \"finished_stage_1\"')['user_id'].nunique() / game_actions[\n",
    "    game_actions['source'] == 'Instagram']['user_id'].nunique()))\n",
    "print('Доля игроков, завершивших первый уровень, среди привлеченных через Youtube: {:.0%}'.format(game_actions[game_actions[\n",
    "        'source'] == 'Youtube'].query('event == \"finished_stage_1\"')['user_id'].nunique() / game_actions[\n",
    "    game_actions['source'] == 'Youtube']['user_id'].nunique()))"
   ]
  },
  {
   "cell_type": "code",
   "execution_count": 47,
   "id": "929466e1",
   "metadata": {},
   "outputs": [
    {
     "name": "stdout",
     "output_type": "stream",
     "text": [
      "p-значение:  0.7384185096583284\n",
      "Не получилось отвергнуть нулевую гипотезу, нет оснований считать доли разными\n"
     ]
    }
   ],
   "source": [
    "z_test(game_actions[game_actions['source'] == 'Instagram'].query('event == \"finished_stage_1\"')['user_id'].nunique(), \n",
    "       game_actions[game_actions['source'] == 'Instagram']['user_id'].nunique(),\n",
    "      game_actions[game_actions['source'] == 'Youtube'].query('event == \"finished_stage_1\"')['user_id'].nunique(),\n",
    "      game_actions[game_actions['source'] == 'Youtube']['user_id'].nunique())"
   ]
  },
  {
   "cell_type": "markdown",
   "id": "3bcaea08",
   "metadata": {},
   "source": [
    "###  Instagram vs Facebook"
   ]
  },
  {
   "cell_type": "code",
   "execution_count": 48,
   "id": "26d4f378",
   "metadata": {},
   "outputs": [
    {
     "name": "stdout",
     "output_type": "stream",
     "text": [
      "Доля игроков, завершивших первый уровень, среди привлеченных через Instagram: 44%\n",
      "Доля игроков, завершивших первый уровень, среди привлеченных через Facebook: 42%\n"
     ]
    }
   ],
   "source": [
    "print('Доля игроков, завершивших первый уровень, среди привлеченных через Instagram: {:.0%}'.format(game_actions[game_actions[\n",
    "        'source'] == 'Instagram'].query('event == \"finished_stage_1\"')['user_id'].nunique() / game_actions[\n",
    "    game_actions['source'] == 'Instagram']['user_id'].nunique()))\n",
    "print('Доля игроков, завершивших первый уровень, среди привлеченных через Facebook: {:.0%}'.format(game_actions[game_actions[\n",
    "        'source'] == 'Facebook'].query('event == \"finished_stage_1\"')['user_id'].nunique() / game_actions[\n",
    "    game_actions['source'] == 'Facebook']['user_id'].nunique()))"
   ]
  },
  {
   "cell_type": "code",
   "execution_count": 49,
   "id": "de8b4174",
   "metadata": {},
   "outputs": [
    {
     "name": "stdout",
     "output_type": "stream",
     "text": [
      "p-значение:  0.40797025861071834\n",
      "Не получилось отвергнуть нулевую гипотезу, нет оснований считать доли разными\n"
     ]
    }
   ],
   "source": [
    "z_test(game_actions[game_actions['source'] == 'Instagram'].query('event == \"finished_stage_1\"')['user_id'].nunique(), \n",
    "       game_actions[game_actions['source'] == 'Instagram']['user_id'].nunique(),\n",
    "      game_actions[game_actions['source'] == 'Facebook'].query('event == \"finished_stage_1\"')['user_id'].nunique(),\n",
    "      game_actions[game_actions['source'] == 'Facebook']['user_id'].nunique())"
   ]
  },
  {
   "cell_type": "markdown",
   "id": "900181fb",
   "metadata": {},
   "source": [
    "###  Youtube vs Facebook"
   ]
  },
  {
   "cell_type": "code",
   "execution_count": 50,
   "id": "6039566d",
   "metadata": {},
   "outputs": [
    {
     "name": "stdout",
     "output_type": "stream",
     "text": [
      "Доля игроков, завершивших первый уровень, среди привлеченных через Youtube: 43%\n",
      "Доля игроков, завершивших первый уровень, среди привлеченных через Facebook: 42%\n"
     ]
    }
   ],
   "source": [
    "print('Доля игроков, завершивших первый уровень, среди привлеченных через Youtube: {:.0%}'.format(game_actions[game_actions[\n",
    "        'source'] == 'Youtube'].query('event == \"finished_stage_1\"')['user_id'].nunique() / game_actions[\n",
    "    game_actions['source'] == 'Youtube']['user_id'].nunique()))\n",
    "print('Доля игроков, завершивших первый уровень, среди привлеченных через Facebook: {:.0%}'.format(game_actions[game_actions[\n",
    "        'source'] == 'Facebook'].query('event == \"finished_stage_1\"')['user_id'].nunique() / game_actions[\n",
    "    game_actions['source'] == 'Facebook']['user_id'].nunique()))"
   ]
  },
  {
   "cell_type": "code",
   "execution_count": 51,
   "id": "5363bff0",
   "metadata": {},
   "outputs": [
    {
     "name": "stdout",
     "output_type": "stream",
     "text": [
      "p-значение:  0.6398197240187653\n",
      "Не получилось отвергнуть нулевую гипотезу, нет оснований считать доли разными\n"
     ]
    }
   ],
   "source": [
    "z_test(game_actions[game_actions['source'] == 'Youtube'].query('event == \"finished_stage_1\"')['user_id'].nunique(), \n",
    "       game_actions[game_actions['source'] == 'Youtube']['user_id'].nunique(),\n",
    "      game_actions[game_actions['source'] == 'Facebook'].query('event == \"finished_stage_1\"')['user_id'].nunique(),\n",
    "      game_actions[game_actions['source'] == 'Facebook']['user_id'].nunique())"
   ]
  },
  {
   "cell_type": "markdown",
   "id": "23ac3bff",
   "metadata": {},
   "source": [
    "### Промежуточный вывод"
   ]
  },
  {
   "cell_type": "markdown",
   "id": "08f03b69",
   "metadata": {},
   "source": [
    "В результате проверки выдвинутой гипотезы мы выяснили что между долями игроков из разных каналов привлечения, завершивших первый уровень, отсутствует статистически достоверная разница."
   ]
  },
  {
   "cell_type": "markdown",
   "id": "8d1717e3",
   "metadata": {},
   "source": [
    "## Проверка статистической гипотезы \"Среднее количество построек на игрока различается в зависимости от факта завершения уровня и способа его завершения\""
   ]
  },
  {
   "cell_type": "markdown",
   "id": "9e17e191",
   "metadata": {},
   "source": [
    "В начале изучим распределение количества строений возводимых каждым игроком."
   ]
  },
  {
   "cell_type": "code",
   "execution_count": 52,
   "id": "2302b338",
   "metadata": {},
   "outputs": [
    {
     "data": {
      "image/png": "[encoded data removed]",
      "text/plain": [
       "<Figure size 1080x576 with 1 Axes>"
      ]
     },
     "metadata": {
      "needs_background": "light"
     },
     "output_type": "display_data"
    }
   ],
   "source": [
    "plt.figure(figsize=(15,8))\n",
    "plt.hist(game_actions.query('event == \"building\"').groupby('user_id').agg({'event' : 'count'}), bins=20)\n",
    "plt.title('Количество построек возводимых игроками', fontsize=20)\n",
    "plt.ylabel('Количество игроков', fontsize=14)\n",
    "plt.xlabel('Количество построек', fontsize=14)\n",
    "plt.show()"
   ]
  },
  {
   "cell_type": "markdown",
   "id": "6a95aa48",
   "metadata": {},
   "source": [
    "Есть провал в районе 7 построек на игрока, но в целом распределение близко к нормальному, поэтому считаю уместным использование для тестирования гипотезы t-критерия Стьюдента для независимых выборок. В нашем случае мы будем сравнивать между собой три группы (игроки, незавершившие 1-ый уровень; игроки, завершившившие 1-ый уровень через победу над врагом; игроки завершившие 1-ый уровень через реализацию проекта), поэтому нужно сделать поправку критического уровня статистической значимости на множественные сравнения.\n",
    "\n",
    "Так как тест необходимо провести три раза подряд, напишем для удобства соответствующую функцию."
   ]
  },
  {
   "cell_type": "code",
   "execution_count": 53,
   "id": "d17d464c",
   "metadata": {},
   "outputs": [],
   "source": [
    "def t_test(x, y, bonferroni):#функция для t-теста\n",
    "    alpha = .05/bonferroni #критический уровень статистической значимости с поправкой Бонферрони\n",
    "    results = st.ttest_ind(x.to_list(), y.to_list(), equal_var=False)\n",
    "    print('p-значение: ', results.pvalue)\n",
    "    if results.pvalue < alpha:\n",
    "        print('Нулевая гипотеза отвергнута')\n",
    "    else:\n",
    "        print('Нельзя отвергнуть нулевую гипотезу')"
   ]
  },
  {
   "cell_type": "markdown",
   "id": "76e9914f",
   "metadata": {},
   "source": [
    "### Незавершившие 1-ый уровень vs Завершившие 1-ый уровень через победу над врагом"
   ]
  },
  {
   "cell_type": "code",
   "execution_count": 54,
   "id": "7640087e",
   "metadata": {},
   "outputs": [
    {
     "name": "stdout",
     "output_type": "stream",
     "text": [
      "Среднее количество построек, возводимых игроками, незавершившими 1-ый уровень: 8.7\n",
      "Среднее количество построек, возводимых игроками, завершившими 1-ый уровень через победу над противником: 9.4\n",
      "p-значение:  9.746399746547599e-29\n",
      "Нулевая гипотеза отвергнута\n"
     ]
    }
   ],
   "source": [
    "#количество построек, возводимых игроками, незавершившими 1-ый уровень\n",
    "not_finished_buildings = game_actions.query('strategy == \"not_finished\"').groupby('user_id').agg({'event' : 'count'}\n",
    "                                                                                                )['event']\n",
    "\n",
    "#количество построек, возводимых игроками, завершившими 1-ый уровень через победу над противником\n",
    "warrior_buildings = game_actions.query('strategy == \"warrior\" and event == \"building\"').groupby('user_id').agg(\n",
    "    {'event' : 'count'})['event']\n",
    "\n",
    "#количество построек, возводимых игроками, завершившими 1-ый уровень через реализацию проекта\n",
    "scientist_buildings = game_actions.query('strategy == \"scientist\" and event == \"building\"').groupby('user_id').agg(\n",
    "    {'event' : 'count'})['event']\n",
    "\n",
    "print('Среднее количество построек, возводимых игроками, незавершившими 1-ый уровень: {:.1f}'.format(\n",
    "    not_finished_buildings.mean()) \n",
    "      )\n",
    "print('Среднее количество построек, возводимых игроками, завершившими 1-ый уровень через победу над противником: {:.1f}'\n",
    "      .format(warrior_buildings.mean())\n",
    "     )\n",
    "t_test(not_finished_buildings, warrior_buildings, 3)"
   ]
  },
  {
   "cell_type": "markdown",
   "id": "1deeefec",
   "metadata": {},
   "source": [
    "Игроки, завершившие 1-ый уровень через победу над противником, возводят достоверно больше построек, чем игроки, незавершившие 1-ый уровень (9,4 против 8,7)."
   ]
  },
  {
   "cell_type": "markdown",
   "id": "e0a176b7",
   "metadata": {},
   "source": [
    "### Незавершившие 1-ый уровень vs Завершившие 1-ый уровень через реализацию проекта"
   ]
  },
  {
   "cell_type": "code",
   "execution_count": 55,
   "id": "628f666d",
   "metadata": {},
   "outputs": [
    {
     "name": "stdout",
     "output_type": "stream",
     "text": [
      "Среднее количество построек, возводимых игроками, незавершившими 1-ый уровень: 8.7\n",
      "Среднее количество построек, возводимых игроками, завершившими 1-ый уровень через реализацию проекта: 12.6\n",
      "p-значение:  0.0\n",
      "Нулевая гипотеза отвергнута\n"
     ]
    }
   ],
   "source": [
    "print('Среднее количество построек, возводимых игроками, незавершившими 1-ый уровень: {:.1f}'.format(\n",
    "    not_finished_buildings.mean()) \n",
    "      )\n",
    "print('Среднее количество построек, возводимых игроками, завершившими 1-ый уровень через реализацию проекта: {:.1f}'.format(\n",
    "    scientist_buildings.mean())\n",
    "     )\n",
    "t_test(not_finished_buildings, scientist_buildings, 3)"
   ]
  },
  {
   "cell_type": "markdown",
   "id": "a96d0839",
   "metadata": {},
   "source": [
    "Игроки, завершившие 1-ый уровень через реализацию проекта, также возводят достоверно больше построек, чем игроки, незавершившие 1-ый уровень (12,6 против 8,7)."
   ]
  },
  {
   "cell_type": "markdown",
   "id": "50409822",
   "metadata": {},
   "source": [
    "### Завершившие 1-ый уровень через победу над врагом vs Завершившие 1-ый уровень через реализацию проекта"
   ]
  },
  {
   "cell_type": "code",
   "execution_count": 56,
   "id": "0364f571",
   "metadata": {},
   "outputs": [
    {
     "name": "stdout",
     "output_type": "stream",
     "text": [
      "Среднее количество построек, возводимых игроками, завершившими 1-ый уровень через победу над противником: 9.4\n",
      "Среднее количество построек, возводимых игроками, завершившими 1-ый уровень через реализацию проекта: 12.6\n",
      "p-значение:  0.0\n",
      "Нулевая гипотеза отвергнута\n"
     ]
    }
   ],
   "source": [
    "print('Среднее количество построек, возводимых игроками, завершившими 1-ый уровень через победу над противником: {:.1f}'.format(\n",
    "    warrior_buildings.mean())\n",
    "      )\n",
    "print('Среднее количество построек, возводимых игроками, завершившими 1-ый уровень через реализацию проекта: {:.1f}'.format(\n",
    "    scientist_buildings.mean())\n",
    "     )\n",
    "t_test(warrior_buildings, scientist_buildings, 3)"
   ]
  },
  {
   "cell_type": "markdown",
   "id": "8150474f",
   "metadata": {},
   "source": [
    "Игроки, завершившие 1-ый уровень через реализацию проекта, возводят достоверно больше построек, чем игроки, завершившие 1-ый уровень через победу над противником (12,6 против 9,4)."
   ]
  },
  {
   "cell_type": "markdown",
   "id": "dd66296b",
   "metadata": {},
   "source": [
    "### Промежуточный вывод"
   ]
  },
  {
   "cell_type": "markdown",
   "id": "a83d8295",
   "metadata": {},
   "source": [
    "Игроки, завершающие 1-ый уровень через реализацию проекта, в среднем возводят достоверно больше построек, чем игроки, завершающие 1-ый уровень через победу над противником, и чем игроки, незавершающие 1-ый уровень (среднее значение - 12,6; 9,4 и 8,7 построек на игрока соответственно). Это может быть важно при реализации монетизации, т.к. она планируется через показ рекламы на экране выбора постройки. "
   ]
  },
  {
   "cell_type": "markdown",
   "id": "a6872116",
   "metadata": {},
   "source": [
    "## Общие выводы"
   ]
  },
  {
   "cell_type": "markdown",
   "id": "7424ddac",
   "metadata": {},
   "source": [
    "1. Поведение игроков независимо от канала привлечения:\n",
    "- количество генерируемых игроками событий растёт в первую неделю анализируемого периода, а начиная с 8-ого дня количество событий постоянно падает, т.е. наибольшая активность пользователей приходится на первые несколько дней после привлечения;\n",
    "- 94,3% генерируемых событий составляет постройка зданий, на завершение первого уровня приходится 4,3% и на реализацию проекта - 1,4%;\n",
    "- в основном игроки строят 'spaceport' и 'assembly_shop' на которые приходится 46,4% и 42,6% возводимых построек соответственно, оставшиеся 11,0% приходятся на 'research_center';\n",
    "- в среднем каждый игрок генерирует около десяти событий, чаще всего игроки генерируют 5-6 или 10-15 событий;\n",
    "- доля игроков завершивших первый уровень состаила 43%; 29% игроков завершили первый уровень через победу над противником и 14% через реализацию проекта.\n",
    "2. Поведение игроков в разрезе каналов привлечения:\n",
    "- наибольшая доля игроков пришла через Yandex - 35,5%; 24,7% и 20,1% игроков пришли через Instagram и Facebook соответственно;  меньше всего игроков было привлечено через рекламу на Youtube - 19,8%;\n",
    "- среднее количество событий генерируемых игроками в зависимости от канала привлечения сущесственно не различается и варьируется от 9,87 для игроков, привлечённых через Youtube, до 10,15 для игроков, привлечённых через Facebook, распределение данного показателя для каждого из каналов привлечения сходно с таковым для общей совокупности;\n",
    "- доли игроков завершивших первый уровень, в т.ч. разными способами, практически идентичны аналогичным показателям для общей совокупности, а именно доля завершивших первый уровень 42-44%; через победу над противником - 28-30%; через реализацию исследовательского проекта - 13-14%.\n",
    "3. Самая высокая стоимость привлечения зафиксирована у игроков пришедших через Facebook -  0,79 у.е.; стоимость привлечения игроков через Instagram - 0,65 у.е.; через Yandex - 0,46 у.е.; наименьшей стоимостью привлечения обладают игроки пришедшие через Youtube - 0,40 у.е.\n",
    "\n",
    "\n",
    "4. Результаты проверок статистических гипотез:\n",
    "- игроки, завершающие 1-ый уровень, через реализацию проекта тратят на прохождение уровня достоверно больше дней, чем игроки, завершающие 1-ый уровень через победу над противником (13 дней против 11 дней);\n",
    "- доля игроков, завершающих 1-ый уровень, статистически не различается в разрезе каналов привлечения;\n",
    "- игроки, завершающие 1-ый уровень через реализацию проекта возводят статистически достоверно больше построек, чем игроки, завершающие 1-ый уровень через победу над противником, и чем игроки, незавершающие 1-ый уровень (среднее значение - 12,6; 9,4 и 8,7 построек на игрока соответственно).\n",
    "\n",
    "**Рекомендации**\n",
    "\n",
    "1. Нами не было выявлено существенных различий в поведении игроков, привлеченных через разные каналы, поэтому при выборе наиболее оптимальных рекламных каналов стоит, в первую очередь, ориентироваться на стоимость привлечения игрока. По данному параметру предпочтение стоит отдать рекламе через Youtube и Yandex.\n",
    "2. Мы установили, что игроки, завершающие 1-ый уровень через реализацию проекта, возводят больше построек, чем игроки, нзавершающие 1-ый уровень или завершающие его через победу над противником. Учитывая, что модель планируемой монетизации предполагает показ рекламы на экране выбора постройки, стоит предусмотреть меры побуждения игроков к прохождению уровней через реализацию проекта (внутриигровые награды и трофеи и др.), т.к. тогда они будут чаще попадать на экран показа рекламы."
   ]
  },
  {
   "cell_type": "markdown",
   "id": "111a3eb2",
   "metadata": {},
   "source": [
    "## Презентация"
   ]
  },
  {
   "cell_type": "markdown",
   "id": "12365de5",
   "metadata": {},
   "source": [
    "[https://disk.yandex.ru/i/m1pHSO2vWLjenA]"
   ]
  },
  {
   "cell_type": "markdown",
   "id": "1573d0fa",
   "metadata": {},
   "source": [
    "## Дашборд"
   ]
  },
  {
   "cell_type": "markdown",
   "id": "f85e0573",
   "metadata": {},
   "source": [
    "[https://public.tableau.com/shared/BQ24783CG?:display_count=n&:origin=viz_share_link]"
   ]
  }
 ],
 "metadata": {
  "ExecuteTimeLog": [
   {
    "duration": 1198,
    "start_time": "2022-07-28T17:38:16.281Z"
   },
   {
    "duration": 800,
    "start_time": "2022-07-28T17:38:17.480Z"
   },
   {
    "duration": 4,
    "start_time": "2022-07-28T17:38:18.282Z"
   },
   {
    "duration": 75,
    "start_time": "2022-07-28T17:38:18.288Z"
   },
   {
    "duration": 207,
    "start_time": "2022-07-28T17:38:18.364Z"
   },
   {
    "duration": 13,
    "start_time": "2022-07-28T17:38:18.572Z"
   },
   {
    "duration": 10,
    "start_time": "2022-07-28T17:38:18.587Z"
   },
   {
    "duration": 105,
    "start_time": "2022-07-28T17:38:18.599Z"
   },
   {
    "duration": 29,
    "start_time": "2022-07-28T17:38:18.706Z"
   },
   {
    "duration": 37,
    "start_time": "2022-07-28T17:38:18.738Z"
   },
   {
    "duration": 37,
    "start_time": "2022-07-28T17:38:18.777Z"
   },
   {
    "duration": 530,
    "start_time": "2022-07-28T17:38:18.816Z"
   },
   {
    "duration": 0,
    "start_time": "2022-07-28T17:38:19.348Z"
   },
   {
    "duration": 0,
    "start_time": "2022-07-28T17:38:19.349Z"
   },
   {
    "duration": 0,
    "start_time": "2022-07-28T17:38:19.351Z"
   },
   {
    "duration": 0,
    "start_time": "2022-07-28T17:38:19.351Z"
   },
   {
    "duration": 0,
    "start_time": "2022-07-28T17:38:19.360Z"
   },
   {
    "duration": 0,
    "start_time": "2022-07-28T17:38:19.361Z"
   },
   {
    "duration": 0,
    "start_time": "2022-07-28T17:38:19.362Z"
   },
   {
    "duration": 0,
    "start_time": "2022-07-28T17:38:19.363Z"
   },
   {
    "duration": 0,
    "start_time": "2022-07-28T17:38:19.364Z"
   },
   {
    "duration": 0,
    "start_time": "2022-07-28T17:38:19.365Z"
   },
   {
    "duration": 0,
    "start_time": "2022-07-28T17:38:19.366Z"
   },
   {
    "duration": 0,
    "start_time": "2022-07-28T17:38:19.367Z"
   },
   {
    "duration": 0,
    "start_time": "2022-07-28T17:38:19.368Z"
   },
   {
    "duration": 0,
    "start_time": "2022-07-28T17:38:19.369Z"
   },
   {
    "duration": 0,
    "start_time": "2022-07-28T17:38:19.369Z"
   },
   {
    "duration": 0,
    "start_time": "2022-07-28T17:38:19.370Z"
   },
   {
    "duration": 0,
    "start_time": "2022-07-28T17:38:19.372Z"
   },
   {
    "duration": 0,
    "start_time": "2022-07-28T17:38:19.373Z"
   },
   {
    "duration": 0,
    "start_time": "2022-07-28T17:38:19.373Z"
   },
   {
    "duration": 0,
    "start_time": "2022-07-28T17:38:19.375Z"
   },
   {
    "duration": 0,
    "start_time": "2022-07-28T17:38:19.375Z"
   },
   {
    "duration": 0,
    "start_time": "2022-07-28T17:38:19.377Z"
   },
   {
    "duration": 0,
    "start_time": "2022-07-28T17:38:19.377Z"
   },
   {
    "duration": 0,
    "start_time": "2022-07-28T17:38:19.378Z"
   },
   {
    "duration": 0,
    "start_time": "2022-07-28T17:38:19.379Z"
   },
   {
    "duration": 0,
    "start_time": "2022-07-28T17:38:19.380Z"
   },
   {
    "duration": 0,
    "start_time": "2022-07-28T17:38:19.380Z"
   },
   {
    "duration": 0,
    "start_time": "2022-07-28T17:38:19.381Z"
   },
   {
    "duration": 0,
    "start_time": "2022-07-28T17:38:19.383Z"
   },
   {
    "duration": 0,
    "start_time": "2022-07-28T17:38:19.383Z"
   },
   {
    "duration": 0,
    "start_time": "2022-07-28T17:38:19.384Z"
   },
   {
    "duration": 0,
    "start_time": "2022-07-28T17:38:19.385Z"
   },
   {
    "duration": 0,
    "start_time": "2022-07-28T17:38:19.386Z"
   },
   {
    "duration": 0,
    "start_time": "2022-07-28T17:38:19.387Z"
   },
   {
    "duration": 0,
    "start_time": "2022-07-28T17:38:19.388Z"
   },
   {
    "duration": 0,
    "start_time": "2022-07-28T17:38:19.389Z"
   },
   {
    "duration": 0,
    "start_time": "2022-07-28T17:38:19.390Z"
   },
   {
    "duration": 0,
    "start_time": "2022-07-28T17:38:19.391Z"
   },
   {
    "duration": 259,
    "start_time": "2022-07-28T17:38:28.685Z"
   },
   {
    "duration": 249,
    "start_time": "2022-07-28T17:38:29.270Z"
   },
   {
    "duration": 8,
    "start_time": "2022-07-28T17:38:31.701Z"
   },
   {
    "duration": 253,
    "start_time": "2022-07-28T17:38:31.922Z"
   },
   {
    "duration": 39,
    "start_time": "2022-07-28T17:38:38.424Z"
   },
   {
    "duration": 245,
    "start_time": "2022-07-28T17:38:38.756Z"
   },
   {
    "duration": 36,
    "start_time": "2022-07-28T17:38:39.801Z"
   },
   {
    "duration": 51,
    "start_time": "2022-07-28T17:38:39.872Z"
   },
   {
    "duration": 26,
    "start_time": "2022-07-28T17:38:39.945Z"
   },
   {
    "duration": 22,
    "start_time": "2022-07-28T17:38:40.006Z"
   },
   {
    "duration": 21,
    "start_time": "2022-07-28T17:38:40.091Z"
   },
   {
    "duration": 723,
    "start_time": "2022-07-28T17:38:40.446Z"
   },
   {
    "duration": 39,
    "start_time": "2022-07-28T17:38:41.171Z"
   },
   {
    "duration": 91,
    "start_time": "2022-07-28T17:38:41.211Z"
   },
   {
    "duration": 56,
    "start_time": "2022-07-28T17:38:41.647Z"
   },
   {
    "duration": 645,
    "start_time": "2022-07-28T17:38:41.985Z"
   },
   {
    "duration": 5,
    "start_time": "2022-07-28T17:38:42.694Z"
   },
   {
    "duration": 68,
    "start_time": "2022-07-28T17:38:42.929Z"
   },
   {
    "duration": 340,
    "start_time": "2022-07-28T17:38:43.959Z"
   },
   {
    "duration": 216,
    "start_time": "2022-07-28T17:38:44.346Z"
   },
   {
    "duration": 5,
    "start_time": "2022-07-28T17:38:45.400Z"
   },
   {
    "duration": 59,
    "start_time": "2022-07-28T17:38:45.768Z"
   },
   {
    "duration": 62,
    "start_time": "2022-07-28T17:38:45.946Z"
   },
   {
    "duration": 77,
    "start_time": "2022-07-28T17:38:46.285Z"
   },
   {
    "duration": 71,
    "start_time": "2022-07-28T17:38:46.456Z"
   },
   {
    "duration": 58,
    "start_time": "2022-07-28T17:38:46.792Z"
   },
   {
    "duration": 60,
    "start_time": "2022-07-28T17:38:46.981Z"
   },
   {
    "duration": 57,
    "start_time": "2022-07-28T17:38:47.306Z"
   },
   {
    "duration": 61,
    "start_time": "2022-07-28T17:38:47.493Z"
   },
   {
    "duration": 58,
    "start_time": "2022-07-28T17:38:48.211Z"
   },
   {
    "duration": 56,
    "start_time": "2022-07-28T17:38:48.401Z"
   },
   {
    "duration": 57,
    "start_time": "2022-07-28T17:38:48.756Z"
   },
   {
    "duration": 55,
    "start_time": "2022-07-28T17:38:49.401Z"
   },
   {
    "duration": 211,
    "start_time": "2022-07-28T17:38:50.824Z"
   },
   {
    "duration": 3,
    "start_time": "2022-07-28T17:38:51.186Z"
   },
   {
    "duration": 156,
    "start_time": "2022-07-28T17:38:51.929Z"
   },
   {
    "duration": 122,
    "start_time": "2022-07-28T17:38:52.501Z"
   },
   {
    "duration": 105,
    "start_time": "2022-07-28T17:38:53.243Z"
   },
   {
    "duration": 13,
    "start_time": "2022-07-28T17:39:15.849Z"
   },
   {
    "duration": 1232,
    "start_time": "2022-07-28T18:52:16.077Z"
   },
   {
    "duration": 856,
    "start_time": "2022-07-28T18:52:20.216Z"
   },
   {
    "duration": 4,
    "start_time": "2022-07-28T19:22:13.319Z"
   },
   {
    "duration": 27,
    "start_time": "2022-07-28T19:22:17.839Z"
   },
   {
    "duration": 22,
    "start_time": "2022-07-28T19:25:23.665Z"
   },
   {
    "duration": 173,
    "start_time": "2022-07-28T19:25:26.540Z"
   },
   {
    "duration": 13,
    "start_time": "2022-07-28T19:25:33.344Z"
   },
   {
    "duration": 12,
    "start_time": "2022-07-28T19:25:35.172Z"
   },
   {
    "duration": 102,
    "start_time": "2022-07-28T19:25:37.197Z"
   },
   {
    "duration": 467,
    "start_time": "2022-07-28T19:28:54.682Z"
   },
   {
    "duration": 145,
    "start_time": "2022-07-28T19:29:02.110Z"
   },
   {
    "duration": 28,
    "start_time": "2022-07-28T19:30:31.434Z"
   },
   {
    "duration": 37,
    "start_time": "2022-07-28T19:30:44.074Z"
   },
   {
    "duration": 3,
    "start_time": "2022-07-28T19:33:55.557Z"
   },
   {
    "duration": 606,
    "start_time": "2022-07-28T19:34:09.561Z"
   },
   {
    "duration": 5,
    "start_time": "2022-07-28T19:34:46.031Z"
   },
   {
    "duration": 12,
    "start_time": "2022-07-28T19:34:53.192Z"
   },
   {
    "duration": 4,
    "start_time": "2022-07-28T19:35:19.464Z"
   },
   {
    "duration": 66,
    "start_time": "2022-07-28T19:37:34.894Z"
   },
   {
    "duration": 58,
    "start_time": "2022-07-28T19:37:45.795Z"
   },
   {
    "duration": 55,
    "start_time": "2022-07-28T19:37:52.596Z"
   },
   {
    "duration": 1555,
    "start_time": "2022-07-28T19:38:48.163Z"
   },
   {
    "duration": 1313,
    "start_time": "2022-07-28T19:38:58.596Z"
   },
   {
    "duration": 1130,
    "start_time": "2022-07-28T19:38:59.911Z"
   },
   {
    "duration": 582,
    "start_time": "2022-07-28T19:39:01.042Z"
   },
   {
    "duration": 4,
    "start_time": "2022-07-28T19:39:01.626Z"
   },
   {
    "duration": 47,
    "start_time": "2022-07-28T19:39:01.633Z"
   },
   {
    "duration": 161,
    "start_time": "2022-07-28T19:39:01.681Z"
   },
   {
    "duration": 14,
    "start_time": "2022-07-28T19:39:01.844Z"
   },
   {
    "duration": 12,
    "start_time": "2022-07-28T19:39:01.860Z"
   },
   {
    "duration": 91,
    "start_time": "2022-07-28T19:39:01.874Z"
   },
   {
    "duration": 30,
    "start_time": "2022-07-28T19:39:01.967Z"
   },
   {
    "duration": 63,
    "start_time": "2022-07-28T19:39:01.999Z"
   },
   {
    "duration": 594,
    "start_time": "2022-07-28T19:39:02.064Z"
   },
   {
    "duration": 0,
    "start_time": "2022-07-28T19:39:02.661Z"
   },
   {
    "duration": 0,
    "start_time": "2022-07-28T19:39:02.662Z"
   },
   {
    "duration": 0,
    "start_time": "2022-07-28T19:39:02.664Z"
   },
   {
    "duration": 0,
    "start_time": "2022-07-28T19:39:02.665Z"
   },
   {
    "duration": 0,
    "start_time": "2022-07-28T19:39:02.666Z"
   },
   {
    "duration": 0,
    "start_time": "2022-07-28T19:39:02.668Z"
   },
   {
    "duration": 0,
    "start_time": "2022-07-28T19:39:02.669Z"
   },
   {
    "duration": 0,
    "start_time": "2022-07-28T19:39:02.670Z"
   },
   {
    "duration": 0,
    "start_time": "2022-07-28T19:39:02.672Z"
   },
   {
    "duration": 0,
    "start_time": "2022-07-28T19:39:02.673Z"
   },
   {
    "duration": 0,
    "start_time": "2022-07-28T19:39:02.674Z"
   },
   {
    "duration": 0,
    "start_time": "2022-07-28T19:39:02.676Z"
   },
   {
    "duration": 1,
    "start_time": "2022-07-28T19:39:02.676Z"
   },
   {
    "duration": 0,
    "start_time": "2022-07-28T19:39:02.678Z"
   },
   {
    "duration": 0,
    "start_time": "2022-07-28T19:39:02.681Z"
   },
   {
    "duration": 0,
    "start_time": "2022-07-28T19:39:02.682Z"
   },
   {
    "duration": 0,
    "start_time": "2022-07-28T19:39:02.724Z"
   },
   {
    "duration": 0,
    "start_time": "2022-07-28T19:39:02.726Z"
   },
   {
    "duration": 0,
    "start_time": "2022-07-28T19:39:02.727Z"
   },
   {
    "duration": 0,
    "start_time": "2022-07-28T19:39:02.728Z"
   },
   {
    "duration": 0,
    "start_time": "2022-07-28T19:39:02.730Z"
   },
   {
    "duration": 0,
    "start_time": "2022-07-28T19:39:02.731Z"
   },
   {
    "duration": 0,
    "start_time": "2022-07-28T19:39:02.732Z"
   },
   {
    "duration": 0,
    "start_time": "2022-07-28T19:39:02.734Z"
   },
   {
    "duration": 0,
    "start_time": "2022-07-28T19:39:02.735Z"
   },
   {
    "duration": 0,
    "start_time": "2022-07-28T19:39:02.737Z"
   },
   {
    "duration": 0,
    "start_time": "2022-07-28T19:39:02.738Z"
   },
   {
    "duration": 0,
    "start_time": "2022-07-28T19:39:02.739Z"
   },
   {
    "duration": 0,
    "start_time": "2022-07-28T19:39:02.740Z"
   },
   {
    "duration": 0,
    "start_time": "2022-07-28T19:39:02.741Z"
   },
   {
    "duration": 0,
    "start_time": "2022-07-28T19:39:02.742Z"
   },
   {
    "duration": 0,
    "start_time": "2022-07-28T19:39:02.744Z"
   },
   {
    "duration": 0,
    "start_time": "2022-07-28T19:39:02.745Z"
   },
   {
    "duration": 0,
    "start_time": "2022-07-28T19:39:02.746Z"
   },
   {
    "duration": 0,
    "start_time": "2022-07-28T19:39:02.747Z"
   },
   {
    "duration": 0,
    "start_time": "2022-07-28T19:39:02.749Z"
   },
   {
    "duration": 0,
    "start_time": "2022-07-28T19:39:02.750Z"
   },
   {
    "duration": 1404,
    "start_time": "2022-07-28T19:58:21.269Z"
   },
   {
    "duration": 1112,
    "start_time": "2022-07-28T19:58:24.047Z"
   },
   {
    "duration": 610,
    "start_time": "2022-07-28T19:58:25.778Z"
   },
   {
    "duration": 5,
    "start_time": "2022-07-28T19:58:26.961Z"
   },
   {
    "duration": 30,
    "start_time": "2022-07-28T19:58:28.521Z"
   },
   {
    "duration": 150,
    "start_time": "2022-07-28T19:58:29.259Z"
   },
   {
    "duration": 19,
    "start_time": "2022-07-28T19:58:29.719Z"
   },
   {
    "duration": 15,
    "start_time": "2022-07-28T19:58:30.307Z"
   },
   {
    "duration": 71,
    "start_time": "2022-07-28T19:58:31.406Z"
   },
   {
    "duration": 42,
    "start_time": "2022-07-28T19:58:34.609Z"
   },
   {
    "duration": 54,
    "start_time": "2022-07-28T19:58:38.903Z"
   },
   {
    "duration": 595,
    "start_time": "2022-07-28T19:58:40.203Z"
   },
   {
    "duration": 2204,
    "start_time": "2022-07-28T20:02:10.085Z"
   },
   {
    "duration": 2388,
    "start_time": "2022-07-28T20:02:34.388Z"
   },
   {
    "duration": 2480,
    "start_time": "2022-07-28T20:02:36.778Z"
   },
   {
    "duration": 514,
    "start_time": "2022-07-28T20:02:39.260Z"
   },
   {
    "duration": 4,
    "start_time": "2022-07-28T20:02:39.777Z"
   },
   {
    "duration": 89,
    "start_time": "2022-07-28T20:02:39.783Z"
   },
   {
    "duration": 190,
    "start_time": "2022-07-28T20:02:39.874Z"
   },
   {
    "duration": 14,
    "start_time": "2022-07-28T20:02:40.066Z"
   },
   {
    "duration": 27,
    "start_time": "2022-07-28T20:02:40.081Z"
   },
   {
    "duration": 91,
    "start_time": "2022-07-28T20:02:40.110Z"
   },
   {
    "duration": 34,
    "start_time": "2022-07-28T20:02:40.204Z"
   },
   {
    "duration": 45,
    "start_time": "2022-07-28T20:02:40.240Z"
   },
   {
    "duration": 625,
    "start_time": "2022-07-28T20:02:40.286Z"
   },
   {
    "duration": 0,
    "start_time": "2022-07-28T20:02:40.913Z"
   },
   {
    "duration": 0,
    "start_time": "2022-07-28T20:02:40.915Z"
   },
   {
    "duration": 0,
    "start_time": "2022-07-28T20:02:40.924Z"
   },
   {
    "duration": 0,
    "start_time": "2022-07-28T20:02:40.924Z"
   },
   {
    "duration": 0,
    "start_time": "2022-07-28T20:02:40.925Z"
   },
   {
    "duration": 0,
    "start_time": "2022-07-28T20:02:40.926Z"
   },
   {
    "duration": 0,
    "start_time": "2022-07-28T20:02:40.927Z"
   },
   {
    "duration": 0,
    "start_time": "2022-07-28T20:02:40.930Z"
   },
   {
    "duration": 0,
    "start_time": "2022-07-28T20:02:40.931Z"
   },
   {
    "duration": 0,
    "start_time": "2022-07-28T20:02:40.933Z"
   },
   {
    "duration": 0,
    "start_time": "2022-07-28T20:02:40.934Z"
   },
   {
    "duration": 0,
    "start_time": "2022-07-28T20:02:40.941Z"
   },
   {
    "duration": 0,
    "start_time": "2022-07-28T20:02:40.942Z"
   },
   {
    "duration": 0,
    "start_time": "2022-07-28T20:02:40.943Z"
   },
   {
    "duration": 0,
    "start_time": "2022-07-28T20:02:40.945Z"
   },
   {
    "duration": 0,
    "start_time": "2022-07-28T20:02:40.946Z"
   },
   {
    "duration": 0,
    "start_time": "2022-07-28T20:02:40.947Z"
   },
   {
    "duration": 0,
    "start_time": "2022-07-28T20:02:40.948Z"
   },
   {
    "duration": 0,
    "start_time": "2022-07-28T20:02:40.949Z"
   },
   {
    "duration": 0,
    "start_time": "2022-07-28T20:02:40.950Z"
   },
   {
    "duration": 0,
    "start_time": "2022-07-28T20:02:40.951Z"
   },
   {
    "duration": 0,
    "start_time": "2022-07-28T20:02:40.952Z"
   },
   {
    "duration": 0,
    "start_time": "2022-07-28T20:02:40.954Z"
   },
   {
    "duration": 0,
    "start_time": "2022-07-28T20:02:40.955Z"
   },
   {
    "duration": 0,
    "start_time": "2022-07-28T20:02:40.956Z"
   },
   {
    "duration": 0,
    "start_time": "2022-07-28T20:02:40.957Z"
   },
   {
    "duration": 0,
    "start_time": "2022-07-28T20:02:40.958Z"
   },
   {
    "duration": 0,
    "start_time": "2022-07-28T20:02:40.959Z"
   },
   {
    "duration": 0,
    "start_time": "2022-07-28T20:02:40.960Z"
   },
   {
    "duration": 0,
    "start_time": "2022-07-28T20:02:40.961Z"
   },
   {
    "duration": 0,
    "start_time": "2022-07-28T20:02:40.962Z"
   },
   {
    "duration": 0,
    "start_time": "2022-07-28T20:02:40.964Z"
   },
   {
    "duration": 0,
    "start_time": "2022-07-28T20:02:40.966Z"
   },
   {
    "duration": 0,
    "start_time": "2022-07-28T20:02:40.967Z"
   },
   {
    "duration": 0,
    "start_time": "2022-07-28T20:02:40.968Z"
   },
   {
    "duration": 0,
    "start_time": "2022-07-28T20:02:40.969Z"
   },
   {
    "duration": 0,
    "start_time": "2022-07-28T20:02:40.970Z"
   },
   {
    "duration": 3,
    "start_time": "2022-07-28T20:04:06.307Z"
   },
   {
    "duration": 14,
    "start_time": "2022-07-28T20:04:12.405Z"
   },
   {
    "duration": 3,
    "start_time": "2022-07-28T20:04:42.145Z"
   },
   {
    "duration": 11,
    "start_time": "2022-07-28T20:06:14.460Z"
   },
   {
    "duration": 2175,
    "start_time": "2022-07-28T20:06:27.251Z"
   },
   {
    "duration": 14,
    "start_time": "2022-07-28T20:06:29.428Z"
   },
   {
    "duration": 7,
    "start_time": "2022-07-28T20:06:38.336Z"
   },
   {
    "duration": 15037,
    "start_time": "2022-07-28T20:11:58.897Z"
   },
   {
    "duration": 4,
    "start_time": "2022-07-28T20:12:22.661Z"
   },
   {
    "duration": 475,
    "start_time": "2022-07-28T20:12:28.010Z"
   },
   {
    "duration": 2719,
    "start_time": "2022-07-28T20:13:02.325Z"
   },
   {
    "duration": 2406,
    "start_time": "2022-07-28T20:13:05.046Z"
   },
   {
    "duration": 655,
    "start_time": "2022-07-28T20:13:07.454Z"
   },
   {
    "duration": 4,
    "start_time": "2022-07-28T20:13:08.111Z"
   },
   {
    "duration": 37,
    "start_time": "2022-07-28T20:13:08.117Z"
   },
   {
    "duration": 153,
    "start_time": "2022-07-28T20:13:08.155Z"
   },
   {
    "duration": 26,
    "start_time": "2022-07-28T20:13:08.310Z"
   },
   {
    "duration": 15,
    "start_time": "2022-07-28T20:13:08.337Z"
   },
   {
    "duration": 72,
    "start_time": "2022-07-28T20:13:08.357Z"
   },
   {
    "duration": 30,
    "start_time": "2022-07-28T20:13:08.430Z"
   },
   {
    "duration": 39,
    "start_time": "2022-07-28T20:13:08.462Z"
   },
   {
    "duration": 801,
    "start_time": "2022-07-28T20:13:08.524Z"
   },
   {
    "duration": 460,
    "start_time": "2022-07-28T20:13:09.326Z"
   },
   {
    "duration": 407,
    "start_time": "2022-07-28T20:13:09.788Z"
   },
   {
    "duration": 7,
    "start_time": "2022-07-28T20:13:10.197Z"
   },
   {
    "duration": 391,
    "start_time": "2022-07-28T20:13:10.206Z"
   },
   {
    "duration": 50,
    "start_time": "2022-07-28T20:13:10.599Z"
   },
   {
    "duration": 361,
    "start_time": "2022-07-28T20:13:10.650Z"
   },
   {
    "duration": 43,
    "start_time": "2022-07-28T20:13:11.014Z"
   },
   {
    "duration": 66,
    "start_time": "2022-07-28T20:13:11.059Z"
   },
   {
    "duration": 24,
    "start_time": "2022-07-28T20:13:11.126Z"
   },
   {
    "duration": 22,
    "start_time": "2022-07-28T20:13:11.152Z"
   },
   {
    "duration": 50,
    "start_time": "2022-07-28T20:13:11.177Z"
   },
   {
    "duration": 936,
    "start_time": "2022-07-28T20:13:11.228Z"
   },
   {
    "duration": 41,
    "start_time": "2022-07-28T20:13:12.165Z"
   },
   {
    "duration": 95,
    "start_time": "2022-07-28T20:13:12.208Z"
   },
   {
    "duration": 643,
    "start_time": "2022-07-28T20:13:12.305Z"
   },
   {
    "duration": 4,
    "start_time": "2022-07-28T20:13:12.950Z"
   },
   {
    "duration": 99,
    "start_time": "2022-07-28T20:13:12.955Z"
   },
   {
    "duration": 492,
    "start_time": "2022-07-28T20:13:13.056Z"
   },
   {
    "duration": 236,
    "start_time": "2022-07-28T20:13:13.549Z"
   },
   {
    "duration": 5,
    "start_time": "2022-07-28T20:13:13.787Z"
   },
   {
    "duration": 79,
    "start_time": "2022-07-28T20:13:13.793Z"
   },
   {
    "duration": 71,
    "start_time": "2022-07-28T20:13:13.874Z"
   },
   {
    "duration": 61,
    "start_time": "2022-07-28T20:13:13.947Z"
   },
   {
    "duration": 62,
    "start_time": "2022-07-28T20:13:14.024Z"
   },
   {
    "duration": 79,
    "start_time": "2022-07-28T20:13:14.087Z"
   },
   {
    "duration": 76,
    "start_time": "2022-07-28T20:13:14.167Z"
   },
   {
    "duration": 64,
    "start_time": "2022-07-28T20:13:14.245Z"
   },
   {
    "duration": 69,
    "start_time": "2022-07-28T20:13:14.324Z"
   },
   {
    "duration": 78,
    "start_time": "2022-07-28T20:13:14.397Z"
   },
   {
    "duration": 74,
    "start_time": "2022-07-28T20:13:14.477Z"
   },
   {
    "duration": 93,
    "start_time": "2022-07-28T20:13:14.553Z"
   },
   {
    "duration": 75,
    "start_time": "2022-07-28T20:13:14.649Z"
   },
   {
    "duration": 328,
    "start_time": "2022-07-28T20:13:14.725Z"
   },
   {
    "duration": 4,
    "start_time": "2022-07-28T20:13:15.055Z"
   },
   {
    "duration": 167,
    "start_time": "2022-07-28T20:13:15.061Z"
   },
   {
    "duration": 136,
    "start_time": "2022-07-28T20:13:15.230Z"
   },
   {
    "duration": 125,
    "start_time": "2022-07-28T20:13:15.368Z"
   },
   {
    "duration": 48,
    "start_time": "2022-07-28T20:17:28.169Z"
   },
   {
    "duration": 65,
    "start_time": "2022-07-28T20:17:46.952Z"
   },
   {
    "duration": 445,
    "start_time": "2022-07-28T20:18:16.730Z"
   },
   {
    "duration": 421,
    "start_time": "2022-07-28T20:18:47.978Z"
   },
   {
    "duration": 418,
    "start_time": "2022-07-28T20:19:03.753Z"
   },
   {
    "duration": 328,
    "start_time": "2022-07-28T20:34:40.837Z"
   },
   {
    "duration": 320,
    "start_time": "2022-07-28T20:35:35.284Z"
   },
   {
    "duration": 326,
    "start_time": "2022-07-28T20:35:49.199Z"
   },
   {
    "duration": 443,
    "start_time": "2022-07-28T20:37:12.309Z"
   },
   {
    "duration": 348,
    "start_time": "2022-07-28T20:37:26.006Z"
   },
   {
    "duration": 492,
    "start_time": "2022-07-28T20:37:55.906Z"
   },
   {
    "duration": 418,
    "start_time": "2022-07-28T20:41:10.046Z"
   },
   {
    "duration": 370,
    "start_time": "2022-07-28T20:41:59.411Z"
   },
   {
    "duration": 22,
    "start_time": "2022-07-28T20:54:15.476Z"
   },
   {
    "duration": 9,
    "start_time": "2022-07-28T20:55:50.131Z"
   },
   {
    "duration": 57,
    "start_time": "2022-07-28T20:55:57.984Z"
   },
   {
    "duration": 61,
    "start_time": "2022-07-28T20:56:16.603Z"
   },
   {
    "duration": 45,
    "start_time": "2022-07-28T20:59:34.050Z"
   },
   {
    "duration": 37,
    "start_time": "2022-07-28T20:59:49.734Z"
   },
   {
    "duration": 42,
    "start_time": "2022-07-28T21:00:04.892Z"
   },
   {
    "duration": 39,
    "start_time": "2022-07-28T21:07:05.305Z"
   },
   {
    "duration": 34,
    "start_time": "2022-07-28T21:07:11.079Z"
   },
   {
    "duration": 33,
    "start_time": "2022-07-28T21:07:23.870Z"
   },
   {
    "duration": 3,
    "start_time": "2022-07-28T21:13:21.750Z"
   },
   {
    "duration": 5,
    "start_time": "2022-07-28T21:15:50.028Z"
   },
   {
    "duration": 1425,
    "start_time": "2022-07-28T21:17:20.864Z"
   },
   {
    "duration": 6,
    "start_time": "2022-07-28T21:18:30.102Z"
   },
   {
    "duration": 51,
    "start_time": "2022-07-28T21:19:20.798Z"
   },
   {
    "duration": 4,
    "start_time": "2022-07-28T21:20:03.744Z"
   },
   {
    "duration": 2855,
    "start_time": "2022-07-28T21:22:08.583Z"
   },
   {
    "duration": 1567,
    "start_time": "2022-07-28T21:22:11.441Z"
   },
   {
    "duration": 774,
    "start_time": "2022-07-28T21:22:13.010Z"
   },
   {
    "duration": 6,
    "start_time": "2022-07-28T21:22:13.788Z"
   },
   {
    "duration": 53,
    "start_time": "2022-07-28T21:22:13.796Z"
   },
   {
    "duration": 196,
    "start_time": "2022-07-28T21:22:13.851Z"
   },
   {
    "duration": 16,
    "start_time": "2022-07-28T21:22:14.049Z"
   },
   {
    "duration": 23,
    "start_time": "2022-07-28T21:22:14.067Z"
   },
   {
    "duration": 119,
    "start_time": "2022-07-28T21:22:14.093Z"
   },
   {
    "duration": 44,
    "start_time": "2022-07-28T21:22:14.216Z"
   },
   {
    "duration": 82,
    "start_time": "2022-07-28T21:22:14.262Z"
   },
   {
    "duration": 863,
    "start_time": "2022-07-28T21:22:14.346Z"
   },
   {
    "duration": 494,
    "start_time": "2022-07-28T21:22:15.211Z"
   },
   {
    "duration": 498,
    "start_time": "2022-07-28T21:22:15.708Z"
   },
   {
    "duration": 20,
    "start_time": "2022-07-28T21:22:16.207Z"
   },
   {
    "duration": 421,
    "start_time": "2022-07-28T21:22:16.229Z"
   },
   {
    "duration": 47,
    "start_time": "2022-07-28T21:22:16.652Z"
   },
   {
    "duration": 391,
    "start_time": "2022-07-28T21:22:16.701Z"
   },
   {
    "duration": 56,
    "start_time": "2022-07-28T21:22:17.094Z"
   },
   {
    "duration": 81,
    "start_time": "2022-07-28T21:22:17.153Z"
   },
   {
    "duration": 35,
    "start_time": "2022-07-28T21:22:17.240Z"
   },
   {
    "duration": 33,
    "start_time": "2022-07-28T21:22:17.277Z"
   },
   {
    "duration": 48,
    "start_time": "2022-07-28T21:22:17.313Z"
   },
   {
    "duration": 496,
    "start_time": "2022-07-28T21:22:17.363Z"
   },
   {
    "duration": 36,
    "start_time": "2022-07-28T21:22:17.861Z"
   },
   {
    "duration": 4,
    "start_time": "2022-07-28T21:22:17.900Z"
   },
   {
    "duration": 12,
    "start_time": "2022-07-28T21:22:17.925Z"
   },
   {
    "duration": 125,
    "start_time": "2022-07-28T21:22:17.941Z"
   },
   {
    "duration": 0,
    "start_time": "2022-07-28T21:22:18.068Z"
   },
   {
    "duration": 0,
    "start_time": "2022-07-28T21:22:18.069Z"
   },
   {
    "duration": 0,
    "start_time": "2022-07-28T21:22:18.071Z"
   },
   {
    "duration": 0,
    "start_time": "2022-07-28T21:22:18.072Z"
   },
   {
    "duration": 0,
    "start_time": "2022-07-28T21:22:18.073Z"
   },
   {
    "duration": 0,
    "start_time": "2022-07-28T21:22:18.075Z"
   },
   {
    "duration": 0,
    "start_time": "2022-07-28T21:22:18.076Z"
   },
   {
    "duration": 0,
    "start_time": "2022-07-28T21:22:18.077Z"
   },
   {
    "duration": 0,
    "start_time": "2022-07-28T21:22:18.078Z"
   },
   {
    "duration": 0,
    "start_time": "2022-07-28T21:22:18.079Z"
   },
   {
    "duration": 0,
    "start_time": "2022-07-28T21:22:18.080Z"
   },
   {
    "duration": 0,
    "start_time": "2022-07-28T21:22:18.082Z"
   },
   {
    "duration": 0,
    "start_time": "2022-07-28T21:22:18.083Z"
   },
   {
    "duration": 0,
    "start_time": "2022-07-28T21:22:18.084Z"
   },
   {
    "duration": 0,
    "start_time": "2022-07-28T21:22:18.085Z"
   },
   {
    "duration": 0,
    "start_time": "2022-07-28T21:22:18.086Z"
   },
   {
    "duration": 1,
    "start_time": "2022-07-28T21:22:18.129Z"
   },
   {
    "duration": 0,
    "start_time": "2022-07-28T21:22:18.130Z"
   },
   {
    "duration": 0,
    "start_time": "2022-07-28T21:22:18.132Z"
   },
   {
    "duration": 0,
    "start_time": "2022-07-28T21:22:18.133Z"
   },
   {
    "duration": 0,
    "start_time": "2022-07-28T21:22:18.133Z"
   },
   {
    "duration": 0,
    "start_time": "2022-07-28T21:22:18.134Z"
   },
   {
    "duration": 0,
    "start_time": "2022-07-28T21:22:18.134Z"
   },
   {
    "duration": 0,
    "start_time": "2022-07-28T21:22:18.135Z"
   },
   {
    "duration": 0,
    "start_time": "2022-07-28T21:22:18.136Z"
   },
   {
    "duration": 261,
    "start_time": "2022-07-28T21:22:38.597Z"
   },
   {
    "duration": 2819,
    "start_time": "2022-07-28T21:24:06.899Z"
   },
   {
    "duration": 1466,
    "start_time": "2022-07-28T21:24:09.720Z"
   },
   {
    "duration": 468,
    "start_time": "2022-07-28T21:24:11.187Z"
   },
   {
    "duration": 4,
    "start_time": "2022-07-28T21:24:11.657Z"
   },
   {
    "duration": 34,
    "start_time": "2022-07-28T21:24:11.663Z"
   },
   {
    "duration": 152,
    "start_time": "2022-07-28T21:24:11.698Z"
   },
   {
    "duration": 13,
    "start_time": "2022-07-28T21:24:11.852Z"
   },
   {
    "duration": 12,
    "start_time": "2022-07-28T21:24:11.866Z"
   },
   {
    "duration": 94,
    "start_time": "2022-07-28T21:24:11.879Z"
   },
   {
    "duration": 50,
    "start_time": "2022-07-28T21:24:11.976Z"
   },
   {
    "duration": 49,
    "start_time": "2022-07-28T21:24:12.038Z"
   },
   {
    "duration": 792,
    "start_time": "2022-07-28T21:24:12.089Z"
   },
   {
    "duration": 457,
    "start_time": "2022-07-28T21:24:12.882Z"
   },
   {
    "duration": 458,
    "start_time": "2022-07-28T21:24:13.341Z"
   },
   {
    "duration": 7,
    "start_time": "2022-07-28T21:24:13.801Z"
   },
   {
    "duration": 416,
    "start_time": "2022-07-28T21:24:13.809Z"
   },
   {
    "duration": 43,
    "start_time": "2022-07-28T21:24:14.235Z"
   },
   {
    "duration": 405,
    "start_time": "2022-07-28T21:24:14.280Z"
   },
   {
    "duration": 53,
    "start_time": "2022-07-28T21:24:14.688Z"
   },
   {
    "duration": 56,
    "start_time": "2022-07-28T21:24:14.743Z"
   },
   {
    "duration": 46,
    "start_time": "2022-07-28T21:24:14.801Z"
   },
   {
    "duration": 24,
    "start_time": "2022-07-28T21:24:14.849Z"
   },
   {
    "duration": 22,
    "start_time": "2022-07-28T21:24:14.874Z"
   },
   {
    "duration": 406,
    "start_time": "2022-07-28T21:24:14.898Z"
   },
   {
    "duration": 50,
    "start_time": "2022-07-28T21:24:15.307Z"
   },
   {
    "duration": 4,
    "start_time": "2022-07-28T21:24:15.359Z"
   },
   {
    "duration": 5,
    "start_time": "2022-07-28T21:24:15.365Z"
   },
   {
    "duration": 5,
    "start_time": "2022-07-28T21:24:15.375Z"
   },
   {
    "duration": 61,
    "start_time": "2022-07-28T21:24:15.382Z"
   },
   {
    "duration": 104,
    "start_time": "2022-07-28T21:24:15.445Z"
   },
   {
    "duration": 702,
    "start_time": "2022-07-28T21:24:15.552Z"
   },
   {
    "duration": 4,
    "start_time": "2022-07-28T21:24:16.256Z"
   },
   {
    "duration": 106,
    "start_time": "2022-07-28T21:24:16.261Z"
   },
   {
    "duration": 572,
    "start_time": "2022-07-28T21:24:16.369Z"
   },
   {
    "duration": 304,
    "start_time": "2022-07-28T21:24:16.943Z"
   },
   {
    "duration": 6,
    "start_time": "2022-07-28T21:24:17.249Z"
   },
   {
    "duration": 97,
    "start_time": "2022-07-28T21:24:17.257Z"
   },
   {
    "duration": 88,
    "start_time": "2022-07-28T21:24:17.356Z"
   },
   {
    "duration": 90,
    "start_time": "2022-07-28T21:24:17.446Z"
   },
   {
    "duration": 66,
    "start_time": "2022-07-28T21:24:17.541Z"
   },
   {
    "duration": 86,
    "start_time": "2022-07-28T21:24:17.608Z"
   },
   {
    "duration": 87,
    "start_time": "2022-07-28T21:24:17.696Z"
   },
   {
    "duration": 72,
    "start_time": "2022-07-28T21:24:17.785Z"
   },
   {
    "duration": 70,
    "start_time": "2022-07-28T21:24:17.859Z"
   },
   {
    "duration": 71,
    "start_time": "2022-07-28T21:24:17.930Z"
   },
   {
    "duration": 83,
    "start_time": "2022-07-28T21:24:18.003Z"
   },
   {
    "duration": 73,
    "start_time": "2022-07-28T21:24:18.087Z"
   },
   {
    "duration": 79,
    "start_time": "2022-07-28T21:24:18.162Z"
   },
   {
    "duration": 357,
    "start_time": "2022-07-28T21:24:18.243Z"
   },
   {
    "duration": 4,
    "start_time": "2022-07-28T21:24:18.601Z"
   },
   {
    "duration": 179,
    "start_time": "2022-07-28T21:24:18.607Z"
   },
   {
    "duration": 167,
    "start_time": "2022-07-28T21:24:18.788Z"
   },
   {
    "duration": 149,
    "start_time": "2022-07-28T21:24:18.957Z"
   },
   {
    "duration": 715,
    "start_time": "2022-07-28T21:32:05.949Z"
   },
   {
    "duration": 11,
    "start_time": "2022-07-28T21:32:19.676Z"
   },
   {
    "duration": 4,
    "start_time": "2022-07-28T21:35:04.328Z"
   },
   {
    "duration": 738,
    "start_time": "2022-07-28T21:35:41.137Z"
   },
   {
    "duration": 13,
    "start_time": "2022-07-28T21:35:43.788Z"
   },
   {
    "duration": 264,
    "start_time": "2022-07-28T21:36:55.379Z"
   },
   {
    "duration": 12,
    "start_time": "2022-07-28T21:37:07.078Z"
   },
   {
    "duration": 107,
    "start_time": "2022-07-28T21:42:55.802Z"
   },
   {
    "duration": 40,
    "start_time": "2022-07-28T21:43:03.776Z"
   },
   {
    "duration": 49,
    "start_time": "2022-07-28T21:43:21.836Z"
   },
   {
    "duration": 62,
    "start_time": "2022-07-28T21:43:43.890Z"
   },
   {
    "duration": 35,
    "start_time": "2022-07-28T21:43:55.642Z"
   },
   {
    "duration": 47,
    "start_time": "2022-07-28T21:45:19.041Z"
   },
   {
    "duration": 66,
    "start_time": "2022-07-28T21:45:37.193Z"
   },
   {
    "duration": 64,
    "start_time": "2022-07-28T21:45:53.605Z"
   },
   {
    "duration": 57,
    "start_time": "2022-07-28T21:46:51.338Z"
   },
   {
    "duration": 11,
    "start_time": "2022-07-28T21:47:01.262Z"
   },
   {
    "duration": 822,
    "start_time": "2022-07-28T21:50:26.228Z"
   },
   {
    "duration": 247,
    "start_time": "2022-07-28T21:50:32.371Z"
   },
   {
    "duration": 14,
    "start_time": "2022-07-28T21:50:43.246Z"
   },
   {
    "duration": 407,
    "start_time": "2022-07-28T21:53:24.705Z"
   },
   {
    "duration": 396,
    "start_time": "2022-07-28T21:55:34.851Z"
   },
   {
    "duration": 373,
    "start_time": "2022-07-28T21:55:59.821Z"
   },
   {
    "duration": 605,
    "start_time": "2022-07-28T22:05:47.604Z"
   },
   {
    "duration": 52,
    "start_time": "2022-07-28T22:06:50.847Z"
   },
   {
    "duration": 524,
    "start_time": "2022-07-28T22:07:57.392Z"
   },
   {
    "duration": 532,
    "start_time": "2022-07-28T22:11:07.228Z"
   },
   {
    "duration": 244,
    "start_time": "2022-07-28T22:13:20.402Z"
   },
   {
    "duration": 217,
    "start_time": "2022-07-28T22:14:38.262Z"
   },
   {
    "duration": 122,
    "start_time": "2022-07-28T22:15:59.814Z"
   },
   {
    "duration": 719,
    "start_time": "2022-07-28T22:26:46.385Z"
   },
   {
    "duration": 3,
    "start_time": "2022-07-28T22:26:47.106Z"
   },
   {
    "duration": 241,
    "start_time": "2022-07-28T22:26:51.438Z"
   },
   {
    "duration": 9,
    "start_time": "2022-07-28T22:27:59.281Z"
   },
   {
    "duration": 43,
    "start_time": "2022-07-28T22:28:04.785Z"
   },
   {
    "duration": 19,
    "start_time": "2022-07-28T22:28:11.624Z"
   },
   {
    "duration": 829,
    "start_time": "2022-07-28T22:28:54.339Z"
   },
   {
    "duration": 46,
    "start_time": "2022-07-28T22:29:10.798Z"
   },
   {
    "duration": 18,
    "start_time": "2022-07-28T22:29:12.259Z"
   },
   {
    "duration": 2743,
    "start_time": "2022-07-28T22:29:23.041Z"
   },
   {
    "duration": 4,
    "start_time": "2022-07-28T22:29:25.786Z"
   },
   {
    "duration": 870,
    "start_time": "2022-07-28T22:29:25.792Z"
   },
   {
    "duration": 6,
    "start_time": "2022-07-28T22:29:26.664Z"
   },
   {
    "duration": 33,
    "start_time": "2022-07-28T22:29:26.672Z"
   },
   {
    "duration": 172,
    "start_time": "2022-07-28T22:29:26.707Z"
   },
   {
    "duration": 13,
    "start_time": "2022-07-28T22:29:26.881Z"
   },
   {
    "duration": 39,
    "start_time": "2022-07-28T22:29:26.896Z"
   },
   {
    "duration": 60,
    "start_time": "2022-07-28T22:29:26.940Z"
   },
   {
    "duration": 41,
    "start_time": "2022-07-28T22:29:27.002Z"
   },
   {
    "duration": 40,
    "start_time": "2022-07-28T22:29:27.044Z"
   },
   {
    "duration": 971,
    "start_time": "2022-07-28T22:29:27.086Z"
   },
   {
    "duration": 447,
    "start_time": "2022-07-28T22:29:28.059Z"
   },
   {
    "duration": 462,
    "start_time": "2022-07-28T22:29:28.508Z"
   },
   {
    "duration": 10,
    "start_time": "2022-07-28T22:29:28.972Z"
   },
   {
    "duration": 412,
    "start_time": "2022-07-28T22:29:28.984Z"
   },
   {
    "duration": 57,
    "start_time": "2022-07-28T22:29:29.398Z"
   },
   {
    "duration": 382,
    "start_time": "2022-07-28T22:29:29.457Z"
   },
   {
    "duration": 37,
    "start_time": "2022-07-28T22:29:29.841Z"
   },
   {
    "duration": 64,
    "start_time": "2022-07-28T22:29:29.880Z"
   },
   {
    "duration": 24,
    "start_time": "2022-07-28T22:29:29.946Z"
   },
   {
    "duration": 23,
    "start_time": "2022-07-28T22:29:29.971Z"
   },
   {
    "duration": 53,
    "start_time": "2022-07-28T22:29:29.996Z"
   },
   {
    "duration": 396,
    "start_time": "2022-07-28T22:29:30.051Z"
   },
   {
    "duration": 35,
    "start_time": "2022-07-28T22:29:30.449Z"
   },
   {
    "duration": 759,
    "start_time": "2022-07-28T22:29:30.485Z"
   },
   {
    "duration": 3,
    "start_time": "2022-07-28T22:29:31.247Z"
   },
   {
    "duration": 268,
    "start_time": "2022-07-28T22:29:31.252Z"
   },
   {
    "duration": 244,
    "start_time": "2022-07-28T22:29:45.661Z"
   },
   {
    "duration": 35,
    "start_time": "2022-07-28T22:29:47.641Z"
   },
   {
    "duration": 14,
    "start_time": "2022-07-28T22:29:50.959Z"
   },
   {
    "duration": 795,
    "start_time": "2022-07-28T22:31:48.768Z"
   },
   {
    "duration": 2776,
    "start_time": "2022-07-28T22:32:45.938Z"
   },
   {
    "duration": 3,
    "start_time": "2022-07-28T22:32:48.717Z"
   },
   {
    "duration": 495,
    "start_time": "2022-07-28T22:32:48.722Z"
   },
   {
    "duration": 8,
    "start_time": "2022-07-28T22:32:49.219Z"
   },
   {
    "duration": 30,
    "start_time": "2022-07-28T22:32:49.235Z"
   },
   {
    "duration": 150,
    "start_time": "2022-07-28T22:32:49.266Z"
   },
   {
    "duration": 19,
    "start_time": "2022-07-28T22:32:49.423Z"
   },
   {
    "duration": 14,
    "start_time": "2022-07-28T22:32:49.444Z"
   },
   {
    "duration": 76,
    "start_time": "2022-07-28T22:32:49.460Z"
   },
   {
    "duration": 27,
    "start_time": "2022-07-28T22:32:49.538Z"
   },
   {
    "duration": 37,
    "start_time": "2022-07-28T22:32:49.566Z"
   },
   {
    "duration": 867,
    "start_time": "2022-07-28T22:32:49.626Z"
   },
   {
    "duration": 474,
    "start_time": "2022-07-28T22:32:50.495Z"
   },
   {
    "duration": 441,
    "start_time": "2022-07-28T22:32:50.972Z"
   },
   {
    "duration": 17,
    "start_time": "2022-07-28T22:32:51.414Z"
   },
   {
    "duration": 411,
    "start_time": "2022-07-28T22:32:51.436Z"
   },
   {
    "duration": 43,
    "start_time": "2022-07-28T22:32:51.848Z"
   },
   {
    "duration": 371,
    "start_time": "2022-07-28T22:32:51.893Z"
   },
   {
    "duration": 40,
    "start_time": "2022-07-28T22:32:52.266Z"
   },
   {
    "duration": 74,
    "start_time": "2022-07-28T22:32:52.308Z"
   },
   {
    "duration": 26,
    "start_time": "2022-07-28T22:32:52.384Z"
   },
   {
    "duration": 40,
    "start_time": "2022-07-28T22:32:52.411Z"
   },
   {
    "duration": 33,
    "start_time": "2022-07-28T22:32:52.453Z"
   },
   {
    "duration": 459,
    "start_time": "2022-07-28T22:32:52.488Z"
   },
   {
    "duration": 36,
    "start_time": "2022-07-28T22:32:52.950Z"
   },
   {
    "duration": 884,
    "start_time": "2022-07-28T22:32:52.989Z"
   },
   {
    "duration": 3,
    "start_time": "2022-07-28T22:32:53.876Z"
   },
   {
    "duration": 262,
    "start_time": "2022-07-28T22:32:53.881Z"
   },
   {
    "duration": 272,
    "start_time": "2022-07-28T22:32:56.932Z"
   },
   {
    "duration": 11,
    "start_time": "2022-07-28T22:32:58.116Z"
   },
   {
    "duration": 14,
    "start_time": "2022-07-28T22:32:59.536Z"
   },
   {
    "duration": 379,
    "start_time": "2022-07-28T22:33:02.815Z"
   },
   {
    "duration": 106,
    "start_time": "2022-07-28T22:33:09.436Z"
   },
   {
    "duration": 8,
    "start_time": "2022-07-28T22:33:14.021Z"
   },
   {
    "duration": 88,
    "start_time": "2022-07-28T22:33:14.602Z"
   },
   {
    "duration": 40,
    "start_time": "2022-07-28T22:33:21.840Z"
   },
   {
    "duration": 613,
    "start_time": "2022-07-28T22:35:29.546Z"
   },
   {
    "duration": 121,
    "start_time": "2022-07-28T22:45:22.179Z"
   },
   {
    "duration": 122,
    "start_time": "2022-07-28T22:46:04.510Z"
   },
   {
    "duration": 110,
    "start_time": "2022-07-28T22:46:27.898Z"
   },
   {
    "duration": 106,
    "start_time": "2022-07-28T22:47:35.156Z"
   },
   {
    "duration": 108,
    "start_time": "2022-07-28T22:47:46.656Z"
   },
   {
    "duration": 110,
    "start_time": "2022-07-28T22:49:22.047Z"
   },
   {
    "duration": 114,
    "start_time": "2022-07-28T22:50:26.689Z"
   },
   {
    "duration": 66,
    "start_time": "2022-07-28T22:50:57.941Z"
   },
   {
    "duration": 54,
    "start_time": "2022-07-28T22:51:05.966Z"
   },
   {
    "duration": 141,
    "start_time": "2022-07-28T22:51:17.193Z"
   },
   {
    "duration": 101,
    "start_time": "2022-07-28T22:56:13.375Z"
   },
   {
    "duration": 108,
    "start_time": "2022-07-28T22:56:24.293Z"
   },
   {
    "duration": 101,
    "start_time": "2022-07-28T22:58:11.244Z"
   },
   {
    "duration": 55,
    "start_time": "2022-07-28T23:03:48.219Z"
   },
   {
    "duration": 57,
    "start_time": "2022-07-28T23:05:25.809Z"
   },
   {
    "duration": 11,
    "start_time": "2022-07-28T23:08:25.522Z"
   },
   {
    "duration": 78,
    "start_time": "2022-07-28T23:08:31.660Z"
   },
   {
    "duration": 7,
    "start_time": "2022-07-28T23:08:35.023Z"
   },
   {
    "duration": 6,
    "start_time": "2022-07-28T23:10:06.056Z"
   },
   {
    "duration": 2659,
    "start_time": "2022-07-28T23:23:22.456Z"
   },
   {
    "duration": 1456,
    "start_time": "2022-07-28T23:23:25.117Z"
   },
   {
    "duration": 569,
    "start_time": "2022-07-28T23:23:26.575Z"
   },
   {
    "duration": 6,
    "start_time": "2022-07-28T23:23:27.147Z"
   },
   {
    "duration": 44,
    "start_time": "2022-07-28T23:23:27.155Z"
   },
   {
    "duration": 192,
    "start_time": "2022-07-28T23:23:27.201Z"
   },
   {
    "duration": 12,
    "start_time": "2022-07-28T23:23:27.395Z"
   },
   {
    "duration": 11,
    "start_time": "2022-07-28T23:23:27.424Z"
   },
   {
    "duration": 63,
    "start_time": "2022-07-28T23:23:27.436Z"
   },
   {
    "duration": 40,
    "start_time": "2022-07-28T23:23:27.502Z"
   },
   {
    "duration": 38,
    "start_time": "2022-07-28T23:23:27.544Z"
   },
   {
    "duration": 757,
    "start_time": "2022-07-28T23:23:27.584Z"
   },
   {
    "duration": 423,
    "start_time": "2022-07-28T23:23:28.343Z"
   },
   {
    "duration": 416,
    "start_time": "2022-07-28T23:23:28.768Z"
   },
   {
    "duration": 8,
    "start_time": "2022-07-28T23:23:29.185Z"
   },
   {
    "duration": 410,
    "start_time": "2022-07-28T23:23:29.194Z"
   },
   {
    "duration": 48,
    "start_time": "2022-07-28T23:23:29.605Z"
   },
   {
    "duration": 374,
    "start_time": "2022-07-28T23:23:29.654Z"
   },
   {
    "duration": 42,
    "start_time": "2022-07-28T23:23:30.029Z"
   },
   {
    "duration": 72,
    "start_time": "2022-07-28T23:23:30.072Z"
   },
   {
    "duration": 24,
    "start_time": "2022-07-28T23:23:30.146Z"
   },
   {
    "duration": 25,
    "start_time": "2022-07-28T23:23:30.172Z"
   },
   {
    "duration": 46,
    "start_time": "2022-07-28T23:23:30.198Z"
   },
   {
    "duration": 398,
    "start_time": "2022-07-28T23:23:30.246Z"
   },
   {
    "duration": 32,
    "start_time": "2022-07-28T23:23:30.646Z"
   },
   {
    "duration": 822,
    "start_time": "2022-07-28T23:23:30.680Z"
   },
   {
    "duration": 3,
    "start_time": "2022-07-28T23:23:31.504Z"
   },
   {
    "duration": 246,
    "start_time": "2022-07-28T23:23:31.523Z"
   },
   {
    "duration": 15,
    "start_time": "2022-07-28T23:23:31.772Z"
   },
   {
    "duration": 34,
    "start_time": "2022-07-28T23:23:31.789Z"
   },
   {
    "duration": 371,
    "start_time": "2022-07-28T23:23:31.826Z"
   },
   {
    "duration": 112,
    "start_time": "2022-07-28T23:23:32.198Z"
   },
   {
    "duration": 12,
    "start_time": "2022-07-28T23:23:32.312Z"
   },
   {
    "duration": 86,
    "start_time": "2022-07-28T23:23:32.326Z"
   },
   {
    "duration": 37,
    "start_time": "2022-07-28T23:23:32.424Z"
   },
   {
    "duration": 461,
    "start_time": "2022-07-28T23:23:32.463Z"
   },
   {
    "duration": 116,
    "start_time": "2022-07-28T23:23:32.926Z"
   },
   {
    "duration": 6,
    "start_time": "2022-07-28T23:23:33.043Z"
   },
   {
    "duration": 85,
    "start_time": "2022-07-28T23:23:33.050Z"
   },
   {
    "duration": 68,
    "start_time": "2022-07-28T23:23:33.136Z"
   },
   {
    "duration": 77,
    "start_time": "2022-07-28T23:23:33.206Z"
   },
   {
    "duration": 82,
    "start_time": "2022-07-28T23:23:33.285Z"
   },
   {
    "duration": 78,
    "start_time": "2022-07-28T23:23:33.369Z"
   },
   {
    "duration": 75,
    "start_time": "2022-07-28T23:23:33.449Z"
   },
   {
    "duration": 62,
    "start_time": "2022-07-28T23:23:33.526Z"
   },
   {
    "duration": 78,
    "start_time": "2022-07-28T23:23:33.589Z"
   },
   {
    "duration": 72,
    "start_time": "2022-07-28T23:23:33.668Z"
   },
   {
    "duration": 61,
    "start_time": "2022-07-28T23:23:33.741Z"
   },
   {
    "duration": 70,
    "start_time": "2022-07-28T23:23:33.803Z"
   },
   {
    "duration": 83,
    "start_time": "2022-07-28T23:23:33.875Z"
   },
   {
    "duration": 372,
    "start_time": "2022-07-28T23:23:33.960Z"
   },
   {
    "duration": 4,
    "start_time": "2022-07-28T23:23:34.334Z"
   },
   {
    "duration": 86,
    "start_time": "2022-07-28T23:23:34.339Z"
   },
   {
    "duration": 6,
    "start_time": "2022-07-28T23:23:34.426Z"
   },
   {
    "duration": 10,
    "start_time": "2022-07-28T23:23:34.434Z"
   },
   {
    "duration": 45973,
    "start_time": "2022-07-29T13:15:19.043Z"
   },
   {
    "duration": 1641,
    "start_time": "2022-07-29T13:16:05.018Z"
   },
   {
    "duration": 651,
    "start_time": "2022-07-29T13:16:06.664Z"
   },
   {
    "duration": 106,
    "start_time": "2022-07-29T13:16:07.317Z"
   },
   {
    "duration": 4423,
    "start_time": "2022-07-29T13:17:08.252Z"
   },
   {
    "duration": 1650,
    "start_time": "2022-07-29T13:17:12.687Z"
   },
   {
    "duration": 537,
    "start_time": "2022-07-29T13:17:14.339Z"
   },
   {
    "duration": 6,
    "start_time": "2022-07-29T13:17:14.883Z"
   },
   {
    "duration": 115,
    "start_time": "2022-07-29T13:17:14.894Z"
   },
   {
    "duration": 55,
    "start_time": "2022-07-29T13:17:15.012Z"
   },
   {
    "duration": 272,
    "start_time": "2022-07-29T13:17:15.070Z"
   },
   {
    "duration": 14,
    "start_time": "2022-07-29T13:17:15.344Z"
   },
   {
    "duration": 19,
    "start_time": "2022-07-29T13:17:15.360Z"
   },
   {
    "duration": 121,
    "start_time": "2022-07-29T13:17:15.383Z"
   },
   {
    "duration": 57,
    "start_time": "2022-07-29T13:17:15.510Z"
   },
   {
    "duration": 71,
    "start_time": "2022-07-29T13:17:15.570Z"
   },
   {
    "duration": 967,
    "start_time": "2022-07-29T13:17:15.644Z"
   },
   {
    "duration": 573,
    "start_time": "2022-07-29T13:17:16.615Z"
   },
   {
    "duration": 456,
    "start_time": "2022-07-29T13:17:17.197Z"
   },
   {
    "duration": 25,
    "start_time": "2022-07-29T13:17:17.655Z"
   },
   {
    "duration": 539,
    "start_time": "2022-07-29T13:17:17.682Z"
   },
   {
    "duration": 91,
    "start_time": "2022-07-29T13:17:18.224Z"
   },
   {
    "duration": 425,
    "start_time": "2022-07-29T13:17:18.318Z"
   },
   {
    "duration": 71,
    "start_time": "2022-07-29T13:17:18.745Z"
   },
   {
    "duration": 90,
    "start_time": "2022-07-29T13:17:18.818Z"
   },
   {
    "duration": 38,
    "start_time": "2022-07-29T13:17:18.911Z"
   },
   {
    "duration": 46,
    "start_time": "2022-07-29T13:17:18.951Z"
   },
   {
    "duration": 25,
    "start_time": "2022-07-29T13:17:19.001Z"
   },
   {
    "duration": 374,
    "start_time": "2022-07-29T13:17:19.028Z"
   },
   {
    "duration": 35,
    "start_time": "2022-07-29T13:17:19.406Z"
   },
   {
    "duration": 1148,
    "start_time": "2022-07-29T13:17:19.443Z"
   },
   {
    "duration": 4,
    "start_time": "2022-07-29T13:17:20.595Z"
   },
   {
    "duration": 334,
    "start_time": "2022-07-29T13:17:20.601Z"
   },
   {
    "duration": 11,
    "start_time": "2022-07-29T13:17:20.936Z"
   },
   {
    "duration": 30,
    "start_time": "2022-07-29T13:17:20.949Z"
   },
   {
    "duration": 521,
    "start_time": "2022-07-29T13:17:20.982Z"
   },
   {
    "duration": 135,
    "start_time": "2022-07-29T13:17:21.505Z"
   },
   {
    "duration": 4,
    "start_time": "2022-07-29T13:17:21.643Z"
   },
   {
    "duration": 152,
    "start_time": "2022-07-29T13:17:21.649Z"
   },
   {
    "duration": 43,
    "start_time": "2022-07-29T13:17:21.802Z"
   },
   {
    "duration": 541,
    "start_time": "2022-07-29T13:17:21.847Z"
   },
   {
    "duration": 131,
    "start_time": "2022-07-29T13:17:22.389Z"
   },
   {
    "duration": 6,
    "start_time": "2022-07-29T13:17:22.521Z"
   },
   {
    "duration": 109,
    "start_time": "2022-07-29T13:17:22.528Z"
   },
   {
    "duration": 112,
    "start_time": "2022-07-29T13:17:22.639Z"
   },
   {
    "duration": 97,
    "start_time": "2022-07-29T13:17:22.753Z"
   },
   {
    "duration": 120,
    "start_time": "2022-07-29T13:17:22.852Z"
   },
   {
    "duration": 96,
    "start_time": "2022-07-29T13:17:22.973Z"
   },
   {
    "duration": 92,
    "start_time": "2022-07-29T13:17:23.075Z"
   },
   {
    "duration": 83,
    "start_time": "2022-07-29T13:17:23.170Z"
   },
   {
    "duration": 90,
    "start_time": "2022-07-29T13:17:23.255Z"
   },
   {
    "duration": 95,
    "start_time": "2022-07-29T13:17:23.347Z"
   },
   {
    "duration": 78,
    "start_time": "2022-07-29T13:17:23.444Z"
   },
   {
    "duration": 93,
    "start_time": "2022-07-29T13:17:23.524Z"
   },
   {
    "duration": 81,
    "start_time": "2022-07-29T13:17:23.619Z"
   },
   {
    "duration": 377,
    "start_time": "2022-07-29T13:17:23.702Z"
   },
   {
    "duration": 7,
    "start_time": "2022-07-29T13:17:24.080Z"
   },
   {
    "duration": 136,
    "start_time": "2022-07-29T13:17:24.089Z"
   },
   {
    "duration": 7,
    "start_time": "2022-07-29T13:17:24.228Z"
   },
   {
    "duration": 12,
    "start_time": "2022-07-29T13:17:24.237Z"
   },
   {
    "duration": 9,
    "start_time": "2022-08-09T09:55:00.229Z"
   },
   {
    "duration": 42,
    "start_time": "2022-08-09T09:55:05.089Z"
   },
   {
    "duration": 15326,
    "start_time": "2022-08-09T09:55:11.465Z"
   },
   {
    "duration": 1590,
    "start_time": "2022-08-09T09:55:26.794Z"
   },
   {
    "duration": 701,
    "start_time": "2022-08-09T09:55:28.385Z"
   },
   {
    "duration": 4,
    "start_time": "2022-08-09T09:55:29.088Z"
   },
   {
    "duration": 89,
    "start_time": "2022-08-09T09:55:29.094Z"
   },
   {
    "duration": 34,
    "start_time": "2022-08-09T09:55:29.184Z"
   },
   {
    "duration": 152,
    "start_time": "2022-08-09T09:55:29.219Z"
   },
   {
    "duration": 13,
    "start_time": "2022-08-09T09:55:29.372Z"
   },
   {
    "duration": 28,
    "start_time": "2022-08-09T09:55:29.386Z"
   },
   {
    "duration": 59,
    "start_time": "2022-08-09T09:55:29.416Z"
   },
   {
    "duration": 44,
    "start_time": "2022-08-09T09:55:29.477Z"
   },
   {
    "duration": 39,
    "start_time": "2022-08-09T09:55:29.523Z"
   },
   {
    "duration": 767,
    "start_time": "2022-08-09T09:55:29.564Z"
   },
   {
    "duration": 447,
    "start_time": "2022-08-09T09:55:30.332Z"
   },
   {
    "duration": 434,
    "start_time": "2022-08-09T09:55:30.781Z"
   },
   {
    "duration": 8,
    "start_time": "2022-08-09T09:55:31.217Z"
   },
   {
    "duration": 434,
    "start_time": "2022-08-09T09:55:31.227Z"
   },
   {
    "duration": 81,
    "start_time": "2022-08-09T09:55:31.662Z"
   },
   {
    "duration": 371,
    "start_time": "2022-08-09T09:55:31.745Z"
   },
   {
    "duration": 40,
    "start_time": "2022-08-09T09:55:32.118Z"
   },
   {
    "duration": 72,
    "start_time": "2022-08-09T09:55:32.159Z"
   },
   {
    "duration": 24,
    "start_time": "2022-08-09T09:55:32.233Z"
   },
   {
    "duration": 22,
    "start_time": "2022-08-09T09:55:32.259Z"
   },
   {
    "duration": 43,
    "start_time": "2022-08-09T09:55:32.282Z"
   },
   {
    "duration": 396,
    "start_time": "2022-08-09T09:55:32.326Z"
   },
   {
    "duration": 35,
    "start_time": "2022-08-09T09:55:32.725Z"
   },
   {
    "duration": 839,
    "start_time": "2022-08-09T09:55:32.762Z"
   },
   {
    "duration": 3,
    "start_time": "2022-08-09T09:55:33.609Z"
   },
   {
    "duration": 271,
    "start_time": "2022-08-09T09:55:33.614Z"
   },
   {
    "duration": 31,
    "start_time": "2022-08-09T09:55:33.886Z"
   },
   {
    "duration": 13,
    "start_time": "2022-08-09T09:55:33.920Z"
   },
   {
    "duration": 494,
    "start_time": "2022-08-09T09:55:33.935Z"
   },
   {
    "duration": 178,
    "start_time": "2022-08-09T09:55:34.431Z"
   },
   {
    "duration": 5,
    "start_time": "2022-08-09T09:55:34.610Z"
   },
   {
    "duration": 86,
    "start_time": "2022-08-09T09:55:34.616Z"
   },
   {
    "duration": 34,
    "start_time": "2022-08-09T09:55:34.709Z"
   },
   {
    "duration": 474,
    "start_time": "2022-08-09T09:55:34.745Z"
   },
   {
    "duration": 114,
    "start_time": "2022-08-09T09:55:35.221Z"
   },
   {
    "duration": 6,
    "start_time": "2022-08-09T09:55:35.336Z"
   },
   {
    "duration": 82,
    "start_time": "2022-08-09T09:55:35.343Z"
   },
   {
    "duration": 65,
    "start_time": "2022-08-09T09:55:35.427Z"
   },
   {
    "duration": 60,
    "start_time": "2022-08-09T09:55:35.509Z"
   },
   {
    "duration": 77,
    "start_time": "2022-08-09T09:55:35.571Z"
   },
   {
    "duration": 83,
    "start_time": "2022-08-09T09:55:35.649Z"
   },
   {
    "duration": 62,
    "start_time": "2022-08-09T09:55:35.733Z"
   },
   {
    "duration": 73,
    "start_time": "2022-08-09T09:55:35.797Z"
   },
   {
    "duration": 92,
    "start_time": "2022-08-09T09:55:35.871Z"
   },
   {
    "duration": 84,
    "start_time": "2022-08-09T09:55:35.965Z"
   },
   {
    "duration": 105,
    "start_time": "2022-08-09T09:55:36.051Z"
   },
   {
    "duration": 64,
    "start_time": "2022-08-09T09:55:36.157Z"
   },
   {
    "duration": 59,
    "start_time": "2022-08-09T09:55:36.223Z"
   },
   {
    "duration": 328,
    "start_time": "2022-08-09T09:55:36.284Z"
   },
   {
    "duration": 3,
    "start_time": "2022-08-09T09:55:36.614Z"
   },
   {
    "duration": 85,
    "start_time": "2022-08-09T09:55:36.618Z"
   },
   {
    "duration": 6,
    "start_time": "2022-08-09T09:55:36.708Z"
   },
   {
    "duration": 12,
    "start_time": "2022-08-09T09:55:36.715Z"
   }
  ],
  "kernelspec": {
   "display_name": "Python 3 (ipykernel)",
   "language": "python",
   "name": "python3"
  },
  "language_info": {
   "codemirror_mode": {
    "name": "ipython",
    "version": 3
   },
   "file_extension": ".py",
   "mimetype": "text/x-python",
   "name": "python",
   "nbconvert_exporter": "python",
   "pygments_lexer": "ipython3",
   "version": "3.9.7"
  },
  "toc": {
   "base_numbering": 1,
   "nav_menu": {},
   "number_sections": true,
   "sideBar": true,
   "skip_h1_title": true,
   "title_cell": "Table of Contents",
   "title_sidebar": "Contents",
   "toc_cell": false,
   "toc_position": {
    "height": "calc(100% - 180px)",
    "left": "10px",
    "top": "150px",
    "width": "303.825px"
   },
   "toc_section_display": true,
   "toc_window_display": true
  }
 },
 "nbformat": 4,
 "nbformat_minor": 5
}
