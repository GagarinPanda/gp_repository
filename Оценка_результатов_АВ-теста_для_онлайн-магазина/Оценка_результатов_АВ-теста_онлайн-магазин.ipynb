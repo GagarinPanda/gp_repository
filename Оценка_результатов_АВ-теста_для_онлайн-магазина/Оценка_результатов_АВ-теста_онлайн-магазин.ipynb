{
 "cells": [
  {
   "cell_type": "markdown",
   "metadata": {},
   "source": [
    "# Оценка результатов А/В-теста для онлайн магазина"
   ]
  },
  {
   "cell_type": "markdown",
   "metadata": {},
   "source": [
    "## Описание проекта"
   ]
  },
  {
   "cell_type": "markdown",
   "metadata": {},
   "source": [
    "### Цель исследования"
   ]
  },
  {
   "cell_type": "markdown",
   "metadata": {},
   "source": [
    "Оценка результатов A/В-теста."
   ]
  },
  {
   "cell_type": "markdown",
   "metadata": {},
   "source": [
    "### Техническое задание для А/В-теста"
   ]
  },
  {
   "cell_type": "markdown",
   "metadata": {},
   "source": [
    "- Название теста: recommender_system_test.\n",
    "- Группы: А (контрольная), B (новая платёжная воронка).\n",
    "- Дата запуска: 2020-12-07.\n",
    "- Дата остановки набора новых пользователей: 2020-12-21.\n",
    "- Дата остановки: 2021-01-04.\n",
    "- Аудитория: 15% новых пользователей из региона EU.\n",
    "- Назначение теста: тестирование изменений, связанных с внедрением улучшенной рекомендательной системы.\n",
    "- Ожидаемое количество участников теста: 6000.\n",
    "- Ожидаемый эффект: за 14 дней с момента регистрации в системе пользователи покажут улучшение каждой метрики не менее, чем на - 10%:\n",
    "    - конверсии в просмотр карточек товаров — событие product_page;\n",
    "    - просмотры корзины — product_cart;\n",
    "    - покупки — purchase."
   ]
  },
  {
   "cell_type": "markdown",
   "metadata": {},
   "source": [
    "### Описание данных"
   ]
  },
  {
   "cell_type": "markdown",
   "metadata": {},
   "source": [
    "- *ab_project_marketing_events.csv* — календарь маркетинговых событий на 2020 год:\n",
    "    - `name` — название маркетингового события;\n",
    "    - `regions` — регионы, в которых будет проводиться рекламная кампания;\n",
    "    - `start_dt` — дата начала кампании;\n",
    "    - `finish_dt` — дата завершения кампании.\n",
    "- *final_ab_new_users.csv* — все пользователи, зарегистрировавшиеся в интернет-магазине в период с 7 по 21 декабря 2020 года:\n",
    "    - `user_id` — идентификатор пользователя;\n",
    "    - `first_date` — дата регистрации;\n",
    "    - `region` — регион пользователя;\n",
    "    - `device` — устройство, с которого происходила регистрация.\n",
    "- *final_ab_events.csv* — все события новых пользователей в период с 7 декабря 2020 по 4 января 2021 года:\n",
    "    - `user_id` — идентификатор пользователя;\n",
    "    - `event_dt` — дата и время события;\n",
    "    - `event_name` — тип события;\n",
    "    - `details` — дополнительные данные о событии.\n",
    "- *final_ab_participants.csv* — таблица участников тестов:\n",
    "    - `user_id` — идентификатор пользователя;\n",
    "    - `ab_test` — название теста;\n",
    "    - `group` — группа пользователя."
   ]
  },
  {
   "cell_type": "markdown",
   "metadata": {},
   "source": [
    "### Ход выполнения"
   ]
  },
  {
   "cell_type": "markdown",
   "metadata": {},
   "source": [
    "1. Предобработка данных.\n",
    "2. Оценка корректности проведения А/В-теста:\n",
    "   - проверка соответствию требованиям технического задания;\n",
    "   - проверка совпадения времени проведения теста с маркетинговыми активностями;\n",
    "   - проверка корректности распределения пользователей по тестовым группам.\n",
    "3. Исследовательский анализ данных:\n",
    "   - распределение количества событий на пользователя в выборках;\n",
    "   - распределение количества событий по дням в выборках;\n",
    "   - изменение конверсии на разных этапах воронки событий в выборках.\n",
    "4. Оценка результатов А/В-теста:\n",
    "   - анализ результатов теста;\n",
    "   - проверка статистической разницы долей в выборках z-тестом.\n",
    "5. Общие выводы."
   ]
  },
  {
   "cell_type": "markdown",
   "metadata": {},
   "source": [
    "## Предобработка данных"
   ]
  },
  {
   "cell_type": "markdown",
   "metadata": {},
   "source": [
    "## Загрузка и получение общей информации о данных"
   ]
  },
  {
   "cell_type": "code",
   "execution_count": 45,
   "metadata": {},
   "outputs": [],
   "source": [
    "#импорт библиотек\n",
    "import pandas as pd\n",
    "import datetime as dt\n",
    "import matplotlib.pyplot as plt\n",
    "import seaborn as sns\n",
    "from plotly import graph_objects as go\n",
    "from scipy import stats as st\n",
    "import numpy as np\n",
    "import math as mth\n",
    "pd.set_option('display.float_format', '{:,.2f}'.format)"
   ]
  },
  {
   "cell_type": "code",
   "execution_count": 46,
   "metadata": {},
   "outputs": [],
   "source": [
    "#загрузка датасетов\n",
    "marketing_events = pd.read_csv('/datasets/ab_project_marketing_events.csv', parse_dates=['start_dt', 'finish_dt'])\n",
    "ab_new_users = pd.read_csv('/datasets/final_ab_new_users.csv', parse_dates=['first_date'])\n",
    "ab_events = pd.read_csv('/datasets/final_ab_events.csv', parse_dates=['event_dt'])\n",
    "ab_participants = pd.read_csv('/datasets/final_ab_participants.csv')"
   ]
  },
  {
   "cell_type": "code",
   "execution_count": 47,
   "metadata": {},
   "outputs": [],
   "source": [
    "def information(df): #функция для получения общих сведений о датафрейме\n",
    "    print('\\033[1m' + 'Общая информация:' + '\\033[0m')\n",
    "    df.info()\n",
    "    print()\n",
    "    print('\\033[1m' + 'Первые 2 строки:' + '\\033[0m')\n",
    "    display(df.head(2))\n",
    "    print('\\033[1m' + 'Количество дубликатов:' + '\\033[0m', df.duplicated().sum())\n",
    "    print()\n",
    "    print('\\033[1m' + 'Количество пропусков:' + '\\033[0m')\n",
    "    display(df.isna().sum())\n",
    "    print('\\033[1m' + 'Доля пропусков:' + '\\033[0m')\n",
    "    print(df.isna().sum() / len(df))"
   ]
  },
  {
   "cell_type": "markdown",
   "metadata": {},
   "source": [
    "### Календарь маркетинговых событий"
   ]
  },
  {
   "cell_type": "code",
   "execution_count": 48,
   "metadata": {},
   "outputs": [
    {
     "name": "stdout",
     "output_type": "stream",
     "text": [
      "\u001b[1mОбщая информация:\u001b[0m\n",
      "<class 'pandas.core.frame.DataFrame'>\n",
      "RangeIndex: 14 entries, 0 to 13\n",
      "Data columns (total 4 columns):\n",
      " #   Column     Non-Null Count  Dtype         \n",
      "---  ------     --------------  -----         \n",
      " 0   name       14 non-null     object        \n",
      " 1   regions    14 non-null     object        \n",
      " 2   start_dt   14 non-null     datetime64[ns]\n",
      " 3   finish_dt  14 non-null     datetime64[ns]\n",
      "dtypes: datetime64[ns](2), object(2)\n",
      "memory usage: 576.0+ bytes\n",
      "\n",
      "\u001b[1mПервые 2 строки:\u001b[0m\n"
     ]
    },
    {
     "data": {
      "text/html": [
       "<div>\n",
       "<style scoped>\n",
       "    .dataframe tbody tr th:only-of-type {\n",
       "        vertical-align: middle;\n",
       "    }\n",
       "\n",
       "    .dataframe tbody tr th {\n",
       "        vertical-align: top;\n",
       "    }\n",
       "\n",
       "    .dataframe thead th {\n",
       "        text-align: right;\n",
       "    }\n",
       "</style>\n",
       "<table border=\"1\" class=\"dataframe\">\n",
       "  <thead>\n",
       "    <tr style=\"text-align: right;\">\n",
       "      <th></th>\n",
       "      <th>name</th>\n",
       "      <th>regions</th>\n",
       "      <th>start_dt</th>\n",
       "      <th>finish_dt</th>\n",
       "    </tr>\n",
       "  </thead>\n",
       "  <tbody>\n",
       "    <tr>\n",
       "      <th>0</th>\n",
       "      <td>Christmas&amp;New Year Promo</td>\n",
       "      <td>EU, N.America</td>\n",
       "      <td>2020-12-25</td>\n",
       "      <td>2021-01-03</td>\n",
       "    </tr>\n",
       "    <tr>\n",
       "      <th>1</th>\n",
       "      <td>St. Valentine's Day Giveaway</td>\n",
       "      <td>EU, CIS, APAC, N.America</td>\n",
       "      <td>2020-02-14</td>\n",
       "      <td>2020-02-16</td>\n",
       "    </tr>\n",
       "  </tbody>\n",
       "</table>\n",
       "</div>"
      ],
      "text/plain": [
       "                           name                   regions   start_dt  \\\n",
       "0      Christmas&New Year Promo             EU, N.America 2020-12-25   \n",
       "1  St. Valentine's Day Giveaway  EU, CIS, APAC, N.America 2020-02-14   \n",
       "\n",
       "   finish_dt  \n",
       "0 2021-01-03  \n",
       "1 2020-02-16  "
      ]
     },
     "metadata": {},
     "output_type": "display_data"
    },
    {
     "name": "stdout",
     "output_type": "stream",
     "text": [
      "\u001b[1mКоличество дубликатов:\u001b[0m 0\n",
      "\n",
      "\u001b[1mКоличество пропусков:\u001b[0m\n"
     ]
    },
    {
     "data": {
      "text/plain": [
       "name         0\n",
       "regions      0\n",
       "start_dt     0\n",
       "finish_dt    0\n",
       "dtype: int64"
      ]
     },
     "metadata": {},
     "output_type": "display_data"
    },
    {
     "name": "stdout",
     "output_type": "stream",
     "text": [
      "\u001b[1mДоля пропусков:\u001b[0m\n",
      "name        0.00\n",
      "regions     0.00\n",
      "start_dt    0.00\n",
      "finish_dt   0.00\n",
      "dtype: float64\n"
     ]
    }
   ],
   "source": [
    "information(marketing_events)"
   ]
  },
  {
   "cell_type": "code",
   "execution_count": 49,
   "metadata": {},
   "outputs": [
    {
     "data": {
      "text/html": [
       "<div>\n",
       "<style scoped>\n",
       "    .dataframe tbody tr th:only-of-type {\n",
       "        vertical-align: middle;\n",
       "    }\n",
       "\n",
       "    .dataframe tbody tr th {\n",
       "        vertical-align: top;\n",
       "    }\n",
       "\n",
       "    .dataframe thead th {\n",
       "        text-align: right;\n",
       "    }\n",
       "</style>\n",
       "<table border=\"1\" class=\"dataframe\">\n",
       "  <thead>\n",
       "    <tr style=\"text-align: right;\">\n",
       "      <th></th>\n",
       "      <th>name</th>\n",
       "      <th>regions</th>\n",
       "      <th>start_dt</th>\n",
       "      <th>finish_dt</th>\n",
       "    </tr>\n",
       "  </thead>\n",
       "  <tbody>\n",
       "    <tr>\n",
       "      <th>0</th>\n",
       "      <td>Christmas&amp;New Year Promo</td>\n",
       "      <td>EU, N.America</td>\n",
       "      <td>2020-12-25</td>\n",
       "      <td>2021-01-03</td>\n",
       "    </tr>\n",
       "    <tr>\n",
       "      <th>1</th>\n",
       "      <td>St. Valentine's Day Giveaway</td>\n",
       "      <td>EU, CIS, APAC, N.America</td>\n",
       "      <td>2020-02-14</td>\n",
       "      <td>2020-02-16</td>\n",
       "    </tr>\n",
       "    <tr>\n",
       "      <th>2</th>\n",
       "      <td>St. Patric's Day Promo</td>\n",
       "      <td>EU, N.America</td>\n",
       "      <td>2020-03-17</td>\n",
       "      <td>2020-03-19</td>\n",
       "    </tr>\n",
       "    <tr>\n",
       "      <th>3</th>\n",
       "      <td>Easter Promo</td>\n",
       "      <td>EU, CIS, APAC, N.America</td>\n",
       "      <td>2020-04-12</td>\n",
       "      <td>2020-04-19</td>\n",
       "    </tr>\n",
       "    <tr>\n",
       "      <th>4</th>\n",
       "      <td>4th of July Promo</td>\n",
       "      <td>N.America</td>\n",
       "      <td>2020-07-04</td>\n",
       "      <td>2020-07-11</td>\n",
       "    </tr>\n",
       "    <tr>\n",
       "      <th>5</th>\n",
       "      <td>Black Friday Ads Campaign</td>\n",
       "      <td>EU, CIS, APAC, N.America</td>\n",
       "      <td>2020-11-26</td>\n",
       "      <td>2020-12-01</td>\n",
       "    </tr>\n",
       "    <tr>\n",
       "      <th>6</th>\n",
       "      <td>Chinese New Year Promo</td>\n",
       "      <td>APAC</td>\n",
       "      <td>2020-01-25</td>\n",
       "      <td>2020-02-07</td>\n",
       "    </tr>\n",
       "    <tr>\n",
       "      <th>7</th>\n",
       "      <td>Labor day (May 1st) Ads Campaign</td>\n",
       "      <td>EU, CIS, APAC</td>\n",
       "      <td>2020-05-01</td>\n",
       "      <td>2020-05-03</td>\n",
       "    </tr>\n",
       "    <tr>\n",
       "      <th>8</th>\n",
       "      <td>International Women's Day Promo</td>\n",
       "      <td>EU, CIS, APAC</td>\n",
       "      <td>2020-03-08</td>\n",
       "      <td>2020-03-10</td>\n",
       "    </tr>\n",
       "    <tr>\n",
       "      <th>9</th>\n",
       "      <td>Victory Day CIS (May 9th) Event</td>\n",
       "      <td>CIS</td>\n",
       "      <td>2020-05-09</td>\n",
       "      <td>2020-05-11</td>\n",
       "    </tr>\n",
       "    <tr>\n",
       "      <th>10</th>\n",
       "      <td>CIS New Year Gift Lottery</td>\n",
       "      <td>CIS</td>\n",
       "      <td>2020-12-30</td>\n",
       "      <td>2021-01-07</td>\n",
       "    </tr>\n",
       "    <tr>\n",
       "      <th>11</th>\n",
       "      <td>Dragon Boat Festival Giveaway</td>\n",
       "      <td>APAC</td>\n",
       "      <td>2020-06-25</td>\n",
       "      <td>2020-07-01</td>\n",
       "    </tr>\n",
       "    <tr>\n",
       "      <th>12</th>\n",
       "      <td>Single's Day Gift Promo</td>\n",
       "      <td>APAC</td>\n",
       "      <td>2020-11-11</td>\n",
       "      <td>2020-11-12</td>\n",
       "    </tr>\n",
       "    <tr>\n",
       "      <th>13</th>\n",
       "      <td>Chinese Moon Festival</td>\n",
       "      <td>APAC</td>\n",
       "      <td>2020-10-01</td>\n",
       "      <td>2020-10-07</td>\n",
       "    </tr>\n",
       "  </tbody>\n",
       "</table>\n",
       "</div>"
      ],
      "text/plain": [
       "                                name                   regions   start_dt  \\\n",
       "0           Christmas&New Year Promo             EU, N.America 2020-12-25   \n",
       "1       St. Valentine's Day Giveaway  EU, CIS, APAC, N.America 2020-02-14   \n",
       "2             St. Patric's Day Promo             EU, N.America 2020-03-17   \n",
       "3                       Easter Promo  EU, CIS, APAC, N.America 2020-04-12   \n",
       "4                  4th of July Promo                 N.America 2020-07-04   \n",
       "5          Black Friday Ads Campaign  EU, CIS, APAC, N.America 2020-11-26   \n",
       "6             Chinese New Year Promo                      APAC 2020-01-25   \n",
       "7   Labor day (May 1st) Ads Campaign             EU, CIS, APAC 2020-05-01   \n",
       "8    International Women's Day Promo             EU, CIS, APAC 2020-03-08   \n",
       "9    Victory Day CIS (May 9th) Event                       CIS 2020-05-09   \n",
       "10         CIS New Year Gift Lottery                       CIS 2020-12-30   \n",
       "11     Dragon Boat Festival Giveaway                      APAC 2020-06-25   \n",
       "12           Single's Day Gift Promo                      APAC 2020-11-11   \n",
       "13             Chinese Moon Festival                      APAC 2020-10-01   \n",
       "\n",
       "    finish_dt  \n",
       "0  2021-01-03  \n",
       "1  2020-02-16  \n",
       "2  2020-03-19  \n",
       "3  2020-04-19  \n",
       "4  2020-07-11  \n",
       "5  2020-12-01  \n",
       "6  2020-02-07  \n",
       "7  2020-05-03  \n",
       "8  2020-03-10  \n",
       "9  2020-05-11  \n",
       "10 2021-01-07  \n",
       "11 2020-07-01  \n",
       "12 2020-11-12  \n",
       "13 2020-10-07  "
      ]
     },
     "execution_count": 49,
     "metadata": {},
     "output_type": "execute_result"
    }
   ],
   "source": [
    "marketing_events"
   ]
  },
  {
   "cell_type": "markdown",
   "metadata": {},
   "source": [
    "В 2020 году состоялось 14 маркетинговых событий, в т.ч. 7 в EU регионе. В датафрейме отсутствуют пропуски и дубликаты."
   ]
  },
  {
   "cell_type": "markdown",
   "metadata": {},
   "source": [
    "### Зарегистрировавшиеся пользователи с 7.12.2020 по 21.12.2020"
   ]
  },
  {
   "cell_type": "code",
   "execution_count": 50,
   "metadata": {},
   "outputs": [
    {
     "name": "stdout",
     "output_type": "stream",
     "text": [
      "\u001b[1mОбщая информация:\u001b[0m\n",
      "<class 'pandas.core.frame.DataFrame'>\n",
      "RangeIndex: 61733 entries, 0 to 61732\n",
      "Data columns (total 4 columns):\n",
      " #   Column      Non-Null Count  Dtype         \n",
      "---  ------      --------------  -----         \n",
      " 0   user_id     61733 non-null  object        \n",
      " 1   first_date  61733 non-null  datetime64[ns]\n",
      " 2   region      61733 non-null  object        \n",
      " 3   device      61733 non-null  object        \n",
      "dtypes: datetime64[ns](1), object(3)\n",
      "memory usage: 1.9+ MB\n",
      "\n",
      "\u001b[1mПервые 2 строки:\u001b[0m\n"
     ]
    },
    {
     "data": {
      "text/html": [
       "<div>\n",
       "<style scoped>\n",
       "    .dataframe tbody tr th:only-of-type {\n",
       "        vertical-align: middle;\n",
       "    }\n",
       "\n",
       "    .dataframe tbody tr th {\n",
       "        vertical-align: top;\n",
       "    }\n",
       "\n",
       "    .dataframe thead th {\n",
       "        text-align: right;\n",
       "    }\n",
       "</style>\n",
       "<table border=\"1\" class=\"dataframe\">\n",
       "  <thead>\n",
       "    <tr style=\"text-align: right;\">\n",
       "      <th></th>\n",
       "      <th>user_id</th>\n",
       "      <th>first_date</th>\n",
       "      <th>region</th>\n",
       "      <th>device</th>\n",
       "    </tr>\n",
       "  </thead>\n",
       "  <tbody>\n",
       "    <tr>\n",
       "      <th>0</th>\n",
       "      <td>D72A72121175D8BE</td>\n",
       "      <td>2020-12-07</td>\n",
       "      <td>EU</td>\n",
       "      <td>PC</td>\n",
       "    </tr>\n",
       "    <tr>\n",
       "      <th>1</th>\n",
       "      <td>F1C668619DFE6E65</td>\n",
       "      <td>2020-12-07</td>\n",
       "      <td>N.America</td>\n",
       "      <td>Android</td>\n",
       "    </tr>\n",
       "  </tbody>\n",
       "</table>\n",
       "</div>"
      ],
      "text/plain": [
       "            user_id first_date     region   device\n",
       "0  D72A72121175D8BE 2020-12-07         EU       PC\n",
       "1  F1C668619DFE6E65 2020-12-07  N.America  Android"
      ]
     },
     "metadata": {},
     "output_type": "display_data"
    },
    {
     "name": "stdout",
     "output_type": "stream",
     "text": [
      "\u001b[1mКоличество дубликатов:\u001b[0m 0\n",
      "\n",
      "\u001b[1mКоличество пропусков:\u001b[0m\n"
     ]
    },
    {
     "data": {
      "text/plain": [
       "user_id       0\n",
       "first_date    0\n",
       "region        0\n",
       "device        0\n",
       "dtype: int64"
      ]
     },
     "metadata": {},
     "output_type": "display_data"
    },
    {
     "name": "stdout",
     "output_type": "stream",
     "text": [
      "\u001b[1mДоля пропусков:\u001b[0m\n",
      "user_id      0.00\n",
      "first_date   0.00\n",
      "region       0.00\n",
      "device       0.00\n",
      "dtype: float64\n"
     ]
    }
   ],
   "source": [
    "information(ab_new_users)"
   ]
  },
  {
   "cell_type": "markdown",
   "metadata": {},
   "source": [
    "В представленом датафрейме информация о 61733 новых пользователях, зарегистрировавшихся с 7.12.2020 по 21.12.2020. Пропуски и дубликаты отсутствуют."
   ]
  },
  {
   "cell_type": "markdown",
   "metadata": {},
   "source": [
    "### События новых пользователей с 7.12.2020 по 4.01.2021"
   ]
  },
  {
   "cell_type": "code",
   "execution_count": 51,
   "metadata": {},
   "outputs": [
    {
     "name": "stdout",
     "output_type": "stream",
     "text": [
      "\u001b[1mОбщая информация:\u001b[0m\n",
      "<class 'pandas.core.frame.DataFrame'>\n",
      "RangeIndex: 440317 entries, 0 to 440316\n",
      "Data columns (total 4 columns):\n",
      " #   Column      Non-Null Count   Dtype         \n",
      "---  ------      --------------   -----         \n",
      " 0   user_id     440317 non-null  object        \n",
      " 1   event_dt    440317 non-null  datetime64[ns]\n",
      " 2   event_name  440317 non-null  object        \n",
      " 3   details     62740 non-null   float64       \n",
      "dtypes: datetime64[ns](1), float64(1), object(2)\n",
      "memory usage: 13.4+ MB\n",
      "\n",
      "\u001b[1mПервые 2 строки:\u001b[0m\n"
     ]
    },
    {
     "data": {
      "text/html": [
       "<div>\n",
       "<style scoped>\n",
       "    .dataframe tbody tr th:only-of-type {\n",
       "        vertical-align: middle;\n",
       "    }\n",
       "\n",
       "    .dataframe tbody tr th {\n",
       "        vertical-align: top;\n",
       "    }\n",
       "\n",
       "    .dataframe thead th {\n",
       "        text-align: right;\n",
       "    }\n",
       "</style>\n",
       "<table border=\"1\" class=\"dataframe\">\n",
       "  <thead>\n",
       "    <tr style=\"text-align: right;\">\n",
       "      <th></th>\n",
       "      <th>user_id</th>\n",
       "      <th>event_dt</th>\n",
       "      <th>event_name</th>\n",
       "      <th>details</th>\n",
       "    </tr>\n",
       "  </thead>\n",
       "  <tbody>\n",
       "    <tr>\n",
       "      <th>0</th>\n",
       "      <td>E1BDDCE0DAFA2679</td>\n",
       "      <td>2020-12-07 20:22:03</td>\n",
       "      <td>purchase</td>\n",
       "      <td>99.99</td>\n",
       "    </tr>\n",
       "    <tr>\n",
       "      <th>1</th>\n",
       "      <td>7B6452F081F49504</td>\n",
       "      <td>2020-12-07 09:22:53</td>\n",
       "      <td>purchase</td>\n",
       "      <td>9.99</td>\n",
       "    </tr>\n",
       "  </tbody>\n",
       "</table>\n",
       "</div>"
      ],
      "text/plain": [
       "            user_id            event_dt event_name  details\n",
       "0  E1BDDCE0DAFA2679 2020-12-07 20:22:03   purchase    99.99\n",
       "1  7B6452F081F49504 2020-12-07 09:22:53   purchase     9.99"
      ]
     },
     "metadata": {},
     "output_type": "display_data"
    },
    {
     "name": "stdout",
     "output_type": "stream",
     "text": [
      "\u001b[1mКоличество дубликатов:\u001b[0m 0\n",
      "\n",
      "\u001b[1mКоличество пропусков:\u001b[0m\n"
     ]
    },
    {
     "data": {
      "text/plain": [
       "user_id            0\n",
       "event_dt           0\n",
       "event_name         0\n",
       "details       377577\n",
       "dtype: int64"
      ]
     },
     "metadata": {},
     "output_type": "display_data"
    },
    {
     "name": "stdout",
     "output_type": "stream",
     "text": [
      "\u001b[1mДоля пропусков:\u001b[0m\n",
      "user_id      0.00\n",
      "event_dt     0.00\n",
      "event_name   0.00\n",
      "details      0.86\n",
      "dtype: float64\n"
     ]
    }
   ],
   "source": [
    "information(ab_events)"
   ]
  },
  {
   "cell_type": "markdown",
   "metadata": {},
   "source": [
    "Датафрейм содержит сведения о 440317 событиях. Дубликаты отсутствуют, но в столбце `details` 377577 пропусков, что составляет 86%. Эти пропуски обусловлены тем, что данный столбец содержит дополнительную информацию о событии, например стоимость покупки, поэтому он вполне модет быть и не заполнен, если речь идёт не о покупке, следовательно данные пропуски не являются аномалией или ошибкой. Однако, стоит проверить все ли покупки имеют информацию о стоимости."
   ]
  },
  {
   "cell_type": "code",
   "execution_count": 52,
   "metadata": {},
   "outputs": [
    {
     "data": {
      "text/plain": [
       "0"
      ]
     },
     "execution_count": 52,
     "metadata": {},
     "output_type": "execute_result"
    }
   ],
   "source": [
    "ab_events.query('event_name == \"purchase\"')['details'].isna().sum()"
   ]
  },
  {
   "cell_type": "markdown",
   "metadata": {},
   "source": [
    "Мы убедились, что все покупки имеют информацию о стоимости в столбце `details`"
   ]
  },
  {
   "cell_type": "markdown",
   "metadata": {},
   "source": [
    "### Таблица участников теста"
   ]
  },
  {
   "cell_type": "code",
   "execution_count": 53,
   "metadata": {},
   "outputs": [
    {
     "name": "stdout",
     "output_type": "stream",
     "text": [
      "\u001b[1mОбщая информация:\u001b[0m\n",
      "<class 'pandas.core.frame.DataFrame'>\n",
      "RangeIndex: 18268 entries, 0 to 18267\n",
      "Data columns (total 3 columns):\n",
      " #   Column   Non-Null Count  Dtype \n",
      "---  ------   --------------  ----- \n",
      " 0   user_id  18268 non-null  object\n",
      " 1   group    18268 non-null  object\n",
      " 2   ab_test  18268 non-null  object\n",
      "dtypes: object(3)\n",
      "memory usage: 428.3+ KB\n",
      "\n",
      "\u001b[1mПервые 2 строки:\u001b[0m\n"
     ]
    },
    {
     "data": {
      "text/html": [
       "<div>\n",
       "<style scoped>\n",
       "    .dataframe tbody tr th:only-of-type {\n",
       "        vertical-align: middle;\n",
       "    }\n",
       "\n",
       "    .dataframe tbody tr th {\n",
       "        vertical-align: top;\n",
       "    }\n",
       "\n",
       "    .dataframe thead th {\n",
       "        text-align: right;\n",
       "    }\n",
       "</style>\n",
       "<table border=\"1\" class=\"dataframe\">\n",
       "  <thead>\n",
       "    <tr style=\"text-align: right;\">\n",
       "      <th></th>\n",
       "      <th>user_id</th>\n",
       "      <th>group</th>\n",
       "      <th>ab_test</th>\n",
       "    </tr>\n",
       "  </thead>\n",
       "  <tbody>\n",
       "    <tr>\n",
       "      <th>0</th>\n",
       "      <td>D1ABA3E2887B6A73</td>\n",
       "      <td>A</td>\n",
       "      <td>recommender_system_test</td>\n",
       "    </tr>\n",
       "    <tr>\n",
       "      <th>1</th>\n",
       "      <td>A7A3664BD6242119</td>\n",
       "      <td>A</td>\n",
       "      <td>recommender_system_test</td>\n",
       "    </tr>\n",
       "  </tbody>\n",
       "</table>\n",
       "</div>"
      ],
      "text/plain": [
       "            user_id group                  ab_test\n",
       "0  D1ABA3E2887B6A73     A  recommender_system_test\n",
       "1  A7A3664BD6242119     A  recommender_system_test"
      ]
     },
     "metadata": {},
     "output_type": "display_data"
    },
    {
     "name": "stdout",
     "output_type": "stream",
     "text": [
      "\u001b[1mКоличество дубликатов:\u001b[0m 0\n",
      "\n",
      "\u001b[1mКоличество пропусков:\u001b[0m\n"
     ]
    },
    {
     "data": {
      "text/plain": [
       "user_id    0\n",
       "group      0\n",
       "ab_test    0\n",
       "dtype: int64"
      ]
     },
     "metadata": {},
     "output_type": "display_data"
    },
    {
     "name": "stdout",
     "output_type": "stream",
     "text": [
      "\u001b[1mДоля пропусков:\u001b[0m\n",
      "user_id   0.00\n",
      "group     0.00\n",
      "ab_test   0.00\n",
      "dtype: float64\n"
     ]
    }
   ],
   "source": [
    "information(ab_participants)"
   ]
  },
  {
   "cell_type": "markdown",
   "metadata": {},
   "source": [
    "В таблице участников теста отсутствуют пропуски и дубликаты."
   ]
  },
  {
   "cell_type": "markdown",
   "metadata": {},
   "source": [
    "## Промежуточный вывод"
   ]
  },
  {
   "cell_type": "markdown",
   "metadata": {},
   "source": [
    "Из представленных датафреймов только в *ab_events* в столбце `details` наблюдаются пропуски (86%), но они не носят аномального характера. Столбцы содержащие даты были приведены к необходимому формату (datetime) при загрузке файлов."
   ]
  },
  {
   "cell_type": "markdown",
   "metadata": {},
   "source": [
    "# Оценка корректности проведения A/В-теста"
   ]
  },
  {
   "cell_type": "markdown",
   "metadata": {},
   "source": [
    "## Проверка соответствия требованиям технического задания"
   ]
  },
  {
   "cell_type": "markdown",
   "metadata": {},
   "source": [
    "### Название теста: recommender_system_test"
   ]
  },
  {
   "cell_type": "code",
   "execution_count": 54,
   "metadata": {},
   "outputs": [
    {
     "data": {
      "text/html": [
       "<div>\n",
       "<style scoped>\n",
       "    .dataframe tbody tr th:only-of-type {\n",
       "        vertical-align: middle;\n",
       "    }\n",
       "\n",
       "    .dataframe tbody tr th {\n",
       "        vertical-align: top;\n",
       "    }\n",
       "\n",
       "    .dataframe thead th {\n",
       "        text-align: right;\n",
       "    }\n",
       "</style>\n",
       "<table border=\"1\" class=\"dataframe\">\n",
       "  <thead>\n",
       "    <tr style=\"text-align: right;\">\n",
       "      <th></th>\n",
       "      <th>user_id</th>\n",
       "      <th>group</th>\n",
       "      <th>ab_test</th>\n",
       "    </tr>\n",
       "  </thead>\n",
       "  <tbody>\n",
       "    <tr>\n",
       "      <th>0</th>\n",
       "      <td>D1ABA3E2887B6A73</td>\n",
       "      <td>A</td>\n",
       "      <td>recommender_system_test</td>\n",
       "    </tr>\n",
       "    <tr>\n",
       "      <th>1</th>\n",
       "      <td>A7A3664BD6242119</td>\n",
       "      <td>A</td>\n",
       "      <td>recommender_system_test</td>\n",
       "    </tr>\n",
       "    <tr>\n",
       "      <th>2</th>\n",
       "      <td>DABC14FDDFADD29E</td>\n",
       "      <td>A</td>\n",
       "      <td>recommender_system_test</td>\n",
       "    </tr>\n",
       "    <tr>\n",
       "      <th>3</th>\n",
       "      <td>04988C5DF189632E</td>\n",
       "      <td>A</td>\n",
       "      <td>recommender_system_test</td>\n",
       "    </tr>\n",
       "    <tr>\n",
       "      <th>4</th>\n",
       "      <td>482F14783456D21B</td>\n",
       "      <td>B</td>\n",
       "      <td>recommender_system_test</td>\n",
       "    </tr>\n",
       "    <tr>\n",
       "      <th>...</th>\n",
       "      <td>...</td>\n",
       "      <td>...</td>\n",
       "      <td>...</td>\n",
       "    </tr>\n",
       "    <tr>\n",
       "      <th>6696</th>\n",
       "      <td>053FB26D6D49EDDC</td>\n",
       "      <td>A</td>\n",
       "      <td>recommender_system_test</td>\n",
       "    </tr>\n",
       "    <tr>\n",
       "      <th>6697</th>\n",
       "      <td>9D263B8EF15CF188</td>\n",
       "      <td>B</td>\n",
       "      <td>recommender_system_test</td>\n",
       "    </tr>\n",
       "    <tr>\n",
       "      <th>6698</th>\n",
       "      <td>F2FBBA33F37DEC46</td>\n",
       "      <td>A</td>\n",
       "      <td>recommender_system_test</td>\n",
       "    </tr>\n",
       "    <tr>\n",
       "      <th>6699</th>\n",
       "      <td>29C92313A98B1176</td>\n",
       "      <td>B</td>\n",
       "      <td>recommender_system_test</td>\n",
       "    </tr>\n",
       "    <tr>\n",
       "      <th>6700</th>\n",
       "      <td>6715343AFBA285AE</td>\n",
       "      <td>B</td>\n",
       "      <td>recommender_system_test</td>\n",
       "    </tr>\n",
       "  </tbody>\n",
       "</table>\n",
       "<p>6701 rows × 3 columns</p>\n",
       "</div>"
      ],
      "text/plain": [
       "               user_id group                  ab_test\n",
       "0     D1ABA3E2887B6A73     A  recommender_system_test\n",
       "1     A7A3664BD6242119     A  recommender_system_test\n",
       "2     DABC14FDDFADD29E     A  recommender_system_test\n",
       "3     04988C5DF189632E     A  recommender_system_test\n",
       "4     482F14783456D21B     B  recommender_system_test\n",
       "...                ...   ...                      ...\n",
       "6696  053FB26D6D49EDDC     A  recommender_system_test\n",
       "6697  9D263B8EF15CF188     B  recommender_system_test\n",
       "6698  F2FBBA33F37DEC46     A  recommender_system_test\n",
       "6699  29C92313A98B1176     B  recommender_system_test\n",
       "6700  6715343AFBA285AE     B  recommender_system_test\n",
       "\n",
       "[6701 rows x 3 columns]"
      ]
     },
     "execution_count": 54,
     "metadata": {},
     "output_type": "execute_result"
    }
   ],
   "source": [
    "recommender_system_test = ab_participants.query('ab_test == \"recommender_system_test\"')\n",
    "#сохранение данных о тесте в отдельную переменную\n",
    "recommender_system_test"
   ]
  },
  {
   "cell_type": "markdown",
   "metadata": {},
   "source": [
    "Тест с соответствующим названием есть, в нём приняли участие 6701 пользователь. "
   ]
  },
  {
   "cell_type": "markdown",
   "metadata": {},
   "source": [
    "### Группы: А (контрольная), B (новая платёжная воронка);\\"
   ]
  },
  {
   "cell_type": "code",
   "execution_count": 55,
   "metadata": {},
   "outputs": [
    {
     "data": {
      "text/html": [
       "<div>\n",
       "<style scoped>\n",
       "    .dataframe tbody tr th:only-of-type {\n",
       "        vertical-align: middle;\n",
       "    }\n",
       "\n",
       "    .dataframe tbody tr th {\n",
       "        vertical-align: top;\n",
       "    }\n",
       "\n",
       "    .dataframe thead th {\n",
       "        text-align: right;\n",
       "    }\n",
       "</style>\n",
       "<table border=\"1\" class=\"dataframe\">\n",
       "  <thead>\n",
       "    <tr style=\"text-align: right;\">\n",
       "      <th></th>\n",
       "      <th>user_id</th>\n",
       "    </tr>\n",
       "    <tr>\n",
       "      <th>group</th>\n",
       "      <th></th>\n",
       "    </tr>\n",
       "  </thead>\n",
       "  <tbody>\n",
       "    <tr>\n",
       "      <th>A</th>\n",
       "      <td>3824</td>\n",
       "    </tr>\n",
       "    <tr>\n",
       "      <th>B</th>\n",
       "      <td>2877</td>\n",
       "    </tr>\n",
       "  </tbody>\n",
       "</table>\n",
       "</div>"
      ],
      "text/plain": [
       "       user_id\n",
       "group         \n",
       "A         3824\n",
       "B         2877"
      ]
     },
     "execution_count": 55,
     "metadata": {},
     "output_type": "execute_result"
    }
   ],
   "source": [
    "recommender_system_test.groupby('group').agg({'user_id' : 'nunique'})"
   ]
  },
  {
   "cell_type": "markdown",
   "metadata": {},
   "source": [
    "Участники теста разделены на две группы, разделение неравномерное в группе А почти на тысячу пользователей больше."
   ]
  },
  {
   "cell_type": "markdown",
   "metadata": {},
   "source": [
    "### Дата запуска теста: 2020-12-07"
   ]
  },
  {
   "cell_type": "code",
   "execution_count": 56,
   "metadata": {},
   "outputs": [],
   "source": [
    "recommender_system_test = recommender_system_test.merge(ab_events, on='user_id', how='left')\n",
    "#добавление данных о действиях пользователей"
   ]
  },
  {
   "cell_type": "code",
   "execution_count": 57,
   "metadata": {},
   "outputs": [
    {
     "name": "stdout",
     "output_type": "stream",
     "text": [
      "Дата начала теста: 2020-12-07 00:05:57\n"
     ]
    }
   ],
   "source": [
    "print('Дата начала теста:', recommender_system_test['event_dt'].min())"
   ]
  },
  {
   "cell_type": "markdown",
   "metadata": {},
   "source": [
    "Дата начала теста соответствует заявленной в техзадании. "
   ]
  },
  {
   "cell_type": "markdown",
   "metadata": {},
   "source": [
    "### Дата остановки набора новых пользователей: 2020-12-21"
   ]
  },
  {
   "cell_type": "code",
   "execution_count": 58,
   "metadata": {},
   "outputs": [],
   "source": [
    "recommender_system_test = recommender_system_test.merge(ab_new_users, on='user_id', how='left')\n",
    "#добавление данных о регистрации пользователей"
   ]
  },
  {
   "cell_type": "code",
   "execution_count": 59,
   "metadata": {},
   "outputs": [
    {
     "name": "stdout",
     "output_type": "stream",
     "text": [
      "Дата остановки набора новых пользователей 2020-12-21 00:00:00\n"
     ]
    }
   ],
   "source": [
    "print('Дата остановки набора новых пользователей', recommender_system_test['first_date'].max())"
   ]
  },
  {
   "cell_type": "markdown",
   "metadata": {},
   "source": [
    "Дата остановки набора новых пользователей соответствует техническому заданию."
   ]
  },
  {
   "cell_type": "markdown",
   "metadata": {},
   "source": [
    "### Дата остановки теста: 2021-01-04"
   ]
  },
  {
   "cell_type": "code",
   "execution_count": 60,
   "metadata": {},
   "outputs": [
    {
     "name": "stdout",
     "output_type": "stream",
     "text": [
      "Дата остановки теста: 2020-12-30 12:42:57\n"
     ]
    }
   ],
   "source": [
    "print('Дата остановки теста:', recommender_system_test['event_dt'].max())"
   ]
  },
  {
   "cell_type": "markdown",
   "metadata": {},
   "source": [
    "Последнее событие датируется 30.12.2020г., значит тест был остановлен раньше даты заявленной в техническом задании."
   ]
  },
  {
   "cell_type": "markdown",
   "metadata": {},
   "source": [
    "### Аудитория: 15% новых пользователей из региона EU"
   ]
  },
  {
   "cell_type": "code",
   "execution_count": 61,
   "metadata": {},
   "outputs": [
    {
     "data": {
      "text/html": [
       "<div>\n",
       "<style scoped>\n",
       "    .dataframe tbody tr th:only-of-type {\n",
       "        vertical-align: middle;\n",
       "    }\n",
       "\n",
       "    .dataframe tbody tr th {\n",
       "        vertical-align: top;\n",
       "    }\n",
       "\n",
       "    .dataframe thead th {\n",
       "        text-align: right;\n",
       "    }\n",
       "</style>\n",
       "<table border=\"1\" class=\"dataframe\">\n",
       "  <thead>\n",
       "    <tr style=\"text-align: right;\">\n",
       "      <th></th>\n",
       "      <th>user_id</th>\n",
       "    </tr>\n",
       "    <tr>\n",
       "      <th>region</th>\n",
       "      <th></th>\n",
       "    </tr>\n",
       "  </thead>\n",
       "  <tbody>\n",
       "    <tr>\n",
       "      <th>EU</th>\n",
       "      <td>6351</td>\n",
       "    </tr>\n",
       "    <tr>\n",
       "      <th>N.America</th>\n",
       "      <td>223</td>\n",
       "    </tr>\n",
       "    <tr>\n",
       "      <th>APAC</th>\n",
       "      <td>72</td>\n",
       "    </tr>\n",
       "    <tr>\n",
       "      <th>CIS</th>\n",
       "      <td>55</td>\n",
       "    </tr>\n",
       "  </tbody>\n",
       "</table>\n",
       "</div>"
      ],
      "text/plain": [
       "           user_id\n",
       "region            \n",
       "EU            6351\n",
       "N.America      223\n",
       "APAC            72\n",
       "CIS             55"
      ]
     },
     "execution_count": 61,
     "metadata": {},
     "output_type": "execute_result"
    }
   ],
   "source": [
    "recommender_system_test.groupby('region').agg({'user_id' : 'nunique'}).sort_values(by='user_id', ascending=False) \n",
    "#количество участников теста по регионам"
   ]
  },
  {
   "cell_type": "markdown",
   "metadata": {},
   "source": [
    "Большинство участников теста относятся к Европейскому региону (6351), и в общей сложности 350 участников представляют ещё три региона Северная Америка (223), Азиатско-Тихоокеанский регион (72) и СНГ (55)."
   ]
  },
  {
   "cell_type": "code",
   "execution_count": 62,
   "metadata": {},
   "outputs": [
    {
     "name": "stdout",
     "output_type": "stream",
     "text": [
      "Доля новых пользователей из региона EU, среди участников теста: 13.7%\n"
     ]
    }
   ],
   "source": [
    "print('Доля новых пользователей из региона EU, среди участников теста: {:.1%}'.format(recommender_system_test.query(\n",
    "    'region == \"EU\"')['user_id'].nunique() / ab_new_users.query('region == \"EU\"')['user_id'].nunique()))\n",
    "#количество пользователей по регионам"
   ]
  },
  {
   "cell_type": "markdown",
   "metadata": {},
   "source": [
    "Доля участников теста из Европейского региона составляет 13,7% от новых пользователей из данного региона, в то время как по техническому заданию их должно быть 15%.\n",
    "\n",
    "Также в данном пункте технического задания стоило бы уточнить допускается ли участие в тесте пользователей из других регионов."
   ]
  },
  {
   "cell_type": "markdown",
   "metadata": {},
   "source": [
    "### Назначение теста: тестирование изменений, связанных с внедрением улучшенной рекомендательной системы"
   ]
  },
  {
   "cell_type": "markdown",
   "metadata": {},
   "source": [
    "К формулировке назначения теста у меня вопросов не возникло."
   ]
  },
  {
   "cell_type": "markdown",
   "metadata": {},
   "source": [
    "### Ожидаемое количество участников теста: 6000"
   ]
  },
  {
   "cell_type": "code",
   "execution_count": 63,
   "metadata": {},
   "outputs": [
    {
     "data": {
      "text/plain": [
       "6701"
      ]
     },
     "execution_count": 63,
     "metadata": {},
     "output_type": "execute_result"
    }
   ],
   "source": [
    "recommender_system_test['user_id'].nunique()"
   ]
  },
  {
   "cell_type": "markdown",
   "metadata": {},
   "source": [
    "В тесте приняли участие 6701 пользователь. Если обратиться к пункту технического задания в котором речь идёт о присутствии 15% новых пользователей Европейского региона среди участников теста, то можно обнаружить некоторое несоответствие требований данного пункта с требованиями к ожидаемому количеству участников. В тесте приняли участие 6351 пользователь из Европейского региона и при этом необходимые 15% от новых пользователей из данного региона не были достигнуты, т.е. ожидаемого количества участников в 6000, по умолчанию недостаточно чтобы соответствовать, названному выше, критерию."
   ]
  },
  {
   "cell_type": "markdown",
   "metadata": {},
   "source": [
    "### Ожидаемый эффект: за 14 дней с момента регистрации в системе пользователи покажут улучшение каждой метрики не менее, чем на - 10%: конверсии в просмотр карточек товаров — событие product_page; просмотры корзины — product_cart; покупки — purchase."
   ]
  },
  {
   "cell_type": "markdown",
   "metadata": {},
   "source": [
    "Заказчик ожидает увеличение метрик за 14 дней с момента регистрации пользователя, но ранее мы выяснили, что тест был остановлен раньше срока указанного в техническом задании, а значит не все пользователи могли находится в тесте заявленные в ТЗ 14 дней. Тест остановили 30.12.2020, т.е. пользователи зарегистрировавшиеся после 16.12.2020 провели в тесте меньше 14 дней."
   ]
  },
  {
   "cell_type": "code",
   "execution_count": 64,
   "metadata": {
    "scrolled": true
   },
   "outputs": [
    {
     "data": {
      "text/plain": [
       "2387"
      ]
     },
     "execution_count": 64,
     "metadata": {},
     "output_type": "execute_result"
    }
   ],
   "source": [
    "recommender_system_test.query('first_date > @dt.date(2020, 12, 16)')['user_id'].nunique()\n",
    "#количество пользователей, зарегистрировавшихся после 16.12.2020"
   ]
  },
  {
   "cell_type": "markdown",
   "metadata": {},
   "source": [
    "Пользователей, находившихся в тесте менее 14 дней очень много - около 1/3 от всех участников, посмотрим как они распределены внутри групп. "
   ]
  },
  {
   "cell_type": "code",
   "execution_count": 65,
   "metadata": {},
   "outputs": [
    {
     "name": "stdout",
     "output_type": "stream",
     "text": [
      "Доля участников зарегистрированных после 16.20.2020 в группе А: 35.6%\n",
      "Доля участников зарегистрированных после 16.20.2020 в группе B: 35.6%\n"
     ]
    }
   ],
   "source": [
    "print('Доля участников зарегистрированных после 16.20.2020 в группе А: {:.1%}'.format(recommender_system_test.query(\n",
    "    'first_date > @dt.date(2020, 12, 16) and group == \"A\"')['user_id'].nunique() / recommender_system_test.query(\n",
    "   'group == \"A\"')['user_id'].nunique())\n",
    "     )\n",
    "print('Доля участников зарегистрированных после 16.20.2020 в группе B: {:.1%}'.format(recommender_system_test.query(\n",
    "    'first_date > @dt.date(2020, 12, 16) and group == \"B\"')['user_id'].nunique() / recommender_system_test.query(\n",
    "   'group == \"B\"')['user_id'].nunique())\n",
    "     )"
   ]
  },
  {
   "cell_type": "markdown",
   "metadata": {},
   "source": [
    "Несмотря на то, что пользователей, находившихся в тесте менее 14 дней, значительное количество, между тестовыми группами они распределены равномерно - по 35,6% в каждой группе.\n",
    "\n",
    "Также учитывая требование ТЗ необходимо отфильтровать события которые были совершены польщователями позднее 14 дней с момента регистрации."
   ]
  },
  {
   "cell_type": "code",
   "execution_count": 66,
   "metadata": {},
   "outputs": [],
   "source": [
    "#подсчёт для кажого события количества дней прошедших с момента регистрации\n",
    "recommender_system_test['event_timedelta'] = (recommender_system_test['event_dt'] - recommender_system_test['first_date']\n",
    "                                             ).apply(lambda x: x.days)"
   ]
  },
  {
   "cell_type": "code",
   "execution_count": 67,
   "metadata": {},
   "outputs": [],
   "source": [
    "#удаление событий произошедших позднее 14 дней после регистрации\n",
    "recommender_system_test_ft = recommender_system_test.query('event_timedelta <= 14')"
   ]
  },
  {
   "cell_type": "code",
   "execution_count": 68,
   "metadata": {},
   "outputs": [
    {
     "data": {
      "text/plain": [
       "3675"
      ]
     },
     "execution_count": 68,
     "metadata": {},
     "output_type": "execute_result"
    }
   ],
   "source": [
    "#проверка количества пользователей в тесте после фильтрации\n",
    "recommender_system_test_ft['user_id'].nunique()"
   ]
  },
  {
   "cell_type": "code",
   "execution_count": 69,
   "metadata": {},
   "outputs": [
    {
     "data": {
      "text/plain": [
       "628"
      ]
     },
     "execution_count": 69,
     "metadata": {},
     "output_type": "execute_result"
    }
   ],
   "source": [
    "#количество событий совершенных позднее 14 дней после регистрации\n",
    "len(recommender_system_test.query('event_timedelta > 14'))"
   ]
  },
  {
   "cell_type": "markdown",
   "metadata": {},
   "source": [
    "Количество пользователей-участников теста резко сократилось после удаления событий произошедших позднее 14 дней после регистрации пользователя, хотя количество таких событий относительно небольшое. Возможно у нас изначально есть информация о событиях не от всех пользователей."
   ]
  },
  {
   "cell_type": "code",
   "execution_count": 70,
   "metadata": {},
   "outputs": [
    {
     "data": {
      "text/plain": [
       "3675"
      ]
     },
     "execution_count": 70,
     "metadata": {},
     "output_type": "execute_result"
    }
   ],
   "source": [
    "#количество пользователей совершивших хотя бы одно событие\n",
    "recommender_system_test[~(recommender_system_test['event_name'].isna())]['user_id'].nunique()"
   ]
  },
  {
   "cell_type": "markdown",
   "metadata": {},
   "source": [
    "Около половины пользователей вообще не совершали никаких действий, поэтому количество участников теста совершавших действия, после фильтрации не изменилось. Тот факт, что из необходимых по ТЗ 6000 участников только чуть более половины совершали действия сильно ограничивает мощность нашего теста."
   ]
  },
  {
   "cell_type": "markdown",
   "metadata": {},
   "source": [
    "## Проверка совпадения времени проведения теста с маркетинговыми активностями"
   ]
  },
  {
   "cell_type": "code",
   "execution_count": 71,
   "metadata": {},
   "outputs": [
    {
     "data": {
      "text/html": [
       "<div>\n",
       "<style scoped>\n",
       "    .dataframe tbody tr th:only-of-type {\n",
       "        vertical-align: middle;\n",
       "    }\n",
       "\n",
       "    .dataframe tbody tr th {\n",
       "        vertical-align: top;\n",
       "    }\n",
       "\n",
       "    .dataframe thead th {\n",
       "        text-align: right;\n",
       "    }\n",
       "</style>\n",
       "<table border=\"1\" class=\"dataframe\">\n",
       "  <thead>\n",
       "    <tr style=\"text-align: right;\">\n",
       "      <th></th>\n",
       "      <th>name</th>\n",
       "      <th>regions</th>\n",
       "      <th>start_dt</th>\n",
       "      <th>finish_dt</th>\n",
       "    </tr>\n",
       "  </thead>\n",
       "  <tbody>\n",
       "    <tr>\n",
       "      <th>0</th>\n",
       "      <td>Christmas&amp;New Year Promo</td>\n",
       "      <td>EU, N.America</td>\n",
       "      <td>2020-12-25</td>\n",
       "      <td>2021-01-03</td>\n",
       "    </tr>\n",
       "    <tr>\n",
       "      <th>10</th>\n",
       "      <td>CIS New Year Gift Lottery</td>\n",
       "      <td>CIS</td>\n",
       "      <td>2020-12-30</td>\n",
       "      <td>2021-01-07</td>\n",
       "    </tr>\n",
       "  </tbody>\n",
       "</table>\n",
       "</div>"
      ],
      "text/plain": [
       "                         name        regions   start_dt  finish_dt\n",
       "0    Christmas&New Year Promo  EU, N.America 2020-12-25 2021-01-03\n",
       "10  CIS New Year Gift Lottery            CIS 2020-12-30 2021-01-07"
      ]
     },
     "execution_count": 71,
     "metadata": {},
     "output_type": "execute_result"
    }
   ],
   "source": [
    "marketing_events.query('start_dt >= @dt.date(2020, 12, 7) and start_dt <= @dt.date(2020, 12, 30)')"
   ]
  },
  {
   "cell_type": "markdown",
   "metadata": {},
   "source": [
    "Последний день проведения теста совпадает с началом Ногодней лотереи подарков в регионе СНГ. Так как в тесте участвует небольшое количество пользователей из СНГ и совпадает всего один день, то данным фактом можно принебречь. \n",
    "\n",
    "Также проведение теста частично совпадает по времени с Новогодней и Рождественской промоакциями для пользователей Европейского и Северо-Американского региона. Наложение дат захватывает только последние 5 дней тест, тем не менее это может сказаться на его результатах, например, за счёт резкого увеличения количества покупок в период проведения промоакции, на что стоит обратить внимание при изучении распределения событий по дням теста."
   ]
  },
  {
   "cell_type": "markdown",
   "metadata": {},
   "source": [
    "## Проверка корректности распределения пользователей по тестовым группам"
   ]
  },
  {
   "cell_type": "code",
   "execution_count": 72,
   "metadata": {},
   "outputs": [
    {
     "data": {
      "text/plain": [
       "0"
      ]
     },
     "execution_count": 72,
     "metadata": {},
     "output_type": "execute_result"
    }
   ],
   "source": [
    "len(recommender_system_test.groupby('user_id').agg({'group': 'nunique'}).reset_index().query('group > 1'))"
   ]
  },
  {
   "cell_type": "markdown",
   "metadata": {},
   "source": [
    "Пользователи, которые одновременно входили бы в обе тестовых группы, отсутствуют. Проверим есть ли пользователи которые одновременно участвуют в конкурирующем тесте."
   ]
  },
  {
   "cell_type": "code",
   "execution_count": 73,
   "metadata": {},
   "outputs": [
    {
     "data": {
      "text/plain": [
       "1602"
      ]
     },
     "execution_count": 73,
     "metadata": {},
     "output_type": "execute_result"
    }
   ],
   "source": [
    "len(ab_participants.groupby('user_id').agg({'ab_test': 'nunique'}).reset_index().query('ab_test > 1'))"
   ]
  },
  {
   "cell_type": "markdown",
   "metadata": {},
   "source": [
    "В конкурирующем тесте участвуют 1602 пользователя. Стоит посмотреть, как пользователи участвующие в двух тестах распределены по группам."
   ]
  },
  {
   "cell_type": "code",
   "execution_count": 74,
   "metadata": {},
   "outputs": [
    {
     "data": {
      "text/html": [
       "<div>\n",
       "<style scoped>\n",
       "    .dataframe tbody tr th:only-of-type {\n",
       "        vertical-align: middle;\n",
       "    }\n",
       "\n",
       "    .dataframe tbody tr th {\n",
       "        vertical-align: top;\n",
       "    }\n",
       "\n",
       "    .dataframe thead th {\n",
       "        text-align: right;\n",
       "    }\n",
       "</style>\n",
       "<table border=\"1\" class=\"dataframe\">\n",
       "  <thead>\n",
       "    <tr style=\"text-align: right;\">\n",
       "      <th></th>\n",
       "      <th>user_id</th>\n",
       "    </tr>\n",
       "    <tr>\n",
       "      <th>group</th>\n",
       "      <th></th>\n",
       "    </tr>\n",
       "  </thead>\n",
       "  <tbody>\n",
       "    <tr>\n",
       "      <th>A</th>\n",
       "      <td>819</td>\n",
       "    </tr>\n",
       "    <tr>\n",
       "      <th>B</th>\n",
       "      <td>783</td>\n",
       "    </tr>\n",
       "  </tbody>\n",
       "</table>\n",
       "</div>"
      ],
      "text/plain": [
       "       user_id\n",
       "group         \n",
       "A          819\n",
       "B          783"
      ]
     },
     "execution_count": 74,
     "metadata": {},
     "output_type": "execute_result"
    }
   ],
   "source": [
    "#получение id пользователей, участвующих в обоих тестах\n",
    "double_test = ab_participants.groupby('user_id').agg({'ab_test': 'nunique'}).reset_index().query('ab_test > 1')['user_id']\n",
    "\n",
    "#распределение по группам для конкурирующего теста\n",
    "ab_participants.query('user_id in @double_test and ab_test != \"recommender_system_test\"').groupby('group').agg(\n",
    "    {'user_id' : 'nunique'})"
   ]
  },
  {
   "cell_type": "markdown",
   "metadata": {},
   "source": [
    "Если бы все пользователи, участвующие в двух тестах,  в конкурирующем тесте находились бы только в группе А, то можно было бы не беспокоится, т.к. это означало бы, что на них не оказывалось воздействие в рамках конкурирующего теста, но мы выяснили что это не так и пользователи были распределены по обеим группам конкурирующего теста.\n",
    "\n",
    "Теперь оценим распределение пользователей группы В, конкурирующего теста среди групп анализируемого теста (распределение пользователей из группы А оценивать не будем по выше названной причине). "
   ]
  },
  {
   "cell_type": "code",
   "execution_count": 75,
   "metadata": {},
   "outputs": [
    {
     "name": "stdout",
     "output_type": "stream",
     "text": [
      "Доля участников группы В конкурирующего теста в группе А анализируемого: 11.5%\n",
      "Доля участников группы В конкурирующего теста в группе В анализируемого: 12.0%\n"
     ]
    }
   ],
   "source": [
    "#получение id пользователей, участвующих в обоих тестах и в группе В конкурирующего теста\n",
    "double_test_B = ab_participants.query('user_id in @double_test and ab_test != \"recommender_system_test\" and group ==\"B\"'\n",
    "                                     )['user_id']\n",
    "\n",
    "print('Доля участников группы В конкурирующего теста в группе А анализируемого: {:.1%}'.format(recommender_system_test.query(\n",
    "    'user_id in @double_test_B and group == \"A\"')['user_id'].nunique() / recommender_system_test.query(\n",
    "   'group == \"A\"')['user_id'].nunique())\n",
    "     )\n",
    "print('Доля участников группы В конкурирующего теста в группе В анализируемого: {:.1%}'.format(recommender_system_test.query(\n",
    "    'user_id in @double_test_B and group == \"B\"')['user_id'].nunique() / recommender_system_test.query(\n",
    "   'group == \"B\"')['user_id'].nunique())\n",
    "     )"
   ]
  },
  {
   "cell_type": "markdown",
   "metadata": {},
   "source": [
    "Участники группы В конкурирующего теста распределены относительно равномерно в группах анализируемого теста их доли 11,5% и 12,0% в группе А и группе В соответственно."
   ]
  },
  {
   "cell_type": "markdown",
   "metadata": {},
   "source": [
    "Также ранее мы выяснили, что пользователи были неравномерно распределены на контрольную (А) и тестовую группы (В), и в группе А пользователей почти на тысячу больше."
   ]
  },
  {
   "cell_type": "code",
   "execution_count": 76,
   "metadata": {},
   "outputs": [
    {
     "data": {
      "text/html": [
       "<div>\n",
       "<style scoped>\n",
       "    .dataframe tbody tr th:only-of-type {\n",
       "        vertical-align: middle;\n",
       "    }\n",
       "\n",
       "    .dataframe tbody tr th {\n",
       "        vertical-align: top;\n",
       "    }\n",
       "\n",
       "    .dataframe thead th {\n",
       "        text-align: right;\n",
       "    }\n",
       "</style>\n",
       "<table border=\"1\" class=\"dataframe\">\n",
       "  <thead>\n",
       "    <tr style=\"text-align: right;\">\n",
       "      <th></th>\n",
       "      <th>user_id</th>\n",
       "    </tr>\n",
       "    <tr>\n",
       "      <th>group</th>\n",
       "      <th></th>\n",
       "    </tr>\n",
       "  </thead>\n",
       "  <tbody>\n",
       "    <tr>\n",
       "      <th>A</th>\n",
       "      <td>3824</td>\n",
       "    </tr>\n",
       "    <tr>\n",
       "      <th>B</th>\n",
       "      <td>2877</td>\n",
       "    </tr>\n",
       "  </tbody>\n",
       "</table>\n",
       "</div>"
      ],
      "text/plain": [
       "       user_id\n",
       "group         \n",
       "A         3824\n",
       "B         2877"
      ]
     },
     "execution_count": 76,
     "metadata": {},
     "output_type": "execute_result"
    }
   ],
   "source": [
    "recommender_system_test.groupby('group').agg({'user_id' : 'nunique'})"
   ]
  },
  {
   "cell_type": "markdown",
   "metadata": {},
   "source": [
    "Это может быть связано с тем, что инструмент по распределению трафика настроен неккоректно или работает неправильно."
   ]
  },
  {
   "cell_type": "markdown",
   "metadata": {},
   "source": [
    "## Промежуточный вывод"
   ]
  },
  {
   "cell_type": "markdown",
   "metadata": {},
   "source": [
    "В ходе оценки корректности проведения теста выявлено:\n",
    "1. Пользователи неравномерно распределены по группам анализируемого теста, в контрольной группе почти на тысячу больше участников, чем в опытной.\n",
    "2. Тест остановлен на 5 дней раньше срока указанного в ТЗ, что привело к сокращению срока нахождения в тесте у 1/3 пользователей, распределение таких пользователей внутри тестовых групп равномерное (по 36,5%).\n",
    "3. Наблюдается расхождение с ТЗ в части аудитории теста, так согласно ТЗ аудиторию теста должны составлять не менее 15% новых пользователей Европейского региона, в реальности этот показатель составляет 13,7%, но также стоит отметить, что при заявленной мощности теста в 6000 участников, уровень в 15% не достижим.\n",
    "4. Последние 5 дней теста совпадают с началом Рождественской и Новогодней промо-акции в Европейском регионе, что следует учесть при дальнейшем анализе.\n",
    "5. 1602 пользователя учасвуют в конкурирующем тесте, в т.ч. 783 пользователя находятся в опытной группе (В). Пользователи, находящиеся в группе \"В\" конкурирующего теста, относительно равномерно распределены по группам анализируемого теста (А - 11,5%, В - 12,0%).\n",
    "6. Из 6701 участника теста, какие-либо события зарегистрированы только у 3675 пользователей."
   ]
  },
  {
   "cell_type": "markdown",
   "metadata": {},
   "source": [
    "# Исследовательский анализ данных"
   ]
  },
  {
   "cell_type": "markdown",
   "metadata": {},
   "source": [
    "## Распределение количества событий на пользователя в выборках"
   ]
  },
  {
   "cell_type": "code",
   "execution_count": 77,
   "metadata": {},
   "outputs": [
    {
     "data": {
      "image/png": "[encoded data removed]",
      "text/plain": [
       "<Figure size 1800x720 with 1 Axes>"
      ]
     },
     "metadata": {
      "needs_background": "light"
     },
     "output_type": "display_data"
    }
   ],
   "source": [
    "plt.figure(figsize=(25, 10))\n",
    "plt.title('Распределение количества событий на пользователя в опытной и контрольной группах', fontsize=20)\n",
    "plt.ylabel('Количество пользователей', fontsize=14)\n",
    "plt.xlabel('Количество событий на пользователя', fontsize=14)\n",
    "plt.hist(recommender_system_test.query('group == \"A\"').groupby('user_id')['event_name'].count(), bins=28, alpha=0.5, \n",
    "         label='group A')\n",
    "plt.hist(recommender_system_test.query('group == \"B\"').groupby('user_id')['event_name'].count(), bins=28, alpha=0.5, \n",
    "         label='group B')\n",
    "plt.legend(fontsize=14)\n",
    "plt.show()"
   ]
  },
  {
   "cell_type": "code",
   "execution_count": 78,
   "metadata": {},
   "outputs": [
    {
     "data": {
      "text/plain": [
       "count   3,824.00\n",
       "mean        5.05\n",
       "std         4.55\n",
       "min         0.00\n",
       "25%         0.00\n",
       "50%         4.00\n",
       "75%         8.00\n",
       "max        24.00\n",
       "Name: event_name, dtype: float64"
      ]
     },
     "execution_count": 78,
     "metadata": {},
     "output_type": "execute_result"
    }
   ],
   "source": [
    "#характерные значения анализируемого показателя в группе А\n",
    "recommender_system_test.query('group == \"A\"').groupby('user_id')['event_name'].count().describe()"
   ]
  },
  {
   "cell_type": "code",
   "execution_count": 79,
   "metadata": {},
   "outputs": [
    {
     "data": {
      "text/plain": [
       "count   2,877.00\n",
       "mean        1.87\n",
       "std         3.36\n",
       "min         0.00\n",
       "25%         0.00\n",
       "50%         0.00\n",
       "75%         3.00\n",
       "max        28.00\n",
       "Name: event_name, dtype: float64"
      ]
     },
     "execution_count": 79,
     "metadata": {},
     "output_type": "execute_result"
    }
   ],
   "source": [
    "#характерные значения анализируемого показателя в группе В\n",
    "recommender_system_test.query('group == \"B\"').groupby('user_id')['event_name'].count().describe()"
   ]
  },
  {
   "cell_type": "markdown",
   "metadata": {},
   "source": [
    "Глядя на гистограммы можно заключить, что с одной стороны распределение показателя в тестовых группах имеет сходный характер, но при этом в группе В, гораздо в большей степени выражено преобладание пользователей не совершивших ни одного события, таких пользователей в группе В, как минимум половина. Количество событий на пользователя ваоьируется от 0 до 24 в группе А и от 0 до 28 в группе В; среднее количество событий на пользователя в группе А составляет 5,05, при стандартном отклонении 4,55, в то время как в группе В лишь 1,87, при стандартном отклонении 3,36."
   ]
  },
  {
   "cell_type": "markdown",
   "metadata": {},
   "source": [
    "## Распределение количества событий по дням в выборках"
   ]
  },
  {
   "cell_type": "code",
   "execution_count": 80,
   "metadata": {},
   "outputs": [],
   "source": [
    "#извлечение данных о дате события в отдельный столбец\n",
    "recommender_system_test['event_date'] = recommender_system_test['event_dt'].dt.date "
   ]
  },
  {
   "cell_type": "code",
   "execution_count": 81,
   "metadata": {},
   "outputs": [
    {
     "data": {
      "image/png": "[encoded data removed]",
      "text/plain": [
       "<Figure size 1440x720 with 1 Axes>"
      ]
     },
     "metadata": {
      "needs_background": "light"
     },
     "output_type": "display_data"
    }
   ],
   "source": [
    "plt.figure(figsize=(20, 10))\n",
    "ax = sns.barplot(x='event_date', y='event_name', hue='group', data=recommender_system_test.groupby(\n",
    "    ['event_date' , 'group']).agg({'event_name' : 'count'}).reset_index())\n",
    "plt.xlabel('Дата', fontsize=15)\n",
    "plt.ylabel('Количество событий', fontsize=15)\n",
    "plt.xticks(rotation=90)\n",
    "plt.show()"
   ]
  },
  {
   "cell_type": "markdown",
   "metadata": {},
   "source": [
    "В группе \"А\" количество событий резко возрастает через неделю после начала теста (14.12), далее начиная с 17.12 количество событий в день нарастает, и к 14-му дню теста (21.12) достигает своего максимума, после чего постоянно снижается. \n",
    "\n",
    "В группе \"В\", на протяжении первой недели количество событий сопоставимо с группой \"А\",но в момент когда в группе \"А\" наблюдается значительный рост количества событий, в группе \"В\" аналогичного значительного роста не наблюдается, хотя своего максимума количество событий в день, также достигает к 14 дню теста (21.12), после чего снижается примерно вдвое и продолжает падать вплоть до конца теста.\n",
    "\n",
    "Как мы помним, последние 5 дней теста совпали с проведением Новогодней промоакции, тем не менее, мы не наблюдаем резкого увеличения количества событий в последние 5 дней теста. Но стоит отдельно проверить событие 'purchase' (покупка), поскольку в период промоакции может наблюдаться изолированный рост частоты именно этого события."
   ]
  },
  {
   "cell_type": "code",
   "execution_count": 82,
   "metadata": {},
   "outputs": [
    {
     "data": {
      "image/png": "[encoded data removed]",
      "text/plain": [
       "<Figure size 1440x720 with 1 Axes>"
      ]
     },
     "metadata": {
      "needs_background": "light"
     },
     "output_type": "display_data"
    }
   ],
   "source": [
    "plt.figure(figsize=(20, 10))\n",
    "ax = sns.barplot(x='event_date', y='event_name', hue='group', data=recommender_system_test.query(\n",
    "    'event_name == \"purchase\"').groupby(['event_date' , 'group']).agg({'event_name' : 'count'}).reset_index())\n",
    "plt.xlabel('Дата', fontsize=15)\n",
    "plt.ylabel('Количество покупок', fontsize=15)\n",
    "plt.xticks(rotation=90)\n",
    "plt.show()"
   ]
  },
  {
   "cell_type": "markdown",
   "metadata": {},
   "source": [
    "Как видно динамика количество покупок, в целом, повторяет динамика количества всей совокупности событий. По всей видимости Новогодняя акция не оказала выраженного влияния на участников теста."
   ]
  },
  {
   "cell_type": "markdown",
   "metadata": {},
   "source": [
    "## Изменение конверсии на разных этапах воронки событий в выборках"
   ]
  },
  {
   "cell_type": "code",
   "execution_count": 83,
   "metadata": {},
   "outputs": [
    {
     "data": {
      "text/html": [
       "<div>\n",
       "<style scoped>\n",
       "    .dataframe tbody tr th:only-of-type {\n",
       "        vertical-align: middle;\n",
       "    }\n",
       "\n",
       "    .dataframe tbody tr th {\n",
       "        vertical-align: top;\n",
       "    }\n",
       "\n",
       "    .dataframe thead th {\n",
       "        text-align: right;\n",
       "    }\n",
       "</style>\n",
       "<table border=\"1\" class=\"dataframe\">\n",
       "  <thead>\n",
       "    <tr style=\"text-align: right;\">\n",
       "      <th></th>\n",
       "      <th></th>\n",
       "      <th>event_dt</th>\n",
       "    </tr>\n",
       "    <tr>\n",
       "      <th>event_name</th>\n",
       "      <th>group</th>\n",
       "      <th></th>\n",
       "    </tr>\n",
       "  </thead>\n",
       "  <tbody>\n",
       "    <tr>\n",
       "      <th rowspan=\"2\" valign=\"top\">login</th>\n",
       "      <th>A</th>\n",
       "      <td>8400</td>\n",
       "    </tr>\n",
       "    <tr>\n",
       "      <th>B</th>\n",
       "      <td>2493</td>\n",
       "    </tr>\n",
       "    <tr>\n",
       "      <th rowspan=\"2\" valign=\"top\">product_cart</th>\n",
       "      <th>A</th>\n",
       "      <td>2519</td>\n",
       "    </tr>\n",
       "    <tr>\n",
       "      <th>B</th>\n",
       "      <td>659</td>\n",
       "    </tr>\n",
       "    <tr>\n",
       "      <th rowspan=\"2\" valign=\"top\">product_page</th>\n",
       "      <th>A</th>\n",
       "      <td>5415</td>\n",
       "    </tr>\n",
       "    <tr>\n",
       "      <th>B</th>\n",
       "      <td>1331</td>\n",
       "    </tr>\n",
       "    <tr>\n",
       "      <th rowspan=\"2\" valign=\"top\">purchase</th>\n",
       "      <th>A</th>\n",
       "      <td>2613</td>\n",
       "    </tr>\n",
       "    <tr>\n",
       "      <th>B</th>\n",
       "      <td>640</td>\n",
       "    </tr>\n",
       "  </tbody>\n",
       "</table>\n",
       "</div>"
      ],
      "text/plain": [
       "                    event_dt\n",
       "event_name   group          \n",
       "login        A          8400\n",
       "             B          2493\n",
       "product_cart A          2519\n",
       "             B           659\n",
       "product_page A          5415\n",
       "             B          1331\n",
       "purchase     A          2613\n",
       "             B           640"
      ]
     },
     "execution_count": 83,
     "metadata": {},
     "output_type": "execute_result"
    }
   ],
   "source": [
    "recommender_system_test_ft.groupby(['event_name', 'group']).agg({'event_dt' : 'count'})\n",
    "#количество событий по видам и тестовым группам"
   ]
  },
  {
   "cell_type": "markdown",
   "metadata": {},
   "source": [
    "Чаще всего в обоих тестовых группах происходит регистрация пользователей ('login'), далее по частоте следует просмотр карточки товара ('product_page'). Третьим по частоте событием в группе \"А\" является покупка ('purchase') и самым редким событием - просмотр корзины с товаром ('product_cart'), а в группе \"В\" наоборот. Логичной последовательностью событий представляется следующая: регистрация - просмотр карточки товара - просмотр корзины с товаром - покупка.\n",
    "\n",
    "Построим воронку событий для каждой тестовой группы."
   ]
  },
  {
   "cell_type": "code",
   "execution_count": 84,
   "metadata": {
    "scrolled": true
   },
   "outputs": [
    {
     "data": {
      "application/vnd.plotly.v1+json": {
       "config": {
        "plotlyServerURL": "https://plot.ly"
       },
       "data": [
        {
         "type": "funnel",
         "x": [
          2747,
          1780,
          872,
          824
         ],
         "y": [
          "login",
          "product_page",
          "purchase",
          "product_cart"
         ]
        }
       ],
       "layout": {
        "template": {
         "data": {
          "bar": [
           {
            "error_x": {
             "color": "#2a3f5f"
            },
            "error_y": {
             "color": "#2a3f5f"
            },
            "marker": {
             "line": {
              "color": "#E5ECF6",
              "width": 0.5
             },
             "pattern": {
              "fillmode": "overlay",
              "size": 10,
              "solidity": 0.2
             }
            },
            "type": "bar"
           }
          ],
          "barpolar": [
           {
            "marker": {
             "line": {
              "color": "#E5ECF6",
              "width": 0.5
             },
             "pattern": {
              "fillmode": "overlay",
              "size": 10,
              "solidity": 0.2
             }
            },
            "type": "barpolar"
           }
          ],
          "carpet": [
           {
            "aaxis": {
             "endlinecolor": "#2a3f5f",
             "gridcolor": "white",
             "linecolor": "white",
             "minorgridcolor": "white",
             "startlinecolor": "#2a3f5f"
            },
            "baxis": {
             "endlinecolor": "#2a3f5f",
             "gridcolor": "white",
             "linecolor": "white",
             "minorgridcolor": "white",
             "startlinecolor": "#2a3f5f"
            },
            "type": "carpet"
           }
          ],
          "choropleth": [
           {
            "colorbar": {
             "outlinewidth": 0,
             "ticks": ""
            },
            "type": "choropleth"
           }
          ],
          "contour": [
           {
            "colorbar": {
             "outlinewidth": 0,
             "ticks": ""
            },
            "colorscale": [
             [
              0,
              "#0d0887"
             ],
             [
              0.1111111111111111,
              "#46039f"
             ],
             [
              0.2222222222222222,
              "#7201a8"
             ],
             [
              0.3333333333333333,
              "#9c179e"
             ],
             [
              0.4444444444444444,
              "#bd3786"
             ],
             [
              0.5555555555555556,
              "#d8576b"
             ],
             [
              0.6666666666666666,
              "#ed7953"
             ],
             [
              0.7777777777777778,
              "#fb9f3a"
             ],
             [
              0.8888888888888888,
              "#fdca26"
             ],
             [
              1,
              "#f0f921"
             ]
            ],
            "type": "contour"
           }
          ],
          "contourcarpet": [
           {
            "colorbar": {
             "outlinewidth": 0,
             "ticks": ""
            },
            "type": "contourcarpet"
           }
          ],
          "heatmap": [
           {
            "colorbar": {
             "outlinewidth": 0,
             "ticks": ""
            },
            "colorscale": [
             [
              0,
              "#0d0887"
             ],
             [
              0.1111111111111111,
              "#46039f"
             ],
             [
              0.2222222222222222,
              "#7201a8"
             ],
             [
              0.3333333333333333,
              "#9c179e"
             ],
             [
              0.4444444444444444,
              "#bd3786"
             ],
             [
              0.5555555555555556,
              "#d8576b"
             ],
             [
              0.6666666666666666,
              "#ed7953"
             ],
             [
              0.7777777777777778,
              "#fb9f3a"
             ],
             [
              0.8888888888888888,
              "#fdca26"
             ],
             [
              1,
              "#f0f921"
             ]
            ],
            "type": "heatmap"
           }
          ],
          "heatmapgl": [
           {
            "colorbar": {
             "outlinewidth": 0,
             "ticks": ""
            },
            "colorscale": [
             [
              0,
              "#0d0887"
             ],
             [
              0.1111111111111111,
              "#46039f"
             ],
             [
              0.2222222222222222,
              "#7201a8"
             ],
             [
              0.3333333333333333,
              "#9c179e"
             ],
             [
              0.4444444444444444,
              "#bd3786"
             ],
             [
              0.5555555555555556,
              "#d8576b"
             ],
             [
              0.6666666666666666,
              "#ed7953"
             ],
             [
              0.7777777777777778,
              "#fb9f3a"
             ],
             [
              0.8888888888888888,
              "#fdca26"
             ],
             [
              1,
              "#f0f921"
             ]
            ],
            "type": "heatmapgl"
           }
          ],
          "histogram": [
           {
            "marker": {
             "pattern": {
              "fillmode": "overlay",
              "size": 10,
              "solidity": 0.2
             }
            },
            "type": "histogram"
           }
          ],
          "histogram2d": [
           {
            "colorbar": {
             "outlinewidth": 0,
             "ticks": ""
            },
            "colorscale": [
             [
              0,
              "#0d0887"
             ],
             [
              0.1111111111111111,
              "#46039f"
             ],
             [
              0.2222222222222222,
              "#7201a8"
             ],
             [
              0.3333333333333333,
              "#9c179e"
             ],
             [
              0.4444444444444444,
              "#bd3786"
             ],
             [
              0.5555555555555556,
              "#d8576b"
             ],
             [
              0.6666666666666666,
              "#ed7953"
             ],
             [
              0.7777777777777778,
              "#fb9f3a"
             ],
             [
              0.8888888888888888,
              "#fdca26"
             ],
             [
              1,
              "#f0f921"
             ]
            ],
            "type": "histogram2d"
           }
          ],
          "histogram2dcontour": [
           {
            "colorbar": {
             "outlinewidth": 0,
             "ticks": ""
            },
            "colorscale": [
             [
              0,
              "#0d0887"
             ],
             [
              0.1111111111111111,
              "#46039f"
             ],
             [
              0.2222222222222222,
              "#7201a8"
             ],
             [
              0.3333333333333333,
              "#9c179e"
             ],
             [
              0.4444444444444444,
              "#bd3786"
             ],
             [
              0.5555555555555556,
              "#d8576b"
             ],
             [
              0.6666666666666666,
              "#ed7953"
             ],
             [
              0.7777777777777778,
              "#fb9f3a"
             ],
             [
              0.8888888888888888,
              "#fdca26"
             ],
             [
              1,
              "#f0f921"
             ]
            ],
            "type": "histogram2dcontour"
           }
          ],
          "mesh3d": [
           {
            "colorbar": {
             "outlinewidth": 0,
             "ticks": ""
            },
            "type": "mesh3d"
           }
          ],
          "parcoords": [
           {
            "line": {
             "colorbar": {
              "outlinewidth": 0,
              "ticks": ""
             }
            },
            "type": "parcoords"
           }
          ],
          "pie": [
           {
            "automargin": true,
            "type": "pie"
           }
          ],
          "scatter": [
           {
            "marker": {
             "colorbar": {
              "outlinewidth": 0,
              "ticks": ""
             }
            },
            "type": "scatter"
           }
          ],
          "scatter3d": [
           {
            "line": {
             "colorbar": {
              "outlinewidth": 0,
              "ticks": ""
             }
            },
            "marker": {
             "colorbar": {
              "outlinewidth": 0,
              "ticks": ""
             }
            },
            "type": "scatter3d"
           }
          ],
          "scattercarpet": [
           {
            "marker": {
             "colorbar": {
              "outlinewidth": 0,
              "ticks": ""
             }
            },
            "type": "scattercarpet"
           }
          ],
          "scattergeo": [
           {
            "marker": {
             "colorbar": {
              "outlinewidth": 0,
              "ticks": ""
             }
            },
            "type": "scattergeo"
           }
          ],
          "scattergl": [
           {
            "marker": {
             "colorbar": {
              "outlinewidth": 0,
              "ticks": ""
             }
            },
            "type": "scattergl"
           }
          ],
          "scattermapbox": [
           {
            "marker": {
             "colorbar": {
              "outlinewidth": 0,
              "ticks": ""
             }
            },
            "type": "scattermapbox"
           }
          ],
          "scatterpolar": [
           {
            "marker": {
             "colorbar": {
              "outlinewidth": 0,
              "ticks": ""
             }
            },
            "type": "scatterpolar"
           }
          ],
          "scatterpolargl": [
           {
            "marker": {
             "colorbar": {
              "outlinewidth": 0,
              "ticks": ""
             }
            },
            "type": "scatterpolargl"
           }
          ],
          "scatterternary": [
           {
            "marker": {
             "colorbar": {
              "outlinewidth": 0,
              "ticks": ""
             }
            },
            "type": "scatterternary"
           }
          ],
          "surface": [
           {
            "colorbar": {
             "outlinewidth": 0,
             "ticks": ""
            },
            "colorscale": [
             [
              0,
              "#0d0887"
             ],
             [
              0.1111111111111111,
              "#46039f"
             ],
             [
              0.2222222222222222,
              "#7201a8"
             ],
             [
              0.3333333333333333,
              "#9c179e"
             ],
             [
              0.4444444444444444,
              "#bd3786"
             ],
             [
              0.5555555555555556,
              "#d8576b"
             ],
             [
              0.6666666666666666,
              "#ed7953"
             ],
             [
              0.7777777777777778,
              "#fb9f3a"
             ],
             [
              0.8888888888888888,
              "#fdca26"
             ],
             [
              1,
              "#f0f921"
             ]
            ],
            "type": "surface"
           }
          ],
          "table": [
           {
            "cells": {
             "fill": {
              "color": "#EBF0F8"
             },
             "line": {
              "color": "white"
             }
            },
            "header": {
             "fill": {
              "color": "#C8D4E3"
             },
             "line": {
              "color": "white"
             }
            },
            "type": "table"
           }
          ]
         },
         "layout": {
          "annotationdefaults": {
           "arrowcolor": "#2a3f5f",
           "arrowhead": 0,
           "arrowwidth": 1
          },
          "autotypenumbers": "strict",
          "coloraxis": {
           "colorbar": {
            "outlinewidth": 0,
            "ticks": ""
           }
          },
          "colorscale": {
           "diverging": [
            [
             0,
             "#8e0152"
            ],
            [
             0.1,
             "#c51b7d"
            ],
            [
             0.2,
             "#de77ae"
            ],
            [
             0.3,
             "#f1b6da"
            ],
            [
             0.4,
             "#fde0ef"
            ],
            [
             0.5,
             "#f7f7f7"
            ],
            [
             0.6,
             "#e6f5d0"
            ],
            [
             0.7,
             "#b8e186"
            ],
            [
             0.8,
             "#7fbc41"
            ],
            [
             0.9,
             "#4d9221"
            ],
            [
             1,
             "#276419"
            ]
           ],
           "sequential": [
            [
             0,
             "#0d0887"
            ],
            [
             0.1111111111111111,
             "#46039f"
            ],
            [
             0.2222222222222222,
             "#7201a8"
            ],
            [
             0.3333333333333333,
             "#9c179e"
            ],
            [
             0.4444444444444444,
             "#bd3786"
            ],
            [
             0.5555555555555556,
             "#d8576b"
            ],
            [
             0.6666666666666666,
             "#ed7953"
            ],
            [
             0.7777777777777778,
             "#fb9f3a"
            ],
            [
             0.8888888888888888,
             "#fdca26"
            ],
            [
             1,
             "#f0f921"
            ]
           ],
           "sequentialminus": [
            [
             0,
             "#0d0887"
            ],
            [
             0.1111111111111111,
             "#46039f"
            ],
            [
             0.2222222222222222,
             "#7201a8"
            ],
            [
             0.3333333333333333,
             "#9c179e"
            ],
            [
             0.4444444444444444,
             "#bd3786"
            ],
            [
             0.5555555555555556,
             "#d8576b"
            ],
            [
             0.6666666666666666,
             "#ed7953"
            ],
            [
             0.7777777777777778,
             "#fb9f3a"
            ],
            [
             0.8888888888888888,
             "#fdca26"
            ],
            [
             1,
             "#f0f921"
            ]
           ]
          },
          "colorway": [
           "#636efa",
           "#EF553B",
           "#00cc96",
           "#ab63fa",
           "#FFA15A",
           "#19d3f3",
           "#FF6692",
           "#B6E880",
           "#FF97FF",
           "#FECB52"
          ],
          "font": {
           "color": "#2a3f5f"
          },
          "geo": {
           "bgcolor": "white",
           "lakecolor": "white",
           "landcolor": "#E5ECF6",
           "showlakes": true,
           "showland": true,
           "subunitcolor": "white"
          },
          "hoverlabel": {
           "align": "left"
          },
          "hovermode": "closest",
          "mapbox": {
           "style": "light"
          },
          "paper_bgcolor": "white",
          "plot_bgcolor": "#E5ECF6",
          "polar": {
           "angularaxis": {
            "gridcolor": "white",
            "linecolor": "white",
            "ticks": ""
           },
           "bgcolor": "#E5ECF6",
           "radialaxis": {
            "gridcolor": "white",
            "linecolor": "white",
            "ticks": ""
           }
          },
          "scene": {
           "xaxis": {
            "backgroundcolor": "#E5ECF6",
            "gridcolor": "white",
            "gridwidth": 2,
            "linecolor": "white",
            "showbackground": true,
            "ticks": "",
            "zerolinecolor": "white"
           },
           "yaxis": {
            "backgroundcolor": "#E5ECF6",
            "gridcolor": "white",
            "gridwidth": 2,
            "linecolor": "white",
            "showbackground": true,
            "ticks": "",
            "zerolinecolor": "white"
           },
           "zaxis": {
            "backgroundcolor": "#E5ECF6",
            "gridcolor": "white",
            "gridwidth": 2,
            "linecolor": "white",
            "showbackground": true,
            "ticks": "",
            "zerolinecolor": "white"
           }
          },
          "shapedefaults": {
           "line": {
            "color": "#2a3f5f"
           }
          },
          "ternary": {
           "aaxis": {
            "gridcolor": "white",
            "linecolor": "white",
            "ticks": ""
           },
           "baxis": {
            "gridcolor": "white",
            "linecolor": "white",
            "ticks": ""
           },
           "bgcolor": "#E5ECF6",
           "caxis": {
            "gridcolor": "white",
            "linecolor": "white",
            "ticks": ""
           }
          },
          "title": {
           "x": 0.05
          },
          "xaxis": {
           "automargin": true,
           "gridcolor": "white",
           "linecolor": "white",
           "ticks": "",
           "title": {
            "standoff": 15
           },
           "zerolinecolor": "white",
           "zerolinewidth": 2
          },
          "yaxis": {
           "automargin": true,
           "gridcolor": "white",
           "linecolor": "white",
           "ticks": "",
           "title": {
            "standoff": 15
           },
           "zerolinecolor": "white",
           "zerolinewidth": 2
          }
         }
        }
       }
      },
      "text/html": [
       "<div>                            <div id=\"aff443a8-cfad-44ac-b241-6581a1f0d08b\" class=\"plotly-graph-div\" style=\"height:525px; width:100%;\"></div>            <script type=\"text/javascript\">                require([\"plotly\"], function(Plotly) {                    window.PLOTLYENV=window.PLOTLYENV || {};                                    if (document.getElementById(\"aff443a8-cfad-44ac-b241-6581a1f0d08b\")) {                    Plotly.newPlot(                        \"aff443a8-cfad-44ac-b241-6581a1f0d08b\",                        [{\"x\":[2747,1780,872,824],\"y\":[\"login\",\"product_page\",\"purchase\",\"product_cart\"],\"type\":\"funnel\"}],                        {\"template\":{\"data\":{\"bar\":[{\"error_x\":{\"color\":\"#2a3f5f\"},\"error_y\":{\"color\":\"#2a3f5f\"},\"marker\":{\"line\":{\"color\":\"#E5ECF6\",\"width\":0.5},\"pattern\":{\"fillmode\":\"overlay\",\"size\":10,\"solidity\":0.2}},\"type\":\"bar\"}],\"barpolar\":[{\"marker\":{\"line\":{\"color\":\"#E5ECF6\",\"width\":0.5},\"pattern\":{\"fillmode\":\"overlay\",\"size\":10,\"solidity\":0.2}},\"type\":\"barpolar\"}],\"carpet\":[{\"aaxis\":{\"endlinecolor\":\"#2a3f5f\",\"gridcolor\":\"white\",\"linecolor\":\"white\",\"minorgridcolor\":\"white\",\"startlinecolor\":\"#2a3f5f\"},\"baxis\":{\"endlinecolor\":\"#2a3f5f\",\"gridcolor\":\"white\",\"linecolor\":\"white\",\"minorgridcolor\":\"white\",\"startlinecolor\":\"#2a3f5f\"},\"type\":\"carpet\"}],\"choropleth\":[{\"colorbar\":{\"outlinewidth\":0,\"ticks\":\"\"},\"type\":\"choropleth\"}],\"contour\":[{\"colorbar\":{\"outlinewidth\":0,\"ticks\":\"\"},\"colorscale\":[[0.0,\"#0d0887\"],[0.1111111111111111,\"#46039f\"],[0.2222222222222222,\"#7201a8\"],[0.3333333333333333,\"#9c179e\"],[0.4444444444444444,\"#bd3786\"],[0.5555555555555556,\"#d8576b\"],[0.6666666666666666,\"#ed7953\"],[0.7777777777777778,\"#fb9f3a\"],[0.8888888888888888,\"#fdca26\"],[1.0,\"#f0f921\"]],\"type\":\"contour\"}],\"contourcarpet\":[{\"colorbar\":{\"outlinewidth\":0,\"ticks\":\"\"},\"type\":\"contourcarpet\"}],\"heatmap\":[{\"colorbar\":{\"outlinewidth\":0,\"ticks\":\"\"},\"colorscale\":[[0.0,\"#0d0887\"],[0.1111111111111111,\"#46039f\"],[0.2222222222222222,\"#7201a8\"],[0.3333333333333333,\"#9c179e\"],[0.4444444444444444,\"#bd3786\"],[0.5555555555555556,\"#d8576b\"],[0.6666666666666666,\"#ed7953\"],[0.7777777777777778,\"#fb9f3a\"],[0.8888888888888888,\"#fdca26\"],[1.0,\"#f0f921\"]],\"type\":\"heatmap\"}],\"heatmapgl\":[{\"colorbar\":{\"outlinewidth\":0,\"ticks\":\"\"},\"colorscale\":[[0.0,\"#0d0887\"],[0.1111111111111111,\"#46039f\"],[0.2222222222222222,\"#7201a8\"],[0.3333333333333333,\"#9c179e\"],[0.4444444444444444,\"#bd3786\"],[0.5555555555555556,\"#d8576b\"],[0.6666666666666666,\"#ed7953\"],[0.7777777777777778,\"#fb9f3a\"],[0.8888888888888888,\"#fdca26\"],[1.0,\"#f0f921\"]],\"type\":\"heatmapgl\"}],\"histogram\":[{\"marker\":{\"pattern\":{\"fillmode\":\"overlay\",\"size\":10,\"solidity\":0.2}},\"type\":\"histogram\"}],\"histogram2d\":[{\"colorbar\":{\"outlinewidth\":0,\"ticks\":\"\"},\"colorscale\":[[0.0,\"#0d0887\"],[0.1111111111111111,\"#46039f\"],[0.2222222222222222,\"#7201a8\"],[0.3333333333333333,\"#9c179e\"],[0.4444444444444444,\"#bd3786\"],[0.5555555555555556,\"#d8576b\"],[0.6666666666666666,\"#ed7953\"],[0.7777777777777778,\"#fb9f3a\"],[0.8888888888888888,\"#fdca26\"],[1.0,\"#f0f921\"]],\"type\":\"histogram2d\"}],\"histogram2dcontour\":[{\"colorbar\":{\"outlinewidth\":0,\"ticks\":\"\"},\"colorscale\":[[0.0,\"#0d0887\"],[0.1111111111111111,\"#46039f\"],[0.2222222222222222,\"#7201a8\"],[0.3333333333333333,\"#9c179e\"],[0.4444444444444444,\"#bd3786\"],[0.5555555555555556,\"#d8576b\"],[0.6666666666666666,\"#ed7953\"],[0.7777777777777778,\"#fb9f3a\"],[0.8888888888888888,\"#fdca26\"],[1.0,\"#f0f921\"]],\"type\":\"histogram2dcontour\"}],\"mesh3d\":[{\"colorbar\":{\"outlinewidth\":0,\"ticks\":\"\"},\"type\":\"mesh3d\"}],\"parcoords\":[{\"line\":{\"colorbar\":{\"outlinewidth\":0,\"ticks\":\"\"}},\"type\":\"parcoords\"}],\"pie\":[{\"automargin\":true,\"type\":\"pie\"}],\"scatter\":[{\"marker\":{\"colorbar\":{\"outlinewidth\":0,\"ticks\":\"\"}},\"type\":\"scatter\"}],\"scatter3d\":[{\"line\":{\"colorbar\":{\"outlinewidth\":0,\"ticks\":\"\"}},\"marker\":{\"colorbar\":{\"outlinewidth\":0,\"ticks\":\"\"}},\"type\":\"scatter3d\"}],\"scattercarpet\":[{\"marker\":{\"colorbar\":{\"outlinewidth\":0,\"ticks\":\"\"}},\"type\":\"scattercarpet\"}],\"scattergeo\":[{\"marker\":{\"colorbar\":{\"outlinewidth\":0,\"ticks\":\"\"}},\"type\":\"scattergeo\"}],\"scattergl\":[{\"marker\":{\"colorbar\":{\"outlinewidth\":0,\"ticks\":\"\"}},\"type\":\"scattergl\"}],\"scattermapbox\":[{\"marker\":{\"colorbar\":{\"outlinewidth\":0,\"ticks\":\"\"}},\"type\":\"scattermapbox\"}],\"scatterpolar\":[{\"marker\":{\"colorbar\":{\"outlinewidth\":0,\"ticks\":\"\"}},\"type\":\"scatterpolar\"}],\"scatterpolargl\":[{\"marker\":{\"colorbar\":{\"outlinewidth\":0,\"ticks\":\"\"}},\"type\":\"scatterpolargl\"}],\"scatterternary\":[{\"marker\":{\"colorbar\":{\"outlinewidth\":0,\"ticks\":\"\"}},\"type\":\"scatterternary\"}],\"surface\":[{\"colorbar\":{\"outlinewidth\":0,\"ticks\":\"\"},\"colorscale\":[[0.0,\"#0d0887\"],[0.1111111111111111,\"#46039f\"],[0.2222222222222222,\"#7201a8\"],[0.3333333333333333,\"#9c179e\"],[0.4444444444444444,\"#bd3786\"],[0.5555555555555556,\"#d8576b\"],[0.6666666666666666,\"#ed7953\"],[0.7777777777777778,\"#fb9f3a\"],[0.8888888888888888,\"#fdca26\"],[1.0,\"#f0f921\"]],\"type\":\"surface\"}],\"table\":[{\"cells\":{\"fill\":{\"color\":\"#EBF0F8\"},\"line\":{\"color\":\"white\"}},\"header\":{\"fill\":{\"color\":\"#C8D4E3\"},\"line\":{\"color\":\"white\"}},\"type\":\"table\"}]},\"layout\":{\"annotationdefaults\":{\"arrowcolor\":\"#2a3f5f\",\"arrowhead\":0,\"arrowwidth\":1},\"autotypenumbers\":\"strict\",\"coloraxis\":{\"colorbar\":{\"outlinewidth\":0,\"ticks\":\"\"}},\"colorscale\":{\"diverging\":[[0,\"#8e0152\"],[0.1,\"#c51b7d\"],[0.2,\"#de77ae\"],[0.3,\"#f1b6da\"],[0.4,\"#fde0ef\"],[0.5,\"#f7f7f7\"],[0.6,\"#e6f5d0\"],[0.7,\"#b8e186\"],[0.8,\"#7fbc41\"],[0.9,\"#4d9221\"],[1,\"#276419\"]],\"sequential\":[[0.0,\"#0d0887\"],[0.1111111111111111,\"#46039f\"],[0.2222222222222222,\"#7201a8\"],[0.3333333333333333,\"#9c179e\"],[0.4444444444444444,\"#bd3786\"],[0.5555555555555556,\"#d8576b\"],[0.6666666666666666,\"#ed7953\"],[0.7777777777777778,\"#fb9f3a\"],[0.8888888888888888,\"#fdca26\"],[1.0,\"#f0f921\"]],\"sequentialminus\":[[0.0,\"#0d0887\"],[0.1111111111111111,\"#46039f\"],[0.2222222222222222,\"#7201a8\"],[0.3333333333333333,\"#9c179e\"],[0.4444444444444444,\"#bd3786\"],[0.5555555555555556,\"#d8576b\"],[0.6666666666666666,\"#ed7953\"],[0.7777777777777778,\"#fb9f3a\"],[0.8888888888888888,\"#fdca26\"],[1.0,\"#f0f921\"]]},\"colorway\":[\"#636efa\",\"#EF553B\",\"#00cc96\",\"#ab63fa\",\"#FFA15A\",\"#19d3f3\",\"#FF6692\",\"#B6E880\",\"#FF97FF\",\"#FECB52\"],\"font\":{\"color\":\"#2a3f5f\"},\"geo\":{\"bgcolor\":\"white\",\"lakecolor\":\"white\",\"landcolor\":\"#E5ECF6\",\"showlakes\":true,\"showland\":true,\"subunitcolor\":\"white\"},\"hoverlabel\":{\"align\":\"left\"},\"hovermode\":\"closest\",\"mapbox\":{\"style\":\"light\"},\"paper_bgcolor\":\"white\",\"plot_bgcolor\":\"#E5ECF6\",\"polar\":{\"angularaxis\":{\"gridcolor\":\"white\",\"linecolor\":\"white\",\"ticks\":\"\"},\"bgcolor\":\"#E5ECF6\",\"radialaxis\":{\"gridcolor\":\"white\",\"linecolor\":\"white\",\"ticks\":\"\"}},\"scene\":{\"xaxis\":{\"backgroundcolor\":\"#E5ECF6\",\"gridcolor\":\"white\",\"gridwidth\":2,\"linecolor\":\"white\",\"showbackground\":true,\"ticks\":\"\",\"zerolinecolor\":\"white\"},\"yaxis\":{\"backgroundcolor\":\"#E5ECF6\",\"gridcolor\":\"white\",\"gridwidth\":2,\"linecolor\":\"white\",\"showbackground\":true,\"ticks\":\"\",\"zerolinecolor\":\"white\"},\"zaxis\":{\"backgroundcolor\":\"#E5ECF6\",\"gridcolor\":\"white\",\"gridwidth\":2,\"linecolor\":\"white\",\"showbackground\":true,\"ticks\":\"\",\"zerolinecolor\":\"white\"}},\"shapedefaults\":{\"line\":{\"color\":\"#2a3f5f\"}},\"ternary\":{\"aaxis\":{\"gridcolor\":\"white\",\"linecolor\":\"white\",\"ticks\":\"\"},\"baxis\":{\"gridcolor\":\"white\",\"linecolor\":\"white\",\"ticks\":\"\"},\"bgcolor\":\"#E5ECF6\",\"caxis\":{\"gridcolor\":\"white\",\"linecolor\":\"white\",\"ticks\":\"\"}},\"title\":{\"x\":0.05},\"xaxis\":{\"automargin\":true,\"gridcolor\":\"white\",\"linecolor\":\"white\",\"ticks\":\"\",\"title\":{\"standoff\":15},\"zerolinecolor\":\"white\",\"zerolinewidth\":2},\"yaxis\":{\"automargin\":true,\"gridcolor\":\"white\",\"linecolor\":\"white\",\"ticks\":\"\",\"title\":{\"standoff\":15},\"zerolinecolor\":\"white\",\"zerolinewidth\":2}}}},                        {\"responsive\": true}                    ).then(function(){\n",
       "                            \n",
       "var gd = document.getElementById('aff443a8-cfad-44ac-b241-6581a1f0d08b');\n",
       "var x = new MutationObserver(function (mutations, observer) {{\n",
       "        var display = window.getComputedStyle(gd).display;\n",
       "        if (!display || display === 'none') {{\n",
       "            console.log([gd, 'removed!']);\n",
       "            Plotly.purge(gd);\n",
       "            observer.disconnect();\n",
       "        }}\n",
       "}});\n",
       "\n",
       "// Listen for the removal of the full notebook cells\n",
       "var notebookContainer = gd.closest('#notebook-container');\n",
       "if (notebookContainer) {{\n",
       "    x.observe(notebookContainer, {childList: true});\n",
       "}}\n",
       "\n",
       "// Listen for the clearing of the current output cell\n",
       "var outputEl = gd.closest('.output');\n",
       "if (outputEl) {{\n",
       "    x.observe(outputEl, {childList: true});\n",
       "}}\n",
       "\n",
       "                        })                };                });            </script>        </div>"
      ]
     },
     "metadata": {},
     "output_type": "display_data"
    }
   ],
   "source": [
    "#построение воронки событий для тестовой группы А\n",
    "fig = go.Figure(go.Funnel(y=recommender_system_test_ft.query('group == \"A\"').groupby('event_name').agg(\n",
    "    {'user_id' : 'nunique'}).sort_values(by='user_id', ascending=False).index, x=recommender_system_test_ft.query(\n",
    "    'group == \"A\"').groupby('event_name').agg({'user_id' : 'nunique'}).sort_values(by='user_id', ascending=False)[\n",
    "    'user_id'])) \n",
    "fig.show()"
   ]
  },
  {
   "attachments": {
    "newplot%20%285%29.png": {
     "image/png": "[encoded data removed]"
    }
   },
   "cell_type": "markdown",
   "metadata": {},
   "source": [
    "![newplot%20%285%29.png](attachment:newplot%20%285%29.png)"
   ]
  },
  {
   "cell_type": "markdown",
   "metadata": {},
   "source": [
    "В воронке количество пользователей совершивших покупку превышает количество пользователей просмотревших корзину с товаром. Это значит, что просмотр корзины является необязательным этапом и совершить покупку можно сразу со страницы с товаром. В этом случае лучше ориентироваться не на конверсию от этапа к этапу, а на конверсию от первого этапа, иначе мы получим конверсию более 100% из просмотра корзины в покупку. Но этапа врронки всё равно необходимо выстроить в логической последовательности."
   ]
  },
  {
   "cell_type": "code",
   "execution_count": 85,
   "metadata": {
    "scrolled": true
   },
   "outputs": [
    {
     "data": {
      "application/vnd.plotly.v1+json": {
       "config": {
        "plotlyServerURL": "https://plot.ly"
       },
       "data": [
        {
         "type": "funnel",
         "x": [
          2747,
          1780,
          824,
          872
         ],
         "y": [
          "login",
          "product_page",
          "product_cart",
          "purchase"
         ]
        }
       ],
       "layout": {
        "template": {
         "data": {
          "bar": [
           {
            "error_x": {
             "color": "#2a3f5f"
            },
            "error_y": {
             "color": "#2a3f5f"
            },
            "marker": {
             "line": {
              "color": "#E5ECF6",
              "width": 0.5
             },
             "pattern": {
              "fillmode": "overlay",
              "size": 10,
              "solidity": 0.2
             }
            },
            "type": "bar"
           }
          ],
          "barpolar": [
           {
            "marker": {
             "line": {
              "color": "#E5ECF6",
              "width": 0.5
             },
             "pattern": {
              "fillmode": "overlay",
              "size": 10,
              "solidity": 0.2
             }
            },
            "type": "barpolar"
           }
          ],
          "carpet": [
           {
            "aaxis": {
             "endlinecolor": "#2a3f5f",
             "gridcolor": "white",
             "linecolor": "white",
             "minorgridcolor": "white",
             "startlinecolor": "#2a3f5f"
            },
            "baxis": {
             "endlinecolor": "#2a3f5f",
             "gridcolor": "white",
             "linecolor": "white",
             "minorgridcolor": "white",
             "startlinecolor": "#2a3f5f"
            },
            "type": "carpet"
           }
          ],
          "choropleth": [
           {
            "colorbar": {
             "outlinewidth": 0,
             "ticks": ""
            },
            "type": "choropleth"
           }
          ],
          "contour": [
           {
            "colorbar": {
             "outlinewidth": 0,
             "ticks": ""
            },
            "colorscale": [
             [
              0,
              "#0d0887"
             ],
             [
              0.1111111111111111,
              "#46039f"
             ],
             [
              0.2222222222222222,
              "#7201a8"
             ],
             [
              0.3333333333333333,
              "#9c179e"
             ],
             [
              0.4444444444444444,
              "#bd3786"
             ],
             [
              0.5555555555555556,
              "#d8576b"
             ],
             [
              0.6666666666666666,
              "#ed7953"
             ],
             [
              0.7777777777777778,
              "#fb9f3a"
             ],
             [
              0.8888888888888888,
              "#fdca26"
             ],
             [
              1,
              "#f0f921"
             ]
            ],
            "type": "contour"
           }
          ],
          "contourcarpet": [
           {
            "colorbar": {
             "outlinewidth": 0,
             "ticks": ""
            },
            "type": "contourcarpet"
           }
          ],
          "heatmap": [
           {
            "colorbar": {
             "outlinewidth": 0,
             "ticks": ""
            },
            "colorscale": [
             [
              0,
              "#0d0887"
             ],
             [
              0.1111111111111111,
              "#46039f"
             ],
             [
              0.2222222222222222,
              "#7201a8"
             ],
             [
              0.3333333333333333,
              "#9c179e"
             ],
             [
              0.4444444444444444,
              "#bd3786"
             ],
             [
              0.5555555555555556,
              "#d8576b"
             ],
             [
              0.6666666666666666,
              "#ed7953"
             ],
             [
              0.7777777777777778,
              "#fb9f3a"
             ],
             [
              0.8888888888888888,
              "#fdca26"
             ],
             [
              1,
              "#f0f921"
             ]
            ],
            "type": "heatmap"
           }
          ],
          "heatmapgl": [
           {
            "colorbar": {
             "outlinewidth": 0,
             "ticks": ""
            },
            "colorscale": [
             [
              0,
              "#0d0887"
             ],
             [
              0.1111111111111111,
              "#46039f"
             ],
             [
              0.2222222222222222,
              "#7201a8"
             ],
             [
              0.3333333333333333,
              "#9c179e"
             ],
             [
              0.4444444444444444,
              "#bd3786"
             ],
             [
              0.5555555555555556,
              "#d8576b"
             ],
             [
              0.6666666666666666,
              "#ed7953"
             ],
             [
              0.7777777777777778,
              "#fb9f3a"
             ],
             [
              0.8888888888888888,
              "#fdca26"
             ],
             [
              1,
              "#f0f921"
             ]
            ],
            "type": "heatmapgl"
           }
          ],
          "histogram": [
           {
            "marker": {
             "pattern": {
              "fillmode": "overlay",
              "size": 10,
              "solidity": 0.2
             }
            },
            "type": "histogram"
           }
          ],
          "histogram2d": [
           {
            "colorbar": {
             "outlinewidth": 0,
             "ticks": ""
            },
            "colorscale": [
             [
              0,
              "#0d0887"
             ],
             [
              0.1111111111111111,
              "#46039f"
             ],
             [
              0.2222222222222222,
              "#7201a8"
             ],
             [
              0.3333333333333333,
              "#9c179e"
             ],
             [
              0.4444444444444444,
              "#bd3786"
             ],
             [
              0.5555555555555556,
              "#d8576b"
             ],
             [
              0.6666666666666666,
              "#ed7953"
             ],
             [
              0.7777777777777778,
              "#fb9f3a"
             ],
             [
              0.8888888888888888,
              "#fdca26"
             ],
             [
              1,
              "#f0f921"
             ]
            ],
            "type": "histogram2d"
           }
          ],
          "histogram2dcontour": [
           {
            "colorbar": {
             "outlinewidth": 0,
             "ticks": ""
            },
            "colorscale": [
             [
              0,
              "#0d0887"
             ],
             [
              0.1111111111111111,
              "#46039f"
             ],
             [
              0.2222222222222222,
              "#7201a8"
             ],
             [
              0.3333333333333333,
              "#9c179e"
             ],
             [
              0.4444444444444444,
              "#bd3786"
             ],
             [
              0.5555555555555556,
              "#d8576b"
             ],
             [
              0.6666666666666666,
              "#ed7953"
             ],
             [
              0.7777777777777778,
              "#fb9f3a"
             ],
             [
              0.8888888888888888,
              "#fdca26"
             ],
             [
              1,
              "#f0f921"
             ]
            ],
            "type": "histogram2dcontour"
           }
          ],
          "mesh3d": [
           {
            "colorbar": {
             "outlinewidth": 0,
             "ticks": ""
            },
            "type": "mesh3d"
           }
          ],
          "parcoords": [
           {
            "line": {
             "colorbar": {
              "outlinewidth": 0,
              "ticks": ""
             }
            },
            "type": "parcoords"
           }
          ],
          "pie": [
           {
            "automargin": true,
            "type": "pie"
           }
          ],
          "scatter": [
           {
            "marker": {
             "colorbar": {
              "outlinewidth": 0,
              "ticks": ""
             }
            },
            "type": "scatter"
           }
          ],
          "scatter3d": [
           {
            "line": {
             "colorbar": {
              "outlinewidth": 0,
              "ticks": ""
             }
            },
            "marker": {
             "colorbar": {
              "outlinewidth": 0,
              "ticks": ""
             }
            },
            "type": "scatter3d"
           }
          ],
          "scattercarpet": [
           {
            "marker": {
             "colorbar": {
              "outlinewidth": 0,
              "ticks": ""
             }
            },
            "type": "scattercarpet"
           }
          ],
          "scattergeo": [
           {
            "marker": {
             "colorbar": {
              "outlinewidth": 0,
              "ticks": ""
             }
            },
            "type": "scattergeo"
           }
          ],
          "scattergl": [
           {
            "marker": {
             "colorbar": {
              "outlinewidth": 0,
              "ticks": ""
             }
            },
            "type": "scattergl"
           }
          ],
          "scattermapbox": [
           {
            "marker": {
             "colorbar": {
              "outlinewidth": 0,
              "ticks": ""
             }
            },
            "type": "scattermapbox"
           }
          ],
          "scatterpolar": [
           {
            "marker": {
             "colorbar": {
              "outlinewidth": 0,
              "ticks": ""
             }
            },
            "type": "scatterpolar"
           }
          ],
          "scatterpolargl": [
           {
            "marker": {
             "colorbar": {
              "outlinewidth": 0,
              "ticks": ""
             }
            },
            "type": "scatterpolargl"
           }
          ],
          "scatterternary": [
           {
            "marker": {
             "colorbar": {
              "outlinewidth": 0,
              "ticks": ""
             }
            },
            "type": "scatterternary"
           }
          ],
          "surface": [
           {
            "colorbar": {
             "outlinewidth": 0,
             "ticks": ""
            },
            "colorscale": [
             [
              0,
              "#0d0887"
             ],
             [
              0.1111111111111111,
              "#46039f"
             ],
             [
              0.2222222222222222,
              "#7201a8"
             ],
             [
              0.3333333333333333,
              "#9c179e"
             ],
             [
              0.4444444444444444,
              "#bd3786"
             ],
             [
              0.5555555555555556,
              "#d8576b"
             ],
             [
              0.6666666666666666,
              "#ed7953"
             ],
             [
              0.7777777777777778,
              "#fb9f3a"
             ],
             [
              0.8888888888888888,
              "#fdca26"
             ],
             [
              1,
              "#f0f921"
             ]
            ],
            "type": "surface"
           }
          ],
          "table": [
           {
            "cells": {
             "fill": {
              "color": "#EBF0F8"
             },
             "line": {
              "color": "white"
             }
            },
            "header": {
             "fill": {
              "color": "#C8D4E3"
             },
             "line": {
              "color": "white"
             }
            },
            "type": "table"
           }
          ]
         },
         "layout": {
          "annotationdefaults": {
           "arrowcolor": "#2a3f5f",
           "arrowhead": 0,
           "arrowwidth": 1
          },
          "autotypenumbers": "strict",
          "coloraxis": {
           "colorbar": {
            "outlinewidth": 0,
            "ticks": ""
           }
          },
          "colorscale": {
           "diverging": [
            [
             0,
             "#8e0152"
            ],
            [
             0.1,
             "#c51b7d"
            ],
            [
             0.2,
             "#de77ae"
            ],
            [
             0.3,
             "#f1b6da"
            ],
            [
             0.4,
             "#fde0ef"
            ],
            [
             0.5,
             "#f7f7f7"
            ],
            [
             0.6,
             "#e6f5d0"
            ],
            [
             0.7,
             "#b8e186"
            ],
            [
             0.8,
             "#7fbc41"
            ],
            [
             0.9,
             "#4d9221"
            ],
            [
             1,
             "#276419"
            ]
           ],
           "sequential": [
            [
             0,
             "#0d0887"
            ],
            [
             0.1111111111111111,
             "#46039f"
            ],
            [
             0.2222222222222222,
             "#7201a8"
            ],
            [
             0.3333333333333333,
             "#9c179e"
            ],
            [
             0.4444444444444444,
             "#bd3786"
            ],
            [
             0.5555555555555556,
             "#d8576b"
            ],
            [
             0.6666666666666666,
             "#ed7953"
            ],
            [
             0.7777777777777778,
             "#fb9f3a"
            ],
            [
             0.8888888888888888,
             "#fdca26"
            ],
            [
             1,
             "#f0f921"
            ]
           ],
           "sequentialminus": [
            [
             0,
             "#0d0887"
            ],
            [
             0.1111111111111111,
             "#46039f"
            ],
            [
             0.2222222222222222,
             "#7201a8"
            ],
            [
             0.3333333333333333,
             "#9c179e"
            ],
            [
             0.4444444444444444,
             "#bd3786"
            ],
            [
             0.5555555555555556,
             "#d8576b"
            ],
            [
             0.6666666666666666,
             "#ed7953"
            ],
            [
             0.7777777777777778,
             "#fb9f3a"
            ],
            [
             0.8888888888888888,
             "#fdca26"
            ],
            [
             1,
             "#f0f921"
            ]
           ]
          },
          "colorway": [
           "#636efa",
           "#EF553B",
           "#00cc96",
           "#ab63fa",
           "#FFA15A",
           "#19d3f3",
           "#FF6692",
           "#B6E880",
           "#FF97FF",
           "#FECB52"
          ],
          "font": {
           "color": "#2a3f5f"
          },
          "geo": {
           "bgcolor": "white",
           "lakecolor": "white",
           "landcolor": "#E5ECF6",
           "showlakes": true,
           "showland": true,
           "subunitcolor": "white"
          },
          "hoverlabel": {
           "align": "left"
          },
          "hovermode": "closest",
          "mapbox": {
           "style": "light"
          },
          "paper_bgcolor": "white",
          "plot_bgcolor": "#E5ECF6",
          "polar": {
           "angularaxis": {
            "gridcolor": "white",
            "linecolor": "white",
            "ticks": ""
           },
           "bgcolor": "#E5ECF6",
           "radialaxis": {
            "gridcolor": "white",
            "linecolor": "white",
            "ticks": ""
           }
          },
          "scene": {
           "xaxis": {
            "backgroundcolor": "#E5ECF6",
            "gridcolor": "white",
            "gridwidth": 2,
            "linecolor": "white",
            "showbackground": true,
            "ticks": "",
            "zerolinecolor": "white"
           },
           "yaxis": {
            "backgroundcolor": "#E5ECF6",
            "gridcolor": "white",
            "gridwidth": 2,
            "linecolor": "white",
            "showbackground": true,
            "ticks": "",
            "zerolinecolor": "white"
           },
           "zaxis": {
            "backgroundcolor": "#E5ECF6",
            "gridcolor": "white",
            "gridwidth": 2,
            "linecolor": "white",
            "showbackground": true,
            "ticks": "",
            "zerolinecolor": "white"
           }
          },
          "shapedefaults": {
           "line": {
            "color": "#2a3f5f"
           }
          },
          "ternary": {
           "aaxis": {
            "gridcolor": "white",
            "linecolor": "white",
            "ticks": ""
           },
           "baxis": {
            "gridcolor": "white",
            "linecolor": "white",
            "ticks": ""
           },
           "bgcolor": "#E5ECF6",
           "caxis": {
            "gridcolor": "white",
            "linecolor": "white",
            "ticks": ""
           }
          },
          "title": {
           "x": 0.05
          },
          "xaxis": {
           "automargin": true,
           "gridcolor": "white",
           "linecolor": "white",
           "ticks": "",
           "title": {
            "standoff": 15
           },
           "zerolinecolor": "white",
           "zerolinewidth": 2
          },
          "yaxis": {
           "automargin": true,
           "gridcolor": "white",
           "linecolor": "white",
           "ticks": "",
           "title": {
            "standoff": 15
           },
           "zerolinecolor": "white",
           "zerolinewidth": 2
          }
         }
        }
       }
      },
      "text/html": [
       "<div>                            <div id=\"01031ecc-9934-49e8-b0e6-c269642e100a\" class=\"plotly-graph-div\" style=\"height:525px; width:100%;\"></div>            <script type=\"text/javascript\">                require([\"plotly\"], function(Plotly) {                    window.PLOTLYENV=window.PLOTLYENV || {};                                    if (document.getElementById(\"01031ecc-9934-49e8-b0e6-c269642e100a\")) {                    Plotly.newPlot(                        \"01031ecc-9934-49e8-b0e6-c269642e100a\",                        [{\"x\":[2747,1780,824,872],\"y\":[\"login\",\"product_page\",\"product_cart\",\"purchase\"],\"type\":\"funnel\"}],                        {\"template\":{\"data\":{\"bar\":[{\"error_x\":{\"color\":\"#2a3f5f\"},\"error_y\":{\"color\":\"#2a3f5f\"},\"marker\":{\"line\":{\"color\":\"#E5ECF6\",\"width\":0.5},\"pattern\":{\"fillmode\":\"overlay\",\"size\":10,\"solidity\":0.2}},\"type\":\"bar\"}],\"barpolar\":[{\"marker\":{\"line\":{\"color\":\"#E5ECF6\",\"width\":0.5},\"pattern\":{\"fillmode\":\"overlay\",\"size\":10,\"solidity\":0.2}},\"type\":\"barpolar\"}],\"carpet\":[{\"aaxis\":{\"endlinecolor\":\"#2a3f5f\",\"gridcolor\":\"white\",\"linecolor\":\"white\",\"minorgridcolor\":\"white\",\"startlinecolor\":\"#2a3f5f\"},\"baxis\":{\"endlinecolor\":\"#2a3f5f\",\"gridcolor\":\"white\",\"linecolor\":\"white\",\"minorgridcolor\":\"white\",\"startlinecolor\":\"#2a3f5f\"},\"type\":\"carpet\"}],\"choropleth\":[{\"colorbar\":{\"outlinewidth\":0,\"ticks\":\"\"},\"type\":\"choropleth\"}],\"contour\":[{\"colorbar\":{\"outlinewidth\":0,\"ticks\":\"\"},\"colorscale\":[[0.0,\"#0d0887\"],[0.1111111111111111,\"#46039f\"],[0.2222222222222222,\"#7201a8\"],[0.3333333333333333,\"#9c179e\"],[0.4444444444444444,\"#bd3786\"],[0.5555555555555556,\"#d8576b\"],[0.6666666666666666,\"#ed7953\"],[0.7777777777777778,\"#fb9f3a\"],[0.8888888888888888,\"#fdca26\"],[1.0,\"#f0f921\"]],\"type\":\"contour\"}],\"contourcarpet\":[{\"colorbar\":{\"outlinewidth\":0,\"ticks\":\"\"},\"type\":\"contourcarpet\"}],\"heatmap\":[{\"colorbar\":{\"outlinewidth\":0,\"ticks\":\"\"},\"colorscale\":[[0.0,\"#0d0887\"],[0.1111111111111111,\"#46039f\"],[0.2222222222222222,\"#7201a8\"],[0.3333333333333333,\"#9c179e\"],[0.4444444444444444,\"#bd3786\"],[0.5555555555555556,\"#d8576b\"],[0.6666666666666666,\"#ed7953\"],[0.7777777777777778,\"#fb9f3a\"],[0.8888888888888888,\"#fdca26\"],[1.0,\"#f0f921\"]],\"type\":\"heatmap\"}],\"heatmapgl\":[{\"colorbar\":{\"outlinewidth\":0,\"ticks\":\"\"},\"colorscale\":[[0.0,\"#0d0887\"],[0.1111111111111111,\"#46039f\"],[0.2222222222222222,\"#7201a8\"],[0.3333333333333333,\"#9c179e\"],[0.4444444444444444,\"#bd3786\"],[0.5555555555555556,\"#d8576b\"],[0.6666666666666666,\"#ed7953\"],[0.7777777777777778,\"#fb9f3a\"],[0.8888888888888888,\"#fdca26\"],[1.0,\"#f0f921\"]],\"type\":\"heatmapgl\"}],\"histogram\":[{\"marker\":{\"pattern\":{\"fillmode\":\"overlay\",\"size\":10,\"solidity\":0.2}},\"type\":\"histogram\"}],\"histogram2d\":[{\"colorbar\":{\"outlinewidth\":0,\"ticks\":\"\"},\"colorscale\":[[0.0,\"#0d0887\"],[0.1111111111111111,\"#46039f\"],[0.2222222222222222,\"#7201a8\"],[0.3333333333333333,\"#9c179e\"],[0.4444444444444444,\"#bd3786\"],[0.5555555555555556,\"#d8576b\"],[0.6666666666666666,\"#ed7953\"],[0.7777777777777778,\"#fb9f3a\"],[0.8888888888888888,\"#fdca26\"],[1.0,\"#f0f921\"]],\"type\":\"histogram2d\"}],\"histogram2dcontour\":[{\"colorbar\":{\"outlinewidth\":0,\"ticks\":\"\"},\"colorscale\":[[0.0,\"#0d0887\"],[0.1111111111111111,\"#46039f\"],[0.2222222222222222,\"#7201a8\"],[0.3333333333333333,\"#9c179e\"],[0.4444444444444444,\"#bd3786\"],[0.5555555555555556,\"#d8576b\"],[0.6666666666666666,\"#ed7953\"],[0.7777777777777778,\"#fb9f3a\"],[0.8888888888888888,\"#fdca26\"],[1.0,\"#f0f921\"]],\"type\":\"histogram2dcontour\"}],\"mesh3d\":[{\"colorbar\":{\"outlinewidth\":0,\"ticks\":\"\"},\"type\":\"mesh3d\"}],\"parcoords\":[{\"line\":{\"colorbar\":{\"outlinewidth\":0,\"ticks\":\"\"}},\"type\":\"parcoords\"}],\"pie\":[{\"automargin\":true,\"type\":\"pie\"}],\"scatter\":[{\"marker\":{\"colorbar\":{\"outlinewidth\":0,\"ticks\":\"\"}},\"type\":\"scatter\"}],\"scatter3d\":[{\"line\":{\"colorbar\":{\"outlinewidth\":0,\"ticks\":\"\"}},\"marker\":{\"colorbar\":{\"outlinewidth\":0,\"ticks\":\"\"}},\"type\":\"scatter3d\"}],\"scattercarpet\":[{\"marker\":{\"colorbar\":{\"outlinewidth\":0,\"ticks\":\"\"}},\"type\":\"scattercarpet\"}],\"scattergeo\":[{\"marker\":{\"colorbar\":{\"outlinewidth\":0,\"ticks\":\"\"}},\"type\":\"scattergeo\"}],\"scattergl\":[{\"marker\":{\"colorbar\":{\"outlinewidth\":0,\"ticks\":\"\"}},\"type\":\"scattergl\"}],\"scattermapbox\":[{\"marker\":{\"colorbar\":{\"outlinewidth\":0,\"ticks\":\"\"}},\"type\":\"scattermapbox\"}],\"scatterpolar\":[{\"marker\":{\"colorbar\":{\"outlinewidth\":0,\"ticks\":\"\"}},\"type\":\"scatterpolar\"}],\"scatterpolargl\":[{\"marker\":{\"colorbar\":{\"outlinewidth\":0,\"ticks\":\"\"}},\"type\":\"scatterpolargl\"}],\"scatterternary\":[{\"marker\":{\"colorbar\":{\"outlinewidth\":0,\"ticks\":\"\"}},\"type\":\"scatterternary\"}],\"surface\":[{\"colorbar\":{\"outlinewidth\":0,\"ticks\":\"\"},\"colorscale\":[[0.0,\"#0d0887\"],[0.1111111111111111,\"#46039f\"],[0.2222222222222222,\"#7201a8\"],[0.3333333333333333,\"#9c179e\"],[0.4444444444444444,\"#bd3786\"],[0.5555555555555556,\"#d8576b\"],[0.6666666666666666,\"#ed7953\"],[0.7777777777777778,\"#fb9f3a\"],[0.8888888888888888,\"#fdca26\"],[1.0,\"#f0f921\"]],\"type\":\"surface\"}],\"table\":[{\"cells\":{\"fill\":{\"color\":\"#EBF0F8\"},\"line\":{\"color\":\"white\"}},\"header\":{\"fill\":{\"color\":\"#C8D4E3\"},\"line\":{\"color\":\"white\"}},\"type\":\"table\"}]},\"layout\":{\"annotationdefaults\":{\"arrowcolor\":\"#2a3f5f\",\"arrowhead\":0,\"arrowwidth\":1},\"autotypenumbers\":\"strict\",\"coloraxis\":{\"colorbar\":{\"outlinewidth\":0,\"ticks\":\"\"}},\"colorscale\":{\"diverging\":[[0,\"#8e0152\"],[0.1,\"#c51b7d\"],[0.2,\"#de77ae\"],[0.3,\"#f1b6da\"],[0.4,\"#fde0ef\"],[0.5,\"#f7f7f7\"],[0.6,\"#e6f5d0\"],[0.7,\"#b8e186\"],[0.8,\"#7fbc41\"],[0.9,\"#4d9221\"],[1,\"#276419\"]],\"sequential\":[[0.0,\"#0d0887\"],[0.1111111111111111,\"#46039f\"],[0.2222222222222222,\"#7201a8\"],[0.3333333333333333,\"#9c179e\"],[0.4444444444444444,\"#bd3786\"],[0.5555555555555556,\"#d8576b\"],[0.6666666666666666,\"#ed7953\"],[0.7777777777777778,\"#fb9f3a\"],[0.8888888888888888,\"#fdca26\"],[1.0,\"#f0f921\"]],\"sequentialminus\":[[0.0,\"#0d0887\"],[0.1111111111111111,\"#46039f\"],[0.2222222222222222,\"#7201a8\"],[0.3333333333333333,\"#9c179e\"],[0.4444444444444444,\"#bd3786\"],[0.5555555555555556,\"#d8576b\"],[0.6666666666666666,\"#ed7953\"],[0.7777777777777778,\"#fb9f3a\"],[0.8888888888888888,\"#fdca26\"],[1.0,\"#f0f921\"]]},\"colorway\":[\"#636efa\",\"#EF553B\",\"#00cc96\",\"#ab63fa\",\"#FFA15A\",\"#19d3f3\",\"#FF6692\",\"#B6E880\",\"#FF97FF\",\"#FECB52\"],\"font\":{\"color\":\"#2a3f5f\"},\"geo\":{\"bgcolor\":\"white\",\"lakecolor\":\"white\",\"landcolor\":\"#E5ECF6\",\"showlakes\":true,\"showland\":true,\"subunitcolor\":\"white\"},\"hoverlabel\":{\"align\":\"left\"},\"hovermode\":\"closest\",\"mapbox\":{\"style\":\"light\"},\"paper_bgcolor\":\"white\",\"plot_bgcolor\":\"#E5ECF6\",\"polar\":{\"angularaxis\":{\"gridcolor\":\"white\",\"linecolor\":\"white\",\"ticks\":\"\"},\"bgcolor\":\"#E5ECF6\",\"radialaxis\":{\"gridcolor\":\"white\",\"linecolor\":\"white\",\"ticks\":\"\"}},\"scene\":{\"xaxis\":{\"backgroundcolor\":\"#E5ECF6\",\"gridcolor\":\"white\",\"gridwidth\":2,\"linecolor\":\"white\",\"showbackground\":true,\"ticks\":\"\",\"zerolinecolor\":\"white\"},\"yaxis\":{\"backgroundcolor\":\"#E5ECF6\",\"gridcolor\":\"white\",\"gridwidth\":2,\"linecolor\":\"white\",\"showbackground\":true,\"ticks\":\"\",\"zerolinecolor\":\"white\"},\"zaxis\":{\"backgroundcolor\":\"#E5ECF6\",\"gridcolor\":\"white\",\"gridwidth\":2,\"linecolor\":\"white\",\"showbackground\":true,\"ticks\":\"\",\"zerolinecolor\":\"white\"}},\"shapedefaults\":{\"line\":{\"color\":\"#2a3f5f\"}},\"ternary\":{\"aaxis\":{\"gridcolor\":\"white\",\"linecolor\":\"white\",\"ticks\":\"\"},\"baxis\":{\"gridcolor\":\"white\",\"linecolor\":\"white\",\"ticks\":\"\"},\"bgcolor\":\"#E5ECF6\",\"caxis\":{\"gridcolor\":\"white\",\"linecolor\":\"white\",\"ticks\":\"\"}},\"title\":{\"x\":0.05},\"xaxis\":{\"automargin\":true,\"gridcolor\":\"white\",\"linecolor\":\"white\",\"ticks\":\"\",\"title\":{\"standoff\":15},\"zerolinecolor\":\"white\",\"zerolinewidth\":2},\"yaxis\":{\"automargin\":true,\"gridcolor\":\"white\",\"linecolor\":\"white\",\"ticks\":\"\",\"title\":{\"standoff\":15},\"zerolinecolor\":\"white\",\"zerolinewidth\":2}}}},                        {\"responsive\": true}                    ).then(function(){\n",
       "                            \n",
       "var gd = document.getElementById('01031ecc-9934-49e8-b0e6-c269642e100a');\n",
       "var x = new MutationObserver(function (mutations, observer) {{\n",
       "        var display = window.getComputedStyle(gd).display;\n",
       "        if (!display || display === 'none') {{\n",
       "            console.log([gd, 'removed!']);\n",
       "            Plotly.purge(gd);\n",
       "            observer.disconnect();\n",
       "        }}\n",
       "}});\n",
       "\n",
       "// Listen for the removal of the full notebook cells\n",
       "var notebookContainer = gd.closest('#notebook-container');\n",
       "if (notebookContainer) {{\n",
       "    x.observe(notebookContainer, {childList: true});\n",
       "}}\n",
       "\n",
       "// Listen for the clearing of the current output cell\n",
       "var outputEl = gd.closest('.output');\n",
       "if (outputEl) {{\n",
       "    x.observe(outputEl, {childList: true});\n",
       "}}\n",
       "\n",
       "                        })                };                });            </script>        </div>"
      ]
     },
     "metadata": {},
     "output_type": "display_data"
    }
   ],
   "source": [
    "new_index = ['login', 'product_page', 'product_cart', 'purchase'] #корректная последовательность индексов\n",
    "\n",
    "fig = go.Figure(go.Funnel(y=recommender_system_test_ft.query('group == \"A\"').groupby('event_name').agg(\n",
    "    {'user_id' : 'nunique'}).sort_values(by='user_id', ascending=False).reindex(new_index).index, \n",
    "                          x=recommender_system_test_ft.query('group == \"A\"').groupby('event_name').agg(\n",
    "                              {'user_id' : 'nunique'}).sort_values(by='user_id', ascending=False).reindex(\n",
    "                              new_index)['user_id'])) \n",
    "fig.show()"
   ]
  },
  {
   "attachments": {
    "newplot%20%286%29.png": {
     "image/png": "[encoded data removed]"
    }
   },
   "cell_type": "markdown",
   "metadata": {},
   "source": [
    "![newplot%20%286%29.png](attachment:newplot%20%286%29.png)"
   ]
  },
  {
   "cell_type": "markdown",
   "metadata": {},
   "source": [
    "В группе \"А\" регистрацию прошли 2747 пользователей, 1780 пользователей просмотрели карточку товара, конверсия на этом этапе составила 64,8%; 824 пользователя просмотрели корзину с товаром, конверсия с предыдущего этапа составила 46,3%, а конверсия из регистрации составила 30%; и 872 пользователя совершили покупку, конверсия от первого этапа - 31,7%."
   ]
  },
  {
   "cell_type": "code",
   "execution_count": 86,
   "metadata": {
    "scrolled": true
   },
   "outputs": [
    {
     "data": {
      "application/vnd.plotly.v1+json": {
       "config": {
        "plotlyServerURL": "https://plot.ly"
       },
       "data": [
        {
         "type": "funnel",
         "x": [
          927,
          523,
          255,
          256
         ],
         "y": [
          "login",
          "product_page",
          "product_cart",
          "purchase"
         ]
        }
       ],
       "layout": {
        "template": {
         "data": {
          "bar": [
           {
            "error_x": {
             "color": "#2a3f5f"
            },
            "error_y": {
             "color": "#2a3f5f"
            },
            "marker": {
             "line": {
              "color": "#E5ECF6",
              "width": 0.5
             },
             "pattern": {
              "fillmode": "overlay",
              "size": 10,
              "solidity": 0.2
             }
            },
            "type": "bar"
           }
          ],
          "barpolar": [
           {
            "marker": {
             "line": {
              "color": "#E5ECF6",
              "width": 0.5
             },
             "pattern": {
              "fillmode": "overlay",
              "size": 10,
              "solidity": 0.2
             }
            },
            "type": "barpolar"
           }
          ],
          "carpet": [
           {
            "aaxis": {
             "endlinecolor": "#2a3f5f",
             "gridcolor": "white",
             "linecolor": "white",
             "minorgridcolor": "white",
             "startlinecolor": "#2a3f5f"
            },
            "baxis": {
             "endlinecolor": "#2a3f5f",
             "gridcolor": "white",
             "linecolor": "white",
             "minorgridcolor": "white",
             "startlinecolor": "#2a3f5f"
            },
            "type": "carpet"
           }
          ],
          "choropleth": [
           {
            "colorbar": {
             "outlinewidth": 0,
             "ticks": ""
            },
            "type": "choropleth"
           }
          ],
          "contour": [
           {
            "colorbar": {
             "outlinewidth": 0,
             "ticks": ""
            },
            "colorscale": [
             [
              0,
              "#0d0887"
             ],
             [
              0.1111111111111111,
              "#46039f"
             ],
             [
              0.2222222222222222,
              "#7201a8"
             ],
             [
              0.3333333333333333,
              "#9c179e"
             ],
             [
              0.4444444444444444,
              "#bd3786"
             ],
             [
              0.5555555555555556,
              "#d8576b"
             ],
             [
              0.6666666666666666,
              "#ed7953"
             ],
             [
              0.7777777777777778,
              "#fb9f3a"
             ],
             [
              0.8888888888888888,
              "#fdca26"
             ],
             [
              1,
              "#f0f921"
             ]
            ],
            "type": "contour"
           }
          ],
          "contourcarpet": [
           {
            "colorbar": {
             "outlinewidth": 0,
             "ticks": ""
            },
            "type": "contourcarpet"
           }
          ],
          "heatmap": [
           {
            "colorbar": {
             "outlinewidth": 0,
             "ticks": ""
            },
            "colorscale": [
             [
              0,
              "#0d0887"
             ],
             [
              0.1111111111111111,
              "#46039f"
             ],
             [
              0.2222222222222222,
              "#7201a8"
             ],
             [
              0.3333333333333333,
              "#9c179e"
             ],
             [
              0.4444444444444444,
              "#bd3786"
             ],
             [
              0.5555555555555556,
              "#d8576b"
             ],
             [
              0.6666666666666666,
              "#ed7953"
             ],
             [
              0.7777777777777778,
              "#fb9f3a"
             ],
             [
              0.8888888888888888,
              "#fdca26"
             ],
             [
              1,
              "#f0f921"
             ]
            ],
            "type": "heatmap"
           }
          ],
          "heatmapgl": [
           {
            "colorbar": {
             "outlinewidth": 0,
             "ticks": ""
            },
            "colorscale": [
             [
              0,
              "#0d0887"
             ],
             [
              0.1111111111111111,
              "#46039f"
             ],
             [
              0.2222222222222222,
              "#7201a8"
             ],
             [
              0.3333333333333333,
              "#9c179e"
             ],
             [
              0.4444444444444444,
              "#bd3786"
             ],
             [
              0.5555555555555556,
              "#d8576b"
             ],
             [
              0.6666666666666666,
              "#ed7953"
             ],
             [
              0.7777777777777778,
              "#fb9f3a"
             ],
             [
              0.8888888888888888,
              "#fdca26"
             ],
             [
              1,
              "#f0f921"
             ]
            ],
            "type": "heatmapgl"
           }
          ],
          "histogram": [
           {
            "marker": {
             "pattern": {
              "fillmode": "overlay",
              "size": 10,
              "solidity": 0.2
             }
            },
            "type": "histogram"
           }
          ],
          "histogram2d": [
           {
            "colorbar": {
             "outlinewidth": 0,
             "ticks": ""
            },
            "colorscale": [
             [
              0,
              "#0d0887"
             ],
             [
              0.1111111111111111,
              "#46039f"
             ],
             [
              0.2222222222222222,
              "#7201a8"
             ],
             [
              0.3333333333333333,
              "#9c179e"
             ],
             [
              0.4444444444444444,
              "#bd3786"
             ],
             [
              0.5555555555555556,
              "#d8576b"
             ],
             [
              0.6666666666666666,
              "#ed7953"
             ],
             [
              0.7777777777777778,
              "#fb9f3a"
             ],
             [
              0.8888888888888888,
              "#fdca26"
             ],
             [
              1,
              "#f0f921"
             ]
            ],
            "type": "histogram2d"
           }
          ],
          "histogram2dcontour": [
           {
            "colorbar": {
             "outlinewidth": 0,
             "ticks": ""
            },
            "colorscale": [
             [
              0,
              "#0d0887"
             ],
             [
              0.1111111111111111,
              "#46039f"
             ],
             [
              0.2222222222222222,
              "#7201a8"
             ],
             [
              0.3333333333333333,
              "#9c179e"
             ],
             [
              0.4444444444444444,
              "#bd3786"
             ],
             [
              0.5555555555555556,
              "#d8576b"
             ],
             [
              0.6666666666666666,
              "#ed7953"
             ],
             [
              0.7777777777777778,
              "#fb9f3a"
             ],
             [
              0.8888888888888888,
              "#fdca26"
             ],
             [
              1,
              "#f0f921"
             ]
            ],
            "type": "histogram2dcontour"
           }
          ],
          "mesh3d": [
           {
            "colorbar": {
             "outlinewidth": 0,
             "ticks": ""
            },
            "type": "mesh3d"
           }
          ],
          "parcoords": [
           {
            "line": {
             "colorbar": {
              "outlinewidth": 0,
              "ticks": ""
             }
            },
            "type": "parcoords"
           }
          ],
          "pie": [
           {
            "automargin": true,
            "type": "pie"
           }
          ],
          "scatter": [
           {
            "marker": {
             "colorbar": {
              "outlinewidth": 0,
              "ticks": ""
             }
            },
            "type": "scatter"
           }
          ],
          "scatter3d": [
           {
            "line": {
             "colorbar": {
              "outlinewidth": 0,
              "ticks": ""
             }
            },
            "marker": {
             "colorbar": {
              "outlinewidth": 0,
              "ticks": ""
             }
            },
            "type": "scatter3d"
           }
          ],
          "scattercarpet": [
           {
            "marker": {
             "colorbar": {
              "outlinewidth": 0,
              "ticks": ""
             }
            },
            "type": "scattercarpet"
           }
          ],
          "scattergeo": [
           {
            "marker": {
             "colorbar": {
              "outlinewidth": 0,
              "ticks": ""
             }
            },
            "type": "scattergeo"
           }
          ],
          "scattergl": [
           {
            "marker": {
             "colorbar": {
              "outlinewidth": 0,
              "ticks": ""
             }
            },
            "type": "scattergl"
           }
          ],
          "scattermapbox": [
           {
            "marker": {
             "colorbar": {
              "outlinewidth": 0,
              "ticks": ""
             }
            },
            "type": "scattermapbox"
           }
          ],
          "scatterpolar": [
           {
            "marker": {
             "colorbar": {
              "outlinewidth": 0,
              "ticks": ""
             }
            },
            "type": "scatterpolar"
           }
          ],
          "scatterpolargl": [
           {
            "marker": {
             "colorbar": {
              "outlinewidth": 0,
              "ticks": ""
             }
            },
            "type": "scatterpolargl"
           }
          ],
          "scatterternary": [
           {
            "marker": {
             "colorbar": {
              "outlinewidth": 0,
              "ticks": ""
             }
            },
            "type": "scatterternary"
           }
          ],
          "surface": [
           {
            "colorbar": {
             "outlinewidth": 0,
             "ticks": ""
            },
            "colorscale": [
             [
              0,
              "#0d0887"
             ],
             [
              0.1111111111111111,
              "#46039f"
             ],
             [
              0.2222222222222222,
              "#7201a8"
             ],
             [
              0.3333333333333333,
              "#9c179e"
             ],
             [
              0.4444444444444444,
              "#bd3786"
             ],
             [
              0.5555555555555556,
              "#d8576b"
             ],
             [
              0.6666666666666666,
              "#ed7953"
             ],
             [
              0.7777777777777778,
              "#fb9f3a"
             ],
             [
              0.8888888888888888,
              "#fdca26"
             ],
             [
              1,
              "#f0f921"
             ]
            ],
            "type": "surface"
           }
          ],
          "table": [
           {
            "cells": {
             "fill": {
              "color": "#EBF0F8"
             },
             "line": {
              "color": "white"
             }
            },
            "header": {
             "fill": {
              "color": "#C8D4E3"
             },
             "line": {
              "color": "white"
             }
            },
            "type": "table"
           }
          ]
         },
         "layout": {
          "annotationdefaults": {
           "arrowcolor": "#2a3f5f",
           "arrowhead": 0,
           "arrowwidth": 1
          },
          "autotypenumbers": "strict",
          "coloraxis": {
           "colorbar": {
            "outlinewidth": 0,
            "ticks": ""
           }
          },
          "colorscale": {
           "diverging": [
            [
             0,
             "#8e0152"
            ],
            [
             0.1,
             "#c51b7d"
            ],
            [
             0.2,
             "#de77ae"
            ],
            [
             0.3,
             "#f1b6da"
            ],
            [
             0.4,
             "#fde0ef"
            ],
            [
             0.5,
             "#f7f7f7"
            ],
            [
             0.6,
             "#e6f5d0"
            ],
            [
             0.7,
             "#b8e186"
            ],
            [
             0.8,
             "#7fbc41"
            ],
            [
             0.9,
             "#4d9221"
            ],
            [
             1,
             "#276419"
            ]
           ],
           "sequential": [
            [
             0,
             "#0d0887"
            ],
            [
             0.1111111111111111,
             "#46039f"
            ],
            [
             0.2222222222222222,
             "#7201a8"
            ],
            [
             0.3333333333333333,
             "#9c179e"
            ],
            [
             0.4444444444444444,
             "#bd3786"
            ],
            [
             0.5555555555555556,
             "#d8576b"
            ],
            [
             0.6666666666666666,
             "#ed7953"
            ],
            [
             0.7777777777777778,
             "#fb9f3a"
            ],
            [
             0.8888888888888888,
             "#fdca26"
            ],
            [
             1,
             "#f0f921"
            ]
           ],
           "sequentialminus": [
            [
             0,
             "#0d0887"
            ],
            [
             0.1111111111111111,
             "#46039f"
            ],
            [
             0.2222222222222222,
             "#7201a8"
            ],
            [
             0.3333333333333333,
             "#9c179e"
            ],
            [
             0.4444444444444444,
             "#bd3786"
            ],
            [
             0.5555555555555556,
             "#d8576b"
            ],
            [
             0.6666666666666666,
             "#ed7953"
            ],
            [
             0.7777777777777778,
             "#fb9f3a"
            ],
            [
             0.8888888888888888,
             "#fdca26"
            ],
            [
             1,
             "#f0f921"
            ]
           ]
          },
          "colorway": [
           "#636efa",
           "#EF553B",
           "#00cc96",
           "#ab63fa",
           "#FFA15A",
           "#19d3f3",
           "#FF6692",
           "#B6E880",
           "#FF97FF",
           "#FECB52"
          ],
          "font": {
           "color": "#2a3f5f"
          },
          "geo": {
           "bgcolor": "white",
           "lakecolor": "white",
           "landcolor": "#E5ECF6",
           "showlakes": true,
           "showland": true,
           "subunitcolor": "white"
          },
          "hoverlabel": {
           "align": "left"
          },
          "hovermode": "closest",
          "mapbox": {
           "style": "light"
          },
          "paper_bgcolor": "white",
          "plot_bgcolor": "#E5ECF6",
          "polar": {
           "angularaxis": {
            "gridcolor": "white",
            "linecolor": "white",
            "ticks": ""
           },
           "bgcolor": "#E5ECF6",
           "radialaxis": {
            "gridcolor": "white",
            "linecolor": "white",
            "ticks": ""
           }
          },
          "scene": {
           "xaxis": {
            "backgroundcolor": "#E5ECF6",
            "gridcolor": "white",
            "gridwidth": 2,
            "linecolor": "white",
            "showbackground": true,
            "ticks": "",
            "zerolinecolor": "white"
           },
           "yaxis": {
            "backgroundcolor": "#E5ECF6",
            "gridcolor": "white",
            "gridwidth": 2,
            "linecolor": "white",
            "showbackground": true,
            "ticks": "",
            "zerolinecolor": "white"
           },
           "zaxis": {
            "backgroundcolor": "#E5ECF6",
            "gridcolor": "white",
            "gridwidth": 2,
            "linecolor": "white",
            "showbackground": true,
            "ticks": "",
            "zerolinecolor": "white"
           }
          },
          "shapedefaults": {
           "line": {
            "color": "#2a3f5f"
           }
          },
          "ternary": {
           "aaxis": {
            "gridcolor": "white",
            "linecolor": "white",
            "ticks": ""
           },
           "baxis": {
            "gridcolor": "white",
            "linecolor": "white",
            "ticks": ""
           },
           "bgcolor": "#E5ECF6",
           "caxis": {
            "gridcolor": "white",
            "linecolor": "white",
            "ticks": ""
           }
          },
          "title": {
           "x": 0.05
          },
          "xaxis": {
           "automargin": true,
           "gridcolor": "white",
           "linecolor": "white",
           "ticks": "",
           "title": {
            "standoff": 15
           },
           "zerolinecolor": "white",
           "zerolinewidth": 2
          },
          "yaxis": {
           "automargin": true,
           "gridcolor": "white",
           "linecolor": "white",
           "ticks": "",
           "title": {
            "standoff": 15
           },
           "zerolinecolor": "white",
           "zerolinewidth": 2
          }
         }
        }
       }
      },
      "text/html": [
       "<div>                            <div id=\"e067576c-f753-4c00-888c-e90f5523680c\" class=\"plotly-graph-div\" style=\"height:525px; width:100%;\"></div>            <script type=\"text/javascript\">                require([\"plotly\"], function(Plotly) {                    window.PLOTLYENV=window.PLOTLYENV || {};                                    if (document.getElementById(\"e067576c-f753-4c00-888c-e90f5523680c\")) {                    Plotly.newPlot(                        \"e067576c-f753-4c00-888c-e90f5523680c\",                        [{\"x\":[927,523,255,256],\"y\":[\"login\",\"product_page\",\"product_cart\",\"purchase\"],\"type\":\"funnel\"}],                        {\"template\":{\"data\":{\"bar\":[{\"error_x\":{\"color\":\"#2a3f5f\"},\"error_y\":{\"color\":\"#2a3f5f\"},\"marker\":{\"line\":{\"color\":\"#E5ECF6\",\"width\":0.5},\"pattern\":{\"fillmode\":\"overlay\",\"size\":10,\"solidity\":0.2}},\"type\":\"bar\"}],\"barpolar\":[{\"marker\":{\"line\":{\"color\":\"#E5ECF6\",\"width\":0.5},\"pattern\":{\"fillmode\":\"overlay\",\"size\":10,\"solidity\":0.2}},\"type\":\"barpolar\"}],\"carpet\":[{\"aaxis\":{\"endlinecolor\":\"#2a3f5f\",\"gridcolor\":\"white\",\"linecolor\":\"white\",\"minorgridcolor\":\"white\",\"startlinecolor\":\"#2a3f5f\"},\"baxis\":{\"endlinecolor\":\"#2a3f5f\",\"gridcolor\":\"white\",\"linecolor\":\"white\",\"minorgridcolor\":\"white\",\"startlinecolor\":\"#2a3f5f\"},\"type\":\"carpet\"}],\"choropleth\":[{\"colorbar\":{\"outlinewidth\":0,\"ticks\":\"\"},\"type\":\"choropleth\"}],\"contour\":[{\"colorbar\":{\"outlinewidth\":0,\"ticks\":\"\"},\"colorscale\":[[0.0,\"#0d0887\"],[0.1111111111111111,\"#46039f\"],[0.2222222222222222,\"#7201a8\"],[0.3333333333333333,\"#9c179e\"],[0.4444444444444444,\"#bd3786\"],[0.5555555555555556,\"#d8576b\"],[0.6666666666666666,\"#ed7953\"],[0.7777777777777778,\"#fb9f3a\"],[0.8888888888888888,\"#fdca26\"],[1.0,\"#f0f921\"]],\"type\":\"contour\"}],\"contourcarpet\":[{\"colorbar\":{\"outlinewidth\":0,\"ticks\":\"\"},\"type\":\"contourcarpet\"}],\"heatmap\":[{\"colorbar\":{\"outlinewidth\":0,\"ticks\":\"\"},\"colorscale\":[[0.0,\"#0d0887\"],[0.1111111111111111,\"#46039f\"],[0.2222222222222222,\"#7201a8\"],[0.3333333333333333,\"#9c179e\"],[0.4444444444444444,\"#bd3786\"],[0.5555555555555556,\"#d8576b\"],[0.6666666666666666,\"#ed7953\"],[0.7777777777777778,\"#fb9f3a\"],[0.8888888888888888,\"#fdca26\"],[1.0,\"#f0f921\"]],\"type\":\"heatmap\"}],\"heatmapgl\":[{\"colorbar\":{\"outlinewidth\":0,\"ticks\":\"\"},\"colorscale\":[[0.0,\"#0d0887\"],[0.1111111111111111,\"#46039f\"],[0.2222222222222222,\"#7201a8\"],[0.3333333333333333,\"#9c179e\"],[0.4444444444444444,\"#bd3786\"],[0.5555555555555556,\"#d8576b\"],[0.6666666666666666,\"#ed7953\"],[0.7777777777777778,\"#fb9f3a\"],[0.8888888888888888,\"#fdca26\"],[1.0,\"#f0f921\"]],\"type\":\"heatmapgl\"}],\"histogram\":[{\"marker\":{\"pattern\":{\"fillmode\":\"overlay\",\"size\":10,\"solidity\":0.2}},\"type\":\"histogram\"}],\"histogram2d\":[{\"colorbar\":{\"outlinewidth\":0,\"ticks\":\"\"},\"colorscale\":[[0.0,\"#0d0887\"],[0.1111111111111111,\"#46039f\"],[0.2222222222222222,\"#7201a8\"],[0.3333333333333333,\"#9c179e\"],[0.4444444444444444,\"#bd3786\"],[0.5555555555555556,\"#d8576b\"],[0.6666666666666666,\"#ed7953\"],[0.7777777777777778,\"#fb9f3a\"],[0.8888888888888888,\"#fdca26\"],[1.0,\"#f0f921\"]],\"type\":\"histogram2d\"}],\"histogram2dcontour\":[{\"colorbar\":{\"outlinewidth\":0,\"ticks\":\"\"},\"colorscale\":[[0.0,\"#0d0887\"],[0.1111111111111111,\"#46039f\"],[0.2222222222222222,\"#7201a8\"],[0.3333333333333333,\"#9c179e\"],[0.4444444444444444,\"#bd3786\"],[0.5555555555555556,\"#d8576b\"],[0.6666666666666666,\"#ed7953\"],[0.7777777777777778,\"#fb9f3a\"],[0.8888888888888888,\"#fdca26\"],[1.0,\"#f0f921\"]],\"type\":\"histogram2dcontour\"}],\"mesh3d\":[{\"colorbar\":{\"outlinewidth\":0,\"ticks\":\"\"},\"type\":\"mesh3d\"}],\"parcoords\":[{\"line\":{\"colorbar\":{\"outlinewidth\":0,\"ticks\":\"\"}},\"type\":\"parcoords\"}],\"pie\":[{\"automargin\":true,\"type\":\"pie\"}],\"scatter\":[{\"marker\":{\"colorbar\":{\"outlinewidth\":0,\"ticks\":\"\"}},\"type\":\"scatter\"}],\"scatter3d\":[{\"line\":{\"colorbar\":{\"outlinewidth\":0,\"ticks\":\"\"}},\"marker\":{\"colorbar\":{\"outlinewidth\":0,\"ticks\":\"\"}},\"type\":\"scatter3d\"}],\"scattercarpet\":[{\"marker\":{\"colorbar\":{\"outlinewidth\":0,\"ticks\":\"\"}},\"type\":\"scattercarpet\"}],\"scattergeo\":[{\"marker\":{\"colorbar\":{\"outlinewidth\":0,\"ticks\":\"\"}},\"type\":\"scattergeo\"}],\"scattergl\":[{\"marker\":{\"colorbar\":{\"outlinewidth\":0,\"ticks\":\"\"}},\"type\":\"scattergl\"}],\"scattermapbox\":[{\"marker\":{\"colorbar\":{\"outlinewidth\":0,\"ticks\":\"\"}},\"type\":\"scattermapbox\"}],\"scatterpolar\":[{\"marker\":{\"colorbar\":{\"outlinewidth\":0,\"ticks\":\"\"}},\"type\":\"scatterpolar\"}],\"scatterpolargl\":[{\"marker\":{\"colorbar\":{\"outlinewidth\":0,\"ticks\":\"\"}},\"type\":\"scatterpolargl\"}],\"scatterternary\":[{\"marker\":{\"colorbar\":{\"outlinewidth\":0,\"ticks\":\"\"}},\"type\":\"scatterternary\"}],\"surface\":[{\"colorbar\":{\"outlinewidth\":0,\"ticks\":\"\"},\"colorscale\":[[0.0,\"#0d0887\"],[0.1111111111111111,\"#46039f\"],[0.2222222222222222,\"#7201a8\"],[0.3333333333333333,\"#9c179e\"],[0.4444444444444444,\"#bd3786\"],[0.5555555555555556,\"#d8576b\"],[0.6666666666666666,\"#ed7953\"],[0.7777777777777778,\"#fb9f3a\"],[0.8888888888888888,\"#fdca26\"],[1.0,\"#f0f921\"]],\"type\":\"surface\"}],\"table\":[{\"cells\":{\"fill\":{\"color\":\"#EBF0F8\"},\"line\":{\"color\":\"white\"}},\"header\":{\"fill\":{\"color\":\"#C8D4E3\"},\"line\":{\"color\":\"white\"}},\"type\":\"table\"}]},\"layout\":{\"annotationdefaults\":{\"arrowcolor\":\"#2a3f5f\",\"arrowhead\":0,\"arrowwidth\":1},\"autotypenumbers\":\"strict\",\"coloraxis\":{\"colorbar\":{\"outlinewidth\":0,\"ticks\":\"\"}},\"colorscale\":{\"diverging\":[[0,\"#8e0152\"],[0.1,\"#c51b7d\"],[0.2,\"#de77ae\"],[0.3,\"#f1b6da\"],[0.4,\"#fde0ef\"],[0.5,\"#f7f7f7\"],[0.6,\"#e6f5d0\"],[0.7,\"#b8e186\"],[0.8,\"#7fbc41\"],[0.9,\"#4d9221\"],[1,\"#276419\"]],\"sequential\":[[0.0,\"#0d0887\"],[0.1111111111111111,\"#46039f\"],[0.2222222222222222,\"#7201a8\"],[0.3333333333333333,\"#9c179e\"],[0.4444444444444444,\"#bd3786\"],[0.5555555555555556,\"#d8576b\"],[0.6666666666666666,\"#ed7953\"],[0.7777777777777778,\"#fb9f3a\"],[0.8888888888888888,\"#fdca26\"],[1.0,\"#f0f921\"]],\"sequentialminus\":[[0.0,\"#0d0887\"],[0.1111111111111111,\"#46039f\"],[0.2222222222222222,\"#7201a8\"],[0.3333333333333333,\"#9c179e\"],[0.4444444444444444,\"#bd3786\"],[0.5555555555555556,\"#d8576b\"],[0.6666666666666666,\"#ed7953\"],[0.7777777777777778,\"#fb9f3a\"],[0.8888888888888888,\"#fdca26\"],[1.0,\"#f0f921\"]]},\"colorway\":[\"#636efa\",\"#EF553B\",\"#00cc96\",\"#ab63fa\",\"#FFA15A\",\"#19d3f3\",\"#FF6692\",\"#B6E880\",\"#FF97FF\",\"#FECB52\"],\"font\":{\"color\":\"#2a3f5f\"},\"geo\":{\"bgcolor\":\"white\",\"lakecolor\":\"white\",\"landcolor\":\"#E5ECF6\",\"showlakes\":true,\"showland\":true,\"subunitcolor\":\"white\"},\"hoverlabel\":{\"align\":\"left\"},\"hovermode\":\"closest\",\"mapbox\":{\"style\":\"light\"},\"paper_bgcolor\":\"white\",\"plot_bgcolor\":\"#E5ECF6\",\"polar\":{\"angularaxis\":{\"gridcolor\":\"white\",\"linecolor\":\"white\",\"ticks\":\"\"},\"bgcolor\":\"#E5ECF6\",\"radialaxis\":{\"gridcolor\":\"white\",\"linecolor\":\"white\",\"ticks\":\"\"}},\"scene\":{\"xaxis\":{\"backgroundcolor\":\"#E5ECF6\",\"gridcolor\":\"white\",\"gridwidth\":2,\"linecolor\":\"white\",\"showbackground\":true,\"ticks\":\"\",\"zerolinecolor\":\"white\"},\"yaxis\":{\"backgroundcolor\":\"#E5ECF6\",\"gridcolor\":\"white\",\"gridwidth\":2,\"linecolor\":\"white\",\"showbackground\":true,\"ticks\":\"\",\"zerolinecolor\":\"white\"},\"zaxis\":{\"backgroundcolor\":\"#E5ECF6\",\"gridcolor\":\"white\",\"gridwidth\":2,\"linecolor\":\"white\",\"showbackground\":true,\"ticks\":\"\",\"zerolinecolor\":\"white\"}},\"shapedefaults\":{\"line\":{\"color\":\"#2a3f5f\"}},\"ternary\":{\"aaxis\":{\"gridcolor\":\"white\",\"linecolor\":\"white\",\"ticks\":\"\"},\"baxis\":{\"gridcolor\":\"white\",\"linecolor\":\"white\",\"ticks\":\"\"},\"bgcolor\":\"#E5ECF6\",\"caxis\":{\"gridcolor\":\"white\",\"linecolor\":\"white\",\"ticks\":\"\"}},\"title\":{\"x\":0.05},\"xaxis\":{\"automargin\":true,\"gridcolor\":\"white\",\"linecolor\":\"white\",\"ticks\":\"\",\"title\":{\"standoff\":15},\"zerolinecolor\":\"white\",\"zerolinewidth\":2},\"yaxis\":{\"automargin\":true,\"gridcolor\":\"white\",\"linecolor\":\"white\",\"ticks\":\"\",\"title\":{\"standoff\":15},\"zerolinecolor\":\"white\",\"zerolinewidth\":2}}}},                        {\"responsive\": true}                    ).then(function(){\n",
       "                            \n",
       "var gd = document.getElementById('e067576c-f753-4c00-888c-e90f5523680c');\n",
       "var x = new MutationObserver(function (mutations, observer) {{\n",
       "        var display = window.getComputedStyle(gd).display;\n",
       "        if (!display || display === 'none') {{\n",
       "            console.log([gd, 'removed!']);\n",
       "            Plotly.purge(gd);\n",
       "            observer.disconnect();\n",
       "        }}\n",
       "}});\n",
       "\n",
       "// Listen for the removal of the full notebook cells\n",
       "var notebookContainer = gd.closest('#notebook-container');\n",
       "if (notebookContainer) {{\n",
       "    x.observe(notebookContainer, {childList: true});\n",
       "}}\n",
       "\n",
       "// Listen for the clearing of the current output cell\n",
       "var outputEl = gd.closest('.output');\n",
       "if (outputEl) {{\n",
       "    x.observe(outputEl, {childList: true});\n",
       "}}\n",
       "\n",
       "                        })                };                });            </script>        </div>"
      ]
     },
     "metadata": {},
     "output_type": "display_data"
    }
   ],
   "source": [
    "fig = go.Figure(go.Funnel(y=recommender_system_test_ft.query('group == \"B\"').groupby('event_name').agg(\n",
    "    {'user_id' : 'nunique'}).sort_values(by='user_id', ascending=False).reindex(new_index).index, \n",
    "                          x=recommender_system_test_ft.query('group == \"B\"').groupby('event_name').agg(\n",
    "                              {'user_id' : 'nunique'}).sort_values(by='user_id', ascending=False).reindex(\n",
    "                              new_index)['user_id'])) \n",
    "fig.show()"
   ]
  },
  {
   "attachments": {
    "newplot%20%287%29.png": {
     "image/png": "[encoded data removed]"
    }
   },
   "cell_type": "markdown",
   "metadata": {},
   "source": [
    "![newplot%20%287%29.png](attachment:newplot%20%287%29.png)"
   ]
  },
  {
   "cell_type": "markdown",
   "metadata": {},
   "source": [
    "В группе \"В\" регистрацию прошли 928 пользователей, 523 из них или 56,4% просмотрели страницу товара; 225 пользователей просмотрели корзину, что составило 48,8% от просмотревших страницу товара и 27,5% от зарегистрированных; покупку совершили 256 пользователей, конверсия зарегистрированных пользователей в покупку составила 27,6%."
   ]
  },
  {
   "cell_type": "markdown",
   "metadata": {},
   "source": [
    "## Промежуточный вывод"
   ]
  },
  {
   "cell_type": "markdown",
   "metadata": {},
   "source": [
    "1. Прежде чем приступать к тестированию стоит учесть выявленные ранее особенности:\n",
    "- тестовые группы сформированы неравномерно: начиная со второй недели начинают резко преобладать количество, совершаемых пользователями, событий в группе \"А\", что может свидетельствовать о сбое в настройках разделения трафика на группы.\n",
    "- тест остановлен раньше необходимого срока и значительное количетсво пользователей находилось в тесте меньше, заложенных в ТЗ, 14 дней, но такие пользователи распределены в тестовых группах равномерно;\n",
    "- Количество пользователей из Европейского региона в тесте составляет менее 15% от всех новых пользователей из региона EU, что не соответствует ТЗ;\n",
    "- последние 5 дней теста совпадают с началом Новогодней промоакции, хотя это и не привело к резкому увеличению количества событий в соответствующие дни проведения теста;\n",
    "- часть пользователей, участвующих в тесте, паралельно участвовали в конкурирующим тесте, при чём находились в опытной группе, эти пользователи распределены равномерно по группам анализируемого теста, но тем не менее, это могло оказать влияние на результаты анализируемого теста.\n",
    "Выше обозначенное затрудняет интерпретацию и экстраполяцию результатов теста, данные моменты стоит учесть при планировании будущих тестов.\n",
    "\n",
    "По результатам исследовательского анализа выявлено:\n",
    "1. Распределение количества событий на пользователя в тестовых группах имеет сходный характер, однако, в группе \"В\" в большей степени преобладают пользователи не совершившие ни одного действия, и среднее количество событий на пользователя ниже, чем в группе \"А\": 1,87 и 5,05 при стандартных отклонениях 3,36 и 4,55 соответственно.\n",
    "2. В первую неделю теста количество событий в день в обоих тестовых группах сопоставимо, но со второй недели теста количество событий в группе \"А\" начинает резко преобладать, своего пика количество событий в обоих тестовых группах достигает по окончании второй тестовой недели (21.12), после чего снижается до окончания теста.\n",
    "3. Последовательность событий от регистрации до покупки выглядит следующим образом: регистрация - просмотр карточки товара - просмотр корзины с товаром - покупка, причём просмотр корзины является необязательныь этапом, и покупка возможна минуя его.\n",
    "4. Конверсию из регистрации в каждый из этапов в группе \"В\" несколько уступает таковой в гуппе \"А\", конверсия из просомтра сттраницы товара в просмотр корзины, напротив несколько выше в группе \"В\"."
   ]
  },
  {
   "cell_type": "markdown",
   "metadata": {},
   "source": [
    "# Оценка результатов А/В-теста"
   ]
  },
  {
   "cell_type": "markdown",
   "metadata": {},
   "source": [
    "## Анализ результатов теста"
   ]
  },
  {
   "cell_type": "markdown",
   "metadata": {},
   "source": [
    "Ожидаемом эффекта вмешательства было увеличение конверсии в просмотр карточек товара, просмотр корзины и покупки не менее чем на 10%. По результату конверсия в группе \"В\" почти на всех этапах уменьшилась относительно группы \"А\":\n",
    "- регистрация - просмотр карточки товара - на 8,4%;\n",
    "- регистрация - просмотр корзины с товаром - на 2,5%;\n",
    "- регистрация - покупка - на 4,1%.\n",
    "\n",
    "Рост конверсии отмечается только на шаге просмотр страницы товара - просмотр корзины - на 2,5%.\n",
    "\n",
    "Теперь оценим на сколько разница в конверсии между группами \"А\" и \"В\" статистически значима для чего используем z-тест."
   ]
  },
  {
   "cell_type": "markdown",
   "metadata": {},
   "source": [
    "## Проверка статистической разницы долей в выборках z-тестом"
   ]
  },
  {
   "cell_type": "markdown",
   "metadata": {},
   "source": [
    "Выдвинем нулевую и альтернативную гипотезы.\n",
    "\n",
    "Нулевая гипотеза: \"Конверсии на разных этапах в группе \"А\" и группе \"В\" не различаются\"\n",
    "Альтернативная гипотеза: \"Конверсии на разных этапах в группе \"А\" и группе \"В\" различаются\"\n",
    "\n",
    "В качестве критического уровня статистической значимости различий возьмём 5%, так как мы будем проводить несколько сравнений (а именно четыре) на одной и той же выборке, следует сделать поправку на множественные сравнения, для этой цели воспользуемся поправкой Бонферрони. Сравнение необходимо выполнить несколько раз, поэтому для удобства напишем соответствующкю функцию."
   ]
  },
  {
   "cell_type": "code",
   "execution_count": 87,
   "metadata": {},
   "outputs": [],
   "source": [
    "def z_test(x1, n1, x2, n2):\n",
    "    \n",
    "    bonferroni_alpha = .05/4 #критический уровень статистической значимости c поправкой Бонферрони\n",
    "\n",
    "    event = np.array([x1, x2]) #количество совершивших событие пользователей\n",
    "    group = np.array([n1, n2]) #количество пользователей в группах\n",
    "        \n",
    "    p1 = event[0]/group[0] #доля пользователей, совершивших событие в первой группе\n",
    "    p2 = event[1]/group[1]  #доля пользователей, совершивших событие во второй группе\n",
    "\n",
    "    p_combined = (event[0] + event[1]) / (group[0] + group[1]) #доля пользователей, совершивших события в объединённой группе\n",
    "\n",
    "    difference = p1 - p2 #разница долей в группах\n",
    "    \n",
    "    z_value = difference / mth.sqrt(p_combined * (1 - p_combined) * (1 / event[0] + 1 / event[1])) #расчет z-статистики\n",
    "\n",
    "    distr = st.norm(0, 1) #задаем стандартное нормальное распределение (среднее 0, ст.отклонение 1)\n",
    "\n",
    "    p_value = (1 - distr.cdf(abs(z_value))) * 2\n",
    "    \n",
    "    print('Конверсия в группе А составляет: {:.1%}'.format(p1))\n",
    "    print('Конверсия в группе B составляет: {:.1%}'.format(p2))\n",
    "    \n",
    "    print('p-значение: ', p_value)\n",
    "    \n",
    "    if p_value < bonferroni_alpha:\n",
    "        print('Отвергаем нулевую гипотезу: между конверсиями есть значимая разница')\n",
    "    else:\n",
    "        print('Не получилось отвергнуть нулевую гипотезу, нет оснований считать конверсии разными') "
   ]
  },
  {
   "cell_type": "markdown",
   "metadata": {},
   "source": [
    "### Конверсия регистрация - просмотр страницы с товаром"
   ]
  },
  {
   "cell_type": "code",
   "execution_count": 88,
   "metadata": {},
   "outputs": [
    {
     "name": "stdout",
     "output_type": "stream",
     "text": [
      "Конверсия в группе А составляет: 64.8%\n",
      "Конверсия в группе B составляет: 56.4%\n",
      "p-значение:  0.0004951285914125414\n",
      "Отвергаем нулевую гипотезу: между конверсиями есть значимая разница\n"
     ]
    }
   ],
   "source": [
    "z_test(recommender_system_test_ft.query('group == \"A\" and event_name == \"product_page\"')['user_id'].nunique(),\n",
    "       recommender_system_test_ft.query('group == \"A\" and event_name == \"login\"')['user_id'].nunique(),\n",
    "      recommender_system_test_ft.query('group == \"B\" and event_name == \"product_page\"')['user_id'].nunique(),\n",
    "       recommender_system_test_ft.query('group == \"B\" and event_name == \"login\"')['user_id'].nunique())"
   ]
  },
  {
   "cell_type": "markdown",
   "metadata": {},
   "source": [
    "Конверсия из регистрации в просмотр страницы с товаром в группе \"B\" статистически значимо ниже, чем конверсия в группе \"А\"."
   ]
  },
  {
   "cell_type": "markdown",
   "metadata": {},
   "source": [
    "### Конверсия регистрация - просмотр корзины с товаром"
   ]
  },
  {
   "cell_type": "code",
   "execution_count": 89,
   "metadata": {},
   "outputs": [
    {
     "name": "stdout",
     "output_type": "stream",
     "text": [
      "Конверсия в группе А составляет: 30.0%\n",
      "Конверсия в группе B составляет: 27.5%\n",
      "p-значение:  0.44582426799055797\n",
      "Не получилось отвергнуть нулевую гипотезу, нет оснований считать конверсии разными\n"
     ]
    }
   ],
   "source": [
    "z_test(recommender_system_test_ft.query('group == \"A\" and event_name == \"product_cart\"')['user_id'].nunique(),\n",
    "       recommender_system_test_ft.query('group == \"A\" and event_name == \"login\"')['user_id'].nunique(),\n",
    "      recommender_system_test_ft.query('group == \"B\" and event_name == \"product_cart\"')['user_id'].nunique(),\n",
    "       recommender_system_test_ft.query('group == \"B\" and event_name == \"login\"')['user_id'].nunique())"
   ]
  },
  {
   "cell_type": "markdown",
   "metadata": {},
   "source": [
    "Конверсия из регистрации в просмотр корзины с товаром в группе \"B\" и \"А\" статистически не различается."
   ]
  },
  {
   "cell_type": "markdown",
   "metadata": {},
   "source": [
    "### Конверсия регистрация - покупка"
   ]
  },
  {
   "cell_type": "code",
   "execution_count": 90,
   "metadata": {},
   "outputs": [
    {
     "name": "stdout",
     "output_type": "stream",
     "text": [
      "Конверсия в группе А составляет: 31.7%\n",
      "Конверсия в группе B составляет: 27.6%\n",
      "p-значение:  0.20806462102776235\n",
      "Не получилось отвергнуть нулевую гипотезу, нет оснований считать конверсии разными\n"
     ]
    }
   ],
   "source": [
    "z_test(recommender_system_test_ft.query('group == \"A\" and event_name == \"purchase\"')['user_id'].nunique(),\n",
    "       recommender_system_test_ft.query('group == \"A\" and event_name == \"login\"')['user_id'].nunique(),\n",
    "      recommender_system_test_ft.query('group == \"B\" and event_name == \"purchase\"')['user_id'].nunique(),\n",
    "       recommender_system_test_ft.query('group == \"B\" and event_name == \"login\"')['user_id'].nunique())"
   ]
  },
  {
   "cell_type": "markdown",
   "metadata": {},
   "source": [
    "Конверсия из регистрации в покупку в группе \"B\" и \"А\" статистически не различается."
   ]
  },
  {
   "cell_type": "markdown",
   "metadata": {},
   "source": [
    "### Конверсия просмотр страницы с товаром - просмотр корзины с товаром"
   ]
  },
  {
   "cell_type": "code",
   "execution_count": 91,
   "metadata": {},
   "outputs": [
    {
     "name": "stdout",
     "output_type": "stream",
     "text": [
      "Конверсия в группе А составляет: 46.3%\n",
      "Конверсия в группе B составляет: 48.8%\n",
      "p-значение:  0.4906041880307246\n",
      "Не получилось отвергнуть нулевую гипотезу, нет оснований считать конверсии разными\n"
     ]
    }
   ],
   "source": [
    "z_test(recommender_system_test_ft.query('group == \"A\" and event_name == \"product_cart\"')['user_id'].nunique(),\n",
    "       recommender_system_test_ft.query('group == \"A\" and event_name == \"product_page\"')['user_id'].nunique(),\n",
    "      recommender_system_test_ft.query('group == \"B\" and event_name == \"product_cart\"')['user_id'].nunique(),\n",
    "       recommender_system_test_ft.query('group == \"B\" and event_name == \"product_page\"')['user_id'].nunique())"
   ]
  },
  {
   "cell_type": "markdown",
   "metadata": {},
   "source": [
    "Конверсия из просмотра страницы товара в просмотр корзины с товаром в группе \"B\" и \"А\" статистически не различается."
   ]
  },
  {
   "cell_type": "markdown",
   "metadata": {},
   "source": [
    "### Промежуточный вывод"
   ]
  },
  {
   "cell_type": "markdown",
   "metadata": {},
   "source": [
    "По результатам проверки статистической разницы в тестовых группах выявлено, что конверсия из регистрации в просмотр страницы с товаром в группе \"В\" значимо ниже, чем в группе \"А\"; по остальным конверсиям статистической разницы между тестовыми группами не выявлено.\n",
    "\n",
    "Таким образом, ожилаемый эффект от тестируемого воздействия не был достигнут."
   ]
  },
  {
   "cell_type": "markdown",
   "metadata": {},
   "source": [
    "# Общий вывод"
   ]
  },
  {
   "cell_type": "markdown",
   "metadata": {},
   "source": [
    "1. Оценка корректности теста и соответствия ТЗ:\n",
    "- пользователи неравномерно распределены по группам анализируемого теста, в контрольной группе почти на тысячу больше участников, чем в опытной.\n",
    "- тест остановлен на 5 дней раньше срока указанного в ТЗ, что привело к сокращению срока нахождения в тесте у 1/3 пользователей, распределение таких пользователей внутри тестовых групп равномерное (по 36,5%).\n",
    "- наблюдается расхождение с ТЗ в части аудитории теста, так согласно ТЗ аудиторию теста должны составлять не менее 15% новых пользователей Европейского региона, в реальности этот показатель составляет 13,7%, но также стоит отметить, что при заявленной мощности теста в 6000 участников, уровень в 15% не достижим.\n",
    "- последние 5 дней теста совпадают с началом Рождественской и Новогодней промо-акции в Европейском регионе.\n",
    "- 1602 пользователя учасвуют в конкурирующем тесте, в т.ч. 783 пользователя находятся в опытной группе (В). Пользователи, находящиеся в группе \"В\" конкурирующего теста, относительно равномерно распределены по группам анализируемого теста (А - 11,5%, В - 12,0%);\n",
    "- из 6701 участника теста, какие-либо действия совершались только 3675 пользователями, что ограничивает реальную мощность теста.\n",
    "2. Исследовательский анализ данных:\n",
    "- распределение количества событий на пользователя в тестовых группах имеет сходный характер, однако, в группе \"В\" в большей степени преобладают пользователи не совершившие ни одного действия, и среднее количество событий на пользователя ниже, чем в группе \"А\": 1,87 и 5,05 при стандартных отклонениях 3,36 и 4,55 соответственно;\n",
    "- в первую неделю теста количество событий в день в обоих тестовых группах сопоставимо, но со второй недели теста количество событий в группе \"А\" начинает резко преобладать, своего пика количество событий в обоих тестовых группах достигает по окончании второй тестовой недели (21.12), после чего снижается до окончания теста;\n",
    "- последовательность событий от регистрации до покупки: регистрация - просмотр карточки товара - просмотр корзины с товаром - покупка, просмотр корзины является необязательным этапом и покупка возможна минуя его.\n",
    "3. Оценка результатов А/В-теста:\n",
    "- в результате тестируемого воздействия в группе \"В\" не наблюдалось ожидаемого эффекта в виде увеличения конверсии на разных этапах продуктовой воронки не менее чем на 10%, в большинстве случаев наблюдалось снижение конверсии в группе \"В\" по сравнению с группой \"А\":\n",
    "    - регистрация - просмотр карточки товара - снижение на 8,4%;\n",
    "    - регистрация - просмотр корзины с товаром - снижение на 2,5%;\n",
    "    - регистрация - покупка - снижение на 4,1%;\n",
    "    - просмотр страницы товара - просмотр корзины - рост на 2,5%.\n",
    "- в ходе статистической проверки разницы конверсий в тестовых группах z-тестом, выявлена статистически достоверное снижение конверсии регистрация - просмотр карточки товара.\n",
    "4. Учитывая проблемы, выявленные на этапе оценки корректности теста и его соответствия ТЗ, следует осторожно подходить к интерпритации результатов проведенного теста. Возможно, следует повторить тест с учётом выявленных проблем и недостатков. "
   ]
  }
 ],
 "metadata": {
  "ExecuteTimeLog": [
   {
    "duration": 393,
    "start_time": "2022-07-30T17:52:49.452Z"
   },
   {
    "duration": 72,
    "start_time": "2022-07-30T18:00:01.274Z"
   },
   {
    "duration": 870,
    "start_time": "2022-07-30T18:05:32.369Z"
   },
   {
    "duration": 629,
    "start_time": "2022-07-30T18:06:26.124Z"
   },
   {
    "duration": 4,
    "start_time": "2022-07-30T18:11:17.955Z"
   },
   {
    "duration": 27,
    "start_time": "2022-07-30T18:11:41.221Z"
   },
   {
    "duration": 4,
    "start_time": "2022-07-30T18:12:39.190Z"
   },
   {
    "duration": 19,
    "start_time": "2022-07-30T18:12:39.928Z"
   },
   {
    "duration": 4,
    "start_time": "2022-07-30T18:13:00.973Z"
   },
   {
    "duration": 23,
    "start_time": "2022-07-30T18:13:43.173Z"
   },
   {
    "duration": 5,
    "start_time": "2022-07-30T18:14:04.471Z"
   },
   {
    "duration": 28,
    "start_time": "2022-07-30T18:14:08.026Z"
   },
   {
    "duration": 9,
    "start_time": "2022-07-30T18:16:49.573Z"
   },
   {
    "duration": 66,
    "start_time": "2022-07-30T18:22:44.358Z"
   },
   {
    "duration": 239,
    "start_time": "2022-07-30T18:27:23.160Z"
   },
   {
    "duration": 3,
    "start_time": "2022-07-30T18:28:38.922Z"
   },
   {
    "duration": 251,
    "start_time": "2022-07-30T18:29:30.150Z"
   },
   {
    "duration": 6,
    "start_time": "2022-07-30T18:30:36.963Z"
   },
   {
    "duration": 6,
    "start_time": "2022-07-30T18:30:45.079Z"
   },
   {
    "duration": 5,
    "start_time": "2022-07-30T18:30:56.439Z"
   },
   {
    "duration": 38,
    "start_time": "2022-07-30T18:31:44.533Z"
   },
   {
    "duration": 36,
    "start_time": "2022-07-30T18:31:51.875Z"
   },
   {
    "duration": 36,
    "start_time": "2022-07-30T18:32:02.216Z"
   },
   {
    "duration": 31,
    "start_time": "2022-07-30T18:32:48.937Z"
   },
   {
    "duration": 35,
    "start_time": "2022-07-30T18:33:25.007Z"
   },
   {
    "duration": 34,
    "start_time": "2022-07-30T18:33:55.905Z"
   },
   {
    "duration": 36,
    "start_time": "2022-07-30T18:34:40.801Z"
   },
   {
    "duration": 44,
    "start_time": "2022-07-30T18:35:32.046Z"
   },
   {
    "duration": 38,
    "start_time": "2022-07-30T18:35:52.785Z"
   },
   {
    "duration": 37,
    "start_time": "2022-07-30T18:36:25.129Z"
   },
   {
    "duration": 3,
    "start_time": "2022-07-30T18:36:53.469Z"
   },
   {
    "duration": 20,
    "start_time": "2022-07-30T18:36:55.208Z"
   },
   {
    "duration": 20,
    "start_time": "2022-07-30T18:36:55.427Z"
   },
   {
    "duration": 65,
    "start_time": "2022-07-30T18:36:56.621Z"
   },
   {
    "duration": 270,
    "start_time": "2022-07-30T18:36:59.825Z"
   },
   {
    "duration": 18,
    "start_time": "2022-07-30T18:46:31.747Z"
   },
   {
    "duration": 31,
    "start_time": "2022-07-30T18:48:19.659Z"
   },
   {
    "duration": 379,
    "start_time": "2022-07-31T10:09:36.955Z"
   },
   {
    "duration": 1957,
    "start_time": "2022-07-31T10:09:37.335Z"
   },
   {
    "duration": 4,
    "start_time": "2022-07-31T10:09:39.293Z"
   },
   {
    "duration": 44,
    "start_time": "2022-07-31T10:09:39.298Z"
   },
   {
    "duration": 8,
    "start_time": "2022-07-31T10:09:39.344Z"
   },
   {
    "duration": 71,
    "start_time": "2022-07-31T10:09:39.353Z"
   },
   {
    "duration": 268,
    "start_time": "2022-07-31T10:09:39.430Z"
   },
   {
    "duration": 31,
    "start_time": "2022-07-31T10:09:39.700Z"
   },
   {
    "duration": 28,
    "start_time": "2022-07-31T10:09:39.732Z"
   },
   {
    "duration": 12,
    "start_time": "2022-07-31T10:14:38.852Z"
   },
   {
    "duration": 11,
    "start_time": "2022-07-31T11:40:26.817Z"
   },
   {
    "duration": 5,
    "start_time": "2022-07-31T11:46:41.406Z"
   },
   {
    "duration": 12,
    "start_time": "2022-07-31T11:46:47.165Z"
   },
   {
    "duration": 8,
    "start_time": "2022-07-31T11:46:57.849Z"
   },
   {
    "duration": 114,
    "start_time": "2022-07-31T12:14:34.990Z"
   },
   {
    "duration": 13,
    "start_time": "2022-07-31T12:14:59.070Z"
   },
   {
    "duration": 4,
    "start_time": "2022-07-31T12:16:26.287Z"
   },
   {
    "duration": 31,
    "start_time": "2022-07-31T12:25:00.319Z"
   },
   {
    "duration": 17,
    "start_time": "2022-07-31T12:25:05.996Z"
   },
   {
    "duration": 5,
    "start_time": "2022-07-31T12:26:51.767Z"
   },
   {
    "duration": 4,
    "start_time": "2022-07-31T12:27:13.900Z"
   },
   {
    "duration": 5,
    "start_time": "2022-07-31T12:29:14.571Z"
   },
   {
    "duration": 18,
    "start_time": "2022-07-31T13:21:36.923Z"
   },
   {
    "duration": 7,
    "start_time": "2022-07-31T13:23:04.086Z"
   },
   {
    "duration": 9,
    "start_time": "2022-07-31T13:24:14.520Z"
   },
   {
    "duration": 9,
    "start_time": "2022-07-31T13:25:24.453Z"
   },
   {
    "duration": 18,
    "start_time": "2022-07-31T13:45:33.682Z"
   },
   {
    "duration": 11,
    "start_time": "2022-07-31T13:48:40.326Z"
   },
   {
    "duration": 24,
    "start_time": "2022-07-31T13:52:03.149Z"
   },
   {
    "duration": 71,
    "start_time": "2022-07-31T13:54:11.289Z"
   },
   {
    "duration": 76,
    "start_time": "2022-07-31T13:54:20.159Z"
   },
   {
    "duration": 23,
    "start_time": "2022-07-31T13:54:34.418Z"
   },
   {
    "duration": 24,
    "start_time": "2022-07-31T13:54:43.393Z"
   },
   {
    "duration": 13,
    "start_time": "2022-07-31T15:46:44.775Z"
   },
   {
    "duration": 14,
    "start_time": "2022-07-31T15:47:08.583Z"
   },
   {
    "duration": 12,
    "start_time": "2022-07-31T15:47:36.393Z"
   },
   {
    "duration": 9,
    "start_time": "2022-07-31T16:40:38.317Z"
   },
   {
    "duration": 39,
    "start_time": "2022-07-31T17:03:40.454Z"
   },
   {
    "duration": 4,
    "start_time": "2022-07-31T17:06:48.739Z"
   },
   {
    "duration": 19,
    "start_time": "2022-07-31T17:07:06.630Z"
   },
   {
    "duration": 8,
    "start_time": "2022-07-31T17:07:45.935Z"
   },
   {
    "duration": 29,
    "start_time": "2022-07-31T17:15:59.641Z"
   },
   {
    "duration": 9,
    "start_time": "2022-07-31T17:16:27.491Z"
   },
   {
    "duration": 8,
    "start_time": "2022-07-31T17:16:39.458Z"
   },
   {
    "duration": 10,
    "start_time": "2022-07-31T17:16:49.656Z"
   },
   {
    "duration": 9,
    "start_time": "2022-07-31T17:17:20.580Z"
   },
   {
    "duration": 8,
    "start_time": "2022-07-31T17:28:36.784Z"
   },
   {
    "duration": 4,
    "start_time": "2022-07-31T17:29:15.092Z"
   },
   {
    "duration": 10,
    "start_time": "2022-07-31T17:31:51.308Z"
   },
   {
    "duration": 16,
    "start_time": "2022-07-31T19:01:03.588Z"
   },
   {
    "duration": 8,
    "start_time": "2022-07-31T19:03:17.376Z"
   },
   {
    "duration": 6,
    "start_time": "2022-07-31T19:03:25.988Z"
   },
   {
    "duration": 5,
    "start_time": "2022-07-31T19:03:37.491Z"
   },
   {
    "duration": 6,
    "start_time": "2022-07-31T19:08:59.029Z"
   },
   {
    "duration": 9,
    "start_time": "2022-07-31T19:09:09.926Z"
   },
   {
    "duration": 7,
    "start_time": "2022-07-31T19:09:21.601Z"
   },
   {
    "duration": 23,
    "start_time": "2022-07-31T19:09:29.627Z"
   },
   {
    "duration": 23,
    "start_time": "2022-07-31T19:13:04.987Z"
   },
   {
    "duration": 18,
    "start_time": "2022-07-31T19:18:06.595Z"
   },
   {
    "duration": 23,
    "start_time": "2022-07-31T19:18:07.351Z"
   },
   {
    "duration": 22,
    "start_time": "2022-07-31T19:18:41.299Z"
   },
   {
    "duration": 71,
    "start_time": "2022-07-31T19:21:38.214Z"
   },
   {
    "duration": 26,
    "start_time": "2022-07-31T19:21:46.307Z"
   },
   {
    "duration": 33,
    "start_time": "2022-07-31T19:22:00.514Z"
   },
   {
    "duration": 31,
    "start_time": "2022-07-31T19:24:15.898Z"
   },
   {
    "duration": 8,
    "start_time": "2022-07-31T19:41:05.331Z"
   },
   {
    "duration": 8,
    "start_time": "2022-07-31T19:41:11.759Z"
   },
   {
    "duration": 17,
    "start_time": "2022-07-31T19:43:40.765Z"
   },
   {
    "duration": 29,
    "start_time": "2022-07-31T19:46:37.394Z"
   },
   {
    "duration": 10,
    "start_time": "2022-07-31T19:50:23.906Z"
   },
   {
    "duration": 10,
    "start_time": "2022-07-31T19:51:15.373Z"
   },
   {
    "duration": 13,
    "start_time": "2022-07-31T19:51:27.485Z"
   },
   {
    "duration": 11,
    "start_time": "2022-07-31T19:51:42.606Z"
   },
   {
    "duration": 435,
    "start_time": "2022-08-01T17:42:09.334Z"
   },
   {
    "duration": 2667,
    "start_time": "2022-08-01T17:42:09.772Z"
   },
   {
    "duration": 6,
    "start_time": "2022-08-01T17:42:12.441Z"
   },
   {
    "duration": 57,
    "start_time": "2022-08-01T17:42:12.449Z"
   },
   {
    "duration": 13,
    "start_time": "2022-08-01T17:42:12.508Z"
   },
   {
    "duration": 98,
    "start_time": "2022-08-01T17:42:12.523Z"
   },
   {
    "duration": 393,
    "start_time": "2022-08-01T17:42:12.623Z"
   },
   {
    "duration": 21,
    "start_time": "2022-08-01T17:42:13.018Z"
   },
   {
    "duration": 39,
    "start_time": "2022-08-01T17:42:13.041Z"
   },
   {
    "duration": 19,
    "start_time": "2022-08-01T17:42:13.106Z"
   },
   {
    "duration": 20,
    "start_time": "2022-08-01T17:42:13.127Z"
   },
   {
    "duration": 187,
    "start_time": "2022-08-01T17:42:13.149Z"
   },
   {
    "duration": 4,
    "start_time": "2022-08-01T17:42:13.338Z"
   },
   {
    "duration": 63,
    "start_time": "2022-08-01T17:42:13.344Z"
   },
   {
    "duration": 9,
    "start_time": "2022-08-01T17:42:13.409Z"
   },
   {
    "duration": 10,
    "start_time": "2022-08-01T17:42:13.421Z"
   },
   {
    "duration": 21,
    "start_time": "2022-08-01T17:42:13.433Z"
   },
   {
    "duration": 54,
    "start_time": "2022-08-01T17:42:13.456Z"
   },
   {
    "duration": 12,
    "start_time": "2022-08-01T17:42:13.515Z"
   },
   {
    "duration": 25,
    "start_time": "2022-08-01T17:42:13.529Z"
   },
   {
    "duration": 41,
    "start_time": "2022-08-01T17:42:13.557Z"
   },
   {
    "duration": 23,
    "start_time": "2022-08-01T17:42:13.600Z"
   },
   {
    "duration": 27,
    "start_time": "2022-08-01T17:42:13.625Z"
   },
   {
    "duration": 31,
    "start_time": "2022-08-01T17:42:13.654Z"
   },
   {
    "duration": 60,
    "start_time": "2022-08-01T17:42:13.687Z"
   },
   {
    "duration": 35,
    "start_time": "2022-08-01T17:42:13.750Z"
   },
   {
    "duration": 19,
    "start_time": "2022-08-01T17:42:13.807Z"
   },
   {
    "duration": 71,
    "start_time": "2022-08-01T17:47:08.171Z"
   },
   {
    "duration": 497,
    "start_time": "2022-08-01T17:47:53.745Z"
   },
   {
    "duration": 411,
    "start_time": "2022-08-01T17:48:02.487Z"
   },
   {
    "duration": 21,
    "start_time": "2022-08-01T17:48:37.263Z"
   },
   {
    "duration": 15,
    "start_time": "2022-08-01T17:48:47.698Z"
   },
   {
    "duration": 552,
    "start_time": "2022-08-01T17:51:25.405Z"
   },
   {
    "duration": 54,
    "start_time": "2022-08-01T17:52:02.208Z"
   },
   {
    "duration": 14,
    "start_time": "2022-08-01T17:52:38.942Z"
   },
   {
    "duration": 26,
    "start_time": "2022-08-01T17:52:42.922Z"
   },
   {
    "duration": 22,
    "start_time": "2022-08-01T17:54:11.284Z"
   },
   {
    "duration": 13,
    "start_time": "2022-08-01T17:54:22.836Z"
   },
   {
    "duration": 22,
    "start_time": "2022-08-01T17:54:25.541Z"
   },
   {
    "duration": 24,
    "start_time": "2022-08-01T17:54:48.892Z"
   },
   {
    "duration": 576,
    "start_time": "2022-08-01T17:55:41.636Z"
   },
   {
    "duration": 615,
    "start_time": "2022-08-01T17:59:03.269Z"
   },
   {
    "duration": 523,
    "start_time": "2022-08-01T17:59:34.734Z"
   },
   {
    "duration": 585,
    "start_time": "2022-08-01T18:04:07.321Z"
   },
   {
    "duration": 541,
    "start_time": "2022-08-01T18:04:47.215Z"
   },
   {
    "duration": 22875,
    "start_time": "2022-08-01T18:05:11.308Z"
   },
   {
    "duration": 518,
    "start_time": "2022-08-01T18:05:43.627Z"
   },
   {
    "duration": 2896,
    "start_time": "2022-08-01T18:05:50.745Z"
   },
   {
    "duration": 1617,
    "start_time": "2022-08-01T18:05:53.644Z"
   },
   {
    "duration": 785,
    "start_time": "2022-08-01T18:05:55.263Z"
   },
   {
    "duration": 4,
    "start_time": "2022-08-01T18:05:56.050Z"
   },
   {
    "duration": 47,
    "start_time": "2022-08-01T18:05:56.057Z"
   },
   {
    "duration": 11,
    "start_time": "2022-08-01T18:05:56.106Z"
   },
   {
    "duration": 95,
    "start_time": "2022-08-01T18:05:56.119Z"
   },
   {
    "duration": 412,
    "start_time": "2022-08-01T18:05:56.216Z"
   },
   {
    "duration": 24,
    "start_time": "2022-08-01T18:05:56.630Z"
   },
   {
    "duration": 69,
    "start_time": "2022-08-01T18:05:56.658Z"
   },
   {
    "duration": 22,
    "start_time": "2022-08-01T18:05:56.729Z"
   },
   {
    "duration": 16,
    "start_time": "2022-08-01T18:05:56.754Z"
   },
   {
    "duration": 180,
    "start_time": "2022-08-01T18:05:56.773Z"
   },
   {
    "duration": 4,
    "start_time": "2022-08-01T18:05:56.956Z"
   },
   {
    "duration": 65,
    "start_time": "2022-08-01T18:05:56.962Z"
   },
   {
    "duration": 5,
    "start_time": "2022-08-01T18:05:57.029Z"
   },
   {
    "duration": 12,
    "start_time": "2022-08-01T18:05:57.036Z"
   },
   {
    "duration": 40,
    "start_time": "2022-08-01T18:05:57.050Z"
   },
   {
    "duration": 42,
    "start_time": "2022-08-01T18:05:57.093Z"
   },
   {
    "duration": 11,
    "start_time": "2022-08-01T18:05:57.137Z"
   },
   {
    "duration": 27,
    "start_time": "2022-08-01T18:05:57.150Z"
   },
   {
    "duration": 49,
    "start_time": "2022-08-01T18:05:57.179Z"
   },
   {
    "duration": 13,
    "start_time": "2022-08-01T18:05:57.231Z"
   },
   {
    "duration": 29,
    "start_time": "2022-08-01T18:05:57.246Z"
   },
   {
    "duration": 63,
    "start_time": "2022-08-01T18:05:57.277Z"
   },
   {
    "duration": 37,
    "start_time": "2022-08-01T18:05:57.343Z"
   },
   {
    "duration": 57,
    "start_time": "2022-08-01T18:05:57.382Z"
   },
   {
    "duration": 33,
    "start_time": "2022-08-01T18:05:57.440Z"
   },
   {
    "duration": 524,
    "start_time": "2022-08-01T18:05:57.475Z"
   },
   {
    "duration": 18,
    "start_time": "2022-08-01T18:05:58.004Z"
   },
   {
    "duration": 37,
    "start_time": "2022-08-01T18:05:58.024Z"
   },
   {
    "duration": 31,
    "start_time": "2022-08-01T18:05:58.063Z"
   },
   {
    "duration": 745,
    "start_time": "2022-08-01T18:05:58.096Z"
   },
   {
    "duration": 614,
    "start_time": "2022-08-01T18:06:19.063Z"
   },
   {
    "duration": 102,
    "start_time": "2022-08-01T18:18:53.935Z"
   },
   {
    "duration": 11,
    "start_time": "2022-08-01T18:18:56.925Z"
   },
   {
    "duration": 20,
    "start_time": "2022-08-01T18:19:02.457Z"
   },
   {
    "duration": 16,
    "start_time": "2022-08-01T18:33:53.785Z"
   },
   {
    "duration": 18,
    "start_time": "2022-08-01T18:34:11.598Z"
   },
   {
    "duration": 24,
    "start_time": "2022-08-01T18:35:35.315Z"
   },
   {
    "duration": 16,
    "start_time": "2022-08-01T18:35:57.663Z"
   },
   {
    "duration": 564,
    "start_time": "2022-08-01T18:46:50.508Z"
   },
   {
    "duration": 5,
    "start_time": "2022-08-01T18:50:02.307Z"
   },
   {
    "duration": 117,
    "start_time": "2022-08-01T18:51:40.188Z"
   },
   {
    "duration": 208,
    "start_time": "2022-08-01T18:55:24.211Z"
   },
   {
    "duration": 38,
    "start_time": "2022-08-01T18:56:45.935Z"
   },
   {
    "duration": 51,
    "start_time": "2022-08-01T19:16:18.167Z"
   },
   {
    "duration": 221,
    "start_time": "2022-08-01T19:23:08.130Z"
   },
   {
    "duration": 21,
    "start_time": "2022-08-01T19:23:22.020Z"
   },
   {
    "duration": 12,
    "start_time": "2022-08-01T19:23:29.486Z"
   },
   {
    "duration": 33,
    "start_time": "2022-08-01T19:23:34.387Z"
   },
   {
    "duration": 17,
    "start_time": "2022-08-01T19:24:06.684Z"
   },
   {
    "duration": 33,
    "start_time": "2022-08-01T19:24:13.296Z"
   },
   {
    "duration": 40,
    "start_time": "2022-08-01T19:26:09.435Z"
   },
   {
    "duration": 4,
    "start_time": "2022-08-01T20:37:02.032Z"
   },
   {
    "duration": 9,
    "start_time": "2022-08-01T20:38:14.074Z"
   },
   {
    "duration": 36,
    "start_time": "2022-08-01T20:47:14.021Z"
   },
   {
    "duration": 6,
    "start_time": "2022-08-01T20:49:28.578Z"
   },
   {
    "duration": 35,
    "start_time": "2022-08-01T20:49:32.685Z"
   },
   {
    "duration": 27,
    "start_time": "2022-08-01T20:52:48.518Z"
   },
   {
    "duration": 33,
    "start_time": "2022-08-01T20:54:45.441Z"
   },
   {
    "duration": 29,
    "start_time": "2022-08-01T20:58:13.893Z"
   },
   {
    "duration": 2993,
    "start_time": "2022-08-01T21:21:14.195Z"
   },
   {
    "duration": 1675,
    "start_time": "2022-08-01T21:21:17.191Z"
   },
   {
    "duration": 814,
    "start_time": "2022-08-01T21:21:18.868Z"
   },
   {
    "duration": 5,
    "start_time": "2022-08-01T21:21:19.684Z"
   },
   {
    "duration": 43,
    "start_time": "2022-08-01T21:21:19.691Z"
   },
   {
    "duration": 11,
    "start_time": "2022-08-01T21:21:19.735Z"
   },
   {
    "duration": 103,
    "start_time": "2022-08-01T21:21:19.748Z"
   },
   {
    "duration": 408,
    "start_time": "2022-08-01T21:21:19.853Z"
   },
   {
    "duration": 19,
    "start_time": "2022-08-01T21:21:20.263Z"
   },
   {
    "duration": 64,
    "start_time": "2022-08-01T21:21:20.285Z"
   },
   {
    "duration": 15,
    "start_time": "2022-08-01T21:21:20.350Z"
   },
   {
    "duration": 60,
    "start_time": "2022-08-01T21:21:20.367Z"
   },
   {
    "duration": 209,
    "start_time": "2022-08-01T21:21:20.429Z"
   },
   {
    "duration": 5,
    "start_time": "2022-08-01T21:21:20.640Z"
   },
   {
    "duration": 85,
    "start_time": "2022-08-01T21:21:20.648Z"
   },
   {
    "duration": 38,
    "start_time": "2022-08-01T21:21:20.735Z"
   },
   {
    "duration": 10,
    "start_time": "2022-08-01T21:21:20.775Z"
   },
   {
    "duration": 20,
    "start_time": "2022-08-01T21:21:20.787Z"
   },
   {
    "duration": 58,
    "start_time": "2022-08-01T21:21:20.811Z"
   },
   {
    "duration": 34,
    "start_time": "2022-08-01T21:21:20.871Z"
   },
   {
    "duration": 35,
    "start_time": "2022-08-01T21:21:20.907Z"
   },
   {
    "duration": 29,
    "start_time": "2022-08-01T21:21:20.945Z"
   },
   {
    "duration": 12,
    "start_time": "2022-08-01T21:21:20.976Z"
   },
   {
    "duration": 54,
    "start_time": "2022-08-01T21:21:20.990Z"
   },
   {
    "duration": 34,
    "start_time": "2022-08-01T21:21:21.046Z"
   },
   {
    "duration": 47,
    "start_time": "2022-08-01T21:21:21.082Z"
   },
   {
    "duration": 46,
    "start_time": "2022-08-01T21:21:21.131Z"
   },
   {
    "duration": 14,
    "start_time": "2022-08-01T21:21:21.180Z"
   },
   {
    "duration": 516,
    "start_time": "2022-08-01T21:21:21.203Z"
   },
   {
    "duration": 26,
    "start_time": "2022-08-01T21:21:21.721Z"
   },
   {
    "duration": 19,
    "start_time": "2022-08-01T21:21:21.749Z"
   },
   {
    "duration": 36,
    "start_time": "2022-08-01T21:21:21.769Z"
   },
   {
    "duration": 615,
    "start_time": "2022-08-01T21:21:21.809Z"
   },
   {
    "duration": 581,
    "start_time": "2022-08-01T21:21:22.427Z"
   },
   {
    "duration": 22,
    "start_time": "2022-08-01T21:21:23.009Z"
   },
   {
    "duration": 192,
    "start_time": "2022-08-01T21:21:23.034Z"
   },
   {
    "duration": 79,
    "start_time": "2022-08-01T21:21:23.228Z"
   },
   {
    "duration": 31,
    "start_time": "2022-08-01T21:21:23.315Z"
   },
   {
    "duration": 6,
    "start_time": "2022-08-01T21:21:23.348Z"
   },
   {
    "duration": 91,
    "start_time": "2022-08-01T21:21:23.356Z"
   },
   {
    "duration": 26,
    "start_time": "2022-08-01T21:21:23.449Z"
   },
   {
    "duration": 51,
    "start_time": "2022-08-01T21:21:23.477Z"
   },
   {
    "duration": 27,
    "start_time": "2022-08-01T21:21:23.529Z"
   },
   {
    "duration": 1485,
    "start_time": "2022-08-02T05:21:55.036Z"
   },
   {
    "duration": 2157,
    "start_time": "2022-08-02T05:21:56.523Z"
   },
   {
    "duration": 4,
    "start_time": "2022-08-02T05:21:58.681Z"
   },
   {
    "duration": 49,
    "start_time": "2022-08-02T05:21:58.687Z"
   },
   {
    "duration": 10,
    "start_time": "2022-08-02T05:21:58.738Z"
   },
   {
    "duration": 96,
    "start_time": "2022-08-02T05:21:58.749Z"
   },
   {
    "duration": 697,
    "start_time": "2022-08-02T05:21:58.847Z"
   },
   {
    "duration": 80,
    "start_time": "2022-08-02T05:21:59.546Z"
   },
   {
    "duration": 98,
    "start_time": "2022-08-02T05:21:59.628Z"
   },
   {
    "duration": 13,
    "start_time": "2022-08-02T05:21:59.728Z"
   },
   {
    "duration": 12,
    "start_time": "2022-08-02T05:21:59.743Z"
   },
   {
    "duration": 318,
    "start_time": "2022-08-02T05:21:59.810Z"
   },
   {
    "duration": 5,
    "start_time": "2022-08-02T05:22:00.130Z"
   },
   {
    "duration": 96,
    "start_time": "2022-08-02T05:22:00.139Z"
   },
   {
    "duration": 5,
    "start_time": "2022-08-02T05:22:00.237Z"
   },
   {
    "duration": 69,
    "start_time": "2022-08-02T05:22:00.243Z"
   },
   {
    "duration": 22,
    "start_time": "2022-08-02T05:22:00.314Z"
   },
   {
    "duration": 87,
    "start_time": "2022-08-02T05:22:00.338Z"
   },
   {
    "duration": 8,
    "start_time": "2022-08-02T05:22:00.428Z"
   },
   {
    "duration": 22,
    "start_time": "2022-08-02T05:22:00.438Z"
   },
   {
    "duration": 82,
    "start_time": "2022-08-02T05:22:00.462Z"
   },
   {
    "duration": 70,
    "start_time": "2022-08-02T05:22:00.546Z"
   },
   {
    "duration": 36,
    "start_time": "2022-08-02T05:22:00.617Z"
   },
   {
    "duration": 75,
    "start_time": "2022-08-02T05:22:00.654Z"
   },
   {
    "duration": 99,
    "start_time": "2022-08-02T05:22:00.731Z"
   },
   {
    "duration": 79,
    "start_time": "2022-08-02T05:22:00.832Z"
   },
   {
    "duration": 14,
    "start_time": "2022-08-02T05:22:00.913Z"
   },
   {
    "duration": 609,
    "start_time": "2022-08-02T05:22:00.931Z"
   },
   {
    "duration": 19,
    "start_time": "2022-08-02T05:22:01.542Z"
   },
   {
    "duration": 31,
    "start_time": "2022-08-02T05:22:01.563Z"
   },
   {
    "duration": 36,
    "start_time": "2022-08-02T05:22:01.596Z"
   },
   {
    "duration": 583,
    "start_time": "2022-08-02T05:22:01.634Z"
   },
   {
    "duration": 501,
    "start_time": "2022-08-02T05:22:02.230Z"
   },
   {
    "duration": 17,
    "start_time": "2022-08-02T05:22:02.734Z"
   },
   {
    "duration": 217,
    "start_time": "2022-08-02T05:22:02.753Z"
   },
   {
    "duration": 57,
    "start_time": "2022-08-02T05:22:02.972Z"
   },
   {
    "duration": 24,
    "start_time": "2022-08-02T05:22:03.031Z"
   },
   {
    "duration": 62,
    "start_time": "2022-08-02T05:22:03.057Z"
   },
   {
    "duration": 54,
    "start_time": "2022-08-02T05:22:03.121Z"
   },
   {
    "duration": 26,
    "start_time": "2022-08-02T05:22:03.176Z"
   },
   {
    "duration": 29,
    "start_time": "2022-08-02T05:22:03.205Z"
   },
   {
    "duration": 25,
    "start_time": "2022-08-02T05:22:03.236Z"
   },
   {
    "duration": 48,
    "start_time": "2022-08-02T07:11:33.382Z"
   },
   {
    "duration": 1315,
    "start_time": "2022-08-02T07:11:49.224Z"
   },
   {
    "duration": 957,
    "start_time": "2022-08-02T07:11:50.541Z"
   },
   {
    "duration": 4,
    "start_time": "2022-08-02T07:11:51.500Z"
   },
   {
    "duration": 30,
    "start_time": "2022-08-02T07:11:51.505Z"
   },
   {
    "duration": 9,
    "start_time": "2022-08-02T07:11:51.537Z"
   },
   {
    "duration": 65,
    "start_time": "2022-08-02T07:11:51.547Z"
   },
   {
    "duration": 314,
    "start_time": "2022-08-02T07:11:51.614Z"
   },
   {
    "duration": 19,
    "start_time": "2022-08-02T07:11:51.936Z"
   },
   {
    "duration": 29,
    "start_time": "2022-08-02T07:11:51.957Z"
   },
   {
    "duration": 11,
    "start_time": "2022-08-02T07:11:51.988Z"
   },
   {
    "duration": 45,
    "start_time": "2022-08-02T07:11:52.001Z"
   },
   {
    "duration": 121,
    "start_time": "2022-08-02T07:11:52.047Z"
   },
   {
    "duration": 4,
    "start_time": "2022-08-02T07:11:52.170Z"
   },
   {
    "duration": 31,
    "start_time": "2022-08-02T07:11:52.177Z"
   },
   {
    "duration": 5,
    "start_time": "2022-08-02T07:11:52.209Z"
   },
   {
    "duration": 22,
    "start_time": "2022-08-02T07:11:52.215Z"
   },
   {
    "duration": 12,
    "start_time": "2022-08-02T07:11:52.239Z"
   },
   {
    "duration": 28,
    "start_time": "2022-08-02T07:11:52.252Z"
   },
   {
    "duration": 8,
    "start_time": "2022-08-02T07:11:52.282Z"
   },
   {
    "duration": 24,
    "start_time": "2022-08-02T07:11:52.291Z"
   },
   {
    "duration": 40,
    "start_time": "2022-08-02T07:11:52.317Z"
   },
   {
    "duration": 10,
    "start_time": "2022-08-02T07:11:52.359Z"
   },
   {
    "duration": 22,
    "start_time": "2022-08-02T07:11:52.370Z"
   },
   {
    "duration": 24,
    "start_time": "2022-08-02T07:11:52.393Z"
   },
   {
    "duration": 32,
    "start_time": "2022-08-02T07:11:52.437Z"
   },
   {
    "duration": 28,
    "start_time": "2022-08-02T07:11:52.470Z"
   },
   {
    "duration": 11,
    "start_time": "2022-08-02T07:11:52.499Z"
   },
   {
    "duration": 371,
    "start_time": "2022-08-02T07:11:52.511Z"
   },
   {
    "duration": 17,
    "start_time": "2022-08-02T07:11:52.883Z"
   },
   {
    "duration": 13,
    "start_time": "2022-08-02T07:11:52.901Z"
   },
   {
    "duration": 27,
    "start_time": "2022-08-02T07:11:52.915Z"
   },
   {
    "duration": 464,
    "start_time": "2022-08-02T07:11:52.944Z"
   },
   {
    "duration": 424,
    "start_time": "2022-08-02T07:11:53.410Z"
   },
   {
    "duration": 13,
    "start_time": "2022-08-02T07:11:53.836Z"
   },
   {
    "duration": 200,
    "start_time": "2022-08-02T07:11:53.851Z"
   },
   {
    "duration": 28,
    "start_time": "2022-08-02T07:11:54.053Z"
   },
   {
    "duration": 68,
    "start_time": "2022-08-02T07:11:54.082Z"
   },
   {
    "duration": 6,
    "start_time": "2022-08-02T07:11:54.151Z"
   },
   {
    "duration": 34,
    "start_time": "2022-08-02T07:11:54.159Z"
   },
   {
    "duration": 58,
    "start_time": "2022-08-02T07:11:54.194Z"
   },
   {
    "duration": 24,
    "start_time": "2022-08-02T07:11:54.255Z"
   },
   {
    "duration": 23,
    "start_time": "2022-08-02T07:11:54.281Z"
   },
   {
    "duration": 70,
    "start_time": "2022-08-02T08:11:04.037Z"
   },
   {
    "duration": 8304,
    "start_time": "2022-08-02T08:11:13.956Z"
   },
   {
    "duration": 1513,
    "start_time": "2022-08-02T08:11:22.262Z"
   },
   {
    "duration": 1996,
    "start_time": "2022-08-02T08:11:23.776Z"
   },
   {
    "duration": 4,
    "start_time": "2022-08-02T08:11:25.774Z"
   },
   {
    "duration": 40,
    "start_time": "2022-08-02T08:11:25.781Z"
   },
   {
    "duration": 8,
    "start_time": "2022-08-02T08:11:25.822Z"
   },
   {
    "duration": 77,
    "start_time": "2022-08-02T08:11:25.831Z"
   },
   {
    "duration": 277,
    "start_time": "2022-08-02T08:11:25.909Z"
   },
   {
    "duration": 29,
    "start_time": "2022-08-02T08:11:26.187Z"
   },
   {
    "duration": 37,
    "start_time": "2022-08-02T08:11:26.217Z"
   },
   {
    "duration": 20,
    "start_time": "2022-08-02T08:11:26.256Z"
   },
   {
    "duration": 34,
    "start_time": "2022-08-02T08:11:26.278Z"
   },
   {
    "duration": 144,
    "start_time": "2022-08-02T08:11:26.314Z"
   },
   {
    "duration": 4,
    "start_time": "2022-08-02T08:11:26.461Z"
   },
   {
    "duration": 40,
    "start_time": "2022-08-02T08:11:26.467Z"
   },
   {
    "duration": 4,
    "start_time": "2022-08-02T08:11:26.508Z"
   },
   {
    "duration": 7,
    "start_time": "2022-08-02T08:11:26.515Z"
   },
   {
    "duration": 13,
    "start_time": "2022-08-02T08:11:26.524Z"
   },
   {
    "duration": 24,
    "start_time": "2022-08-02T08:11:26.539Z"
   },
   {
    "duration": 7,
    "start_time": "2022-08-02T08:11:26.564Z"
   },
   {
    "duration": 9,
    "start_time": "2022-08-02T08:11:26.602Z"
   },
   {
    "duration": 21,
    "start_time": "2022-08-02T08:11:26.613Z"
   },
   {
    "duration": 1627,
    "start_time": "2022-08-02T08:11:26.636Z"
   },
   {
    "duration": 0,
    "start_time": "2022-08-02T08:11:28.265Z"
   },
   {
    "duration": 0,
    "start_time": "2022-08-02T08:11:28.266Z"
   },
   {
    "duration": 0,
    "start_time": "2022-08-02T08:11:28.267Z"
   },
   {
    "duration": 0,
    "start_time": "2022-08-02T08:11:28.269Z"
   },
   {
    "duration": 0,
    "start_time": "2022-08-02T08:11:28.270Z"
   },
   {
    "duration": 0,
    "start_time": "2022-08-02T08:11:28.271Z"
   },
   {
    "duration": 0,
    "start_time": "2022-08-02T08:11:28.272Z"
   },
   {
    "duration": 0,
    "start_time": "2022-08-02T08:11:28.273Z"
   },
   {
    "duration": 0,
    "start_time": "2022-08-02T08:11:28.274Z"
   },
   {
    "duration": 0,
    "start_time": "2022-08-02T08:11:28.276Z"
   },
   {
    "duration": 0,
    "start_time": "2022-08-02T08:11:28.276Z"
   },
   {
    "duration": 0,
    "start_time": "2022-08-02T08:11:28.278Z"
   },
   {
    "duration": 0,
    "start_time": "2022-08-02T08:11:28.280Z"
   },
   {
    "duration": 0,
    "start_time": "2022-08-02T08:11:28.281Z"
   },
   {
    "duration": 0,
    "start_time": "2022-08-02T08:11:28.283Z"
   },
   {
    "duration": 0,
    "start_time": "2022-08-02T08:11:28.284Z"
   },
   {
    "duration": 0,
    "start_time": "2022-08-02T08:11:28.285Z"
   },
   {
    "duration": 0,
    "start_time": "2022-08-02T08:11:28.287Z"
   },
   {
    "duration": 0,
    "start_time": "2022-08-02T08:11:28.290Z"
   },
   {
    "duration": 0,
    "start_time": "2022-08-02T08:11:28.291Z"
   },
   {
    "duration": 0,
    "start_time": "2022-08-02T08:11:28.292Z"
   },
   {
    "duration": 1245,
    "start_time": "2022-08-02T08:12:41.364Z"
   },
   {
    "duration": 5,
    "start_time": "2022-08-02T08:13:16.087Z"
   },
   {
    "duration": 10,
    "start_time": "2022-08-02T08:13:35.244Z"
   },
   {
    "duration": 16,
    "start_time": "2022-08-02T08:18:19.215Z"
   },
   {
    "duration": 144,
    "start_time": "2022-08-02T08:19:31.063Z"
   },
   {
    "duration": 141,
    "start_time": "2022-08-02T08:22:39.955Z"
   },
   {
    "duration": 18,
    "start_time": "2022-08-02T08:25:46.452Z"
   },
   {
    "duration": 17,
    "start_time": "2022-08-02T08:26:16.877Z"
   },
   {
    "duration": 35,
    "start_time": "2022-08-02T08:26:19.022Z"
   },
   {
    "duration": 2575,
    "start_time": "2022-08-02T08:26:55.389Z"
   },
   {
    "duration": 4,
    "start_time": "2022-08-02T08:26:57.967Z"
   },
   {
    "duration": 594,
    "start_time": "2022-08-02T08:26:57.973Z"
   },
   {
    "duration": 4,
    "start_time": "2022-08-02T08:26:58.569Z"
   },
   {
    "duration": 23,
    "start_time": "2022-08-02T08:26:58.574Z"
   },
   {
    "duration": 16,
    "start_time": "2022-08-02T08:26:58.601Z"
   },
   {
    "duration": 54,
    "start_time": "2022-08-02T08:26:58.618Z"
   },
   {
    "duration": 276,
    "start_time": "2022-08-02T08:26:58.673Z"
   },
   {
    "duration": 17,
    "start_time": "2022-08-02T08:26:58.950Z"
   },
   {
    "duration": 53,
    "start_time": "2022-08-02T08:26:58.970Z"
   },
   {
    "duration": 12,
    "start_time": "2022-08-02T08:26:59.024Z"
   },
   {
    "duration": 10,
    "start_time": "2022-08-02T08:26:59.037Z"
   },
   {
    "duration": 122,
    "start_time": "2022-08-02T08:26:59.048Z"
   },
   {
    "duration": 4,
    "start_time": "2022-08-02T08:26:59.172Z"
   },
   {
    "duration": 48,
    "start_time": "2022-08-02T08:26:59.177Z"
   },
   {
    "duration": 4,
    "start_time": "2022-08-02T08:26:59.227Z"
   },
   {
    "duration": 12,
    "start_time": "2022-08-02T08:26:59.233Z"
   },
   {
    "duration": 16,
    "start_time": "2022-08-02T08:26:59.246Z"
   },
   {
    "duration": 24,
    "start_time": "2022-08-02T08:26:59.264Z"
   },
   {
    "duration": 8,
    "start_time": "2022-08-02T08:26:59.307Z"
   },
   {
    "duration": 14,
    "start_time": "2022-08-02T08:26:59.317Z"
   },
   {
    "duration": 20,
    "start_time": "2022-08-02T08:26:59.332Z"
   },
   {
    "duration": 208,
    "start_time": "2022-08-02T08:27:04.979Z"
   },
   {
    "duration": 7,
    "start_time": "2022-08-02T08:27:06.747Z"
   },
   {
    "duration": 7,
    "start_time": "2022-08-02T08:27:08.043Z"
   },
   {
    "duration": 2446,
    "start_time": "2022-08-02T08:28:26.085Z"
   },
   {
    "duration": 5,
    "start_time": "2022-08-02T08:28:28.534Z"
   },
   {
    "duration": 668,
    "start_time": "2022-08-02T08:28:28.541Z"
   },
   {
    "duration": 9,
    "start_time": "2022-08-02T08:28:29.212Z"
   },
   {
    "duration": 27,
    "start_time": "2022-08-02T08:28:29.223Z"
   },
   {
    "duration": 8,
    "start_time": "2022-08-02T08:28:29.252Z"
   },
   {
    "duration": 89,
    "start_time": "2022-08-02T08:28:29.262Z"
   },
   {
    "duration": 279,
    "start_time": "2022-08-02T08:28:29.353Z"
   },
   {
    "duration": 16,
    "start_time": "2022-08-02T08:28:29.634Z"
   },
   {
    "duration": 64,
    "start_time": "2022-08-02T08:28:29.652Z"
   },
   {
    "duration": 16,
    "start_time": "2022-08-02T08:28:29.720Z"
   },
   {
    "duration": 12,
    "start_time": "2022-08-02T08:28:29.738Z"
   },
   {
    "duration": 126,
    "start_time": "2022-08-02T08:28:29.752Z"
   },
   {
    "duration": 5,
    "start_time": "2022-08-02T08:28:29.880Z"
   },
   {
    "duration": 55,
    "start_time": "2022-08-02T08:28:29.887Z"
   },
   {
    "duration": 4,
    "start_time": "2022-08-02T08:28:29.944Z"
   },
   {
    "duration": 9,
    "start_time": "2022-08-02T08:28:29.950Z"
   },
   {
    "duration": 16,
    "start_time": "2022-08-02T08:28:29.960Z"
   },
   {
    "duration": 50,
    "start_time": "2022-08-02T08:28:29.977Z"
   },
   {
    "duration": 7,
    "start_time": "2022-08-02T08:28:30.029Z"
   },
   {
    "duration": 15,
    "start_time": "2022-08-02T08:28:30.038Z"
   },
   {
    "duration": 33,
    "start_time": "2022-08-02T08:28:30.055Z"
   },
   {
    "duration": 134,
    "start_time": "2022-08-02T08:29:35.909Z"
   },
   {
    "duration": 7,
    "start_time": "2022-08-02T08:29:40.091Z"
   },
   {
    "duration": 11,
    "start_time": "2022-08-02T08:29:40.900Z"
   },
   {
    "duration": 2349,
    "start_time": "2022-08-02T08:41:56.755Z"
   },
   {
    "duration": 3,
    "start_time": "2022-08-02T08:41:59.106Z"
   },
   {
    "duration": 581,
    "start_time": "2022-08-02T08:41:59.111Z"
   },
   {
    "duration": 4,
    "start_time": "2022-08-02T08:41:59.694Z"
   },
   {
    "duration": 24,
    "start_time": "2022-08-02T08:41:59.699Z"
   },
   {
    "duration": 8,
    "start_time": "2022-08-02T08:41:59.724Z"
   },
   {
    "duration": 76,
    "start_time": "2022-08-02T08:41:59.734Z"
   },
   {
    "duration": 261,
    "start_time": "2022-08-02T08:41:59.811Z"
   },
   {
    "duration": 16,
    "start_time": "2022-08-02T08:42:00.074Z"
   },
   {
    "duration": 27,
    "start_time": "2022-08-02T08:42:00.104Z"
   },
   {
    "duration": 11,
    "start_time": "2022-08-02T08:42:00.133Z"
   },
   {
    "duration": 37,
    "start_time": "2022-08-02T08:42:00.145Z"
   },
   {
    "duration": 113,
    "start_time": "2022-08-02T08:42:00.184Z"
   },
   {
    "duration": 4,
    "start_time": "2022-08-02T08:42:00.302Z"
   },
   {
    "duration": 52,
    "start_time": "2022-08-02T08:42:00.307Z"
   },
   {
    "duration": 5,
    "start_time": "2022-08-02T08:42:00.361Z"
   },
   {
    "duration": 18,
    "start_time": "2022-08-02T08:42:00.367Z"
   },
   {
    "duration": 15,
    "start_time": "2022-08-02T08:42:00.387Z"
   },
   {
    "duration": 30,
    "start_time": "2022-08-02T08:42:00.403Z"
   },
   {
    "duration": 6,
    "start_time": "2022-08-02T08:42:00.435Z"
   },
   {
    "duration": 17,
    "start_time": "2022-08-02T08:42:00.443Z"
   },
   {
    "duration": 30,
    "start_time": "2022-08-02T08:42:00.461Z"
   },
   {
    "duration": 127,
    "start_time": "2022-08-02T08:42:10.418Z"
   },
   {
    "duration": 7,
    "start_time": "2022-08-02T08:42:28.562Z"
   },
   {
    "duration": 10,
    "start_time": "2022-08-02T08:42:43.246Z"
   },
   {
    "duration": 2346,
    "start_time": "2022-08-02T08:58:26.816Z"
   },
   {
    "duration": 3,
    "start_time": "2022-08-02T08:58:29.165Z"
   },
   {
    "duration": 580,
    "start_time": "2022-08-02T08:58:29.170Z"
   },
   {
    "duration": 4,
    "start_time": "2022-08-02T08:58:29.752Z"
   },
   {
    "duration": 34,
    "start_time": "2022-08-02T08:58:29.757Z"
   },
   {
    "duration": 8,
    "start_time": "2022-08-02T08:58:29.792Z"
   },
   {
    "duration": 59,
    "start_time": "2022-08-02T08:58:29.802Z"
   },
   {
    "duration": 272,
    "start_time": "2022-08-02T08:58:29.863Z"
   },
   {
    "duration": 17,
    "start_time": "2022-08-02T08:58:30.136Z"
   },
   {
    "duration": 52,
    "start_time": "2022-08-02T08:58:30.155Z"
   },
   {
    "duration": 11,
    "start_time": "2022-08-02T08:58:30.209Z"
   },
   {
    "duration": 16,
    "start_time": "2022-08-02T08:58:30.222Z"
   },
   {
    "duration": 118,
    "start_time": "2022-08-02T08:58:30.239Z"
   },
   {
    "duration": 4,
    "start_time": "2022-08-02T08:58:30.359Z"
   },
   {
    "duration": 44,
    "start_time": "2022-08-02T08:58:30.364Z"
   },
   {
    "duration": 3,
    "start_time": "2022-08-02T08:58:30.410Z"
   },
   {
    "duration": 10,
    "start_time": "2022-08-02T08:58:30.415Z"
   },
   {
    "duration": 18,
    "start_time": "2022-08-02T08:58:30.427Z"
   },
   {
    "duration": 30,
    "start_time": "2022-08-02T08:58:30.446Z"
   },
   {
    "duration": 6,
    "start_time": "2022-08-02T08:58:30.478Z"
   },
   {
    "duration": 24,
    "start_time": "2022-08-02T08:58:30.485Z"
   },
   {
    "duration": 22,
    "start_time": "2022-08-02T08:58:30.512Z"
   },
   {
    "duration": 145,
    "start_time": "2022-08-02T08:58:30.535Z"
   },
   {
    "duration": 199,
    "start_time": "2022-08-02T08:58:41.566Z"
   },
   {
    "duration": 7,
    "start_time": "2022-08-02T08:58:42.241Z"
   },
   {
    "duration": 7,
    "start_time": "2022-08-02T08:58:43.599Z"
   },
   {
    "duration": 7,
    "start_time": "2022-08-02T09:02:24.358Z"
   },
   {
    "duration": 9,
    "start_time": "2022-08-02T09:07:12.457Z"
   },
   {
    "duration": 71,
    "start_time": "2022-08-02T09:07:21.565Z"
   },
   {
    "duration": 76,
    "start_time": "2022-08-02T09:18:28.810Z"
   },
   {
    "duration": 11,
    "start_time": "2022-08-02T09:18:50.645Z"
   },
   {
    "duration": 6,
    "start_time": "2022-08-02T09:23:30.893Z"
   },
   {
    "duration": 7,
    "start_time": "2022-08-02T09:23:31.536Z"
   },
   {
    "duration": 11,
    "start_time": "2022-08-02T09:24:51.756Z"
   },
   {
    "duration": 17,
    "start_time": "2022-08-02T09:25:00.283Z"
   },
   {
    "duration": 24,
    "start_time": "2022-08-02T09:25:15.003Z"
   },
   {
    "duration": 31,
    "start_time": "2022-08-02T09:25:17.996Z"
   },
   {
    "duration": 27,
    "start_time": "2022-08-02T09:25:26.692Z"
   },
   {
    "duration": 11,
    "start_time": "2022-08-02T09:25:30.396Z"
   },
   {
    "duration": 448,
    "start_time": "2022-08-02T09:27:08.308Z"
   },
   {
    "duration": 15,
    "start_time": "2022-08-02T09:27:12.172Z"
   },
   {
    "duration": 14,
    "start_time": "2022-08-02T09:27:14.395Z"
   },
   {
    "duration": 11,
    "start_time": "2022-08-02T09:27:20.067Z"
   },
   {
    "duration": 513,
    "start_time": "2022-08-02T09:27:21.845Z"
   },
   {
    "duration": 473,
    "start_time": "2022-08-02T09:27:32.067Z"
   },
   {
    "duration": 13,
    "start_time": "2022-08-02T09:27:44.299Z"
   },
   {
    "duration": 13,
    "start_time": "2022-08-02T09:29:03.705Z"
   },
   {
    "duration": 13,
    "start_time": "2022-08-02T09:29:26.603Z"
   },
   {
    "duration": 182,
    "start_time": "2022-08-02T09:34:25.283Z"
   },
   {
    "duration": 26,
    "start_time": "2022-08-02T09:34:51.744Z"
   },
   {
    "duration": 27,
    "start_time": "2022-08-02T09:35:07.379Z"
   },
   {
    "duration": 5,
    "start_time": "2022-08-02T09:35:35.082Z"
   },
   {
    "duration": 23,
    "start_time": "2022-08-02T09:35:54.332Z"
   },
   {
    "duration": 23,
    "start_time": "2022-08-02T09:36:17.648Z"
   },
   {
    "duration": 24,
    "start_time": "2022-08-02T09:36:37.675Z"
   },
   {
    "duration": 20,
    "start_time": "2022-08-02T09:36:57.630Z"
   },
   {
    "duration": 2341,
    "start_time": "2022-08-02T10:07:26.001Z"
   },
   {
    "duration": 1325,
    "start_time": "2022-08-02T10:07:28.345Z"
   },
   {
    "duration": 638,
    "start_time": "2022-08-02T10:07:29.672Z"
   },
   {
    "duration": 4,
    "start_time": "2022-08-02T10:07:30.312Z"
   },
   {
    "duration": 39,
    "start_time": "2022-08-02T10:07:30.318Z"
   },
   {
    "duration": 8,
    "start_time": "2022-08-02T10:07:30.359Z"
   },
   {
    "duration": 71,
    "start_time": "2022-08-02T10:07:30.368Z"
   },
   {
    "duration": 309,
    "start_time": "2022-08-02T10:07:30.441Z"
   },
   {
    "duration": 20,
    "start_time": "2022-08-02T10:07:30.752Z"
   },
   {
    "duration": 53,
    "start_time": "2022-08-02T10:07:30.775Z"
   },
   {
    "duration": 11,
    "start_time": "2022-08-02T10:07:30.829Z"
   },
   {
    "duration": 16,
    "start_time": "2022-08-02T10:07:30.842Z"
   },
   {
    "duration": 154,
    "start_time": "2022-08-02T10:07:30.859Z"
   },
   {
    "duration": 4,
    "start_time": "2022-08-02T10:07:31.015Z"
   },
   {
    "duration": 38,
    "start_time": "2022-08-02T10:07:31.021Z"
   },
   {
    "duration": 4,
    "start_time": "2022-08-02T10:07:31.060Z"
   },
   {
    "duration": 10,
    "start_time": "2022-08-02T10:07:31.065Z"
   },
   {
    "duration": 13,
    "start_time": "2022-08-02T10:07:31.076Z"
   },
   {
    "duration": 35,
    "start_time": "2022-08-02T10:07:31.090Z"
   },
   {
    "duration": 6,
    "start_time": "2022-08-02T10:07:31.127Z"
   },
   {
    "duration": 12,
    "start_time": "2022-08-02T10:07:31.135Z"
   },
   {
    "duration": 23,
    "start_time": "2022-08-02T10:07:31.148Z"
   },
   {
    "duration": 149,
    "start_time": "2022-08-02T10:07:31.173Z"
   },
   {
    "duration": 6,
    "start_time": "2022-08-02T10:07:31.324Z"
   },
   {
    "duration": 7,
    "start_time": "2022-08-02T10:07:31.332Z"
   },
   {
    "duration": 10,
    "start_time": "2022-08-02T10:07:31.341Z"
   },
   {
    "duration": 10,
    "start_time": "2022-08-02T10:07:31.353Z"
   },
   {
    "duration": 9,
    "start_time": "2022-08-02T10:07:31.367Z"
   },
   {
    "duration": 18,
    "start_time": "2022-08-02T10:07:31.402Z"
   },
   {
    "duration": 28,
    "start_time": "2022-08-02T10:07:31.421Z"
   },
   {
    "duration": 33,
    "start_time": "2022-08-02T10:07:31.450Z"
   },
   {
    "duration": 28,
    "start_time": "2022-08-02T10:07:31.501Z"
   },
   {
    "duration": 11,
    "start_time": "2022-08-02T10:07:31.531Z"
   },
   {
    "duration": 452,
    "start_time": "2022-08-02T10:07:31.543Z"
   },
   {
    "duration": 18,
    "start_time": "2022-08-02T10:07:31.997Z"
   },
   {
    "duration": 12,
    "start_time": "2022-08-02T10:07:32.016Z"
   },
   {
    "duration": 9,
    "start_time": "2022-08-02T10:07:32.030Z"
   },
   {
    "duration": 495,
    "start_time": "2022-08-02T10:07:32.041Z"
   },
   {
    "duration": 571,
    "start_time": "2022-08-02T10:07:32.538Z"
   },
   {
    "duration": 12,
    "start_time": "2022-08-02T10:07:33.111Z"
   },
   {
    "duration": 174,
    "start_time": "2022-08-02T10:07:33.124Z"
   },
   {
    "duration": 25,
    "start_time": "2022-08-02T10:07:33.300Z"
   },
   {
    "duration": 19,
    "start_time": "2022-08-02T10:07:33.327Z"
   },
   {
    "duration": 57,
    "start_time": "2022-08-02T10:07:33.347Z"
   },
   {
    "duration": 50,
    "start_time": "2022-08-02T10:07:33.405Z"
   },
   {
    "duration": 32,
    "start_time": "2022-08-02T10:07:33.456Z"
   },
   {
    "duration": 20,
    "start_time": "2022-08-02T10:07:33.490Z"
   },
   {
    "duration": 35,
    "start_time": "2022-08-02T10:07:33.511Z"
   },
   {
    "duration": 17574,
    "start_time": "2022-08-02T10:27:51.232Z"
   },
   {
    "duration": 6,
    "start_time": "2022-08-02T10:28:08.809Z"
   },
   {
    "duration": 1085,
    "start_time": "2022-08-02T10:28:08.817Z"
   },
   {
    "duration": 6,
    "start_time": "2022-08-02T10:28:09.904Z"
   },
   {
    "duration": 54,
    "start_time": "2022-08-02T10:28:09.913Z"
   },
   {
    "duration": 34,
    "start_time": "2022-08-02T10:28:09.969Z"
   },
   {
    "duration": 107,
    "start_time": "2022-08-02T10:28:10.005Z"
   },
   {
    "duration": 445,
    "start_time": "2022-08-02T10:28:10.113Z"
   },
   {
    "duration": 35,
    "start_time": "2022-08-02T10:28:10.562Z"
   },
   {
    "duration": 71,
    "start_time": "2022-08-02T10:28:10.599Z"
   },
   {
    "duration": 49,
    "start_time": "2022-08-02T10:28:10.674Z"
   },
   {
    "duration": 30,
    "start_time": "2022-08-02T10:28:10.725Z"
   },
   {
    "duration": 190,
    "start_time": "2022-08-02T10:28:10.757Z"
   },
   {
    "duration": 14,
    "start_time": "2022-08-02T10:28:10.951Z"
   },
   {
    "duration": 63,
    "start_time": "2022-08-02T10:28:10.967Z"
   },
   {
    "duration": 4,
    "start_time": "2022-08-02T10:28:11.032Z"
   },
   {
    "duration": 39,
    "start_time": "2022-08-02T10:28:11.038Z"
   },
   {
    "duration": 220,
    "start_time": "2022-08-02T10:28:11.079Z"
   },
   {
    "duration": 54,
    "start_time": "2022-08-02T10:28:11.301Z"
   },
   {
    "duration": 21,
    "start_time": "2022-08-02T10:28:11.363Z"
   },
   {
    "duration": 24,
    "start_time": "2022-08-02T10:28:11.388Z"
   },
   {
    "duration": 45,
    "start_time": "2022-08-02T10:28:11.414Z"
   },
   {
    "duration": 191,
    "start_time": "2022-08-02T10:28:11.476Z"
   },
   {
    "duration": 18,
    "start_time": "2022-08-02T10:28:11.681Z"
   },
   {
    "duration": 10,
    "start_time": "2022-08-02T10:28:11.705Z"
   },
   {
    "duration": 8,
    "start_time": "2022-08-02T10:28:11.717Z"
   },
   {
    "duration": 17,
    "start_time": "2022-08-02T10:28:11.726Z"
   },
   {
    "duration": 31,
    "start_time": "2022-08-02T10:28:11.745Z"
   },
   {
    "duration": 34,
    "start_time": "2022-08-02T10:28:11.778Z"
   },
   {
    "duration": 34,
    "start_time": "2022-08-02T10:28:11.814Z"
   },
   {
    "duration": 58,
    "start_time": "2022-08-02T10:28:11.849Z"
   },
   {
    "duration": 46,
    "start_time": "2022-08-02T10:28:11.909Z"
   },
   {
    "duration": 21,
    "start_time": "2022-08-02T10:28:11.957Z"
   },
   {
    "duration": 478,
    "start_time": "2022-08-02T10:28:11.982Z"
   },
   {
    "duration": 34,
    "start_time": "2022-08-02T10:28:12.462Z"
   },
   {
    "duration": 28,
    "start_time": "2022-08-02T10:28:12.503Z"
   },
   {
    "duration": 19,
    "start_time": "2022-08-02T10:28:12.534Z"
   },
   {
    "duration": 631,
    "start_time": "2022-08-02T10:28:12.556Z"
   },
   {
    "duration": 548,
    "start_time": "2022-08-02T10:28:13.189Z"
   },
   {
    "duration": 59,
    "start_time": "2022-08-02T10:28:13.752Z"
   },
   {
    "duration": 57,
    "start_time": "2022-08-02T10:28:13.818Z"
   },
   {
    "duration": 42,
    "start_time": "2022-08-02T10:28:13.878Z"
   },
   {
    "duration": 39,
    "start_time": "2022-08-02T10:28:13.922Z"
   },
   {
    "duration": 19,
    "start_time": "2022-08-02T10:28:13.972Z"
   },
   {
    "duration": 49,
    "start_time": "2022-08-02T10:28:13.993Z"
   },
   {
    "duration": 70,
    "start_time": "2022-08-02T10:28:14.043Z"
   },
   {
    "duration": 49,
    "start_time": "2022-08-02T10:28:14.115Z"
   },
   {
    "duration": 31,
    "start_time": "2022-08-02T10:28:14.165Z"
   }
  ],
  "kernelspec": {
   "display_name": "Python 3 (ipykernel)",
   "language": "python",
   "name": "python3"
  },
  "language_info": {
   "codemirror_mode": {
    "name": "ipython",
    "version": 3
   },
   "file_extension": ".py",
   "mimetype": "text/x-python",
   "name": "python",
   "nbconvert_exporter": "python",
   "pygments_lexer": "ipython3",
   "version": "3.9.7"
  },
  "toc": {
   "base_numbering": 1,
   "nav_menu": {},
   "number_sections": true,
   "sideBar": true,
   "skip_h1_title": true,
   "title_cell": "Table of Contents",
   "title_sidebar": "Contents",
   "toc_cell": false,
   "toc_position": {
    "height": "calc(100% - 180px)",
    "left": "10px",
    "top": "150px",
    "width": "289.594px"
   },
   "toc_section_display": true,
   "toc_window_display": true
  }
 },
 "nbformat": 4,
 "nbformat_minor": 2
}
