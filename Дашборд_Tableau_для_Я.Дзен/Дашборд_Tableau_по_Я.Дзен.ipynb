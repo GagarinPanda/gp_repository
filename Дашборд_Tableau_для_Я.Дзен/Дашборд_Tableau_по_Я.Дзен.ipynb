{
 "cells": [
  {
   "cell_type": "markdown",
   "id": "5d117adf",
   "metadata": {},
   "source": [
    "# Создание дашборда, отражающего взаимодействие пользователей с карточками Я.Дзен (Tableau)"
   ]
  },
  {
   "cell_type": "markdown",
   "id": "d8636fd3",
   "metadata": {},
   "source": [
    "##  Описание проекта"
   ]
  },
  {
   "cell_type": "markdown",
   "id": "be32f755",
   "metadata": {},
   "source": [
    "### Цель\n",
    "1. Создать дашборд для менеджеров по анализу контента, отражающий взаимодействие пользователей с карточками Яндекс.Дзен.\n",
    "2. Используя дашборд, ответить на вопросы менеджеров:\n",
    " - Cколько взаимодействий пользователей с карточками происходит в системе с разбивкой по темам карточек?\n",
    " - Как много карточек генерируют источники с разными темами?\n",
    " - Как соотносятся темы карточек и темы источников?\n",
    "2. Подготовить презентацию с отчётом (графики + ответы на вопросы), используя созданный дашборд."
   ]
  },
  {
   "cell_type": "markdown",
   "id": "1d72706c",
   "metadata": {},
   "source": [
    "### Описание данных\n",
    "Сырые данные о событиях взаимодействия пользователей с карточками."
   ]
  },
  {
   "cell_type": "markdown",
   "id": "c5f85221",
   "metadata": {},
   "source": [
    "### Краткое ТЗ\n",
    "1. Бизнес-задача: анализ взаимодействия пользователей с карточками Яндекс.Дзен.\n",
    "2. Частота использования дашборда: не реже 1 раза в неделю.\n",
    "3. Пользователи дашборда: менеджеры по анализу контента.\n",
    "4. Данные отображаемые на дашборде и их характер:\n",
    " - история событий по темам карточек (два графика - абсолютные величины с разбивкой по минутам и процентное соотношение);\n",
    " - разбивка событий по темам источников - относительные величины (% событий);\n",
    " - таблица соответствия тем источников темам карточек - абсолютные величины.\n",
    "5. Параметры для группировки данных на дашборде:\n",
    " - дата и время;\n",
    " - тема карточки;\n",
    " - тема источника;\n",
    " - возрастная группа.\n",
    "6. Приоритетность элементов дашборда: все элементы дашборда имеют равный приоритет.\n",
    "7. БД для хранения агрегированных данных: дополнительные агригированные таблицы в БД zen.\n",
    "8. Частота обновления данных: один раз в сутки, в полночь по UTC."
   ]
  },
  {
   "cell_type": "markdown",
   "id": "59c13a04",
   "metadata": {},
   "source": [
    "### Ход выполнения\n",
    "1. Создать коннекцию к БД и выгрузить необходимые данные.\n",
    "2. На основе выгруженных данных построить дашборд в соответствии с разработанным макетом.\n",
    "3. На основе созданного дашборда подготовить презентацию с отчётом."
   ]
  },
  {
   "cell_type": "markdown",
   "id": "33983dba",
   "metadata": {},
   "source": [
    "## Подключение к БД и выгрузка необходимых данных"
   ]
  },
  {
   "cell_type": "code",
   "execution_count": 2,
   "id": "3862b816",
   "metadata": {},
   "outputs": [],
   "source": [
    "import pandas as pd\n",
    "from sqlalchemy import create_engine"
   ]
  },
  {
   "cell_type": "code",
   "execution_count": 18,
   "id": "17288613",
   "metadata": {},
   "outputs": [
    {
     "data": {
      "text/html": [
       "<div>\n",
       "<style scoped>\n",
       "    .dataframe tbody tr th:only-of-type {\n",
       "        vertical-align: middle;\n",
       "    }\n",
       "\n",
       "    .dataframe tbody tr th {\n",
       "        vertical-align: top;\n",
       "    }\n",
       "\n",
       "    .dataframe thead th {\n",
       "        text-align: right;\n",
       "    }\n",
       "</style>\n",
       "<table border=\"1\" class=\"dataframe\">\n",
       "  <thead>\n",
       "    <tr style=\"text-align: right;\">\n",
       "      <th></th>\n",
       "      <th>record_id</th>\n",
       "      <th>item_topic</th>\n",
       "      <th>source_topic</th>\n",
       "      <th>age_segment</th>\n",
       "      <th>dt</th>\n",
       "      <th>visits</th>\n",
       "    </tr>\n",
       "  </thead>\n",
       "  <tbody>\n",
       "    <tr>\n",
       "      <th>0</th>\n",
       "      <td>1040597</td>\n",
       "      <td>Деньги</td>\n",
       "      <td>Авто</td>\n",
       "      <td>18-25</td>\n",
       "      <td>2019-09-24 18:32:00</td>\n",
       "      <td>3</td>\n",
       "    </tr>\n",
       "    <tr>\n",
       "      <th>1</th>\n",
       "      <td>1040598</td>\n",
       "      <td>Деньги</td>\n",
       "      <td>Авто</td>\n",
       "      <td>18-25</td>\n",
       "      <td>2019-09-24 18:35:00</td>\n",
       "      <td>1</td>\n",
       "    </tr>\n",
       "    <tr>\n",
       "      <th>2</th>\n",
       "      <td>1040599</td>\n",
       "      <td>Деньги</td>\n",
       "      <td>Авто</td>\n",
       "      <td>18-25</td>\n",
       "      <td>2019-09-24 18:54:00</td>\n",
       "      <td>4</td>\n",
       "    </tr>\n",
       "    <tr>\n",
       "      <th>3</th>\n",
       "      <td>1040600</td>\n",
       "      <td>Деньги</td>\n",
       "      <td>Авто</td>\n",
       "      <td>18-25</td>\n",
       "      <td>2019-09-24 18:55:00</td>\n",
       "      <td>17</td>\n",
       "    </tr>\n",
       "    <tr>\n",
       "      <th>4</th>\n",
       "      <td>1040601</td>\n",
       "      <td>Деньги</td>\n",
       "      <td>Авто</td>\n",
       "      <td>18-25</td>\n",
       "      <td>2019-09-24 18:56:00</td>\n",
       "      <td>27</td>\n",
       "    </tr>\n",
       "  </tbody>\n",
       "</table>\n",
       "</div>"
      ],
      "text/plain": [
       "   record_id item_topic source_topic age_segment                  dt  visits\n",
       "0    1040597     Деньги         Авто       18-25 2019-09-24 18:32:00       3\n",
       "1    1040598     Деньги         Авто       18-25 2019-09-24 18:35:00       1\n",
       "2    1040599     Деньги         Авто       18-25 2019-09-24 18:54:00       4\n",
       "3    1040600     Деньги         Авто       18-25 2019-09-24 18:55:00      17\n",
       "4    1040601     Деньги         Авто       18-25 2019-09-24 18:56:00      27"
      ]
     },
     "execution_count": 18,
     "metadata": {},
     "output_type": "execute_result"
    }
   ],
   "source": [
    "db_config = {'user': 'praktikum_student', # имя пользователя\n",
    "            'pwd': 'Sdf4$2;d-d30pp', # пароль\n",
    "            'host': 'rc1b-wcoijxj3yxfsf3fs.mdb.yandexcloud.net',\n",
    "            'port': 6432, # порт подключения\n",
    "            'db': 'data-analyst-zen-project-db'} # название базы данных\n",
    "\n",
    "connection_string = 'postgresql://{}:{}@{}:{}/{}'.format(db_config['user'],\n",
    "                                                db_config['pwd'],\n",
    "                                                db_config['host'],\n",
    "                                                db_config['port'],\n",
    "                                                db_config['db'])\n",
    "\n",
    "engine = create_engine(connection_string)\n",
    "\n",
    "query = '''\n",
    "           SELECT *\n",
    "           FROM dash_visits\n",
    "        '''\n",
    "\n",
    "dash_visits = pd.io.sql.read_sql(query, con = engine) #выполнение SQL-запроса\n",
    "\n",
    "dash_visits.to_csv('dash_visits.csv', index=False) #выгрузка данных в csv-файл\n",
    "\n",
    "dash_visits.head()"
   ]
  },
  {
   "cell_type": "markdown",
   "id": "a014aba6",
   "metadata": {},
   "source": [
    "## Ссылка на дашборд"
   ]
  },
  {
   "cell_type": "markdown",
   "id": "41c9be0c",
   "metadata": {},
   "source": [
    "[https://public.tableau.com/views/Y_zen_project/Dashboard1?:language=en-US&publish=yes&:display_count=n&:origin=viz_share_link]"
   ]
  },
  {
   "cell_type": "markdown",
   "id": "f9eee795",
   "metadata": {},
   "source": [
    "## Презентация"
   ]
  },
  {
   "cell_type": "markdown",
   "id": "c4b49131",
   "metadata": {},
   "source": [
    "[https://disk.yandex.ru/i/B4YtfXpT4R7q7w]"
   ]
  }
 ],
 "metadata": {
  "kernelspec": {
   "display_name": "Python 3 (ipykernel)",
   "language": "python",
   "name": "python3"
  },
  "language_info": {
   "codemirror_mode": {
    "name": "ipython",
    "version": 3
   },
   "file_extension": ".py",
   "mimetype": "text/x-python",
   "name": "python",
   "nbconvert_exporter": "python",
   "pygments_lexer": "ipython3",
   "version": "3.9.7"
  },
  "toc": {
   "base_numbering": 1,
   "nav_menu": {},
   "number_sections": true,
   "sideBar": true,
   "skip_h1_title": true,
   "title_cell": "Table of Contents",
   "title_sidebar": "Contents",
   "toc_cell": false,
   "toc_position": {
    "height": "calc(100% - 180px)",
    "left": "10px",
    "top": "150px",
    "width": "294.237px"
   },
   "toc_section_display": true,
   "toc_window_display": true
  }
 },
 "nbformat": 4,
 "nbformat_minor": 5
}
